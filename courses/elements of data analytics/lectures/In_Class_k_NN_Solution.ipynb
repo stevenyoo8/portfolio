{
  "cells": [
    {
      "cell_type": "markdown",
      "metadata": {
        "id": "IIezEWJPh9G1"
      },
      "source": [
        "## **K-NN and Cross-Validation (from Scratch)**"
      ]
    },
    {
      "cell_type": "markdown",
      "metadata": {
        "id": "YINqYMtZFeor"
      },
      "source": [
        "### **Import Libraries and Load the Dataset**"
      ]
    },
    {
      "cell_type": "code",
      "execution_count": 17,
      "metadata": {
        "id": "Q9cNlyfbEjp0"
      },
      "outputs": [],
      "source": [
        "import numpy as np\n",
        "from sklearn.datasets import load_wine\n",
        "\n",
        "data = load_wine()\n",
        "X, y = data.data, data.target"
      ]
    },
    {
      "cell_type": "markdown",
      "metadata": {
        "id": "TI3aCSHPEofv"
      },
      "source": [
        "### **Implement the Euclidean distance function**\n",
        "\n",
        "* Implement the Euclidean distance function for n-dimensional points."
      ]
    },
    {
      "cell_type": "code",
      "execution_count": 18,
      "metadata": {
        "id": "oCsJC8aVEp-g"
      },
      "outputs": [],
      "source": [
        "def euclidean_distance(point1, point2):\n",
        "  \"\"\"\n",
        "    Calculate the Euclidean distance between two points in n-dimensional space.\n",
        "\n",
        "    Parameters:\n",
        "    - point1 (array-like): The first point, represented as an iterable of numerical values.\n",
        "    - point2 (array-like): The second point, represented as an iterable of numerical values.\n",
        "\n",
        "    Returns:\n",
        "    - float: The Euclidean distance between point1 and point2.\n",
        "\n",
        "    Note:\n",
        "    The two points must have the same dimensionality.\n",
        "  \"\"\"\n",
        "  return np.sqrt(np.sum((point1 - point2) ** 2))"
      ]
    },
    {
      "cell_type": "markdown",
      "metadata": {
        "id": "4hoIRgmYEwHB"
      },
      "source": [
        " ### **Implement from scratch a k-NN classifier.**\n",
        "\n",
        " * Create a function to find the k-nearest neighbors of a given data point."
      ]
    },
    {
      "cell_type": "code",
      "execution_count": 19,
      "metadata": {
        "id": "i060ZG-5E0xh"
      },
      "outputs": [],
      "source": [
        "def get_k_nearest_neighbors(X_train, test_point, k):\n",
        "  \"\"\"\n",
        "    Identify the indices of the k-nearest neighbors of a given test point from a set of training points.\n",
        "\n",
        "    Parameters:\n",
        "    - X_train (array-like): A collection of training points, where each point is represented as an iterable of numerical values.\n",
        "    - test_point (array-like): The test point for which the k-nearest neighbors need to be found, represented as an iterable of numerical values.\n",
        "    - k (int): The number of nearest neighbors to retrieve.\n",
        "\n",
        "    Returns:\n",
        "    - array-like: Indices of the k-nearest training points to the test point.\n",
        "\n",
        "    Note:\n",
        "    Uses the Euclidean distance to compute the proximity between points.\n",
        "  \"\"\"\n",
        "  # distances is the array of distances between a test point and every point in the training set\n",
        "  distances = [euclidean_distance(test_point, train_point) for train_point in X_train] # notice the call to the function euclidian_distance()\n",
        "  k_nearest = np.argsort(distances)[:k] # # np.argsort() is particularly useful in algorithms like k-NN where we want to find the indices of the nearest neighbors (smallest distances) without actually sorting the entire distance array.\n",
        "  return k_nearest"
      ]
    },
    {
      "cell_type": "markdown",
      "metadata": {
        "id": "F4Bjzm6rE7BR"
      },
      "source": [
        "### **Write a function to predict the class of a given data point using k-NN based on majority voting.**"
      ]
    },
    {
      "cell_type": "code",
      "execution_count": 20,
      "metadata": {
        "id": "yDuLtKlnE-i-"
      },
      "outputs": [],
      "source": [
        "def predict(X_train, y_train, test_point, k):\n",
        "  \"\"\"\n",
        "    Predict the label of a given test point based on the majority label of its k-nearest neighbors.\n",
        "\n",
        "    Parameters:\n",
        "    - X_train (array-like): A collection of training points, where each point is represented as an iterable of numerical values.\n",
        "    - y_train (array-like): Labels corresponding to the training points.\n",
        "    - test_point (array-like): The test point for which the label needs to be predicted, represented as an iterable of numerical values.\n",
        "    - k (int): The number of nearest neighbors to consider for prediction.\n",
        "\n",
        "    Returns:\n",
        "    - int or str: Predicted label for the test point based on majority voting among its k-nearest neighbors.\n",
        "\n",
        "    Note:\n",
        "    In case of a tie (i.e., multiple labels having the same count among the k-nearest neighbors), the label returned is based on the order in the data.\n",
        "  \"\"\"\n",
        "  k_nearest = get_k_nearest_neighbors(X_train, test_point, k) # notice the call to the function get_k_nearest_neighbors()\n",
        "  k_nearest_labels = [y_train[i] for i in k_nearest]\n",
        "  return max(k_nearest_labels, key=k_nearest_labels.count)"
      ]
    },
    {
      "cell_type": "markdown",
      "metadata": {
        "id": "f7YL-BhVF_hD"
      },
      "source": [
        "### **Implement Cross-Validation**\n",
        "\n",
        "* Create a function that partitions the dataset into k folds.\n",
        "* For each fold, treat it once as a validation set while the k-1 remaining folds form the training set.\n",
        "* Calculate accuracy for each fold.\n",
        "* Return the average accuracy across all folds.\n",
        "\n",
        "\n"
      ]
    },
    {
      "cell_type": "code",
      "execution_count": 21,
      "metadata": {
        "id": "eBzqdXkZGDgQ"
      },
      "outputs": [],
      "source": [
        "def k_fold_split(X, y, k, random_seed=42):\n",
        "    \"\"\"\n",
        "    Generates indices for k consecutive folds for cross-validation.\n",
        "\n",
        "    Parameters:\n",
        "    - X (array-like): Features of the dataset.\n",
        "    - y (array-like): Target labels corresponding to the dataset.\n",
        "    - k (int): Number of folds for cross-validation.\n",
        "    - random_seed (int, optional): Seed for random number generator for reproducibility. Default is None.\n",
        "\n",
        "    Returns:\n",
        "    - list of array-like: List of indices for each of the k folds.\n",
        "\n",
        "    Note:\n",
        "    The function does not split the dataset itself, but rather provides indices for each fold.\n",
        "    \"\"\"\n",
        "    np.random.seed(random_seed)\n",
        "    indices = np.random.permutation(len(X))\n",
        "    # Determine the size of each fold\n",
        "    # Here, we're determining the base size of each fold.\n",
        "    # The // operator is a floor division, which means it will\n",
        "    # give the integer quotient of the division. So, len(X) // k\n",
        "    # gives the size of each fold if the dataset X was perfectly\n",
        "    # divisible by k. The multiplication by k creates a list where\n",
        "    # each entry represents the size of a fold. At this point, each fold has the same size.\n",
        "    fold_sizes = [len(X) // k] * k\n",
        "\n",
        "    # If not be perfectly divisible by k. The remainder when len(X) is divided by k is given by len(X) % k\n",
        "    # ensuring each fold has roughly the same number of samples.\n",
        "    for i in range(len(X) % k):\n",
        "        fold_sizes[i] += 1\n",
        "\n",
        "    all_folds = []\n",
        "    current = 0\n",
        "    for fold_size in fold_sizes:\n",
        "        start, stop = current, current + fold_size\n",
        "        all_folds.append(indices[start:stop])\n",
        "        current = stop\n",
        "\n",
        "    return all_folds"
      ]
    },
    {
      "cell_type": "markdown",
      "metadata": {
        "id": "IqzthNsxeo3s"
      },
      "source": [
        "### **Function to perform k-NN and evaluate its performance using cross-validation**"
      ]
    },
    {
      "cell_type": "code",
      "execution_count": 22,
      "metadata": {
        "id": "txV_YOY9eoSH"
      },
      "outputs": [],
      "source": [
        "import matplotlib.pyplot as plt\n",
        "\n",
        "def cross_val_score_with_scores(X, y, k, cv):\n",
        "    \"\"\"\n",
        "    Evaluates the performance of the k-NN algorithm using k-fold cross-validation and returns accuracy scores for each fold.\n",
        "\n",
        "    Parameters:\n",
        "    - X (array-like): Features of the dataset.\n",
        "    - y (array-like): Target labels corresponding to the dataset.\n",
        "    - k (int): Number of nearest neighbors to consider for the k-NN prediction.\n",
        "    - cv (int): Number of folds for cross-validation.\n",
        "\n",
        "    Returns:\n",
        "    - list of float: Accuracy scores of the k-NN algorithm for each fold.\n",
        "\n",
        "    Note:\n",
        "    The function internally uses the `predict` function for k-NN prediction.\n",
        "    \"\"\"\n",
        "    fold_indices = k_fold_split(X, y, cv)\n",
        "    scores = []\n",
        "    for i in range(cv):\n",
        "        validation_idx = fold_indices[i]\n",
        "        train_idx = [idx for j in range(cv) if j != i for idx in fold_indices[j]]\n",
        "\n",
        "        X_train, X_val = X[train_idx], X[validation_idx]\n",
        "        y_train, y_val = y[train_idx], y[validation_idx]\n",
        "\n",
        "        predictions = [predict(X_train, y_train, test_point, k) for test_point in X_val]\n",
        "        accuracy = np.mean(np.array(predictions) == y_val)\n",
        "        print(accuracy)\n",
        "        scores.append(accuracy)\n",
        "\n",
        "    return scores"
      ]
    },
    {
      "cell_type": "markdown",
      "metadata": {
        "id": "LHzWDHtrlEO7"
      },
      "source": [
        "### **Visualize**"
      ]
    },
    {
      "cell_type": "code",
      "execution_count": 23,
      "metadata": {
        "colab": {
          "base_uri": "https://localhost:8080/",
          "height": 576
        },
        "id": "wP2j5dFulCcB",
        "outputId": "a29290f0-3411-40f1-b7fb-4eb529e9f352"
      },
      "outputs": [
        {
          "name": "stdout",
          "output_type": "stream",
          "text": [
            "0.8055555555555556\n",
            "0.6111111111111112\n",
            "0.6666666666666666\n",
            "0.6571428571428571\n",
            "0.8571428571428571\n"
          ]
        },
        {
          "data": {
            "image/png": "[encoded data removed]",
            "text/plain": [
              "<Figure size 800x500 with 1 Axes>"
            ]
          },
          "metadata": {},
          "output_type": "display_data"
        }
      ],
      "source": [
        " # Call the modified cross-validation function for k=3 and cv=5 (5 folds)\n",
        "folds=5\n",
        "scores = cross_val_score_with_scores(X, y, k=3, cv=folds)\n",
        "\n",
        "\n",
        "# Plot the results\n",
        "plt.figure(figsize=(8, 5))\n",
        "plt.plot(range(1, folds+1), scores, marker='o', linestyle='-', color='b')\n",
        "plt.title('Cross-Validation Scores for k=3')\n",
        "plt.xlabel('Fold Number')\n",
        "plt.ylabel('Accuracy')\n",
        "plt.xticks(range(1, folds+1))\n",
        "plt.grid(True)\n",
        "plt.show()"
      ]
    }
  ],
  "metadata": {
    "colab": {
      "provenance": []
    },
    "kernelspec": {
      "display_name": "Python 3",
      "name": "python3"
    },
    "language_info": {
      "name": "python"
    }
  },
  "nbformat": 4,
  "nbformat_minor": 0
}
