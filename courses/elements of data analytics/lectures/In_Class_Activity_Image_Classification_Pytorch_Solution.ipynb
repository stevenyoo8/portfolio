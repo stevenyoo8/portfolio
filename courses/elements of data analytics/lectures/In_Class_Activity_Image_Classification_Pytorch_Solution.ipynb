{
  "cells": [
    {
      "cell_type": "markdown",
      "metadata": {
        "id": "TOwaR-DPTmzs"
      },
      "source": [
        "## **Image Classification with Neural Networks and PyTorch**\n",
        "\n",
        "\n",
        "Using the famous [MNIST dataset](https://en.wikipedia.org/wiki/MNIST_database), which consists of handwritten digits (0 through 9). We'll use PyTorch to create a basic feed-forward neural network for image classification."
      ]
    },
    {
      "cell_type": "code",
      "execution_count": 1,
      "metadata": {
        "id": "Qpy-c7udTYH5"
      },
      "outputs": [],
      "source": [
        "import torch\n",
        "import torch.nn as nn\n",
        "import torch.optim as optim\n",
        "import torchvision\n",
        "import torchvision.transforms as transforms"
      ]
    },
    {
      "cell_type": "markdown",
      "metadata": {
        "id": "p6hfeOUoVr-p"
      },
      "source": [
        "## **1. Load the Dataset**\n",
        "\n",
        "PyTorch makes it very easy to download and use popular datasets like MNIST through the torchvision package."
      ]
    },
    {
      "cell_type": "code",
      "execution_count": 2,
      "metadata": {
        "id": "ZYJLQ_E_Tm8s"
      },
      "outputs": [],
      "source": [
        "# Transform to convert data to tensor and normalize\n",
        "transform = transforms.Compose([transforms.ToTensor(), transforms.Normalize((0.5,), (0.5,))])\n",
        "\n",
        "# Download and load the training data\n",
        "trainset = torchvision.datasets.MNIST(root='./data', train=True, download=True, transform=transform)\n",
        "trainloader = torch.utils.data.DataLoader(trainset, batch_size=4, shuffle=True, num_workers=2)\n",
        "\n",
        "# Download and load the test data\n",
        "testset = torchvision.datasets.MNIST(root='./data', train=False, download=True, transform=transform)\n",
        "testloader = torch.utils.data.DataLoader(testset, batch_size=4, shuffle=False, num_workers=2)\n"
      ]
    },
    {
      "cell_type": "markdown",
      "metadata": {
        "id": "OUky2vJ8TnFy"
      },
      "source": [
        "## **2. Define the Neural Network**\n",
        "\n",
        "We will define a simple feed-forward neural network with one hidden layer.\n",
        "\n",
        "The following is how we write [a class in Python](https://docs.python.org/3/tutorial/classes.html). For the sake of this exercise, you don't need to know everything about Python classes, however, if you would to take your Python skills to the next level, it is a good idea to start learning how to implement and use classes in Python.\n",
        "\n",
        "\n",
        "**Some PyTorch specific terms/methods explained**\n",
        "\n",
        "*  `nn.Linear` is a module in PyTorch used to apply a linear transformation to the incoming data. In the context of neural networks, it represents a fully connected layer (also known as a dense layer). It has two main parameters and an optional bias parameter: `in_features`, an integer. This is the number of input features (or neurons) to the layer. It specifies the size of the input to this layer. `out_features`, an integer. This is the number of output features (or neurons) from the layer. It defines the size of the output produced by this layer, and it also indicates the number of neurons in the layer.\n",
        "\n",
        "* Each image in the MNIST dataset is 28x28 pixels. When we feed an image into the neural network, we flatten it into a 1-dimensional vector. So, the size of the input for the first layer is 28 x 28 = 784. The output size of this layer is 500 neurons, which means this layer will have 500 outputs.\n",
        "\n",
        "* In PyTorch, the `view()` method of a tensor is used to reshape it. The first argument to `view()` is `-1`, which means \"whatever is needed\", allowing PyTorch to automatically infer the required dimension based on the original tensor's size and the other specified dimensions. The second argument is 28 * 28, which specifies the desired size after flattening. In the context of the MNIST dataset, where a batch of images is being processed, this line will flatten each image in the batch while preserving the batch size. The -1 will be inferred as the batch size.\n",
        "\n",
        "For example, if the input tensor x has a shape of `[batch_size, 1, 28, 28]` (which is typical for a batch of grayscale images in PyTorch), after the `view()` operation, it will have a shape of `[batch_size, 784]`.\n",
        "\n",
        "* In the model below, `x` represents the data (or tensor) being processed through the neural network. As the data progresses through each layer or operation, it undergoes transformations. The transformed data is then assigned back to the variable `x`, effectively updating its value at each step. This is a common idiom in PyTorch to sequentially process data through the layers of a network."
      ]
    },
    {
      "cell_type": "code",
      "execution_count": 3,
      "metadata": {
        "id": "BhoM3RtrTnNB"
      },
      "outputs": [],
      "source": [
        "class Net(nn.Module):\n",
        "    def __init__(self):\n",
        "        super(Net, self).__init__()\n",
        "        self.fc1 = nn.Linear(28 * 28, 500)  # input layer\n",
        "        self.fc2 = nn.Linear(500, 10) # output layer, Since MNIST has 10 classes (digits 0-9), we have 10 neurons in the output layer. Each neuron gives the score or likelihood of a particular class/digit.\n",
        "\n",
        "    def forward(self, x):\n",
        "\n",
        "        x = x.view(-1, 28 * 28)  # flatten the tensor\n",
        "        x = torch.relu(self.fc1(x))\n",
        "        x = self.fc2(x)\n",
        "        return x\n",
        "\n",
        "# Instantiate the model\n",
        "net = Net()\n"
      ]
    },
    {
      "cell_type": "markdown",
      "metadata": {
        "id": "x8WRiTXATnTt"
      },
      "source": [
        "## **3. Define the Loss Function and Optimizer**\n",
        "\n",
        "We'll use the Cross Entropy Loss as our loss function and the SGD (Stochastic Gradient Descent) optimizer."
      ]
    },
    {
      "cell_type": "code",
      "execution_count": 4,
      "metadata": {
        "id": "fdoLCXuBWDoA"
      },
      "outputs": [],
      "source": [
        "criterion = nn.CrossEntropyLoss()\n",
        "optimizer = optim.SGD(net.parameters(), lr=0.001, momentum=0.9)"
      ]
    },
    {
      "cell_type": "markdown",
      "metadata": {
        "id": "kA--QXP0WGsI"
      },
      "source": [
        "## **4. Train the Model**\n",
        "\n",
        "This is the main loop where our model learns. We will run it for 5 epochs as an example."
      ]
    },
    {
      "cell_type": "code",
      "execution_count": 5,
      "metadata": {
        "colab": {
          "base_uri": "https://localhost:8080/"
        },
        "id": "XYcj7bLeWGEa",
        "outputId": "499d7c6e-c76f-42cf-c05e-4215606b5de1"
      },
      "outputs": [
        {
          "name": "stdout",
          "output_type": "stream",
          "text": [
            "[1,  2000] loss: 0.636\n",
            "[1,  4000] loss: 0.343\n",
            "[1,  6000] loss: 0.296\n",
            "[1,  8000] loss: 0.244\n",
            "[1, 10000] loss: 0.234\n",
            "[1, 12000] loss: 0.192\n",
            "[1, 14000] loss: 0.188\n",
            "[2,  2000] loss: 0.149\n",
            "[2,  4000] loss: 0.145\n",
            "[2,  6000] loss: 0.149\n",
            "[2,  8000] loss: 0.132\n",
            "[2, 10000] loss: 0.136\n",
            "[2, 12000] loss: 0.120\n",
            "[2, 14000] loss: 0.134\n",
            "[3,  2000] loss: 0.114\n",
            "[3,  4000] loss: 0.101\n",
            "[3,  6000] loss: 0.099\n",
            "[3,  8000] loss: 0.099\n",
            "[3, 10000] loss: 0.096\n",
            "[3, 12000] loss: 0.093\n",
            "[3, 14000] loss: 0.095\n",
            "[4,  2000] loss: 0.074\n",
            "[4,  4000] loss: 0.084\n",
            "[4,  6000] loss: 0.084\n",
            "[4,  8000] loss: 0.078\n",
            "[4, 10000] loss: 0.075\n",
            "[4, 12000] loss: 0.074\n",
            "[4, 14000] loss: 0.072\n",
            "[5,  2000] loss: 0.064\n",
            "[5,  4000] loss: 0.058\n",
            "[5,  6000] loss: 0.061\n",
            "[5,  8000] loss: 0.067\n",
            "[5, 10000] loss: 0.057\n",
            "[5, 12000] loss: 0.068\n",
            "[5, 14000] loss: 0.063\n",
            "Finished Training\n"
          ]
        }
      ],
      "source": [
        "for epoch in range(5):  # loop over the dataset multiple times\n",
        "\n",
        "    # We initialize running_loss to zero at the beginning of each epoch to keep track of the accumulated loss over multiple batches.\n",
        "    running_loss = 0.0\n",
        "\n",
        "    #This is the inner loop. It iterates over the training data in batches. The trainloader is essentially a generator (https://wiki.python.org/moin/Generators) that provides batches of training data.\n",
        "    for i, data in enumerate(trainloader, 0):\n",
        "\n",
        "        # For each batch, data contains the input images (inputs) and their corresponding true labels (labels).\n",
        "        inputs, labels = data\n",
        "\n",
        "        # Before computing the gradients in the current training step, we reset (or zero out) any previously computed gradients.\n",
        "        # This is necessary because, in PyTorch, gradients accumulate by default.\n",
        "        optimizer.zero_grad()\n",
        "\n",
        "        # Here, we pass our input batch through the neural network (net).\n",
        "        # This step computes the predicted labels for the input batch. This is called a forward pass.\n",
        "        outputs = net(inputs)   # forward pass\n",
        "\n",
        "        # Given the predicted outputs and the true labels, we compute the loss using our chosen loss\n",
        "        # function (criterion). The loss gives a measure of how wrong the network's predictions were.\n",
        "        loss = criterion(outputs, labels)\n",
        "\n",
        "        # This computes the gradient of the loss with respect to the network's parameters.\n",
        "        # In other words, it determines how much each parameter contributed to the error.\n",
        "        # This is done using the backpropagation algorithm, and it's why this step is often referred to as the \"backward pass.\"\n",
        "        loss.backward()         # backward pass\n",
        "\n",
        "        # This step() updates the network's parameters (weights and biases) using the computed gradients.\n",
        "        # The specific update rule depends on the chosen optimizer (in this case, SGD).\n",
        "        optimizer.step()        # optimize weights\n",
        "\n",
        "        # We accumulate the loss over multiple batches to later calculate the average loss.\n",
        "        running_loss += loss.item()\n",
        "\n",
        "        # Every 2000 batches (a mini-batch is a small subset of the training data), we print the average loss.\n",
        "        if i % 2000 == 1999:\n",
        "            print('[%d, %5d] loss: %.3f' % (epoch + 1, i + 1, running_loss / 2000))\n",
        "\n",
        "            # After printing, we reset the running_loss to zero to start accumulating for the next set of 2000 batches.\n",
        "            running_loss = 0.0\n",
        "\n",
        "print('Finished Training')\n"
      ]
    },
    {
      "cell_type": "markdown",
      "metadata": {
        "id": "5CH_3L-QZl0H"
      },
      "source": [
        "**Interpretation of results from training epochs**\n",
        "\n",
        "* As the loss decreases, it suggests the model's predictions are getting closer to the actual labels (convergence), indicating the model is converging to a good solution.\n",
        "\n",
        "* If the loss decreases too much and becomes extremely low, there might be a concern of overfitting, where the model performs well on the training data but might not generalize well to unseen data.\n",
        "\n",
        "* Some fluctuation in loss values (e.g., from 0.092 in the third epoch to 0.104 and then down to 0.097) is normal, especially in mini-batch training, due to the inherent variability in subsets of the data.\n",
        "\n",
        "* By the fifth epoch, the loss values are significantly lower, ranging from 0.066 to 0.069. The decreasing trend in loss values indicates that the model is converging and that the training process is effective.\n",
        "\n"
      ]
    },
    {
      "cell_type": "markdown",
      "metadata": {
        "id": "0eOgmvZ7WGUb"
      },
      "source": [
        "## **5. Test the Model**\n",
        "Now, we'll test the model using the test dataset."
      ]
    },
    {
      "cell_type": "code",
      "execution_count": 6,
      "metadata": {
        "colab": {
          "base_uri": "https://localhost:8080/"
        },
        "id": "eUvvyxaBWTc4",
        "outputId": "0664bf17-2f7a-4b41-f2b9-dca97fcb31bd"
      },
      "outputs": [
        {
          "name": "stdout",
          "output_type": "stream",
          "text": [
            "Accuracy of the network on the 10000 test images: 97 %\n"
          ]
        }
      ],
      "source": [
        "# Initialize counters for the total number of images and the number of correctly predicted images\n",
        "correct = 0\n",
        "total = 0\n",
        "\n",
        "with torch.no_grad():\n",
        "\n",
        "  # Iterate over batches of test data provided by the testloader\n",
        "\n",
        "    for data in testloader:\n",
        "        images, labels = data\n",
        "        outputs = net(images)\n",
        "\n",
        "        # Get the predicted labels.\n",
        "        # `torch.max` returns the maximum value for each image's prediction\n",
        "        # and its corresponding index (label). We're only interested in the labels, hence the '_,', which is a placeholder\n",
        "        # for a variable that we don't care about and won't use.\n",
        "        _, predicted = torch.max(outputs.data, 1)\n",
        "        total += labels.size(0)\n",
        "\n",
        "        # Increment the correct count by the number of images that were correctly predicted\n",
        "        # `(predicted == labels)` returns a Boolean tensor. `sum()` counts the True values (correct predictions).\n",
        "        # `.item()` extracts the scalar value from the resulting tensor.\n",
        "        correct += (predicted == labels).sum().item()\n",
        "\n",
        "print('Accuracy of the network on the 10000 test images: %d %%' % (100 * correct / total))\n"
      ]
    },
    {
      "cell_type": "code",
      "execution_count": 7,
      "metadata": {
        "colab": {
          "base_uri": "https://localhost:8080/",
          "height": 229
        },
        "id": "7hvYUbSyhYq3",
        "outputId": "150145fa-db4d-41a1-de43-483e427448b1"
      },
      "outputs": [
        {
          "data": {
            "image/png": "[encoded data removed]",
            "text/plain": [
              "<Figure size 640x480 with 1 Axes>"
            ]
          },
          "metadata": {},
          "output_type": "display_data"
        },
        {
          "name": "stdout",
          "output_type": "stream",
          "text": [
            "True Labels:  7 - seven 2 - two 1 - one 0 - zero\n",
            "Predicted:    7 - seven 2 - two 1 - one 0 - zero\n"
          ]
        }
      ],
      "source": [
        "import matplotlib.pyplot as plt\n",
        "import numpy as np\n",
        "\n",
        "# Function to show an image\n",
        "def imshow(img):\n",
        "    img = img / 2 + 0.5  # unnormalize\n",
        "    npimg = img.numpy()\n",
        "    plt.imshow(np.transpose(npimg, (1, 2, 0)))\n",
        "    plt.show()\n",
        "\n",
        "# Get some random test images\n",
        "dataiter = iter(testloader)\n",
        "images, labels = next(dataiter)\n",
        "\n",
        "# Predict labels\n",
        "outputs = net(images)\n",
        "_, predicted = torch.max(outputs, 1)\n",
        "\n",
        "# Print the images with true and predicted labels\n",
        "imshow(torchvision.utils.make_grid(images))\n",
        "print('True Labels: ', ' '.join('%5s' % trainset.classes[labels[j]] for j in range(4)))\n",
        "print('Predicted:   ', ' '.join('%5s' % trainset.classes[predicted[j]] for j in range(4)))"
      ]
    },
    {
      "cell_type": "markdown",
      "metadata": {
        "id": "sr61wVSWbG4N"
      },
      "source": [
        "## **TODO: Exercise 1 -  Two-Layer Neural Network**\n",
        "\n",
        "* Now we are going to spice it up a little and implement a neural network with two hidden layers. The rest of the code (data loading, loss function definition, optimizer, training loop, etc.) will remain the same as before. The added hidden layer provides the model with additional capacity to learn more complex relationships in the data. However, it also introduces more parameters, which might increase the risk of overfitting if not regularized or if trained on a small dataset.\n",
        "\n",
        "\n",
        "This Neural Network will have the following properties:\n",
        "\n",
        "* Input Layer: This layer will flatten the image (28x28 pixels) into a 784-dimensional vector.\n",
        "* First Hidden Layer: 500 neurons with a ReLU activation function.\n",
        "* Second Hidden Layer: 250 neurons with a ReLU activation function.\n",
        "* Output Layer: 10 neurons (one for each digit from 0 to 9). This will not have an activation function because we're using the CrossEntropyLoss, which implicitly applies the softmax function.\n",
        "\n",
        "\n"
      ]
    },
    {
      "cell_type": "code",
      "execution_count": 8,
      "metadata": {
        "id": "PjAh9ey4dPyE"
      },
      "outputs": [],
      "source": [
        "# Implement the class TwoLayerNet as described above.\n",
        "\n",
        "class TwoLayerNet(nn.Module):\n",
        "    def __init__(self):\n",
        "\n",
        "        # TwoLayerNet is a subclass of nn.Module. In PyTorch, custom neural network architectures are created by subclassing nn.Module.\n",
        "        # nn.Module itself has an __init__ method that sets up some internal functionalities required for the neural network. Before we\n",
        "        # add our custom initialization (like defining layers) in our subclass (TwoLayerNet), we need to ensure that the initialization\n",
        "        # of the parent class (nn.Module) has been completed.\n",
        "        super(TwoLayerNet, self).__init__()\n",
        "\n",
        "        # Input to First Hidden Layer\n",
        "        # Write your code here\n",
        "        self.fc1 = nn.Linear(28 * 28, 500)\n",
        "\n",
        "        # First Hidden to Second Hidden Layer with 500 neuron inputs and 250 outputs\n",
        "        # Write your code here\n",
        "        self.fc2 = nn.Linear(500, 250)\n",
        "\n",
        "        # Second Hidden to Output Layer\n",
        "        # Write your code here\n",
        "        self.fc3 = nn.Linear(250, 10)\n",
        "        #pass # delete this line after implementing the __init__\n",
        "\n",
        "    def forward(self, x):\n",
        "      # Flatten the input images\n",
        "      # Write your code here\n",
        "      x = x.view(-1, 28 * 28)\n",
        "\n",
        "      # First hidden layer with ReLU activation\n",
        "      # Write your code here\n",
        "      x = torch.relu(self.fc1(x))\n",
        "\n",
        "      # Second hidden layer with ReLU activation\n",
        "      # Write your code here\n",
        "      x = torch.relu(self.fc2(x))\n",
        "\n",
        "      # Output layer\n",
        "      # Write your code here\n",
        "      x = self.fc3(x)\n",
        "\n",
        "      return x\n",
        "\n",
        "# Instantiate the model\n",
        "two_layer_net = TwoLayerNet()"
      ]
    },
    {
      "cell_type": "markdown",
      "metadata": {
        "id": "XTqAsJ1PgC2o"
      },
      "source": [
        "## **EXercise 2 - Define Loss Function and Optimizer**\n",
        "Use Cross Entropy Loss and the SGD optimizer, as before."
      ]
    },
    {
      "cell_type": "code",
      "execution_count": 9,
      "metadata": {
        "id": "26EbY75bbHBs"
      },
      "outputs": [],
      "source": [
        "# Write your code here\n",
        "criterion = nn.CrossEntropyLoss()\n",
        "optimizer = optim.SGD(net.parameters(), lr=0.001, momentum=0.9) # in SGD, momentum is a hyperparameter that helps accelerate convergence and mitigate oscillations in the updates of weights.\n"
      ]
    },
    {
      "cell_type": "markdown",
      "metadata": {
        "id": "dRKSY9pDgQ2k"
      },
      "source": [
        "## **Exercise 3 - Train the Model**\n",
        "\n",
        "For visualization purposes, we'll keep track of the loss values in a list."
      ]
    },
    {
      "cell_type": "code",
      "execution_count": 10,
      "metadata": {
        "colab": {
          "base_uri": "https://localhost:8080/",
          "height": 1000
        },
        "id": "Pe7AriangYrm",
        "outputId": "8c13137f-197e-462b-ae63-5b30059c147f"
      },
      "outputs": [
        {
          "name": "stdout",
          "output_type": "stream",
          "text": [
            "[Epoch 1, Mini-batch 2000] loss: 0.052\n",
            "[Epoch 1, Mini-batch 4000] loss: 0.052\n",
            "[Epoch 1, Mini-batch 6000] loss: 0.049\n",
            "[Epoch 1, Mini-batch 8000] loss: 0.052\n",
            "[Epoch 1, Mini-batch 10000] loss: 0.061\n",
            "[Epoch 1, Mini-batch 12000] loss: 0.048\n",
            "[Epoch 1, Mini-batch 14000] loss: 0.059\n",
            "[Epoch 2, Mini-batch 2000] loss: 0.035\n",
            "[Epoch 2, Mini-batch 4000] loss: 0.046\n",
            "[Epoch 2, Mini-batch 6000] loss: 0.047\n",
            "[Epoch 2, Mini-batch 8000] loss: 0.046\n",
            "[Epoch 2, Mini-batch 10000] loss: 0.052\n",
            "[Epoch 2, Mini-batch 12000] loss: 0.048\n",
            "[Epoch 2, Mini-batch 14000] loss: 0.042\n",
            "[Epoch 3, Mini-batch 2000] loss: 0.043\n",
            "[Epoch 3, Mini-batch 4000] loss: 0.038\n",
            "[Epoch 3, Mini-batch 6000] loss: 0.037\n",
            "[Epoch 3, Mini-batch 8000] loss: 0.042\n",
            "[Epoch 3, Mini-batch 10000] loss: 0.035\n",
            "[Epoch 3, Mini-batch 12000] loss: 0.037\n",
            "[Epoch 3, Mini-batch 14000] loss: 0.041\n",
            "[Epoch 4, Mini-batch 2000] loss: 0.026\n",
            "[Epoch 4, Mini-batch 4000] loss: 0.028\n",
            "[Epoch 4, Mini-batch 6000] loss: 0.036\n",
            "[Epoch 4, Mini-batch 8000] loss: 0.034\n",
            "[Epoch 4, Mini-batch 10000] loss: 0.034\n",
            "[Epoch 4, Mini-batch 12000] loss: 0.034\n",
            "[Epoch 4, Mini-batch 14000] loss: 0.036\n",
            "[Epoch 5, Mini-batch 2000] loss: 0.030\n",
            "[Epoch 5, Mini-batch 4000] loss: 0.028\n",
            "[Epoch 5, Mini-batch 6000] loss: 0.033\n",
            "[Epoch 5, Mini-batch 8000] loss: 0.024\n",
            "[Epoch 5, Mini-batch 10000] loss: 0.031\n",
            "[Epoch 5, Mini-batch 12000] loss: 0.028\n",
            "[Epoch 5, Mini-batch 14000] loss: 0.032\n",
            "Finished Training\n"
          ]
        },
        {
          "data": {
            "image/png": "[encoded data removed]",
            "text/plain": [
              "<Figure size 640x480 with 1 Axes>"
            ]
          },
          "metadata": {},
          "output_type": "display_data"
        }
      ],
      "source": [
        "import matplotlib.pyplot as plt\n",
        "\n",
        "num_epochs = 5\n",
        "loss_values = []\n",
        "\n",
        "for epoch in range(num_epochs):\n",
        "    running_loss = 0.0\n",
        "    for i, data in enumerate(trainloader, 0):\n",
        "        inputs, labels = data\n",
        "        optimizer.zero_grad()\n",
        "        outputs = net(inputs)\n",
        "        loss = criterion(outputs, labels)\n",
        "        loss.backward()\n",
        "        optimizer.step()\n",
        "\n",
        "        running_loss += loss.item()\n",
        "        if i % 2000 == 1999:\n",
        "            avg_loss = running_loss / 2000\n",
        "            print(f\"[Epoch {epoch + 1}, Mini-batch {i + 1}] loss: {avg_loss:.3f}\")\n",
        "            loss_values.append(avg_loss)\n",
        "            running_loss = 0.0\n",
        "\n",
        "print(\"Finished Training\")\n",
        "\n",
        "# Visualization of the training loss\n",
        "plt.plot(loss_values)\n",
        "plt.xlabel('Mini-batch (x2000)')\n",
        "plt.ylabel('Loss')\n",
        "plt.title('Training Loss over Time')\n",
        "plt.show()\n"
      ]
    },
    {
      "cell_type": "markdown",
      "metadata": {
        "id": "WmwaThI2gcoK"
      },
      "source": [
        "## **Exercise 4: Test the Model**\n"
      ]
    },
    {
      "cell_type": "code",
      "execution_count": 11,
      "metadata": {
        "colab": {
          "base_uri": "https://localhost:8080/"
        },
        "id": "Y_MUk1ZhgiLQ",
        "outputId": "52e068d4-86a3-4d31-8ad1-a6e710cabb9d"
      },
      "outputs": [
        {
          "name": "stdout",
          "output_type": "stream",
          "text": [
            "Accuracy of the network on the 10,000 test images: 97.66%\n"
          ]
        }
      ],
      "source": [
        "correct = 0\n",
        "total = 0\n",
        "with torch.no_grad():\n",
        "    for data in testloader:\n",
        "        images, labels = data\n",
        "        outputs = net(images)\n",
        "        _, predicted = torch.max(outputs.data, 1)\n",
        "        total += labels.size(0)\n",
        "        correct += (predicted == labels).sum().item()\n",
        "\n",
        "print(f\"Accuracy of the network on the 10,000 test images: {100 * correct / total:.2f}%\")\n"
      ]
    },
    {
      "cell_type": "markdown",
      "metadata": {
        "id": "9_qIRP52bHWF"
      },
      "source": [
        "## **Non-Exhaustive List of Resources to Master PyTorch**\n",
        "\n",
        "* [PyTorch Official Tutorials](https://pytorch.org/tutorials/): This is the official website for PyTorch tutorials. They offer a wide range of tutorials, from beginner to advanced levels.\n",
        "* [Deep Learning with PyTorch](https://pytorch.org/tutorials/beginner/deep_learning_60min_blitz.html): This is one of the official beginner-friendly introductions to PyTorch. It covers the basics in an hour.\n",
        "* [PyTorch Fundamentals](https://pytorch.org/tutorials/beginner/nn_tutorial.html): This is a set of tutorials created by Yann LeCun, one of the pioneers of deep learning. It covers the basics and fundamentals of PyTorch.\n",
        "* [Intro to Deep Learning with PyTorch](https://www.udacity.com/course/deep-learning-pytorch--ud188): Udacity offers a free course on deep learning using PyTorch. It's interactive and includes video lectures.\n",
        "* [Introduction to Deep Learning with PyTorch](https://www.coursera.org/learn/deep-neural-networks-with-pytorch): This is a course on Coursera that dives deep into neural networks, deep learning, and PyTorch.\n",
        "* [PyTorch Tutorial for Beginners](https://www.youtube.com/playlist?list=PLqnslRFeH2UrcDBWF5mfPGpqQDSta6VK4): This is a YouTube playlist that covers PyTorch from the basics to more advanced topics.\n",
        "* [Official Documentation](https://pytorch.org/docs/stable/index.html): Always a good idea to get acquainted with the official documentation, as it's a comprehensive resource on all PyTorch functions and modules."
      ]
    }
  ],
  "metadata": {
    "colab": {
      "provenance": []
    },
    "kernelspec": {
      "display_name": "Python 3",
      "name": "python3"
    },
    "language_info": {
      "codemirror_mode": {
        "name": "ipython",
        "version": 3
      },
      "file_extension": ".py",
      "mimetype": "text/x-python",
      "name": "python",
      "nbconvert_exporter": "python",
      "pygments_lexer": "ipython3",
      "version": "3.11.2"
    }
  },
  "nbformat": 4,
  "nbformat_minor": 0
}
