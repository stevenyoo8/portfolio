{
 "cells": [
  {
   "cell_type": "markdown",
   "metadata": {},
   "source": [
    "## **In Class Activity: Feature Engineering and Linear Regression**"
   ]
  },
  {
   "cell_type": "markdown",
   "metadata": {},
   "source": [
    "### **Dataset** \n",
    "\n",
    "\n",
    "* For the following few questions, we will use the synthetic generate that we create using NumPy in the cell right below.\n"
   ]
  },
  {
   "cell_type": "code",
   "execution_count": 1,
   "metadata": {},
   "outputs": [
    {
     "data": {
      "text/html": [
       "<div>\n",
       "<style scoped>\n",
       "    .dataframe tbody tr th:only-of-type {\n",
       "        vertical-align: middle;\n",
       "    }\n",
       "\n",
       "    .dataframe tbody tr th {\n",
       "        vertical-align: top;\n",
       "    }\n",
       "\n",
       "    .dataframe thead th {\n",
       "        text-align: right;\n",
       "    }\n",
       "</style>\n",
       "<table border=\"1\" class=\"dataframe\">\n",
       "  <thead>\n",
       "    <tr style=\"text-align: right;\">\n",
       "      <th></th>\n",
       "      <th>x1</th>\n",
       "      <th>x2</th>\n",
       "      <th>x3</th>\n",
       "      <th>x4</th>\n",
       "      <th>Categorical</th>\n",
       "      <th>Temporal</th>\n",
       "      <th>Target</th>\n",
       "    </tr>\n",
       "  </thead>\n",
       "  <tbody>\n",
       "    <tr>\n",
       "      <th>0</th>\n",
       "      <td>-10.00000</td>\n",
       "      <td>102.483571</td>\n",
       "      <td>31.996777</td>\n",
       "      <td>-31.350357</td>\n",
       "      <td>D</td>\n",
       "      <td>2023-03-14</td>\n",
       "      <td>89.966849</td>\n",
       "    </tr>\n",
       "    <tr>\n",
       "      <th>1</th>\n",
       "      <td>-9.97998</td>\n",
       "      <td>98.908679</td>\n",
       "      <td>29.623168</td>\n",
       "      <td>-30.228977</td>\n",
       "      <td>D</td>\n",
       "      <td>2021-04-24</td>\n",
       "      <td>70.743647</td>\n",
       "    </tr>\n",
       "    <tr>\n",
       "      <th>2</th>\n",
       "      <td>-9.95996</td>\n",
       "      <td>102.439245</td>\n",
       "      <td>25.298152</td>\n",
       "      <td>-31.464720</td>\n",
       "      <td>B</td>\n",
       "      <td>2023-06-12</td>\n",
       "      <td>82.779315</td>\n",
       "    </tr>\n",
       "    <tr>\n",
       "      <th>3</th>\n",
       "      <td>-9.93994</td>\n",
       "      <td>106.417555</td>\n",
       "      <td>21.765316</td>\n",
       "      <td>-30.435743</td>\n",
       "      <td>D</td>\n",
       "      <td>2023-06-16</td>\n",
       "      <td>81.158889</td>\n",
       "    </tr>\n",
       "    <tr>\n",
       "      <th>4</th>\n",
       "      <td>-9.91992</td>\n",
       "      <td>97.234044</td>\n",
       "      <td>28.491117</td>\n",
       "      <td>-33.546989</td>\n",
       "      <td>C</td>\n",
       "      <td>2023-03-31</td>\n",
       "      <td>87.103607</td>\n",
       "    </tr>\n",
       "  </tbody>\n",
       "</table>\n",
       "</div>"
      ],
      "text/plain": [
       "         x1          x2         x3         x4 Categorical   Temporal  \\\n",
       "0 -10.00000  102.483571  31.996777 -31.350357           D 2023-03-14   \n",
       "1  -9.97998   98.908679  29.623168 -30.228977           D 2021-04-24   \n",
       "2  -9.95996  102.439245  25.298152 -31.464720           B 2023-06-12   \n",
       "3  -9.93994  106.417555  21.765316 -30.435743           D 2023-06-16   \n",
       "4  -9.91992   97.234044  28.491117 -33.546989           C 2023-03-31   \n",
       "\n",
       "      Target  \n",
       "0  89.966849  \n",
       "1  70.743647  \n",
       "2  82.779315  \n",
       "3  81.158889  \n",
       "4  87.103607  "
      ]
     },
     "execution_count": 1,
     "metadata": {},
     "output_type": "execute_result"
    }
   ],
   "source": [
    "# Creating the synthetic dataset\n",
    "import numpy as np\n",
    "import pandas as pd\n",
    "\n",
    "np.random.seed(42)\n",
    "n = 1000\n",
    "\n",
    "# Numerical Features\n",
    "x1 = np.linspace(-10, 10, n)  # Linear relationship with the target\n",
    "x2 = x1**2 + np.random.randn(n) * 5  # Quadratic relationship with the target\n",
    "x3 = np.random.randn(n) * 5 + 25  # Random data\n",
    "x4 = x1 * 3 + np.random.randn(n) * 2  # Derived from x1, highly correlated\n",
    "\n",
    "# Categorical Feature\n",
    "categories = ['A', 'B', 'C', 'D']\n",
    "weights = [0.1, 0.2, 0.3, 0.4]  # Some categories are more common\n",
    "categorical = np.random.choice(categories, n, p=weights)\n",
    "\n",
    "# Temporal Feature\n",
    "date_range = pd.date_range(start='2021-01-01', periods=n, freq='D')\n",
    "temporal = np.random.choice(date_range, n)\n",
    "\n",
    "# Correctly constructing the target variable by handling the categorical values\n",
    "target_effect_from_category = np.array([categories.index(cat) * 10 for cat in categorical])\n",
    "target = x1 * 2 + x2 + x3 - target_effect_from_category + np.random.randn(n) * 5\n",
    "\n",
    "df_complex = pd.DataFrame({\n",
    "    'x1': x1,\n",
    "    'x2': x2,\n",
    "    'x3': x3,\n",
    "    'x4': x4,\n",
    "    'Categorical': categorical,\n",
    "    'Temporal': temporal,\n",
    "    'Target': target\n",
    "})\n",
    "\n",
    "df_complex.head()"
   ]
  },
  {
   "cell_type": "markdown",
   "metadata": {},
   "source": [
    "### **Exercise 1: Explore the Dataset**\n",
    "\n",
    "* Perform an initial exploratory data analysis (EDA) to understand the nature and types of features present. Begin by checking data types, summary statistics, and the number of unique values for each column."
   ]
  },
  {
   "cell_type": "code",
   "execution_count": 2,
   "metadata": {},
   "outputs": [
    {
     "data": {
      "text/plain": [
       "(x1                    float64\n",
       " x2                    float64\n",
       " x3                    float64\n",
       " x4                    float64\n",
       " Categorical            object\n",
       " Temporal       datetime64[ns]\n",
       " Target                float64\n",
       " dtype: object,\n",
       "                 x1           x2           x3           x4       Target\n",
       " count  1000.000000  1000.000000  1000.000000  1000.000000  1000.000000\n",
       " mean      0.000000    33.496727    25.354181     0.011668    38.952517\n",
       " std       5.782171    30.337650     4.987272    17.495589    34.528747\n",
       " min     -10.000000   -11.564536    10.298057   -34.597583   -30.817826\n",
       " 25%      -5.000000     7.399631    21.968792   -14.849803    11.635290\n",
       " 50%       0.000000    25.145734    25.315386    -0.051376    32.554519\n",
       " 75%       5.000000    57.371003    28.644411    15.299048    60.603381\n",
       " max      10.000000   107.790839    40.965538    34.222753   145.318223,\n",
       " x1             1000\n",
       " x2             1000\n",
       " x3             1000\n",
       " x4             1000\n",
       " Categorical       4\n",
       " Temporal        629\n",
       " Target         1000\n",
       " dtype: int64)"
      ]
     },
     "execution_count": 2,
     "metadata": {},
     "output_type": "execute_result"
    }
   ],
   "source": [
    "# Write your code here \n",
    "\n",
    "data_types = df_complex.dtypes\n",
    "\n",
    "# Summary statistics for numerical columns\n",
    "summary_stats = df_complex.describe()\n",
    "unique_values = df_complex.nunique()\n",
    "\n",
    "data_types, summary_stats, unique_values"
   ]
  },
  {
   "cell_type": "markdown",
   "metadata": {},
   "source": [
    "### **Exercise 2: Linear Regression Model Before Feature Engineering**\n",
    "\n",
    "* Apply a simple linear regression model on the dataset (without any feature engineering) and compute its performance using the R^2 score.\n",
    "\n",
    "* The R^2 score, also known as the coefficient of determination, is a statistical measure that represents the proportion of the variance in the dependent variable that is predictable from the independent variables. It provides a measure of how well the observed outcomes are replicated by the model based on the provided explanatory variables."
   ]
  },
  {
   "cell_type": "code",
   "execution_count": 3,
   "metadata": {},
   "outputs": [
    {
     "name": "stdout",
     "output_type": "stream",
     "text": [
      "R^2 Score before Feature Engineering: 0.8877\n"
     ]
    }
   ],
   "source": [
    "# Write your code here\n",
    "from sklearn.model_selection import train_test_split\n",
    "from sklearn.linear_model import LinearRegression\n",
    "from sklearn.metrics import r2_score\n",
    "import matplotlib.pyplot as plt\n",
    "\n",
    "X_before = df_complex.drop(columns=['Categorical', 'Temporal', 'Target'])\n",
    "y_before = df_complex['Target']\n",
    "X_train_before, X_test_before, y_train_before, y_test_before = train_test_split(X_before, y_before, test_size=0.2, random_state=42)\n",
    "lr_before = LinearRegression()\n",
    "lr_before.fit(X_train_before, y_train_before)\n",
    "y_pred_before = lr_before.predict(X_test_before)\n",
    "r2_before = r2_score(y_test_before, y_pred_before)\n",
    "\n",
    "print(f\"R^2 Score before Feature Engineering: {r2_before:.4f}\")"
   ]
  },
  {
   "cell_type": "markdown",
   "metadata": {},
   "source": [
    "* _Note: The R^2 score for the linear regression model trained on the dataset without any further feature engineering is approximately 0.8877. This indicates that the model is able to explain about 88.77% of the variance in the test dataset._"
   ]
  },
  {
   "cell_type": "markdown",
   "metadata": {},
   "source": [
    "### **Exercise 3: One-Hot Encoding**\n",
    "\n",
    "* Convert the categorical feature (Categorical_1) to a numerical representation using one-hot encoding."
   ]
  },
  {
   "cell_type": "code",
   "execution_count": 4,
   "metadata": {},
   "outputs": [
    {
     "data": {
      "text/html": [
       "<div>\n",
       "<style scoped>\n",
       "    .dataframe tbody tr th:only-of-type {\n",
       "        vertical-align: middle;\n",
       "    }\n",
       "\n",
       "    .dataframe tbody tr th {\n",
       "        vertical-align: top;\n",
       "    }\n",
       "\n",
       "    .dataframe thead th {\n",
       "        text-align: right;\n",
       "    }\n",
       "</style>\n",
       "<table border=\"1\" class=\"dataframe\">\n",
       "  <thead>\n",
       "    <tr style=\"text-align: right;\">\n",
       "      <th></th>\n",
       "      <th>x1</th>\n",
       "      <th>x2</th>\n",
       "      <th>x3</th>\n",
       "      <th>x4</th>\n",
       "      <th>Temporal</th>\n",
       "      <th>Target</th>\n",
       "      <th>Categorical_B</th>\n",
       "      <th>Categorical_C</th>\n",
       "      <th>Categorical_D</th>\n",
       "    </tr>\n",
       "  </thead>\n",
       "  <tbody>\n",
       "    <tr>\n",
       "      <th>0</th>\n",
       "      <td>-10.00000</td>\n",
       "      <td>102.483571</td>\n",
       "      <td>31.996777</td>\n",
       "      <td>-31.350357</td>\n",
       "      <td>2023-03-14</td>\n",
       "      <td>89.966849</td>\n",
       "      <td>0</td>\n",
       "      <td>0</td>\n",
       "      <td>1</td>\n",
       "    </tr>\n",
       "    <tr>\n",
       "      <th>1</th>\n",
       "      <td>-9.97998</td>\n",
       "      <td>98.908679</td>\n",
       "      <td>29.623168</td>\n",
       "      <td>-30.228977</td>\n",
       "      <td>2021-04-24</td>\n",
       "      <td>70.743647</td>\n",
       "      <td>0</td>\n",
       "      <td>0</td>\n",
       "      <td>1</td>\n",
       "    </tr>\n",
       "    <tr>\n",
       "      <th>2</th>\n",
       "      <td>-9.95996</td>\n",
       "      <td>102.439245</td>\n",
       "      <td>25.298152</td>\n",
       "      <td>-31.464720</td>\n",
       "      <td>2023-06-12</td>\n",
       "      <td>82.779315</td>\n",
       "      <td>1</td>\n",
       "      <td>0</td>\n",
       "      <td>0</td>\n",
       "    </tr>\n",
       "    <tr>\n",
       "      <th>3</th>\n",
       "      <td>-9.93994</td>\n",
       "      <td>106.417555</td>\n",
       "      <td>21.765316</td>\n",
       "      <td>-30.435743</td>\n",
       "      <td>2023-06-16</td>\n",
       "      <td>81.158889</td>\n",
       "      <td>0</td>\n",
       "      <td>0</td>\n",
       "      <td>1</td>\n",
       "    </tr>\n",
       "    <tr>\n",
       "      <th>4</th>\n",
       "      <td>-9.91992</td>\n",
       "      <td>97.234044</td>\n",
       "      <td>28.491117</td>\n",
       "      <td>-33.546989</td>\n",
       "      <td>2023-03-31</td>\n",
       "      <td>87.103607</td>\n",
       "      <td>0</td>\n",
       "      <td>1</td>\n",
       "      <td>0</td>\n",
       "    </tr>\n",
       "  </tbody>\n",
       "</table>\n",
       "</div>"
      ],
      "text/plain": [
       "         x1          x2         x3         x4   Temporal     Target  \\\n",
       "0 -10.00000  102.483571  31.996777 -31.350357 2023-03-14  89.966849   \n",
       "1  -9.97998   98.908679  29.623168 -30.228977 2021-04-24  70.743647   \n",
       "2  -9.95996  102.439245  25.298152 -31.464720 2023-06-12  82.779315   \n",
       "3  -9.93994  106.417555  21.765316 -30.435743 2023-06-16  81.158889   \n",
       "4  -9.91992   97.234044  28.491117 -33.546989 2023-03-31  87.103607   \n",
       "\n",
       "   Categorical_B  Categorical_C  Categorical_D  \n",
       "0              0              0              1  \n",
       "1              0              0              1  \n",
       "2              1              0              0  \n",
       "3              0              0              1  \n",
       "4              0              1              0  "
      ]
     },
     "execution_count": 4,
     "metadata": {},
     "output_type": "execute_result"
    }
   ],
   "source": [
    "# Write your code here\n",
    "\n",
    "# One-hot encoding for 'Categorical_1' using pandas `get_dummies()` method which will \n",
    "# convert categorical columns into multiple columns of binary values (0 or 1) representing \n",
    "# the presence of each possible category value.\n",
    "df_encoded = pd.get_dummies(df_complex, columns=['Categorical'], drop_first=True)\n",
    "df_encoded.head()"
   ]
  },
  {
   "cell_type": "markdown",
   "metadata": {},
   "source": [
    "### **Exercise 4: Scaling**\n",
    "\n",
    "* Scale and center the numerical features using Z-score normalization (StandardScaler).\n",
    "* Your resulting dataset should have the numerical columns (`Numerical_1`, `Numerical_2`, and `Numerical_3`) have been successfully scaled and centered using the Z-score normalization (StandardScaler). These columns should have a mean of 0 and a standard deviation of 1."
   ]
  },
  {
   "cell_type": "code",
   "execution_count": 5,
   "metadata": {},
   "outputs": [
    {
     "data": {
      "text/html": [
       "<div>\n",
       "<style scoped>\n",
       "    .dataframe tbody tr th:only-of-type {\n",
       "        vertical-align: middle;\n",
       "    }\n",
       "\n",
       "    .dataframe tbody tr th {\n",
       "        vertical-align: top;\n",
       "    }\n",
       "\n",
       "    .dataframe thead th {\n",
       "        text-align: right;\n",
       "    }\n",
       "</style>\n",
       "<table border=\"1\" class=\"dataframe\">\n",
       "  <thead>\n",
       "    <tr style=\"text-align: right;\">\n",
       "      <th></th>\n",
       "      <th>x1</th>\n",
       "      <th>x2</th>\n",
       "      <th>x3</th>\n",
       "      <th>x4</th>\n",
       "      <th>Temporal</th>\n",
       "      <th>Target</th>\n",
       "      <th>Categorical_B</th>\n",
       "      <th>Categorical_C</th>\n",
       "      <th>Categorical_D</th>\n",
       "    </tr>\n",
       "  </thead>\n",
       "  <tbody>\n",
       "    <tr>\n",
       "      <th>0</th>\n",
       "      <td>-1.730320</td>\n",
       "      <td>2.275106</td>\n",
       "      <td>1.332576</td>\n",
       "      <td>-1.793464</td>\n",
       "      <td>2023-03-14</td>\n",
       "      <td>89.966849</td>\n",
       "      <td>0</td>\n",
       "      <td>0</td>\n",
       "      <td>1</td>\n",
       "    </tr>\n",
       "    <tr>\n",
       "      <th>1</th>\n",
       "      <td>-1.726856</td>\n",
       "      <td>2.157210</td>\n",
       "      <td>0.856405</td>\n",
       "      <td>-1.729337</td>\n",
       "      <td>2021-04-24</td>\n",
       "      <td>70.743647</td>\n",
       "      <td>0</td>\n",
       "      <td>0</td>\n",
       "      <td>1</td>\n",
       "    </tr>\n",
       "    <tr>\n",
       "      <th>2</th>\n",
       "      <td>-1.723391</td>\n",
       "      <td>2.273644</td>\n",
       "      <td>-0.011240</td>\n",
       "      <td>-1.800004</td>\n",
       "      <td>2023-06-12</td>\n",
       "      <td>82.779315</td>\n",
       "      <td>1</td>\n",
       "      <td>0</td>\n",
       "      <td>0</td>\n",
       "    </tr>\n",
       "    <tr>\n",
       "      <th>3</th>\n",
       "      <td>-1.719927</td>\n",
       "      <td>2.404844</td>\n",
       "      <td>-0.719965</td>\n",
       "      <td>-1.741162</td>\n",
       "      <td>2023-06-16</td>\n",
       "      <td>81.158889</td>\n",
       "      <td>0</td>\n",
       "      <td>0</td>\n",
       "      <td>1</td>\n",
       "    </tr>\n",
       "    <tr>\n",
       "      <th>4</th>\n",
       "      <td>-1.716463</td>\n",
       "      <td>2.101983</td>\n",
       "      <td>0.629303</td>\n",
       "      <td>-1.919081</td>\n",
       "      <td>2023-03-31</td>\n",
       "      <td>87.103607</td>\n",
       "      <td>0</td>\n",
       "      <td>1</td>\n",
       "      <td>0</td>\n",
       "    </tr>\n",
       "  </tbody>\n",
       "</table>\n",
       "</div>"
      ],
      "text/plain": [
       "         x1        x2        x3        x4   Temporal     Target  \\\n",
       "0 -1.730320  2.275106  1.332576 -1.793464 2023-03-14  89.966849   \n",
       "1 -1.726856  2.157210  0.856405 -1.729337 2021-04-24  70.743647   \n",
       "2 -1.723391  2.273644 -0.011240 -1.800004 2023-06-12  82.779315   \n",
       "3 -1.719927  2.404844 -0.719965 -1.741162 2023-06-16  81.158889   \n",
       "4 -1.716463  2.101983  0.629303 -1.919081 2023-03-31  87.103607   \n",
       "\n",
       "   Categorical_B  Categorical_C  Categorical_D  \n",
       "0              0              0              1  \n",
       "1              0              0              1  \n",
       "2              1              0              0  \n",
       "3              0              0              1  \n",
       "4              0              1              0  "
      ]
     },
     "execution_count": 5,
     "metadata": {},
     "output_type": "execute_result"
    }
   ],
   "source": [
    "# Write your code here\n",
    "from sklearn.preprocessing import StandardScaler\n",
    "\n",
    "scale_columns = ['x1', 'x2', 'x3', 'x4']\n",
    "scaler = StandardScaler()\n",
    "df_encoded[scale_columns] = scaler.fit_transform(df_encoded[scale_columns])\n",
    "df_encoded.head()"
   ]
  },
  {
   "cell_type": "markdown",
   "metadata": {},
   "source": [
    "#### **Drop Highly Correlated Features**"
   ]
  },
  {
   "cell_type": "code",
   "execution_count": 6,
   "metadata": {},
   "outputs": [],
   "source": [
    "df_encoded_dropped = df_encoded.drop(columns=['x4'])"
   ]
  },
  {
   "cell_type": "markdown",
   "metadata": {},
   "source": [
    "### **Exercise 5: Extracting Temporal Data**\n",
    "\n",
    "* Extract date-related features (like year, month, day) from the `Temporal_1` column."
   ]
  },
  {
   "cell_type": "code",
   "execution_count": 7,
   "metadata": {},
   "outputs": [],
   "source": [
    "# Write your code here\n",
    "df_encoded_dropped['Year'] = df_encoded_dropped['Temporal'].dt.year\n",
    "df_encoded_dropped['Month'] = df_encoded_dropped['Temporal'].dt.month\n",
    "df_encoded_dropped['Day'] = df_encoded_dropped['Temporal'].dt.day\n"
   ]
  },
  {
   "cell_type": "markdown",
   "metadata": {},
   "source": [
    "### **Exercise 6: Dimensionality Reduction**\n",
    "\n",
    "* Identify and drop one or more highly correlated columns to reduce dimensionality. Showcase the correlation before and after this operation using a heatmap."
   ]
  },
  {
   "cell_type": "code",
   "execution_count": 8,
   "metadata": {},
   "outputs": [],
   "source": [
    "# Write your code here\n",
    "\n",
    "import seaborn as sns\n",
    "import matplotlib.pyplot as plt\n",
    "\n",
    "\n",
    "# Compute correlation matrix for the df_encoded DataFrame (before dropping)\n",
    "correlation_before = df_encoded[scale_columns].corr()\n",
    "\n",
    "\n",
    "# Compute correlation matrix for the df_encoded_dropped DataFrame (after dropping)\n",
    "correlation_after = df_encoded_dropped[scale_columns[:-1]].corr()  # Exclude 'x4'"
   ]
  },
  {
   "cell_type": "code",
   "execution_count": 9,
   "metadata": {},
   "outputs": [
    {
     "data": {
      "image/png": "[encoded data removed]",
      "text/plain": [
       "<Figure size 864x360 with 3 Axes>"
      ]
     },
     "metadata": {
      "needs_background": "light"
     },
     "output_type": "display_data"
    }
   ],
   "source": [
    "# Visualize the correlation matrices\n",
    "plt.figure(figsize=(12, 5))\n",
    "\n",
    "plt.subplot(1, 2, 1)\n",
    "sns.heatmap(correlation_before, annot=True, cmap='coolwarm', vmin=-1, vmax=1, cbar=False)\n",
    "plt.title(\"Correlation Before Dropping 'x4'\")\n",
    "\n",
    "plt.subplot(1, 2, 2)\n",
    "sns.heatmap(correlation_after, annot=True, cmap='coolwarm', vmin=-1, vmax=1)\n",
    "plt.title(\"Correlation After Dropping 'x4'\")\n",
    "\n",
    "plt.tight_layout()\n",
    "plt.show()\n",
    "\n",
    "#correlation_before, correlation_after"
   ]
  },
  {
   "cell_type": "markdown",
   "metadata": {},
   "source": [
    "Interpretation of results: \n",
    "\n",
    "_Correlation Before Dropping: `x1` and `x4` has a very high correlation of approximately  0.9935, suggesting they convey similar information.\n",
    "The correlation between other numerical columns is relatively low._\n",
    "\n",
    "_Correlation After Dropping: We dropped the `x4` column to reduce the dimensionality and multicollinearity in our dataset. The remaining columns, `x3`, `x2`. and `x1` and  have a low correlation._"
   ]
  },
  {
   "cell_type": "markdown",
   "metadata": {},
   "source": [
    "### **Exercise 7: Linear Regression Model after Feature Engineering**\n",
    "\n",
    "* Apply a linear regression model after the feature engineering tasks done in questions 3-6 and compare its R^2 score with that of the initial model (from question 5)."
   ]
  },
  {
   "cell_type": "code",
   "execution_count": 10,
   "metadata": {},
   "outputs": [
    {
     "name": "stdout",
     "output_type": "stream",
     "text": [
      "R^2 score before feature engineering: 0.8877494540790907\n",
      "\n",
      "R^2 score after feature engineering: 0.97677553792671\n"
     ]
    }
   ],
   "source": [
    "# Write your code here\n",
    "\n",
    "X_after = df_encoded_dropped.drop(columns=['Temporal', 'Target'])\n",
    "y_after = df_encoded_dropped['Target']\n",
    "X_train_after, X_test_after, y_train_after, y_test_after = train_test_split(X_after, y_after, test_size=0.2, random_state=42)\n",
    "lr_after = LinearRegression()\n",
    "lr_after.fit(X_train_after, y_train_after)\n",
    "y_pred_after = lr_after.predict(X_test_after)\n",
    "r2_after = r2_score(y_test_after, y_pred_after)\n",
    "\n",
    "print(f'R^2 score before feature engineering: {r2_before}\\n')\n",
    "print(f'R^2 score after feature engineering: {r2_after}')"
   ]
  },
  {
   "cell_type": "code",
   "execution_count": 11,
   "metadata": {},
   "outputs": [
    {
     "data": {
      "image/png": "[encoded data removed]",
      "text/plain": [
       "<Figure size 432x288 with 1 Axes>"
      ]
     },
     "metadata": {
      "needs_background": "light"
     },
     "output_type": "display_data"
    }
   ],
   "source": [
    "# Compare R^2 score before and after Feature Engineering\n",
    "\n",
    "plt.bar(['Before Feature Engineering', 'After Feature Engineering'], [r2_before, r2_after], color=['blue', 'green'])\n",
    "plt.ylabel('R^2 Score')\n",
    "plt.title('Comparison of R^2 Scores')\n",
    "plt.show()"
   ]
  },
  {
   "cell_type": "markdown",
   "metadata": {},
   "source": [
    "### **Question 8: PCA**\n",
    "\n",
    "* Use PCA (Principal Component Analysis) to reduce the dimensionality of the dataset and retain a specified percentage (e.g., 95%) of its variance. Observe how many components are retained after applying PCA."
   ]
  },
  {
   "cell_type": "code",
   "execution_count": 12,
   "metadata": {},
   "outputs": [
    {
     "data": {
      "text/plain": [
       "2"
      ]
     },
     "execution_count": 12,
     "metadata": {},
     "output_type": "execute_result"
    }
   ],
   "source": [
    "from sklearn.decomposition import PCA\n",
    "\n",
    "# Preparing the data for PCA (excluding target and date columns)\n",
    "X_pca = df_encoded_dropped.drop(columns=['Temporal', 'Target'])\n",
    "\n",
    "pca = PCA(n_components=0.95)  # Retain 95% of the variance\n",
    "X_pca_transformed = pca.fit_transform(X_pca)\n",
    "\n",
    "num_components_retained = pca.n_components_\n",
    "\n",
    "num_components_retained"
   ]
  },
  {
   "cell_type": "markdown",
   "metadata": {},
   "source": [
    "**Interpretation of PCA results:**\n",
    "* _After applying PCA to retain at least 95% of the dataset's variance, only 2 principal components are retained. This means that most of the variance in the dataset can be captured using just these two components, allowing for significant dimensionality reduction._"
   ]
  },
  {
   "cell_type": "code",
   "execution_count": null,
   "metadata": {},
   "outputs": [],
   "source": []
  }
 ],
 "metadata": {
  "kernelspec": {
   "display_name": "Python 3",
   "language": "python",
   "name": "python3"
  },
  "language_info": {
   "codemirror_mode": {
    "name": "ipython",
    "version": 3
   },
   "file_extension": ".py",
   "mimetype": "text/x-python",
   "name": "python",
   "nbconvert_exporter": "python",
   "pygments_lexer": "ipython3",
   "version": "3.11.2"
  }
 },
 "nbformat": 4,
 "nbformat_minor": 4
}
