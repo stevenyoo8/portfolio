{
 "cells": [
  {
   "cell_type": "code",
   "execution_count": 2,
   "metadata": {
    "id": "X_k1amvZq5f8"
   },
   "outputs": [],
   "source": [
    "#!pip install --upgrade ipython jupyter\n",
    "#!pip install mlxtend\n",
    "\n",
    "import warnings\n",
    "warnings.filterwarnings('ignore')\n",
    "import pandas as pd\n",
    "from mlxtend.frequent_patterns import apriori, association_rules\n",
    "from mlxtend.preprocessing import TransactionEncoder"
   ]
  },
  {
   "cell_type": "code",
   "execution_count": 3,
   "metadata": {},
   "outputs": [],
   "source": [
    "df = pd.read_csv('Online_Retail_10000.csv', nrows=100)"
   ]
  },
  {
   "cell_type": "code",
   "execution_count": 4,
   "metadata": {},
   "outputs": [
    {
     "data": {
      "text/plain": [
       "(100, 8)"
      ]
     },
     "execution_count": 4,
     "metadata": {},
     "output_type": "execute_result"
    }
   ],
   "source": [
    "df.shape"
   ]
  },
  {
   "cell_type": "code",
   "execution_count": 5,
   "metadata": {
    "colab": {
     "base_uri": "https://localhost:8080/",
     "height": 260
    },
    "id": "w06W_V-0uKZM",
    "outputId": "2581fd6f-3cb7-467b-ee8e-a5d6a89f40a4"
   },
   "outputs": [
    {
     "data": {
      "text/html": [
       "<div>\n",
       "<style scoped>\n",
       "    .dataframe tbody tr th:only-of-type {\n",
       "        vertical-align: middle;\n",
       "    }\n",
       "\n",
       "    .dataframe tbody tr th {\n",
       "        vertical-align: top;\n",
       "    }\n",
       "\n",
       "    .dataframe thead th {\n",
       "        text-align: right;\n",
       "    }\n",
       "</style>\n",
       "<table border=\"1\" class=\"dataframe\">\n",
       "  <thead>\n",
       "    <tr style=\"text-align: right;\">\n",
       "      <th></th>\n",
       "      <th>InvoiceNo</th>\n",
       "      <th>StockCode</th>\n",
       "      <th>Description</th>\n",
       "      <th>Quantity</th>\n",
       "      <th>InvoiceDate</th>\n",
       "      <th>UnitPrice</th>\n",
       "      <th>CustomerID</th>\n",
       "      <th>Country</th>\n",
       "    </tr>\n",
       "  </thead>\n",
       "  <tbody>\n",
       "    <tr>\n",
       "      <th>0</th>\n",
       "      <td>536365</td>\n",
       "      <td>85123A</td>\n",
       "      <td>WHITE HANGING HEART T-LIGHT HOLDER</td>\n",
       "      <td>6</td>\n",
       "      <td>2010-12-01 08:26:00</td>\n",
       "      <td>2.55</td>\n",
       "      <td>17850.0</td>\n",
       "      <td>United Kingdom</td>\n",
       "    </tr>\n",
       "    <tr>\n",
       "      <th>1</th>\n",
       "      <td>536365</td>\n",
       "      <td>71053</td>\n",
       "      <td>WHITE METAL LANTERN</td>\n",
       "      <td>6</td>\n",
       "      <td>2010-12-01 08:26:00</td>\n",
       "      <td>3.39</td>\n",
       "      <td>17850.0</td>\n",
       "      <td>United Kingdom</td>\n",
       "    </tr>\n",
       "    <tr>\n",
       "      <th>2</th>\n",
       "      <td>536365</td>\n",
       "      <td>84406B</td>\n",
       "      <td>CREAM CUPID HEARTS COAT HANGER</td>\n",
       "      <td>8</td>\n",
       "      <td>2010-12-01 08:26:00</td>\n",
       "      <td>2.75</td>\n",
       "      <td>17850.0</td>\n",
       "      <td>United Kingdom</td>\n",
       "    </tr>\n",
       "    <tr>\n",
       "      <th>3</th>\n",
       "      <td>536365</td>\n",
       "      <td>84029G</td>\n",
       "      <td>KNITTED UNION FLAG HOT WATER BOTTLE</td>\n",
       "      <td>6</td>\n",
       "      <td>2010-12-01 08:26:00</td>\n",
       "      <td>3.39</td>\n",
       "      <td>17850.0</td>\n",
       "      <td>United Kingdom</td>\n",
       "    </tr>\n",
       "    <tr>\n",
       "      <th>4</th>\n",
       "      <td>536365</td>\n",
       "      <td>84029E</td>\n",
       "      <td>RED WOOLLY HOTTIE WHITE HEART.</td>\n",
       "      <td>6</td>\n",
       "      <td>2010-12-01 08:26:00</td>\n",
       "      <td>3.39</td>\n",
       "      <td>17850.0</td>\n",
       "      <td>United Kingdom</td>\n",
       "    </tr>\n",
       "  </tbody>\n",
       "</table>\n",
       "</div>"
      ],
      "text/plain": [
       "   InvoiceNo StockCode                          Description  Quantity  \\\n",
       "0     536365    85123A   WHITE HANGING HEART T-LIGHT HOLDER         6   \n",
       "1     536365     71053                  WHITE METAL LANTERN         6   \n",
       "2     536365    84406B       CREAM CUPID HEARTS COAT HANGER         8   \n",
       "3     536365    84029G  KNITTED UNION FLAG HOT WATER BOTTLE         6   \n",
       "4     536365    84029E       RED WOOLLY HOTTIE WHITE HEART.         6   \n",
       "\n",
       "           InvoiceDate  UnitPrice  CustomerID         Country  \n",
       "0  2010-12-01 08:26:00       2.55     17850.0  United Kingdom  \n",
       "1  2010-12-01 08:26:00       3.39     17850.0  United Kingdom  \n",
       "2  2010-12-01 08:26:00       2.75     17850.0  United Kingdom  \n",
       "3  2010-12-01 08:26:00       3.39     17850.0  United Kingdom  \n",
       "4  2010-12-01 08:26:00       3.39     17850.0  United Kingdom  "
      ]
     },
     "execution_count": 5,
     "metadata": {},
     "output_type": "execute_result"
    }
   ],
   "source": [
    "df.head()"
   ]
  },
  {
   "cell_type": "markdown",
   "metadata": {
    "id": "hvwK8yrexptI"
   },
   "source": [
    "**Data Preprocessing**\n",
    "\n",
    "* To perform an Apriori analysis on this dataset, we need to convert this dataset into a one-hot encoded format where each row represents a transaction (an `InvoiceNo`) and each column represents an item (in this case, `Description` or `StockCode`). Each cell in the DataFrame should be a binary indicator of whether the item was present in the transaction.\n",
    "* Since each row represents an item in a transaction, we need to group the dataset by `InvoiceNo` so that each transaction is represented as a list of items."
   ]
  },
  {
   "cell_type": "code",
   "execution_count": 6,
   "metadata": {
    "colab": {
     "base_uri": "https://localhost:8080/"
    },
    "id": "n5l7VMcUx362",
    "outputId": "b4cd0f99-5a5d-4cb2-a412-88ca951a6cd3"
   },
   "outputs": [],
   "source": [
    "# Group by 'InvoiceNo' and create a list of items in each transaction\n",
    "transactions = df.groupby('InvoiceNo')['Description'].apply(lambda items: [str(item) for item in items])\n",
    "transactions = transactions.apply(lambda items: [item for item in items if item.lower() != 'nan'])"
   ]
  },
  {
   "cell_type": "markdown",
   "metadata": {
    "id": "3iLnhXhNyJl7"
   },
   "source": [
    "**Transaction Encoder**\n",
    "\n",
    "\n",
    "* The `TransactionEncoder` module is a part of the `mlxtend` (machine learning extensions) library in Python. It is specifically designed to transform transactional data (like a list of items bought in each purchase) into a format suitable for various machine learning algorithms, especially for frequent itemset mining and association rule mining, like the Apriori algorithm.\n",
    "\n",
    "* The TransactionEncoder transforms a dataset of transactions (which are lists of items) into a one-hot encoded DataFrame. In this DataFrame:\n",
    "\n",
    "  * Each column represents a unique item from the dataset.\n",
    "  * Each row corresponds to a transaction.\n",
    "  * The cells in the DataFrame are filled with True if the item (column) was present in the transaction (row) and False otherwise."
   ]
  },
  {
   "cell_type": "code",
   "execution_count": 7,
   "metadata": {},
   "outputs": [],
   "source": [
    "# Initialize the TransactionEncoder\n",
    "te = TransactionEncoder()\n",
    "te_ary = te.fit(transactions).transform(transactions)\n",
    "trans_encoded = pd.DataFrame(te_ary, columns=te.columns_)"
   ]
  },
  {
   "cell_type": "code",
   "execution_count": 8,
   "metadata": {},
   "outputs": [],
   "source": [
    "# Apply the Apriori algorithm to find frequent itemsets\n",
    "frequent_itemsets = apriori(trans_encoded, min_support=20.0/len(df), use_colnames=True)"
   ]
  },
  {
   "cell_type": "markdown",
   "metadata": {
    "id": "SHl9x1n5s018"
   },
   "source": [
    "\n",
    "* **Generate Association Rules**"
   ]
  },
  {
   "cell_type": "code",
   "execution_count": 10,
   "metadata": {
    "id": "LoEiVPjmsx6l"
   },
   "outputs": [
    {
     "data": {
      "text/html": [
       "<div>\n",
       "<style scoped>\n",
       "    .dataframe tbody tr th:only-of-type {\n",
       "        vertical-align: middle;\n",
       "    }\n",
       "\n",
       "    .dataframe tbody tr th {\n",
       "        vertical-align: top;\n",
       "    }\n",
       "\n",
       "    .dataframe thead th {\n",
       "        text-align: right;\n",
       "    }\n",
       "</style>\n",
       "<table border=\"1\" class=\"dataframe\">\n",
       "  <thead>\n",
       "    <tr style=\"text-align: right;\">\n",
       "      <th></th>\n",
       "      <th>antecedents</th>\n",
       "      <th>consequents</th>\n",
       "      <th>antecedent support</th>\n",
       "      <th>consequent support</th>\n",
       "      <th>support</th>\n",
       "      <th>confidence</th>\n",
       "      <th>lift</th>\n",
       "      <th>leverage</th>\n",
       "      <th>conviction</th>\n",
       "      <th>zhangs_metric</th>\n",
       "    </tr>\n",
       "  </thead>\n",
       "  <tbody>\n",
       "    <tr>\n",
       "      <th>0</th>\n",
       "      <td>(GLASS STAR FROSTED T-LIGHT HOLDER)</td>\n",
       "      <td>(CREAM CUPID HEARTS COAT HANGER)</td>\n",
       "      <td>0.214286</td>\n",
       "      <td>0.214286</td>\n",
       "      <td>0.214286</td>\n",
       "      <td>1.0</td>\n",
       "      <td>4.666667</td>\n",
       "      <td>0.168367</td>\n",
       "      <td>inf</td>\n",
       "      <td>1.0</td>\n",
       "    </tr>\n",
       "    <tr>\n",
       "      <th>1329</th>\n",
       "      <td>(SET 7 BABUSHKA NESTING BOXES, WHITE METAL LAN...</td>\n",
       "      <td>(GLASS STAR FROSTED T-LIGHT HOLDER, RED WOOLLY...</td>\n",
       "      <td>0.214286</td>\n",
       "      <td>0.214286</td>\n",
       "      <td>0.214286</td>\n",
       "      <td>1.0</td>\n",
       "      <td>4.666667</td>\n",
       "      <td>0.168367</td>\n",
       "      <td>inf</td>\n",
       "      <td>1.0</td>\n",
       "    </tr>\n",
       "    <tr>\n",
       "      <th>1297</th>\n",
       "      <td>(KNITTED UNION FLAG HOT WATER BOTTLE, GLASS ST...</td>\n",
       "      <td>(SET 7 BABUSHKA NESTING BOXES, WHITE HANGING H...</td>\n",
       "      <td>0.214286</td>\n",
       "      <td>0.214286</td>\n",
       "      <td>0.214286</td>\n",
       "      <td>1.0</td>\n",
       "      <td>4.666667</td>\n",
       "      <td>0.168367</td>\n",
       "      <td>inf</td>\n",
       "      <td>1.0</td>\n",
       "    </tr>\n",
       "    <tr>\n",
       "      <th>1296</th>\n",
       "      <td>(GLASS STAR FROSTED T-LIGHT HOLDER, WHITE META...</td>\n",
       "      <td>(SET 7 BABUSHKA NESTING BOXES, KNITTED UNION F...</td>\n",
       "      <td>0.214286</td>\n",
       "      <td>0.214286</td>\n",
       "      <td>0.214286</td>\n",
       "      <td>1.0</td>\n",
       "      <td>4.666667</td>\n",
       "      <td>0.168367</td>\n",
       "      <td>inf</td>\n",
       "      <td>1.0</td>\n",
       "    </tr>\n",
       "    <tr>\n",
       "      <th>1295</th>\n",
       "      <td>(KNITTED UNION FLAG HOT WATER BOTTLE, WHITE ME...</td>\n",
       "      <td>(SET 7 BABUSHKA NESTING BOXES, GLASS STAR FROS...</td>\n",
       "      <td>0.214286</td>\n",
       "      <td>0.214286</td>\n",
       "      <td>0.214286</td>\n",
       "      <td>1.0</td>\n",
       "      <td>4.666667</td>\n",
       "      <td>0.168367</td>\n",
       "      <td>inf</td>\n",
       "      <td>1.0</td>\n",
       "    </tr>\n",
       "  </tbody>\n",
       "</table>\n",
       "</div>"
      ],
      "text/plain": [
       "                                            antecedents  \\\n",
       "0                   (GLASS STAR FROSTED T-LIGHT HOLDER)   \n",
       "1329  (SET 7 BABUSHKA NESTING BOXES, WHITE METAL LAN...   \n",
       "1297  (KNITTED UNION FLAG HOT WATER BOTTLE, GLASS ST...   \n",
       "1296  (GLASS STAR FROSTED T-LIGHT HOLDER, WHITE META...   \n",
       "1295  (KNITTED UNION FLAG HOT WATER BOTTLE, WHITE ME...   \n",
       "\n",
       "                                            consequents  antecedent support  \\\n",
       "0                      (CREAM CUPID HEARTS COAT HANGER)            0.214286   \n",
       "1329  (GLASS STAR FROSTED T-LIGHT HOLDER, RED WOOLLY...            0.214286   \n",
       "1297  (SET 7 BABUSHKA NESTING BOXES, WHITE HANGING H...            0.214286   \n",
       "1296  (SET 7 BABUSHKA NESTING BOXES, KNITTED UNION F...            0.214286   \n",
       "1295  (SET 7 BABUSHKA NESTING BOXES, GLASS STAR FROS...            0.214286   \n",
       "\n",
       "      consequent support   support  confidence      lift  leverage  \\\n",
       "0               0.214286  0.214286         1.0  4.666667  0.168367   \n",
       "1329            0.214286  0.214286         1.0  4.666667  0.168367   \n",
       "1297            0.214286  0.214286         1.0  4.666667  0.168367   \n",
       "1296            0.214286  0.214286         1.0  4.666667  0.168367   \n",
       "1295            0.214286  0.214286         1.0  4.666667  0.168367   \n",
       "\n",
       "      conviction  zhangs_metric  \n",
       "0            inf            1.0  \n",
       "1329         inf            1.0  \n",
       "1297         inf            1.0  \n",
       "1296         inf            1.0  \n",
       "1295         inf            1.0  "
      ]
     },
     "execution_count": 10,
     "metadata": {},
     "output_type": "execute_result"
    }
   ],
   "source": [
    "# Generate association rules\n",
    "rules = association_rules(frequent_itemsets, metric=\"confidence\", min_threshold=0.5)\n",
    "\n",
    "# We can sort the rules by descending order of confidence\n",
    "rules_sorted = rules.sort_values(by='confidence', ascending=False)\n",
    "rules_sorted.head()\n"
   ]
  }
 ],
 "metadata": {
  "colab": {
   "provenance": []
  },
  "kernelspec": {
   "display_name": "Python 3",
   "language": "python",
   "name": "python3"
  },
  "language_info": {
   "codemirror_mode": {
    "name": "ipython",
    "version": 3
   },
   "file_extension": ".py",
   "mimetype": "text/x-python",
   "name": "python",
   "nbconvert_exporter": "python",
   "pygments_lexer": "ipython3",
   "version": "3.11.2"
  }
 },
 "nbformat": 4,
 "nbformat_minor": 4
}
