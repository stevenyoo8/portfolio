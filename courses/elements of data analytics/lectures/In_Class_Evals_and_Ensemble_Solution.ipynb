{
  "cells": [
    {
      "cell_type": "code",
      "execution_count": 1,
      "metadata": {
        "id": "g3DizYPkYr4P"
      },
      "outputs": [],
      "source": [
        "from sklearn.datasets import load_breast_cancer\n",
        "from sklearn.model_selection import train_test_split\n",
        "from sklearn.metrics import roc_curve, auc\n",
        "from sklearn.ensemble import RandomForestClassifier\n",
        "import matplotlib.pyplot as plt\n",
        "import numpy as np\n",
        "\n",
        "# Load the dataset\n",
        "data = load_breast_cancer()\n",
        "X = data.data\n",
        "y = data.target\n",
        "\n",
        "# Split the dataset into a training set and a test set\n",
        "X_train, X_test, y_train, y_test = train_test_split(X, y, test_size=0.33, random_state=42)\n"
      ]
    },
    {
      "cell_type": "markdown",
      "metadata": {
        "id": "qF0Jrzcgd_zT"
      },
      "source": [
        "### **Exercise 1: Evaluation Metrics from Scratch**"
      ]
    },
    {
      "cell_type": "code",
      "execution_count": 2,
      "metadata": {
        "id": "201l2jdvd9-E"
      },
      "outputs": [],
      "source": [
        "def accuracy(y_true, y_pred):\n",
        "    \"\"\"\n",
        "    Computes the accuracy score.\n",
        "\n",
        "    Accuracy is the ratio of correctly predicted instances to the total instances.\n",
        "\n",
        "    Formula:\n",
        "        Accuracy = (Number of Correct Predictions) / (Total Number of Predictions)\n",
        "\n",
        "    Args:\n",
        "        y_true (list): True class labels.\n",
        "        y_pred (list): Predicted class labels by the model.\n",
        "\n",
        "    Returns:\n",
        "        float: The accuracy score.\n",
        "\n",
        "    TODO:\n",
        "        - Implement the accuracy score calculation from scratch using the formula provided.\n",
        "\n",
        "    \"\"\"\n",
        "    correct = sum(y_true == y_pred)\n",
        "    total = len(y_true)\n",
        "    return correct / total"
      ]
    },
    {
      "cell_type": "code",
      "execution_count": 3,
      "metadata": {
        "id": "_9aJ1_KMeJRP"
      },
      "outputs": [],
      "source": [
        "def recall(y_true, y_pred):\n",
        "    \"\"\"\n",
        "    Computes the recall score.\n",
        "\n",
        "    Recall (or Sensitivity or True Positive Rate) is the ratio of correctly predicted positive observations to the all observations in actual class.\n",
        "\n",
        "    Formula:\n",
        "        Recall = TP / (TP + FN)\n",
        "\n",
        "    Args:\n",
        "        y_true (list): True class labels.\n",
        "        y_pred (list): Predicted class labels by the model.\n",
        "\n",
        "    Returns:\n",
        "        float: The recall score.\n",
        "\n",
        "    TODO:\n",
        "        - Implement the recall score calculation from scratch using the formula provided.\n",
        "\n",
        "\n",
        "    \"\"\"\n",
        "    tp = sum((y_true == 1) & (y_pred == 1))\n",
        "    fn = sum((y_true == 1) & (y_pred == 0))\n",
        "    return tp / (tp + fn)"
      ]
    },
    {
      "cell_type": "code",
      "execution_count": 4,
      "metadata": {
        "id": "U02ZFi_weKbl"
      },
      "outputs": [],
      "source": [
        "def precision(y_true, y_pred):\n",
        "    \"\"\"\n",
        "    Computes the precision score.\n",
        "\n",
        "    Precision is the ratio of correctly predicted positive observations to the total predicted positives.\n",
        "\n",
        "    Formula:\n",
        "        Precision = TP / (TP + FP)\n",
        "\n",
        "    Args:\n",
        "        y_true (list): True class labels.\n",
        "        y_pred (list): Predicted class labels by the model.\n",
        "\n",
        "    Returns:\n",
        "        float: The precision score.\n",
        "\n",
        "    TODO:\n",
        "        - Implement the precision score calculation from scratch using the formula provided.\n",
        "    \"\"\"\n",
        "    tp = sum((y_true == 1) & (y_pred == 1))\n",
        "    fp = sum((y_true == 0) & (y_pred == 1))\n",
        "    return tp / (tp + fp)"
      ]
    },
    {
      "cell_type": "code",
      "execution_count": 5,
      "metadata": {
        "id": "Ls1qbyPReM3g"
      },
      "outputs": [],
      "source": [
        "def f1_score(y_true, y_pred):\n",
        "    \"\"\"\n",
        "    Computes the F1 score.\n",
        "\n",
        "    The F1 score is the weighted average of Precision and Recall. Therefore, this score takes both false positives and false negatives into account.\n",
        "\n",
        "    Formula:\n",
        "        F1 Score = 2*(Recall * Precision) / (Recall + Precision)\n",
        "\n",
        "    Args:\n",
        "        y_true (list): True class labels.\n",
        "        y_pred (list): Predicted class labels by the model.\n",
        "\n",
        "    Returns:\n",
        "        float: The F1 score.\n",
        "\n",
        "    TODO:\n",
        "        - Use the precision() and recall() functions to get the necessary values.\n",
        "        - Implement the F1 score calculation from scratch using the formula provided.\n",
        "    \"\"\"\n",
        "    p = precision(y_true, y_pred)\n",
        "    r = recall(y_true, y_pred)\n",
        "    return 2 * (p * r) / (p + r)"
      ]
    },
    {
      "cell_type": "markdown",
      "metadata": {
        "id": "kx7eAc_eeR2l"
      },
      "source": [
        "### **Exercise 2: Training and Evaluating**"
      ]
    },
    {
      "cell_type": "code",
      "execution_count": 6,
      "metadata": {
        "id": "c2YuKzTwYf-x"
      },
      "outputs": [],
      "source": [
        "def train_evaluate(clf, X_train, y_train, X_test, y_test):\n",
        "    \"\"\"\n",
        "    Trains a given classifier on the provided training data, evaluates it on the test data, and then plots the ROC curve.\n",
        "\n",
        "    The Receiver Operating Characteristic (ROC) curve is a graphical plot that illustrates the diagnostic ability of a binary\n",
        "    classifier system as its discrimination threshold is varied. The curve is plotted with the True Positive Rate against the\n",
        "    False Positive Rate. The area under the curve (AUC) provides an aggregate measure of the model's performance across all\n",
        "    possible classification thresholds.\n",
        "\n",
        "    Args:\n",
        "        clf (object): The classifier to be trained. Should have fit, predict, and predict_proba methods. -- Please note, here you are only using this parameter as a placeholder\n",
        "        when this method is called, clf will need to have been initialized with a classifier from scikit-learn\n",
        "        X_train (array-like): Training data features.\n",
        "        y_train (array-like): Training data labels.\n",
        "        X_test (array-like): Test data features.\n",
        "        y_test (array-like): Test data labels.\n",
        "\n",
        "    Returns:\n",
        "        array-like: Predicted labels for the test data.\n",
        "\n",
        "    TODO:\n",
        "        - Train the classifier using the provided training data.\n",
        "        - Predict the labels for the test data.\n",
        "        - Predict the probability scores for the test data.\n",
        "        - Compute the False Positive Rate and True Positive Rate.\n",
        "        - Plot the ROC curve and display the AUC.\n",
        "        - Return the predicted labels for the test data.\n",
        "\n",
        "\n",
        "    \"\"\"\n",
        "    clf.fit(X_train, y_train)\n",
        "    y_pred = clf.predict(X_test)\n",
        "    y_score = clf.predict_proba(X_test)[:, 1]\n",
        "\n",
        "    fpr, tpr, _ = roc_curve(y_test, y_score)\n",
        "    roc_auc = auc(fpr, tpr)\n",
        "\n",
        "    plt.figure()\n",
        "    plt.plot(fpr, tpr, color='darkorange', lw=2, label='ROC curve (area = %0.2f)' % roc_auc)\n",
        "    plt.plot([0, 1], [0, 1], color='navy', lw=2, linestyle='--')\n",
        "    plt.xlabel('False Positive Rate')\n",
        "    plt.ylabel('True Positive Rate')\n",
        "    plt.title('Receiver Operating Characteristic (ROC) Curve')\n",
        "    plt.legend(loc=\"lower right\")\n",
        "    plt.show()\n",
        "\n",
        "    return y_pred"
      ]
    },
    {
      "cell_type": "markdown",
      "metadata": {
        "id": "kZ6i53vMem2z"
      },
      "source": [
        "### **Exercise 3: Training a List of Classifiers with Different Hyperparameters**"
      ]
    },
    {
      "cell_type": "code",
      "execution_count": 7,
      "metadata": {
        "id": "ZMC-YqJleyRB"
      },
      "outputs": [],
      "source": [
        "from sklearn.ensemble import RandomForestClassifier\n",
        "\n",
        "\n",
        "def train_multiple_random_forests(X_train, y_train, hyperparameters_list):\n",
        "    \"\"\"\n",
        "    Trains multiple RandomForest classifiers based on a list of hyperparameters.\n",
        "\n",
        "    Parameters:\n",
        "    - X_train, y_train: Training data and labels.\n",
        "    - hyperparameters_list: List of dictionaries, where each dictionary contains hyperparameters for a RandomForest.\n",
        "\n",
        "    Returns:\n",
        "    - classifiers: List of trained RandomForest classifiers.\n",
        "    \"\"\"\n",
        "    classifiers = []\n",
        "    for hyperparams in hyperparameters_list:\n",
        "        clf = RandomForestClassifier(**hyperparams) # this will later take a list of hyperparams with varying values when this function is called\n",
        "        clf.fit(X_train, y_train)\n",
        "        classifiers.append(clf)\n",
        "    return classifiers\n"
      ]
    },
    {
      "cell_type": "markdown",
      "metadata": {
        "id": "kTcvGz5ueyZ1"
      },
      "source": [
        "### **Exercise 4: Ensemble Method**"
      ]
    },
    {
      "cell_type": "code",
      "execution_count": 8,
      "metadata": {
        "id": "egRGY4wYe3sn"
      },
      "outputs": [],
      "source": [
        "def ensemble_predict(classifiers, X):\n",
        "    \"\"\"\n",
        "    Performs ensemble prediction using a majority voting mechanism.\n",
        "\n",
        "    Given a list of classifiers, this function predicts the class labels for each classifier and then\n",
        "    returns the majority class prediction for each instance in the dataset. In the case of binary classification,\n",
        "    if more than half of the classifiers predict the positive class (1), then the ensemble prediction is 1;\n",
        "    otherwise, it's 0.\n",
        "\n",
        "    Args:\n",
        "        classifiers (list): A list of trained classifiers. Each classifier should have a predict method.\n",
        "        X (array-like): Data features for which the ensemble prediction is to be made.\n",
        "\n",
        "    Returns:\n",
        "        array-like: Ensemble predicted labels for the data.\n",
        "\n",
        "    TODO:\n",
        "        - Predict the labels for the data using each classifier.\n",
        "        - Sum the predictions across classifiers for each data instance.\n",
        "        - Determine the majority class for each data instance.\n",
        "        - Return the ensemble predicted labels.\n",
        "\n",
        "    Note:\n",
        "        This implementation assumes binary classification. For multi-class classification,\n",
        "        a more sophisticated voting mechanism would be required.\n",
        "\n",
        "\n",
        "    \"\"\"\n",
        "    predictions = [clf.predict(X) for clf in classifiers]\n",
        "    summed = np.sum(predictions, axis=0)\n",
        "    ensemble_pred = np.where(summed > len(classifiers) / 2, 1, 0) # This is a basic majority voting mechanism.\n",
        "    return ensemble_pred\n"
      ]
    },
    {
      "cell_type": "code",
      "execution_count": 9,
      "metadata": {
        "colab": {
          "base_uri": "https://localhost:8080/",
          "height": 628
        },
        "id": "FiMZMxCFaIhi",
        "outputId": "e54477e1-df32-4166-c49f-39c88e9cffd9"
      },
      "outputs": [
        {
          "data": {
            "image/png": "[encoded data removed]",
            "text/plain": [
              "<Figure size 640x480 with 1 Axes>"
            ]
          },
          "metadata": {},
          "output_type": "display_data"
        },
        {
          "data": {
            "text/plain": [
              "array([1, 0, 0, 1, 1, 0, 0, 0, 0, 1, 1, 0, 1, 0, 1, 0, 1, 1, 1, 0, 1, 1,\n",
              "       0, 1, 1, 1, 1, 1, 1, 0, 1, 1, 1, 1, 1, 1, 1, 1, 0, 1, 1, 0, 1, 1,\n",
              "       1, 1, 1, 1, 1, 1, 0, 0, 1, 1, 1, 1, 1, 0, 0, 1, 1, 0, 0, 1, 1, 1,\n",
              "       0, 0, 1, 1, 0, 0, 1, 0, 1, 1, 1, 1, 1, 1, 0, 1, 1, 0, 0, 0, 0, 0,\n",
              "       1, 1, 1, 1, 1, 1, 1, 1, 0, 0, 1, 0, 0, 1, 0, 0, 1, 1, 1, 0, 1, 1,\n",
              "       0, 1, 1, 0, 1, 0, 1, 1, 1, 0, 1, 1, 1, 0, 1, 0, 0, 1, 1, 0, 0, 0,\n",
              "       1, 1, 1, 0, 1, 1, 1, 0, 1, 0, 1, 1, 0, 1, 0, 0, 0, 1, 0, 1, 1, 1,\n",
              "       1, 0, 0, 1, 1, 1, 1, 1, 1, 1, 1, 1, 1, 1, 1, 0, 1, 1, 1, 1, 1, 1,\n",
              "       1, 1, 1, 1, 1, 1, 1, 0, 0, 0, 1, 1])"
            ]
          },
          "execution_count": 9,
          "metadata": {},
          "output_type": "execute_result"
        }
      ],
      "source": [
        "# A single RandomForest classifier to observe its ROC Curve\n",
        "clf = RandomForestClassifier()\n",
        "train_evaluate(clf, X_train, y_train, X_test, y_test)\n"
      ]
    },
    {
      "cell_type": "code",
      "execution_count": 10,
      "metadata": {
        "id": "02ylWIaHfHjZ"
      },
      "outputs": [],
      "source": [
        "hyperparameters_list = [\n",
        "    {\"n_estimators\": 10, \"max_depth\": 3, \"random_state\": 42},\n",
        "    {\"n_estimators\": 50, \"max_depth\": 5, \"random_state\": 42},\n",
        "    {\"n_estimators\": 100, \"max_depth\": None, \"random_state\": 42}\n",
        "]\n",
        "\n",
        "classifiers = train_multiple_random_forests(X_train, y_train, hyperparameters_list)\n",
        "\n",
        "# Ensemble\n",
        "ensemble_predictions = ensemble_predict(classifiers, X_test)"
      ]
    },
    {
      "cell_type": "markdown",
      "metadata": {
        "id": "8PhuTGx3fr_6"
      },
      "source": [
        "* Let's see how they did!"
      ]
    },
    {
      "cell_type": "code",
      "execution_count": 11,
      "metadata": {
        "colab": {
          "base_uri": "https://localhost:8080/"
        },
        "id": "5H3IXJRffuIQ",
        "outputId": "f9369c72-1437-42e4-b2f5-5a49ce37cc13"
      },
      "outputs": [
        {
          "name": "stdout",
          "output_type": "stream",
          "text": [
            "Ensemble Metrics:\n",
            "Accuracy: 0.9574468085106383\n",
            "Precision: 0.959349593495935\n",
            "Recall: 0.9752066115702479\n",
            "F1 Score: 0.9672131147540983\n"
          ]
        }
      ],
      "source": [
        "# Compute metrics using the functions you've implemented\n",
        "ensemble_accuracy = accuracy(y_test, ensemble_predictions)\n",
        "ensemble_precision = precision(y_test, ensemble_predictions)\n",
        "ensemble_recall = recall(y_test, ensemble_predictions)\n",
        "ensemble_f1 = f1_score(y_test, ensemble_predictions)\n",
        "\n",
        "print(\"Ensemble Metrics:\")\n",
        "print(\"Accuracy:\", ensemble_accuracy)\n",
        "print(\"Precision:\", ensemble_precision)\n",
        "print(\"Recall:\", ensemble_recall)\n",
        "print(\"F1 Score:\", ensemble_f1)\n"
      ]
    },
    {
      "cell_type": "code",
      "execution_count": 12,
      "metadata": {
        "colab": {
          "base_uri": "https://localhost:8080/",
          "height": 449
        },
        "id": "K3i3g3KNfyZi",
        "outputId": "d0d03709-1612-497f-aa7d-d1a5cac1d203"
      },
      "outputs": [
        {
          "data": {
            "image/png": "[encoded data removed]",
            "text/plain": [
              "<Figure size 640x480 with 2 Axes>"
            ]
          },
          "metadata": {},
          "output_type": "display_data"
        }
      ],
      "source": [
        "from sklearn.metrics import confusion_matrix\n",
        "import seaborn as sns\n",
        "\n",
        "# Compute confusion matrix\n",
        "cm = confusion_matrix(y_test, ensemble_predictions)\n",
        "\n",
        "# Plot confusion matrix\n",
        "sns.heatmap(cm, annot=True, fmt=\"d\", cmap=\"Blues\")\n",
        "plt.xlabel('Predicted')\n",
        "plt.ylabel('True')\n",
        "plt.show()\n"
      ]
    },
    {
      "cell_type": "markdown",
      "metadata": {
        "id": "-oyKbZySgMZr"
      },
      "source": [
        "The ensemble classifier performed very well on the test set, with high scores across all metrics. The model was particularly strong in its recall, meaning it was very effective at identifying positive instances. The high F1 Score suggests a balanced performance in terms of both precision and recall. In essence, the ensemble classifier not only made correct predictions most of the time (high accuracy and precision) but also was especially effective at correctly identifying positive cases without missing many (high recall)."
      ]
    }
  ],
  "metadata": {
    "colab": {
      "provenance": []
    },
    "kernelspec": {
      "display_name": "Python 3",
      "name": "python3"
    },
    "language_info": {
      "codemirror_mode": {
        "name": "ipython",
        "version": 3
      },
      "file_extension": ".py",
      "mimetype": "text/x-python",
      "name": "python",
      "nbconvert_exporter": "python",
      "pygments_lexer": "ipython3",
      "version": "3.11.2"
    }
  },
  "nbformat": 4,
  "nbformat_minor": 0
}
