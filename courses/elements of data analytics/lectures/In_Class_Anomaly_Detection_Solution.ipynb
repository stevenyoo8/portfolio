{
  "cells": [
    {
      "cell_type": "markdown",
      "id": "b0f48939",
      "metadata": {
        "id": "b0f48939"
      },
      "source": [
        "## Exercise 1: K-Means Anomaly Detection\n",
        "Use the K-Means algorithm to detect anomalies in a two-dimensional synthetic dataset. Consider points that are more than two standard deviations from the nearest cluster centroid as anomalies."
      ]
    },
    {
      "cell_type": "code",
      "execution_count": null,
      "id": "0d77fe86-ca43-43c5-aac4-659ed53debe1",
      "metadata": {
        "id": "0d77fe86-ca43-43c5-aac4-659ed53debe1"
      },
      "outputs": [],
      "source": [
        "import numpy as np\n",
        "from sklearn.datasets import make_blobs\n",
        "from sklearn.cluster import KMeans, DBSCAN\n",
        "from sklearn.ensemble import IsolationForest\n",
        "from sklearn.svm import OneClassSVM\n",
        "from sklearn.neighbors import LocalOutlierFactor"
      ]
    },
    {
      "cell_type": "code",
      "execution_count": null,
      "id": "099a1063",
      "metadata": {
        "id": "099a1063",
        "outputId": "abda3699-0141-4711-a7d9-68d1b2d36089"
      },
      "outputs": [
        {
          "name": "stdout",
          "output_type": "stream",
          "text": [
            "Anomalies detected at indices: [  0   2   5   6   7   8  10  11  12  16  19  22  23  24  27  28  32  38\n",
            "  41  42  43  44  47  50  56  57  62  64  70  73  74  76  77  85  87  93\n",
            "  95  98  99 101 104 107 109 110 115 119 127 129 131 132 135 136 142 143\n",
            " 144 145 151 152 157 159 164 165 166 167 169 170 173 181 182 183 185 186\n",
            " 187 192 194 195 196 197 198 200 203 204 205 206 208 210 211 213 218 223\n",
            " 225 229 230 235 239 241 242 247 249 250 251 253 254 255 260 261 262 266\n",
            " 268 271 272 273 274 277 282 290 298 299]\n"
          ]
        },
        {
          "name": "stderr",
          "output_type": "stream",
          "text": [
            "/Users/ft/opt/anaconda3/envs/flyte/lib/python3.10/site-packages/sklearn/cluster/_kmeans.py:1412: FutureWarning: The default value of `n_init` will change from 10 to 'auto' in 1.4. Set the value of `n_init` explicitly to suppress the warning\n",
            "  super()._check_params_vs_input(X, default_n_init=10)\n"
          ]
        }
      ],
      "source": [
        "def kmeans_anomaly_detection(X, n_clusters=3, threshold=2):\n",
        "    \"\"\"Detects anomalies using the K-Means clustering algorithm.\n",
        "\n",
        "    Parameters:\n",
        "    X (array-like): The input features for clustering.\n",
        "    n_clusters (int): The number of clusters to form.\n",
        "    threshold (float): The number of standard deviations from the cluster centroid to consider a point an anomaly.\n",
        "\n",
        "    Returns:\n",
        "    anomalies (array-like): The indices of the anomalies in the dataset.\n",
        "    \"\"\"\n",
        "    # Fit the K-Means model\n",
        "    kmeans = KMeans(n_clusters=n_clusters, random_state=42)\n",
        "    kmeans.fit(X)\n",
        "    clusters = kmeans.predict(X)\n",
        "    centroids = kmeans.cluster_centers_\n",
        "\n",
        "    # Calculate distances from each point to its assigned cluster centroid\n",
        "    distances = np.linalg.norm(X - centroids[clusters], axis=1)\n",
        "    std_distance = np.std(distances)\n",
        "    anomalies = np.where(distances > std_distance * threshold)[0]\n",
        "\n",
        "    return anomalies\n",
        "\n",
        "# Generate synthetic data\n",
        "X, _ = make_blobs(n_samples=300, centers=4, cluster_std=0.60, random_state=0)\n",
        "\n",
        "# Detect anomalies\n",
        "anomalies = kmeans_anomaly_detection(X)\n",
        "print(f'Anomalies detected at indices: {anomalies}')\n"
      ]
    },
    {
      "cell_type": "markdown",
      "id": "289bd5bf",
      "metadata": {
        "id": "289bd5bf"
      },
      "source": [
        "## Exercise 2: DBSCAN Anomaly Detection\n",
        "Use the DBSCAN algorithm to detect anomalies in the same synthetic dataset. Consider points classified as '-1' by DBSCAN as anomalies."
      ]
    },
    {
      "cell_type": "code",
      "execution_count": null,
      "id": "9badd0db",
      "metadata": {
        "id": "9badd0db",
        "outputId": "dca7bc8d-97a9-4470-faf2-8915e9dff2a0"
      },
      "outputs": [
        {
          "name": "stdout",
          "output_type": "stream",
          "text": [
            "DBSCAN Anomalies detected at indices: [  5  25  42  62  88 143 152 166 174 205 218 242 249 256 273 274 290 298]\n"
          ]
        }
      ],
      "source": [
        "def dbscan_anomaly_detection(X, eps=0.5, min_samples=5):\n",
        "    \"\"\"Detects anomalies using the DBSCAN clustering algorithm.\n",
        "\n",
        "    Parameters:\n",
        "    X (array-like): The input features for clustering.\n",
        "    eps (float): The maximum distance between two samples for one to be considered as in the neighborhood of the other.\n",
        "    min_samples (int): The number of samples (or total weight) in a neighborhood for a point to be considered as a core point.\n",
        "\n",
        "    Returns:\n",
        "    anomalies (array-like): The indices of the anomalies in the dataset.\n",
        "    \"\"\"\n",
        "    # Fit the DBSCAN model\n",
        "    dbscan = DBSCAN(eps=eps, min_samples=min_samples)\n",
        "    clusters = dbscan.fit_predict(X)\n",
        "\n",
        "    # Anomalies are the points labeled as -1\n",
        "    anomalies = np.where(clusters == -1)[0]\n",
        "\n",
        "    return anomalies\n",
        "\n",
        "# Detect anomalies using DBSCAN\n",
        "anomalies_dbscan = dbscan_anomaly_detection(X)\n",
        "print(f'DBSCAN Anomalies detected at indices: {anomalies_dbscan}')\n"
      ]
    },
    {
      "cell_type": "markdown",
      "id": "b7d0173e",
      "metadata": {
        "id": "b7d0173e"
      },
      "source": [
        "## Exercise 3: Isolation Forest Anomaly Detection\n",
        "Apply an Isolation Forest to identify anomalies in the dataset. Use the anomaly score to determine if a point is an anomaly or not."
      ]
    },
    {
      "cell_type": "code",
      "execution_count": null,
      "id": "d5727847",
      "metadata": {
        "id": "d5727847",
        "outputId": "4cc746e8-2486-418b-b762-2381e6c13f2e"
      },
      "outputs": [
        {
          "name": "stdout",
          "output_type": "stream",
          "text": [
            "Isolation Forest Anomalies detected at indices: [  5   8  11  13  28  35  37  56  62  66  68  88  92  99 101 140 144 165\n",
            " 166 196 218 229 238 242 250 273 274 285 290 298]\n"
          ]
        }
      ],
      "source": [
        "\n",
        "def isolation_forest_anomaly_detection(X, contamination=0.1):\n",
        "    \"\"\"Detects anomalies using the Isolation Forest algorithm.\n",
        "\n",
        "    Parameters:\n",
        "    X (array-like): The input features for anomaly detection.\n",
        "    contamination (float): The proportion of outliers in the data set.\n",
        "\n",
        "    Returns:\n",
        "    anomalies (array-like): The indices of the anomalies in the dataset.\n",
        "    \"\"\"\n",
        "    # Fit the Isolation Forest model\n",
        "    iso_forest = IsolationForest(contamination=contamination, random_state=42)\n",
        "    anomalies = iso_forest.fit_predict(X)\n",
        "\n",
        "    # Anomalies are the points labeled as -1\n",
        "    anomaly_indices = np.where(anomalies == -1)[0]\n",
        "\n",
        "    return anomaly_indices\n",
        "\n",
        "# Detect anomalies using Isolation Forest\n",
        "anomalies_iso_forest = isolation_forest_anomaly_detection(X)\n",
        "print(f'Isolation Forest Anomalies detected at indices: {anomalies_iso_forest}')\n"
      ]
    },
    {
      "cell_type": "markdown",
      "id": "bb47fd64",
      "metadata": {
        "id": "bb47fd64"
      },
      "source": [
        "## Exercise 4: One-Class SVM Anomaly Detection\n",
        "Implement anomaly detection using a One-Class SVM on the provided dataset. Choose an appropriate kernel and adjust the nu parameter, which represents the proportion of outliers."
      ]
    },
    {
      "cell_type": "code",
      "execution_count": null,
      "id": "827dc77f",
      "metadata": {
        "id": "827dc77f",
        "outputId": "5ec9e0f0-4296-40d6-c4cc-a387511f30c8"
      },
      "outputs": [
        {
          "name": "stdout",
          "output_type": "stream",
          "text": [
            "One-Class SVM Anomalies detected at indices: [  5   6  11  28  62  99 101 165 218 229 238 250 290]\n"
          ]
        }
      ],
      "source": [
        "def one_class_svm_anomaly_detection(X, nu=0.05, kernel='rbf', gamma='scale'):\n",
        "    \"\"\"Detects anomalies using the One-Class SVM algorithm.\n",
        "\n",
        "    Parameters:\n",
        "    X (array-like): The input features for anomaly detection.\n",
        "    nu (float): An upper bound on the fraction of training errors and a lower bound of the fraction of support vectors.\n",
        "    kernel (str): Specifies the kernel type to be used in the algorithm.\n",
        "    gamma (str): Kernel coefficient for 'rbf', 'poly' and 'sigmoid'.\n",
        "\n",
        "    Returns:\n",
        "    anomalies (array-like): The indices of the anomalies in the dataset.\n",
        "    \"\"\"\n",
        "    # Fit the One-Class SVM model\n",
        "    oc_svm = OneClassSVM(nu=nu, kernel=kernel, gamma=gamma)\n",
        "    oc_svm.fit(X)\n",
        "    predictions = oc_svm.predict(X)\n",
        "\n",
        "    # Anomalies are the points labeled as -1\n",
        "    anomalies = np.where(predictions == -1)[0]\n",
        "\n",
        "    return anomalies\n",
        "\n",
        "# Detect anomalies using One-Class SVM\n",
        "anomalies_oc_svm = one_class_svm_anomaly_detection(X)\n",
        "print(f'One-Class SVM Anomalies detected at indices: {anomalies_oc_svm}')\n"
      ]
    }
  ],
  "metadata": {
    "kernelspec": {
      "display_name": "Python 3 (ipykernel)",
      "language": "python",
      "name": "python3"
    },
    "language_info": {
      "codemirror_mode": {
        "name": "ipython",
        "version": 3
      },
      "file_extension": ".py",
      "mimetype": "text/x-python",
      "name": "python",
      "nbconvert_exporter": "python",
      "pygments_lexer": "ipython3",
      "version": "3.10.12"
    },
    "colab": {
      "provenance": []
    }
  },
  "nbformat": 4,
  "nbformat_minor": 5
}