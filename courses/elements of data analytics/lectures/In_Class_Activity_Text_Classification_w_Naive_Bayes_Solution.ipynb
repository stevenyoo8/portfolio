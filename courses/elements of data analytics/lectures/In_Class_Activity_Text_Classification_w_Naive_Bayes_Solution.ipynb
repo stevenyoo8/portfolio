{
  "nbformat": 4,
  "nbformat_minor": 0,
  "metadata": {
    "colab": {
      "provenance": []
    },
    "kernelspec": {
      "name": "python3",
      "display_name": "Python 3"
    },
    "language_info": {
      "name": "python"
    }
  },
  "cells": [
    {
      "cell_type": "markdown",
      "source": [
        "### **Text Classification with Naive Bayes using Scikit-Learn**\n",
        "\n",
        "\n",
        "\n"
      ],
      "metadata": {
        "id": "zhVFWF2WfZy1"
      }
    },
    {
      "cell_type": "code",
      "execution_count": 1,
      "metadata": {
        "id": "yQMzU8irOUKp",
        "colab": {
          "base_uri": "https://localhost:8080/"
        },
        "outputId": "693790d3-f9ea-4d1e-f3bd-e92d2fc41002"
      },
      "outputs": [
        {
          "output_type": "execute_result",
          "data": {
            "text/plain": [
              "['alt.atheism',\n",
              " 'comp.graphics',\n",
              " 'comp.os.ms-windows.misc',\n",
              " 'comp.sys.ibm.pc.hardware',\n",
              " 'comp.sys.mac.hardware',\n",
              " 'comp.windows.x',\n",
              " 'misc.forsale',\n",
              " 'rec.autos',\n",
              " 'rec.motorcycles',\n",
              " 'rec.sport.baseball',\n",
              " 'rec.sport.hockey',\n",
              " 'sci.crypt',\n",
              " 'sci.electronics',\n",
              " 'sci.med',\n",
              " 'sci.space',\n",
              " 'soc.religion.christian',\n",
              " 'talk.politics.guns',\n",
              " 'talk.politics.mideast',\n",
              " 'talk.politics.misc',\n",
              " 'talk.religion.misc']"
            ]
          },
          "metadata": {},
          "execution_count": 1
        }
      ],
      "source": [
        "from sklearn.datasets import fetch_20newsgroups\n",
        "\n",
        "\n",
        "\n",
        "# This line imports the fetch_20newsgroups function from Scikit-Learn's datasets module.\n",
        "# The fetch_20newsgroups function is used to load the \"20 newsgroups\" dataset, a collection\n",
        "#  of approximately 20,000 newsgroup documents, partitioned across 20 different newsgroups.\n",
        "data = fetch_20newsgroups()\n",
        "data.target_names"
      ]
    },
    {
      "cell_type": "markdown",
      "source": [
        "* **For simplicity here, we will select just a few of these categories, and download the training and testing set**"
      ],
      "metadata": {
        "id": "d_q_QAv3USKA"
      }
    },
    {
      "cell_type": "code",
      "source": [
        "categories = ['talk.religion.misc', 'soc.religion.christian',\n",
        "              'sci.space', 'comp.graphics']\n",
        "train = fetch_20newsgroups(subset='train', categories=categories)\n",
        "test = fetch_20newsgroups(subset='test', categories=categories)"
      ],
      "metadata": {
        "id": "n_ijznZpUGmc"
      },
      "execution_count": 2,
      "outputs": []
    },
    {
      "cell_type": "code",
      "source": [
        "print(train.data[5])"
      ],
      "metadata": {
        "colab": {
          "base_uri": "https://localhost:8080/"
        },
        "id": "_hcU_wwUUMk5",
        "outputId": "de032766-81ac-4b80-a843-d5004ce7232c"
      },
      "execution_count": 3,
      "outputs": [
        {
          "output_type": "stream",
          "name": "stdout",
          "text": [
            "From: dmcgee@uluhe.soest.hawaii.edu (Don McGee)\n",
            "Subject: Federal Hearing\n",
            "Originator: dmcgee@uluhe\n",
            "Organization: School of Ocean and Earth Science and Technology\n",
            "Distribution: usa\n",
            "Lines: 10\n",
            "\n",
            "\n",
            "Fact or rumor....?  Madalyn Murray O'Hare an atheist who eliminated the\n",
            "use of the bible reading and prayer in public schools 15 years ago is now\n",
            "going to appear before the FCC with a petition to stop the reading of the\n",
            "Gospel on the airways of America.  And she is also campaigning to remove\n",
            "Christmas programs, songs, etc from the public schools.  If it is true\n",
            "then mail to Federal Communications Commission 1919 H Street Washington DC\n",
            "20054 expressing your opposition to her request.  Reference Petition number\n",
            "\n",
            "2493.\n",
            "\n"
          ]
        }
      ]
    },
    {
      "cell_type": "markdown",
      "source": [
        "### **Term frequency-inverse document frequency (TF-IDF) vectorizer**\n",
        "\n",
        "\n",
        "* In order to use this data for machine learning, we need to be able to convert the content of each string into a vector of numbers. For this we will use the term frequency-inverse document frequency (TF-IDF) vectorizer, which weights the word counts by a measure of how often they appear in the documents, and create a pipeline that attaches it to a multinomial naive Bayes classifier.\n",
        "\n",
        "\n",
        "* Aside:  One of the simplest methods of encoding data is by word counts: you take each snippet of text, count the occurrences of each word within it, and put the results in a table. For a vectorization of this data based on word count, by using Scikit-Learn's CountVectorizer.\n",
        "\n",
        "* There are some issues with the CountVectorizer approach, however: the raw word counts lead to features which put too much weight on words that appear very frequently, and this can be sub-optimal in some classification algorithms. One approach to fix this is known as term frequency-inverse document frequency (TF–IDF)."
      ],
      "metadata": {
        "id": "D2D8tFNqgQXt"
      }
    },
    {
      "cell_type": "code",
      "source": [
        "from sklearn.feature_extraction.text import TfidfVectorizer\n",
        "from sklearn.naive_bayes import MultinomialNB\n",
        "from sklearn.pipeline import make_pipeline\n",
        "\n",
        "\n",
        "\n",
        "# The make_pipeline function in Scikit-Learn is a utility function\n",
        "# to create a pipeline of transformers and estimators. A pipeline\n",
        "# bundles together a sequence of data processing steps and modeling\n",
        "# into a single scikit-learn estimator. This makes it convenient to\n",
        "# apply the same processing steps to both training and testing data,\n",
        "# ensuring consistency in data transformations.\n",
        "\n",
        "# TfidfVectorizer() is a transformer that converts the raw text data into\n",
        "# a matrix of TF-IDF features. When fit_transform is called on the pipeline,\n",
        "# this transformer learns the vocabulary from the training data and transforms\n",
        "# it into the TF-IDF representation.\n",
        "\n",
        "# MultinomialNB(): This is an estimator that implements the naive Bayes algorithm\n",
        "# for multinomially distributed data. It is one of the two classic naive Bayes variants\n",
        "# used in text classification. When fit is called on the pipeline, this estimator is\n",
        "# trained on the TF-IDF representation of the data.\n",
        "\n",
        "# The pipeline ensures that the data goes through the transformation by TfidfVectorizer\n",
        "# before being passed to MultinomialNB for training or prediction.\n",
        "\n",
        "\n",
        "\n",
        "model = make_pipeline(TfidfVectorizer(stop_words='english'), MultinomialNB())"
      ],
      "metadata": {
        "id": "-s6mImVaUg9X"
      },
      "execution_count": 4,
      "outputs": []
    },
    {
      "cell_type": "markdown",
      "source": [
        "* With this pipeline, we can apply the model to the training data, and predict labels for the test data."
      ],
      "metadata": {
        "id": "2xh_5v9VUkBH"
      }
    },
    {
      "cell_type": "code",
      "source": [
        "model.fit(train.data, train.target)\n",
        "labels = model.predict(test.data)"
      ],
      "metadata": {
        "id": "D9H_TwM_UlDq"
      },
      "execution_count": 5,
      "outputs": []
    },
    {
      "cell_type": "markdown",
      "source": [
        "* Now that we have predicted the labels for the test data, we can evaluate them to learn about the performance of the estimator. For example, here is the confusion matrix between the true and predicted labels for the test data."
      ],
      "metadata": {
        "id": "MzgWtw7QUtB-"
      }
    },
    {
      "cell_type": "code",
      "source": [
        "from sklearn.metrics import confusion_matrix\n",
        "%matplotlib inline\n",
        "import numpy as np\n",
        "import matplotlib.pyplot as plt\n",
        "import seaborn as sns; sns.set()\n",
        "\n",
        "\n",
        "mat = confusion_matrix(test.target, labels)\n",
        "sns.heatmap(mat.T, square=True, annot=True, fmt='d', cbar=False,\n",
        "            xticklabels=train.target_names, yticklabels=train.target_names)\n",
        "plt.xlabel('true label')\n",
        "plt.ylabel('predicted label');"
      ],
      "metadata": {
        "colab": {
          "base_uri": "https://localhost:8080/",
          "height": 601
        },
        "id": "IKCSXM3cUuS8",
        "outputId": "a4b4961e-9c73-4d68-c0b3-cd53cbf19999"
      },
      "execution_count": 6,
      "outputs": [
        {
          "output_type": "display_data",
          "data": {
            "text/plain": [
              "<Figure size 640x480 with 1 Axes>"
            ],
            "image/png": "[encoded data removed]"
          },
          "metadata": {}
        }
      ]
    },
    {
      "cell_type": "markdown",
      "source": [
        "* This very simple classifier can successfully separate space talk from computer talk, but it gets confused between talk about religion and talk about Christianity.\n",
        "\n",
        "* We can now determine the category for any string, using the `predict()` method of this pipeline"
      ],
      "metadata": {
        "id": "iiB76MRtVA_u"
      }
    },
    {
      "cell_type": "code",
      "source": [
        "def predict_category(s, train=train, model=model):\n",
        "    pred = model.predict([s])\n",
        "    return train.target_names[pred[0]]"
      ],
      "metadata": {
        "id": "N8BHVwHfVLvV"
      },
      "execution_count": 7,
      "outputs": []
    },
    {
      "cell_type": "code",
      "source": [
        "predict_category('determining the screen resolution')"
      ],
      "metadata": {
        "colab": {
          "base_uri": "https://localhost:8080/",
          "height": 35
        },
        "id": "6SAAGPp_Uwg9",
        "outputId": "99b2772b-e4dc-48fc-9c4b-223a36c14f95"
      },
      "execution_count": 8,
      "outputs": [
        {
          "output_type": "execute_result",
          "data": {
            "text/plain": [
              "'comp.graphics'"
            ],
            "application/vnd.google.colaboratory.intrinsic+json": {
              "type": "string"
            }
          },
          "metadata": {},
          "execution_count": 8
        }
      ]
    },
    {
      "cell_type": "markdown",
      "source": [
        "* A TfidfVectorizer to transform the text data into TF-IDF feature vectors.\n",
        "* A MultinomialNB classifier to perform the classification."
      ],
      "metadata": {
        "id": "Z3TPl64vaZwN"
      }
    },
    {
      "cell_type": "code",
      "source": [
        "# Fit the model on the training data\n",
        "model.fit(train.data, train.target)\n",
        "\n",
        "# Extract the class labels and feature names\n",
        "class_labels = train.target_names\n",
        "feature_names = model.named_steps[\"tfidfvectorizer\"].get_feature_names_out()\n",
        "\n",
        "# Log probabilities refer to the logarithm of probabilities. In many computational\n",
        "# applications, especially those involving small probabilities, it's often more\n",
        "# convenient and numerically stable to work with log probabilities rather than raw\n",
        "# probabilities.Get the log probabilities from the MultinomialNB model.\n",
        "log_probabilities = model.named_steps[\"multinomialnb\"].feature_log_prob_\n",
        "\n",
        "# Extract the top features for each class\n",
        "num_top_features = 10\n",
        "top_features_per_class = {}\n",
        "\n",
        "for i, class_label in enumerate(class_labels):\n",
        "    top_features = log_probabilities[i].argsort()[-num_top_features:][::-1]\n",
        "    top_feature_names = [feature_names[idx] for idx in top_features]\n",
        "    top_features_per_class[class_label] = top_feature_names\n",
        "\n",
        "# These are the words that the model determines to be most indicative of a\n",
        "# particular class. They might not necessarily be the most frequent words.\n",
        "#  Instead, they are words that, when present, provide strong evidence about the class of the document.\n",
        "print(top_features_per_class)\n",
        "\n",
        "from sklearn.metrics import accuracy_score\n",
        "\n",
        "# Predict the class labels for the test data\n",
        "predicted_labels = model.predict(test.data)\n",
        "\n",
        "# Compute the accuracy\n",
        "accuracy = accuracy_score(test.target, predicted_labels)\n",
        "\n",
        "print(f\"Model Accuracy: {accuracy:.2f}\")\n"
      ],
      "metadata": {
        "colab": {
          "base_uri": "https://localhost:8080/"
        },
        "id": "YIr6v9g7aZGh",
        "outputId": "89d21820-255e-4ca0-e729-0e27d8593721"
      },
      "execution_count": 9,
      "outputs": [
        {
          "output_type": "stream",
          "name": "stdout",
          "text": [
            "{'comp.graphics': ['graphics', 'edu', 'com', 'lines', 'image', 'university', 'files', 'subject', 'organization', 'posting'], 'sci.space': ['space', 'edu', 'nasa', 'henry', 'access', 'com', 'alaska', 'gov', 'moon', 'toronto'], 'soc.religion.christian': ['god', 'edu', 'jesus', 'people', 'church', 'christians', 'bible', 'believe', 'christian', 'hell'], 'talk.religion.misc': ['com', 'sandvik', 'edu', 'god', 'jesus', 'people', 'kent', 'christian', 'morality', 'writes']}\n",
            "Model Accuracy: 0.86\n"
          ]
        }
      ]
    },
    {
      "cell_type": "markdown",
      "source": [
        "## **Exercise:**\n",
        "\n",
        "* Write a Python function named `naive_bayes_text_classifier` that takes in training and test data and returns the accuracy of a Naive Bayes classifier and the top 10 indicative words for each category.\n",
        "\n",
        "* Use [CountVectorizer](https://scikit-learn.org/stable/modules/generated/sklearn.feature_extraction.text.CountVectorizer.html) from Scikit-Learn to preprocess the messages. Train a Naive Bayes classifier using MultinomialNB on the training data.\n",
        "\n"
      ],
      "metadata": {
        "id": "jhrKSvxkdzCi"
      }
    },
    {
      "cell_type": "code",
      "source": [
        "from sklearn.datasets import fetch_20newsgroups\n",
        "from sklearn.feature_extraction.text import CountVectorizer\n",
        "from sklearn.naive_bayes import MultinomialNB\n",
        "from sklearn.metrics import accuracy_score\n",
        "\n",
        "\n",
        "def naive_bayes_text_classifier(train_data, test_data):\n",
        "    \"\"\"\n",
        "    Train a Naive Bayes classifier on text data and return its accuracy and the top indicative words for each category.\n",
        "\n",
        "    This function preprocesses the text data using CountVectorizer from Scikit-Learn, trains a Naive Bayes classifier\n",
        "    using MultinomialNB on the training data, and then evaluates its accuracy on the test data. It also extracts the top\n",
        "    10 indicative words for each category based on the trained Naive Bayes model.\n",
        "\n",
        "    Parameters:\n",
        "    -----------\n",
        "    train_data : sklearn.utils.Bunch\n",
        "        Training data obtained from fetch_20newsgroups with subset='train'.\n",
        "        Expected attributes are 'data' for the text data and 'target' for the labels.\n",
        "\n",
        "    test_data : sklearn.utils.Bunch\n",
        "        Test data obtained from fetch_20newsgroups with subset='test'.\n",
        "        Expected attributes are 'data' for the text data and 'target' for the labels.\n",
        "\n",
        "    Returns:\n",
        "    --------\n",
        "    accuracy : float\n",
        "        Accuracy of the Naive Bayes classifier on the test data.\n",
        "\n",
        "    top_words_per_category : dict\n",
        "        A dictionary where keys are category names and values are lists of the top 10 indicative words for each category.\n",
        "\n",
        "    Example:\n",
        "    --------\n",
        "    >>> from sklearn.datasets import fetch_20newsgroups\n",
        "    >>> selected_categories = ['talk.religion.misc', 'soc.religion.christian', 'sci.space', 'comp.graphics']\n",
        "    >>> train_data = fetch_20newsgroups(subset='train', categories=selected_categories)\n",
        "    >>> test_data = fetch_20newsgroups(subset='test', categories=selected_categories)\n",
        "    >>> accuracy, top_words_per_category = naive_bayes_text_classifier(train_data, test_data)\n",
        "    >>> print(f\"Accuracy: {accuracy:.2f}\")\n",
        "    Accuracy: 0.95\n",
        "    >>> for category, words in top_words_per_category.items():\n",
        "    ...     print(f\"Top words for {category}: {words}\")\n",
        "    Top words for talk.religion.misc: [...]\n",
        "    Top words for soc.religion.christian: [...]\n",
        "    Top words for sci.space: [...]\n",
        "    Top words for comp.graphics: [...]\n",
        "    \"\"\"\n",
        "    # Preprocess the messages using CountVectorizer\n",
        "    vectorizer = CountVectorizer(stop_words='english')\n",
        "    X_train = vectorizer.fit_transform(train_data.data)\n",
        "    y_train = train_data.target\n",
        "\n",
        "    X_test = vectorizer.transform(test_data.data)\n",
        "    y_test = test_data.target\n",
        "\n",
        "    # Train a Naive Bayes classifier on the training data\n",
        "    clf = MultinomialNB()\n",
        "    clf.fit(X_train, y_train)\n",
        "\n",
        "    # Evaluate the classifier on the test data\n",
        "    y_pred = clf.predict(X_test)\n",
        "    accuracy = accuracy_score(y_test, y_pred)\n",
        "\n",
        "    feature_names = vectorizer.get_feature_names_out()\n",
        "    top_n = 10\n",
        "\n",
        "    top_words_per_category = {}\n",
        "    for i, category in enumerate(train_data.target_names):\n",
        "        sorted_feature_indexes = clf.feature_log_prob_[i].argsort()\n",
        "        top_words = [feature_names[idx] for idx in sorted_feature_indexes[-top_n:]]\n",
        "        top_words_per_category[category] = top_words\n",
        "\n",
        "    return accuracy, top_words_per_category\n",
        "\n",
        "\n",
        "selected_categories = ['talk.religion.misc', 'soc.religion.christian', 'sci.space', 'comp.graphics']\n",
        "train_data = fetch_20newsgroups(subset='train', categories=selected_categories)\n",
        "test_data = fetch_20newsgroups(subset='test', categories=selected_categories)\n",
        "\n",
        "accuracy, top_words_per_category = naive_bayes_text_classifier(train_data, test_data)\n",
        "print(f\"Accuracy: {accuracy:.2f}\")\n",
        "for category, words in top_words_per_category.items():\n",
        "    print(f\"Top words for {category}: {words}\")\n",
        "\n"
      ],
      "metadata": {
        "id": "mvwVjus5dyma",
        "colab": {
          "base_uri": "https://localhost:8080/"
        },
        "outputId": "e94537d9-250d-4b87-b707-022828d193a9"
      },
      "execution_count": 10,
      "outputs": [
        {
          "output_type": "stream",
          "name": "stdout",
          "text": [
            "Accuracy: 0.93\n",
            "Top words for comp.graphics: ['file', 'posting', 'university', 'com', 'image', 'organization', 'graphics', 'subject', 'lines', 'edu']\n",
            "Top words for sci.space: ['gov', 'article', 'writes', 'com', 'lines', 'organization', 'subject', 'nasa', 'edu', 'space']\n",
            "Top words for soc.religion.christian: ['church', 'know', 'think', 'organization', 'lines', 'jesus', 'people', 'subject', 'edu', 'god']\n",
            "Top words for talk.religion.misc: ['article', 'writes', 'lines', 'jesus', 'organization', 'people', 'subject', 'god', 'com', 'edu']\n"
          ]
        }
      ]
    }
  ]
}