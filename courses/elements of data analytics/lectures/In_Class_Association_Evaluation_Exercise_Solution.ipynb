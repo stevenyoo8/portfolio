{
 "cells": [
  {
   "cell_type": "markdown",
   "metadata": {},
   "source": [
    "### **Association Analysis Metrics**\n",
    "\n",
    "* Let's implement support, confidence, and lift metrics from scratch."
   ]
  },
  {
   "cell_type": "code",
   "execution_count": 1,
   "metadata": {},
   "outputs": [],
   "source": [
    "def calculate_support(transactions, itemset):\n",
    "    '''Calculate the support for a given itemset in a list of transactions.\n",
    "    \n",
    "    Support is defined as the proportion of transactions in the list that contain\n",
    "    the given itemset. This function counts how many transactions contain the \n",
    "    itemset and divides that by the total number of transactions.\n",
    "    \n",
    "    Parameters:\n",
    "        transactions: A list of transactions, each transaction is a list of items.\n",
    "        itemset: A list of items that constitutes the itemset to calculate support for.\n",
    "    \n",
    "    Returns:\n",
    "    float: The support value for the itemset, a number between 0 and 1.'''\n",
    "    num_transactions = len(transactions)\n",
    "    num_transactions_containing_itemset = sum(1 for transaction in transactions if all(item in transaction for item in itemset))\n",
    "    \n",
    "    return num_transactions_containing_itemset / num_transactions"
   ]
  },
  {
   "cell_type": "code",
   "execution_count": 2,
   "metadata": {},
   "outputs": [],
   "source": [
    "def calculate_confidence(transactions, antecedent, consequent):\n",
    "    '''Calculate the confidence for a rule defined by an antecedent leading to a consequent.\n",
    "    \n",
    "    Confidence is defined as the proportion of transactions containing the antecedent\n",
    "    that also contain the consequent. This function uses the support of the antecedent\n",
    "    and the support of the combined itemset (antecedent and consequent) to calculate confidence.\n",
    "    \n",
    "    Parameters:\n",
    "        transactions (list of list): A list of transactions, each transaction is a list of items.\n",
    "        antecedent (list): The antecedent itemset in the association rule.\n",
    "        consequent (list): The consequent itemset in the association rule.\n",
    "    \n",
    "    Returns:\n",
    "    float: The confidence value for the rule, a number between 0 and 1.'''\n",
    "    support_X_and_Y = calculate_support(transactions, antecedent + consequent)\n",
    "    support_X = calculate_support(transactions, antecedent)\n",
    "    return support_X_and_Y / support_X"
   ]
  },
  {
   "cell_type": "code",
   "execution_count": 3,
   "metadata": {},
   "outputs": [],
   "source": [
    "def calculate_lift(transactions, antecedent, consequent):\n",
    "    '''Calculate the lift for a rule defined by an antecedent leading to a consequent.\n",
    "    \n",
    "    Lift measures how much more often the antecedent and consequent of a rule occur together\n",
    "    than we would expect if they were statistically independent. This function calculates lift\n",
    "    by dividing the confidence of the rule by the support of the consequent.\n",
    "    \n",
    "    Parameters:\n",
    "    transactions (list of list): A list of transactions, each transaction is a list of items.\n",
    "    antecedent (list): The antecedent itemset in the association rule.\n",
    "    consequent (list): The consequent itemset in the association rule.\n",
    "    \n",
    "    Returns:\n",
    "    float: The lift value for the rule. A value greater than 1 indicates a positive association.'''\n",
    "    confidence = calculate_confidence(transactions, antecedent, consequent)\n",
    "    support_Y = calculate_support(transactions, consequent)\n",
    "    return confidence / support_Y"
   ]
  },
  {
   "cell_type": "code",
   "execution_count": 4,
   "metadata": {},
   "outputs": [],
   "source": [
    "def calculate_leverage(transactions, antecedent, consequent):\n",
    "    \"\"\"\n",
    "    Calculate the leverage for an association rule.\n",
    "    \n",
    "    Leverage provides a measure of the difference in probability between \n",
    "    the observed frequency of A and B appearing together and the frequency \n",
    "    that would be expected if A and B were independent.\n",
    "    \n",
    "    Parameters:\n",
    "        transactions (list of list): A list of transactions, each transaction is a list of items.\n",
    "        antecedent (list): The antecedent itemset in the association rule.\n",
    "        consequent (list): The consequent itemset in the association rule.\n",
    "    \n",
    "    Returns:\n",
    "    float: The leverage value for the rule.\n",
    "    \"\"\"\n",
    "    support_X_and_Y = calculate_support(transactions, antecedent + consequent)\n",
    "    support_X = calculate_support(transactions, antecedent)\n",
    "    support_Y = calculate_support(transactions, consequent)\n",
    "    return support_X_and_Y - (support_X * support_Y)\n"
   ]
  },
  {
   "cell_type": "code",
   "execution_count": 5,
   "metadata": {},
   "outputs": [],
   "source": [
    "def calculate_conviction(transactions, antecedent, consequent):\n",
    "    \"\"\"\n",
    "    Calculate the conviction of an association rule.\n",
    "    \n",
    "    Conviction compares the probability of X appearing without Y if they \n",
    "    were dependent with the actual frequency of the appearance of X without Y. \n",
    "    A high conviction value means that the consequent is highly dependent on the antecedent.\n",
    "    \n",
    "    Parameters:\n",
    "        transactions (list of list): A list of transactions, each transaction is a list of items.\n",
    "        antecedent (list): The antecedent itemset in the association rule.\n",
    "        consequent (list): The consequent itemset in the association rule.\n",
    "    \n",
    "    Returns:\n",
    "    float: The conviction value for the rule, which is high if consequent is highly dependent on antecedent.\n",
    "    \"\"\"\n",
    "    support_X = calculate_support(transactions, antecedent)\n",
    "    support_Y = calculate_support(transactions, consequent)\n",
    "    support_X_and_Y = calculate_support(transactions, antecedent + consequent)\n",
    "    confidence_X_to_Y = calculate_confidence(transactions, antecedent, consequent)\n",
    "    \n",
    "    # To handle the case when confidence is 1, which would cause division by zero,\n",
    "    # we return infinity.\n",
    "    if confidence_X_to_Y == 1:\n",
    "        return float('inf')\n",
    "    \n",
    "    return (1 - support_Y) / (1 - confidence_X_to_Y)"
   ]
  },
  {
   "cell_type": "markdown",
   "metadata": {},
   "source": [
    "#### **Sample Dataset**"
   ]
  },
  {
   "cell_type": "code",
   "execution_count": 6,
   "metadata": {},
   "outputs": [],
   "source": [
    "# Sample transaction database\n",
    "transactions = [\n",
    "    ['milk', 'bread', 'orange juice'],\n",
    "    ['milk', 'bread'],\n",
    "    ['milk', 'cookies'],\n",
    "    ['bread', 'butter'],\n",
    "    ['milk', 'bread', 'butter'],\n",
    "    ['bread', 'cookies'],\n",
    "]"
   ]
  },
  {
   "cell_type": "markdown",
   "metadata": {},
   "source": [
    "* **Support**"
   ]
  },
  {
   "cell_type": "code",
   "execution_count": 7,
   "metadata": {},
   "outputs": [
    {
     "name": "stdout",
     "output_type": "stream",
     "text": [
      "Support for 'milk': 0.6666666666666666\n"
     ]
    }
   ],
   "source": [
    "support_milk = calculate_support(transactions, ['milk'])\n",
    "support_bread = calculate_support(transactions, ['bread'])\n",
    "print(f\"Support for 'milk': {support_milk}\")"
   ]
  },
  {
   "cell_type": "code",
   "execution_count": 8,
   "metadata": {},
   "outputs": [
    {
     "name": "stdout",
     "output_type": "stream",
     "text": [
      "Support for 'bread': 0.8333333333333334\n"
     ]
    }
   ],
   "source": [
    "print(f\"Support for 'bread': {support_bread}\")"
   ]
  },
  {
   "cell_type": "markdown",
   "metadata": {},
   "source": [
    "* **Confidence**"
   ]
  },
  {
   "cell_type": "code",
   "execution_count": 9,
   "metadata": {},
   "outputs": [
    {
     "name": "stdout",
     "output_type": "stream",
     "text": [
      "Confidence for 'milk' -> 'bread': 0.75\n"
     ]
    }
   ],
   "source": [
    "confidence_milk_to_bread = calculate_confidence(transactions, ['milk'], ['bread'])\n",
    "print(f\"Confidence for 'milk' -> 'bread': {confidence_milk_to_bread}\")"
   ]
  },
  {
   "cell_type": "markdown",
   "metadata": {},
   "source": [
    "* **Lift**"
   ]
  },
  {
   "cell_type": "code",
   "execution_count": 10,
   "metadata": {},
   "outputs": [
    {
     "name": "stdout",
     "output_type": "stream",
     "text": [
      "Lift for 'milk' -> 'bread': 0.8999999999999999\n"
     ]
    }
   ],
   "source": [
    "lift_milk_to_bread = calculate_lift(transactions, ['milk'], ['bread'])\n",
    "print(f\"Lift for 'milk' -> 'bread': {lift_milk_to_bread}\")"
   ]
  },
  {
   "cell_type": "markdown",
   "metadata": {},
   "source": [
    "* **Leverage**"
   ]
  },
  {
   "cell_type": "code",
   "execution_count": 11,
   "metadata": {},
   "outputs": [
    {
     "name": "stdout",
     "output_type": "stream",
     "text": [
      "Leverage of 'milk' -> 'bread': -0.05555555555555558\n"
     ]
    }
   ],
   "source": [
    "# Calculate leverage and conviction for 'milk' -> 'bread'\n",
    "leverage_milk_bread = calculate_leverage(transactions, ['milk'], ['bread'])\n",
    "print(\"Leverage of 'milk' -> 'bread':\", leverage_milk_bread)"
   ]
  },
  {
   "cell_type": "markdown",
   "metadata": {},
   "source": [
    "* **Conviction**\n"
   ]
  },
  {
   "cell_type": "code",
   "execution_count": 12,
   "metadata": {},
   "outputs": [
    {
     "name": "stdout",
     "output_type": "stream",
     "text": [
      "Conviction of 'milk' -> 'bread': 0.6666666666666665\n"
     ]
    }
   ],
   "source": [
    "conviction_milk_bread = calculate_conviction(transactions, ['milk'], ['bread'])\n",
    "print(\"Conviction of 'milk' -> 'bread':\", conviction_milk_bread)"
   ]
  },
  {
   "cell_type": "markdown",
   "metadata": {},
   "source": [
    "* In this vanilla Python version above, the frequent itemset calculation is not explicitly performed because we are directly computing the support, confidence, and lift for specific itemsets or rules. However, in a typical association rule mining process, finding frequent itemsets is a crucial step before you can calculate confidence or lift. The support metric is actually used to determine whether an itemset is considered \"frequent\".\n",
    "\n",
    "* Let's use mlextend library that you have used in your homework, to calculate the same metrics."
   ]
  },
  {
   "cell_type": "code",
   "execution_count": 13,
   "metadata": {},
   "outputs": [
    {
     "name": "stdout",
     "output_type": "stream",
     "text": [
      "              antecedents            consequents   support  confidence  lift  \\\n",
      "0                (butter)                (bread)  0.333333    1.000000  1.20   \n",
      "1                 (bread)               (butter)  0.333333    0.400000  1.20   \n",
      "2               (cookies)                (bread)  0.166667    0.500000  0.60   \n",
      "3                 (bread)              (cookies)  0.166667    0.200000  0.60   \n",
      "4                  (milk)                (bread)  0.500000    0.750000  0.90   \n",
      "5                 (bread)                 (milk)  0.500000    0.600000  0.90   \n",
      "6          (orange juice)                (bread)  0.166667    1.000000  1.20   \n",
      "7                 (bread)         (orange juice)  0.166667    0.200000  1.20   \n",
      "8                  (milk)               (butter)  0.166667    0.250000  0.75   \n",
      "9                (butter)                 (milk)  0.166667    0.500000  0.75   \n",
      "10                 (milk)              (cookies)  0.166667    0.250000  0.75   \n",
      "11              (cookies)                 (milk)  0.166667    0.500000  0.75   \n",
      "12                 (milk)         (orange juice)  0.166667    0.250000  1.50   \n",
      "13         (orange juice)                 (milk)  0.166667    1.000000  1.50   \n",
      "14         (milk, butter)                (bread)  0.166667    1.000000  1.20   \n",
      "15          (milk, bread)               (butter)  0.166667    0.333333  1.00   \n",
      "16        (butter, bread)                 (milk)  0.166667    0.500000  0.75   \n",
      "17                 (milk)        (butter, bread)  0.166667    0.250000  0.75   \n",
      "18               (butter)          (milk, bread)  0.166667    0.500000  1.00   \n",
      "19                (bread)         (milk, butter)  0.166667    0.200000  1.20   \n",
      "20   (milk, orange juice)                (bread)  0.166667    1.000000  1.20   \n",
      "21          (milk, bread)         (orange juice)  0.166667    0.333333  2.00   \n",
      "22  (bread, orange juice)                 (milk)  0.166667    1.000000  1.50   \n",
      "23                 (milk)  (bread, orange juice)  0.166667    0.250000  1.50   \n",
      "24         (orange juice)          (milk, bread)  0.166667    1.000000  2.00   \n",
      "25                (bread)   (milk, orange juice)  0.166667    0.200000  1.20   \n",
      "\n",
      "    leverage  conviction  \n",
      "0   0.055556         inf  \n",
      "1   0.055556    1.111111  \n",
      "2  -0.111111    0.333333  \n",
      "3  -0.111111    0.833333  \n",
      "4  -0.055556    0.666667  \n",
      "5  -0.055556    0.833333  \n",
      "6   0.027778         inf  \n",
      "7   0.027778    1.041667  \n",
      "8  -0.055556    0.888889  \n",
      "9  -0.055556    0.666667  \n",
      "10 -0.055556    0.888889  \n",
      "11 -0.055556    0.666667  \n",
      "12  0.055556    1.111111  \n",
      "13  0.055556         inf  \n",
      "14  0.027778         inf  \n",
      "15  0.000000    1.000000  \n",
      "16 -0.055556    0.666667  \n",
      "17 -0.055556    0.888889  \n",
      "18  0.000000    1.000000  \n",
      "19  0.027778    1.041667  \n",
      "20  0.027778         inf  \n",
      "21  0.083333    1.250000  \n",
      "22  0.055556         inf  \n",
      "23  0.055556    1.111111  \n",
      "24  0.083333         inf  \n",
      "25  0.027778    1.041667  \n"
     ]
    }
   ],
   "source": [
    "import pandas as pd\n",
    "from mlxtend.frequent_patterns import apriori, association_rules\n",
    "from mlxtend.preprocessing import TransactionEncoder\n",
    "\n",
    "# Sample transaction database\n",
    "transactions = [\n",
    "    ['milk', 'bread', 'orange juice'],\n",
    "    ['milk', 'bread'],\n",
    "    ['milk', 'cookies'],\n",
    "    ['bread', 'butter'],\n",
    "    ['milk', 'bread', 'butter'],\n",
    "    ['bread', 'cookies'],\n",
    "]\n",
    "\n",
    "# Initialize TransactionEncoder\n",
    "te = TransactionEncoder()\n",
    "te_ary = te.fit(transactions).transform(transactions)\n",
    "df = pd.DataFrame(te_ary, columns=te.columns_)\n",
    "\n",
    "# Use apriori to find frequent itemsets with min_support\n",
    "frequent_itemsets = apriori(df, min_support=0.01, use_colnames=True)\n",
    "\n",
    "# Use association_rules to calculate all metrics including leverage and conviction\n",
    "rules = association_rules(frequent_itemsets, metric=\"confidence\", min_threshold=0.01)\n",
    "\n",
    "# Add leverage and conviction to the metrics to be calculated\n",
    "rules = rules[['antecedents', 'consequents', 'support', 'confidence', 'lift', 'leverage', 'conviction']]\n",
    "\n",
    "print(rules)"
   ]
  },
  {
   "cell_type": "code",
   "execution_count": 14,
   "metadata": {},
   "outputs": [],
   "source": [
    "support_milk_mlextend = frequent_itemsets[frequent_itemsets['itemsets'] == {'milk'}]['support'].values[0]"
   ]
  },
  {
   "cell_type": "code",
   "execution_count": 15,
   "metadata": {},
   "outputs": [],
   "source": [
    "#Select the rule \"milk\" -> \"bread\"\n",
    "selected_rule = rules[(rules['antecedents'] == frozenset({'milk'})) & (rules['consequents'] == frozenset({'bread'}))]\n",
    "\n",
    "# Display the confidence and lift for the rule \"milk\" -> \"bread\"\n",
    "confidence_milk_to_bread_mlextend = selected_rule['confidence'].values[0]\n",
    "lift_milk_to_bread_mlextend = selected_rule['lift'].values[0]"
   ]
  },
  {
   "cell_type": "code",
   "execution_count": 16,
   "metadata": {},
   "outputs": [],
   "source": [
    "# The 'rules' DataFrame now contains the conviction and leverage metrics for each rule\n",
    "# You can filter the rules for the specific \"milk\" -> \"bread\" rule\n",
    "selected_rule = rules[(rules['antecedents'] == frozenset({'milk'})) & (rules['consequents'] == frozenset({'bread'}))]\n",
    "\n",
    "# Display the conviction and leverage for the rule \"milk\" -> \"bread\"\n",
    "conviction_milk_to_bread_mlextend = selected_rule['conviction'].values[0]\n",
    "leverage_milk_to_bread_mlextend = selected_rule['leverage'].values[0]"
   ]
  },
  {
   "cell_type": "code",
   "execution_count": 17,
   "metadata": {},
   "outputs": [
    {
     "data": {
      "text/plain": [
       "0.6666666666666666"
      ]
     },
     "execution_count": 17,
     "metadata": {},
     "output_type": "execute_result"
    }
   ],
   "source": [
    "support_milk_mlextend"
   ]
  },
  {
   "cell_type": "code",
   "execution_count": 18,
   "metadata": {},
   "outputs": [
    {
     "data": {
      "text/plain": [
       "0.75"
      ]
     },
     "execution_count": 18,
     "metadata": {},
     "output_type": "execute_result"
    }
   ],
   "source": [
    "confidence_milk_to_bread_mlextend"
   ]
  },
  {
   "cell_type": "code",
   "execution_count": 19,
   "metadata": {},
   "outputs": [
    {
     "data": {
      "text/plain": [
       "0.8999999999999999"
      ]
     },
     "execution_count": 19,
     "metadata": {},
     "output_type": "execute_result"
    }
   ],
   "source": [
    "lift_milk_to_bread_mlextend"
   ]
  },
  {
   "cell_type": "code",
   "execution_count": 20,
   "metadata": {},
   "outputs": [
    {
     "data": {
      "text/plain": [
       "0.6666666666666665"
      ]
     },
     "execution_count": 20,
     "metadata": {},
     "output_type": "execute_result"
    }
   ],
   "source": [
    "conviction_milk_to_bread_mlextend"
   ]
  },
  {
   "cell_type": "code",
   "execution_count": 21,
   "metadata": {},
   "outputs": [
    {
     "data": {
      "text/plain": [
       "-0.05555555555555558"
      ]
     },
     "execution_count": 21,
     "metadata": {},
     "output_type": "execute_result"
    }
   ],
   "source": [
    "leverage_milk_to_bread_mlextend"
   ]
  },
  {
   "cell_type": "markdown",
   "metadata": {},
   "source": [
    "#### **Possible Interpretation of Results**\n",
    "\n",
    "* The negative leverage suggests that \"milk\" and \"bread\" occur together less often than would be expected if they were statistically independent, indicating a possible negative association. The conviction value is less than 1, which, in this context, suggests that \"bread\" does not strongly depend on \"milk\"; that is, \"bread\" is likely to be purchased regardless of whether \"milk\" is purchased."
   ]
  }
 ],
 "metadata": {
  "kernelspec": {
   "display_name": "Python 3",
   "language": "python",
   "name": "python3"
  },
  "language_info": {
   "codemirror_mode": {
    "name": "ipython",
    "version": 3
   },
   "file_extension": ".py",
   "mimetype": "text/x-python",
   "name": "python",
   "nbconvert_exporter": "python",
   "pygments_lexer": "ipython3",
   "version": "3.11.2"
  }
 },
 "nbformat": 4,
 "nbformat_minor": 4
}
