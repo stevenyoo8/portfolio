{
  "cells": [
    {
      "cell_type": "markdown",
      "metadata": {
        "id": "zB1FWjmYW3xi"
      },
      "source": [
        "\n",
        "# **HW7: Naive Bayes Classifier**\n",
        "\n",
        "### **Steven Yoo**\n",
        "\n",
        "**Attention: This is an individual assignment.**\n"
      ]
    },
    {
      "cell_type": "markdown",
      "metadata": {
        "id": "cdds_gx9XIRe"
      },
      "source": [
        "For this week's homework we are going explore one new classification technique:\n",
        "\n",
        "  - Naive Bayes\n",
        "\n",
        "We are reusing the version of the Melbourne housing data set from HW5, to predict the housing type as one of three possible categories:\n",
        "\n",
        "  - 'h' house\n",
        "  - 'u' duplex\n",
        "  - 't' townhouse\n",
        "\n",
        "In addition to building our own Naive Bayes classifier, we are going to compare the performace of our classifier to the [Gaussian Naive Bayes Classifier](https://scikit-learn.org/stable/modules/naive_bayes.html#gaussian-naive-bayes) available in the scikit-learn library.\n"
      ]
    },
    {
      "cell_type": "code",
      "execution_count": 2,
      "metadata": {
        "id": "u8wxbfATWnN8"
      },
      "outputs": [],
      "source": [
        "# These are the libraries you will use for this assignment\n",
        "import pandas as pd\n",
        "import numpy as np\n",
        "import matplotlib.pyplot as plt\n",
        "import time\n",
        "import calendar\n",
        "from sklearn.naive_bayes import GaussianNB # The only thing in scikit-learn you can use this assignment\n",
        "\n",
        "# Starting off loading a training set and setting a variable for the target column, \"Type\"\n",
        "df_melb = pd.read_csv('https://gist.githubusercontent.com/yanyanzheng96/81b236aecee57f6cf65e60afd865d2bb/raw/56ddb53aa90c26ab1bdbfd0b8d8229c8d08ce45a/melb_data_train.csv')\n",
        "target_col = 'Type'"
      ]
    },
    {
      "cell_type": "markdown",
      "metadata": {
        "id": "UD9-APD7X7Vi"
      },
      "source": [
        "## **Q1 - Fix a column of data to be numeric**\n",
        "If we inspect our dataframe, `df_melb` using the `dtypes` method, we see that the column \"Date\" is an object.  However, we think this column might contain useful information so we want to convert it to [seconds since epoch](https://en.wikipedia.org/wiki/Unix_time). Use only the exiting imported libraries to create a new column \"unixtime\". Be careful, the date strings in the file might have some non-uniform formating that you have to fix first.  Print out the min and max epoch time to check your work.  Drop the original \"Date\" column."
      ]
    },
    {
      "cell_type": "code",
      "execution_count": 3,
      "metadata": {
        "id": "YiY_4LDRW4Nd"
      },
      "outputs": [],
      "source": [
        "# Normalize date accepts the date string as shown in the df_melb 'Date' column,\n",
        "# and returns a data in a standarized format\n",
        "\n",
        "def normalize_date(d):\n",
        "  (day,month,year) = d.split('/')\n",
        "  if len(year) == 2:\n",
        "      year = \"20\" + year\n",
        "  return( day + \"/\" + month + \"/\" + year)"
      ]
    },
    {
      "cell_type": "code",
      "execution_count": 4,
      "metadata": {
        "id": "whKPPiU6YcW1"
      },
      "outputs": [
        {
          "name": "stdout",
          "output_type": "stream",
          "text": [
            "The min unixtime is 1454544000 and the max unixtime is 1506124800\n"
          ]
        }
      ],
      "source": [
        "df_melb['Date'] = df_melb['Date'].apply( normalize_date )\n",
        "df_melb['unixtime'] = df_melb['Date'].apply(lambda x: calendar.timegm(time.strptime(x,\"%d/%m/%Y\")))\n",
        "df_melb = df_melb.drop(columns=\"Date\")\n",
        "\n",
        "print(\"The min unixtime is {:d} and the max unixtime is {:d}\".format(df_melb['unixtime'].min(),df_melb['unixtime'].max()))"
      ]
    },
    {
      "cell_type": "code",
      "execution_count": 5,
      "metadata": {},
      "outputs": [
        {
          "data": {
            "text/html": [
              "<div>\n",
              "<style scoped>\n",
              "    .dataframe tbody tr th:only-of-type {\n",
              "        vertical-align: middle;\n",
              "    }\n",
              "\n",
              "    .dataframe tbody tr th {\n",
              "        vertical-align: top;\n",
              "    }\n",
              "\n",
              "    .dataframe thead th {\n",
              "        text-align: right;\n",
              "    }\n",
              "</style>\n",
              "<table border=\"1\" class=\"dataframe\">\n",
              "  <thead>\n",
              "    <tr style=\"text-align: right;\">\n",
              "      <th></th>\n",
              "      <th>Rooms</th>\n",
              "      <th>Type</th>\n",
              "      <th>Price</th>\n",
              "      <th>Distance</th>\n",
              "      <th>Postcode</th>\n",
              "      <th>Bathroom</th>\n",
              "      <th>Car</th>\n",
              "      <th>Landsize</th>\n",
              "      <th>BuildingArea</th>\n",
              "      <th>YearBuilt</th>\n",
              "      <th>unixtime</th>\n",
              "    </tr>\n",
              "  </thead>\n",
              "  <tbody>\n",
              "    <tr>\n",
              "      <th>0</th>\n",
              "      <td>2</td>\n",
              "      <td>h</td>\n",
              "      <td>399000</td>\n",
              "      <td>8.7</td>\n",
              "      <td>3032</td>\n",
              "      <td>1</td>\n",
              "      <td>1.0</td>\n",
              "      <td>904</td>\n",
              "      <td>53.0</td>\n",
              "      <td>1985.0</td>\n",
              "      <td>1462579200</td>\n",
              "    </tr>\n",
              "    <tr>\n",
              "      <th>1</th>\n",
              "      <td>3</td>\n",
              "      <td>h</td>\n",
              "      <td>1241000</td>\n",
              "      <td>13.9</td>\n",
              "      <td>3165</td>\n",
              "      <td>1</td>\n",
              "      <td>1.0</td>\n",
              "      <td>643</td>\n",
              "      <td>NaN</td>\n",
              "      <td>NaN</td>\n",
              "      <td>1472342400</td>\n",
              "    </tr>\n",
              "    <tr>\n",
              "      <th>2</th>\n",
              "      <td>2</td>\n",
              "      <td>u</td>\n",
              "      <td>550000</td>\n",
              "      <td>3.0</td>\n",
              "      <td>3067</td>\n",
              "      <td>1</td>\n",
              "      <td>1.0</td>\n",
              "      <td>1521</td>\n",
              "      <td>NaN</td>\n",
              "      <td>NaN</td>\n",
              "      <td>1499472000</td>\n",
              "    </tr>\n",
              "    <tr>\n",
              "      <th>3</th>\n",
              "      <td>3</td>\n",
              "      <td>u</td>\n",
              "      <td>691000</td>\n",
              "      <td>8.4</td>\n",
              "      <td>3072</td>\n",
              "      <td>1</td>\n",
              "      <td>1.0</td>\n",
              "      <td>170</td>\n",
              "      <td>NaN</td>\n",
              "      <td>NaN</td>\n",
              "      <td>1498262400</td>\n",
              "    </tr>\n",
              "    <tr>\n",
              "      <th>4</th>\n",
              "      <td>2</td>\n",
              "      <td>u</td>\n",
              "      <td>657500</td>\n",
              "      <td>4.6</td>\n",
              "      <td>3122</td>\n",
              "      <td>1</td>\n",
              "      <td>1.0</td>\n",
              "      <td>728</td>\n",
              "      <td>73.0</td>\n",
              "      <td>1965.0</td>\n",
              "      <td>1479513600</td>\n",
              "    </tr>\n",
              "  </tbody>\n",
              "</table>\n",
              "</div>"
            ],
            "text/plain": [
              "   Rooms Type    Price  Distance  Postcode  Bathroom  Car  Landsize  \\\n",
              "0      2    h   399000       8.7      3032         1  1.0       904   \n",
              "1      3    h  1241000      13.9      3165         1  1.0       643   \n",
              "2      2    u   550000       3.0      3067         1  1.0      1521   \n",
              "3      3    u   691000       8.4      3072         1  1.0       170   \n",
              "4      2    u   657500       4.6      3122         1  1.0       728   \n",
              "\n",
              "   BuildingArea  YearBuilt    unixtime  \n",
              "0          53.0     1985.0  1462579200  \n",
              "1           NaN        NaN  1472342400  \n",
              "2           NaN        NaN  1499472000  \n",
              "3           NaN        NaN  1498262400  \n",
              "4          73.0     1965.0  1479513600  "
            ]
          },
          "execution_count": 5,
          "metadata": {},
          "output_type": "execute_result"
        }
      ],
      "source": [
        "# make sure unixtime column was added and date column was dropped correctly\n",
        "df_melb.head()"
      ]
    },
    {
      "cell_type": "markdown",
      "metadata": {
        "id": "-J2mESx4W4Hu"
      },
      "source": [
        "## **Q2 Calculating the prior probabilities**\n",
        "Calculate the prior probabilities for each possible \"Type\" in `df_melb` and populate a dictionary, `dict_priors`, where the key is the possible \"Type\" values and the value is the prior probabilities. Show the dictionary. Do not hardcode the possible values of \"Type\".  Don't forget about [value counts](https://pandas.pydata.org/docs/reference/api/pandas.Series.value_counts.html)."
      ]
    },
    {
      "cell_type": "code",
      "execution_count": 6,
      "metadata": {
        "id": "aUfrw1Q2Yi28"
      },
      "outputs": [
        {
          "data": {
            "text/plain": [
              "{'h': 0.452, 'u': 0.418, 't': 0.13}"
            ]
          },
          "execution_count": 6,
          "metadata": {},
          "output_type": "execute_result"
        }
      ],
      "source": [
        "dict_priors = (df_melb['Type'].value_counts() / len(df_melb)).to_dict()\n",
        "\n",
        "# print the priors\n",
        "dict_priors"
      ]
    },
    {
      "cell_type": "markdown",
      "metadata": {
        "id": "cYpiMCoNYmBF"
      },
      "source": [
        "## **Q3 Create a model for the distribution of all of the numeric attributes**\n",
        "For each class, and for each attribute calculate the sample mean and sample standard deviation.  You should store the model in a nested dictionary, `dict_nb_model`, such that `dict_nb_model['h']['Rooms']` is a tuple containing the mean and standard deviation for the target Type 'h' and the attribute 'Rooms'.  Show the model using the `display` function. You should ignore entries that are `NaN` in the mean and [standard deviation](https://pandas.pydata.org/docs/reference/api/pandas.Series.std.html) calculation."
      ]
    },
    {
      "cell_type": "code",
      "execution_count": 7,
      "metadata": {
        "id": "s2RefGQJYlZs"
      },
      "outputs": [
        {
          "data": {
            "text/html": [
              "<div>\n",
              "<style scoped>\n",
              "    .dataframe tbody tr th:only-of-type {\n",
              "        vertical-align: middle;\n",
              "    }\n",
              "\n",
              "    .dataframe tbody tr th {\n",
              "        vertical-align: top;\n",
              "    }\n",
              "\n",
              "    .dataframe thead th {\n",
              "        text-align: right;\n",
              "    }\n",
              "</style>\n",
              "<table border=\"1\" class=\"dataframe\">\n",
              "  <thead>\n",
              "    <tr style=\"text-align: right;\">\n",
              "      <th></th>\n",
              "      <th>Rooms</th>\n",
              "      <th>Type</th>\n",
              "      <th>Price</th>\n",
              "      <th>Distance</th>\n",
              "      <th>Postcode</th>\n",
              "      <th>Bathroom</th>\n",
              "      <th>Car</th>\n",
              "      <th>Landsize</th>\n",
              "      <th>BuildingArea</th>\n",
              "      <th>YearBuilt</th>\n",
              "      <th>unixtime</th>\n",
              "    </tr>\n",
              "  </thead>\n",
              "  <tbody>\n",
              "    <tr>\n",
              "      <th>0</th>\n",
              "      <td>2</td>\n",
              "      <td>h</td>\n",
              "      <td>399000</td>\n",
              "      <td>8.7</td>\n",
              "      <td>3032</td>\n",
              "      <td>1</td>\n",
              "      <td>1.0</td>\n",
              "      <td>904</td>\n",
              "      <td>53.0</td>\n",
              "      <td>1985.0</td>\n",
              "      <td>1462579200</td>\n",
              "    </tr>\n",
              "    <tr>\n",
              "      <th>1</th>\n",
              "      <td>3</td>\n",
              "      <td>h</td>\n",
              "      <td>1241000</td>\n",
              "      <td>13.9</td>\n",
              "      <td>3165</td>\n",
              "      <td>1</td>\n",
              "      <td>1.0</td>\n",
              "      <td>643</td>\n",
              "      <td>NaN</td>\n",
              "      <td>NaN</td>\n",
              "      <td>1472342400</td>\n",
              "    </tr>\n",
              "    <tr>\n",
              "      <th>2</th>\n",
              "      <td>2</td>\n",
              "      <td>u</td>\n",
              "      <td>550000</td>\n",
              "      <td>3.0</td>\n",
              "      <td>3067</td>\n",
              "      <td>1</td>\n",
              "      <td>1.0</td>\n",
              "      <td>1521</td>\n",
              "      <td>NaN</td>\n",
              "      <td>NaN</td>\n",
              "      <td>1499472000</td>\n",
              "    </tr>\n",
              "    <tr>\n",
              "      <th>3</th>\n",
              "      <td>3</td>\n",
              "      <td>u</td>\n",
              "      <td>691000</td>\n",
              "      <td>8.4</td>\n",
              "      <td>3072</td>\n",
              "      <td>1</td>\n",
              "      <td>1.0</td>\n",
              "      <td>170</td>\n",
              "      <td>NaN</td>\n",
              "      <td>NaN</td>\n",
              "      <td>1498262400</td>\n",
              "    </tr>\n",
              "    <tr>\n",
              "      <th>4</th>\n",
              "      <td>2</td>\n",
              "      <td>u</td>\n",
              "      <td>657500</td>\n",
              "      <td>4.6</td>\n",
              "      <td>3122</td>\n",
              "      <td>1</td>\n",
              "      <td>1.0</td>\n",
              "      <td>728</td>\n",
              "      <td>73.0</td>\n",
              "      <td>1965.0</td>\n",
              "      <td>1479513600</td>\n",
              "    </tr>\n",
              "  </tbody>\n",
              "</table>\n",
              "</div>"
            ],
            "text/plain": [
              "   Rooms Type    Price  Distance  Postcode  Bathroom  Car  Landsize  \\\n",
              "0      2    h   399000       8.7      3032         1  1.0       904   \n",
              "1      3    h  1241000      13.9      3165         1  1.0       643   \n",
              "2      2    u   550000       3.0      3067         1  1.0      1521   \n",
              "3      3    u   691000       8.4      3072         1  1.0       170   \n",
              "4      2    u   657500       4.6      3122         1  1.0       728   \n",
              "\n",
              "   BuildingArea  YearBuilt    unixtime  \n",
              "0          53.0     1985.0  1462579200  \n",
              "1           NaN        NaN  1472342400  \n",
              "2           NaN        NaN  1499472000  \n",
              "3           NaN        NaN  1498262400  \n",
              "4          73.0     1965.0  1479513600  "
            ]
          },
          "execution_count": 7,
          "metadata": {},
          "output_type": "execute_result"
        }
      ],
      "source": [
        "df_melb.head()"
      ]
    },
    {
      "cell_type": "code",
      "execution_count": 8,
      "metadata": {
        "id": "MnccshGaYs2c"
      },
      "outputs": [],
      "source": [
        "dict_nb_model = dict()\n",
        "for target in dict_priors.keys():\n",
        "    this_df = df_melb[ df_melb[target_col] == target ]\n",
        "\n",
        "    dict_nb_model[target] = dict()\n",
        "    for col in df_melb.columns:\n",
        "        if col != target_col:\n",
        "            dict_nb_model[target][col] = (this_df[col].mean(skipna=True), this_df[col].std(skipna=True))"
      ]
    },
    {
      "cell_type": "code",
      "execution_count": 9,
      "metadata": {
        "id": "woqqNqcEYvYX"
      },
      "outputs": [
        {
          "data": {
            "text/plain": [
              "{'h': {'Rooms': (3.269911504424779, 0.725826420112775),\n",
              "  'Price': (1189022.3451327435, 586296.5794417894),\n",
              "  'Distance': (12.086725663716816, 7.397501132737295),\n",
              "  'Postcode': (3103.8982300884954, 98.35750345419703),\n",
              "  'Bathroom': (1.5619469026548674, 0.6720871086493074),\n",
              "  'Car': (1.7777777777777777, 0.932759177140425),\n",
              "  'Landsize': (932.9646017699115, 3830.7934157687173),\n",
              "  'BuildingArea': (156.2433962264151, 54.62662837301433),\n",
              "  'YearBuilt': (1954.900826446281, 32.4618763471547),\n",
              "  'unixtime': (1485717578.761062, 13838562.05060146)},\n",
              " 'u': {'Rooms': (2.0430622009569377, 0.5908453859944255),\n",
              "  'Price': (634207.1770334928, 217947.32866736987),\n",
              "  'Distance': (8.760287081339714, 5.609778714430756),\n",
              "  'Postcode': (3120.4545454545455, 87.18475679946476),\n",
              "  'Bathroom': (1.1818181818181819, 0.4222815154866222),\n",
              "  'Car': (1.1483253588516746, 0.47231993860297056),\n",
              "  'Landsize': (436.23444976076553, 1394.3403794653257),\n",
              "  'BuildingArea': (83.85585585585585, 45.95943801516662),\n",
              "  'YearBuilt': (1976.451388888889, 24.557291330642666),\n",
              "  'unixtime': (1484176719.617225, 13494566.111289725)},\n",
              " 't': {'Rooms': (2.9076923076923076, 0.6052653582075831),\n",
              "  'Price': (1000169.2307692308, 421822.5363389936),\n",
              "  'Distance': (10.766153846153848, 4.8704554754623866),\n",
              "  'Postcode': (3121.6153846153848, 100.01588816090864),\n",
              "  'Bathroom': (1.8461538461538463, 0.565430401076506),\n",
              "  'Car': (1.6923076923076923, 0.5280588545286916),\n",
              "  'Landsize': (268.18461538461537, 276.57700624711265),\n",
              "  'BuildingArea': (138.66666666666666, 53.49863705429014),\n",
              "  'YearBuilt': (1997.0227272727273, 16.991774530381807),\n",
              "  'unixtime': (1486525292.3076923, 12640127.609871909)}}"
            ]
          },
          "metadata": {},
          "output_type": "display_data"
        }
      ],
      "source": [
        "display(dict_nb_model)"
      ]
    },
    {
      "cell_type": "markdown",
      "metadata": {
        "id": "cDQIgxwuYqOC"
      },
      "source": [
        "## **Q4 Write a function that calculates the probability of a Gaussian**\n",
        "\n",
        "Given the mean ($\\mu$), standard deviation ($\\sigma$), and a observed point, `x`, return the probability.  \n",
        "Use the formula $p(x) = \\frac{1}{\\sigma \\sqrt{2 \\pi}} e^{-\\frac{1}{2}(\\frac{x-\\mu}{\\sigma})^2}$ ([wiki](https://en.wikipedia.org/wiki/Normal_distribution)).  You should use [numpy's exp](https://numpy.org/doc/stable/reference/generated/numpy.exp.html) function in your solution."
      ]
    },
    {
      "cell_type": "code",
      "execution_count": 10,
      "metadata": {
        "id": "eq41egrHY1eP"
      },
      "outputs": [],
      "source": [
        "def get_p(mu, sigma, x):\n",
        "    gaussian_prob = (1 / (sigma * np.sqrt(2 * np.pi))) * np.exp((-0.5 * ((x - mu) / sigma) ** 2))\n",
        "\n",
        "    return gaussian_prob"
      ]
    },
    {
      "cell_type": "code",
      "execution_count": 11,
      "metadata": {
        "id": "JtNBxa5IY3Sc"
      },
      "outputs": [
        {
          "data": {
            "text/plain": [
              "0.19333405840142462"
            ]
          },
          "execution_count": 11,
          "metadata": {},
          "output_type": "execute_result"
        }
      ],
      "source": [
        "# Test it\n",
        "p = get_p(0, 2, 0.5)\n",
        "p"
      ]
    },
    {
      "cell_type": "markdown",
      "metadata": {
        "id": "d1V7WDGUW4Uq"
      },
      "source": [
        "\n",
        "## **Q5 Write the Naive Bayes classifier function**\n",
        "The Naive Bayes classifier function, `nb_class`, should take as a parameter the prior probability dictionary. `dict_priors`, the dictionary containing all of the gaussian distribution information for each attribue, `dict_nb_model`, and a single observation row (a series generated from iterrows) of the test dataframe. It should return a single target classification. For this problem, all of our attributes are numeric and modeled as Gaussians, so we don't worry about categorical data. Make sure to skip attributes that do not have a value in the observation.  Do not hardcode the possible classification types.\n",
        "\n"
      ]
    },
    {
      "cell_type": "code",
      "execution_count": 12,
      "metadata": {
        "id": "EHn4tFeSY8_L"
      },
      "outputs": [],
      "source": [
        "def nb_class( dict_priors, dict_nb_model, observation):\n",
        "    dict_score = dict()\n",
        "    for target in dict_priors.keys():\n",
        "\n",
        "        # Initialize the dictionary with the prior probability\n",
        "        dict_score[target] = dict_priors[target]\n",
        "\n",
        "        for attribute in dict_nb_model[target]:\n",
        "            if not np.isnan(observation[attribute]):\n",
        "                cond_prob = get_p( dict_nb_model[target][attribute][0], dict_nb_model[target][attribute][1], observation[attribute])\n",
        "                dict_score[target] *= cond_prob\n",
        "\n",
        "    max_class = max(dict_score, key=dict_score.get)\n",
        "    return max_class"
      ]
    },
    {
      "cell_type": "markdown",
      "metadata": {
        "id": "ZHywrZ_hY_cN"
      },
      "source": [
        "## **Q6 Calculate the accuracy using Naive Bayes classifier function on the test set**\n",
        "Load the test set from file, convert date to unix time and drop the date column, classify each row using your `nb_class`, and then show the accuracy on the test set."
      ]
    },
    {
      "cell_type": "code",
      "execution_count": 13,
      "metadata": {
        "id": "le3BpPluY_NP"
      },
      "outputs": [],
      "source": [
        "df_test = pd.read_csv('https://gist.githubusercontent.com/yanyanzheng96/c3d53303cebbd986b166591d19254bac/raw/94eb3b2d500d5f7bbc0441a8419cd855349d5d8e/melb_data_test.csv')\n",
        "df_test['Date'] = df_test['Date'].apply( normalize_date )\n",
        "df_test['unixtime'] = df_test['Date'].apply(lambda x: calendar.timegm(time.strptime(x,\"%d/%m/%Y\")))\n",
        "df_test = df_test.drop(columns=\"Date\")"
      ]
    },
    {
      "cell_type": "code",
      "execution_count": 14,
      "metadata": {
        "id": "3yxgH1UjZF4O"
      },
      "outputs": [],
      "source": [
        "predictions = []\n",
        "\n",
        "for (indx,row) in df_test.iterrows():\n",
        "    this_obs = row.drop(index='Type')\n",
        "    this_pred = nb_class(dict_priors, dict_nb_model,this_obs)\n",
        "    predictions.append(this_pred)"
      ]
    },
    {
      "cell_type": "code",
      "execution_count": 15,
      "metadata": {
        "id": "eUg7aEJwZHgV"
      },
      "outputs": [],
      "source": [
        "acc = (predictions == df_test['Type']).sum()/len(predictions)"
      ]
    },
    {
      "cell_type": "code",
      "execution_count": 16,
      "metadata": {
        "id": "0jAxdD_uZJJw"
      },
      "outputs": [
        {
          "name": "stdout",
          "output_type": "stream",
          "text": [
            "Accuracy is 57.00%\n"
          ]
        }
      ],
      "source": [
        "print('Accuracy is {:.2f}%'.format(acc*100))"
      ]
    },
    {
      "cell_type": "markdown",
      "metadata": {
        "id": "dMBW2uu6ZNgM"
      },
      "source": [
        "### **Q7 Use `scikit-learn` to do the same thing**\n",
        "\n",
        "Now we understand the inner workings of the Naive Bayes algorithm, let's compare our results to [scikit-learn's Naive Bayes](https://scikit-learn.org/stable/modules/naive_bayes.html) implementation. Use the [GaussianNB](https://scikit-learn.org/stable/modules/naive_bayes.html#gaussian-naive-bayes) to train using the `df_melb`dataframe and test using the `df_test` dataframe. Remember to split `df_melb` into a `df_X` with the numerical attributes, and a `s_y` with the target column. On the `df_melb` frame you will have to fill the empty attributes via imputation since the scikit-learn library can not handle missing values.  Use the same method you used in the last homework (filling the training data with the mean of the non-nan values)."
      ]
    },
    {
      "cell_type": "code",
      "execution_count": 17,
      "metadata": {},
      "outputs": [
        {
          "data": {
            "text/html": [
              "<div>\n",
              "<style scoped>\n",
              "    .dataframe tbody tr th:only-of-type {\n",
              "        vertical-align: middle;\n",
              "    }\n",
              "\n",
              "    .dataframe tbody tr th {\n",
              "        vertical-align: top;\n",
              "    }\n",
              "\n",
              "    .dataframe thead th {\n",
              "        text-align: right;\n",
              "    }\n",
              "</style>\n",
              "<table border=\"1\" class=\"dataframe\">\n",
              "  <thead>\n",
              "    <tr style=\"text-align: right;\">\n",
              "      <th></th>\n",
              "      <th>Rooms</th>\n",
              "      <th>Type</th>\n",
              "      <th>Price</th>\n",
              "      <th>Distance</th>\n",
              "      <th>Postcode</th>\n",
              "      <th>Bathroom</th>\n",
              "      <th>Car</th>\n",
              "      <th>Landsize</th>\n",
              "      <th>BuildingArea</th>\n",
              "      <th>YearBuilt</th>\n",
              "      <th>unixtime</th>\n",
              "    </tr>\n",
              "  </thead>\n",
              "  <tbody>\n",
              "    <tr>\n",
              "      <th>0</th>\n",
              "      <td>3</td>\n",
              "      <td>h</td>\n",
              "      <td>1116000</td>\n",
              "      <td>17.9</td>\n",
              "      <td>3192</td>\n",
              "      <td>1</td>\n",
              "      <td>2.0</td>\n",
              "      <td>610</td>\n",
              "      <td>NaN</td>\n",
              "      <td>NaN</td>\n",
              "      <td>1498867200</td>\n",
              "    </tr>\n",
              "    <tr>\n",
              "      <th>1</th>\n",
              "      <td>3</td>\n",
              "      <td>h</td>\n",
              "      <td>2030000</td>\n",
              "      <td>11.2</td>\n",
              "      <td>3186</td>\n",
              "      <td>2</td>\n",
              "      <td>2.0</td>\n",
              "      <td>366</td>\n",
              "      <td>NaN</td>\n",
              "      <td>NaN</td>\n",
              "      <td>1472342400</td>\n",
              "    </tr>\n",
              "    <tr>\n",
              "      <th>2</th>\n",
              "      <td>3</td>\n",
              "      <td>h</td>\n",
              "      <td>1480000</td>\n",
              "      <td>10.7</td>\n",
              "      <td>3187</td>\n",
              "      <td>2</td>\n",
              "      <td>2.0</td>\n",
              "      <td>697</td>\n",
              "      <td>143.0</td>\n",
              "      <td>1925.0</td>\n",
              "      <td>1478476800</td>\n",
              "    </tr>\n",
              "    <tr>\n",
              "      <th>3</th>\n",
              "      <td>3</td>\n",
              "      <td>u</td>\n",
              "      <td>1203500</td>\n",
              "      <td>12.3</td>\n",
              "      <td>3166</td>\n",
              "      <td>2</td>\n",
              "      <td>2.0</td>\n",
              "      <td>311</td>\n",
              "      <td>127.0</td>\n",
              "      <td>2000.0</td>\n",
              "      <td>1495843200</td>\n",
              "    </tr>\n",
              "    <tr>\n",
              "      <th>4</th>\n",
              "      <td>3</td>\n",
              "      <td>h</td>\n",
              "      <td>540000</td>\n",
              "      <td>14.7</td>\n",
              "      <td>3030</td>\n",
              "      <td>2</td>\n",
              "      <td>2.0</td>\n",
              "      <td>353</td>\n",
              "      <td>135.0</td>\n",
              "      <td>2011.0</td>\n",
              "      <td>1504396800</td>\n",
              "    </tr>\n",
              "  </tbody>\n",
              "</table>\n",
              "</div>"
            ],
            "text/plain": [
              "   Rooms Type    Price  Distance  Postcode  Bathroom  Car  Landsize  \\\n",
              "0      3    h  1116000      17.9      3192         1  2.0       610   \n",
              "1      3    h  2030000      11.2      3186         2  2.0       366   \n",
              "2      3    h  1480000      10.7      3187         2  2.0       697   \n",
              "3      3    u  1203500      12.3      3166         2  2.0       311   \n",
              "4      3    h   540000      14.7      3030         2  2.0       353   \n",
              "\n",
              "   BuildingArea  YearBuilt    unixtime  \n",
              "0           NaN        NaN  1498867200  \n",
              "1           NaN        NaN  1472342400  \n",
              "2         143.0     1925.0  1478476800  \n",
              "3         127.0     2000.0  1495843200  \n",
              "4         135.0     2011.0  1504396800  "
            ]
          },
          "execution_count": 17,
          "metadata": {},
          "output_type": "execute_result"
        }
      ],
      "source": [
        "df_test.head()"
      ]
    },
    {
      "cell_type": "code",
      "execution_count": 18,
      "metadata": {
        "id": "LNRpjL73ZL3x"
      },
      "outputs": [],
      "source": [
        "# Imputation training\n",
        "dict_imputation = dict()\n",
        "for col in df_melb.columns:\n",
        "    if col != target_col:\n",
        "        dict_imputation[col] = df_melb[col].mean(skipna=True)\n",
        "        df_melb[col].fillna(value=dict_imputation[col],inplace=True)\n",
        "\n",
        "# Imputation - apply on the test data\n",
        "for col in df_test.columns:\n",
        "    if col != target_col:\n",
        "        df_test[col].fillna(value=dict_imputation[col],inplace=True)\n",
        "\n",
        "s_test = df_test[target_col]\n",
        "df_test = df_test.drop(columns=[target_col])\n",
        "\n",
        "df_X = df_melb.drop( columns = [target_col])\n",
        "s_y = df_melb[target_col]"
      ]
    },
    {
      "cell_type": "code",
      "execution_count": 19,
      "metadata": {
        "id": "NM2W3FL0ZTua"
      },
      "outputs": [],
      "source": [
        "gnb = GaussianNB()\n",
        "y_pred = gnb.fit(df_X, s_y).predict(df_test)"
      ]
    },
    {
      "cell_type": "code",
      "execution_count": 20,
      "metadata": {
        "id": "kGHGvw-FZVUK"
      },
      "outputs": [
        {
          "name": "stdout",
          "output_type": "stream",
          "text": [
            "Accuracy is 37.00%\n"
          ]
        }
      ],
      "source": [
        "acc = (y_pred == s_test).sum()/len(y_pred)\n",
        "print('Accuracy is {:.2f}%'.format(acc*100))"
      ]
    },
    {
      "cell_type": "markdown",
      "metadata": {
        "id": "QQbZlH4iZceR"
      },
      "source": [
        "## **Q8 Do you think imputation hurt or helped the classifier?**\n",
        "\n",
        "Imputation hurt the classifier. The accuracy of the model dropped by 20% after imputation."
      ]
    }
  ],
  "metadata": {
    "colab": {
      "provenance": []
    },
    "kernelspec": {
      "display_name": "Python 3",
      "name": "python3"
    },
    "language_info": {
      "codemirror_mode": {
        "name": "ipython",
        "version": 3
      },
      "file_extension": ".py",
      "mimetype": "text/x-python",
      "name": "python",
      "nbconvert_exporter": "python",
      "pygments_lexer": "ipython3",
      "version": "3.11.2"
    }
  },
  "nbformat": 4,
  "nbformat_minor": 0
}
