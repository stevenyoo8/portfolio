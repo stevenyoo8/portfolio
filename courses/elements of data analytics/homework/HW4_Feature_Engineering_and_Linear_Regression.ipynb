{
 "cells": [
  {
   "cell_type": "markdown",
   "metadata": {},
   "source": [
    "## **HW4: Feature Engineering and Linear Regression**\n",
    "\n",
    "### **Steven Yoo**\n",
    "\n",
    "**Attention:** This is an individual assignment. "
   ]
  },
  {
   "cell_type": "markdown",
   "metadata": {},
   "source": [
    "#### **Description of the Dataset**\n",
    "\n",
    "* The Ames Housing dataset describes the sale of individual residential properties in Ames, Iowa, from 2006 to 2010. It contains a wide range of features, making it an excellent dataset to practice feature engineering techniques. In this assignment, you will explore a series of feature engineering tasks aimed at improving linear regression predictions.\n",
    "\n",
    "* Please make sure you have read the  provided`data_description.txt` file that provides additional information about the dataset and its features before you start implementing your homework. "
   ]
  },
  {
   "cell_type": "markdown",
   "metadata": {},
   "source": [
    "### **Question 1: Import libraries, Load Train and Test datasets into separate DataFrames**"
   ]
  },
  {
   "cell_type": "code",
   "execution_count": 1,
   "metadata": {},
   "outputs": [
    {
     "data": {
      "text/html": [
       "<div>\n",
       "<style scoped>\n",
       "    .dataframe tbody tr th:only-of-type {\n",
       "        vertical-align: middle;\n",
       "    }\n",
       "\n",
       "    .dataframe tbody tr th {\n",
       "        vertical-align: top;\n",
       "    }\n",
       "\n",
       "    .dataframe thead th {\n",
       "        text-align: right;\n",
       "    }\n",
       "</style>\n",
       "<table border=\"1\" class=\"dataframe\">\n",
       "  <thead>\n",
       "    <tr style=\"text-align: right;\">\n",
       "      <th></th>\n",
       "      <th>Id</th>\n",
       "      <th>MSSubClass</th>\n",
       "      <th>MSZoning</th>\n",
       "      <th>LotFrontage</th>\n",
       "      <th>LotArea</th>\n",
       "      <th>Street</th>\n",
       "      <th>Alley</th>\n",
       "      <th>LotShape</th>\n",
       "      <th>LandContour</th>\n",
       "      <th>Utilities</th>\n",
       "      <th>...</th>\n",
       "      <th>ScreenPorch</th>\n",
       "      <th>PoolArea</th>\n",
       "      <th>PoolQC</th>\n",
       "      <th>Fence</th>\n",
       "      <th>MiscFeature</th>\n",
       "      <th>MiscVal</th>\n",
       "      <th>MoSold</th>\n",
       "      <th>YrSold</th>\n",
       "      <th>SaleType</th>\n",
       "      <th>SaleCondition</th>\n",
       "    </tr>\n",
       "  </thead>\n",
       "  <tbody>\n",
       "    <tr>\n",
       "      <th>0</th>\n",
       "      <td>1461</td>\n",
       "      <td>20</td>\n",
       "      <td>RH</td>\n",
       "      <td>80.0</td>\n",
       "      <td>11622</td>\n",
       "      <td>Pave</td>\n",
       "      <td>NaN</td>\n",
       "      <td>Reg</td>\n",
       "      <td>Lvl</td>\n",
       "      <td>AllPub</td>\n",
       "      <td>...</td>\n",
       "      <td>120</td>\n",
       "      <td>0</td>\n",
       "      <td>NaN</td>\n",
       "      <td>MnPrv</td>\n",
       "      <td>NaN</td>\n",
       "      <td>0</td>\n",
       "      <td>6</td>\n",
       "      <td>2010</td>\n",
       "      <td>WD</td>\n",
       "      <td>Normal</td>\n",
       "    </tr>\n",
       "    <tr>\n",
       "      <th>1</th>\n",
       "      <td>1462</td>\n",
       "      <td>20</td>\n",
       "      <td>RL</td>\n",
       "      <td>81.0</td>\n",
       "      <td>14267</td>\n",
       "      <td>Pave</td>\n",
       "      <td>NaN</td>\n",
       "      <td>IR1</td>\n",
       "      <td>Lvl</td>\n",
       "      <td>AllPub</td>\n",
       "      <td>...</td>\n",
       "      <td>0</td>\n",
       "      <td>0</td>\n",
       "      <td>NaN</td>\n",
       "      <td>NaN</td>\n",
       "      <td>Gar2</td>\n",
       "      <td>12500</td>\n",
       "      <td>6</td>\n",
       "      <td>2010</td>\n",
       "      <td>WD</td>\n",
       "      <td>Normal</td>\n",
       "    </tr>\n",
       "    <tr>\n",
       "      <th>2</th>\n",
       "      <td>1463</td>\n",
       "      <td>60</td>\n",
       "      <td>RL</td>\n",
       "      <td>74.0</td>\n",
       "      <td>13830</td>\n",
       "      <td>Pave</td>\n",
       "      <td>NaN</td>\n",
       "      <td>IR1</td>\n",
       "      <td>Lvl</td>\n",
       "      <td>AllPub</td>\n",
       "      <td>...</td>\n",
       "      <td>0</td>\n",
       "      <td>0</td>\n",
       "      <td>NaN</td>\n",
       "      <td>MnPrv</td>\n",
       "      <td>NaN</td>\n",
       "      <td>0</td>\n",
       "      <td>3</td>\n",
       "      <td>2010</td>\n",
       "      <td>WD</td>\n",
       "      <td>Normal</td>\n",
       "    </tr>\n",
       "    <tr>\n",
       "      <th>3</th>\n",
       "      <td>1464</td>\n",
       "      <td>60</td>\n",
       "      <td>RL</td>\n",
       "      <td>78.0</td>\n",
       "      <td>9978</td>\n",
       "      <td>Pave</td>\n",
       "      <td>NaN</td>\n",
       "      <td>IR1</td>\n",
       "      <td>Lvl</td>\n",
       "      <td>AllPub</td>\n",
       "      <td>...</td>\n",
       "      <td>0</td>\n",
       "      <td>0</td>\n",
       "      <td>NaN</td>\n",
       "      <td>NaN</td>\n",
       "      <td>NaN</td>\n",
       "      <td>0</td>\n",
       "      <td>6</td>\n",
       "      <td>2010</td>\n",
       "      <td>WD</td>\n",
       "      <td>Normal</td>\n",
       "    </tr>\n",
       "    <tr>\n",
       "      <th>4</th>\n",
       "      <td>1465</td>\n",
       "      <td>120</td>\n",
       "      <td>RL</td>\n",
       "      <td>43.0</td>\n",
       "      <td>5005</td>\n",
       "      <td>Pave</td>\n",
       "      <td>NaN</td>\n",
       "      <td>IR1</td>\n",
       "      <td>HLS</td>\n",
       "      <td>AllPub</td>\n",
       "      <td>...</td>\n",
       "      <td>144</td>\n",
       "      <td>0</td>\n",
       "      <td>NaN</td>\n",
       "      <td>NaN</td>\n",
       "      <td>NaN</td>\n",
       "      <td>0</td>\n",
       "      <td>1</td>\n",
       "      <td>2010</td>\n",
       "      <td>WD</td>\n",
       "      <td>Normal</td>\n",
       "    </tr>\n",
       "  </tbody>\n",
       "</table>\n",
       "<p>5 rows × 80 columns</p>\n",
       "</div>"
      ],
      "text/plain": [
       "     Id  MSSubClass MSZoning  LotFrontage  LotArea Street Alley LotShape  \\\n",
       "0  1461          20       RH         80.0    11622   Pave   NaN      Reg   \n",
       "1  1462          20       RL         81.0    14267   Pave   NaN      IR1   \n",
       "2  1463          60       RL         74.0    13830   Pave   NaN      IR1   \n",
       "3  1464          60       RL         78.0     9978   Pave   NaN      IR1   \n",
       "4  1465         120       RL         43.0     5005   Pave   NaN      IR1   \n",
       "\n",
       "  LandContour Utilities  ... ScreenPorch PoolArea PoolQC  Fence MiscFeature  \\\n",
       "0         Lvl    AllPub  ...         120        0    NaN  MnPrv         NaN   \n",
       "1         Lvl    AllPub  ...           0        0    NaN    NaN        Gar2   \n",
       "2         Lvl    AllPub  ...           0        0    NaN  MnPrv         NaN   \n",
       "3         Lvl    AllPub  ...           0        0    NaN    NaN         NaN   \n",
       "4         HLS    AllPub  ...         144        0    NaN    NaN         NaN   \n",
       "\n",
       "  MiscVal MoSold  YrSold  SaleType  SaleCondition  \n",
       "0       0      6    2010        WD         Normal  \n",
       "1   12500      6    2010        WD         Normal  \n",
       "2       0      3    2010        WD         Normal  \n",
       "3       0      6    2010        WD         Normal  \n",
       "4       0      1    2010        WD         Normal  \n",
       "\n",
       "[5 rows x 80 columns]"
      ]
     },
     "execution_count": 1,
     "metadata": {},
     "output_type": "execute_result"
    }
   ],
   "source": [
    "# Write your code here\n",
    "import pandas as pd\n",
    "\n",
    "# Load train and test datasets\n",
    "train = pd.read_csv('hw4-dataset/test.csv')\n",
    "test = pd.read_csv('hw4-dataset/train.csv')\n",
    "\n",
    "train.head()"
   ]
  },
  {
   "cell_type": "markdown",
   "metadata": {},
   "source": [
    "### **Mount Google Drive**"
   ]
  },
  {
   "cell_type": "code",
   "execution_count": 2,
   "metadata": {},
   "outputs": [],
   "source": [
    "# from google.colab import drive\n",
    "# drive.mount('/content/drive')"
   ]
  },
  {
   "cell_type": "code",
   "execution_count": 3,
   "metadata": {},
   "outputs": [],
   "source": [
    "# Optional diplay all columns to be able to see all the columns (features)\n",
    "\n",
    "pd.set_option('display.max_columns', None)"
   ]
  },
  {
   "cell_type": "markdown",
   "metadata": {},
   "source": [
    "### **Question 2: Identify columns with missing data and then determine an appropriate strategy for each.**"
   ]
  },
  {
   "cell_type": "code",
   "execution_count": 4,
   "metadata": {},
   "outputs": [
    {
     "data": {
      "text/plain": [
       "Index(['MSZoning', 'LotFrontage', 'Alley', 'Utilities', 'Exterior1st',\n",
       "       'Exterior2nd', 'MasVnrType', 'MasVnrArea', 'BsmtQual', 'BsmtCond',\n",
       "       'BsmtExposure', 'BsmtFinType1', 'BsmtFinSF1', 'BsmtFinType2',\n",
       "       'BsmtFinSF2', 'BsmtUnfSF', 'TotalBsmtSF', 'BsmtFullBath',\n",
       "       'BsmtHalfBath', 'KitchenQual', 'Functional', 'FireplaceQu',\n",
       "       'GarageType', 'GarageYrBlt', 'GarageFinish', 'GarageCars', 'GarageArea',\n",
       "       'GarageQual', 'GarageCond', 'PoolQC', 'Fence', 'MiscFeature',\n",
       "       'SaleType'],\n",
       "      dtype='object')"
      ]
     },
     "execution_count": 4,
     "metadata": {},
     "output_type": "execute_result"
    }
   ],
   "source": [
    "missing_data = train.isnull().sum()\n",
    "missing_data = missing_data[missing_data > 0].index\n",
    "missing_data.sort_values()\n",
    "missing_data"
   ]
  },
  {
   "cell_type": "markdown",
   "metadata": {},
   "source": [
    "#### For the numerical columns, we could replace the missing data with some summary statistics such as mean or median. For categorical columns, we could one-hot encode relevant variables, and remove the unnecessary variables (or where it doesn't make sense to one-hot encode)."
   ]
  },
  {
   "cell_type": "markdown",
   "metadata": {},
   "source": [
    "### **Question 3: One-hot Encoding for Categorical Variables**\n",
    "\n",
    "* Apply one-hot encoding to transform columns with categorical values."
   ]
  },
  {
   "cell_type": "code",
   "execution_count": 5,
   "metadata": {},
   "outputs": [],
   "source": [
    "# first identify categorical columns\n",
    "categorical_columns = []\n",
    "for column in train.columns.values.tolist():\n",
    "    if train[column].dtype == 'object':\n",
    "        categorical_columns.append(column)\n",
    "    else:\n",
    "        continue\n",
    "\n",
    "# now one-hot encode\n",
    "train_encoded = pd.get_dummies(train, columns = categorical_columns)"
   ]
  },
  {
   "cell_type": "markdown",
   "metadata": {},
   "source": [
    "### **Question 4: Scaling and Normalization**\n",
    "\n",
    "* Using `StandarScaler` from `scikit-learn`, scale the features in some of the numeric columns. \n",
    "* You will need to import required libraries and modules here as well."
   ]
  },
  {
   "cell_type": "code",
   "execution_count": 6,
   "metadata": {},
   "outputs": [],
   "source": [
    "import numpy as np\n",
    "from sklearn.preprocessing import StandardScaler\n",
    "\n",
    "# Identify numeric columns and put them in a python list\n",
    "numeric_columns = train.select_dtypes(include=[np.number]).columns.tolist()\n",
    "\n",
    "# From the `numeric_columns`, exclude the target column 'SalePrice' and 'Id' column\n",
    "numeric_columns.remove('Id')\n",
    "\n",
    "# Scaling the numeric columns, initialize StabdardScaler from `scikit-learn`\n",
    "scaler = StandardScaler()\n",
    "\n",
    "# fit and transform the numeric columns using the scaler you defined above\n",
    "train_encoded[numeric_columns] = scaler.fit_transform(train_encoded[numeric_columns])"
   ]
  },
  {
   "cell_type": "markdown",
   "metadata": {},
   "source": [
    "### **Question 5: Feature Extraction from Year Variables**\n",
    "\n",
    "* Extract the information about the age of the house at the time of the sale by calculating the difference between `YrSold` and `YearBuilt` features and create a new Column (feature) named `HouseAge` from the result. \n",
    "* Extract the number of years since remodelling when the house was sold by calculating the difference between `YrSold` and `YearRemodAdd` features and create a new Column (feature) named `YearsSinceRemod` from the result. "
   ]
  },
  {
   "cell_type": "code",
   "execution_count": 7,
   "metadata": {},
   "outputs": [
    {
     "data": {
      "text/html": [
       "<div>\n",
       "<style scoped>\n",
       "    .dataframe tbody tr th:only-of-type {\n",
       "        vertical-align: middle;\n",
       "    }\n",
       "\n",
       "    .dataframe tbody tr th {\n",
       "        vertical-align: top;\n",
       "    }\n",
       "\n",
       "    .dataframe thead th {\n",
       "        text-align: right;\n",
       "    }\n",
       "</style>\n",
       "<table border=\"1\" class=\"dataframe\">\n",
       "  <thead>\n",
       "    <tr style=\"text-align: right;\">\n",
       "      <th></th>\n",
       "      <th>HouseAge</th>\n",
       "      <th>YearsSinceRemod</th>\n",
       "    </tr>\n",
       "  </thead>\n",
       "  <tbody>\n",
       "    <tr>\n",
       "      <th>0</th>\n",
       "      <td>2.054850</td>\n",
       "      <td>2.786790</td>\n",
       "    </tr>\n",
       "    <tr>\n",
       "      <th>1</th>\n",
       "      <td>2.153600</td>\n",
       "      <td>2.928814</td>\n",
       "    </tr>\n",
       "    <tr>\n",
       "      <th>2</th>\n",
       "      <td>0.869846</td>\n",
       "      <td>1.035163</td>\n",
       "    </tr>\n",
       "    <tr>\n",
       "      <th>3</th>\n",
       "      <td>0.836930</td>\n",
       "      <td>1.035163</td>\n",
       "    </tr>\n",
       "    <tr>\n",
       "      <th>4</th>\n",
       "      <td>1.034430</td>\n",
       "      <td>1.319211</td>\n",
       "    </tr>\n",
       "  </tbody>\n",
       "</table>\n",
       "</div>"
      ],
      "text/plain": [
       "   HouseAge  YearsSinceRemod\n",
       "0  2.054850         2.786790\n",
       "1  2.153600         2.928814\n",
       "2  0.869846         1.035163\n",
       "3  0.836930         1.035163\n",
       "4  1.034430         1.319211"
      ]
     },
     "execution_count": 7,
     "metadata": {},
     "output_type": "execute_result"
    }
   ],
   "source": [
    "# Age of the house at the time of sale\n",
    "train_encoded['HouseAge'] = train_encoded['YrSold'] - train_encoded['YearBuilt']\n",
    "\n",
    "# Number of years since remodelling when the house was sold\n",
    "train_encoded['YearsSinceRemod'] = train_encoded['YrSold'] - train_encoded['YearRemodAdd']\n",
    "\n",
    "# Display the new features you have created above\n",
    "train_encoded[['HouseAge', 'YearsSinceRemod']].head()"
   ]
  },
  {
   "cell_type": "markdown",
   "metadata": {},
   "source": [
    "### **Question 6: Dimensionality Reduction**\n",
    "\n",
    "* In this question you will apply the PCA algorithm to reduce the dimensions of the dataset. PCA will not work if there are missing values in your data.For this, you will first fill all the missing values in the numerical columns with the median of the column. \n",
    "* Then, you will fill the missing categorical columns with mode imputation. \n",
    "* Tip: To fill all the missing values in all columns, first identify all numeric columns with missing data and store them in a variable called `numeric_cols_with_missing`. Do the same for categoical columns with missing data and store them into a variable called `categorical_cols_with_missing`. Then, you can iterate over (using a for loop) these two sets of columns and fill them with the appropriate values described above. Do not forget to use `inplace=True` attribute in the `fillna()` method that you will use to fill missing values so that you manipulate the original dataset without creating a copy of it. "
   ]
  },
  {
   "cell_type": "code",
   "execution_count": 8,
   "metadata": {},
   "outputs": [],
   "source": [
    "# first find all columns with missing data\n",
    "missing_columns = []\n",
    "for column in train_encoded.columns.values.tolist():\n",
    "    if train_encoded[column].isnull().sum() > 0:\n",
    "        missing_columns.append(column)\n",
    "    else:\n",
    "        continue\n",
    "\n",
    "# find numerical columns with missing data and categorical columns with missing data\n",
    "numeric_cols_with_missing = [] # numerical columns with missing data\n",
    "categorical_cols_with_missing = [] # categorical columns with missing data\n",
    "for column in missing_columns:\n",
    "    if train_encoded[column].dtype == 'int64' or train_encoded[column].dtype == 'float64':\n",
    "        numeric_cols_with_missing.append(column)\n",
    "    else:\n",
    "        categorical_cols_with_missing.append(column)\n",
    "        \n",
    "\n",
    "# Numeric columns: median imputation\n",
    "for col in numeric_cols_with_missing:\n",
    "    # fill the missing columns\n",
    "    train_encoded[col].fillna(train_encoded[col].median(), inplace = True)\n",
    "\n",
    "# Categorical columns: mode imputation\n",
    "for col in categorical_cols_with_missing:\n",
    "    # fill the missing columns\n",
    "    train_encoded[col].fillna(train_encoded[col].mode(), inplace = True)\n",
    "\n",
    "# Verifying that there are no more missing values\n",
    "assert train_encoded.isnull().sum().sum() == 0"
   ]
  },
  {
   "cell_type": "markdown",
   "metadata": {},
   "source": [
    "* **Implement the PCA algorithm to the dataset with no missing values**"
   ]
  },
  {
   "cell_type": "code",
   "execution_count": 9,
   "metadata": {},
   "outputs": [
    {
     "data": {
      "text/plain": [
       "75"
      ]
     },
     "execution_count": 9,
     "metadata": {},
     "output_type": "execute_result"
    }
   ],
   "source": [
    "from sklearn.decomposition import PCA\n",
    "X = train_encoded.drop(columns=['Id'])\n",
    "\n",
    "pca = PCA(n_components = 0.95)\n",
    "\n",
    "# fit the PCA\n",
    "X_pca = pca.fit_transform(X)\n",
    "\n",
    "# Number of components retained after PCA\n",
    "num_components = pca.n_components_\n",
    "num_components"
   ]
  },
  {
   "cell_type": "markdown",
   "metadata": {},
   "source": [
    "### **Question 7: Engineering Ordinal Features**\n",
    "\n",
    "* For ordinal columns like `ExterQual` and `ExterCond`,  map the values to numbers (using the `map()`(https://docs.python.org/3/library/functions.html#map) method."
   ]
  },
  {
   "cell_type": "code",
   "execution_count": 10,
   "metadata": {},
   "outputs": [
    {
     "data": {
      "text/html": [
       "<div>\n",
       "<style scoped>\n",
       "    .dataframe tbody tr th:only-of-type {\n",
       "        vertical-align: middle;\n",
       "    }\n",
       "\n",
       "    .dataframe tbody tr th {\n",
       "        vertical-align: top;\n",
       "    }\n",
       "\n",
       "    .dataframe thead th {\n",
       "        text-align: right;\n",
       "    }\n",
       "</style>\n",
       "<table border=\"1\" class=\"dataframe\">\n",
       "  <thead>\n",
       "    <tr style=\"text-align: right;\">\n",
       "      <th></th>\n",
       "      <th>ExterQual</th>\n",
       "      <th>ExterCond</th>\n",
       "    </tr>\n",
       "  </thead>\n",
       "  <tbody>\n",
       "    <tr>\n",
       "      <th>0</th>\n",
       "      <td>3</td>\n",
       "      <td>3</td>\n",
       "    </tr>\n",
       "    <tr>\n",
       "      <th>1</th>\n",
       "      <td>3</td>\n",
       "      <td>3</td>\n",
       "    </tr>\n",
       "    <tr>\n",
       "      <th>2</th>\n",
       "      <td>3</td>\n",
       "      <td>3</td>\n",
       "    </tr>\n",
       "    <tr>\n",
       "      <th>3</th>\n",
       "      <td>3</td>\n",
       "      <td>3</td>\n",
       "    </tr>\n",
       "    <tr>\n",
       "      <th>4</th>\n",
       "      <td>4</td>\n",
       "      <td>3</td>\n",
       "    </tr>\n",
       "  </tbody>\n",
       "</table>\n",
       "</div>"
      ],
      "text/plain": [
       "   ExterQual  ExterCond\n",
       "0          3          3\n",
       "1          3          3\n",
       "2          3          3\n",
       "3          3          3\n",
       "4          4          3"
      ]
     },
     "execution_count": 10,
     "metadata": {},
     "output_type": "execute_result"
    }
   ],
   "source": [
    "# Mapping ordinal values to numbers\n",
    "ordinal_mappings = {\n",
    "    'Ex': 5,\n",
    "    'Gd': 4,\n",
    "    'TA': 3,\n",
    "    'Fa': 2,\n",
    "    'Po': 1\n",
    "}\n",
    "\n",
    "train['ExterQual'] = train['ExterQual'].map(ordinal_mappings)\n",
    "train['ExterCond'] = train['ExterCond'].map(ordinal_mappings)\n",
    "\n",
    "train[['ExterQual', 'ExterCond']].head()"
   ]
  },
  {
   "cell_type": "markdown",
   "metadata": {},
   "source": [
    "### **Question 8: Feature Interaction**\n",
    "\n",
    "* An **interaction feature** refers to a new feature that is created by combining or relating two or more existing features. It is based on the idea that two or more variables together may have a synergistic effect on the target variable that is not captured when they are used independently.\n",
    "\n",
    "* Create an interaction feature, such as the total area of the house by using the available features `ToralBsmtSF`, `1stFlrSF`, and `2ndFlrSF`\n",
    "* Tip: You will need to add these `Series` to get the `TotalArea`"
   ]
  },
  {
   "cell_type": "code",
   "execution_count": 11,
   "metadata": {},
   "outputs": [
    {
     "data": {
      "text/html": [
       "<div>\n",
       "<style scoped>\n",
       "    .dataframe tbody tr th:only-of-type {\n",
       "        vertical-align: middle;\n",
       "    }\n",
       "\n",
       "    .dataframe tbody tr th {\n",
       "        vertical-align: top;\n",
       "    }\n",
       "\n",
       "    .dataframe thead th {\n",
       "        text-align: right;\n",
       "    }\n",
       "</style>\n",
       "<table border=\"1\" class=\"dataframe\">\n",
       "  <thead>\n",
       "    <tr style=\"text-align: right;\">\n",
       "      <th></th>\n",
       "      <th>TotalArea</th>\n",
       "    </tr>\n",
       "  </thead>\n",
       "  <tbody>\n",
       "    <tr>\n",
       "      <th>0</th>\n",
       "      <td>1778.0</td>\n",
       "    </tr>\n",
       "    <tr>\n",
       "      <th>1</th>\n",
       "      <td>2658.0</td>\n",
       "    </tr>\n",
       "    <tr>\n",
       "      <th>2</th>\n",
       "      <td>2557.0</td>\n",
       "    </tr>\n",
       "    <tr>\n",
       "      <th>3</th>\n",
       "      <td>2530.0</td>\n",
       "    </tr>\n",
       "    <tr>\n",
       "      <th>4</th>\n",
       "      <td>2560.0</td>\n",
       "    </tr>\n",
       "  </tbody>\n",
       "</table>\n",
       "</div>"
      ],
      "text/plain": [
       "   TotalArea\n",
       "0     1778.0\n",
       "1     2658.0\n",
       "2     2557.0\n",
       "3     2530.0\n",
       "4     2560.0"
      ]
     },
     "execution_count": 11,
     "metadata": {},
     "output_type": "execute_result"
    }
   ],
   "source": [
    "# Total area of the house\n",
    "train['TotalArea'] = train['TotalBsmtSF'] + train['1stFlrSF'] + train['2ndFlrSF']\n",
    "\n",
    "# Displaying the new feature\n",
    "train[['TotalArea']].head()"
   ]
  },
  {
   "cell_type": "markdown",
   "metadata": {},
   "source": [
    "### **Question 9: Binning**\n",
    "\n",
    "* Group the `LotArea` feature into 5 bins"
   ]
  },
  {
   "cell_type": "code",
   "execution_count": 12,
   "metadata": {},
   "outputs": [
    {
     "data": {
      "text/html": [
       "<div>\n",
       "<style scoped>\n",
       "    .dataframe tbody tr th:only-of-type {\n",
       "        vertical-align: middle;\n",
       "    }\n",
       "\n",
       "    .dataframe tbody tr th {\n",
       "        vertical-align: top;\n",
       "    }\n",
       "\n",
       "    .dataframe thead th {\n",
       "        text-align: right;\n",
       "    }\n",
       "</style>\n",
       "<table border=\"1\" class=\"dataframe\">\n",
       "  <thead>\n",
       "    <tr style=\"text-align: right;\">\n",
       "      <th></th>\n",
       "      <th>LotArea</th>\n",
       "      <th>LotAreaBin</th>\n",
       "    </tr>\n",
       "  </thead>\n",
       "  <tbody>\n",
       "    <tr>\n",
       "      <th>0</th>\n",
       "      <td>11622</td>\n",
       "      <td>0</td>\n",
       "    </tr>\n",
       "    <tr>\n",
       "      <th>1</th>\n",
       "      <td>14267</td>\n",
       "      <td>1</td>\n",
       "    </tr>\n",
       "    <tr>\n",
       "      <th>2</th>\n",
       "      <td>13830</td>\n",
       "      <td>1</td>\n",
       "    </tr>\n",
       "    <tr>\n",
       "      <th>3</th>\n",
       "      <td>9978</td>\n",
       "      <td>0</td>\n",
       "    </tr>\n",
       "    <tr>\n",
       "      <th>4</th>\n",
       "      <td>5005</td>\n",
       "      <td>0</td>\n",
       "    </tr>\n",
       "  </tbody>\n",
       "</table>\n",
       "</div>"
      ],
      "text/plain": [
       "   LotArea  LotAreaBin\n",
       "0    11622           0\n",
       "1    14267           1\n",
       "2    13830           1\n",
       "3     9978           0\n",
       "4     5005           0"
      ]
     },
     "execution_count": 12,
     "metadata": {},
     "output_type": "execute_result"
    }
   ],
   "source": [
    "train['LotAreaBin'] = pd.cut(train['LotArea'], bins = 5, labels = False)\n",
    "\n",
    "# Displaying the binned column\n",
    "train[['LotArea', 'LotAreaBin']].head()"
   ]
  },
  {
   "cell_type": "code",
   "execution_count": 13,
   "metadata": {},
   "outputs": [
    {
     "data": {
      "text/plain": [
       "((0       (1414.87, 12496.0]\n",
       "  1       (12496.0, 23522.0]\n",
       "  2       (12496.0, 23522.0]\n",
       "  3       (1414.87, 12496.0]\n",
       "  4       (1414.87, 12496.0]\n",
       "                 ...        \n",
       "  1454    (1414.87, 12496.0]\n",
       "  1455    (1414.87, 12496.0]\n",
       "  1456    (12496.0, 23522.0]\n",
       "  1457    (1414.87, 12496.0]\n",
       "  1458    (1414.87, 12496.0]\n",
       "  Name: LotArea, Length: 1459, dtype: category\n",
       "  Categories (5, interval[float64, right]): [(1414.87, 12496.0] < (12496.0, 23522.0] < (23522.0, 34548.0] < (34548.0, 45574.0] < (45574.0, 56600.0]],\n",
       "  array([ 1414.87, 12496.  , 23522.  , 34548.  , 45574.  , 56600.  ])),\n",
       " 0    1198\n",
       " 1     240\n",
       " 2      12\n",
       " 3       4\n",
       " 4       5\n",
       " Name: LotAreaBin, dtype: int64)"
      ]
     },
     "execution_count": 13,
     "metadata": {},
     "output_type": "execute_result"
    }
   ],
   "source": [
    "# Check the unique values in the 'LotAreaBin' column and the corresponding bin boundaries\n",
    "bins = pd.cut(train['LotArea'], bins = 5, retbins = True)\n",
    "unique_values = train['LotAreaBin'].value_counts().sort_index()\n",
    "\n",
    "bins, unique_values"
   ]
  },
  {
   "cell_type": "markdown",
   "metadata": {},
   "source": [
    "* From the results, it's evident that the vast majority of houses (1447 out of 1460) have lot areas that fall into the first bin (Bin 0), which corresponds to the interval (1086.055,44089.0 (1086.055,44089.0]. This is why you see many values of 0 in the `LotAreaBin` column.\n",
    "\n",
    "* The binning behavior here is due to a few properties with very large lot areas that are influencing the range and hence the bin boundaries. The first bin captures most of the data, while the other bins capture only a few outliers. In such cases, it might be more appropriate to use quantile-based binning (using pd.qcut()) to ensure a more even distribution of data points across bins."
   ]
  },
  {
   "cell_type": "code",
   "execution_count": 14,
   "metadata": {},
   "outputs": [
    {
     "data": {
      "text/plain": [
       "((0       (10125.8, 12194.4]\n",
       "  1       (12194.4, 56600.0]\n",
       "  2       (12194.4, 56600.0]\n",
       "  3        (8640.0, 10125.8]\n",
       "  4       (1469.999, 6958.4]\n",
       "                 ...        \n",
       "  1454    (1469.999, 6958.4]\n",
       "  1455    (1469.999, 6958.4]\n",
       "  1456    (12194.4, 56600.0]\n",
       "  1457    (10125.8, 12194.4]\n",
       "  1458     (8640.0, 10125.8]\n",
       "  Name: LotArea, Length: 1459, dtype: category\n",
       "  Categories (5, interval[float64, right]): [(1469.999, 6958.4] < (6958.4, 8640.0] < (8640.0, 10125.8] < (10125.8, 12194.4] < (12194.4, 56600.0]],\n",
       "  array([ 1470. ,  6958.4,  8640. , 10125.8, 12194.4, 56600. ])),\n",
       " 0    292\n",
       " 1    294\n",
       " 2    289\n",
       " 3    292\n",
       " 4    292\n",
       " Name: LotAreaQuantileBin, dtype: int64)"
      ]
     },
     "execution_count": 14,
     "metadata": {},
     "output_type": "execute_result"
    }
   ],
   "source": [
    "# Observe the results of the quantile-based binning and compare it to the result from only `pd.cut()` above\n",
    "\n",
    "train['LotAreaQuantileBin'] = pd.qcut(train['LotArea'], q=5, labels=False)\n",
    "\n",
    "# Check the unique values in the 'LotAreaQuantileBin' column and the corresponding bin boundaries\n",
    "quantile_bins = pd.qcut(train['LotArea'], q=5, retbins=True)\n",
    "unique_values_quantile = train['LotAreaQuantileBin'].value_counts().sort_index()\n",
    "\n",
    "quantile_bins, unique_values_quantile"
   ]
  },
  {
   "cell_type": "markdown",
   "metadata": {},
   "source": [
    "#### The results show that quantile-based binning results in much more evenly distributed bins. The pd.cut() standard binning resulted in bins ranging from have 5 values to 1198 values (range of 1193). In comparison, the pd.qcut() quantile-based binning resulted in all 5 bins having around 290 values each with a range of 5 (289-294)."
   ]
  }
 ],
 "metadata": {
  "kernelspec": {
   "display_name": "Python 3",
   "language": "python",
   "name": "python3"
  },
  "language_info": {
   "codemirror_mode": {
    "name": "ipython",
    "version": 3
   },
   "file_extension": ".py",
   "mimetype": "text/x-python",
   "name": "python",
   "nbconvert_exporter": "python",
   "pygments_lexer": "ipython3",
   "version": "3.11.2"
  }
 },
 "nbformat": 4,
 "nbformat_minor": 4
}
