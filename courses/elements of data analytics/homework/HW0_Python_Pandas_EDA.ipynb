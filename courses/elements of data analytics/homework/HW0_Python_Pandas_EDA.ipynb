{
  "cells": [
    {
      "cell_type": "markdown",
      "metadata": {
        "id": "9f8Vx8qK_Q9U"
      },
      "source": [
        "# **HW0 Exploratory Data Analysis (EDA) with Pandas**\n",
        "\n",
        "### **TODO: *Write your fullname here***\n",
        "\n",
        "**Important Note:** *During the Thursday's class, we will engage in a set of exercises using Pandas and the `flights.csv` dataset, which will equip you with the essential knowledge about how to use Pandas that you might need to fulfill this assignment.*\n",
        "\n",
        "* In this homework, we will explore the `flights.csv` dataset that contains information about flight records from 2013. Using your (recently) acquired data analysis skills, the Pandas library, and the `flights.csv` dataset, implement the following questions in Python."
      ]
    },
    {
      "cell_type": "code",
      "execution_count": 10,
      "metadata": {
        "id": "8IiNKGva_Q9X"
      },
      "outputs": [],
      "source": [
        "# import the libraries\n",
        "import pandas as pd\n",
        "import numpy as np"
      ]
    },
    {
      "cell_type": "code",
      "execution_count": 11,
      "metadata": {
        "id": "s9ysMdFkpEm4"
      },
      "outputs": [],
      "source": [
        "df = pd.read_csv('flights.csv', index_col=False)"
      ]
    },
    {
      "cell_type": "markdown",
      "metadata": {
        "id": "kHKS7KMKWWR1"
      },
      "source": [
        "### **Question One:** (2 points) Select all rows where the carrier is 'UA' and the difference between departure time and scheduled departure time is more than 2 minutes."
      ]
    },
    {
      "cell_type": "code",
      "execution_count": 12,
      "metadata": {
        "colab": {
          "base_uri": "https://localhost:8080/",
          "height": 635
        },
        "id": "T6V9YM2kJobN",
        "outputId": "ecbf1691-3297-4ff4-c350-0e00b1cf8a42"
      },
      "outputs": [
        {
          "data": {
            "text/html": [
              "<div>\n",
              "<style scoped>\n",
              "    .dataframe tbody tr th:only-of-type {\n",
              "        vertical-align: middle;\n",
              "    }\n",
              "\n",
              "    .dataframe tbody tr th {\n",
              "        vertical-align: top;\n",
              "    }\n",
              "\n",
              "    .dataframe thead th {\n",
              "        text-align: right;\n",
              "    }\n",
              "</style>\n",
              "<table border=\"1\" class=\"dataframe\">\n",
              "  <thead>\n",
              "    <tr style=\"text-align: right;\">\n",
              "      <th></th>\n",
              "      <th>Unnamed: 0</th>\n",
              "      <th>year</th>\n",
              "      <th>month</th>\n",
              "      <th>day</th>\n",
              "      <th>dep_time</th>\n",
              "      <th>sched_dep_time</th>\n",
              "      <th>dep_delay</th>\n",
              "      <th>arr_time</th>\n",
              "      <th>sched_arr_time</th>\n",
              "      <th>arr_delay</th>\n",
              "      <th>carrier</th>\n",
              "      <th>flight</th>\n",
              "      <th>tailnum</th>\n",
              "      <th>origin</th>\n",
              "      <th>dest</th>\n",
              "      <th>air_time</th>\n",
              "      <th>distance</th>\n",
              "      <th>hour</th>\n",
              "      <th>minute</th>\n",
              "      <th>time_hour</th>\n",
              "    </tr>\n",
              "  </thead>\n",
              "  <tbody>\n",
              "    <tr>\n",
              "      <th>1</th>\n",
              "      <td>1</td>\n",
              "      <td>2013</td>\n",
              "      <td>1</td>\n",
              "      <td>1</td>\n",
              "      <td>533.0</td>\n",
              "      <td>529</td>\n",
              "      <td>4.0</td>\n",
              "      <td>850.0</td>\n",
              "      <td>830</td>\n",
              "      <td>20.0</td>\n",
              "      <td>UA</td>\n",
              "      <td>1714</td>\n",
              "      <td>N24211</td>\n",
              "      <td>LGA</td>\n",
              "      <td>IAH</td>\n",
              "      <td>227.0</td>\n",
              "      <td>1416</td>\n",
              "      <td>5</td>\n",
              "      <td>29</td>\n",
              "      <td>1/1/2013 5:00</td>\n",
              "    </tr>\n",
              "    <tr>\n",
              "      <th>26</th>\n",
              "      <td>26</td>\n",
              "      <td>2013</td>\n",
              "      <td>1</td>\n",
              "      <td>1</td>\n",
              "      <td>611.0</td>\n",
              "      <td>600</td>\n",
              "      <td>11.0</td>\n",
              "      <td>945.0</td>\n",
              "      <td>931</td>\n",
              "      <td>14.0</td>\n",
              "      <td>UA</td>\n",
              "      <td>303</td>\n",
              "      <td>N532UA</td>\n",
              "      <td>JFK</td>\n",
              "      <td>SFO</td>\n",
              "      <td>366.0</td>\n",
              "      <td>2586</td>\n",
              "      <td>6</td>\n",
              "      <td>0</td>\n",
              "      <td>1/1/2013 6:00</td>\n",
              "    </tr>\n",
              "    <tr>\n",
              "      <th>47</th>\n",
              "      <td>47</td>\n",
              "      <td>2013</td>\n",
              "      <td>1</td>\n",
              "      <td>1</td>\n",
              "      <td>644.0</td>\n",
              "      <td>636</td>\n",
              "      <td>8.0</td>\n",
              "      <td>931.0</td>\n",
              "      <td>940</td>\n",
              "      <td>-9.0</td>\n",
              "      <td>UA</td>\n",
              "      <td>1701</td>\n",
              "      <td>N75435</td>\n",
              "      <td>EWR</td>\n",
              "      <td>FLL</td>\n",
              "      <td>151.0</td>\n",
              "      <td>1065</td>\n",
              "      <td>6</td>\n",
              "      <td>36</td>\n",
              "      <td>1/1/2013 6:00</td>\n",
              "    </tr>\n",
              "    <tr>\n",
              "      <th>70</th>\n",
              "      <td>70</td>\n",
              "      <td>2013</td>\n",
              "      <td>1</td>\n",
              "      <td>1</td>\n",
              "      <td>709.0</td>\n",
              "      <td>700</td>\n",
              "      <td>9.0</td>\n",
              "      <td>852.0</td>\n",
              "      <td>832</td>\n",
              "      <td>20.0</td>\n",
              "      <td>UA</td>\n",
              "      <td>1092</td>\n",
              "      <td>N26226</td>\n",
              "      <td>LGA</td>\n",
              "      <td>ORD</td>\n",
              "      <td>135.0</td>\n",
              "      <td>733</td>\n",
              "      <td>7</td>\n",
              "      <td>0</td>\n",
              "      <td>1/1/2013 7:00</td>\n",
              "    </tr>\n",
              "    <tr>\n",
              "      <th>85</th>\n",
              "      <td>85</td>\n",
              "      <td>2013</td>\n",
              "      <td>1</td>\n",
              "      <td>1</td>\n",
              "      <td>732.0</td>\n",
              "      <td>645</td>\n",
              "      <td>47.0</td>\n",
              "      <td>1011.0</td>\n",
              "      <td>941</td>\n",
              "      <td>30.0</td>\n",
              "      <td>UA</td>\n",
              "      <td>1111</td>\n",
              "      <td>N37456</td>\n",
              "      <td>EWR</td>\n",
              "      <td>MCO</td>\n",
              "      <td>145.0</td>\n",
              "      <td>937</td>\n",
              "      <td>6</td>\n",
              "      <td>45</td>\n",
              "      <td>1/1/2013 6:00</td>\n",
              "    </tr>\n",
              "    <tr>\n",
              "      <th>...</th>\n",
              "      <td>...</td>\n",
              "      <td>...</td>\n",
              "      <td>...</td>\n",
              "      <td>...</td>\n",
              "      <td>...</td>\n",
              "      <td>...</td>\n",
              "      <td>...</td>\n",
              "      <td>...</td>\n",
              "      <td>...</td>\n",
              "      <td>...</td>\n",
              "      <td>...</td>\n",
              "      <td>...</td>\n",
              "      <td>...</td>\n",
              "      <td>...</td>\n",
              "      <td>...</td>\n",
              "      <td>...</td>\n",
              "      <td>...</td>\n",
              "      <td>...</td>\n",
              "      <td>...</td>\n",
              "      <td>...</td>\n",
              "    </tr>\n",
              "    <tr>\n",
              "      <th>950</th>\n",
              "      <td>950</td>\n",
              "      <td>2013</td>\n",
              "      <td>1</td>\n",
              "      <td>2</td>\n",
              "      <td>723.0</td>\n",
              "      <td>713</td>\n",
              "      <td>10.0</td>\n",
              "      <td>846.0</td>\n",
              "      <td>849</td>\n",
              "      <td>-3.0</td>\n",
              "      <td>UA</td>\n",
              "      <td>393</td>\n",
              "      <td>N529UA</td>\n",
              "      <td>EWR</td>\n",
              "      <td>ORD</td>\n",
              "      <td>114.0</td>\n",
              "      <td>719</td>\n",
              "      <td>7</td>\n",
              "      <td>13</td>\n",
              "      <td>2/1/2013 7:00</td>\n",
              "    </tr>\n",
              "    <tr>\n",
              "      <th>952</th>\n",
              "      <td>952</td>\n",
              "      <td>2013</td>\n",
              "      <td>1</td>\n",
              "      <td>2</td>\n",
              "      <td>727.0</td>\n",
              "      <td>645</td>\n",
              "      <td>42.0</td>\n",
              "      <td>1024.0</td>\n",
              "      <td>1028</td>\n",
              "      <td>-4.0</td>\n",
              "      <td>UA</td>\n",
              "      <td>277</td>\n",
              "      <td>N820UA</td>\n",
              "      <td>EWR</td>\n",
              "      <td>SNA</td>\n",
              "      <td>338.0</td>\n",
              "      <td>2434</td>\n",
              "      <td>6</td>\n",
              "      <td>45</td>\n",
              "      <td>2/1/2013 6:00</td>\n",
              "    </tr>\n",
              "    <tr>\n",
              "      <th>968</th>\n",
              "      <td>968</td>\n",
              "      <td>2013</td>\n",
              "      <td>1</td>\n",
              "      <td>2</td>\n",
              "      <td>739.0</td>\n",
              "      <td>735</td>\n",
              "      <td>4.0</td>\n",
              "      <td>1033.0</td>\n",
              "      <td>1031</td>\n",
              "      <td>2.0</td>\n",
              "      <td>UA</td>\n",
              "      <td>1296</td>\n",
              "      <td>N19117</td>\n",
              "      <td>EWR</td>\n",
              "      <td>MCO</td>\n",
              "      <td>144.0</td>\n",
              "      <td>937</td>\n",
              "      <td>7</td>\n",
              "      <td>35</td>\n",
              "      <td>2/1/2013 7:00</td>\n",
              "    </tr>\n",
              "    <tr>\n",
              "      <th>977</th>\n",
              "      <td>977</td>\n",
              "      <td>2013</td>\n",
              "      <td>1</td>\n",
              "      <td>2</td>\n",
              "      <td>750.0</td>\n",
              "      <td>725</td>\n",
              "      <td>25.0</td>\n",
              "      <td>1048.0</td>\n",
              "      <td>1020</td>\n",
              "      <td>28.0</td>\n",
              "      <td>UA</td>\n",
              "      <td>1724</td>\n",
              "      <td>N79521</td>\n",
              "      <td>EWR</td>\n",
              "      <td>PBI</td>\n",
              "      <td>151.0</td>\n",
              "      <td>1023</td>\n",
              "      <td>7</td>\n",
              "      <td>25</td>\n",
              "      <td>2/1/2013 7:00</td>\n",
              "    </tr>\n",
              "    <tr>\n",
              "      <th>981</th>\n",
              "      <td>981</td>\n",
              "      <td>2013</td>\n",
              "      <td>1</td>\n",
              "      <td>2</td>\n",
              "      <td>752.0</td>\n",
              "      <td>745</td>\n",
              "      <td>7.0</td>\n",
              "      <td>1055.0</td>\n",
              "      <td>1042</td>\n",
              "      <td>13.0</td>\n",
              "      <td>UA</td>\n",
              "      <td>251</td>\n",
              "      <td>N430UA</td>\n",
              "      <td>EWR</td>\n",
              "      <td>IAH</td>\n",
              "      <td>215.0</td>\n",
              "      <td>1400</td>\n",
              "      <td>7</td>\n",
              "      <td>45</td>\n",
              "      <td>2/1/2013 7:00</td>\n",
              "    </tr>\n",
              "  </tbody>\n",
              "</table>\n",
              "<p>87 rows × 20 columns</p>\n",
              "</div>"
            ],
            "text/plain": [
              "     Unnamed: 0  year  month  day  dep_time  sched_dep_time  dep_delay  \\\n",
              "1             1  2013      1    1     533.0             529        4.0   \n",
              "26           26  2013      1    1     611.0             600       11.0   \n",
              "47           47  2013      1    1     644.0             636        8.0   \n",
              "70           70  2013      1    1     709.0             700        9.0   \n",
              "85           85  2013      1    1     732.0             645       47.0   \n",
              "..          ...   ...    ...  ...       ...             ...        ...   \n",
              "950         950  2013      1    2     723.0             713       10.0   \n",
              "952         952  2013      1    2     727.0             645       42.0   \n",
              "968         968  2013      1    2     739.0             735        4.0   \n",
              "977         977  2013      1    2     750.0             725       25.0   \n",
              "981         981  2013      1    2     752.0             745        7.0   \n",
              "\n",
              "     arr_time  sched_arr_time  arr_delay carrier  flight tailnum origin dest  \\\n",
              "1       850.0             830       20.0      UA    1714  N24211    LGA  IAH   \n",
              "26      945.0             931       14.0      UA     303  N532UA    JFK  SFO   \n",
              "47      931.0             940       -9.0      UA    1701  N75435    EWR  FLL   \n",
              "70      852.0             832       20.0      UA    1092  N26226    LGA  ORD   \n",
              "85     1011.0             941       30.0      UA    1111  N37456    EWR  MCO   \n",
              "..        ...             ...        ...     ...     ...     ...    ...  ...   \n",
              "950     846.0             849       -3.0      UA     393  N529UA    EWR  ORD   \n",
              "952    1024.0            1028       -4.0      UA     277  N820UA    EWR  SNA   \n",
              "968    1033.0            1031        2.0      UA    1296  N19117    EWR  MCO   \n",
              "977    1048.0            1020       28.0      UA    1724  N79521    EWR  PBI   \n",
              "981    1055.0            1042       13.0      UA     251  N430UA    EWR  IAH   \n",
              "\n",
              "     air_time  distance  hour  minute      time_hour  \n",
              "1       227.0      1416     5      29  1/1/2013 5:00  \n",
              "26      366.0      2586     6       0  1/1/2013 6:00  \n",
              "47      151.0      1065     6      36  1/1/2013 6:00  \n",
              "70      135.0       733     7       0  1/1/2013 7:00  \n",
              "85      145.0       937     6      45  1/1/2013 6:00  \n",
              "..        ...       ...   ...     ...            ...  \n",
              "950     114.0       719     7      13  2/1/2013 7:00  \n",
              "952     338.0      2434     6      45  2/1/2013 6:00  \n",
              "968     144.0       937     7      35  2/1/2013 7:00  \n",
              "977     151.0      1023     7      25  2/1/2013 7:00  \n",
              "981     215.0      1400     7      45  2/1/2013 7:00  \n",
              "\n",
              "[87 rows x 20 columns]"
            ]
          },
          "execution_count": 12,
          "metadata": {},
          "output_type": "execute_result"
        }
      ],
      "source": [
        "df[(df['carrier'] == \"UA\") & ((df['dep_time'] - df['sched_dep_time']) > 2.0)]"
      ]
    },
    {
      "cell_type": "markdown",
      "metadata": {
        "id": "y_Lj1quOXfHl"
      },
      "source": [
        "\n",
        "### **Question Two:** (2 points) How many unique airlines are there in the dataset?"
      ]
    },
    {
      "cell_type": "code",
      "execution_count": 13,
      "metadata": {
        "colab": {
          "base_uri": "https://localhost:8080/"
        },
        "id": "vkdQ4ZijW1wf",
        "outputId": "adae15a1-f4c1-45cb-da42-8c061bd01e8b"
      },
      "outputs": [
        {
          "data": {
            "text/plain": [
              "14"
            ]
          },
          "execution_count": 13,
          "metadata": {},
          "output_type": "execute_result"
        }
      ],
      "source": [
        "len(df.groupby('carrier'))"
      ]
    },
    {
      "cell_type": "markdown",
      "metadata": {
        "id": "g3vGa65sR8oG"
      },
      "source": [
        "There are 14 unique airlines in the dataset."
      ]
    },
    {
      "cell_type": "markdown",
      "metadata": {
        "id": "z_CoqZhKX3Ck"
      },
      "source": [
        "### **Question Three:** (3 points) Which carrier has the longest cumulative departure delay?"
      ]
    },
    {
      "cell_type": "code",
      "execution_count": 14,
      "metadata": {
        "colab": {
          "base_uri": "https://localhost:8080/"
        },
        "id": "dk1FW8kHXu65",
        "outputId": "6c0241e0-0f65-491d-9953-9c4889c14582"
      },
      "outputs": [
        {
          "data": {
            "text/plain": [
              "carrier\n",
              "EV    3947.0\n",
              "B6    1893.0\n",
              "MQ    1793.0\n",
              "UA    1391.0\n",
              "AA     799.0\n",
              "9E     483.0\n",
              "WN     138.0\n",
              "HA      -3.0\n",
              "AS     -11.0\n",
              "F9     -16.0\n",
              "VX     -16.0\n",
              "FL     -44.0\n",
              "US     -61.0\n",
              "DL     -74.0\n",
              "Name: dep_delay, dtype: float64"
            ]
          },
          "execution_count": 14,
          "metadata": {},
          "output_type": "execute_result"
        }
      ],
      "source": [
        "df.groupby('carrier')['dep_delay'].sum().sort_values(ascending = False)"
      ]
    },
    {
      "cell_type": "markdown",
      "metadata": {
        "id": "PIP0xaHASB7r"
      },
      "source": [
        "EV has the longest cumulative departure delay."
      ]
    },
    {
      "cell_type": "markdown",
      "metadata": {
        "id": "yw3qYa2VZWtZ"
      },
      "source": [
        " ### **Question Four:** (3 points) Which carrier has the single longest departure delay?"
      ]
    },
    {
      "cell_type": "code",
      "execution_count": 15,
      "metadata": {
        "colab": {
          "base_uri": "https://localhost:8080/",
          "height": 520
        },
        "id": "4GQ5sWMbY-Lz",
        "outputId": "dafb9ba1-4ea1-4b66-973a-c1a071530469"
      },
      "outputs": [
        {
          "data": {
            "text/html": [
              "<div>\n",
              "<style scoped>\n",
              "    .dataframe tbody tr th:only-of-type {\n",
              "        vertical-align: middle;\n",
              "    }\n",
              "\n",
              "    .dataframe tbody tr th {\n",
              "        vertical-align: top;\n",
              "    }\n",
              "\n",
              "    .dataframe thead th {\n",
              "        text-align: right;\n",
              "    }\n",
              "</style>\n",
              "<table border=\"1\" class=\"dataframe\">\n",
              "  <thead>\n",
              "    <tr style=\"text-align: right;\">\n",
              "      <th></th>\n",
              "      <th>dep_delay</th>\n",
              "    </tr>\n",
              "    <tr>\n",
              "      <th>carrier</th>\n",
              "      <th></th>\n",
              "    </tr>\n",
              "  </thead>\n",
              "  <tbody>\n",
              "    <tr>\n",
              "      <th>MQ</th>\n",
              "      <td>853.0</td>\n",
              "    </tr>\n",
              "    <tr>\n",
              "      <th>EV</th>\n",
              "      <td>379.0</td>\n",
              "    </tr>\n",
              "    <tr>\n",
              "      <th>AA</th>\n",
              "      <td>285.0</td>\n",
              "    </tr>\n",
              "    <tr>\n",
              "      <th>9E</th>\n",
              "      <td>255.0</td>\n",
              "    </tr>\n",
              "    <tr>\n",
              "      <th>B6</th>\n",
              "      <td>156.0</td>\n",
              "    </tr>\n",
              "    <tr>\n",
              "      <th>UA</th>\n",
              "      <td>144.0</td>\n",
              "    </tr>\n",
              "    <tr>\n",
              "      <th>DL</th>\n",
              "      <td>105.0</td>\n",
              "    </tr>\n",
              "    <tr>\n",
              "      <th>WN</th>\n",
              "      <td>34.0</td>\n",
              "    </tr>\n",
              "    <tr>\n",
              "      <th>US</th>\n",
              "      <td>15.0</td>\n",
              "    </tr>\n",
              "    <tr>\n",
              "      <th>FL</th>\n",
              "      <td>9.0</td>\n",
              "    </tr>\n",
              "    <tr>\n",
              "      <th>VX</th>\n",
              "      <td>3.0</td>\n",
              "    </tr>\n",
              "    <tr>\n",
              "      <th>AS</th>\n",
              "      <td>-1.0</td>\n",
              "    </tr>\n",
              "    <tr>\n",
              "      <th>F9</th>\n",
              "      <td>-2.0</td>\n",
              "    </tr>\n",
              "    <tr>\n",
              "      <th>HA</th>\n",
              "      <td>-3.0</td>\n",
              "    </tr>\n",
              "  </tbody>\n",
              "</table>\n",
              "</div>"
            ],
            "text/plain": [
              "         dep_delay\n",
              "carrier           \n",
              "MQ           853.0\n",
              "EV           379.0\n",
              "AA           285.0\n",
              "9E           255.0\n",
              "B6           156.0\n",
              "UA           144.0\n",
              "DL           105.0\n",
              "WN            34.0\n",
              "US            15.0\n",
              "FL             9.0\n",
              "VX             3.0\n",
              "AS            -1.0\n",
              "F9            -2.0\n",
              "HA            -3.0"
            ]
          },
          "execution_count": 15,
          "metadata": {},
          "output_type": "execute_result"
        }
      ],
      "source": [
        "df.pivot_table(values = \"dep_delay\", index = \"carrier\", aggfunc = \"max\").sort_values(by = \"dep_delay\", ascending = False)"
      ]
    },
    {
      "cell_type": "markdown",
      "metadata": {
        "id": "-_vKlpXWSYZM"
      },
      "source": [
        "MQ has the single longest departure delay."
      ]
    },
    {
      "cell_type": "markdown",
      "metadata": {
        "id": "di9w16jfg3in"
      },
      "source": [
        "# **TODO: When done, please submit your `ipynb` file on Canvas.**"
      ]
    }
  ],
  "metadata": {
    "colab": {
      "provenance": []
    },
    "kernelspec": {
      "display_name": "Python 3 (ipykernel)",
      "language": "python",
      "name": "python3"
    },
    "language_info": {
      "codemirror_mode": {
        "name": "ipython",
        "version": 3
      },
      "file_extension": ".py",
      "mimetype": "text/x-python",
      "name": "python",
      "nbconvert_exporter": "python",
      "pygments_lexer": "ipython3",
      "version": "3.11.2"
    }
  },
  "nbformat": 4,
  "nbformat_minor": 0
}
