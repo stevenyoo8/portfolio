{
  "cells": [
    {
      "cell_type": "markdown",
      "metadata": {
        "id": "xisujt7soDBd"
      },
      "source": [
        "## **HW9 K-means Clustering**\n",
        "\n",
        "## **Steven Yoo**\n",
        "\n",
        "\n",
        "### **Introduction**\n",
        "\n",
        "For this week's homework we are going explore our first clustering method:\n",
        "\n",
        "  - K-Means\n",
        "  \n",
        "As we discussed in lecture, k-means creates clusters based on a distance measure.  Using a small example data set, we will implement the algorithm and visualize the results.\n",
        "\n",
        "Even though the example data is small and 2 dimensional, write your helper functions to not assume a 2-D data set.  Your plotting code can reference the `x` and `y` column names from the sample data directly.\n",
        "\n",
        "**Please ensure that all functions you implement include comprehensive docstrings with all the necessary components. The first method's docstring is provided for you as an example.**\n"
      ]
    },
    {
      "cell_type": "code",
      "execution_count": 1,
      "metadata": {
        "id": "PfRNU2LGnBHK"
      },
      "outputs": [],
      "source": [
        "# Please do not import any other libraries\n",
        "import pandas as pd\n",
        "import matplotlib.pyplot as plt\n",
        "import numpy as np\n",
        "%matplotlib inline"
      ]
    },
    {
      "cell_type": "markdown",
      "metadata": {
        "id": "lRpU4W-TzF3o"
      },
      "source": [
        "# **K-Means Algorithm**\n",
        "\n",
        "We will implement the Algorithm 7.1 \"Basic K-means algorithm\", from our textbook and apply that algorithm to a small data set provided with the assignment in the `data_kmeans.csv` file. We will build up some helper functions along the way, test them, and put it all together to apply to our small example data set."
      ]
    },
    {
      "cell_type": "markdown",
      "metadata": {
        "id": "53lXs376zXLy"
      },
      "source": [
        "**Load the Data**\n"
      ]
    },
    {
      "cell_type": "code",
      "execution_count": 2,
      "metadata": {
        "id": "ckJ8nPLDzMTo"
      },
      "outputs": [],
      "source": [
        "# Load the data from the provided CSV file into a dataframe.\n",
        "df_kmeans = pd.read_csv('data_kmeans.csv')"
      ]
    },
    {
      "cell_type": "markdown",
      "metadata": {
        "id": "p4IJvFNtykSc"
      },
      "source": [
        "## **Q1 - Write a function that returns `k` random rows from a data frame**\n",
        "\n",
        "**A)** To initialize the centroids, we pick `k` random points from a data frame.  Write a function `init_centroids( df_data, k )` that accepts two parameters: a data frame `df_data`, and an integer `k`, and returns the initial centroids for our k-means algorithm.  Note, we want the indices of the returned dataframe to range from 0 - (k-1) so that we can use these as the centroid labels.  Use [pandas sample](https://pandas.pydata.org/pandas-docs/stable/reference/api/pandas.DataFrame.sample.html) method, and pass it the value of $42$ for `random_state`. Your function must have proper docstring."
      ]
    },
    {
      "cell_type": "code",
      "execution_count": 3,
      "metadata": {
        "id": "GVllpRB-ykZg"
      },
      "outputs": [],
      "source": [
        "def init_centroids( df_data, k ):\n",
        "  '''Initialize 'k' centroids from the given dataframe.\n",
        "\n",
        "    Parameters:\n",
        "    - df_data (pd.DataFrame): The input dataframe from which centroids will be initialized.\n",
        "    - k (int): The number of centroids to initialize.\n",
        "\n",
        "    Returns:\n",
        "    - pd.DataFrame: A dataframe containing 'k' randomly selected data points from `df_data`.\n",
        "  '''\n",
        "  return df_data.sample(n=k, random_state=42).reset_index(drop=True)"
      ]
    },
    {
      "cell_type": "markdown",
      "metadata": {
        "id": "ej1XdX9-ykgK"
      },
      "source": [
        "**B)** Call your function with the dataframe you created earlier"
      ]
    },
    {
      "cell_type": "code",
      "execution_count": 4,
      "metadata": {
        "colab": {
          "base_uri": "https://localhost:8080/",
          "height": 269
        },
        "id": "fXh5-G_iykl-",
        "outputId": "78da41cd-17a0-4ab7-ab6f-aad09a92f314"
      },
      "outputs": [
        {
          "data": {
            "text/html": [
              "<div>\n",
              "<style scoped>\n",
              "    .dataframe tbody tr th:only-of-type {\n",
              "        vertical-align: middle;\n",
              "    }\n",
              "\n",
              "    .dataframe tbody tr th {\n",
              "        vertical-align: top;\n",
              "    }\n",
              "\n",
              "    .dataframe thead th {\n",
              "        text-align: right;\n",
              "    }\n",
              "</style>\n",
              "<table border=\"1\" class=\"dataframe\">\n",
              "  <thead>\n",
              "    <tr style=\"text-align: right;\">\n",
              "      <th></th>\n",
              "      <th>x</th>\n",
              "      <th>y</th>\n",
              "    </tr>\n",
              "  </thead>\n",
              "  <tbody>\n",
              "    <tr>\n",
              "      <th>0</th>\n",
              "      <td>-0.633437</td>\n",
              "      <td>0.488756</td>\n",
              "    </tr>\n",
              "    <tr>\n",
              "      <th>1</th>\n",
              "      <td>-0.597736</td>\n",
              "      <td>0.632194</td>\n",
              "    </tr>\n",
              "    <tr>\n",
              "      <th>2</th>\n",
              "      <td>-0.635867</td>\n",
              "      <td>0.166613</td>\n",
              "    </tr>\n",
              "    <tr>\n",
              "      <th>3</th>\n",
              "      <td>-0.539351</td>\n",
              "      <td>-0.875532</td>\n",
              "    </tr>\n",
              "    <tr>\n",
              "      <th>4</th>\n",
              "      <td>-0.588597</td>\n",
              "      <td>0.293062</td>\n",
              "    </tr>\n",
              "    <tr>\n",
              "      <th>5</th>\n",
              "      <td>-0.127985</td>\n",
              "      <td>-0.136639</td>\n",
              "    </tr>\n",
              "    <tr>\n",
              "      <th>6</th>\n",
              "      <td>0.342579</td>\n",
              "      <td>0.211717</td>\n",
              "    </tr>\n",
              "  </tbody>\n",
              "</table>\n",
              "</div>"
            ],
            "text/plain": [
              "          x         y\n",
              "0 -0.633437  0.488756\n",
              "1 -0.597736  0.632194\n",
              "2 -0.635867  0.166613\n",
              "3 -0.539351 -0.875532\n",
              "4 -0.588597  0.293062\n",
              "5 -0.127985 -0.136639\n",
              "6  0.342579  0.211717"
            ]
          },
          "execution_count": 4,
          "metadata": {},
          "output_type": "execute_result"
        }
      ],
      "source": [
        "# Write your code here\n",
        "df_centroids = init_centroids( df_kmeans, 7 )\n",
        "df_centroids"
      ]
    },
    {
      "cell_type": "markdown",
      "metadata": {
        "id": "i1gzstItzzLw"
      },
      "source": [
        "## **Q2 - Write a function to assign every row in a data frame to a centroid**\n",
        "\n",
        "**A)** Write a function, `assign_to_centroid`, that accepts two parameters: a data frame, `df_data`, that represents our data to be clustered, and the data frame, `df_centroids`, which is of length `k` and contains the current centroids for our clusters.  The functions returns a series of the same length of `df_data` that contains the index of the closest centroid in `df_centroid`.  Use Euclidean distance as your distance measure.\n",
        "\n",
        "For example, if a row of data contained the data point $(100,123)$ and the three centroids were in a data frame that had the following information:\n",
        "\n",
        "  - Index 0 : (34,34)\n",
        "  - Index 1 : (0,1)\n",
        "  - Index 2 : (83,99)\n",
        "\n",
        "The `assign_to_centroid` function would assign the index $2$ to that row of data. Your function must have proper docstring."
      ]
    },
    {
      "cell_type": "code",
      "execution_count": 5,
      "metadata": {
        "id": "vRPeIH4YzzT_"
      },
      "outputs": [],
      "source": [
        "def assign_to_centroid( df_data, df_centroids ):\n",
        "    '''\n",
        "    Assign each data point in `df_data` to the nearest centroid from `df_centroids`.\n",
        "\n",
        "    Parameters:\n",
        "    - df_data (pd.DataFrame): The input dataframe containing data points to be assigned to centroids.\n",
        "    - df_centroids (pd.DataFrame): The dataframe containing centroid coordinates.\n",
        "\n",
        "    Returns:\n",
        "    - pd.Series: A series containing the index of the nearest centroid for each data point in `df_data`.\n",
        "\n",
        "    Example:\n",
        "    >>> df_data = pd.DataFrame({'A': [1, 4, 7], 'B': [2, 5, 8]})\n",
        "    >>> df_centroids = pd.DataFrame({'A': [1, 7], 'B': [2, 8]})\n",
        "    >>> assign_to_centroid(df_data, df_centroids)\n",
        "    0    0\n",
        "    1    0\n",
        "    2    1\n",
        "    dtype: int64\n",
        "    '''\n",
        "    centroid_index = []\n",
        "    for indx,row in df_data.iterrows():\n",
        "        centroid_index.append( np.argmin(np.linalg.norm( row - df_centroids, axis=1)) )\n",
        "    return pd.Series(centroid_index)"
      ]
    },
    {
      "cell_type": "markdown",
      "metadata": {
        "id": "IUAAUUlSzzbN"
      },
      "source": [
        "**B)** Check how many data points were assigned to each centroid"
      ]
    },
    {
      "cell_type": "code",
      "execution_count": 6,
      "metadata": {
        "colab": {
          "base_uri": "https://localhost:8080/"
        },
        "id": "HN32FA3Uzzhv",
        "outputId": "f27a0606-985e-4a71-9ae0-03e5529bc211"
      },
      "outputs": [
        {
          "data": {
            "text/plain": [
              "6    126\n",
              "1     94\n",
              "3     71\n",
              "5     58\n",
              "0     53\n",
              "2     26\n",
              "4     22\n",
              "dtype: int64"
            ]
          },
          "execution_count": 6,
          "metadata": {},
          "output_type": "execute_result"
        }
      ],
      "source": [
        "s_centroid_assignment = assign_to_centroid( df_kmeans, df_centroids )\n",
        "s_centroid_assignment.value_counts()"
      ]
    },
    {
      "cell_type": "markdown",
      "metadata": {
        "id": "by1gSBAizzox"
      },
      "source": [
        "## **Q3 - Write a function that recomputes the centroids**\n",
        "\n",
        "Write a function `compute_centroids()` that takes two parameters: the data frame, `df_data` containing the data being clustered, and a series of the same length that contains the label of the assigned centroid for every row in df_data, `s_centroid_assignment`. The function will return the a data frame containing the centroids (mean) value for each unique centroid.\n",
        "\n",
        "Note that the indices in the returned data frame should correspond to the unique values in `s_centroid_assignment`.  For example, if I found the mean value of df_data using the slice corresponding to `s_centroid_assigment == 2`, then the centroid should be in the returned data frame at `.iloc[2]`.\n",
        "\n",
        "Your function must have proper docstring.\n"
      ]
    },
    {
      "cell_type": "code",
      "execution_count": 7,
      "metadata": {
        "id": "ktKs55zqzzui"
      },
      "outputs": [],
      "source": [
        "def compute_centroids( df_data, s_centroid_assignment ):\n",
        "    '''Compute the new centroids based on the mean of data points assigned to each centroid.\n",
        "\n",
        "    Parameters:\n",
        "    - df_data (pd.DataFrame): The input dataframe containing data points.\n",
        "    - s_centroid_assignment (pd.Series): A series indicating the centroid assignment for each data point.\n",
        "\n",
        "    Returns:\n",
        "    - pd.DataFrame: A dataframe containing the new centroids, computed as the mean of data points assigned to each centroid.\n",
        "    '''\n",
        "    df_new_centroids = pd.DataFrame(columns=df_data.columns)\n",
        "    for c in range(s_centroid_assignment.max()+1):\n",
        "        # get all indices of points that were closest to this centroid\n",
        "        rows = s_centroid_assignment.loc[s_centroid_assignment == c].index\n",
        "        # get mean of coresponding rows and add to result\n",
        "        df_new_centroids = pd.concat([df_new_centroids, pd.DataFrame([df_data.iloc[rows].mean()])], ignore_index=True)\n",
        "\n",
        "\n",
        "    return df_new_centroids"
      ]
    },
    {
      "cell_type": "markdown",
      "metadata": {
        "id": "_WCeUIlO0dVx"
      },
      "source": [
        "**Check your results by calling your method**"
      ]
    },
    {
      "cell_type": "code",
      "execution_count": 8,
      "metadata": {
        "colab": {
          "base_uri": "https://localhost:8080/",
          "height": 269
        },
        "id": "xImboBfX00je",
        "outputId": "8be923e5-56d9-4ef2-ec20-bca80e5f0b45"
      },
      "outputs": [
        {
          "data": {
            "text/html": [
              "<div>\n",
              "<style scoped>\n",
              "    .dataframe tbody tr th:only-of-type {\n",
              "        vertical-align: middle;\n",
              "    }\n",
              "\n",
              "    .dataframe tbody tr th {\n",
              "        vertical-align: top;\n",
              "    }\n",
              "\n",
              "    .dataframe thead th {\n",
              "        text-align: right;\n",
              "    }\n",
              "</style>\n",
              "<table border=\"1\" class=\"dataframe\">\n",
              "  <thead>\n",
              "    <tr style=\"text-align: right;\">\n",
              "      <th></th>\n",
              "      <th>x</th>\n",
              "      <th>y</th>\n",
              "    </tr>\n",
              "  </thead>\n",
              "  <tbody>\n",
              "    <tr>\n",
              "      <th>0</th>\n",
              "      <td>-0.715983</td>\n",
              "      <td>0.500552</td>\n",
              "    </tr>\n",
              "    <tr>\n",
              "      <th>1</th>\n",
              "      <td>-0.721574</td>\n",
              "      <td>0.708343</td>\n",
              "    </tr>\n",
              "    <tr>\n",
              "      <th>2</th>\n",
              "      <td>-0.738268</td>\n",
              "      <td>-0.113830</td>\n",
              "    </tr>\n",
              "    <tr>\n",
              "      <th>3</th>\n",
              "      <td>-0.696694</td>\n",
              "      <td>-0.699028</td>\n",
              "    </tr>\n",
              "    <tr>\n",
              "      <th>4</th>\n",
              "      <td>-0.546913</td>\n",
              "      <td>0.321364</td>\n",
              "    </tr>\n",
              "    <tr>\n",
              "      <th>5</th>\n",
              "      <td>-0.102365</td>\n",
              "      <td>-0.188876</td>\n",
              "    </tr>\n",
              "    <tr>\n",
              "      <th>6</th>\n",
              "      <td>0.523364</td>\n",
              "      <td>0.238569</td>\n",
              "    </tr>\n",
              "  </tbody>\n",
              "</table>\n",
              "</div>"
            ],
            "text/plain": [
              "          x         y\n",
              "0 -0.715983  0.500552\n",
              "1 -0.721574  0.708343\n",
              "2 -0.738268 -0.113830\n",
              "3 -0.696694 -0.699028\n",
              "4 -0.546913  0.321364\n",
              "5 -0.102365 -0.188876\n",
              "6  0.523364  0.238569"
            ]
          },
          "execution_count": 8,
          "metadata": {},
          "output_type": "execute_result"
        }
      ],
      "source": [
        "df_new_centroids = compute_centroids( df_kmeans, s_centroid_assignment)\n",
        "df_new_centroids"
      ]
    },
    {
      "cell_type": "markdown",
      "metadata": {
        "id": "Oda3_tju03oX"
      },
      "source": [
        "## **Q4 - Write a function that compares two centroid data frames**\n",
        "\n",
        "The stopping criterion for k-means is when our centroids have not moved since the last iteration.  Write a function `compare_centroids` that is given 2 centroid data frames, `df_centroid_a`, and `df_centroid_b` as parameters and returns `True` or `False` indicating if the centroids at each unique index in the data frame are equal. Use the [equals](https://pandas.pydata.org/pandas-docs/stable/reference/api/pandas.Series.equals.html) method to compare equality of pandas Series objects.  Your function must have proper docstring."
      ]
    },
    {
      "cell_type": "code",
      "execution_count": 9,
      "metadata": {
        "id": "qpL1ZVWs03wG"
      },
      "outputs": [],
      "source": [
        "def compare_centroids( df_centroid_a, df_centroid_b ):\n",
        "  '''Compare two sets of centroids to determine if they are identical.\n",
        "\n",
        "    Parameters:\n",
        "    - df_centroid_a (pd.DataFrame): The first set of centroids to compare.\n",
        "    - df_centroid_b (pd.DataFrame): The second set of centroids to compare.\n",
        "\n",
        "    Returns:\n",
        "    - bool: True if the two sets of centroids are identical, False otherwise.\n",
        "  '''\n",
        "  for index in range(len(df_centroid_a)):\n",
        "      if not (df_centroid_a.iloc[index]).equals(df_centroid_b.iloc[index]):\n",
        "          return False\n",
        "  return True"
      ]
    },
    {
      "cell_type": "markdown",
      "metadata": {
        "id": "yyctQ_PJ033q"
      },
      "source": [
        "**Test your implementation by calling your function. It should print `True`, followed by `False`**"
      ]
    },
    {
      "cell_type": "code",
      "execution_count": 10,
      "metadata": {
        "colab": {
          "base_uri": "https://localhost:8080/"
        },
        "id": "sg1858AW03-Z",
        "outputId": "838228c8-e658-470b-80f0-125accf4d624"
      },
      "outputs": [
        {
          "name": "stdout",
          "output_type": "stream",
          "text": [
            "True\n",
            "False\n"
          ]
        }
      ],
      "source": [
        "print(compare_centroids( df_new_centroids, df_new_centroids ))\n",
        "print(compare_centroids( df_new_centroids, df_centroids ))"
      ]
    },
    {
      "cell_type": "markdown",
      "metadata": {
        "id": "kgy06-LT04Fb"
      },
      "source": [
        "## **Q5 - Write a function that implements k-means**\n",
        "\n",
        "Write a function, `k_means`, that takes in as parameters 2 values, a data frame with values to cluster, `df_data`, and the number of clusters to form, `k`.  The function should return a series of data of the same length as `df_data` that contains the cluster assignment (an integer from 0 to (k-1)) for each row of data.  Use the helper functions defined in the prior questions. Your function must have proper docstring."
      ]
    },
    {
      "cell_type": "code",
      "execution_count": 11,
      "metadata": {
        "id": "uAXkCiml04NR"
      },
      "outputs": [],
      "source": [
        "def k_means( df_data, k ):\n",
        "    '''Implement the k-means clustering algorithm.\n",
        "\n",
        "    Parameters:\n",
        "    - df_data (pd.DataFrame): The input dataframe containing data points to be clustered.\n",
        "    - k (int): The number of clusters to form.\n",
        "\n",
        "    Returns:\n",
        "    - pd.Series: A series indicating the cluster assignment for each data point.\n",
        "    '''\n",
        "    df_centroids = init_centroids( df_data, k )\n",
        "    while True:\n",
        "        s_cluster_assignment = assign_to_centroid( df_data, df_centroids )\n",
        "        df_new_centroids = compute_centroids( df_data, s_cluster_assignment )\n",
        "\n",
        "        if compare_centroids( df_centroids, df_new_centroids ):\n",
        "            break\n",
        "        else:\n",
        "            df_centroids = df_new_centroids\n",
        "    return s_cluster_assignment"
      ]
    },
    {
      "cell_type": "markdown",
      "metadata": {
        "id": "8ORZpVUJ14DK"
      },
      "source": [
        "**Call your function with `k=5` and observe the results**"
      ]
    },
    {
      "cell_type": "code",
      "execution_count": 12,
      "metadata": {
        "colab": {
          "base_uri": "https://localhost:8080/"
        },
        "id": "Lppb0Fnz14MB",
        "outputId": "6f6394e0-f9d8-4294-e85f-1797dbfef113"
      },
      "outputs": [
        {
          "data": {
            "text/plain": [
              "0    178\n",
              "3     89\n",
              "2     74\n",
              "4     63\n",
              "1     46\n",
              "dtype: int64"
            ]
          },
          "execution_count": 12,
          "metadata": {},
          "output_type": "execute_result"
        }
      ],
      "source": [
        "s_cluster_assignment = k_means( df_kmeans, 5)\n",
        "s_cluster_assignment.value_counts()"
      ]
    },
    {
      "cell_type": "markdown",
      "metadata": {
        "id": "bCeEsqzK2Dgw"
      },
      "source": [
        "## **Q6 - Plot the results**\n",
        "\n",
        "Plot the points in the `df_kmeans` data frame using a 2-D scatter plot, with a different color for each cluster.  Use the cluster assignments from the previous problem (`s_cluster_assignments`).  Label your axes, and give the plot a title."
      ]
    },
    {
      "cell_type": "code",
      "execution_count": 13,
      "metadata": {
        "colab": {
          "base_uri": "https://localhost:8080/",
          "height": 472
        },
        "id": "X-6UMGFa2C1U",
        "outputId": "b9034e09-407e-49cb-b540-80ed0930621b"
      },
      "outputs": [
        {
          "data": {
            "image/png": "[encoded data removed]",
            "text/plain": [
              "<Figure size 640x480 with 1 Axes>"
            ]
          },
          "metadata": {},
          "output_type": "display_data"
        }
      ],
      "source": [
        "for k in s_cluster_assignment.unique():\n",
        "    plt.plot(df_kmeans['x'][s_cluster_assignment == k],df_kmeans['y'][s_cluster_assignment == k], '.', alpha=0.5)\n",
        "\n",
        "plt.xlabel('x')\n",
        "plt.ylabel('y')\n",
        "plt.title('K-Means Scatter Plot with Color Representing Clusters')\n",
        "plt.show()"
      ]
    }
  ],
  "metadata": {
    "colab": {
      "provenance": []
    },
    "kernelspec": {
      "display_name": "Python 3",
      "name": "python3"
    },
    "language_info": {
      "codemirror_mode": {
        "name": "ipython",
        "version": 3
      },
      "file_extension": ".py",
      "mimetype": "text/x-python",
      "name": "python",
      "nbconvert_exporter": "python",
      "pygments_lexer": "ipython3",
      "version": "3.11.2"
    }
  },
  "nbformat": 4,
  "nbformat_minor": 0
}
