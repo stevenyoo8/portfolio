{
 "cells": [
  {
   "cell_type": "code",
   "execution_count": 1,
   "metadata": {},
   "outputs": [],
   "source": [
    "import pandas as pd\n",
    "import matplotlib.pyplot as plt\n",
    "import seaborn as sns\n",
    "import altair as alt\n",
    "import plotly.graph_objects as go"
   ]
  },
  {
   "cell_type": "code",
   "execution_count": 2,
   "metadata": {},
   "outputs": [],
   "source": [
    "import warnings\n",
    "warnings.filterwarnings(\"ignore\")\n",
    "# warnings.resetwarnings()"
   ]
  },
  {
   "cell_type": "code",
   "execution_count": 3,
   "metadata": {},
   "outputs": [],
   "source": [
    "firewall_06 = pd.read_csv('/Users/stevenyoo/Desktop/CS329E - Data Visualization/Project/Data/Firewall-04062012.csv')\n",
    "firewall_07 = pd.read_csv('/Users/stevenyoo/Desktop/CS329E - Data Visualization/Project/Data/Firewall-04072012.csv')"
   ]
  },
  {
   "cell_type": "code",
   "execution_count": 4,
   "metadata": {},
   "outputs": [],
   "source": [
    "# convert Date/time to datetime structure\n",
    "firewall_06['Date/time'] = pd.to_datetime(firewall_06['Date/time'])\n",
    "firewall_06['Date/time'] = firewall_06['Date/time'].dt.strftime('%m/%d/%Y %H:%M:%S')\n",
    "\n",
    "firewall_07['Date/time'] = pd.to_datetime(firewall_07['Date/time'])\n",
    "firewall_07['Date/time'] = firewall_07['Date/time'].dt.strftime('%m/%d/%Y %H:%M:%S')"
   ]
  },
  {
   "cell_type": "markdown",
   "metadata": {},
   "source": [
    "# Argument 1"
   ]
  },
  {
   "cell_type": "code",
   "execution_count": 5,
   "metadata": {},
   "outputs": [],
   "source": [
    "firewall_06_normal = firewall_06[(firewall_06['Date/time'] >= \"04/05/2012 17:51:00\") &\n",
    "                                  (firewall_06['Date/time'] < \"04/05/2012 20:25:00\")]\n",
    "\n",
    "firewall_06_malware = firewall_06[firewall_06['Date/time'] >= \"04/05/2012 20:25:00\"]"
   ]
  },
  {
   "cell_type": "code",
   "execution_count": 6,
   "metadata": {},
   "outputs": [],
   "source": [
    "firewall_06_normal_hourly = firewall_06_normal\n",
    "firewall_06_normal_hourly['Date/time'] = pd.to_datetime(firewall_06_normal_hourly['Date/time'])\n",
    "firewall_06_normal_hourly['Date/time'] = firewall_06_normal_hourly['Date/time'].dt.strftime('%m/%d %H')\n",
    "\n",
    "firewall_07_hourly = firewall_07\n",
    "firewall_07_hourly['Date/time'] = pd.to_datetime(firewall_07_hourly['Date/time'])\n",
    "firewall_07_hourly['Date/time'] = firewall_07_hourly['Date/time'].dt.strftime('%m/%d %H')"
   ]
  },
  {
   "cell_type": "code",
   "execution_count": 7,
   "metadata": {},
   "outputs": [],
   "source": [
    "# create pivot table\n",
    "data1 = firewall_06_normal_hourly\n",
    "data1 = data1[['Date/time', 'Operation']]\n",
    "grouped_data_06_normal = data1.groupby(['Date/time', 'Operation']).size().reset_index(name = 'Count')\n",
    "pivot_06_normal_operation = grouped_data_06_normal.pivot(index='Date/time', \n",
    "                                                         columns='Operation', \n",
    "                                                         values='Count').fillna(0).astype(int).reset_index()\n",
    "pivot_06_normal_operation.drop('(empty)', axis=1, inplace=True)\n",
    "\n",
    "# repeat for malware data\n",
    "data2 = firewall_07_hourly\n",
    "data2 = data2[['Date/time', 'Operation']]\n",
    "grouped_data_07 = data2.groupby(['Date/time', 'Operation']).size().reset_index(name = 'Count')\n",
    "pivot_07_operation = grouped_data_07.pivot(index='Date/time', \n",
    "                                           columns='Operation', \n",
    "                                           values='Count').fillna(0).astype(int).reset_index()\n",
    "pivot_07_operation.drop('(empty)', axis=1, inplace=True)\n",
    "pivot_07_operation.drop('Command executed', axis = 1, inplace=True)"
   ]
  },
  {
   "cell_type": "code",
   "execution_count": 8,
   "metadata": {},
   "outputs": [],
   "source": [
    "melted_06_normal_operation = pivot_06_normal_operation.melt(id_vars='Date/time', \n",
    "                                                            var_name='operation', \n",
    "                                                            value_name='Value')\n",
    "melted_07_operation = pivot_07_operation.melt(id_vars='Date/time', \n",
    "                                              var_name='operation', \n",
    "                                              value_name='Value')"
   ]
  },
  {
   "cell_type": "code",
   "execution_count": 9,
   "metadata": {},
   "outputs": [
    {
     "data": {
      "text/html": [
       "\n",
       "<style>\n",
       "  #altair-viz-ab3ccd7104eb4a3c8d869106f2b417a2.vega-embed {\n",
       "    width: 100%;\n",
       "    display: flex;\n",
       "  }\n",
       "\n",
       "  #altair-viz-ab3ccd7104eb4a3c8d869106f2b417a2.vega-embed details,\n",
       "  #altair-viz-ab3ccd7104eb4a3c8d869106f2b417a2.vega-embed details summary {\n",
       "    position: relative;\n",
       "  }\n",
       "</style>\n",
       "<div id=\"altair-viz-ab3ccd7104eb4a3c8d869106f2b417a2\"></div>\n",
       "<script type=\"text/javascript\">\n",
       "  var VEGA_DEBUG = (typeof VEGA_DEBUG == \"undefined\") ? {} : VEGA_DEBUG;\n",
       "  (function(spec, embedOpt){\n",
       "    let outputDiv = document.currentScript.previousElementSibling;\n",
       "    if (outputDiv.id !== \"altair-viz-ab3ccd7104eb4a3c8d869106f2b417a2\") {\n",
       "      outputDiv = document.getElementById(\"altair-viz-ab3ccd7104eb4a3c8d869106f2b417a2\");\n",
       "    }\n",
       "    const paths = {\n",
       "      \"vega\": \"https://cdn.jsdelivr.net/npm/vega@5?noext\",\n",
       "      \"vega-lib\": \"https://cdn.jsdelivr.net/npm/vega-lib?noext\",\n",
       "      \"vega-lite\": \"https://cdn.jsdelivr.net/npm/vega-lite@5.15.1?noext\",\n",
       "      \"vega-embed\": \"https://cdn.jsdelivr.net/npm/vega-embed@6?noext\",\n",
       "    };\n",
       "\n",
       "    function maybeLoadScript(lib, version) {\n",
       "      var key = `${lib.replace(\"-\", \"\")}_version`;\n",
       "      return (VEGA_DEBUG[key] == version) ?\n",
       "        Promise.resolve(paths[lib]) :\n",
       "        new Promise(function(resolve, reject) {\n",
       "          var s = document.createElement('script');\n",
       "          document.getElementsByTagName(\"head\")[0].appendChild(s);\n",
       "          s.async = true;\n",
       "          s.onload = () => {\n",
       "            VEGA_DEBUG[key] = version;\n",
       "            return resolve(paths[lib]);\n",
       "          };\n",
       "          s.onerror = () => reject(`Error loading script: ${paths[lib]}`);\n",
       "          s.src = paths[lib];\n",
       "        });\n",
       "    }\n",
       "\n",
       "    function showError(err) {\n",
       "      outputDiv.innerHTML = `<div class=\"error\" style=\"color:red;\">${err}</div>`;\n",
       "      throw err;\n",
       "    }\n",
       "\n",
       "    function displayChart(vegaEmbed) {\n",
       "      vegaEmbed(outputDiv, spec, embedOpt)\n",
       "        .catch(err => showError(`Javascript Error: ${err.message}<br>This usually means there's a typo in your chart specification. See the javascript console for the full traceback.`));\n",
       "    }\n",
       "\n",
       "    if(typeof define === \"function\" && define.amd) {\n",
       "      requirejs.config({paths});\n",
       "      require([\"vega-embed\"], displayChart, err => showError(`Error loading script: ${err.message}`));\n",
       "    } else {\n",
       "      maybeLoadScript(\"vega\", \"5\")\n",
       "        .then(() => maybeLoadScript(\"vega-lite\", \"5.15.1\"))\n",
       "        .then(() => maybeLoadScript(\"vega-embed\", \"6\"))\n",
       "        .catch(showError)\n",
       "        .then(() => displayChart(vegaEmbed));\n",
       "    }\n",
       "  })({\"config\": {\"view\": {\"continuousWidth\": 300, \"continuousHeight\": 300}}, \"hconcat\": [{\"data\": {\"name\": \"data-9c8a8eb37deec52124a8335e049aeaf4\"}, \"mark\": {\"type\": \"bar\"}, \"encoding\": {\"color\": {\"field\": \"operation\", \"scale\": {\"domain\": [\"Teardown\", \"Deny\", \"Built\"], \"range\": [\"#FF0000\", \"#FFFF00\", \"#0000FF\"]}, \"type\": \"nominal\"}, \"tooltip\": [{\"field\": \"Date/time\", \"type\": \"ordinal\"}, {\"field\": \"operation\", \"type\": \"nominal\"}, {\"field\": \"Value\", \"type\": \"quantitative\"}], \"x\": {\"axis\": {\"labelAngle\": -45}, \"field\": \"Date/time\", \"type\": \"ordinal\"}, \"y\": {\"field\": \"Value\", \"type\": \"quantitative\"}}, \"height\": 400, \"title\": \"Day 1 Normal Activity Operations\", \"width\": 300}, {\"data\": {\"name\": \"data-550cffd19ad7f97e6be632f27693c869\"}, \"mark\": {\"type\": \"bar\"}, \"encoding\": {\"color\": {\"field\": \"operation\", \"scale\": {\"domain\": [\"Teardown\", \"Deny\", \"Built\"], \"range\": [\"#FF0000\", \"#FFFF00\", \"#0000FF\"]}, \"type\": \"nominal\"}, \"tooltip\": [{\"field\": \"Date/time\", \"type\": \"ordinal\"}, {\"field\": \"operation\", \"type\": \"nominal\"}, {\"field\": \"Value\", \"type\": \"quantitative\"}], \"x\": {\"axis\": {\"labelAngle\": -45}, \"field\": \"Date/time\", \"type\": \"ordinal\"}, \"y\": {\"field\": \"Value\", \"type\": \"quantitative\"}}, \"height\": 400, \"title\": \"Day 2 Compromised Activity Operations\", \"width\": 300}], \"$schema\": \"https://vega.github.io/schema/vega-lite/v5.15.1.json\", \"datasets\": {\"data-9c8a8eb37deec52124a8335e049aeaf4\": [{\"Date/time\": \"04/05 17\", \"operation\": \"Built\", \"Value\": 12}, {\"Date/time\": \"04/05 18\", \"operation\": \"Built\", \"Value\": 169034}, {\"Date/time\": \"04/05 19\", \"operation\": \"Built\", \"Value\": 295039}, {\"Date/time\": \"04/05 20\", \"operation\": \"Built\", \"Value\": 127952}, {\"Date/time\": \"04/05 17\", \"operation\": \"Command executed\", \"Value\": 0}, {\"Date/time\": \"04/05 18\", \"operation\": \"Command executed\", \"Value\": 1}, {\"Date/time\": \"04/05 19\", \"operation\": \"Command executed\", \"Value\": 0}, {\"Date/time\": \"04/05 20\", \"operation\": \"Command executed\", \"Value\": 0}, {\"Date/time\": \"04/05 17\", \"operation\": \"Deny\", \"Value\": 0}, {\"Date/time\": \"04/05 18\", \"operation\": \"Deny\", \"Value\": 5543}, {\"Date/time\": \"04/05 19\", \"operation\": \"Deny\", \"Value\": 10542}, {\"Date/time\": \"04/05 20\", \"operation\": \"Deny\", \"Value\": 4801}, {\"Date/time\": \"04/05 17\", \"operation\": \"Teardown\", \"Value\": 12}, {\"Date/time\": \"04/05 18\", \"operation\": \"Teardown\", \"Value\": 169000}, {\"Date/time\": \"04/05 19\", \"operation\": \"Teardown\", \"Value\": 295059}, {\"Date/time\": \"04/05 20\", \"operation\": \"Teardown\", \"Value\": 127947}], \"data-550cffd19ad7f97e6be632f27693c869\": [{\"Date/time\": \"04/06 17\", \"operation\": \"Built\", \"Value\": 882}, {\"Date/time\": \"04/06 18\", \"operation\": \"Built\", \"Value\": 283486}, {\"Date/time\": \"04/06 19\", \"operation\": \"Built\", \"Value\": 342152}, {\"Date/time\": \"04/06 20\", \"operation\": \"Built\", \"Value\": 344771}, {\"Date/time\": \"04/06 21\", \"operation\": \"Built\", \"Value\": 333371}, {\"Date/time\": \"04/06 22\", \"operation\": \"Built\", \"Value\": 368198}, {\"Date/time\": \"04/06 23\", \"operation\": \"Built\", \"Value\": 343138}, {\"Date/time\": \"04/07 00\", \"operation\": \"Built\", \"Value\": 324425}, {\"Date/time\": \"04/07 01\", \"operation\": \"Built\", \"Value\": 335055}, {\"Date/time\": \"04/07 02\", \"operation\": \"Built\", \"Value\": 331073}, {\"Date/time\": \"04/07 03\", \"operation\": \"Built\", \"Value\": 326695}, {\"Date/time\": \"04/07 04\", \"operation\": \"Built\", \"Value\": 310097}, {\"Date/time\": \"04/07 05\", \"operation\": \"Built\", \"Value\": 329404}, {\"Date/time\": \"04/07 06\", \"operation\": \"Built\", \"Value\": 409616}, {\"Date/time\": \"04/07 07\", \"operation\": \"Built\", \"Value\": 375599}, {\"Date/time\": \"04/07 08\", \"operation\": \"Built\", \"Value\": 316973}, {\"Date/time\": \"04/07 09\", \"operation\": \"Built\", \"Value\": 71}, {\"Date/time\": \"04/06 17\", \"operation\": \"Deny\", \"Value\": 268}, {\"Date/time\": \"04/06 18\", \"operation\": \"Deny\", \"Value\": 22547}, {\"Date/time\": \"04/06 19\", \"operation\": \"Deny\", \"Value\": 26728}, {\"Date/time\": \"04/06 20\", \"operation\": \"Deny\", \"Value\": 24007}, {\"Date/time\": \"04/06 21\", \"operation\": \"Deny\", \"Value\": 21973}, {\"Date/time\": \"04/06 22\", \"operation\": \"Deny\", \"Value\": 28021}, {\"Date/time\": \"04/06 23\", \"operation\": \"Deny\", \"Value\": 24540}, {\"Date/time\": \"04/07 00\", \"operation\": \"Deny\", \"Value\": 19960}, {\"Date/time\": \"04/07 01\", \"operation\": \"Deny\", \"Value\": 21550}, {\"Date/time\": \"04/07 02\", \"operation\": \"Deny\", \"Value\": 22257}, {\"Date/time\": \"04/07 03\", \"operation\": \"Deny\", \"Value\": 22083}, {\"Date/time\": \"04/07 04\", \"operation\": \"Deny\", \"Value\": 21719}, {\"Date/time\": \"04/07 05\", \"operation\": \"Deny\", \"Value\": 22562}, {\"Date/time\": \"04/07 06\", \"operation\": \"Deny\", \"Value\": 28753}, {\"Date/time\": \"04/07 07\", \"operation\": \"Deny\", \"Value\": 25393}, {\"Date/time\": \"04/07 08\", \"operation\": \"Deny\", \"Value\": 20146}, {\"Date/time\": \"04/07 09\", \"operation\": \"Deny\", \"Value\": 26}, {\"Date/time\": \"04/06 17\", \"operation\": \"Teardown\", \"Value\": 885}, {\"Date/time\": \"04/06 18\", \"operation\": \"Teardown\", \"Value\": 283271}, {\"Date/time\": \"04/06 19\", \"operation\": \"Teardown\", \"Value\": 342107}, {\"Date/time\": \"04/06 20\", \"operation\": \"Teardown\", \"Value\": 344709}, {\"Date/time\": \"04/06 21\", \"operation\": \"Teardown\", \"Value\": 333218}, {\"Date/time\": \"04/06 22\", \"operation\": \"Teardown\", \"Value\": 368161}, {\"Date/time\": \"04/06 23\", \"operation\": \"Teardown\", \"Value\": 343090}, {\"Date/time\": \"04/07 00\", \"operation\": \"Teardown\", \"Value\": 324383}, {\"Date/time\": \"04/07 01\", \"operation\": \"Teardown\", \"Value\": 334969}, {\"Date/time\": \"04/07 02\", \"operation\": \"Teardown\", \"Value\": 331017}, {\"Date/time\": \"04/07 03\", \"operation\": \"Teardown\", \"Value\": 326678}, {\"Date/time\": \"04/07 04\", \"operation\": \"Teardown\", \"Value\": 309981}, {\"Date/time\": \"04/07 05\", \"operation\": \"Teardown\", \"Value\": 329282}, {\"Date/time\": \"04/07 06\", \"operation\": \"Teardown\", \"Value\": 409497}, {\"Date/time\": \"04/07 07\", \"operation\": \"Teardown\", \"Value\": 375646}, {\"Date/time\": \"04/07 08\", \"operation\": \"Teardown\", \"Value\": 316896}, {\"Date/time\": \"04/07 09\", \"operation\": \"Teardown\", \"Value\": 101}]}}, {\"mode\": \"vega-lite\"});\n",
       "</script>"
      ],
      "text/plain": [
       "alt.HConcatChart(...)"
      ]
     },
     "execution_count": 9,
     "metadata": {},
     "output_type": "execute_result"
    }
   ],
   "source": [
    "color_scale = alt.Scale(domain = ('Teardown', 'Deny', 'Built'), range = ['#FF0000', '#FFFF00', '#0000FF'])\n",
    "\n",
    "chart1 = alt.Chart(melted_06_normal_operation).mark_bar().encode(\n",
    "    x=alt.X('Date/time:O', axis=alt.Axis(labelAngle=-45)),\n",
    "    y='Value:Q',\n",
    "    color=alt.Color('operation:N', scale = color_scale),\n",
    "    tooltip=['Date/time:O', 'operation:N', 'Value:Q']\n",
    ").properties(\n",
    "    width=300,\n",
    "    height=400,\n",
    "    title='Day 1 Normal Activity Operations'\n",
    ")\n",
    "\n",
    "chart2 = alt.Chart(melted_07_operation).mark_bar().encode(\n",
    "    x=alt.X('Date/time:O', axis=alt.Axis(labelAngle=-45)),\n",
    "    y='Value:Q',\n",
    "    color=alt.Color('operation:N', scale = color_scale),\n",
    "    tooltip=['Date/time:O', 'operation:N', 'Value:Q']\n",
    ").properties(\n",
    "    width=300,\n",
    "    height=400,\n",
    "    title='Day 2 Compromised Activity Operations'\n",
    ")\n",
    "\n",
    "chart1 | chart2"
   ]
  },
  {
   "cell_type": "markdown",
   "metadata": {},
   "source": [
    "# Argument 2"
   ]
  },
  {
   "cell_type": "code",
   "execution_count": 10,
   "metadata": {},
   "outputs": [],
   "source": [
    "firewall_06 = pd.read_csv('/Users/stevenyoo/Desktop/CS329E - Data Visualization/Project/Data/Firewall-04062012.csv')\n",
    "firewall_07 = pd.read_csv('/Users/stevenyoo/Desktop/CS329E - Data Visualization/Project/Data/Firewall-04072012.csv')\n",
    "\n",
    "# convert Date/time to datetime structure\n",
    "firewall_06['Date/time'] = pd.to_datetime(firewall_06['Date/time'])\n",
    "firewall_06['Date/time'] = firewall_06['Date/time'].dt.strftime('%m/%d/%Y %H:%M:%S')\n",
    "\n",
    "firewall_07['Date/time'] = pd.to_datetime(firewall_07['Date/time'])\n",
    "firewall_07['Date/time'] = firewall_07['Date/time'].dt.strftime('%m/%d/%Y %H:%M:%S')"
   ]
  },
  {
   "cell_type": "code",
   "execution_count": 11,
   "metadata": {},
   "outputs": [],
   "source": [
    "# convert date/time to hourly\n",
    "firewall_06_hourly = firewall_06\n",
    "firewall_06_hourly['Date/time'] = pd.to_datetime(firewall_06['Date/time'])\n",
    "firewall_06_hourly['Date/time'] = firewall_06['Date/time'].dt.strftime('%m/%d %H')\n",
    "\n",
    "firewall_07_hourly = firewall_07\n",
    "firewall_07_hourly['Date/time'] = pd.to_datetime(firewall_07['Date/time'])\n",
    "firewall_07_hourly['Date/time'] = firewall_07['Date/time'].dt.strftime('%m/%d %H')"
   ]
  },
  {
   "cell_type": "code",
   "execution_count": 12,
   "metadata": {},
   "outputs": [],
   "source": [
    "# create pivot table\n",
    "pivoted_data_06_port = firewall_06_hourly.pivot_table(index='Date/time', \n",
    "                                                      columns='Destination port', \n",
    "                                                      aggfunc='count', \n",
    "                                                      fill_value=0).reset_index()\n",
    "\n",
    "pivoted_data_07_port = firewall_07_hourly.pivot_table(index='Date/time', \n",
    "                                                      columns='Destination port', \n",
    "                                                      aggfunc='count', \n",
    "                                                      fill_value=0).reset_index()"
   ]
  },
  {
   "cell_type": "code",
   "execution_count": 13,
   "metadata": {},
   "outputs": [],
   "source": [
    "data = firewall_06_hourly[firewall_06_hourly['Destination port'] == '21']\n",
    "data = data[['Date/time', 'Destination port']]\n",
    "grouped_data_06 = data.groupby('Date/time').size().reset_index(name='Port_21')\n",
    "\n",
    "data = firewall_07_hourly[firewall_07_hourly['Destination port'] == '21']\n",
    "data = data[['Date/time', 'Destination port']]\n",
    "grouped_data_07 = data.groupby('Date/time').size().reset_index(name='Port_21')\n",
    "\n",
    "pivoted_data_06_port = pd.merge(pivoted_data_06_port, grouped_data_06, on='Date/time', how='left')\n",
    "pivoted_data_07_port = pd.merge(pivoted_data_07_port, grouped_data_07, on='Date/time', how='left')\n",
    "\n",
    "# replace NaN with 0\n",
    "pivoted_data_06_port['Port_21'].fillna(0, inplace=True)\n",
    "pivoted_data_07_port['Port_21'].fillna(0, inplace=True)"
   ]
  },
  {
   "cell_type": "code",
   "execution_count": 14,
   "metadata": {},
   "outputs": [
    {
     "data": {
      "text/html": [
       "\n",
       "<style>\n",
       "  #altair-viz-02b4cf8b346b41c8a7cf938c25979101.vega-embed {\n",
       "    width: 100%;\n",
       "    display: flex;\n",
       "  }\n",
       "\n",
       "  #altair-viz-02b4cf8b346b41c8a7cf938c25979101.vega-embed details,\n",
       "  #altair-viz-02b4cf8b346b41c8a7cf938c25979101.vega-embed details summary {\n",
       "    position: relative;\n",
       "  }\n",
       "</style>\n",
       "<div id=\"altair-viz-02b4cf8b346b41c8a7cf938c25979101\"></div>\n",
       "<script type=\"text/javascript\">\n",
       "  var VEGA_DEBUG = (typeof VEGA_DEBUG == \"undefined\") ? {} : VEGA_DEBUG;\n",
       "  (function(spec, embedOpt){\n",
       "    let outputDiv = document.currentScript.previousElementSibling;\n",
       "    if (outputDiv.id !== \"altair-viz-02b4cf8b346b41c8a7cf938c25979101\") {\n",
       "      outputDiv = document.getElementById(\"altair-viz-02b4cf8b346b41c8a7cf938c25979101\");\n",
       "    }\n",
       "    const paths = {\n",
       "      \"vega\": \"https://cdn.jsdelivr.net/npm/vega@5?noext\",\n",
       "      \"vega-lib\": \"https://cdn.jsdelivr.net/npm/vega-lib?noext\",\n",
       "      \"vega-lite\": \"https://cdn.jsdelivr.net/npm/vega-lite@5.15.1?noext\",\n",
       "      \"vega-embed\": \"https://cdn.jsdelivr.net/npm/vega-embed@6?noext\",\n",
       "    };\n",
       "\n",
       "    function maybeLoadScript(lib, version) {\n",
       "      var key = `${lib.replace(\"-\", \"\")}_version`;\n",
       "      return (VEGA_DEBUG[key] == version) ?\n",
       "        Promise.resolve(paths[lib]) :\n",
       "        new Promise(function(resolve, reject) {\n",
       "          var s = document.createElement('script');\n",
       "          document.getElementsByTagName(\"head\")[0].appendChild(s);\n",
       "          s.async = true;\n",
       "          s.onload = () => {\n",
       "            VEGA_DEBUG[key] = version;\n",
       "            return resolve(paths[lib]);\n",
       "          };\n",
       "          s.onerror = () => reject(`Error loading script: ${paths[lib]}`);\n",
       "          s.src = paths[lib];\n",
       "        });\n",
       "    }\n",
       "\n",
       "    function showError(err) {\n",
       "      outputDiv.innerHTML = `<div class=\"error\" style=\"color:red;\">${err}</div>`;\n",
       "      throw err;\n",
       "    }\n",
       "\n",
       "    function displayChart(vegaEmbed) {\n",
       "      vegaEmbed(outputDiv, spec, embedOpt)\n",
       "        .catch(err => showError(`Javascript Error: ${err.message}<br>This usually means there's a typo in your chart specification. See the javascript console for the full traceback.`));\n",
       "    }\n",
       "\n",
       "    if(typeof define === \"function\" && define.amd) {\n",
       "      requirejs.config({paths});\n",
       "      require([\"vega-embed\"], displayChart, err => showError(`Error loading script: ${err.message}`));\n",
       "    } else {\n",
       "      maybeLoadScript(\"vega\", \"5\")\n",
       "        .then(() => maybeLoadScript(\"vega-lite\", \"5.15.1\"))\n",
       "        .then(() => maybeLoadScript(\"vega-embed\", \"6\"))\n",
       "        .catch(showError)\n",
       "        .then(() => displayChart(vegaEmbed));\n",
       "    }\n",
       "  })({\"config\": {\"view\": {\"continuousWidth\": 300, \"continuousHeight\": 300}}, \"hconcat\": [{\"data\": {\"name\": \"data-456a3e60f983b5381e8d79abc14a2fa4\"}, \"mark\": {\"type\": \"bar\"}, \"encoding\": {\"tooltip\": [{\"field\": \"Date/time\", \"type\": \"nominal\"}, {\"field\": \"Values\", \"type\": \"quantitative\"}], \"x\": {\"axis\": {\"labelAngle\": -45}, \"field\": \"Date/time\", \"type\": \"nominal\"}, \"y\": {\"field\": \"Values\", \"type\": \"quantitative\"}}, \"height\": 400, \"title\": \"Day 1 Number of Port 21 (FTP) Instances\", \"width\": 300}, {\"data\": {\"name\": \"data-dfb6abe8c922026990e29e4de453b472\"}, \"mark\": {\"type\": \"bar\"}, \"encoding\": {\"tooltip\": [{\"field\": \"Date/time\", \"type\": \"nominal\"}, {\"field\": \"Values\", \"type\": \"quantitative\"}], \"x\": {\"axis\": {\"labelAngle\": -45}, \"field\": \"Date/time\", \"type\": \"nominal\"}, \"y\": {\"field\": \"Values\", \"type\": \"quantitative\"}}, \"height\": 400, \"title\": \"Day 2 Number of port 21 (FTP) instances\", \"width\": 300}], \"$schema\": \"https://vega.github.io/schema/vega-lite/v5.15.1.json\", \"datasets\": {\"data-456a3e60f983b5381e8d79abc14a2fa4\": [{\"Date/time\": \"04/05 17\", \"Values\": 0.0}, {\"Date/time\": \"04/05 18\", \"Values\": 0.0}, {\"Date/time\": \"04/05 19\", \"Values\": 0.0}, {\"Date/time\": \"04/05 20\", \"Values\": 462.0}, {\"Date/time\": \"04/05 21\", \"Values\": 231.0}, {\"Date/time\": \"04/05 22\", \"Values\": 9.0}, {\"Date/time\": \"04/05 23\", \"Values\": 45.0}, {\"Date/time\": \"04/06 00\", \"Values\": 0.0}, {\"Date/time\": \"04/06 01\", \"Values\": 0.0}, {\"Date/time\": \"04/06 02\", \"Values\": 0.0}, {\"Date/time\": \"04/06 03\", \"Values\": 0.0}, {\"Date/time\": \"04/06 04\", \"Values\": 0.0}, {\"Date/time\": \"04/06 05\", \"Values\": 0.0}, {\"Date/time\": \"04/06 06\", \"Values\": 0.0}, {\"Date/time\": \"04/06 07\", \"Values\": 0.0}, {\"Date/time\": \"04/06 08\", \"Values\": 0.0}, {\"Date/time\": \"04/06 09\", \"Values\": 0.0}, {\"Date/time\": \"04/06 10\", \"Values\": 0.0}, {\"Date/time\": \"04/06 11\", \"Values\": 0.0}, {\"Date/time\": \"04/06 12\", \"Values\": 0.0}, {\"Date/time\": \"04/06 13\", \"Values\": 0.0}, {\"Date/time\": \"04/06 14\", \"Values\": 0.0}, {\"Date/time\": \"04/06 15\", \"Values\": 0.0}, {\"Date/time\": \"04/06 16\", \"Values\": 0.0}, {\"Date/time\": \"04/06 17\", \"Values\": 0.0}], \"data-dfb6abe8c922026990e29e4de453b472\": [{\"Date/time\": \"04/06 17\", \"Values\": 0.0}, {\"Date/time\": \"04/06 18\", \"Values\": 907.0}, {\"Date/time\": \"04/06 19\", \"Values\": 0.0}, {\"Date/time\": \"04/06 20\", \"Values\": 0.0}, {\"Date/time\": \"04/06 21\", \"Values\": 0.0}, {\"Date/time\": \"04/06 22\", \"Values\": 0.0}, {\"Date/time\": \"04/06 23\", \"Values\": 0.0}, {\"Date/time\": \"04/07 00\", \"Values\": 0.0}, {\"Date/time\": \"04/07 01\", \"Values\": 0.0}, {\"Date/time\": \"04/07 02\", \"Values\": 0.0}, {\"Date/time\": \"04/07 03\", \"Values\": 0.0}, {\"Date/time\": \"04/07 04\", \"Values\": 0.0}, {\"Date/time\": \"04/07 05\", \"Values\": 0.0}, {\"Date/time\": \"04/07 06\", \"Values\": 0.0}, {\"Date/time\": \"04/07 07\", \"Values\": 0.0}, {\"Date/time\": \"04/07 08\", \"Values\": 0.0}, {\"Date/time\": \"04/07 09\", \"Values\": 0.0}]}}, {\"mode\": \"vega-lite\"});\n",
       "</script>"
      ],
      "text/plain": [
       "alt.HConcatChart(...)"
      ]
     },
     "execution_count": 14,
     "metadata": {},
     "output_type": "execute_result"
    }
   ],
   "source": [
    "data1 = pd.DataFrame({\n",
    "    'Date/time': pivoted_data_06_port['Date/time'],\n",
    "    'Values': pivoted_data_06_port['Port_21']\n",
    "})\n",
    "\n",
    "data2 = pd.DataFrame({\n",
    "    'Date/time': pivoted_data_07_port['Date/time'],\n",
    "    'Values': pivoted_data_07_port['Port_21']\n",
    "})\n",
    "\n",
    "# Create the Altair chart\n",
    "chart1 = alt.Chart(data1).mark_bar().encode(\n",
    "    x=alt.X('Date/time:N', axis=alt.Axis(labelAngle=-45)),\n",
    "    y='Values:Q',\n",
    "    tooltip=['Date/time:N', 'Values:Q']\n",
    ").properties(\n",
    "    width=300,\n",
    "    height=400,\n",
    "    title='Day 1 Number of Port 21 (FTP) Instances'\n",
    ")\n",
    "\n",
    "# 2nd dataset\n",
    "chart2 = alt.Chart(data2).mark_bar().encode(\n",
    "    x=alt.X('Date/time:N', axis = alt.Axis(labelAngle=-45)),\n",
    "    y='Values:Q',\n",
    "    tooltip=['Date/time:N', 'Values:Q']\n",
    ").properties(\n",
    "    width=300,\n",
    "    height=400,\n",
    "    title='Day 2 Number of port 21 (FTP) instances'\n",
    ")\n",
    "\n",
    "chart1 | chart2"
   ]
  },
  {
   "cell_type": "markdown",
   "metadata": {},
   "source": [
    "# Argument 3"
   ]
  },
  {
   "cell_type": "code",
   "execution_count": 15,
   "metadata": {},
   "outputs": [],
   "source": [
    "# create dataframe only where destination port is 22\n",
    "data = firewall_06_hourly[firewall_06_hourly['Destination port'] == '22']\n",
    "# only keep relavent columns\n",
    "data = data[['Date/time', 'Destination port']]\n",
    "# group by day/hour and find count\n",
    "grouped_data_06 = data.groupby('Date/time').size().reset_index(name='Port_22')\n",
    "\n",
    "# repeat for second dataframe\n",
    "data = firewall_07_hourly[firewall_07_hourly['Destination port'] == '22']\n",
    "data = data[['Date/time', 'Destination port']]\n",
    "grouped_data_07 = data.groupby('Date/time').size().reset_index(name='Port_22')\n",
    "\n",
    "# merge this to pivot table to add the counts (instances) where date/time match\n",
    "pivoted_data_06_port = pd.merge(pivoted_data_06_port, grouped_data_06, on='Date/time', how='left')\n",
    "pivoted_data_07_port = pd.merge(pivoted_data_07_port, grouped_data_07, on='Date/time', how='left')\n",
    "\n",
    "# replace NaN with 0\n",
    "pivoted_data_06_port['Port_22'].fillna(0, inplace=True)\n",
    "pivoted_data_07_port['Port_22'].fillna(0, inplace=True)"
   ]
  },
  {
   "cell_type": "code",
   "execution_count": 16,
   "metadata": {},
   "outputs": [
    {
     "data": {
      "application/vnd.plotly.v1+json": {
       "config": {
        "plotlyServerURL": "https://plot.ly"
       },
       "data": [
        {
         "marker": {
          "color": "skyblue"
         },
         "name": "Bar Plot",
         "type": "bar",
         "x": [
          "04/05 17",
          "04/05 18",
          "04/05 19",
          "04/05 20",
          "04/05 21",
          "04/05 22",
          "04/05 23",
          "04/06 00",
          "04/06 01",
          "04/06 02",
          "04/06 03",
          "04/06 04",
          "04/06 05",
          "04/06 06",
          "04/06 07",
          "04/06 08",
          "04/06 09",
          "04/06 10",
          "04/06 11",
          "04/06 12",
          "04/06 13",
          "04/06 14",
          "04/06 15",
          "04/06 16",
          "04/06 17"
         ],
         "y": [
          0,
          0,
          0,
          190,
          157,
          60,
          95,
          20,
          2,
          0,
          0,
          0,
          0,
          0,
          0,
          0,
          0,
          0,
          0,
          0,
          0,
          0,
          0,
          0,
          0
         ]
        },
        {
         "line": {
          "color": "orange"
         },
         "mode": "lines+markers",
         "name": "Line Plot",
         "type": "scatter",
         "x": [
          "04/05 17",
          "04/05 18",
          "04/05 19",
          "04/05 20",
          "04/05 21",
          "04/05 22",
          "04/05 23",
          "04/06 00",
          "04/06 01",
          "04/06 02",
          "04/06 03",
          "04/06 04",
          "04/06 05",
          "04/06 06",
          "04/06 07",
          "04/06 08",
          "04/06 09",
          "04/06 10",
          "04/06 11",
          "04/06 12",
          "04/06 13",
          "04/06 14",
          "04/06 15",
          "04/06 16",
          "04/06 17"
         ],
         "y": [
          0,
          0,
          0,
          190,
          157,
          60,
          95,
          20,
          2,
          0,
          0,
          0,
          0,
          0,
          0,
          0,
          0,
          0,
          0,
          0,
          0,
          0,
          0,
          0,
          0
         ]
        }
       ],
       "layout": {
        "template": {
         "data": {
          "bar": [
           {
            "error_x": {
             "color": "#2a3f5f"
            },
            "error_y": {
             "color": "#2a3f5f"
            },
            "marker": {
             "line": {
              "color": "#E5ECF6",
              "width": 0.5
             },
             "pattern": {
              "fillmode": "overlay",
              "size": 10,
              "solidity": 0.2
             }
            },
            "type": "bar"
           }
          ],
          "barpolar": [
           {
            "marker": {
             "line": {
              "color": "#E5ECF6",
              "width": 0.5
             },
             "pattern": {
              "fillmode": "overlay",
              "size": 10,
              "solidity": 0.2
             }
            },
            "type": "barpolar"
           }
          ],
          "carpet": [
           {
            "aaxis": {
             "endlinecolor": "#2a3f5f",
             "gridcolor": "white",
             "linecolor": "white",
             "minorgridcolor": "white",
             "startlinecolor": "#2a3f5f"
            },
            "baxis": {
             "endlinecolor": "#2a3f5f",
             "gridcolor": "white",
             "linecolor": "white",
             "minorgridcolor": "white",
             "startlinecolor": "#2a3f5f"
            },
            "type": "carpet"
           }
          ],
          "choropleth": [
           {
            "colorbar": {
             "outlinewidth": 0,
             "ticks": ""
            },
            "type": "choropleth"
           }
          ],
          "contour": [
           {
            "colorbar": {
             "outlinewidth": 0,
             "ticks": ""
            },
            "colorscale": [
             [
              0,
              "#0d0887"
             ],
             [
              0.1111111111111111,
              "#46039f"
             ],
             [
              0.2222222222222222,
              "#7201a8"
             ],
             [
              0.3333333333333333,
              "#9c179e"
             ],
             [
              0.4444444444444444,
              "#bd3786"
             ],
             [
              0.5555555555555556,
              "#d8576b"
             ],
             [
              0.6666666666666666,
              "#ed7953"
             ],
             [
              0.7777777777777778,
              "#fb9f3a"
             ],
             [
              0.8888888888888888,
              "#fdca26"
             ],
             [
              1,
              "#f0f921"
             ]
            ],
            "type": "contour"
           }
          ],
          "contourcarpet": [
           {
            "colorbar": {
             "outlinewidth": 0,
             "ticks": ""
            },
            "type": "contourcarpet"
           }
          ],
          "heatmap": [
           {
            "colorbar": {
             "outlinewidth": 0,
             "ticks": ""
            },
            "colorscale": [
             [
              0,
              "#0d0887"
             ],
             [
              0.1111111111111111,
              "#46039f"
             ],
             [
              0.2222222222222222,
              "#7201a8"
             ],
             [
              0.3333333333333333,
              "#9c179e"
             ],
             [
              0.4444444444444444,
              "#bd3786"
             ],
             [
              0.5555555555555556,
              "#d8576b"
             ],
             [
              0.6666666666666666,
              "#ed7953"
             ],
             [
              0.7777777777777778,
              "#fb9f3a"
             ],
             [
              0.8888888888888888,
              "#fdca26"
             ],
             [
              1,
              "#f0f921"
             ]
            ],
            "type": "heatmap"
           }
          ],
          "heatmapgl": [
           {
            "colorbar": {
             "outlinewidth": 0,
             "ticks": ""
            },
            "colorscale": [
             [
              0,
              "#0d0887"
             ],
             [
              0.1111111111111111,
              "#46039f"
             ],
             [
              0.2222222222222222,
              "#7201a8"
             ],
             [
              0.3333333333333333,
              "#9c179e"
             ],
             [
              0.4444444444444444,
              "#bd3786"
             ],
             [
              0.5555555555555556,
              "#d8576b"
             ],
             [
              0.6666666666666666,
              "#ed7953"
             ],
             [
              0.7777777777777778,
              "#fb9f3a"
             ],
             [
              0.8888888888888888,
              "#fdca26"
             ],
             [
              1,
              "#f0f921"
             ]
            ],
            "type": "heatmapgl"
           }
          ],
          "histogram": [
           {
            "marker": {
             "pattern": {
              "fillmode": "overlay",
              "size": 10,
              "solidity": 0.2
             }
            },
            "type": "histogram"
           }
          ],
          "histogram2d": [
           {
            "colorbar": {
             "outlinewidth": 0,
             "ticks": ""
            },
            "colorscale": [
             [
              0,
              "#0d0887"
             ],
             [
              0.1111111111111111,
              "#46039f"
             ],
             [
              0.2222222222222222,
              "#7201a8"
             ],
             [
              0.3333333333333333,
              "#9c179e"
             ],
             [
              0.4444444444444444,
              "#bd3786"
             ],
             [
              0.5555555555555556,
              "#d8576b"
             ],
             [
              0.6666666666666666,
              "#ed7953"
             ],
             [
              0.7777777777777778,
              "#fb9f3a"
             ],
             [
              0.8888888888888888,
              "#fdca26"
             ],
             [
              1,
              "#f0f921"
             ]
            ],
            "type": "histogram2d"
           }
          ],
          "histogram2dcontour": [
           {
            "colorbar": {
             "outlinewidth": 0,
             "ticks": ""
            },
            "colorscale": [
             [
              0,
              "#0d0887"
             ],
             [
              0.1111111111111111,
              "#46039f"
             ],
             [
              0.2222222222222222,
              "#7201a8"
             ],
             [
              0.3333333333333333,
              "#9c179e"
             ],
             [
              0.4444444444444444,
              "#bd3786"
             ],
             [
              0.5555555555555556,
              "#d8576b"
             ],
             [
              0.6666666666666666,
              "#ed7953"
             ],
             [
              0.7777777777777778,
              "#fb9f3a"
             ],
             [
              0.8888888888888888,
              "#fdca26"
             ],
             [
              1,
              "#f0f921"
             ]
            ],
            "type": "histogram2dcontour"
           }
          ],
          "mesh3d": [
           {
            "colorbar": {
             "outlinewidth": 0,
             "ticks": ""
            },
            "type": "mesh3d"
           }
          ],
          "parcoords": [
           {
            "line": {
             "colorbar": {
              "outlinewidth": 0,
              "ticks": ""
             }
            },
            "type": "parcoords"
           }
          ],
          "pie": [
           {
            "automargin": true,
            "type": "pie"
           }
          ],
          "scatter": [
           {
            "fillpattern": {
             "fillmode": "overlay",
             "size": 10,
             "solidity": 0.2
            },
            "type": "scatter"
           }
          ],
          "scatter3d": [
           {
            "line": {
             "colorbar": {
              "outlinewidth": 0,
              "ticks": ""
             }
            },
            "marker": {
             "colorbar": {
              "outlinewidth": 0,
              "ticks": ""
             }
            },
            "type": "scatter3d"
           }
          ],
          "scattercarpet": [
           {
            "marker": {
             "colorbar": {
              "outlinewidth": 0,
              "ticks": ""
             }
            },
            "type": "scattercarpet"
           }
          ],
          "scattergeo": [
           {
            "marker": {
             "colorbar": {
              "outlinewidth": 0,
              "ticks": ""
             }
            },
            "type": "scattergeo"
           }
          ],
          "scattergl": [
           {
            "marker": {
             "colorbar": {
              "outlinewidth": 0,
              "ticks": ""
             }
            },
            "type": "scattergl"
           }
          ],
          "scattermapbox": [
           {
            "marker": {
             "colorbar": {
              "outlinewidth": 0,
              "ticks": ""
             }
            },
            "type": "scattermapbox"
           }
          ],
          "scatterpolar": [
           {
            "marker": {
             "colorbar": {
              "outlinewidth": 0,
              "ticks": ""
             }
            },
            "type": "scatterpolar"
           }
          ],
          "scatterpolargl": [
           {
            "marker": {
             "colorbar": {
              "outlinewidth": 0,
              "ticks": ""
             }
            },
            "type": "scatterpolargl"
           }
          ],
          "scatterternary": [
           {
            "marker": {
             "colorbar": {
              "outlinewidth": 0,
              "ticks": ""
             }
            },
            "type": "scatterternary"
           }
          ],
          "surface": [
           {
            "colorbar": {
             "outlinewidth": 0,
             "ticks": ""
            },
            "colorscale": [
             [
              0,
              "#0d0887"
             ],
             [
              0.1111111111111111,
              "#46039f"
             ],
             [
              0.2222222222222222,
              "#7201a8"
             ],
             [
              0.3333333333333333,
              "#9c179e"
             ],
             [
              0.4444444444444444,
              "#bd3786"
             ],
             [
              0.5555555555555556,
              "#d8576b"
             ],
             [
              0.6666666666666666,
              "#ed7953"
             ],
             [
              0.7777777777777778,
              "#fb9f3a"
             ],
             [
              0.8888888888888888,
              "#fdca26"
             ],
             [
              1,
              "#f0f921"
             ]
            ],
            "type": "surface"
           }
          ],
          "table": [
           {
            "cells": {
             "fill": {
              "color": "#EBF0F8"
             },
             "line": {
              "color": "white"
             }
            },
            "header": {
             "fill": {
              "color": "#C8D4E3"
             },
             "line": {
              "color": "white"
             }
            },
            "type": "table"
           }
          ]
         },
         "layout": {
          "annotationdefaults": {
           "arrowcolor": "#2a3f5f",
           "arrowhead": 0,
           "arrowwidth": 1
          },
          "autotypenumbers": "strict",
          "coloraxis": {
           "colorbar": {
            "outlinewidth": 0,
            "ticks": ""
           }
          },
          "colorscale": {
           "diverging": [
            [
             0,
             "#8e0152"
            ],
            [
             0.1,
             "#c51b7d"
            ],
            [
             0.2,
             "#de77ae"
            ],
            [
             0.3,
             "#f1b6da"
            ],
            [
             0.4,
             "#fde0ef"
            ],
            [
             0.5,
             "#f7f7f7"
            ],
            [
             0.6,
             "#e6f5d0"
            ],
            [
             0.7,
             "#b8e186"
            ],
            [
             0.8,
             "#7fbc41"
            ],
            [
             0.9,
             "#4d9221"
            ],
            [
             1,
             "#276419"
            ]
           ],
           "sequential": [
            [
             0,
             "#0d0887"
            ],
            [
             0.1111111111111111,
             "#46039f"
            ],
            [
             0.2222222222222222,
             "#7201a8"
            ],
            [
             0.3333333333333333,
             "#9c179e"
            ],
            [
             0.4444444444444444,
             "#bd3786"
            ],
            [
             0.5555555555555556,
             "#d8576b"
            ],
            [
             0.6666666666666666,
             "#ed7953"
            ],
            [
             0.7777777777777778,
             "#fb9f3a"
            ],
            [
             0.8888888888888888,
             "#fdca26"
            ],
            [
             1,
             "#f0f921"
            ]
           ],
           "sequentialminus": [
            [
             0,
             "#0d0887"
            ],
            [
             0.1111111111111111,
             "#46039f"
            ],
            [
             0.2222222222222222,
             "#7201a8"
            ],
            [
             0.3333333333333333,
             "#9c179e"
            ],
            [
             0.4444444444444444,
             "#bd3786"
            ],
            [
             0.5555555555555556,
             "#d8576b"
            ],
            [
             0.6666666666666666,
             "#ed7953"
            ],
            [
             0.7777777777777778,
             "#fb9f3a"
            ],
            [
             0.8888888888888888,
             "#fdca26"
            ],
            [
             1,
             "#f0f921"
            ]
           ]
          },
          "colorway": [
           "#636efa",
           "#EF553B",
           "#00cc96",
           "#ab63fa",
           "#FFA15A",
           "#19d3f3",
           "#FF6692",
           "#B6E880",
           "#FF97FF",
           "#FECB52"
          ],
          "font": {
           "color": "#2a3f5f"
          },
          "geo": {
           "bgcolor": "white",
           "lakecolor": "white",
           "landcolor": "#E5ECF6",
           "showlakes": true,
           "showland": true,
           "subunitcolor": "white"
          },
          "hoverlabel": {
           "align": "left"
          },
          "hovermode": "closest",
          "mapbox": {
           "style": "light"
          },
          "paper_bgcolor": "white",
          "plot_bgcolor": "#E5ECF6",
          "polar": {
           "angularaxis": {
            "gridcolor": "white",
            "linecolor": "white",
            "ticks": ""
           },
           "bgcolor": "#E5ECF6",
           "radialaxis": {
            "gridcolor": "white",
            "linecolor": "white",
            "ticks": ""
           }
          },
          "scene": {
           "xaxis": {
            "backgroundcolor": "#E5ECF6",
            "gridcolor": "white",
            "gridwidth": 2,
            "linecolor": "white",
            "showbackground": true,
            "ticks": "",
            "zerolinecolor": "white"
           },
           "yaxis": {
            "backgroundcolor": "#E5ECF6",
            "gridcolor": "white",
            "gridwidth": 2,
            "linecolor": "white",
            "showbackground": true,
            "ticks": "",
            "zerolinecolor": "white"
           },
           "zaxis": {
            "backgroundcolor": "#E5ECF6",
            "gridcolor": "white",
            "gridwidth": 2,
            "linecolor": "white",
            "showbackground": true,
            "ticks": "",
            "zerolinecolor": "white"
           }
          },
          "shapedefaults": {
           "line": {
            "color": "#2a3f5f"
           }
          },
          "ternary": {
           "aaxis": {
            "gridcolor": "white",
            "linecolor": "white",
            "ticks": ""
           },
           "baxis": {
            "gridcolor": "white",
            "linecolor": "white",
            "ticks": ""
           },
           "bgcolor": "#E5ECF6",
           "caxis": {
            "gridcolor": "white",
            "linecolor": "white",
            "ticks": ""
           }
          },
          "title": {
           "x": 0.05
          },
          "xaxis": {
           "automargin": true,
           "gridcolor": "white",
           "linecolor": "white",
           "ticks": "",
           "title": {
            "standoff": 15
           },
           "zerolinecolor": "white",
           "zerolinewidth": 2
          },
          "yaxis": {
           "automargin": true,
           "gridcolor": "white",
           "linecolor": "white",
           "ticks": "",
           "title": {
            "standoff": 15
           },
           "zerolinecolor": "white",
           "zerolinewidth": 2
          }
         }
        },
        "title": {
         "text": "Day 1 Number of Port 22 (SSH) Instances"
        },
        "xaxis": {
         "tickangle": -45,
         "title": {
          "text": "Date/time"
         }
        },
        "yaxis": {
         "title": {
          "text": "Number of Port 22 Instances"
         }
        }
       }
      }
     },
     "metadata": {},
     "output_type": "display_data"
    },
    {
     "data": {
      "text/plain": [
       "<Figure size 1000x600 with 0 Axes>"
      ]
     },
     "metadata": {},
     "output_type": "display_data"
    }
   ],
   "source": [
    "data1 = pd.DataFrame({\n",
    "    'Date/time': pivoted_data_06_port['Date/time'],\n",
    "    'Values': pivoted_data_06_port['Port_22']\n",
    "})\n",
    "\n",
    "sns.set(style=\"whitegrid\")\n",
    "plt.figure(figsize=(10, 6))\n",
    "\n",
    "fig = go.Figure()\n",
    "fig.add_trace(go.Bar(\n",
    "    x=data1['Date/time'],\n",
    "    y=data1['Values'],\n",
    "    name='Bar Plot',\n",
    "    marker_color='skyblue'\n",
    "))\n",
    "\n",
    "fig.add_trace(go.Scatter(\n",
    "    x=data1['Date/time'],\n",
    "    y=data1['Values'],\n",
    "    mode='lines+markers',\n",
    "    name='Line Plot',\n",
    "    line=dict(color='orange')\n",
    "))\n",
    "\n",
    "fig.update_layout(\n",
    "    title='Day 1 Number of Port 22 (SSH) Instances',\n",
    "    xaxis_title='Date/time',\n",
    "    yaxis_title='Number of Port 22 Instances',\n",
    "    xaxis=dict(tickangle=-45) \n",
    ")\n",
    "\n",
    "fig.show()\n"
   ]
  },
  {
   "cell_type": "markdown",
   "metadata": {},
   "source": [
    "#### Selection available as well as hover as interactions for plot"
   ]
  },
  {
   "cell_type": "markdown",
   "metadata": {},
   "source": [
    "# Argument 4"
   ]
  },
  {
   "cell_type": "code",
   "execution_count": 17,
   "metadata": {},
   "outputs": [],
   "source": [
    "# create dataframe only where destination port is 6667\n",
    "data = firewall_06_hourly[firewall_06_hourly['Destination port'] == '6667']\n",
    "# only keep relavent columns\n",
    "data = data[['Date/time', 'Destination port']]\n",
    "# group by day/hour and find count\n",
    "grouped_data_06 = data.groupby('Date/time').size().reset_index(name='Port_6667')\n",
    "\n",
    "# repeat for second dataframe\n",
    "data = firewall_07_hourly[firewall_07_hourly['Destination port'] == '6667']\n",
    "data = data[['Date/time', 'Destination port']]\n",
    "grouped_data_07 = data.groupby('Date/time').size().reset_index(name='Port_6667')\n",
    "\n",
    "# merge this to pivot table to add the counts (instances) where date/time match\n",
    "pivoted_data_06_port = pd.merge(pivoted_data_06_port, grouped_data_06, on='Date/time', how='left')\n",
    "pivoted_data_07_port = pd.merge(pivoted_data_07_port, grouped_data_07, on='Date/time', how='left')\n",
    "\n",
    "# replace NaN with 0\n",
    "pivoted_data_06_port['Port_6667'].fillna(0, inplace=True)\n",
    "pivoted_data_07_port['Port_6667'].fillna(0, inplace=True)"
   ]
  },
  {
   "cell_type": "code",
   "execution_count": 18,
   "metadata": {},
   "outputs": [
    {
     "data": {
      "text/html": [
       "\n",
       "<style>\n",
       "  #altair-viz-22e16fb9feee4d35bac30d8c6144d844.vega-embed {\n",
       "    width: 100%;\n",
       "    display: flex;\n",
       "  }\n",
       "\n",
       "  #altair-viz-22e16fb9feee4d35bac30d8c6144d844.vega-embed details,\n",
       "  #altair-viz-22e16fb9feee4d35bac30d8c6144d844.vega-embed details summary {\n",
       "    position: relative;\n",
       "  }\n",
       "</style>\n",
       "<div id=\"altair-viz-22e16fb9feee4d35bac30d8c6144d844\"></div>\n",
       "<script type=\"text/javascript\">\n",
       "  var VEGA_DEBUG = (typeof VEGA_DEBUG == \"undefined\") ? {} : VEGA_DEBUG;\n",
       "  (function(spec, embedOpt){\n",
       "    let outputDiv = document.currentScript.previousElementSibling;\n",
       "    if (outputDiv.id !== \"altair-viz-22e16fb9feee4d35bac30d8c6144d844\") {\n",
       "      outputDiv = document.getElementById(\"altair-viz-22e16fb9feee4d35bac30d8c6144d844\");\n",
       "    }\n",
       "    const paths = {\n",
       "      \"vega\": \"https://cdn.jsdelivr.net/npm/vega@5?noext\",\n",
       "      \"vega-lib\": \"https://cdn.jsdelivr.net/npm/vega-lib?noext\",\n",
       "      \"vega-lite\": \"https://cdn.jsdelivr.net/npm/vega-lite@5.15.1?noext\",\n",
       "      \"vega-embed\": \"https://cdn.jsdelivr.net/npm/vega-embed@6?noext\",\n",
       "    };\n",
       "\n",
       "    function maybeLoadScript(lib, version) {\n",
       "      var key = `${lib.replace(\"-\", \"\")}_version`;\n",
       "      return (VEGA_DEBUG[key] == version) ?\n",
       "        Promise.resolve(paths[lib]) :\n",
       "        new Promise(function(resolve, reject) {\n",
       "          var s = document.createElement('script');\n",
       "          document.getElementsByTagName(\"head\")[0].appendChild(s);\n",
       "          s.async = true;\n",
       "          s.onload = () => {\n",
       "            VEGA_DEBUG[key] = version;\n",
       "            return resolve(paths[lib]);\n",
       "          };\n",
       "          s.onerror = () => reject(`Error loading script: ${paths[lib]}`);\n",
       "          s.src = paths[lib];\n",
       "        });\n",
       "    }\n",
       "\n",
       "    function showError(err) {\n",
       "      outputDiv.innerHTML = `<div class=\"error\" style=\"color:red;\">${err}</div>`;\n",
       "      throw err;\n",
       "    }\n",
       "\n",
       "    function displayChart(vegaEmbed) {\n",
       "      vegaEmbed(outputDiv, spec, embedOpt)\n",
       "        .catch(err => showError(`Javascript Error: ${err.message}<br>This usually means there's a typo in your chart specification. See the javascript console for the full traceback.`));\n",
       "    }\n",
       "\n",
       "    if(typeof define === \"function\" && define.amd) {\n",
       "      requirejs.config({paths});\n",
       "      require([\"vega-embed\"], displayChart, err => showError(`Error loading script: ${err.message}`));\n",
       "    } else {\n",
       "      maybeLoadScript(\"vega\", \"5\")\n",
       "        .then(() => maybeLoadScript(\"vega-lite\", \"5.15.1\"))\n",
       "        .then(() => maybeLoadScript(\"vega-embed\", \"6\"))\n",
       "        .catch(showError)\n",
       "        .then(() => displayChart(vegaEmbed));\n",
       "    }\n",
       "  })({\"config\": {\"view\": {\"continuousWidth\": 300, \"continuousHeight\": 300}}, \"hconcat\": [{\"data\": {\"name\": \"data-59635454ee36775d4a71bafe95ed692a\"}, \"mark\": {\"type\": \"bar\"}, \"encoding\": {\"tooltip\": [{\"field\": \"Date/time\", \"type\": \"nominal\"}, {\"field\": \"Instances\", \"type\": \"quantitative\"}], \"x\": {\"axis\": {\"labelAngle\": -45}, \"field\": \"Date/time\", \"type\": \"nominal\"}, \"y\": {\"field\": \"Instances\", \"type\": \"quantitative\"}}, \"height\": 400, \"title\": \"Day 1 Number of Port 6667 (IRC) Instances\", \"width\": 300}, {\"data\": {\"name\": \"data-5e1d97c7104957096aa4f12a77dcdc3c\"}, \"mark\": {\"type\": \"bar\"}, \"encoding\": {\"tooltip\": [{\"field\": \"Date/time\", \"type\": \"nominal\"}, {\"field\": \"Instances\", \"type\": \"quantitative\"}], \"x\": {\"axis\": {\"labelAngle\": -45}, \"field\": \"Date/time\", \"type\": \"nominal\"}, \"y\": {\"field\": \"Instances\", \"type\": \"quantitative\"}}, \"height\": 400, \"title\": \"Day 2 Number of Port 6667 (IRC) Instances\", \"width\": 300}], \"$schema\": \"https://vega.github.io/schema/vega-lite/v5.15.1.json\", \"datasets\": {\"data-59635454ee36775d4a71bafe95ed692a\": [{\"Date/time\": \"04/05 17\", \"Instances\": 0.0}, {\"Date/time\": \"04/05 18\", \"Instances\": 0.0}, {\"Date/time\": \"04/05 19\", \"Instances\": 0.0}, {\"Date/time\": \"04/05 20\", \"Instances\": 8777.0}, {\"Date/time\": \"04/05 21\", \"Instances\": 20138.0}, {\"Date/time\": \"04/05 22\", \"Instances\": 32563.0}, {\"Date/time\": \"04/05 23\", \"Instances\": 60240.0}, {\"Date/time\": \"04/06 00\", \"Instances\": 43589.0}, {\"Date/time\": \"04/06 01\", \"Instances\": 33208.0}, {\"Date/time\": \"04/06 02\", \"Instances\": 28825.0}, {\"Date/time\": \"04/06 03\", \"Instances\": 32888.0}, {\"Date/time\": \"04/06 04\", \"Instances\": 28165.0}, {\"Date/time\": \"04/06 05\", \"Instances\": 33760.0}, {\"Date/time\": \"04/06 06\", \"Instances\": 27224.0}, {\"Date/time\": \"04/06 07\", \"Instances\": 27256.0}, {\"Date/time\": \"04/06 08\", \"Instances\": 27239.0}, {\"Date/time\": \"04/06 09\", \"Instances\": 31773.0}, {\"Date/time\": \"04/06 10\", \"Instances\": 33578.0}, {\"Date/time\": \"04/06 11\", \"Instances\": 24894.0}, {\"Date/time\": \"04/06 12\", \"Instances\": 28881.0}, {\"Date/time\": \"04/06 13\", \"Instances\": 32914.0}, {\"Date/time\": \"04/06 14\", \"Instances\": 44230.0}, {\"Date/time\": \"04/06 15\", \"Instances\": 49298.0}, {\"Date/time\": \"04/06 16\", \"Instances\": 41312.0}, {\"Date/time\": \"04/06 17\", \"Instances\": 14396.0}], \"data-5e1d97c7104957096aa4f12a77dcdc3c\": [{\"Date/time\": \"04/06 17\", \"Instances\": 1746.0}, {\"Date/time\": \"04/06 18\", \"Instances\": 62286.0}, {\"Date/time\": \"04/06 19\", \"Instances\": 89664.0}, {\"Date/time\": \"04/06 20\", \"Instances\": 87582.0}, {\"Date/time\": \"04/06 21\", \"Instances\": 93525.0}, {\"Date/time\": \"04/06 22\", \"Instances\": 91995.0}, {\"Date/time\": \"04/06 23\", \"Instances\": 90779.0}, {\"Date/time\": \"04/07 00\", \"Instances\": 57118.0}, {\"Date/time\": \"04/07 01\", \"Instances\": 74512.0}, {\"Date/time\": \"04/07 02\", \"Instances\": 59572.0}, {\"Date/time\": \"04/07 03\", \"Instances\": 86406.0}, {\"Date/time\": \"04/07 04\", \"Instances\": 86731.0}, {\"Date/time\": \"04/07 05\", \"Instances\": 75962.0}, {\"Date/time\": \"04/07 06\", \"Instances\": 50259.0}, {\"Date/time\": \"04/07 07\", \"Instances\": 62553.0}, {\"Date/time\": \"04/07 08\", \"Instances\": 53648.0}, {\"Date/time\": \"04/07 09\", \"Instances\": 0.0}]}}, {\"mode\": \"vega-lite\"});\n",
       "</script>"
      ],
      "text/plain": [
       "alt.HConcatChart(...)"
      ]
     },
     "execution_count": 18,
     "metadata": {},
     "output_type": "execute_result"
    }
   ],
   "source": [
    "data1 = pd.DataFrame({\n",
    "    'Date/time': pivoted_data_06_port['Date/time'],\n",
    "    'Instances': pivoted_data_06_port['Port_6667']\n",
    "})\n",
    "\n",
    "data2 = pd.DataFrame({\n",
    "    'Date/time': pivoted_data_07_port['Date/time'],\n",
    "    'Instances': pivoted_data_07_port['Port_6667']\n",
    "})\n",
    "\n",
    "# Create the Altair chart\n",
    "chart1 = alt.Chart(data1).mark_bar().encode(\n",
    "    x=alt.X('Date/time:N', axis=alt.Axis(labelAngle=-45)),\n",
    "    y='Instances:Q',\n",
    "    tooltip=['Date/time:N', 'Instances:Q']\n",
    ").properties(\n",
    "    width=300,\n",
    "    height=400,\n",
    "    title='Day 1 Number of Port 6667 (IRC) Instances'\n",
    ")\n",
    "\n",
    "# 2nd dataset\n",
    "chart2 = alt.Chart(data2).mark_bar().encode(\n",
    "    x=alt.X('Date/time:N', axis = alt.Axis(labelAngle=-45)),\n",
    "    y='Instances:Q',\n",
    "    tooltip=['Date/time:N', 'Instances:Q']\n",
    ").properties(\n",
    "    width=300,\n",
    "    height=400,\n",
    "    title='Day 2 Number of Port 6667 (IRC) Instances'\n",
    ")\n",
    "\n",
    "chart1 | chart2"
   ]
  },
  {
   "cell_type": "markdown",
   "metadata": {},
   "source": [
    "# Argument 5"
   ]
  },
  {
   "cell_type": "code",
   "execution_count": 19,
   "metadata": {},
   "outputs": [],
   "source": [
    "pivoted_data_06_source = firewall_06_hourly.pivot_table(index='Date/time', columns='Source IP', \n",
    "                                                        aggfunc='count', fill_value=0).reset_index()\n",
    "pivoted_data_06_dest = firewall_06_hourly.pivot_table(index='Date/time', columns='Destination IP', \n",
    "                                                      aggfunc='count', fill_value=0).reset_index()\n",
    "pivoted_data_07_source = firewall_07_hourly.pivot_table(index='Date/time', columns='Source IP', \n",
    "                                                        aggfunc='count', fill_value=0).reset_index()\n",
    "pivoted_data_07_dest = firewall_07_hourly.pivot_table(index='Date/time', columns='Destination IP', \n",
    "                                                      aggfunc='count', fill_value=0).reset_index()"
   ]
  },
  {
   "cell_type": "code",
   "execution_count": 20,
   "metadata": {},
   "outputs": [],
   "source": [
    "# create grouped by dataframe to count instances of each source IP at each date/time\n",
    "data = firewall_06_hourly\n",
    "data = data[['Date/time', 'Source IP']]\n",
    "grouped_data_06.groupby('Date/time').size().reset_index(name = 'SourceIP')\n",
    "grouped_data_06_source = data.groupby(['Date/time', 'Source IP']).size().reset_index(name='Count')\n",
    "\n",
    "# create pivoted table to make each source IP a column and the count as it's values\n",
    "pivot_df_source = grouped_data_06_source.pivot(index='Date/time', \n",
    "                                               columns='Source IP', \n",
    "                                               values='Count').fillna(0).astype(int).reset_index()\n",
    "pivot_df_source.drop('(empty)', axis = 1, inplace=True) # remove empty values\n",
    "pivot_df_source.loc['Total'] = pivot_df_source.drop('Date/time', axis=1).sum() # calculate totals\n",
    "\n",
    "# only store the top 10 source IPs by total count\n",
    "sorted_columns = pivot_df_source.drop('Date/time', \n",
    "                                      axis=1).sum().sort_values(ascending=False).head(10).index\n",
    "filtered_06_source = pivot_df_source[['Date/time'] + list(sorted_columns)]\n",
    "\n",
    "\n",
    "# repeat for destination IP\n",
    "data = firewall_06_hourly\n",
    "data = data[['Date/time', 'Destination IP']]\n",
    "grouped_data_06.groupby('Date/time').size().reset_index(name = 'DestinationIP')\n",
    "grouped_data_06_dest = data.groupby(['Date/time', 'Destination IP']).size().reset_index(name='Count')\n",
    "\n",
    "# create pivoted table to make each source IP a column and the count as it's values\n",
    "pivot_df_dest = grouped_data_06_dest.pivot(index='Date/time', \n",
    "                                           columns='Destination IP', \n",
    "                                           values='Count').fillna(0).astype(int).reset_index()\n",
    "pivot_df_dest.drop('(empty)', axis = 1, inplace=True) # remove empty values\n",
    "pivot_df_dest.loc['Total'] = pivot_df_dest.drop('Date/time', axis=1).sum() # calculate totals\n",
    "\n",
    "# only store the top 10 source IPs by total count\n",
    "sorted_columns = pivot_df_dest.drop('Date/time', axis=1).sum().sort_values(ascending=False).head(10).index\n",
    "filtered_06_dest = pivot_df_dest[['Date/time'] + list(sorted_columns)]"
   ]
  },
  {
   "cell_type": "code",
   "execution_count": 21,
   "metadata": {},
   "outputs": [],
   "source": [
    "# repeat for second dataframe\n",
    "# create grouped by dataframe to count instances of each source IP at each date/time\n",
    "data = firewall_07_hourly\n",
    "data = data[['Date/time', 'Source IP']]\n",
    "grouped_data_07.groupby('Date/time').size().reset_index(name = 'SourceIP')\n",
    "grouped_data_07_source = data.groupby(['Date/time', 'Source IP']).size().reset_index(name='Count')\n",
    "\n",
    "# create pivoted table to make each source IP a column and the count as it's values\n",
    "pivot_df_source = grouped_data_07_source.pivot(index='Date/time', \n",
    "                                               columns='Source IP', \n",
    "                                               values='Count').fillna(0).astype(int).reset_index()\n",
    "pivot_df_source.drop('(empty)', axis = 1, inplace=True) # remove empty values\n",
    "pivot_df_source.loc['Total'] = pivot_df_source.drop('Date/time', axis=1).sum() # calculate totals\n",
    "\n",
    "# only store the top 10 source IPs by total count\n",
    "sorted_columns = pivot_df_source.drop('Date/time', \n",
    "                                      axis=1).sum().sort_values(ascending=False).head(10).index\n",
    "filtered_07_source = pivot_df_source[['Date/time'] + list(sorted_columns)]\n",
    "\n",
    "\n",
    "# repeat for destination IP\n",
    "data = firewall_07_hourly\n",
    "data = data[['Date/time', 'Destination IP']]\n",
    "grouped_data_07.groupby('Date/time').size().reset_index(name = 'DestinationIP')\n",
    "grouped_data_07_dest = data.groupby(['Date/time', 'Destination IP']).size().reset_index(name='Count')\n",
    "\n",
    "# create pivoted table to make each source IP a column and the count as it's values\n",
    "pivot_df_dest = grouped_data_07_dest.pivot(index='Date/time', \n",
    "                                           columns='Destination IP', \n",
    "                                           values='Count').fillna(0).astype(int).reset_index()\n",
    "pivot_df_dest.drop('(empty)', axis = 1, inplace=True) # remove empty values\n",
    "pivot_df_dest.loc['Total'] = pivot_df_dest.drop('Date/time', axis=1).sum() # calculate totals\n",
    "\n",
    "# only store the top 10 source IPs by total count\n",
    "sorted_columns = pivot_df_dest.drop('Date/time', axis=1).sum().sort_values(ascending=False).head(10).index\n",
    "filtered_07_dest = pivot_df_dest[['Date/time'] + list(sorted_columns)]"
   ]
  },
  {
   "cell_type": "code",
   "execution_count": 22,
   "metadata": {},
   "outputs": [
    {
     "data": {
      "text/html": [
       "\n",
       "<style>\n",
       "  #altair-viz-eb30f2a5e4d44cd0ac31be56b67f2539.vega-embed {\n",
       "    width: 100%;\n",
       "    display: flex;\n",
       "  }\n",
       "\n",
       "  #altair-viz-eb30f2a5e4d44cd0ac31be56b67f2539.vega-embed details,\n",
       "  #altair-viz-eb30f2a5e4d44cd0ac31be56b67f2539.vega-embed details summary {\n",
       "    position: relative;\n",
       "  }\n",
       "</style>\n",
       "<div id=\"altair-viz-eb30f2a5e4d44cd0ac31be56b67f2539\"></div>\n",
       "<script type=\"text/javascript\">\n",
       "  var VEGA_DEBUG = (typeof VEGA_DEBUG == \"undefined\") ? {} : VEGA_DEBUG;\n",
       "  (function(spec, embedOpt){\n",
       "    let outputDiv = document.currentScript.previousElementSibling;\n",
       "    if (outputDiv.id !== \"altair-viz-eb30f2a5e4d44cd0ac31be56b67f2539\") {\n",
       "      outputDiv = document.getElementById(\"altair-viz-eb30f2a5e4d44cd0ac31be56b67f2539\");\n",
       "    }\n",
       "    const paths = {\n",
       "      \"vega\": \"https://cdn.jsdelivr.net/npm/vega@5?noext\",\n",
       "      \"vega-lib\": \"https://cdn.jsdelivr.net/npm/vega-lib?noext\",\n",
       "      \"vega-lite\": \"https://cdn.jsdelivr.net/npm/vega-lite@5.15.1?noext\",\n",
       "      \"vega-embed\": \"https://cdn.jsdelivr.net/npm/vega-embed@6?noext\",\n",
       "    };\n",
       "\n",
       "    function maybeLoadScript(lib, version) {\n",
       "      var key = `${lib.replace(\"-\", \"\")}_version`;\n",
       "      return (VEGA_DEBUG[key] == version) ?\n",
       "        Promise.resolve(paths[lib]) :\n",
       "        new Promise(function(resolve, reject) {\n",
       "          var s = document.createElement('script');\n",
       "          document.getElementsByTagName(\"head\")[0].appendChild(s);\n",
       "          s.async = true;\n",
       "          s.onload = () => {\n",
       "            VEGA_DEBUG[key] = version;\n",
       "            return resolve(paths[lib]);\n",
       "          };\n",
       "          s.onerror = () => reject(`Error loading script: ${paths[lib]}`);\n",
       "          s.src = paths[lib];\n",
       "        });\n",
       "    }\n",
       "\n",
       "    function showError(err) {\n",
       "      outputDiv.innerHTML = `<div class=\"error\" style=\"color:red;\">${err}</div>`;\n",
       "      throw err;\n",
       "    }\n",
       "\n",
       "    function displayChart(vegaEmbed) {\n",
       "      vegaEmbed(outputDiv, spec, embedOpt)\n",
       "        .catch(err => showError(`Javascript Error: ${err.message}<br>This usually means there's a typo in your chart specification. See the javascript console for the full traceback.`));\n",
       "    }\n",
       "\n",
       "    if(typeof define === \"function\" && define.amd) {\n",
       "      requirejs.config({paths});\n",
       "      require([\"vega-embed\"], displayChart, err => showError(`Error loading script: ${err.message}`));\n",
       "    } else {\n",
       "      maybeLoadScript(\"vega\", \"5\")\n",
       "        .then(() => maybeLoadScript(\"vega-lite\", \"5.15.1\"))\n",
       "        .then(() => maybeLoadScript(\"vega-embed\", \"6\"))\n",
       "        .catch(showError)\n",
       "        .then(() => displayChart(vegaEmbed));\n",
       "    }\n",
       "  })({\"config\": {\"view\": {\"continuousWidth\": 300, \"continuousHeight\": 300}}, \"hconcat\": [{\"data\": {\"name\": \"data-7f14d90a92e0ade7681dc51ad6e512a1\"}, \"mark\": {\"type\": \"bar\"}, \"encoding\": {\"color\": {\"field\": \"Source_IP\", \"scale\": {\"scheme\": \"category10\"}, \"type\": \"nominal\"}, \"tooltip\": [{\"field\": \"Date/time\", \"type\": \"ordinal\"}, {\"field\": \"Source_IP\", \"type\": \"nominal\"}, {\"field\": \"Value\", \"type\": \"quantitative\"}], \"x\": {\"field\": \"Date/time\", \"type\": \"ordinal\"}, \"y\": {\"field\": \"Value\", \"type\": \"quantitative\"}}, \"height\": 400, \"title\": \"Day 1 Source IP Counts Over Time\", \"width\": 300}, {\"data\": {\"name\": \"data-a8253dfcce1ec7fc9d719cc140985f98\"}, \"mark\": {\"type\": \"bar\"}, \"encoding\": {\"color\": {\"field\": \"Dest_IP\", \"scale\": {\"scheme\": \"plasma\"}, \"type\": \"nominal\"}, \"tooltip\": [{\"field\": \"Date/time\", \"type\": \"ordinal\"}, {\"field\": \"Dest_IP\", \"type\": \"nominal\"}, {\"field\": \"Value\", \"type\": \"quantitative\"}], \"x\": {\"field\": \"Date/time\", \"type\": \"ordinal\"}, \"y\": {\"field\": \"Value\", \"type\": \"quantitative\"}}, \"height\": 400, \"title\": \"Day 1 Destination IP Counts Over Time\", \"width\": 300}], \"$schema\": \"https://vega.github.io/schema/vega-lite/v5.15.1.json\", \"datasets\": {\"data-7f14d90a92e0ade7681dc51ad6e512a1\": [{\"Date/time\": \"04/05 17\", \"Source_IP\": \"172.23.0.132\", \"Value\": 0.0}, {\"Date/time\": \"04/05 18\", \"Source_IP\": \"172.23.0.132\", \"Value\": 1869.0}, {\"Date/time\": \"04/05 19\", \"Source_IP\": \"172.23.0.132\", \"Value\": 3530.0}, {\"Date/time\": \"04/05 20\", \"Source_IP\": \"172.23.0.132\", \"Value\": 3348.0}, {\"Date/time\": \"04/05 21\", \"Source_IP\": \"172.23.0.132\", \"Value\": 2594.0}, {\"Date/time\": \"04/05 22\", \"Source_IP\": \"172.23.0.132\", \"Value\": 3586.0}, {\"Date/time\": \"04/05 23\", \"Source_IP\": \"172.23.0.132\", \"Value\": 3762.0}, {\"Date/time\": \"04/06 00\", \"Source_IP\": \"172.23.0.132\", \"Value\": 2518.0}, {\"Date/time\": \"04/06 01\", \"Source_IP\": \"172.23.0.132\", \"Value\": 2836.0}, {\"Date/time\": \"04/06 02\", \"Source_IP\": \"172.23.0.132\", \"Value\": 3302.0}, {\"Date/time\": \"04/06 03\", \"Source_IP\": \"172.23.0.132\", \"Value\": 2932.0}, {\"Date/time\": \"04/06 04\", \"Source_IP\": \"172.23.0.132\", \"Value\": 2769.0}, {\"Date/time\": \"04/06 05\", \"Source_IP\": \"172.23.0.132\", \"Value\": 2969.0}, {\"Date/time\": \"04/06 06\", \"Source_IP\": \"172.23.0.132\", \"Value\": 4507.0}, {\"Date/time\": \"04/06 07\", \"Source_IP\": \"172.23.0.132\", \"Value\": 4510.0}, {\"Date/time\": \"04/06 08\", \"Source_IP\": \"172.23.0.132\", \"Value\": 2668.0}, {\"Date/time\": \"04/06 09\", \"Source_IP\": \"172.23.0.132\", \"Value\": 2446.0}, {\"Date/time\": \"04/06 10\", \"Source_IP\": \"172.23.0.132\", \"Value\": 2978.0}, {\"Date/time\": \"04/06 11\", \"Source_IP\": \"172.23.0.132\", \"Value\": 5047.0}, {\"Date/time\": \"04/06 12\", \"Source_IP\": \"172.23.0.132\", \"Value\": 3606.0}, {\"Date/time\": \"04/06 13\", \"Source_IP\": \"172.23.0.132\", \"Value\": 2746.0}, {\"Date/time\": \"04/06 14\", \"Source_IP\": \"172.23.0.132\", \"Value\": 1196.0}, {\"Date/time\": \"04/06 15\", \"Source_IP\": \"172.23.0.132\", \"Value\": 1938.0}, {\"Date/time\": \"04/06 16\", \"Source_IP\": \"172.23.0.132\", \"Value\": 2100.0}, {\"Date/time\": \"04/06 17\", \"Source_IP\": \"172.23.0.132\", \"Value\": 316.0}, {\"Date/time\": \"04/05 17\", \"Source_IP\": \"172.23.233.58\", \"Value\": 0.0}, {\"Date/time\": \"04/05 18\", \"Source_IP\": \"172.23.233.58\", \"Value\": 0.0}, {\"Date/time\": \"04/05 19\", \"Source_IP\": \"172.23.233.58\", \"Value\": 0.0}, {\"Date/time\": \"04/05 20\", \"Source_IP\": \"172.23.233.58\", \"Value\": 0.0}, {\"Date/time\": \"04/05 21\", \"Source_IP\": \"172.23.233.58\", \"Value\": 201.0}, {\"Date/time\": \"04/05 22\", \"Source_IP\": \"172.23.233.58\", \"Value\": 297.0}, {\"Date/time\": \"04/05 23\", \"Source_IP\": \"172.23.233.58\", \"Value\": 502.0}, {\"Date/time\": \"04/06 00\", \"Source_IP\": \"172.23.233.58\", \"Value\": 472.0}, {\"Date/time\": \"04/06 01\", \"Source_IP\": \"172.23.233.58\", \"Value\": 362.0}, {\"Date/time\": \"04/06 02\", \"Source_IP\": \"172.23.233.58\", \"Value\": 454.0}, {\"Date/time\": \"04/06 03\", \"Source_IP\": \"172.23.233.58\", \"Value\": 495.0}, {\"Date/time\": \"04/06 04\", \"Source_IP\": \"172.23.233.58\", \"Value\": 368.0}, {\"Date/time\": \"04/06 05\", \"Source_IP\": \"172.23.233.58\", \"Value\": 420.0}, {\"Date/time\": \"04/06 06\", \"Source_IP\": \"172.23.233.58\", \"Value\": 322.0}, {\"Date/time\": \"04/06 07\", \"Source_IP\": \"172.23.233.58\", \"Value\": 374.0}, {\"Date/time\": \"04/06 08\", \"Source_IP\": \"172.23.233.58\", \"Value\": 553.0}, {\"Date/time\": \"04/06 09\", \"Source_IP\": \"172.23.233.58\", \"Value\": 496.0}, {\"Date/time\": \"04/06 10\", \"Source_IP\": \"172.23.233.58\", \"Value\": 358.0}, {\"Date/time\": \"04/06 11\", \"Source_IP\": \"172.23.233.58\", \"Value\": 360.0}, {\"Date/time\": \"04/06 12\", \"Source_IP\": \"172.23.233.58\", \"Value\": 458.0}, {\"Date/time\": \"04/06 13\", \"Source_IP\": \"172.23.233.58\", \"Value\": 390.0}, {\"Date/time\": \"04/06 14\", \"Source_IP\": \"172.23.233.58\", \"Value\": 454.0}, {\"Date/time\": \"04/06 15\", \"Source_IP\": \"172.23.233.58\", \"Value\": 508.0}, {\"Date/time\": \"04/06 16\", \"Source_IP\": \"172.23.233.58\", \"Value\": 317.0}, {\"Date/time\": \"04/06 17\", \"Source_IP\": \"172.23.233.58\", \"Value\": 104.0}, {\"Date/time\": \"04/05 17\", \"Source_IP\": \"172.23.233.50\", \"Value\": 0.0}, {\"Date/time\": \"04/05 18\", \"Source_IP\": \"172.23.233.50\", \"Value\": 0.0}, {\"Date/time\": \"04/05 19\", \"Source_IP\": \"172.23.233.50\", \"Value\": 0.0}, {\"Date/time\": \"04/05 20\", \"Source_IP\": \"172.23.233.50\", \"Value\": 0.0}, {\"Date/time\": \"04/05 21\", \"Source_IP\": \"172.23.233.50\", \"Value\": 193.0}, {\"Date/time\": \"04/05 22\", \"Source_IP\": \"172.23.233.50\", \"Value\": 288.0}, {\"Date/time\": \"04/05 23\", \"Source_IP\": \"172.23.233.50\", \"Value\": 507.0}, {\"Date/time\": \"04/06 00\", \"Source_IP\": \"172.23.233.50\", \"Value\": 476.0}, {\"Date/time\": \"04/06 01\", \"Source_IP\": \"172.23.233.50\", \"Value\": 374.0}, {\"Date/time\": \"04/06 02\", \"Source_IP\": \"172.23.233.50\", \"Value\": 429.0}, {\"Date/time\": \"04/06 03\", \"Source_IP\": \"172.23.233.50\", \"Value\": 487.0}, {\"Date/time\": \"04/06 04\", \"Source_IP\": \"172.23.233.50\", \"Value\": 385.0}, {\"Date/time\": \"04/06 05\", \"Source_IP\": \"172.23.233.50\", \"Value\": 399.0}, {\"Date/time\": \"04/06 06\", \"Source_IP\": \"172.23.233.50\", \"Value\": 306.0}, {\"Date/time\": \"04/06 07\", \"Source_IP\": \"172.23.233.50\", \"Value\": 392.0}, {\"Date/time\": \"04/06 08\", \"Source_IP\": \"172.23.233.50\", \"Value\": 547.0}, {\"Date/time\": \"04/06 09\", \"Source_IP\": \"172.23.233.50\", \"Value\": 491.0}, {\"Date/time\": \"04/06 10\", \"Source_IP\": \"172.23.233.50\", \"Value\": 342.0}, {\"Date/time\": \"04/06 11\", \"Source_IP\": \"172.23.233.50\", \"Value\": 391.0}, {\"Date/time\": \"04/06 12\", \"Source_IP\": \"172.23.233.50\", \"Value\": 436.0}, {\"Date/time\": \"04/06 13\", \"Source_IP\": \"172.23.233.50\", \"Value\": 382.0}, {\"Date/time\": \"04/06 14\", \"Source_IP\": \"172.23.233.50\", \"Value\": 471.0}, {\"Date/time\": \"04/06 15\", \"Source_IP\": \"172.23.233.50\", \"Value\": 510.0}, {\"Date/time\": \"04/06 16\", \"Source_IP\": \"172.23.233.50\", \"Value\": 333.0}, {\"Date/time\": \"04/06 17\", \"Source_IP\": \"172.23.233.50\", \"Value\": 102.0}, {\"Date/time\": \"04/05 17\", \"Source_IP\": \"172.23.232.255\", \"Value\": 0.0}, {\"Date/time\": \"04/05 18\", \"Source_IP\": \"172.23.232.255\", \"Value\": 0.0}, {\"Date/time\": \"04/05 19\", \"Source_IP\": \"172.23.232.255\", \"Value\": 0.0}, {\"Date/time\": \"04/05 20\", \"Source_IP\": \"172.23.232.255\", \"Value\": 0.0}, {\"Date/time\": \"04/05 21\", \"Source_IP\": \"172.23.232.255\", \"Value\": 12.0}, {\"Date/time\": \"04/05 22\", \"Source_IP\": \"172.23.232.255\", \"Value\": 2.0}, {\"Date/time\": \"04/05 23\", \"Source_IP\": \"172.23.232.255\", \"Value\": 963.0}, {\"Date/time\": \"04/06 00\", \"Source_IP\": \"172.23.232.255\", \"Value\": 471.0}, {\"Date/time\": \"04/06 01\", \"Source_IP\": \"172.23.232.255\", \"Value\": 365.0}, {\"Date/time\": \"04/06 02\", \"Source_IP\": \"172.23.232.255\", \"Value\": 428.0}, {\"Date/time\": \"04/06 03\", \"Source_IP\": \"172.23.232.255\", \"Value\": 471.0}, {\"Date/time\": \"04/06 04\", \"Source_IP\": \"172.23.232.255\", \"Value\": 386.0}, {\"Date/time\": \"04/06 05\", \"Source_IP\": \"172.23.232.255\", \"Value\": 388.0}, {\"Date/time\": \"04/06 06\", \"Source_IP\": \"172.23.232.255\", \"Value\": 297.0}, {\"Date/time\": \"04/06 07\", \"Source_IP\": \"172.23.232.255\", \"Value\": 373.0}, {\"Date/time\": \"04/06 08\", \"Source_IP\": \"172.23.232.255\", \"Value\": 565.0}, {\"Date/time\": \"04/06 09\", \"Source_IP\": \"172.23.232.255\", \"Value\": 493.0}, {\"Date/time\": \"04/06 10\", \"Source_IP\": \"172.23.232.255\", \"Value\": 347.0}, {\"Date/time\": \"04/06 11\", \"Source_IP\": \"172.23.232.255\", \"Value\": 357.0}, {\"Date/time\": \"04/06 12\", \"Source_IP\": \"172.23.232.255\", \"Value\": 462.0}, {\"Date/time\": \"04/06 13\", \"Source_IP\": \"172.23.232.255\", \"Value\": 376.0}, {\"Date/time\": \"04/06 14\", \"Source_IP\": \"172.23.232.255\", \"Value\": 470.0}, {\"Date/time\": \"04/06 15\", \"Source_IP\": \"172.23.232.255\", \"Value\": 527.0}, {\"Date/time\": \"04/06 16\", \"Source_IP\": \"172.23.232.255\", \"Value\": 332.0}, {\"Date/time\": \"04/06 17\", \"Source_IP\": \"172.23.232.255\", \"Value\": 114.0}, {\"Date/time\": \"04/05 17\", \"Source_IP\": \"172.23.233.59\", \"Value\": 0.0}, {\"Date/time\": \"04/05 18\", \"Source_IP\": \"172.23.233.59\", \"Value\": 0.0}, {\"Date/time\": \"04/05 19\", \"Source_IP\": \"172.23.233.59\", \"Value\": 0.0}, {\"Date/time\": \"04/05 20\", \"Source_IP\": \"172.23.233.59\", \"Value\": 0.0}, {\"Date/time\": \"04/05 21\", \"Source_IP\": \"172.23.233.59\", \"Value\": 215.0}, {\"Date/time\": \"04/05 22\", \"Source_IP\": \"172.23.233.59\", \"Value\": 279.0}, {\"Date/time\": \"04/05 23\", \"Source_IP\": \"172.23.233.59\", \"Value\": 499.0}, {\"Date/time\": \"04/06 00\", \"Source_IP\": \"172.23.233.59\", \"Value\": 492.0}, {\"Date/time\": \"04/06 01\", \"Source_IP\": \"172.23.233.59\", \"Value\": 380.0}, {\"Date/time\": \"04/06 02\", \"Source_IP\": \"172.23.233.59\", \"Value\": 435.0}, {\"Date/time\": \"04/06 03\", \"Source_IP\": \"172.23.233.59\", \"Value\": 490.0}, {\"Date/time\": \"04/06 04\", \"Source_IP\": \"172.23.233.59\", \"Value\": 381.0}, {\"Date/time\": \"04/06 05\", \"Source_IP\": \"172.23.233.59\", \"Value\": 389.0}, {\"Date/time\": \"04/06 06\", \"Source_IP\": \"172.23.233.59\", \"Value\": 304.0}, {\"Date/time\": \"04/06 07\", \"Source_IP\": \"172.23.233.59\", \"Value\": 369.0}, {\"Date/time\": \"04/06 08\", \"Source_IP\": \"172.23.233.59\", \"Value\": 524.0}, {\"Date/time\": \"04/06 09\", \"Source_IP\": \"172.23.233.59\", \"Value\": 489.0}, {\"Date/time\": \"04/06 10\", \"Source_IP\": \"172.23.233.59\", \"Value\": 345.0}, {\"Date/time\": \"04/06 11\", \"Source_IP\": \"172.23.233.59\", \"Value\": 388.0}, {\"Date/time\": \"04/06 12\", \"Source_IP\": \"172.23.233.59\", \"Value\": 438.0}, {\"Date/time\": \"04/06 13\", \"Source_IP\": \"172.23.233.59\", \"Value\": 389.0}, {\"Date/time\": \"04/06 14\", \"Source_IP\": \"172.23.233.59\", \"Value\": 455.0}, {\"Date/time\": \"04/06 15\", \"Source_IP\": \"172.23.233.59\", \"Value\": 518.0}, {\"Date/time\": \"04/06 16\", \"Source_IP\": \"172.23.233.59\", \"Value\": 305.0}, {\"Date/time\": \"04/06 17\", \"Source_IP\": \"172.23.233.59\", \"Value\": 106.0}, {\"Date/time\": \"04/05 17\", \"Source_IP\": \"172.23.233.53\", \"Value\": 0.0}, {\"Date/time\": \"04/05 18\", \"Source_IP\": \"172.23.233.53\", \"Value\": 0.0}, {\"Date/time\": \"04/05 19\", \"Source_IP\": \"172.23.233.53\", \"Value\": 0.0}, {\"Date/time\": \"04/05 20\", \"Source_IP\": \"172.23.233.53\", \"Value\": 0.0}, {\"Date/time\": \"04/05 21\", \"Source_IP\": \"172.23.233.53\", \"Value\": 204.0}, {\"Date/time\": \"04/05 22\", \"Source_IP\": \"172.23.233.53\", \"Value\": 289.0}, {\"Date/time\": \"04/05 23\", \"Source_IP\": \"172.23.233.53\", \"Value\": 495.0}, {\"Date/time\": \"04/06 00\", \"Source_IP\": \"172.23.233.53\", \"Value\": 490.0}, {\"Date/time\": \"04/06 01\", \"Source_IP\": \"172.23.233.53\", \"Value\": 381.0}, {\"Date/time\": \"04/06 02\", \"Source_IP\": \"172.23.233.53\", \"Value\": 435.0}, {\"Date/time\": \"04/06 03\", \"Source_IP\": \"172.23.233.53\", \"Value\": 469.0}, {\"Date/time\": \"04/06 04\", \"Source_IP\": \"172.23.233.53\", \"Value\": 364.0}, {\"Date/time\": \"04/06 05\", \"Source_IP\": \"172.23.233.53\", \"Value\": 385.0}, {\"Date/time\": \"04/06 06\", \"Source_IP\": \"172.23.233.53\", \"Value\": 284.0}, {\"Date/time\": \"04/06 07\", \"Source_IP\": \"172.23.233.53\", \"Value\": 373.0}, {\"Date/time\": \"04/06 08\", \"Source_IP\": \"172.23.233.53\", \"Value\": 537.0}, {\"Date/time\": \"04/06 09\", \"Source_IP\": \"172.23.233.53\", \"Value\": 496.0}, {\"Date/time\": \"04/06 10\", \"Source_IP\": \"172.23.233.53\", \"Value\": 364.0}, {\"Date/time\": \"04/06 11\", \"Source_IP\": \"172.23.233.53\", \"Value\": 366.0}, {\"Date/time\": \"04/06 12\", \"Source_IP\": \"172.23.233.53\", \"Value\": 435.0}, {\"Date/time\": \"04/06 13\", \"Source_IP\": \"172.23.233.53\", \"Value\": 398.0}, {\"Date/time\": \"04/06 14\", \"Source_IP\": \"172.23.233.53\", \"Value\": 477.0}, {\"Date/time\": \"04/06 15\", \"Source_IP\": \"172.23.233.53\", \"Value\": 514.0}, {\"Date/time\": \"04/06 16\", \"Source_IP\": \"172.23.233.53\", \"Value\": 318.0}, {\"Date/time\": \"04/06 17\", \"Source_IP\": \"172.23.233.53\", \"Value\": 105.0}, {\"Date/time\": \"04/05 17\", \"Source_IP\": \"172.23.233.51\", \"Value\": 0.0}, {\"Date/time\": \"04/05 18\", \"Source_IP\": \"172.23.233.51\", \"Value\": 0.0}, {\"Date/time\": \"04/05 19\", \"Source_IP\": \"172.23.233.51\", \"Value\": 0.0}, {\"Date/time\": \"04/05 20\", \"Source_IP\": \"172.23.233.51\", \"Value\": 0.0}, {\"Date/time\": \"04/05 21\", \"Source_IP\": \"172.23.233.51\", \"Value\": 204.0}, {\"Date/time\": \"04/05 22\", \"Source_IP\": \"172.23.233.51\", \"Value\": 279.0}, {\"Date/time\": \"04/05 23\", \"Source_IP\": \"172.23.233.51\", \"Value\": 485.0}, {\"Date/time\": \"04/06 00\", \"Source_IP\": \"172.23.233.51\", \"Value\": 466.0}, {\"Date/time\": \"04/06 01\", \"Source_IP\": \"172.23.233.51\", \"Value\": 354.0}, {\"Date/time\": \"04/06 02\", \"Source_IP\": \"172.23.233.51\", \"Value\": 432.0}, {\"Date/time\": \"04/06 03\", \"Source_IP\": \"172.23.233.51\", \"Value\": 480.0}, {\"Date/time\": \"04/06 04\", \"Source_IP\": \"172.23.233.51\", \"Value\": 378.0}, {\"Date/time\": \"04/06 05\", \"Source_IP\": \"172.23.233.51\", \"Value\": 416.0}, {\"Date/time\": \"04/06 06\", \"Source_IP\": \"172.23.233.51\", \"Value\": 303.0}, {\"Date/time\": \"04/06 07\", \"Source_IP\": \"172.23.233.51\", \"Value\": 361.0}, {\"Date/time\": \"04/06 08\", \"Source_IP\": \"172.23.233.51\", \"Value\": 523.0}, {\"Date/time\": \"04/06 09\", \"Source_IP\": \"172.23.233.51\", \"Value\": 493.0}, {\"Date/time\": \"04/06 10\", \"Source_IP\": \"172.23.233.51\", \"Value\": 373.0}, {\"Date/time\": \"04/06 11\", \"Source_IP\": \"172.23.233.51\", \"Value\": 380.0}, {\"Date/time\": \"04/06 12\", \"Source_IP\": \"172.23.233.51\", \"Value\": 445.0}, {\"Date/time\": \"04/06 13\", \"Source_IP\": \"172.23.233.51\", \"Value\": 383.0}, {\"Date/time\": \"04/06 14\", \"Source_IP\": \"172.23.233.51\", \"Value\": 459.0}, {\"Date/time\": \"04/06 15\", \"Source_IP\": \"172.23.233.51\", \"Value\": 503.0}, {\"Date/time\": \"04/06 16\", \"Source_IP\": \"172.23.233.51\", \"Value\": 329.0}, {\"Date/time\": \"04/06 17\", \"Source_IP\": \"172.23.233.51\", \"Value\": 119.0}, {\"Date/time\": \"04/05 17\", \"Source_IP\": \"172.23.235.58\", \"Value\": 0.0}, {\"Date/time\": \"04/05 18\", \"Source_IP\": \"172.23.235.58\", \"Value\": 0.0}, {\"Date/time\": \"04/05 19\", \"Source_IP\": \"172.23.235.58\", \"Value\": 0.0}, {\"Date/time\": \"04/05 20\", \"Source_IP\": \"172.23.235.58\", \"Value\": 0.0}, {\"Date/time\": \"04/05 21\", \"Source_IP\": \"172.23.235.58\", \"Value\": 16.0}, {\"Date/time\": \"04/05 22\", \"Source_IP\": \"172.23.235.58\", \"Value\": 18.0}, {\"Date/time\": \"04/05 23\", \"Source_IP\": \"172.23.235.58\", \"Value\": 297.0}, {\"Date/time\": \"04/06 00\", \"Source_IP\": \"172.23.235.58\", \"Value\": 1127.0}, {\"Date/time\": \"04/06 01\", \"Source_IP\": \"172.23.235.58\", \"Value\": 350.0}, {\"Date/time\": \"04/06 02\", \"Source_IP\": \"172.23.235.58\", \"Value\": 442.0}, {\"Date/time\": \"04/06 03\", \"Source_IP\": \"172.23.235.58\", \"Value\": 471.0}, {\"Date/time\": \"04/06 04\", \"Source_IP\": \"172.23.235.58\", \"Value\": 379.0}, {\"Date/time\": \"04/06 05\", \"Source_IP\": \"172.23.235.58\", \"Value\": 400.0}, {\"Date/time\": \"04/06 06\", \"Source_IP\": \"172.23.235.58\", \"Value\": 301.0}, {\"Date/time\": \"04/06 07\", \"Source_IP\": \"172.23.235.58\", \"Value\": 363.0}, {\"Date/time\": \"04/06 08\", \"Source_IP\": \"172.23.235.58\", \"Value\": 541.0}, {\"Date/time\": \"04/06 09\", \"Source_IP\": \"172.23.235.58\", \"Value\": 509.0}, {\"Date/time\": \"04/06 10\", \"Source_IP\": \"172.23.235.58\", \"Value\": 351.0}, {\"Date/time\": \"04/06 11\", \"Source_IP\": \"172.23.235.58\", \"Value\": 359.0}, {\"Date/time\": \"04/06 12\", \"Source_IP\": \"172.23.235.58\", \"Value\": 434.0}, {\"Date/time\": \"04/06 13\", \"Source_IP\": \"172.23.235.58\", \"Value\": 400.0}, {\"Date/time\": \"04/06 14\", \"Source_IP\": \"172.23.235.58\", \"Value\": 439.0}, {\"Date/time\": \"04/06 15\", \"Source_IP\": \"172.23.235.58\", \"Value\": 538.0}, {\"Date/time\": \"04/06 16\", \"Source_IP\": \"172.23.235.58\", \"Value\": 323.0}, {\"Date/time\": \"04/06 17\", \"Source_IP\": \"172.23.235.58\", \"Value\": 97.0}, {\"Date/time\": \"04/05 17\", \"Source_IP\": \"172.23.232.253\", \"Value\": 0.0}, {\"Date/time\": \"04/05 18\", \"Source_IP\": \"172.23.232.253\", \"Value\": 0.0}, {\"Date/time\": \"04/05 19\", \"Source_IP\": \"172.23.232.253\", \"Value\": 0.0}, {\"Date/time\": \"04/05 20\", \"Source_IP\": \"172.23.232.253\", \"Value\": 0.0}, {\"Date/time\": \"04/05 21\", \"Source_IP\": \"172.23.232.253\", \"Value\": 0.0}, {\"Date/time\": \"04/05 22\", \"Source_IP\": \"172.23.232.253\", \"Value\": 6.0}, {\"Date/time\": \"04/05 23\", \"Source_IP\": \"172.23.232.253\", \"Value\": 1001.0}, {\"Date/time\": \"04/06 00\", \"Source_IP\": \"172.23.232.253\", \"Value\": 467.0}, {\"Date/time\": \"04/06 01\", \"Source_IP\": \"172.23.232.253\", \"Value\": 339.0}, {\"Date/time\": \"04/06 02\", \"Source_IP\": \"172.23.232.253\", \"Value\": 439.0}, {\"Date/time\": \"04/06 03\", \"Source_IP\": \"172.23.232.253\", \"Value\": 489.0}, {\"Date/time\": \"04/06 04\", \"Source_IP\": \"172.23.232.253\", \"Value\": 363.0}, {\"Date/time\": \"04/06 05\", \"Source_IP\": \"172.23.232.253\", \"Value\": 391.0}, {\"Date/time\": \"04/06 06\", \"Source_IP\": \"172.23.232.253\", \"Value\": 311.0}, {\"Date/time\": \"04/06 07\", \"Source_IP\": \"172.23.232.253\", \"Value\": 377.0}, {\"Date/time\": \"04/06 08\", \"Source_IP\": \"172.23.232.253\", \"Value\": 533.0}, {\"Date/time\": \"04/06 09\", \"Source_IP\": \"172.23.232.253\", \"Value\": 500.0}, {\"Date/time\": \"04/06 10\", \"Source_IP\": \"172.23.232.253\", \"Value\": 372.0}, {\"Date/time\": \"04/06 11\", \"Source_IP\": \"172.23.232.253\", \"Value\": 375.0}, {\"Date/time\": \"04/06 12\", \"Source_IP\": \"172.23.232.253\", \"Value\": 443.0}, {\"Date/time\": \"04/06 13\", \"Source_IP\": \"172.23.232.253\", \"Value\": 373.0}, {\"Date/time\": \"04/06 14\", \"Source_IP\": \"172.23.232.253\", \"Value\": 449.0}, {\"Date/time\": \"04/06 15\", \"Source_IP\": \"172.23.232.253\", \"Value\": 512.0}, {\"Date/time\": \"04/06 16\", \"Source_IP\": \"172.23.232.253\", \"Value\": 323.0}, {\"Date/time\": \"04/06 17\", \"Source_IP\": \"172.23.232.253\", \"Value\": 91.0}, {\"Date/time\": \"04/05 17\", \"Source_IP\": \"172.23.232.252\", \"Value\": 0.0}, {\"Date/time\": \"04/05 18\", \"Source_IP\": \"172.23.232.252\", \"Value\": 0.0}, {\"Date/time\": \"04/05 19\", \"Source_IP\": \"172.23.232.252\", \"Value\": 0.0}, {\"Date/time\": \"04/05 20\", \"Source_IP\": \"172.23.232.252\", \"Value\": 0.0}, {\"Date/time\": \"04/05 21\", \"Source_IP\": \"172.23.232.252\", \"Value\": 2.0}, {\"Date/time\": \"04/05 22\", \"Source_IP\": \"172.23.232.252\", \"Value\": 2.0}, {\"Date/time\": \"04/05 23\", \"Source_IP\": \"172.23.232.252\", \"Value\": 967.0}, {\"Date/time\": \"04/06 00\", \"Source_IP\": \"172.23.232.252\", \"Value\": 475.0}, {\"Date/time\": \"04/06 01\", \"Source_IP\": \"172.23.232.252\", \"Value\": 364.0}, {\"Date/time\": \"04/06 02\", \"Source_IP\": \"172.23.232.252\", \"Value\": 433.0}, {\"Date/time\": \"04/06 03\", \"Source_IP\": \"172.23.232.252\", \"Value\": 480.0}, {\"Date/time\": \"04/06 04\", \"Source_IP\": \"172.23.232.252\", \"Value\": 356.0}, {\"Date/time\": \"04/06 05\", \"Source_IP\": \"172.23.232.252\", \"Value\": 397.0}, {\"Date/time\": \"04/06 06\", \"Source_IP\": \"172.23.232.252\", \"Value\": 305.0}, {\"Date/time\": \"04/06 07\", \"Source_IP\": \"172.23.232.252\", \"Value\": 367.0}, {\"Date/time\": \"04/06 08\", \"Source_IP\": \"172.23.232.252\", \"Value\": 553.0}, {\"Date/time\": \"04/06 09\", \"Source_IP\": \"172.23.232.252\", \"Value\": 475.0}, {\"Date/time\": \"04/06 10\", \"Source_IP\": \"172.23.232.252\", \"Value\": 359.0}, {\"Date/time\": \"04/06 11\", \"Source_IP\": \"172.23.232.252\", \"Value\": 382.0}, {\"Date/time\": \"04/06 12\", \"Source_IP\": \"172.23.232.252\", \"Value\": 434.0}, {\"Date/time\": \"04/06 13\", \"Source_IP\": \"172.23.232.252\", \"Value\": 397.0}, {\"Date/time\": \"04/06 14\", \"Source_IP\": \"172.23.232.252\", \"Value\": 463.0}, {\"Date/time\": \"04/06 15\", \"Source_IP\": \"172.23.232.252\", \"Value\": 511.0}, {\"Date/time\": \"04/06 16\", \"Source_IP\": \"172.23.232.252\", \"Value\": 324.0}, {\"Date/time\": \"04/06 17\", \"Source_IP\": \"172.23.232.252\", \"Value\": 105.0}], \"data-a8253dfcce1ec7fc9d719cc140985f98\": [{\"Date/time\": \"04/05 17\", \"Dest_IP\": \"10.32.0.100\", \"Value\": 0.0}, {\"Date/time\": \"04/05 18\", \"Dest_IP\": \"10.32.0.100\", \"Value\": 138133.0}, {\"Date/time\": \"04/05 19\", \"Dest_IP\": \"10.32.0.100\", \"Value\": 267258.0}, {\"Date/time\": \"04/05 20\", \"Dest_IP\": \"10.32.0.100\", \"Value\": 256743.0}, {\"Date/time\": \"04/05 21\", \"Dest_IP\": \"10.32.0.100\", \"Value\": 206010.0}, {\"Date/time\": \"04/05 22\", \"Dest_IP\": \"10.32.0.100\", \"Value\": 272632.0}, {\"Date/time\": \"04/05 23\", \"Dest_IP\": \"10.32.0.100\", \"Value\": 287705.0}, {\"Date/time\": \"04/06 00\", \"Dest_IP\": \"10.32.0.100\", \"Value\": 197580.0}, {\"Date/time\": \"04/06 01\", \"Dest_IP\": \"10.32.0.100\", \"Value\": 217595.0}, {\"Date/time\": \"04/06 02\", \"Dest_IP\": \"10.32.0.100\", \"Value\": 249149.0}, {\"Date/time\": \"04/06 03\", \"Dest_IP\": \"10.32.0.100\", \"Value\": 224271.0}, {\"Date/time\": \"04/06 04\", \"Dest_IP\": \"10.32.0.100\", \"Value\": 212703.0}, {\"Date/time\": \"04/06 05\", \"Dest_IP\": \"10.32.0.100\", \"Value\": 226517.0}, {\"Date/time\": \"04/06 06\", \"Dest_IP\": \"10.32.0.100\", \"Value\": 331184.0}, {\"Date/time\": \"04/06 07\", \"Dest_IP\": \"10.32.0.100\", \"Value\": 330980.0}, {\"Date/time\": \"04/06 08\", \"Dest_IP\": \"10.32.0.100\", \"Value\": 205672.0}, {\"Date/time\": \"04/06 09\", \"Dest_IP\": \"10.32.0.100\", \"Value\": 189551.0}, {\"Date/time\": \"04/06 10\", \"Dest_IP\": \"10.32.0.100\", \"Value\": 226784.0}, {\"Date/time\": \"04/06 11\", \"Dest_IP\": \"10.32.0.100\", \"Value\": 368332.0}, {\"Date/time\": \"04/06 12\", \"Dest_IP\": \"10.32.0.100\", \"Value\": 269670.0}, {\"Date/time\": \"04/06 13\", \"Dest_IP\": \"10.32.0.100\", \"Value\": 211799.0}, {\"Date/time\": \"04/06 14\", \"Dest_IP\": \"10.32.0.100\", \"Value\": 92456.0}, {\"Date/time\": \"04/06 15\", \"Dest_IP\": \"10.32.0.100\", \"Value\": 129016.0}, {\"Date/time\": \"04/06 16\", \"Dest_IP\": \"10.32.0.100\", \"Value\": 140507.0}, {\"Date/time\": \"04/06 17\", \"Dest_IP\": \"10.32.0.100\", \"Value\": 21055.0}, {\"Date/time\": \"04/05 17\", \"Dest_IP\": \"10.32.1.201\", \"Value\": 0.0}, {\"Date/time\": \"04/05 18\", \"Dest_IP\": \"10.32.1.201\", \"Value\": 15240.0}, {\"Date/time\": \"04/05 19\", \"Dest_IP\": \"10.32.1.201\", \"Value\": 24930.0}, {\"Date/time\": \"04/05 20\", \"Dest_IP\": \"10.32.1.201\", \"Value\": 25282.0}, {\"Date/time\": \"04/05 21\", \"Dest_IP\": \"10.32.1.201\", \"Value\": 25605.0}, {\"Date/time\": \"04/05 22\", \"Dest_IP\": \"10.32.1.201\", \"Value\": 25328.0}, {\"Date/time\": \"04/05 23\", \"Dest_IP\": \"10.32.1.201\", \"Value\": 25949.0}, {\"Date/time\": \"04/06 00\", \"Dest_IP\": \"10.32.1.201\", \"Value\": 25136.0}, {\"Date/time\": \"04/06 01\", \"Dest_IP\": \"10.32.1.201\", \"Value\": 24616.0}, {\"Date/time\": \"04/06 02\", \"Dest_IP\": \"10.32.1.201\", \"Value\": 24116.0}, {\"Date/time\": \"04/06 03\", \"Dest_IP\": \"10.32.1.201\", \"Value\": 24593.0}, {\"Date/time\": \"04/06 04\", \"Dest_IP\": \"10.32.1.201\", \"Value\": 24571.0}, {\"Date/time\": \"04/06 05\", \"Dest_IP\": \"10.32.1.201\", \"Value\": 24691.0}, {\"Date/time\": \"04/06 06\", \"Dest_IP\": \"10.32.1.201\", \"Value\": 24177.0}, {\"Date/time\": \"04/06 07\", \"Dest_IP\": \"10.32.1.201\", \"Value\": 24689.0}, {\"Date/time\": \"04/06 08\", \"Dest_IP\": \"10.32.1.201\", \"Value\": 24409.0}, {\"Date/time\": \"04/06 09\", \"Dest_IP\": \"10.32.1.201\", \"Value\": 24481.0}, {\"Date/time\": \"04/06 10\", \"Dest_IP\": \"10.32.1.201\", \"Value\": 24248.0}, {\"Date/time\": \"04/06 11\", \"Dest_IP\": \"10.32.1.201\", \"Value\": 24728.0}, {\"Date/time\": \"04/06 12\", \"Dest_IP\": \"10.32.1.201\", \"Value\": 24694.0}, {\"Date/time\": \"04/06 13\", \"Dest_IP\": \"10.32.1.201\", \"Value\": 24580.0}, {\"Date/time\": \"04/06 14\", \"Dest_IP\": \"10.32.1.201\", \"Value\": 9451.0}, {\"Date/time\": \"04/06 15\", \"Dest_IP\": \"10.32.1.201\", \"Value\": 54.0}, {\"Date/time\": \"04/06 16\", \"Dest_IP\": \"10.32.1.201\", \"Value\": 0.0}, {\"Date/time\": \"04/06 17\", \"Dest_IP\": \"10.32.1.201\", \"Value\": 0.0}, {\"Date/time\": \"04/05 17\", \"Dest_IP\": \"10.32.0.209\", \"Value\": 0.0}, {\"Date/time\": \"04/05 18\", \"Dest_IP\": \"10.32.0.209\", \"Value\": 15484.0}, {\"Date/time\": \"04/05 19\", \"Dest_IP\": \"10.32.0.209\", \"Value\": 25370.0}, {\"Date/time\": \"04/05 20\", \"Dest_IP\": \"10.32.0.209\", \"Value\": 25241.0}, {\"Date/time\": \"04/05 21\", \"Dest_IP\": \"10.32.0.209\", \"Value\": 25298.0}, {\"Date/time\": \"04/05 22\", \"Dest_IP\": \"10.32.0.209\", \"Value\": 25776.0}, {\"Date/time\": \"04/05 23\", \"Dest_IP\": \"10.32.0.209\", \"Value\": 25977.0}, {\"Date/time\": \"04/06 00\", \"Dest_IP\": \"10.32.0.209\", \"Value\": 24711.0}, {\"Date/time\": \"04/06 01\", \"Dest_IP\": \"10.32.0.209\", \"Value\": 24537.0}, {\"Date/time\": \"04/06 02\", \"Dest_IP\": \"10.32.0.209\", \"Value\": 24481.0}, {\"Date/time\": \"04/06 03\", \"Dest_IP\": \"10.32.0.209\", \"Value\": 24519.0}, {\"Date/time\": \"04/06 04\", \"Dest_IP\": \"10.32.0.209\", \"Value\": 24132.0}, {\"Date/time\": \"04/06 05\", \"Dest_IP\": \"10.32.0.209\", \"Value\": 24374.0}, {\"Date/time\": \"04/06 06\", \"Dest_IP\": \"10.32.0.209\", \"Value\": 24454.0}, {\"Date/time\": \"04/06 07\", \"Dest_IP\": \"10.32.0.209\", \"Value\": 24442.0}, {\"Date/time\": \"04/06 08\", \"Dest_IP\": \"10.32.0.209\", \"Value\": 24771.0}, {\"Date/time\": \"04/06 09\", \"Dest_IP\": \"10.32.0.209\", \"Value\": 24349.0}, {\"Date/time\": \"04/06 10\", \"Dest_IP\": \"10.32.0.209\", \"Value\": 24353.0}, {\"Date/time\": \"04/06 11\", \"Dest_IP\": \"10.32.0.209\", \"Value\": 24898.0}, {\"Date/time\": \"04/06 12\", \"Dest_IP\": \"10.32.0.209\", \"Value\": 24323.0}, {\"Date/time\": \"04/06 13\", \"Dest_IP\": \"10.32.0.209\", \"Value\": 24622.0}, {\"Date/time\": \"04/06 14\", \"Dest_IP\": \"10.32.0.209\", \"Value\": 9256.0}, {\"Date/time\": \"04/06 15\", \"Dest_IP\": \"10.32.0.209\", \"Value\": 58.0}, {\"Date/time\": \"04/06 16\", \"Dest_IP\": \"10.32.0.209\", \"Value\": 0.0}, {\"Date/time\": \"04/06 17\", \"Dest_IP\": \"10.32.0.209\", \"Value\": 0.0}, {\"Date/time\": \"04/05 17\", \"Dest_IP\": \"10.32.1.204\", \"Value\": 0.0}, {\"Date/time\": \"04/05 18\", \"Dest_IP\": \"10.32.1.204\", \"Value\": 15621.0}, {\"Date/time\": \"04/05 19\", \"Dest_IP\": \"10.32.1.204\", \"Value\": 24733.0}, {\"Date/time\": \"04/05 20\", \"Dest_IP\": \"10.32.1.204\", \"Value\": 24926.0}, {\"Date/time\": \"04/05 21\", \"Dest_IP\": \"10.32.1.204\", \"Value\": 25524.0}, {\"Date/time\": \"04/05 22\", \"Dest_IP\": \"10.32.1.204\", \"Value\": 25509.0}, {\"Date/time\": \"04/05 23\", \"Dest_IP\": \"10.32.1.204\", \"Value\": 25642.0}, {\"Date/time\": \"04/06 00\", \"Dest_IP\": \"10.32.1.204\", \"Value\": 24913.0}, {\"Date/time\": \"04/06 01\", \"Dest_IP\": \"10.32.1.204\", \"Value\": 24796.0}, {\"Date/time\": \"04/06 02\", \"Dest_IP\": \"10.32.1.204\", \"Value\": 25227.0}, {\"Date/time\": \"04/06 03\", \"Dest_IP\": \"10.32.1.204\", \"Value\": 24572.0}, {\"Date/time\": \"04/06 04\", \"Dest_IP\": \"10.32.1.204\", \"Value\": 24484.0}, {\"Date/time\": \"04/06 05\", \"Dest_IP\": \"10.32.1.204\", \"Value\": 24125.0}, {\"Date/time\": \"04/06 06\", \"Dest_IP\": \"10.32.1.204\", \"Value\": 24514.0}, {\"Date/time\": \"04/06 07\", \"Dest_IP\": \"10.32.1.204\", \"Value\": 24271.0}, {\"Date/time\": \"04/06 08\", \"Dest_IP\": \"10.32.1.204\", \"Value\": 24439.0}, {\"Date/time\": \"04/06 09\", \"Dest_IP\": \"10.32.1.204\", \"Value\": 24924.0}, {\"Date/time\": \"04/06 10\", \"Dest_IP\": \"10.32.1.204\", \"Value\": 24427.0}, {\"Date/time\": \"04/06 11\", \"Dest_IP\": \"10.32.1.204\", \"Value\": 24315.0}, {\"Date/time\": \"04/06 12\", \"Dest_IP\": \"10.32.1.204\", \"Value\": 24425.0}, {\"Date/time\": \"04/06 13\", \"Dest_IP\": \"10.32.1.204\", \"Value\": 24553.0}, {\"Date/time\": \"04/06 14\", \"Dest_IP\": \"10.32.1.204\", \"Value\": 9259.0}, {\"Date/time\": \"04/06 15\", \"Dest_IP\": \"10.32.1.204\", \"Value\": 86.0}, {\"Date/time\": \"04/06 16\", \"Dest_IP\": \"10.32.1.204\", \"Value\": 0.0}, {\"Date/time\": \"04/06 17\", \"Dest_IP\": \"10.32.1.204\", \"Value\": 0.0}, {\"Date/time\": \"04/05 17\", \"Dest_IP\": \"10.32.0.204\", \"Value\": 0.0}, {\"Date/time\": \"04/05 18\", \"Dest_IP\": \"10.32.0.204\", \"Value\": 15448.0}, {\"Date/time\": \"04/05 19\", \"Dest_IP\": \"10.32.0.204\", \"Value\": 25396.0}, {\"Date/time\": \"04/05 20\", \"Dest_IP\": \"10.32.0.204\", \"Value\": 25060.0}, {\"Date/time\": \"04/05 21\", \"Dest_IP\": \"10.32.0.204\", \"Value\": 24897.0}, {\"Date/time\": \"04/05 22\", \"Dest_IP\": \"10.32.0.204\", \"Value\": 25066.0}, {\"Date/time\": \"04/05 23\", \"Dest_IP\": \"10.32.0.204\", \"Value\": 25299.0}, {\"Date/time\": \"04/06 00\", \"Dest_IP\": \"10.32.0.204\", \"Value\": 24682.0}, {\"Date/time\": \"04/06 01\", \"Dest_IP\": \"10.32.0.204\", \"Value\": 24417.0}, {\"Date/time\": \"04/06 02\", \"Dest_IP\": \"10.32.0.204\", \"Value\": 24774.0}, {\"Date/time\": \"04/06 03\", \"Dest_IP\": \"10.32.0.204\", \"Value\": 24716.0}, {\"Date/time\": \"04/06 04\", \"Dest_IP\": \"10.32.0.204\", \"Value\": 24349.0}, {\"Date/time\": \"04/06 05\", \"Dest_IP\": \"10.32.0.204\", \"Value\": 24693.0}, {\"Date/time\": \"04/06 06\", \"Dest_IP\": \"10.32.0.204\", \"Value\": 24577.0}, {\"Date/time\": \"04/06 07\", \"Dest_IP\": \"10.32.0.204\", \"Value\": 24364.0}, {\"Date/time\": \"04/06 08\", \"Dest_IP\": \"10.32.0.204\", \"Value\": 24395.0}, {\"Date/time\": \"04/06 09\", \"Dest_IP\": \"10.32.0.204\", \"Value\": 24762.0}, {\"Date/time\": \"04/06 10\", \"Dest_IP\": \"10.32.0.204\", \"Value\": 24910.0}, {\"Date/time\": \"04/06 11\", \"Dest_IP\": \"10.32.0.204\", \"Value\": 24378.0}, {\"Date/time\": \"04/06 12\", \"Dest_IP\": \"10.32.0.204\", \"Value\": 24540.0}, {\"Date/time\": \"04/06 13\", \"Dest_IP\": \"10.32.0.204\", \"Value\": 24621.0}, {\"Date/time\": \"04/06 14\", \"Dest_IP\": \"10.32.0.204\", \"Value\": 9180.0}, {\"Date/time\": \"04/06 15\", \"Dest_IP\": \"10.32.0.204\", \"Value\": 58.0}, {\"Date/time\": \"04/06 16\", \"Dest_IP\": \"10.32.0.204\", \"Value\": 0.0}, {\"Date/time\": \"04/06 17\", \"Dest_IP\": \"10.32.0.204\", \"Value\": 0.0}, {\"Date/time\": \"04/05 17\", \"Dest_IP\": \"10.32.1.202\", \"Value\": 0.0}, {\"Date/time\": \"04/05 18\", \"Dest_IP\": \"10.32.1.202\", \"Value\": 15704.0}, {\"Date/time\": \"04/05 19\", \"Dest_IP\": \"10.32.1.202\", \"Value\": 25262.0}, {\"Date/time\": \"04/05 20\", \"Dest_IP\": \"10.32.1.202\", \"Value\": 24951.0}, {\"Date/time\": \"04/05 21\", \"Dest_IP\": \"10.32.1.202\", \"Value\": 25291.0}, {\"Date/time\": \"04/05 22\", \"Dest_IP\": \"10.32.1.202\", \"Value\": 25533.0}, {\"Date/time\": \"04/05 23\", \"Dest_IP\": \"10.32.1.202\", \"Value\": 25863.0}, {\"Date/time\": \"04/06 00\", \"Dest_IP\": \"10.32.1.202\", \"Value\": 24465.0}, {\"Date/time\": \"04/06 01\", \"Dest_IP\": \"10.32.1.202\", \"Value\": 24128.0}, {\"Date/time\": \"04/06 02\", \"Dest_IP\": \"10.32.1.202\", \"Value\": 24741.0}, {\"Date/time\": \"04/06 03\", \"Dest_IP\": \"10.32.1.202\", \"Value\": 24208.0}, {\"Date/time\": \"04/06 04\", \"Dest_IP\": \"10.32.1.202\", \"Value\": 24096.0}, {\"Date/time\": \"04/06 05\", \"Dest_IP\": \"10.32.1.202\", \"Value\": 24843.0}, {\"Date/time\": \"04/06 06\", \"Dest_IP\": \"10.32.1.202\", \"Value\": 24566.0}, {\"Date/time\": \"04/06 07\", \"Dest_IP\": \"10.32.1.202\", \"Value\": 24411.0}, {\"Date/time\": \"04/06 08\", \"Dest_IP\": \"10.32.1.202\", \"Value\": 24624.0}, {\"Date/time\": \"04/06 09\", \"Dest_IP\": \"10.32.1.202\", \"Value\": 24332.0}, {\"Date/time\": \"04/06 10\", \"Dest_IP\": \"10.32.1.202\", \"Value\": 24287.0}, {\"Date/time\": \"04/06 11\", \"Dest_IP\": \"10.32.1.202\", \"Value\": 24747.0}, {\"Date/time\": \"04/06 12\", \"Dest_IP\": \"10.32.1.202\", \"Value\": 24546.0}, {\"Date/time\": \"04/06 13\", \"Dest_IP\": \"10.32.1.202\", \"Value\": 24627.0}, {\"Date/time\": \"04/06 14\", \"Dest_IP\": \"10.32.1.202\", \"Value\": 9234.0}, {\"Date/time\": \"04/06 15\", \"Dest_IP\": \"10.32.1.202\", \"Value\": 62.0}, {\"Date/time\": \"04/06 16\", \"Dest_IP\": \"10.32.1.202\", \"Value\": 0.0}, {\"Date/time\": \"04/06 17\", \"Dest_IP\": \"10.32.1.202\", \"Value\": 0.0}, {\"Date/time\": \"04/05 17\", \"Dest_IP\": \"10.32.1.203\", \"Value\": 0.0}, {\"Date/time\": \"04/05 18\", \"Dest_IP\": \"10.32.1.203\", \"Value\": 15487.0}, {\"Date/time\": \"04/05 19\", \"Dest_IP\": \"10.32.1.203\", \"Value\": 25015.0}, {\"Date/time\": \"04/05 20\", \"Dest_IP\": \"10.32.1.203\", \"Value\": 25003.0}, {\"Date/time\": \"04/05 21\", \"Dest_IP\": \"10.32.1.203\", \"Value\": 25694.0}, {\"Date/time\": \"04/05 22\", \"Dest_IP\": \"10.32.1.203\", \"Value\": 25640.0}, {\"Date/time\": \"04/05 23\", \"Dest_IP\": \"10.32.1.203\", \"Value\": 25230.0}, {\"Date/time\": \"04/06 00\", \"Dest_IP\": \"10.32.1.203\", \"Value\": 24858.0}, {\"Date/time\": \"04/06 01\", \"Dest_IP\": \"10.32.1.203\", \"Value\": 24307.0}, {\"Date/time\": \"04/06 02\", \"Dest_IP\": \"10.32.1.203\", \"Value\": 24243.0}, {\"Date/time\": \"04/06 03\", \"Dest_IP\": \"10.32.1.203\", \"Value\": 24626.0}, {\"Date/time\": \"04/06 04\", \"Dest_IP\": \"10.32.1.203\", \"Value\": 24561.0}, {\"Date/time\": \"04/06 05\", \"Dest_IP\": \"10.32.1.203\", \"Value\": 24411.0}, {\"Date/time\": \"04/06 06\", \"Dest_IP\": \"10.32.1.203\", \"Value\": 24653.0}, {\"Date/time\": \"04/06 07\", \"Dest_IP\": \"10.32.1.203\", \"Value\": 24570.0}, {\"Date/time\": \"04/06 08\", \"Dest_IP\": \"10.32.1.203\", \"Value\": 24300.0}, {\"Date/time\": \"04/06 09\", \"Dest_IP\": \"10.32.1.203\", \"Value\": 24688.0}, {\"Date/time\": \"04/06 10\", \"Dest_IP\": \"10.32.1.203\", \"Value\": 24640.0}, {\"Date/time\": \"04/06 11\", \"Dest_IP\": \"10.32.1.203\", \"Value\": 24710.0}, {\"Date/time\": \"04/06 12\", \"Dest_IP\": \"10.32.1.203\", \"Value\": 24387.0}, {\"Date/time\": \"04/06 13\", \"Dest_IP\": \"10.32.1.203\", \"Value\": 24063.0}, {\"Date/time\": \"04/06 14\", \"Dest_IP\": \"10.32.1.203\", \"Value\": 9199.0}, {\"Date/time\": \"04/06 15\", \"Dest_IP\": \"10.32.1.203\", \"Value\": 80.0}, {\"Date/time\": \"04/06 16\", \"Dest_IP\": \"10.32.1.203\", \"Value\": 0.0}, {\"Date/time\": \"04/06 17\", \"Dest_IP\": \"10.32.1.203\", \"Value\": 0.0}, {\"Date/time\": \"04/05 17\", \"Dest_IP\": \"10.32.0.206\", \"Value\": 0.0}, {\"Date/time\": \"04/05 18\", \"Dest_IP\": \"10.32.0.206\", \"Value\": 15442.0}, {\"Date/time\": \"04/05 19\", \"Dest_IP\": \"10.32.0.206\", \"Value\": 25165.0}, {\"Date/time\": \"04/05 20\", \"Dest_IP\": \"10.32.0.206\", \"Value\": 25360.0}, {\"Date/time\": \"04/05 21\", \"Dest_IP\": \"10.32.0.206\", \"Value\": 25572.0}, {\"Date/time\": \"04/05 22\", \"Dest_IP\": \"10.32.0.206\", \"Value\": 25100.0}, {\"Date/time\": \"04/05 23\", \"Dest_IP\": \"10.32.0.206\", \"Value\": 25533.0}, {\"Date/time\": \"04/06 00\", \"Dest_IP\": \"10.32.0.206\", \"Value\": 24257.0}, {\"Date/time\": \"04/06 01\", \"Dest_IP\": \"10.32.0.206\", \"Value\": 24260.0}, {\"Date/time\": \"04/06 02\", \"Dest_IP\": \"10.32.0.206\", \"Value\": 24560.0}, {\"Date/time\": \"04/06 03\", \"Dest_IP\": \"10.32.0.206\", \"Value\": 24473.0}, {\"Date/time\": \"04/06 04\", \"Dest_IP\": \"10.32.0.206\", \"Value\": 24603.0}, {\"Date/time\": \"04/06 05\", \"Dest_IP\": \"10.32.0.206\", \"Value\": 24677.0}, {\"Date/time\": \"04/06 06\", \"Dest_IP\": \"10.32.0.206\", \"Value\": 24564.0}, {\"Date/time\": \"04/06 07\", \"Dest_IP\": \"10.32.0.206\", \"Value\": 24718.0}, {\"Date/time\": \"04/06 08\", \"Dest_IP\": \"10.32.0.206\", \"Value\": 24624.0}, {\"Date/time\": \"04/06 09\", \"Dest_IP\": \"10.32.0.206\", \"Value\": 23833.0}, {\"Date/time\": \"04/06 10\", \"Dest_IP\": \"10.32.0.206\", \"Value\": 24138.0}, {\"Date/time\": \"04/06 11\", \"Dest_IP\": \"10.32.0.206\", \"Value\": 24835.0}, {\"Date/time\": \"04/06 12\", \"Dest_IP\": \"10.32.0.206\", \"Value\": 24367.0}, {\"Date/time\": \"04/06 13\", \"Dest_IP\": \"10.32.0.206\", \"Value\": 24655.0}, {\"Date/time\": \"04/06 14\", \"Dest_IP\": \"10.32.0.206\", \"Value\": 9527.0}, {\"Date/time\": \"04/06 15\", \"Dest_IP\": \"10.32.0.206\", \"Value\": 74.0}, {\"Date/time\": \"04/06 16\", \"Dest_IP\": \"10.32.0.206\", \"Value\": 0.0}, {\"Date/time\": \"04/06 17\", \"Dest_IP\": \"10.32.0.206\", \"Value\": 0.0}, {\"Date/time\": \"04/05 17\", \"Dest_IP\": \"10.32.1.206\", \"Value\": 0.0}, {\"Date/time\": \"04/05 18\", \"Dest_IP\": \"10.32.1.206\", \"Value\": 15518.0}, {\"Date/time\": \"04/05 19\", \"Dest_IP\": \"10.32.1.206\", \"Value\": 24829.0}, {\"Date/time\": \"04/05 20\", \"Dest_IP\": \"10.32.1.206\", \"Value\": 25243.0}, {\"Date/time\": \"04/05 21\", \"Dest_IP\": \"10.32.1.206\", \"Value\": 25173.0}, {\"Date/time\": \"04/05 22\", \"Dest_IP\": \"10.32.1.206\", \"Value\": 25531.0}, {\"Date/time\": \"04/05 23\", \"Dest_IP\": \"10.32.1.206\", \"Value\": 25309.0}, {\"Date/time\": \"04/06 00\", \"Dest_IP\": \"10.32.1.206\", \"Value\": 24976.0}, {\"Date/time\": \"04/06 01\", \"Dest_IP\": \"10.32.1.206\", \"Value\": 24640.0}, {\"Date/time\": \"04/06 02\", \"Dest_IP\": \"10.32.1.206\", \"Value\": 24323.0}, {\"Date/time\": \"04/06 03\", \"Dest_IP\": \"10.32.1.206\", \"Value\": 24270.0}, {\"Date/time\": \"04/06 04\", \"Dest_IP\": \"10.32.1.206\", \"Value\": 24483.0}, {\"Date/time\": \"04/06 05\", \"Dest_IP\": \"10.32.1.206\", \"Value\": 24647.0}, {\"Date/time\": \"04/06 06\", \"Dest_IP\": \"10.32.1.206\", \"Value\": 24955.0}, {\"Date/time\": \"04/06 07\", \"Dest_IP\": \"10.32.1.206\", \"Value\": 24474.0}, {\"Date/time\": \"04/06 08\", \"Dest_IP\": \"10.32.1.206\", \"Value\": 24607.0}, {\"Date/time\": \"04/06 09\", \"Dest_IP\": \"10.32.1.206\", \"Value\": 24294.0}, {\"Date/time\": \"04/06 10\", \"Dest_IP\": \"10.32.1.206\", \"Value\": 24269.0}, {\"Date/time\": \"04/06 11\", \"Dest_IP\": \"10.32.1.206\", \"Value\": 24481.0}, {\"Date/time\": \"04/06 12\", \"Dest_IP\": \"10.32.1.206\", \"Value\": 24610.0}, {\"Date/time\": \"04/06 13\", \"Dest_IP\": \"10.32.1.206\", \"Value\": 24247.0}, {\"Date/time\": \"04/06 14\", \"Dest_IP\": \"10.32.1.206\", \"Value\": 9166.0}, {\"Date/time\": \"04/06 15\", \"Dest_IP\": \"10.32.1.206\", \"Value\": 70.0}, {\"Date/time\": \"04/06 16\", \"Dest_IP\": \"10.32.1.206\", \"Value\": 0.0}, {\"Date/time\": \"04/06 17\", \"Dest_IP\": \"10.32.1.206\", \"Value\": 0.0}, {\"Date/time\": \"04/05 17\", \"Dest_IP\": \"10.32.0.201\", \"Value\": 0.0}, {\"Date/time\": \"04/05 18\", \"Dest_IP\": \"10.32.0.201\", \"Value\": 15709.0}, {\"Date/time\": \"04/05 19\", \"Dest_IP\": \"10.32.0.201\", \"Value\": 24931.0}, {\"Date/time\": \"04/05 20\", \"Dest_IP\": \"10.32.0.201\", \"Value\": 24898.0}, {\"Date/time\": \"04/05 21\", \"Dest_IP\": \"10.32.0.201\", \"Value\": 25504.0}, {\"Date/time\": \"04/05 22\", \"Dest_IP\": \"10.32.0.201\", \"Value\": 25409.0}, {\"Date/time\": \"04/05 23\", \"Dest_IP\": \"10.32.0.201\", \"Value\": 26102.0}, {\"Date/time\": \"04/06 00\", \"Dest_IP\": \"10.32.0.201\", \"Value\": 24752.0}, {\"Date/time\": \"04/06 01\", \"Dest_IP\": \"10.32.0.201\", \"Value\": 24449.0}, {\"Date/time\": \"04/06 02\", \"Dest_IP\": \"10.32.0.201\", \"Value\": 24340.0}, {\"Date/time\": \"04/06 03\", \"Dest_IP\": \"10.32.0.201\", \"Value\": 24522.0}, {\"Date/time\": \"04/06 04\", \"Dest_IP\": \"10.32.0.201\", \"Value\": 24132.0}, {\"Date/time\": \"04/06 05\", \"Dest_IP\": \"10.32.0.201\", \"Value\": 24535.0}, {\"Date/time\": \"04/06 06\", \"Dest_IP\": \"10.32.0.201\", \"Value\": 24259.0}, {\"Date/time\": \"04/06 07\", \"Dest_IP\": \"10.32.0.201\", \"Value\": 24695.0}, {\"Date/time\": \"04/06 08\", \"Dest_IP\": \"10.32.0.201\", \"Value\": 24411.0}, {\"Date/time\": \"04/06 09\", \"Dest_IP\": \"10.32.0.201\", \"Value\": 24224.0}, {\"Date/time\": \"04/06 10\", \"Dest_IP\": \"10.32.0.201\", \"Value\": 24439.0}, {\"Date/time\": \"04/06 11\", \"Dest_IP\": \"10.32.0.201\", \"Value\": 24376.0}, {\"Date/time\": \"04/06 12\", \"Dest_IP\": \"10.32.0.201\", \"Value\": 24795.0}, {\"Date/time\": \"04/06 13\", \"Dest_IP\": \"10.32.0.201\", \"Value\": 24248.0}, {\"Date/time\": \"04/06 14\", \"Dest_IP\": \"10.32.0.201\", \"Value\": 9123.0}, {\"Date/time\": \"04/06 15\", \"Dest_IP\": \"10.32.0.201\", \"Value\": 66.0}, {\"Date/time\": \"04/06 16\", \"Dest_IP\": \"10.32.0.201\", \"Value\": 0.0}, {\"Date/time\": \"04/06 17\", \"Dest_IP\": \"10.32.0.201\", \"Value\": 0.0}]}}, {\"mode\": \"vega-lite\"});\n",
       "</script>"
      ],
      "text/plain": [
       "alt.HConcatChart(...)"
      ]
     },
     "execution_count": 22,
     "metadata": {},
     "output_type": "execute_result"
    }
   ],
   "source": [
    "# plot for Source IPs and Destination IPs for firewall_06\n",
    "melted_06_source = filtered_06_source.melt(id_vars='Date/time', var_name='Source_IP', value_name='Value')\n",
    "melted_06_source = melted_06_source.dropna(subset=['Date/time'])\n",
    "\n",
    "melted_06_dest = filtered_06_dest.melt(id_vars='Date/time', var_name='Dest_IP', value_name='Value')\n",
    "melted_06_dest = melted_06_dest.dropna(subset=['Date/time'])\n",
    "\n",
    "chart1 = alt.Chart(melted_06_source).mark_bar().encode(\n",
    "    x='Date/time:O',\n",
    "    y='Value:Q',\n",
    "    color=alt.Color('Source_IP:N', scale = alt.Scale(scheme='category10')),\n",
    "    tooltip=['Date/time:O', 'Source_IP:N', 'Value:Q']\n",
    ").properties(\n",
    "    width=300,\n",
    "    height=400,\n",
    "    title='Day 1 Source IP Counts Over Time'\n",
    ")\n",
    "\n",
    "chart2 = alt.Chart(melted_06_dest).mark_bar().encode(\n",
    "    x='Date/time:O',\n",
    "    y='Value:Q',\n",
    "    color=alt.Color('Dest_IP:N', scale = alt.Scale(scheme='plasma')),\n",
    "    tooltip=['Date/time:O', 'Dest_IP:N', 'Value:Q']\n",
    ").properties(\n",
    "    width=300,\n",
    "    height=400,\n",
    "    title='Day 1 Destination IP Counts Over Time'\n",
    ")\n",
    "\n",
    "chart1 | chart2"
   ]
  },
  {
   "cell_type": "code",
   "execution_count": 23,
   "metadata": {},
   "outputs": [
    {
     "data": {
      "text/html": [
       "\n",
       "<style>\n",
       "  #altair-viz-f13d66b81e8d48d1b6aac604f36c3e66.vega-embed {\n",
       "    width: 100%;\n",
       "    display: flex;\n",
       "  }\n",
       "\n",
       "  #altair-viz-f13d66b81e8d48d1b6aac604f36c3e66.vega-embed details,\n",
       "  #altair-viz-f13d66b81e8d48d1b6aac604f36c3e66.vega-embed details summary {\n",
       "    position: relative;\n",
       "  }\n",
       "</style>\n",
       "<div id=\"altair-viz-f13d66b81e8d48d1b6aac604f36c3e66\"></div>\n",
       "<script type=\"text/javascript\">\n",
       "  var VEGA_DEBUG = (typeof VEGA_DEBUG == \"undefined\") ? {} : VEGA_DEBUG;\n",
       "  (function(spec, embedOpt){\n",
       "    let outputDiv = document.currentScript.previousElementSibling;\n",
       "    if (outputDiv.id !== \"altair-viz-f13d66b81e8d48d1b6aac604f36c3e66\") {\n",
       "      outputDiv = document.getElementById(\"altair-viz-f13d66b81e8d48d1b6aac604f36c3e66\");\n",
       "    }\n",
       "    const paths = {\n",
       "      \"vega\": \"https://cdn.jsdelivr.net/npm/vega@5?noext\",\n",
       "      \"vega-lib\": \"https://cdn.jsdelivr.net/npm/vega-lib?noext\",\n",
       "      \"vega-lite\": \"https://cdn.jsdelivr.net/npm/vega-lite@5.15.1?noext\",\n",
       "      \"vega-embed\": \"https://cdn.jsdelivr.net/npm/vega-embed@6?noext\",\n",
       "    };\n",
       "\n",
       "    function maybeLoadScript(lib, version) {\n",
       "      var key = `${lib.replace(\"-\", \"\")}_version`;\n",
       "      return (VEGA_DEBUG[key] == version) ?\n",
       "        Promise.resolve(paths[lib]) :\n",
       "        new Promise(function(resolve, reject) {\n",
       "          var s = document.createElement('script');\n",
       "          document.getElementsByTagName(\"head\")[0].appendChild(s);\n",
       "          s.async = true;\n",
       "          s.onload = () => {\n",
       "            VEGA_DEBUG[key] = version;\n",
       "            return resolve(paths[lib]);\n",
       "          };\n",
       "          s.onerror = () => reject(`Error loading script: ${paths[lib]}`);\n",
       "          s.src = paths[lib];\n",
       "        });\n",
       "    }\n",
       "\n",
       "    function showError(err) {\n",
       "      outputDiv.innerHTML = `<div class=\"error\" style=\"color:red;\">${err}</div>`;\n",
       "      throw err;\n",
       "    }\n",
       "\n",
       "    function displayChart(vegaEmbed) {\n",
       "      vegaEmbed(outputDiv, spec, embedOpt)\n",
       "        .catch(err => showError(`Javascript Error: ${err.message}<br>This usually means there's a typo in your chart specification. See the javascript console for the full traceback.`));\n",
       "    }\n",
       "\n",
       "    if(typeof define === \"function\" && define.amd) {\n",
       "      requirejs.config({paths});\n",
       "      require([\"vega-embed\"], displayChart, err => showError(`Error loading script: ${err.message}`));\n",
       "    } else {\n",
       "      maybeLoadScript(\"vega\", \"5\")\n",
       "        .then(() => maybeLoadScript(\"vega-lite\", \"5.15.1\"))\n",
       "        .then(() => maybeLoadScript(\"vega-embed\", \"6\"))\n",
       "        .catch(showError)\n",
       "        .then(() => displayChart(vegaEmbed));\n",
       "    }\n",
       "  })({\"config\": {\"view\": {\"continuousWidth\": 300, \"continuousHeight\": 300}}, \"hconcat\": [{\"data\": {\"name\": \"data-c0c68f474f94fd1bead2ee9156a4170a\"}, \"mark\": {\"type\": \"bar\"}, \"encoding\": {\"color\": {\"field\": \"Source_IP\", \"scale\": {\"scheme\": \"category10\"}, \"type\": \"nominal\"}, \"tooltip\": [{\"field\": \"Date/time\", \"type\": \"ordinal\"}, {\"field\": \"Source_IP\", \"type\": \"nominal\"}, {\"field\": \"Value\", \"type\": \"quantitative\"}], \"x\": {\"field\": \"Date/time\", \"type\": \"ordinal\"}, \"y\": {\"field\": \"Value\", \"type\": \"quantitative\"}}, \"height\": 400, \"title\": \" Day 2 Source IP Counts Over Time\", \"width\": 300}, {\"data\": {\"name\": \"data-80027f0d5e642cf8ad4ad4d9374f019b\"}, \"mark\": {\"type\": \"bar\"}, \"encoding\": {\"color\": {\"field\": \"Dest_IP\", \"scale\": {\"scheme\": \"plasma\"}, \"type\": \"nominal\"}, \"tooltip\": [{\"field\": \"Date/time\", \"type\": \"ordinal\"}, {\"field\": \"Dest_IP\", \"type\": \"nominal\"}, {\"field\": \"Value\", \"type\": \"quantitative\"}], \"x\": {\"field\": \"Date/time\", \"type\": \"ordinal\"}, \"y\": {\"field\": \"Value\", \"type\": \"quantitative\"}}, \"height\": 400, \"title\": \"Day 2 Destination IP Counts Over Time\", \"width\": 300}], \"$schema\": \"https://vega.github.io/schema/vega-lite/v5.15.1.json\", \"datasets\": {\"data-c0c68f474f94fd1bead2ee9156a4170a\": [{\"Date/time\": \"04/06 17\", \"Source_IP\": \"172.23.252.10\", \"Value\": 0.0}, {\"Date/time\": \"04/06 18\", \"Source_IP\": \"172.23.252.10\", \"Value\": 5829.0}, {\"Date/time\": \"04/06 19\", \"Source_IP\": \"172.23.252.10\", \"Value\": 5691.0}, {\"Date/time\": \"04/06 20\", \"Source_IP\": \"172.23.252.10\", \"Value\": 10016.0}, {\"Date/time\": \"04/06 21\", \"Source_IP\": \"172.23.252.10\", \"Value\": 9591.0}, {\"Date/time\": \"04/06 22\", \"Source_IP\": \"172.23.252.10\", \"Value\": 7485.0}, {\"Date/time\": \"04/06 23\", \"Source_IP\": \"172.23.252.10\", \"Value\": 7903.0}, {\"Date/time\": \"04/07 00\", \"Source_IP\": \"172.23.252.10\", \"Value\": 9436.0}, {\"Date/time\": \"04/07 01\", \"Source_IP\": \"172.23.252.10\", \"Value\": 9007.0}, {\"Date/time\": \"04/07 02\", \"Source_IP\": \"172.23.252.10\", \"Value\": 6811.0}, {\"Date/time\": \"04/07 03\", \"Source_IP\": \"172.23.252.10\", \"Value\": 8129.0}, {\"Date/time\": \"04/07 04\", \"Source_IP\": \"172.23.252.10\", \"Value\": 5894.0}, {\"Date/time\": \"04/07 05\", \"Source_IP\": \"172.23.252.10\", \"Value\": 6762.0}, {\"Date/time\": \"04/07 06\", \"Source_IP\": \"172.23.252.10\", \"Value\": 10104.0}, {\"Date/time\": \"04/07 07\", \"Source_IP\": \"172.23.252.10\", \"Value\": 10742.0}, {\"Date/time\": \"04/07 08\", \"Source_IP\": \"172.23.252.10\", \"Value\": 8346.0}, {\"Date/time\": \"04/07 09\", \"Source_IP\": \"172.23.252.10\", \"Value\": 6.0}, {\"Date/time\": \"04/06 17\", \"Source_IP\": \"172.23.0.132\", \"Value\": 0.0}, {\"Date/time\": \"04/06 18\", \"Source_IP\": \"172.23.0.132\", \"Value\": 2735.0}, {\"Date/time\": \"04/06 19\", \"Source_IP\": \"172.23.0.132\", \"Value\": 3706.0}, {\"Date/time\": \"04/06 20\", \"Source_IP\": \"172.23.0.132\", \"Value\": 3017.0}, {\"Date/time\": \"04/06 21\", \"Source_IP\": \"172.23.0.132\", \"Value\": 2580.0}, {\"Date/time\": \"04/06 22\", \"Source_IP\": \"172.23.0.132\", \"Value\": 4088.0}, {\"Date/time\": \"04/06 23\", \"Source_IP\": \"172.23.0.132\", \"Value\": 3219.0}, {\"Date/time\": \"04/07 00\", \"Source_IP\": \"172.23.0.132\", \"Value\": 2563.0}, {\"Date/time\": \"04/07 01\", \"Source_IP\": \"172.23.0.132\", \"Value\": 2978.0}, {\"Date/time\": \"04/07 02\", \"Source_IP\": \"172.23.0.132\", \"Value\": 3263.0}, {\"Date/time\": \"04/07 03\", \"Source_IP\": \"172.23.0.132\", \"Value\": 2861.0}, {\"Date/time\": \"04/07 04\", \"Source_IP\": \"172.23.0.132\", \"Value\": 2763.0}, {\"Date/time\": \"04/07 05\", \"Source_IP\": \"172.23.0.132\", \"Value\": 3207.0}, {\"Date/time\": \"04/07 06\", \"Source_IP\": \"172.23.0.132\", \"Value\": 4972.0}, {\"Date/time\": \"04/07 07\", \"Source_IP\": \"172.23.0.132\", \"Value\": 3833.0}, {\"Date/time\": \"04/07 08\", \"Source_IP\": \"172.23.0.132\", \"Value\": 2540.0}, {\"Date/time\": \"04/07 09\", \"Source_IP\": \"172.23.0.132\", \"Value\": 0.0}, {\"Date/time\": \"04/06 17\", \"Source_IP\": \"172.23.232.253\", \"Value\": 0.0}, {\"Date/time\": \"04/06 18\", \"Source_IP\": \"172.23.232.253\", \"Value\": 293.0}, {\"Date/time\": \"04/06 19\", \"Source_IP\": \"172.23.232.253\", \"Value\": 322.0}, {\"Date/time\": \"04/06 20\", \"Source_IP\": \"172.23.232.253\", \"Value\": 501.0}, {\"Date/time\": \"04/06 21\", \"Source_IP\": \"172.23.232.253\", \"Value\": 491.0}, {\"Date/time\": \"04/06 22\", \"Source_IP\": \"172.23.232.253\", \"Value\": 387.0}, {\"Date/time\": \"04/06 23\", \"Source_IP\": \"172.23.232.253\", \"Value\": 423.0}, {\"Date/time\": \"04/07 00\", \"Source_IP\": \"172.23.232.253\", \"Value\": 486.0}, {\"Date/time\": \"04/07 01\", \"Source_IP\": \"172.23.232.253\", \"Value\": 458.0}, {\"Date/time\": \"04/07 02\", \"Source_IP\": \"172.23.232.253\", \"Value\": 355.0}, {\"Date/time\": \"04/07 03\", \"Source_IP\": \"172.23.232.253\", \"Value\": 410.0}, {\"Date/time\": \"04/07 04\", \"Source_IP\": \"172.23.232.253\", \"Value\": 327.0}, {\"Date/time\": \"04/07 05\", \"Source_IP\": \"172.23.232.253\", \"Value\": 361.0}, {\"Date/time\": \"04/07 06\", \"Source_IP\": \"172.23.232.253\", \"Value\": 526.0}, {\"Date/time\": \"04/07 07\", \"Source_IP\": \"172.23.232.253\", \"Value\": 581.0}, {\"Date/time\": \"04/07 08\", \"Source_IP\": \"172.23.232.253\", \"Value\": 434.0}, {\"Date/time\": \"04/07 09\", \"Source_IP\": \"172.23.232.253\", \"Value\": 0.0}, {\"Date/time\": \"04/06 17\", \"Source_IP\": \"172.23.232.252\", \"Value\": 0.0}, {\"Date/time\": \"04/06 18\", \"Source_IP\": \"172.23.232.252\", \"Value\": 301.0}, {\"Date/time\": \"04/06 19\", \"Source_IP\": \"172.23.232.252\", \"Value\": 315.0}, {\"Date/time\": \"04/06 20\", \"Source_IP\": \"172.23.232.252\", \"Value\": 511.0}, {\"Date/time\": \"04/06 21\", \"Source_IP\": \"172.23.232.252\", \"Value\": 492.0}, {\"Date/time\": \"04/06 22\", \"Source_IP\": \"172.23.232.252\", \"Value\": 381.0}, {\"Date/time\": \"04/06 23\", \"Source_IP\": \"172.23.232.252\", \"Value\": 408.0}, {\"Date/time\": \"04/07 00\", \"Source_IP\": \"172.23.232.252\", \"Value\": 468.0}, {\"Date/time\": \"04/07 01\", \"Source_IP\": \"172.23.232.252\", \"Value\": 465.0}, {\"Date/time\": \"04/07 02\", \"Source_IP\": \"172.23.232.252\", \"Value\": 347.0}, {\"Date/time\": \"04/07 03\", \"Source_IP\": \"172.23.232.252\", \"Value\": 425.0}, {\"Date/time\": \"04/07 04\", \"Source_IP\": \"172.23.232.252\", \"Value\": 325.0}, {\"Date/time\": \"04/07 05\", \"Source_IP\": \"172.23.232.252\", \"Value\": 356.0}, {\"Date/time\": \"04/07 06\", \"Source_IP\": \"172.23.232.252\", \"Value\": 531.0}, {\"Date/time\": \"04/07 07\", \"Source_IP\": \"172.23.232.252\", \"Value\": 591.0}, {\"Date/time\": \"04/07 08\", \"Source_IP\": \"172.23.232.252\", \"Value\": 434.0}, {\"Date/time\": \"04/07 09\", \"Source_IP\": \"172.23.232.252\", \"Value\": 2.0}, {\"Date/time\": \"04/06 17\", \"Source_IP\": \"172.23.232.9\", \"Value\": 0.0}, {\"Date/time\": \"04/06 18\", \"Source_IP\": \"172.23.232.9\", \"Value\": 308.0}, {\"Date/time\": \"04/06 19\", \"Source_IP\": \"172.23.232.9\", \"Value\": 287.0}, {\"Date/time\": \"04/06 20\", \"Source_IP\": \"172.23.232.9\", \"Value\": 521.0}, {\"Date/time\": \"04/06 21\", \"Source_IP\": \"172.23.232.9\", \"Value\": 495.0}, {\"Date/time\": \"04/06 22\", \"Source_IP\": \"172.23.232.9\", \"Value\": 393.0}, {\"Date/time\": \"04/06 23\", \"Source_IP\": \"172.23.232.9\", \"Value\": 389.0}, {\"Date/time\": \"04/07 00\", \"Source_IP\": \"172.23.232.9\", \"Value\": 505.0}, {\"Date/time\": \"04/07 01\", \"Source_IP\": \"172.23.232.9\", \"Value\": 453.0}, {\"Date/time\": \"04/07 02\", \"Source_IP\": \"172.23.232.9\", \"Value\": 357.0}, {\"Date/time\": \"04/07 03\", \"Source_IP\": \"172.23.232.9\", \"Value\": 434.0}, {\"Date/time\": \"04/07 04\", \"Source_IP\": \"172.23.232.9\", \"Value\": 328.0}, {\"Date/time\": \"04/07 05\", \"Source_IP\": \"172.23.232.9\", \"Value\": 363.0}, {\"Date/time\": \"04/07 06\", \"Source_IP\": \"172.23.232.9\", \"Value\": 517.0}, {\"Date/time\": \"04/07 07\", \"Source_IP\": \"172.23.232.9\", \"Value\": 547.0}, {\"Date/time\": \"04/07 08\", \"Source_IP\": \"172.23.232.9\", \"Value\": 455.0}, {\"Date/time\": \"04/07 09\", \"Source_IP\": \"172.23.232.9\", \"Value\": 0.0}, {\"Date/time\": \"04/06 17\", \"Source_IP\": \"172.23.233.36\", \"Value\": 0.0}, {\"Date/time\": \"04/06 18\", \"Source_IP\": \"172.23.233.36\", \"Value\": 312.0}, {\"Date/time\": \"04/06 19\", \"Source_IP\": \"172.23.233.36\", \"Value\": 321.0}, {\"Date/time\": \"04/06 20\", \"Source_IP\": \"172.23.233.36\", \"Value\": 501.0}, {\"Date/time\": \"04/06 21\", \"Source_IP\": \"172.23.233.36\", \"Value\": 507.0}, {\"Date/time\": \"04/06 22\", \"Source_IP\": \"172.23.233.36\", \"Value\": 394.0}, {\"Date/time\": \"04/06 23\", \"Source_IP\": \"172.23.233.36\", \"Value\": 407.0}, {\"Date/time\": \"04/07 00\", \"Source_IP\": \"172.23.233.36\", \"Value\": 493.0}, {\"Date/time\": \"04/07 01\", \"Source_IP\": \"172.23.233.36\", \"Value\": 452.0}, {\"Date/time\": \"04/07 02\", \"Source_IP\": \"172.23.233.36\", \"Value\": 346.0}, {\"Date/time\": \"04/07 03\", \"Source_IP\": \"172.23.233.36\", \"Value\": 428.0}, {\"Date/time\": \"04/07 04\", \"Source_IP\": \"172.23.233.36\", \"Value\": 321.0}, {\"Date/time\": \"04/07 05\", \"Source_IP\": \"172.23.233.36\", \"Value\": 333.0}, {\"Date/time\": \"04/07 06\", \"Source_IP\": \"172.23.233.36\", \"Value\": 527.0}, {\"Date/time\": \"04/07 07\", \"Source_IP\": \"172.23.233.36\", \"Value\": 564.0}, {\"Date/time\": \"04/07 08\", \"Source_IP\": \"172.23.233.36\", \"Value\": 437.0}, {\"Date/time\": \"04/07 09\", \"Source_IP\": \"172.23.233.36\", \"Value\": 2.0}, {\"Date/time\": \"04/06 17\", \"Source_IP\": \"172.23.235.53\", \"Value\": 0.0}, {\"Date/time\": \"04/06 18\", \"Source_IP\": \"172.23.235.53\", \"Value\": 319.0}, {\"Date/time\": \"04/06 19\", \"Source_IP\": \"172.23.235.53\", \"Value\": 283.0}, {\"Date/time\": \"04/06 20\", \"Source_IP\": \"172.23.235.53\", \"Value\": 522.0}, {\"Date/time\": \"04/06 21\", \"Source_IP\": \"172.23.235.53\", \"Value\": 507.0}, {\"Date/time\": \"04/06 22\", \"Source_IP\": \"172.23.235.53\", \"Value\": 388.0}, {\"Date/time\": \"04/06 23\", \"Source_IP\": \"172.23.235.53\", \"Value\": 407.0}, {\"Date/time\": \"04/07 00\", \"Source_IP\": \"172.23.235.53\", \"Value\": 494.0}, {\"Date/time\": \"04/07 01\", \"Source_IP\": \"172.23.235.53\", \"Value\": 472.0}, {\"Date/time\": \"04/07 02\", \"Source_IP\": \"172.23.235.53\", \"Value\": 363.0}, {\"Date/time\": \"04/07 03\", \"Source_IP\": \"172.23.235.53\", \"Value\": 414.0}, {\"Date/time\": \"04/07 04\", \"Source_IP\": \"172.23.235.53\", \"Value\": 319.0}, {\"Date/time\": \"04/07 05\", \"Source_IP\": \"172.23.235.53\", \"Value\": 356.0}, {\"Date/time\": \"04/07 06\", \"Source_IP\": \"172.23.235.53\", \"Value\": 506.0}, {\"Date/time\": \"04/07 07\", \"Source_IP\": \"172.23.235.53\", \"Value\": 571.0}, {\"Date/time\": \"04/07 08\", \"Source_IP\": \"172.23.235.53\", \"Value\": 422.0}, {\"Date/time\": \"04/07 09\", \"Source_IP\": \"172.23.235.53\", \"Value\": 0.0}, {\"Date/time\": \"04/06 17\", \"Source_IP\": \"172.23.233.33\", \"Value\": 0.0}, {\"Date/time\": \"04/06 18\", \"Source_IP\": \"172.23.233.33\", \"Value\": 299.0}, {\"Date/time\": \"04/06 19\", \"Source_IP\": \"172.23.233.33\", \"Value\": 296.0}, {\"Date/time\": \"04/06 20\", \"Source_IP\": \"172.23.233.33\", \"Value\": 515.0}, {\"Date/time\": \"04/06 21\", \"Source_IP\": \"172.23.233.33\", \"Value\": 482.0}, {\"Date/time\": \"04/06 22\", \"Source_IP\": \"172.23.233.33\", \"Value\": 377.0}, {\"Date/time\": \"04/06 23\", \"Source_IP\": \"172.23.233.33\", \"Value\": 421.0}, {\"Date/time\": \"04/07 00\", \"Source_IP\": \"172.23.233.33\", \"Value\": 472.0}, {\"Date/time\": \"04/07 01\", \"Source_IP\": \"172.23.233.33\", \"Value\": 468.0}, {\"Date/time\": \"04/07 02\", \"Source_IP\": \"172.23.233.33\", \"Value\": 357.0}, {\"Date/time\": \"04/07 03\", \"Source_IP\": \"172.23.233.33\", \"Value\": 444.0}, {\"Date/time\": \"04/07 04\", \"Source_IP\": \"172.23.233.33\", \"Value\": 302.0}, {\"Date/time\": \"04/07 05\", \"Source_IP\": \"172.23.233.33\", \"Value\": 359.0}, {\"Date/time\": \"04/07 06\", \"Source_IP\": \"172.23.233.33\", \"Value\": 545.0}, {\"Date/time\": \"04/07 07\", \"Source_IP\": \"172.23.233.33\", \"Value\": 579.0}, {\"Date/time\": \"04/07 08\", \"Source_IP\": \"172.23.233.33\", \"Value\": 425.0}, {\"Date/time\": \"04/07 09\", \"Source_IP\": \"172.23.233.33\", \"Value\": 0.0}, {\"Date/time\": \"04/06 17\", \"Source_IP\": \"172.23.235.3\", \"Value\": 0.0}, {\"Date/time\": \"04/06 18\", \"Source_IP\": \"172.23.235.3\", \"Value\": 298.0}, {\"Date/time\": \"04/06 19\", \"Source_IP\": \"172.23.235.3\", \"Value\": 304.0}, {\"Date/time\": \"04/06 20\", \"Source_IP\": \"172.23.235.3\", \"Value\": 512.0}, {\"Date/time\": \"04/06 21\", \"Source_IP\": \"172.23.235.3\", \"Value\": 517.0}, {\"Date/time\": \"04/06 22\", \"Source_IP\": \"172.23.235.3\", \"Value\": 379.0}, {\"Date/time\": \"04/06 23\", \"Source_IP\": \"172.23.235.3\", \"Value\": 418.0}, {\"Date/time\": \"04/07 00\", \"Source_IP\": \"172.23.235.3\", \"Value\": 497.0}, {\"Date/time\": \"04/07 01\", \"Source_IP\": \"172.23.235.3\", \"Value\": 459.0}, {\"Date/time\": \"04/07 02\", \"Source_IP\": \"172.23.235.3\", \"Value\": 358.0}, {\"Date/time\": \"04/07 03\", \"Source_IP\": \"172.23.235.3\", \"Value\": 406.0}, {\"Date/time\": \"04/07 04\", \"Source_IP\": \"172.23.235.3\", \"Value\": 318.0}, {\"Date/time\": \"04/07 05\", \"Source_IP\": \"172.23.235.3\", \"Value\": 353.0}, {\"Date/time\": \"04/07 06\", \"Source_IP\": \"172.23.235.3\", \"Value\": 515.0}, {\"Date/time\": \"04/07 07\", \"Source_IP\": \"172.23.235.3\", \"Value\": 562.0}, {\"Date/time\": \"04/07 08\", \"Source_IP\": \"172.23.235.3\", \"Value\": 444.0}, {\"Date/time\": \"04/07 09\", \"Source_IP\": \"172.23.235.3\", \"Value\": 0.0}, {\"Date/time\": \"04/06 17\", \"Source_IP\": \"172.23.234.52\", \"Value\": 0.0}, {\"Date/time\": \"04/06 18\", \"Source_IP\": \"172.23.234.52\", \"Value\": 293.0}, {\"Date/time\": \"04/06 19\", \"Source_IP\": \"172.23.234.52\", \"Value\": 300.0}, {\"Date/time\": \"04/06 20\", \"Source_IP\": \"172.23.234.52\", \"Value\": 541.0}, {\"Date/time\": \"04/06 21\", \"Source_IP\": \"172.23.234.52\", \"Value\": 505.0}, {\"Date/time\": \"04/06 22\", \"Source_IP\": \"172.23.234.52\", \"Value\": 378.0}, {\"Date/time\": \"04/06 23\", \"Source_IP\": \"172.23.234.52\", \"Value\": 396.0}, {\"Date/time\": \"04/07 00\", \"Source_IP\": \"172.23.234.52\", \"Value\": 493.0}, {\"Date/time\": \"04/07 01\", \"Source_IP\": \"172.23.234.52\", \"Value\": 476.0}, {\"Date/time\": \"04/07 02\", \"Source_IP\": \"172.23.234.52\", \"Value\": 366.0}, {\"Date/time\": \"04/07 03\", \"Source_IP\": \"172.23.234.52\", \"Value\": 425.0}, {\"Date/time\": \"04/07 04\", \"Source_IP\": \"172.23.234.52\", \"Value\": 303.0}, {\"Date/time\": \"04/07 05\", \"Source_IP\": \"172.23.234.52\", \"Value\": 352.0}, {\"Date/time\": \"04/07 06\", \"Source_IP\": \"172.23.234.52\", \"Value\": 525.0}, {\"Date/time\": \"04/07 07\", \"Source_IP\": \"172.23.234.52\", \"Value\": 557.0}, {\"Date/time\": \"04/07 08\", \"Source_IP\": \"172.23.234.52\", \"Value\": 426.0}, {\"Date/time\": \"04/07 09\", \"Source_IP\": \"172.23.234.52\", \"Value\": 0.0}], \"data-80027f0d5e642cf8ad4ad4d9374f019b\": [{\"Date/time\": \"04/06 17\", \"Dest_IP\": \"10.32.0.100\", \"Value\": 0.0}, {\"Date/time\": \"04/06 18\", \"Dest_IP\": \"10.32.0.100\", \"Value\": 198033.0}, {\"Date/time\": \"04/06 19\", \"Dest_IP\": \"10.32.0.100\", \"Value\": 267283.0}, {\"Date/time\": \"04/06 20\", \"Dest_IP\": \"10.32.0.100\", \"Value\": 219928.0}, {\"Date/time\": \"04/06 21\", \"Dest_IP\": \"10.32.0.100\", \"Value\": 188850.0}, {\"Date/time\": \"04/06 22\", \"Dest_IP\": \"10.32.0.100\", \"Value\": 292254.0}, {\"Date/time\": \"04/06 23\", \"Dest_IP\": \"10.32.0.100\", \"Value\": 237032.0}, {\"Date/time\": \"04/07 00\", \"Dest_IP\": \"10.32.0.100\", \"Value\": 183911.0}, {\"Date/time\": \"04/07 01\", \"Dest_IP\": \"10.32.0.100\", \"Value\": 212805.0}, {\"Date/time\": \"04/07 02\", \"Dest_IP\": \"10.32.0.100\", \"Value\": 232263.0}, {\"Date/time\": \"04/07 03\", \"Dest_IP\": \"10.32.0.100\", \"Value\": 204837.0}, {\"Date/time\": \"04/07 04\", \"Dest_IP\": \"10.32.0.100\", \"Value\": 198428.0}, {\"Date/time\": \"04/07 05\", \"Dest_IP\": \"10.32.0.100\", \"Value\": 228572.0}, {\"Date/time\": \"04/07 06\", \"Dest_IP\": \"10.32.0.100\", \"Value\": 350200.0}, {\"Date/time\": \"04/07 07\", \"Dest_IP\": \"10.32.0.100\", \"Value\": 271686.0}, {\"Date/time\": \"04/07 08\", \"Dest_IP\": \"10.32.0.100\", \"Value\": 183194.0}, {\"Date/time\": \"04/07 09\", \"Dest_IP\": \"10.32.0.100\", \"Value\": 72.0}, {\"Date/time\": \"04/06 17\", \"Dest_IP\": \"10.32.5.50\", \"Value\": 502.0}, {\"Date/time\": \"04/06 18\", \"Dest_IP\": \"10.32.5.50\", \"Value\": 20768.0}, {\"Date/time\": \"04/06 19\", \"Dest_IP\": \"10.32.5.50\", \"Value\": 25394.0}, {\"Date/time\": \"04/06 20\", \"Dest_IP\": \"10.32.5.50\", \"Value\": 31374.0}, {\"Date/time\": \"04/06 21\", \"Dest_IP\": \"10.32.5.50\", \"Value\": 31651.0}, {\"Date/time\": \"04/06 22\", \"Dest_IP\": \"10.32.5.50\", \"Value\": 28534.0}, {\"Date/time\": \"04/06 23\", \"Dest_IP\": \"10.32.5.50\", \"Value\": 29857.0}, {\"Date/time\": \"04/07 00\", \"Dest_IP\": \"10.32.5.50\", \"Value\": 31643.0}, {\"Date/time\": \"04/07 01\", \"Dest_IP\": \"10.32.5.50\", \"Value\": 30396.0}, {\"Date/time\": \"04/07 02\", \"Dest_IP\": \"10.32.5.50\", \"Value\": 28551.0}, {\"Date/time\": \"04/07 03\", \"Dest_IP\": \"10.32.5.50\", \"Value\": 29422.0}, {\"Date/time\": \"04/07 04\", \"Dest_IP\": \"10.32.5.50\", \"Value\": 27388.0}, {\"Date/time\": \"04/07 05\", \"Dest_IP\": \"10.32.5.50\", \"Value\": 27722.0}, {\"Date/time\": \"04/07 06\", \"Dest_IP\": \"10.32.5.50\", \"Value\": 31989.0}, {\"Date/time\": \"04/07 07\", \"Dest_IP\": \"10.32.5.50\", \"Value\": 32926.0}, {\"Date/time\": \"04/07 08\", \"Dest_IP\": \"10.32.5.50\", \"Value\": 29846.0}, {\"Date/time\": \"04/07 09\", \"Dest_IP\": \"10.32.5.50\", \"Value\": 8.0}, {\"Date/time\": \"04/06 17\", \"Dest_IP\": \"10.32.1.204\", \"Value\": 0.0}, {\"Date/time\": \"04/06 18\", \"Dest_IP\": \"10.32.1.204\", \"Value\": 22017.0}, {\"Date/time\": \"04/06 19\", \"Dest_IP\": \"10.32.1.204\", \"Value\": 24654.0}, {\"Date/time\": \"04/06 20\", \"Dest_IP\": \"10.32.1.204\", \"Value\": 24377.0}, {\"Date/time\": \"04/06 21\", \"Dest_IP\": \"10.32.1.204\", \"Value\": 25076.0}, {\"Date/time\": \"04/06 22\", \"Dest_IP\": \"10.32.1.204\", \"Value\": 25079.0}, {\"Date/time\": \"04/06 23\", \"Dest_IP\": \"10.32.1.204\", \"Value\": 24500.0}, {\"Date/time\": \"04/07 00\", \"Dest_IP\": \"10.32.1.204\", \"Value\": 23899.0}, {\"Date/time\": \"04/07 01\", \"Dest_IP\": \"10.32.1.204\", \"Value\": 23582.0}, {\"Date/time\": \"04/07 02\", \"Dest_IP\": \"10.32.1.204\", \"Value\": 24147.0}, {\"Date/time\": \"04/07 03\", \"Dest_IP\": \"10.32.1.204\", \"Value\": 23911.0}, {\"Date/time\": \"04/07 04\", \"Dest_IP\": \"10.32.1.204\", \"Value\": 23945.0}, {\"Date/time\": \"04/07 05\", \"Dest_IP\": \"10.32.1.204\", \"Value\": 23951.0}, {\"Date/time\": \"04/07 06\", \"Dest_IP\": \"10.32.1.204\", \"Value\": 24183.0}, {\"Date/time\": \"04/07 07\", \"Dest_IP\": \"10.32.1.204\", \"Value\": 24070.0}, {\"Date/time\": \"04/07 08\", \"Dest_IP\": \"10.32.1.204\", \"Value\": 23772.0}, {\"Date/time\": \"04/07 09\", \"Dest_IP\": \"10.32.1.204\", \"Value\": 5.0}, {\"Date/time\": \"04/06 17\", \"Dest_IP\": \"10.32.0.209\", \"Value\": 0.0}, {\"Date/time\": \"04/06 18\", \"Dest_IP\": \"10.32.0.209\", \"Value\": 21763.0}, {\"Date/time\": \"04/06 19\", \"Dest_IP\": \"10.32.0.209\", \"Value\": 24504.0}, {\"Date/time\": \"04/06 20\", \"Dest_IP\": \"10.32.0.209\", \"Value\": 24337.0}, {\"Date/time\": \"04/06 21\", \"Dest_IP\": \"10.32.0.209\", \"Value\": 24883.0}, {\"Date/time\": \"04/06 22\", \"Dest_IP\": \"10.32.0.209\", \"Value\": 24922.0}, {\"Date/time\": \"04/06 23\", \"Dest_IP\": \"10.32.0.209\", \"Value\": 24635.0}, {\"Date/time\": \"04/07 00\", \"Dest_IP\": \"10.32.0.209\", \"Value\": 23774.0}, {\"Date/time\": \"04/07 01\", \"Dest_IP\": \"10.32.0.209\", \"Value\": 23510.0}, {\"Date/time\": \"04/07 02\", \"Dest_IP\": \"10.32.0.209\", \"Value\": 24015.0}, {\"Date/time\": \"04/07 03\", \"Dest_IP\": \"10.32.0.209\", \"Value\": 23554.0}, {\"Date/time\": \"04/07 04\", \"Dest_IP\": \"10.32.0.209\", \"Value\": 24051.0}, {\"Date/time\": \"04/07 05\", \"Dest_IP\": \"10.32.0.209\", \"Value\": 24200.0}, {\"Date/time\": \"04/07 06\", \"Dest_IP\": \"10.32.0.209\", \"Value\": 23982.0}, {\"Date/time\": \"04/07 07\", \"Dest_IP\": \"10.32.0.209\", \"Value\": 23675.0}, {\"Date/time\": \"04/07 08\", \"Dest_IP\": \"10.32.0.209\", \"Value\": 23581.0}, {\"Date/time\": \"04/07 09\", \"Dest_IP\": \"10.32.0.209\", \"Value\": 4.0}, {\"Date/time\": \"04/06 17\", \"Dest_IP\": \"10.32.1.201\", \"Value\": 0.0}, {\"Date/time\": \"04/06 18\", \"Dest_IP\": \"10.32.1.201\", \"Value\": 22607.0}, {\"Date/time\": \"04/06 19\", \"Dest_IP\": \"10.32.1.201\", \"Value\": 24333.0}, {\"Date/time\": \"04/06 20\", \"Dest_IP\": \"10.32.1.201\", \"Value\": 24331.0}, {\"Date/time\": \"04/06 21\", \"Dest_IP\": \"10.32.1.201\", \"Value\": 24171.0}, {\"Date/time\": \"04/06 22\", \"Dest_IP\": \"10.32.1.201\", \"Value\": 24792.0}, {\"Date/time\": \"04/06 23\", \"Dest_IP\": \"10.32.1.201\", \"Value\": 24738.0}, {\"Date/time\": \"04/07 00\", \"Dest_IP\": \"10.32.1.201\", \"Value\": 23611.0}, {\"Date/time\": \"04/07 01\", \"Dest_IP\": \"10.32.1.201\", \"Value\": 24095.0}, {\"Date/time\": \"04/07 02\", \"Dest_IP\": \"10.32.1.201\", \"Value\": 23539.0}, {\"Date/time\": \"04/07 03\", \"Dest_IP\": \"10.32.1.201\", \"Value\": 23815.0}, {\"Date/time\": \"04/07 04\", \"Dest_IP\": \"10.32.1.201\", \"Value\": 23752.0}, {\"Date/time\": \"04/07 05\", \"Dest_IP\": \"10.32.1.201\", \"Value\": 23995.0}, {\"Date/time\": \"04/07 06\", \"Dest_IP\": \"10.32.1.201\", \"Value\": 23895.0}, {\"Date/time\": \"04/07 07\", \"Dest_IP\": \"10.32.1.201\", \"Value\": 23736.0}, {\"Date/time\": \"04/07 08\", \"Dest_IP\": \"10.32.1.201\", \"Value\": 23933.0}, {\"Date/time\": \"04/07 09\", \"Dest_IP\": \"10.32.1.201\", \"Value\": 0.0}, {\"Date/time\": \"04/06 17\", \"Dest_IP\": \"10.32.0.202\", \"Value\": 0.0}, {\"Date/time\": \"04/06 18\", \"Dest_IP\": \"10.32.0.202\", \"Value\": 22091.0}, {\"Date/time\": \"04/06 19\", \"Dest_IP\": \"10.32.0.202\", \"Value\": 24556.0}, {\"Date/time\": \"04/06 20\", \"Dest_IP\": \"10.32.0.202\", \"Value\": 24090.0}, {\"Date/time\": \"04/06 21\", \"Dest_IP\": \"10.32.0.202\", \"Value\": 25002.0}, {\"Date/time\": \"04/06 22\", \"Dest_IP\": \"10.32.0.202\", \"Value\": 24855.0}, {\"Date/time\": \"04/06 23\", \"Dest_IP\": \"10.32.0.202\", \"Value\": 24622.0}, {\"Date/time\": \"04/07 00\", \"Dest_IP\": \"10.32.0.202\", \"Value\": 23601.0}, {\"Date/time\": \"04/07 01\", \"Dest_IP\": \"10.32.0.202\", \"Value\": 23723.0}, {\"Date/time\": \"04/07 02\", \"Dest_IP\": \"10.32.0.202\", \"Value\": 23876.0}, {\"Date/time\": \"04/07 03\", \"Dest_IP\": \"10.32.0.202\", \"Value\": 23541.0}, {\"Date/time\": \"04/07 04\", \"Dest_IP\": \"10.32.0.202\", \"Value\": 24054.0}, {\"Date/time\": \"04/07 05\", \"Dest_IP\": \"10.32.0.202\", \"Value\": 23479.0}, {\"Date/time\": \"04/07 06\", \"Dest_IP\": \"10.32.0.202\", \"Value\": 24000.0}, {\"Date/time\": \"04/07 07\", \"Dest_IP\": \"10.32.0.202\", \"Value\": 23903.0}, {\"Date/time\": \"04/07 08\", \"Dest_IP\": \"10.32.0.202\", \"Value\": 23694.0}, {\"Date/time\": \"04/07 09\", \"Dest_IP\": \"10.32.0.202\", \"Value\": 2.0}, {\"Date/time\": \"04/06 17\", \"Dest_IP\": \"10.32.1.203\", \"Value\": 0.0}, {\"Date/time\": \"04/06 18\", \"Dest_IP\": \"10.32.1.203\", \"Value\": 21992.0}, {\"Date/time\": \"04/06 19\", \"Dest_IP\": \"10.32.1.203\", \"Value\": 24455.0}, {\"Date/time\": \"04/06 20\", \"Dest_IP\": \"10.32.1.203\", \"Value\": 24697.0}, {\"Date/time\": \"04/06 21\", \"Dest_IP\": \"10.32.1.203\", \"Value\": 24694.0}, {\"Date/time\": \"04/06 22\", \"Dest_IP\": \"10.32.1.203\", \"Value\": 24429.0}, {\"Date/time\": \"04/06 23\", \"Dest_IP\": \"10.32.1.203\", \"Value\": 24936.0}, {\"Date/time\": \"04/07 00\", \"Dest_IP\": \"10.32.1.203\", \"Value\": 23737.0}, {\"Date/time\": \"04/07 01\", \"Dest_IP\": \"10.32.1.203\", \"Value\": 23479.0}, {\"Date/time\": \"04/07 02\", \"Dest_IP\": \"10.32.1.203\", \"Value\": 23733.0}, {\"Date/time\": \"04/07 03\", \"Dest_IP\": \"10.32.1.203\", \"Value\": 23830.0}, {\"Date/time\": \"04/07 04\", \"Dest_IP\": \"10.32.1.203\", \"Value\": 23641.0}, {\"Date/time\": \"04/07 05\", \"Dest_IP\": \"10.32.1.203\", \"Value\": 23802.0}, {\"Date/time\": \"04/07 06\", \"Dest_IP\": \"10.32.1.203\", \"Value\": 23759.0}, {\"Date/time\": \"04/07 07\", \"Dest_IP\": \"10.32.1.203\", \"Value\": 23880.0}, {\"Date/time\": \"04/07 08\", \"Dest_IP\": \"10.32.1.203\", \"Value\": 23644.0}, {\"Date/time\": \"04/07 09\", \"Dest_IP\": \"10.32.1.203\", \"Value\": 1.0}, {\"Date/time\": \"04/06 17\", \"Dest_IP\": \"10.32.1.202\", \"Value\": 0.0}, {\"Date/time\": \"04/06 18\", \"Dest_IP\": \"10.32.1.202\", \"Value\": 22014.0}, {\"Date/time\": \"04/06 19\", \"Dest_IP\": \"10.32.1.202\", \"Value\": 24745.0}, {\"Date/time\": \"04/06 20\", \"Dest_IP\": \"10.32.1.202\", \"Value\": 24122.0}, {\"Date/time\": \"04/06 21\", \"Dest_IP\": \"10.32.1.202\", \"Value\": 25103.0}, {\"Date/time\": \"04/06 22\", \"Dest_IP\": \"10.32.1.202\", \"Value\": 25070.0}, {\"Date/time\": \"04/06 23\", \"Dest_IP\": \"10.32.1.202\", \"Value\": 24530.0}, {\"Date/time\": \"04/07 00\", \"Dest_IP\": \"10.32.1.202\", \"Value\": 23553.0}, {\"Date/time\": \"04/07 01\", \"Dest_IP\": \"10.32.1.202\", \"Value\": 23725.0}, {\"Date/time\": \"04/07 02\", \"Dest_IP\": \"10.32.1.202\", \"Value\": 23555.0}, {\"Date/time\": \"04/07 03\", \"Dest_IP\": \"10.32.1.202\", \"Value\": 23628.0}, {\"Date/time\": \"04/07 04\", \"Dest_IP\": \"10.32.1.202\", \"Value\": 23494.0}, {\"Date/time\": \"04/07 05\", \"Dest_IP\": \"10.32.1.202\", \"Value\": 23690.0}, {\"Date/time\": \"04/07 06\", \"Dest_IP\": \"10.32.1.202\", \"Value\": 23805.0}, {\"Date/time\": \"04/07 07\", \"Dest_IP\": \"10.32.1.202\", \"Value\": 23806.0}, {\"Date/time\": \"04/07 08\", \"Dest_IP\": \"10.32.1.202\", \"Value\": 23839.0}, {\"Date/time\": \"04/07 09\", \"Dest_IP\": \"10.32.1.202\", \"Value\": 3.0}, {\"Date/time\": \"04/06 17\", \"Dest_IP\": \"10.32.1.206\", \"Value\": 0.0}, {\"Date/time\": \"04/06 18\", \"Dest_IP\": \"10.32.1.206\", \"Value\": 21941.0}, {\"Date/time\": \"04/06 19\", \"Dest_IP\": \"10.32.1.206\", \"Value\": 24443.0}, {\"Date/time\": \"04/06 20\", \"Dest_IP\": \"10.32.1.206\", \"Value\": 24205.0}, {\"Date/time\": \"04/06 21\", \"Dest_IP\": \"10.32.1.206\", \"Value\": 24335.0}, {\"Date/time\": \"04/06 22\", \"Dest_IP\": \"10.32.1.206\", \"Value\": 24667.0}, {\"Date/time\": \"04/06 23\", \"Dest_IP\": \"10.32.1.206\", \"Value\": 24776.0}, {\"Date/time\": \"04/07 00\", \"Dest_IP\": \"10.32.1.206\", \"Value\": 23409.0}, {\"Date/time\": \"04/07 01\", \"Dest_IP\": \"10.32.1.206\", \"Value\": 23851.0}, {\"Date/time\": \"04/07 02\", \"Dest_IP\": \"10.32.1.206\", \"Value\": 24040.0}, {\"Date/time\": \"04/07 03\", \"Dest_IP\": \"10.32.1.206\", \"Value\": 23915.0}, {\"Date/time\": \"04/07 04\", \"Dest_IP\": \"10.32.1.206\", \"Value\": 23517.0}, {\"Date/time\": \"04/07 05\", \"Dest_IP\": \"10.32.1.206\", \"Value\": 23674.0}, {\"Date/time\": \"04/07 06\", \"Dest_IP\": \"10.32.1.206\", \"Value\": 23658.0}, {\"Date/time\": \"04/07 07\", \"Dest_IP\": \"10.32.1.206\", \"Value\": 23684.0}, {\"Date/time\": \"04/07 08\", \"Dest_IP\": \"10.32.1.206\", \"Value\": 24101.0}, {\"Date/time\": \"04/07 09\", \"Dest_IP\": \"10.32.1.206\", \"Value\": 4.0}, {\"Date/time\": \"04/06 17\", \"Dest_IP\": \"10.32.0.201\", \"Value\": 0.0}, {\"Date/time\": \"04/06 18\", \"Dest_IP\": \"10.32.0.201\", \"Value\": 22071.0}, {\"Date/time\": \"04/06 19\", \"Dest_IP\": \"10.32.0.201\", \"Value\": 24430.0}, {\"Date/time\": \"04/06 20\", \"Dest_IP\": \"10.32.0.201\", \"Value\": 24342.0}, {\"Date/time\": \"04/06 21\", \"Dest_IP\": \"10.32.0.201\", \"Value\": 24714.0}, {\"Date/time\": \"04/06 22\", \"Dest_IP\": \"10.32.0.201\", \"Value\": 24794.0}, {\"Date/time\": \"04/06 23\", \"Dest_IP\": \"10.32.0.201\", \"Value\": 24501.0}, {\"Date/time\": \"04/07 00\", \"Dest_IP\": \"10.32.0.201\", \"Value\": 23966.0}, {\"Date/time\": \"04/07 01\", \"Dest_IP\": \"10.32.0.201\", \"Value\": 23628.0}, {\"Date/time\": \"04/07 02\", \"Dest_IP\": \"10.32.0.201\", \"Value\": 23300.0}, {\"Date/time\": \"04/07 03\", \"Dest_IP\": \"10.32.0.201\", \"Value\": 24200.0}, {\"Date/time\": \"04/07 04\", \"Dest_IP\": \"10.32.0.201\", \"Value\": 23269.0}, {\"Date/time\": \"04/07 05\", \"Dest_IP\": \"10.32.0.201\", \"Value\": 23675.0}, {\"Date/time\": \"04/07 06\", \"Dest_IP\": \"10.32.0.201\", \"Value\": 23705.0}, {\"Date/time\": \"04/07 07\", \"Dest_IP\": \"10.32.0.201\", \"Value\": 24349.0}, {\"Date/time\": \"04/07 08\", \"Dest_IP\": \"10.32.0.201\", \"Value\": 23125.0}, {\"Date/time\": \"04/07 09\", \"Dest_IP\": \"10.32.0.201\", \"Value\": 2.0}]}}, {\"mode\": \"vega-lite\"});\n",
       "</script>"
      ],
      "text/plain": [
       "alt.HConcatChart(...)"
      ]
     },
     "execution_count": 23,
     "metadata": {},
     "output_type": "execute_result"
    }
   ],
   "source": [
    "# plot for Source IPs and Destination IPs for firewall_07\n",
    "\n",
    "melted_07_source = filtered_07_source.melt(id_vars='Date/time', var_name='Source_IP', value_name='Value')\n",
    "melted_07_source = melted_07_source.dropna(subset=['Date/time'])\n",
    "\n",
    "melted_07_dest = filtered_07_dest.melt(id_vars='Date/time', var_name='Dest_IP', value_name='Value')\n",
    "melted_07_dest = melted_07_dest.dropna(subset=['Date/time'])\n",
    "\n",
    "chart1 = alt.Chart(melted_07_source).mark_bar().encode(\n",
    "    x='Date/time:O',\n",
    "    y='Value:Q',\n",
    "    color=alt.Color('Source_IP:N', scale = alt.Scale(scheme='category10')),\n",
    "    tooltip=['Date/time:O', 'Source_IP:N', 'Value:Q']\n",
    ").properties(\n",
    "    width=300,\n",
    "    height=400,\n",
    "    title=' Day 2 Source IP Counts Over Time'\n",
    ")\n",
    "\n",
    "chart2 = alt.Chart(melted_07_dest).mark_bar().encode(\n",
    "    x='Date/time:O',\n",
    "    y='Value:Q',\n",
    "    color=alt.Color('Dest_IP:N', scale = alt.Scale(scheme='plasma')),\n",
    "    tooltip=['Date/time:O', 'Dest_IP:N', 'Value:Q']\n",
    ").properties(\n",
    "    width=300,\n",
    "    height=400,\n",
    "    title='Day 2 Destination IP Counts Over Time'\n",
    ")\n",
    "\n",
    "chart1 | chart2"
   ]
  }
 ],
 "metadata": {
  "kernelspec": {
   "display_name": "Python 3",
   "language": "python",
   "name": "python3"
  },
  "language_info": {
   "codemirror_mode": {
    "name": "ipython",
    "version": 3
   },
   "file_extension": ".py",
   "mimetype": "text/x-python",
   "name": "python",
   "nbconvert_exporter": "python",
   "pygments_lexer": "ipython3",
   "version": "3.11.2"
  }
 },
 "nbformat": 4,
 "nbformat_minor": 2
}
