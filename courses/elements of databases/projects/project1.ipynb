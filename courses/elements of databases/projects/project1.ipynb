{
 "cells": [
  {
   "cell_type": "code",
   "execution_count": 1,
   "id": "395987d9-fa41-44a7-87cb-160db854e6a7",
   "metadata": {},
   "outputs": [
    {
     "name": "stdout",
     "output_type": "stream",
     "text": [
      "env: INSTANCE=mysql\n"
     ]
    }
   ],
   "source": [
    "%env INSTANCE=mysql"
   ]
  },
  {
   "cell_type": "code",
   "execution_count": 2,
   "id": "6446d3ad-713e-4801-9c22-a96857188842",
   "metadata": {},
   "outputs": [],
   "source": [
    "!mysql < /home/jupyter/sakila/sakila-database.sql"
   ]
  },
  {
   "cell_type": "code",
   "execution_count": 3,
   "id": "9565bf37-6591-44d5-bab7-62e9bedd04e9",
   "metadata": {},
   "outputs": [],
   "source": [
    "!mysql < /home/jupyter/sakila/sakila-data.sql"
   ]
  },
  {
   "cell_type": "markdown",
   "id": "6f226468-575a-4bd6-bd75-70d66241c8aa",
   "metadata": {},
   "source": [
    "#### Check how many records are in each table"
   ]
  },
  {
   "cell_type": "code",
   "execution_count": 4,
   "id": "37f6532c-2e06-4915-9168-eb7dc93b743c",
   "metadata": {},
   "outputs": [
    {
     "name": "stdout",
     "output_type": "stream",
     "text": [
      "+----------+\n",
      "| count(*) |\n",
      "+----------+\n",
      "|      200 |\n",
      "+----------+\n"
     ]
    }
   ],
   "source": [
    "!mysql sakila -e \"select count(*) from actor\""
   ]
  },
  {
   "cell_type": "code",
   "execution_count": 5,
   "id": "43956fa1-62d8-41c8-98fc-9ff56b4f34b6",
   "metadata": {},
   "outputs": [
    {
     "name": "stdout",
     "output_type": "stream",
     "text": [
      "+----------+\n",
      "| count(*) |\n",
      "+----------+\n",
      "|      603 |\n",
      "+----------+\n"
     ]
    }
   ],
   "source": [
    "!mysql sakila -e \"select count(*) from address\""
   ]
  },
  {
   "cell_type": "code",
   "execution_count": 6,
   "id": "90b492e6-5700-4d5c-a001-4ea70ce52c3a",
   "metadata": {},
   "outputs": [
    {
     "name": "stdout",
     "output_type": "stream",
     "text": [
      "+----------+\n",
      "| count(*) |\n",
      "+----------+\n",
      "|      600 |\n",
      "+----------+\n"
     ]
    }
   ],
   "source": [
    "!mysql sakila -e \"select count(*) from city\""
   ]
  },
  {
   "cell_type": "code",
   "execution_count": 7,
   "id": "8532d3bf-bbcb-4bca-8eb7-5a7edcd47a3c",
   "metadata": {},
   "outputs": [
    {
     "name": "stdout",
     "output_type": "stream",
     "text": [
      "+----------+\n",
      "| count(*) |\n",
      "+----------+\n",
      "|      109 |\n",
      "+----------+\n"
     ]
    }
   ],
   "source": [
    "!mysql sakila -e \"select count(*) from country\""
   ]
  },
  {
   "cell_type": "code",
   "execution_count": 8,
   "id": "6984eeb5-9520-481c-a73c-b8f73df552e5",
   "metadata": {},
   "outputs": [
    {
     "name": "stdout",
     "output_type": "stream",
     "text": [
      "+----------+\n",
      "| count(*) |\n",
      "+----------+\n",
      "|      599 |\n",
      "+----------+\n"
     ]
    }
   ],
   "source": [
    "!mysql sakila -e \"select count(*) from customer\""
   ]
  },
  {
   "cell_type": "markdown",
   "id": "efa4c4d6-228b-408f-80fa-7837418e3a16",
   "metadata": {},
   "source": [
    "#### Sample a few records from each table "
   ]
  },
  {
   "cell_type": "code",
   "execution_count": 9,
   "id": "da3669b0-db43-468d-85f4-cc4fb796482e",
   "metadata": {},
   "outputs": [
    {
     "name": "stdout",
     "output_type": "stream",
     "text": [
      "+----------+------------+--------------+---------------------+\n",
      "| actor_id | first_name | last_name    | last_update         |\n",
      "+----------+------------+--------------+---------------------+\n",
      "|        1 | PENELOPE   | GUINESS      | 2006-02-15 04:34:33 |\n",
      "|        2 | NICK       | WAHLBERG     | 2006-02-15 04:34:33 |\n",
      "|        3 | ED         | CHASE        | 2006-02-15 04:34:33 |\n",
      "|        4 | JENNIFER   | DAVIS        | 2006-02-15 04:34:33 |\n",
      "|        5 | JOHNNY     | LOLLOBRIGIDA | 2006-02-15 04:34:33 |\n",
      "+----------+------------+--------------+---------------------+\n"
     ]
    }
   ],
   "source": [
    "!mysql sakila -e \"select * from actor limit 5\""
   ]
  },
  {
   "cell_type": "code",
   "execution_count": 10,
   "id": "8743ebc4-60c1-457b-afd2-50af8e1be19b",
   "metadata": {},
   "outputs": [
    {
     "name": "stdout",
     "output_type": "stream",
     "text": [
      "+------------+----------------------+----------+----------+---------+-------------+-------------+---------------------------+---------------------+\n",
      "| address_id | address              | address2 | district | city_id | postal_code | phone       | location                  | last_update         |\n",
      "+------------+----------------------+----------+----------+---------+-------------+-------------+---------------------------+---------------------+\n",
      "|          1 | 47 MySakila Drive    | NULL     | Alberta  |     300 |             |             |     \u0001\u0001   >\n",
      "2]c4\\�v\u001fۍ��H@     | 2014-09-25 22:30:27 |\n",
      "|          2 | 28 MySQL Boulevard   | NULL     | QLD      |     576 |             |             |     \u0001\u0001   �\u0010�߁$c@N��P\"�;�        | 2014-09-25 22:30:09 |\n",
      "|          3 | 23 Workhaven Lane    | NULL     | Alberta  |     300 |             | 14033335568 |     \u0001\u0001   ��\u0019hc4\\�\u001d",
      "�~p��H@       | 2014-09-25 22:30:27 |\n",
      "�4\u001f&c@B֮d\"�;�     | 2014-09-25 22:30:09 |L     | QLD      |     576 |             | 6172235589  |     \u0001\u0001   [\n",
      "|          5 | 1913 Hanoi Way       |          | Nagasaki |     463 | 35200       | 28303384290 |     \u0001\u0001   (�7\u000e!7`@����_�@@       | 2014-09-25 22:31:53 |\n",
      "+------------+----------------------+----------+----------+---------+-------------+-------------+---------------------------+---------------------+\n"
     ]
    }
   ],
   "source": [
    "!mysql sakila -e \"select * from address limit 5\""
   ]
  },
  {
   "cell_type": "code",
   "execution_count": 11,
   "id": "79bfbba8-2956-4868-9f0e-2df83647cd59",
   "metadata": {},
   "outputs": [
    {
     "name": "stdout",
     "output_type": "stream",
     "text": [
      "+---------+--------------------+------------+---------------------+\n",
      "| city_id | city               | country_id | last_update         |\n",
      "+---------+--------------------+------------+---------------------+\n",
      "|       1 | A Corua (La Corua) |         87 | 2006-02-15 04:45:25 |\n",
      "|       2 | Abha               |         82 | 2006-02-15 04:45:25 |\n",
      "|       3 | Abu Dhabi          |        101 | 2006-02-15 04:45:25 |\n",
      "|       4 | Acua               |         60 | 2006-02-15 04:45:25 |\n",
      "|       5 | Adana              |         97 | 2006-02-15 04:45:25 |\n",
      "+---------+--------------------+------------+---------------------+\n"
     ]
    }
   ],
   "source": [
    "!mysql sakila -e \"select * from city limit 5\""
   ]
  },
  {
   "cell_type": "code",
   "execution_count": 12,
   "id": "39212f8f-bec1-4851-a60c-10b4085ae44b",
   "metadata": {},
   "outputs": [
    {
     "name": "stdout",
     "output_type": "stream",
     "text": [
      "+------------+----------------+---------------------+\n",
      "| country_id | country        | last_update         |\n",
      "+------------+----------------+---------------------+\n",
      "|          1 | Afghanistan    | 2006-02-15 04:44:00 |\n",
      "|          2 | Algeria        | 2006-02-15 04:44:00 |\n",
      "|          3 | American Samoa | 2006-02-15 04:44:00 |\n",
      "|          4 | Angola         | 2006-02-15 04:44:00 |\n",
      "|          5 | Anguilla       | 2006-02-15 04:44:00 |\n",
      "+------------+----------------+---------------------+\n"
     ]
    }
   ],
   "source": [
    "!mysql sakila -e \"select * from country limit 5\""
   ]
  },
  {
   "cell_type": "code",
   "execution_count": 13,
   "id": "5deaeb78-974b-4a1e-8a2b-c60a5fedb930",
   "metadata": {},
   "outputs": [
    {
     "name": "stdout",
     "output_type": "stream",
     "text": [
      "+-------------+----------+------------+-----------+-------------------------------------+------------+--------+---------------------+---------------------+\n",
      "| customer_id | store_id | first_name | last_name | email                               | address_id | active | create_date         | last_update         |\n",
      "+-------------+----------+------------+-----------+-------------------------------------+------------+--------+---------------------+---------------------+\n",
      "|           1 |        1 | MARY       | SMITH     | MARY.SMITH@sakilacustomer.org       |          5 |      1 | 2006-02-14 22:04:36 | 2006-02-15 04:57:20 |\n",
      "|           2 |        1 | PATRICIA   | JOHNSON   | PATRICIA.JOHNSON@sakilacustomer.org |          6 |      1 | 2006-02-14 22:04:36 | 2006-02-15 04:57:20 |\n",
      "|           3 |        1 | LINDA      | WILLIAMS  | LINDA.WILLIAMS@sakilacustomer.org   |          7 |      1 | 2006-02-14 22:04:36 | 2006-02-15 04:57:20 |\n",
      "|           4 |        2 | BARBARA    | JONES     | BARBARA.JONES@sakilacustomer.org    |          8 |      1 | 2006-02-14 22:04:36 | 2006-02-15 04:57:20 |\n",
      "|           5 |        1 | ELIZABETH  | BROWN     | ELIZABETH.BROWN@sakilacustomer.org  |          9 |      1 | 2006-02-14 22:04:36 | 2006-02-15 04:57:20 |\n",
      "+-------------+----------+------------+-----------+-------------------------------------+------------+--------+---------------------+---------------------+\n"
     ]
    }
   ],
   "source": [
    "!mysql sakila -e \"select * from customer limit 5\""
   ]
  },
  {
   "cell_type": "markdown",
   "id": "d263465f-4280-4875-b63d-ad5747e03fb7",
   "metadata": {},
   "source": [
    "#### Query for G rated films in the film table sorted by their length"
   ]
  },
  {
   "cell_type": "code",
   "execution_count": 14,
   "id": "3f4eabfc-30ca-4048-92c8-62c512e94aff",
   "metadata": {},
   "outputs": [
    {
     "name": "stdout",
     "output_type": "stream",
     "text": [
      "+---------+---------------------------+------------------------------------------------------------------------------------------------------------------------------------+--------------+-------------+----------------------+-----------------+-------------+--------+------------------+--------+--------------------------------------------------------+---------------------+\n",
      "| film_id | title                     | description                                                                                                                        | release_year | language_id | original_language_id | rental_duration | rental_rate | length | replacement_cost | rating | special_features                                       | last_update         |\n",
      "+---------+---------------------------+------------------------------------------------------------------------------------------------------------------------------------+--------------+-------------+----------------------+-----------------+-------------+--------+------------------+--------+--------------------------------------------------------+---------------------+\n",
      "|     237 | DIVORCE SHINING           | A Unbelieveable Saga of a Crocodile And a Student who must Discover a Cat in Ancient India                                         |         2006 |           1 |                 NULL |               3 |        2.99 |     47 |            21.99 | G      | Trailers,Commentaries,Deleted Scenes                   | 2006-02-15 05:03:42 |\n",
      "|     247 | DOWNHILL ENOUGH           | A Emotional Tale of a Pastry Chef And a Forensic Psychologist who must Succumb a Monkey in The Sahara Desert                       |         2006 |           1 |                 NULL |               3 |        0.99 |     47 |            19.99 | G      | Trailers,Commentaries,Deleted Scenes                   | 2006-02-15 05:03:42 |\n",
      "|       2 | ACE GOLDFINGER            | A Astounding Epistle of a Database Administrator And a Explorer who must Find a Car in Ancient China                               |         2006 |           1 |                 NULL |               3 |        4.99 |     48 |            12.99 | G      | Trailers,Deleted Scenes                                | 2006-02-15 05:03:42 |\n",
      "|     575 | MIDSUMMER GROUNDHOG       | A Fateful Panorama of a Moose And a Dog who must Chase a Crocodile in Ancient Japan                                                |         2006 |           1 |                 NULL |               3 |        4.99 |     48 |            27.99 | G      | Trailers,Deleted Scenes                                | 2006-02-15 05:03:42 |\n",
      "|     430 | HOOK CHARIOTS             | A Insightful Story of a Boy And a Dog who must Redeem a Boy in Australia                                                           |         2006 |           1 |                 NULL |               7 |        0.99 |     49 |            23.99 | G      | Trailers,Commentaries,Behind the Scenes                | 2006-02-15 05:03:42 |\n",
      "|      83 | BLUES INSTINCT            | A Insightful Documentary of a Boat And a Composer who must Meet a Forensic Psychologist in An Abandoned Fun House                  |         2006 |           1 |                 NULL |               5 |        2.99 |     50 |            18.99 | G      | Trailers,Deleted Scenes,Behind the Scenes              | 2006-02-15 05:03:42 |\n",
      "|     292 | EXCITEMENT EVE            | A Brilliant Documentary of a Monkey And a Car who must Conquer a Crocodile in A Shark Tank                                         |         2006 |           1 |                 NULL |               3 |        0.99 |     51 |            20.99 | G      | Commentaries                                           | 2006-02-15 05:03:42 |\n",
      "|     402 | HARPER DYING              | A Awe-Inspiring Reflection of a Woman And a Cat who must Confront a Feminist in The Sahara Desert                                  |         2006 |           1 |                 NULL |               3 |        0.99 |     52 |            15.99 | G      | Trailers                                               | 2006-02-15 05:03:42 |\n",
      "|     542 | LUST LOCK                 | A Fanciful Panorama of a Hunter And a Dentist who must Meet a Secret Agent in The Sahara Desert                                    |         2006 |           1 |                 NULL |               3 |        2.99 |     52 |            28.99 | G      | Trailers,Commentaries,Behind the Scenes                | 2006-02-15 05:03:42 |\n",
      "|     794 | SIDE ARK                  | A Stunning Panorama of a Crocodile And a Womanizer who must Meet a Feminist in The Canadian Rockies                                |         2006 |           1 |                 NULL |               5 |        0.99 |     52 |            28.99 | G      | Deleted Scenes,Behind the Scenes                       | 2006-02-15 05:03:42 |\n",
      "|     697 | PRIMARY GLASS             | A Fateful Documentary of a Pastry Chef And a Butler who must Build a Dog in The Canadian Rockies                                   |         2006 |           1 |                 NULL |               7 |        0.99 |     53 |            16.99 | G      | Trailers,Deleted Scenes,Behind the Scenes              | 2006-02-15 05:03:42 |\n",
      "|     862 | SUMMER SCARFACE           | A Emotional Panorama of a Lumberjack And a Hunter who must Meet a Girl in A Shark Tank                                             |         2006 |           1 |                 NULL |               5 |        0.99 |     53 |            25.99 | G      | Deleted Scenes,Behind the Scenes                       | 2006-02-15 05:03:42 |\n",
      "|     497 | KILL BROTHERHOOD          | A Touching Display of a Hunter And a Secret Agent who must Redeem a Husband in The Outback                                         |         2006 |           1 |                 NULL |               4 |        0.99 |     54 |            15.99 | G      | Trailers,Commentaries                                  | 2006-02-15 05:03:42 |\n",
      "|      97 | BRIDE INTRIGUE            | A Epic Tale of a Robot And a Monkey who must Vanquish a Man in New Orleans                                                         |         2006 |           1 |                 NULL |               7 |        0.99 |     56 |            24.99 | G      | Trailers,Commentaries,Behind the Scenes                | 2006-02-15 05:03:42 |\n",
      "|     226 | DESTINY SATURDAY          | A Touching Drama of a Crocodile And a Crocodile who must Conquer a Explorer in Soviet Georgia                                      |         2006 |           1 |                 NULL |               4 |        4.99 |     56 |            20.99 | G      | Trailers,Commentaries,Behind the Scenes                | 2006-02-15 05:03:42 |\n",
      "|     238 | DOCTOR GRAIL              | A Insightful Drama of a Womanizer And a Waitress who must Reach a Forensic Psychologist in The Outback                             |         2006 |           1 |                 NULL |               4 |        2.99 |     57 |            29.99 | G      | Trailers,Commentaries,Behind the Scenes                | 2006-02-15 05:03:42 |\n",
      "|     598 | MOSQUITO ARMAGEDDON       | A Thoughtful Character Study of a Waitress And a Feminist who must Build a Teacher in Ancient Japan                                |         2006 |           1 |                 NULL |               6 |        0.99 |     57 |            22.99 | G      | Trailers                                               | 2006-02-15 05:03:42 |\n",
      "|     626 | NOON PAPI                 | A Unbelieveable Character Study of a Mad Scientist And a Astronaut who must Find a Pioneer in A Manhattan Penthouse                |         2006 |           1 |                 NULL |               5 |        2.99 |     57 |            12.99 | G      | Behind the Scenes                                      | 2006-02-15 05:03:42 |\n",
      "|     732 | RINGS HEARTBREAKERS       | A Amazing Yarn of a Sumo Wrestler And a Boat who must Conquer a Waitress in New Orleans                                            |         2006 |           1 |                 NULL |               5 |        0.99 |     58 |            17.99 | G      | Trailers,Commentaries,Behind the Scenes                | 2006-02-15 05:03:42 |\n",
      "|     409 | HEARTBREAKERS BRIGHT      | A Awe-Inspiring Documentary of a A Shark And a Dentist who must Outrace a Pastry Chef in The Canadian Rockies                      |         2006 |           1 |                 NULL |               3 |        4.99 |     59 |             9.99 | G      | Trailers,Deleted Scenes                                | 2006-02-15 05:03:42 |\n",
      "|     581 | MINORITY KISS             | A Insightful Display of a Lumberjack And a Sumo Wrestler who must Meet a Man in The Outback                                        |         2006 |           1 |                 NULL |               4 |        0.99 |     59 |            16.99 | G      | Trailers                                               | 2006-02-15 05:03:42 |\n",
      "|     811 | SMILE EARRING             | A Intrepid Drama of a Teacher And a Butler who must Build a Pastry Chef in Berlin                                                  |         2006 |           1 |                 NULL |               4 |        2.99 |     60 |            29.99 | G      | Commentaries,Behind the Scenes                         | 2006-02-15 05:03:42 |\n",
      "|      77 | BIRDS PERDITION           | A Boring Story of a Womanizer And a Pioneer who must Face a Dog in California                                                      |         2006 |           1 |                 NULL |               5 |        4.99 |     61 |            15.99 | G      | Trailers,Behind the Scenes                             | 2006-02-15 05:03:42 |\n",
      "|     106 | BULWORTH COMMANDMENTS     | A Amazing Display of a Mad Cow And a Pioneer who must Redeem a Sumo Wrestler in The Outback                                        |         2006 |           1 |                 NULL |               4 |        2.99 |     61 |            14.99 | G      | Trailers                                               | 2006-02-15 05:03:42 |\n",
      "|     964 | WATERFRONT DELIVERANCE    | A Unbelieveable Documentary of a Dentist And a Technical Writer who must Build a Womanizer in Nigeria                              |         2006 |           1 |                 NULL |               4 |        4.99 |     61 |            17.99 | G      | Behind the Scenes                                      | 2006-02-15 05:03:42 |\n",
      "|     396 | HANGING DEEP              | A Action-Packed Yarn of a Boat And a Crocodile who must Build a Monkey in Berlin                                                   |         2006 |           1 |                 NULL |               5 |        4.99 |     62 |            18.99 | G      | Trailers,Commentaries,Deleted Scenes                   | 2006-02-15 05:03:42 |\n",
      "|     816 | SNOWMAN ROLLERCOASTER     | A Fateful Display of a Lumberjack And a Girl who must Succumb a Mad Cow in A Manhattan Penthouse                                   |         2006 |           1 |                 NULL |               3 |        0.99 |     62 |            27.99 | G      | Trailers                                               | 2006-02-15 05:03:42 |\n",
      "|     920 | UNBREAKABLE KARATE        | A Amazing Character Study of a Robot And a Student who must Chase a Robot in Australia                                             |         2006 |           1 |                 NULL |               3 |        0.99 |     62 |            16.99 | G      | Deleted Scenes,Behind the Scenes                       | 2006-02-15 05:03:42 |\n",
      "|      85 | BONNIE HOLOCAUST          | A Fast-Paced Story of a Crocodile And a Robot who must Find a Moose in Ancient Japan                                               |         2006 |           1 |                 NULL |               4 |        0.99 |     63 |            29.99 | G      | Deleted Scenes                                         | 2006-02-15 05:03:42 |\n",
      "|      89 | BORROWERS BEDAZZLED       | A Brilliant Epistle of a Teacher And a Sumo Wrestler who must Defeat a Man in An Abandoned Fun House                               |         2006 |           1 |                 NULL |               7 |        0.99 |     63 |            22.99 | G      | Commentaries,Deleted Scenes,Behind the Scenes          | 2006-02-15 05:03:42 |\n",
      "|     107 | BUNCH MINDS               | A Emotional Story of a Feminist And a Feminist who must Escape a Pastry Chef in A MySQL Convention                                 |         2006 |           1 |                 NULL |               4 |        2.99 |     63 |            13.99 | G      | Behind the Scenes                                      | 2006-02-15 05:03:42 |\n",
      "|     631 | NOVOCAINE FLIGHT          | A Fanciful Display of a Student And a Teacher who must Outgun a Crocodile in Nigeria                                               |         2006 |           1 |                 NULL |               4 |        0.99 |     64 |            11.99 | G      | Trailers,Commentaries,Deleted Scenes                   | 2006-02-15 05:03:42 |\n",
      "|     805 | SLEEPLESS MONSOON         | A Amazing Saga of a Moose And a Pastry Chef who must Escape a Butler in Australia                                                  |         2006 |           1 |                 NULL |               5 |        4.99 |     64 |            12.99 | G      | Trailers,Deleted Scenes,Behind the Scenes              | 2006-02-15 05:03:42 |\n",
      "|      55 | BARBARELLA STREETCAR      | A Awe-Inspiring Story of a Feminist And a Cat who must Conquer a Dog in A Monastery                                                |         2006 |           1 |                 NULL |               6 |        2.99 |     65 |            27.99 | G      | Behind the Scenes                                      | 2006-02-15 05:03:42 |\n",
      "|     289 | EVE RESURRECTION          | A Awe-Inspiring Yarn of a Pastry Chef And a Database Administrator who must Challenge a Teacher in A Baloon                        |         2006 |           1 |                 NULL |               5 |        4.99 |     66 |            25.99 | G      | Trailers,Commentaries,Deleted Scenes                   | 2006-02-15 05:03:42 |\n",
      "|     529 | LONELY ELEPHANT           | A Intrepid Story of a Student And a Dog who must Challenge a Explorer in Soviet Georgia                                            |         2006 |           1 |                 NULL |               3 |        2.99 |     67 |            12.99 | G      | Trailers,Commentaries,Deleted Scenes,Behind the Scenes | 2006-02-15 05:03:42 |\n",
      "|     196 | CRUELTY UNFORGIVEN        | A Brilliant Tale of a Car And a Moose who must Battle a Dentist in Nigeria                                                         |         2006 |           1 |                 NULL |               7 |        0.99 |     69 |            29.99 | G      | Deleted Scenes,Behind the Scenes                       | 2006-02-15 05:03:42 |\n",
      "|     891 | TIMBERLAND SKY            | A Boring Display of a Man And a Dog who must Redeem a Girl in A U-Boat                                                             |         2006 |           1 |                 NULL |               3 |        0.99 |     69 |            13.99 | G      | Commentaries                                           | 2006-02-15 05:03:42 |\n",
      "|     165 | COLDBLOODED DARLING       | A Brilliant Panorama of a Dentist And a Moose who must Find a Student in The Gulf of Mexico                                        |         2006 |           1 |                 NULL |               7 |        4.99 |     70 |            27.99 | G      | Trailers,Deleted Scenes                                | 2006-02-15 05:03:42 |\n",
      "|      82 | BLOOD ARGONAUTS           | A Boring Drama of a Explorer And a Man who must Kill a Lumberjack in A Manhattan Penthouse                                         |         2006 |           1 |                 NULL |               3 |        0.99 |     71 |            13.99 | G      | Trailers,Commentaries,Behind the Scenes                | 2006-02-15 05:03:42 |\n",
      "|     718 | REBEL AIRPORT             | A Intrepid Yarn of a Database Administrator And a Boat who must Outrace a Husband in Ancient India                                 |         2006 |           1 |                 NULL |               7 |        0.99 |     73 |            24.99 | G      | Trailers,Behind the Scenes                             | 2006-02-15 05:03:42 |\n",
      "|     932 | VALLEY PACKER             | A Astounding Documentary of a Astronaut And a Boy who must Outrace a Sumo Wrestler in Berlin                                       |         2006 |           1 |                 NULL |               3 |        0.99 |     73 |            21.99 | G      | Commentaries,Deleted Scenes                            | 2006-02-15 05:03:42 |\n",
      "|     954 | WAKE JAWS                 | A Beautiful Saga of a Feminist And a Composer who must Challenge a Moose in Berlin                                                 |         2006 |           1 |                 NULL |               7 |        4.99 |     73 |            18.99 | G      | Trailers,Commentaries,Deleted Scenes,Behind the Scenes | 2006-02-15 05:03:42 |\n",
      "|      25 | ANGELS LIFE               | A Thoughtful Display of a Woman And a Astronaut who must Battle a Robot in Berlin                                                  |         2006 |           1 |                 NULL |               3 |        2.99 |     74 |            15.99 | G      | Trailers                                               | 2006-02-15 05:03:42 |\n",
      "|     878 | TEEN APOLLO               | A Awe-Inspiring Drama of a Dog And a Man who must Escape a Robot in A Shark Tank                                                   |         2006 |           1 |                 NULL |               3 |        4.99 |     74 |            25.99 | G      | Trailers,Deleted Scenes,Behind the Scenes              | 2006-02-15 05:03:42 |\n",
      "|     537 | LOVER TRUMAN              | A Emotional Yarn of a Robot And a Boy who must Outgun a Technical Writer in A U-Boat                                               |         2006 |           1 |                 NULL |               3 |        2.99 |     75 |            29.99 | G      | Trailers                                               | 2006-02-15 05:03:42 |\n",
      "|     763 | SATISFACTION CONFIDENTIAL | A Lacklusture Yarn of a Dentist And a Butler who must Meet a Secret Agent in Ancient China                                         |         2006 |           1 |                 NULL |               3 |        4.99 |     75 |            26.99 | G      | Commentaries,Deleted Scenes,Behind the Scenes          | 2006-02-15 05:03:42 |\n",
      "|     678 | PICKUP DRIVING            | A Touching Documentary of a Husband And a Boat who must Meet a Pastry Chef in A Baloon Factory                                     |         2006 |           1 |                 NULL |               3 |        2.99 |     77 |            23.99 | G      | Trailers,Commentaries,Deleted Scenes,Behind the Scenes | 2006-02-15 05:03:42 |\n",
      "|     828 | SPIKING ELEMENT           | A Lacklusture Epistle of a Dentist And a Technical Writer who must Find a Dog in A Monastery                                       |         2006 |           1 |                 NULL |               7 |        2.99 |     79 |            12.99 | G      | Trailers,Deleted Scenes,Behind the Scenes              | 2006-02-15 05:03:42 |\n",
      "|     968 | WEREWOLF LOLA             | A Fanciful Story of a Man And a Sumo Wrestler who must Outrace a Student in A Monastery                                            |         2006 |           1 |                 NULL |               6 |        4.99 |     79 |            19.99 | G      | Trailers,Behind the Scenes                             | 2006-02-15 05:03:42 |\n",
      "|     350 | GARDEN ISLAND             | A Unbelieveable Character Study of a Womanizer And a Madman who must Reach a Man in The Outback                                    |         2006 |           1 |                 NULL |               3 |        4.99 |     80 |            21.99 | G      | Trailers,Behind the Scenes                             | 2006-02-15 05:03:42 |\n",
      "|     567 | MEET CHOCOLATE            | A Boring Documentary of a Dentist And a Butler who must Confront a Monkey in A MySQL Convention                                    |         2006 |           1 |                 NULL |               3 |        2.99 |     80 |            26.99 | G      | Trailers                                               | 2006-02-15 05:03:42 |\n",
      "|     916 | TURN STAR                 | A Stunning Tale of a Man And a Monkey who must Chase a Student in New Orleans                                                      |         2006 |           1 |                 NULL |               3 |        2.99 |     80 |            10.99 | G      | Commentaries,Behind the Scenes                         | 2006-02-15 05:03:42 |\n",
      "|     957 | WAR NOTTING               | A Boring Drama of a Teacher And a Sumo Wrestler who must Challenge a Secret Agent in The Canadian Rockies                          |         2006 |           1 |                 NULL |               7 |        4.99 |     80 |            26.99 | G      | Deleted Scenes,Behind the Scenes                       | 2006-02-15 05:03:42 |\n",
      "|     154 | CLASH FREDDY              | A Amazing Yarn of a Composer And a Squirrel who must Escape a Astronaut in Australia                                               |         2006 |           1 |                 NULL |               6 |        2.99 |     81 |            12.99 | G      | Commentaries,Deleted Scenes                            | 2006-02-15 05:03:42 |\n",
      "|     224 | DESPERATE TRAINSPOTTING   | A Epic Yarn of a Forensic Psychologist And a Teacher who must Face a Lumberjack in California                                      |         2006 |           1 |                 NULL |               7 |        4.99 |     81 |            29.99 | G      | Deleted Scenes                                         | 2006-02-15 05:03:42 |\n",
      "|     919 | TYCOON GATHERING          | A Emotional Display of a Husband And a A Shark who must Succumb a Madman in A Manhattan Penthouse                                  |         2006 |           1 |                 NULL |               3 |        4.99 |     82 |            17.99 | G      | Trailers,Commentaries,Deleted Scenes                   | 2006-02-15 05:03:42 |\n",
      "|     959 | WARLOCK WEREWOLF          | A Astounding Yarn of a Pioneer And a Crocodile who must Defeat a A Shark in The Outback                                            |         2006 |           1 |                 NULL |               6 |        2.99 |     83 |            10.99 | G      | Commentaries,Behind the Scenes                         | 2006-02-15 05:03:42 |\n",
      "|     203 | DAISY MENAGERIE           | A Fast-Paced Saga of a Pastry Chef And a Monkey who must Sink a Composer in Ancient India                                          |         2006 |           1 |                 NULL |               5 |        4.99 |     84 |             9.99 | G      | Trailers,Commentaries,Behind the Scenes                | 2006-02-15 05:03:42 |\n",
      "|      22 | AMISTAD MIDSUMMER         | A Emotional Character Study of a Dentist And a Crocodile who must Meet a Sumo Wrestler in California                               |         2006 |           1 |                 NULL |               6 |        2.99 |     85 |            10.99 | G      | Commentaries,Behind the Scenes                         | 2006-02-15 05:03:42 |\n",
      "|     123 | CASABLANCA SUPER          | A Amazing Panorama of a Crocodile And a Forensic Psychologist who must Pursue a Secret Agent in The First Manned Space Station     |         2006 |           1 |                 NULL |               6 |        4.99 |     85 |            22.99 | G      | Trailers,Deleted Scenes,Behind the Scenes              | 2006-02-15 05:03:42 |\n",
      "|     354 | GHOST GROUNDHOG           | A Brilliant Panorama of a Madman And a Composer who must Succumb a Car in Ancient India                                            |         2006 |           1 |                 NULL |               6 |        4.99 |     85 |            18.99 | G      | Trailers,Commentaries,Deleted Scenes,Behind the Scenes | 2006-02-15 05:03:42 |\n",
      "|      26 | ANNIE IDENTITY            | A Amazing Panorama of a Pastry Chef And a Boat who must Escape a Woman in An Abandoned Amusement Park                              |         2006 |           1 |                 NULL |               3 |        0.99 |     86 |            15.99 | G      | Commentaries,Deleted Scenes                            | 2006-02-15 05:03:42 |\n",
      "|     574 | MIDNIGHT WESTWARD         | A Taut Reflection of a Husband And a A Shark who must Redeem a Pastry Chef in A Monastery                                          |         2006 |           1 |                 NULL |               3 |        0.99 |     86 |            19.99 | G      | Trailers,Deleted Scenes                                | 2006-02-15 05:03:42 |\n",
      "|     140 | CHEAPER CLYDE             | A Emotional Character Study of a Pioneer And a Girl who must Discover a Dog in Ancient Japan                                       |         2006 |           1 |                 NULL |               6 |        0.99 |     87 |            23.99 | G      | Trailers,Commentaries,Behind the Scenes                | 2006-02-15 05:03:42 |\n",
      "|     109 | BUTTERFLY CHOCOLAT        | A Fateful Story of a Girl And a Composer who must Conquer a Husband in A Shark Tank                                                |         2006 |           1 |                 NULL |               3 |        0.99 |     89 |            17.99 | G      | Behind the Scenes                                      | 2006-02-15 05:03:42 |\n",
      "|     702 | PULP BEVERLY              | A Unbelieveable Display of a Dog And a Crocodile who must Outrace a Man in Nigeria                                                 |         2006 |           1 |                 NULL |               4 |        2.99 |     89 |            12.99 | G      | Trailers,Behind the Scenes                             | 2006-02-15 05:03:42 |\n",
      "|     915 | TRUMAN CRAZY              | A Thrilling Epistle of a Moose And a Boy who must Meet a Database Administrator in A Monastery                                     |         2006 |           1 |                 NULL |               7 |        4.99 |     92 |             9.99 | G      | Trailers,Commentaries                                  | 2006-02-15 05:03:42 |\n",
      "|     366 | GOLDFINGER SENSIBILITY    | A Insightful Drama of a Mad Scientist And a Hunter who must Defeat a Pastry Chef in New Orleans                                    |         2006 |           1 |                 NULL |               3 |        0.99 |     93 |            29.99 | G      | Trailers,Commentaries,Behind the Scenes                | 2006-02-15 05:03:42 |\n",
      "|     417 | HILLS NEIGHBORS           | A Epic Display of a Hunter And a Feminist who must Sink a Car in A U-Boat                                                          |         2006 |           1 |                 NULL |               5 |        0.99 |     93 |            29.99 | G      | Trailers,Commentaries,Deleted Scenes,Behind the Scenes | 2006-02-15 05:03:42 |\n",
      "|     654 | PANKY SUBMARINE           | A Touching Documentary of a Dentist And a Sumo Wrestler who must Overcome a Boy in The Gulf of Mexico                              |         2006 |           1 |                 NULL |               4 |        4.99 |     93 |            19.99 | G      | Trailers,Commentaries,Deleted Scenes,Behind the Scenes | 2006-02-15 05:03:42 |\n",
      "|     860 | SUICIDES SILENCE          | A Emotional Character Study of a Car And a Girl who must Face a Composer in A U-Boat                                               |         2006 |           1 |                 NULL |               4 |        4.99 |     93 |            13.99 | G      | Deleted Scenes                                         | 2006-02-15 05:03:42 |\n",
      "|     848 | STONE FIRE                | A Intrepid Drama of a Astronaut And a Crocodile who must Find a Boat in Soviet Georgia                                             |         2006 |           1 |                 NULL |               3 |        0.99 |     94 |            19.99 | G      | Trailers                                               | 2006-02-15 05:03:42 |\n",
      "|      39 | ARMAGEDDON LOST           | A Fast-Paced Tale of a Boat And a Teacher who must Succumb a Composer in An Abandoned Mine Shaft                                   |         2006 |           1 |                 NULL |               5 |        0.99 |     99 |            10.99 | G      | Trailers                                               | 2006-02-15 05:03:42 |\n",
      "|     322 | FLATLINERS KILLER         | A Taut Display of a Secret Agent And a Waitress who must Sink a Robot in An Abandoned Mine Shaft                                   |         2006 |           1 |                 NULL |               5 |        2.99 |    100 |            29.99 | G      | Trailers,Commentaries,Deleted Scenes                   | 2006-02-15 05:03:42 |\n",
      "|     387 | GUN BONNIE                | A Boring Display of a Sumo Wrestler And a Husband who must Build a Waitress in The Gulf of Mexico                                  |         2006 |           1 |                 NULL |               7 |        0.99 |    100 |            27.99 | G      | Behind the Scenes                                      | 2006-02-15 05:03:42 |\n",
      "|     399 | HAPPINESS UNITED          | A Action-Packed Panorama of a Husband And a Feminist who must Meet a Forensic Psychologist in Ancient Japan                        |         2006 |           1 |                 NULL |               6 |        2.99 |    100 |            23.99 | G      | Deleted Scenes                                         | 2006-02-15 05:03:42 |\n",
      "|     445 | HYDE DOCTOR               | A Fanciful Documentary of a Boy And a Woman who must Redeem a Womanizer in A Jet Boat                                              |         2006 |           1 |                 NULL |               5 |        2.99 |    100 |            11.99 | G      | Trailers,Deleted Scenes                                | 2006-02-15 05:03:42 |\n",
      "|     264 | DWARFS ALTER              | A Emotional Yarn of a Girl And a Dog who must Challenge a Composer in Ancient Japan                                                |         2006 |           1 |                 NULL |               6 |        2.99 |    101 |            13.99 | G      | Commentaries,Deleted Scenes                            | 2006-02-15 05:03:42 |\n",
      "|     412 | HEAVYWEIGHTS BEAST        | A Unbelieveable Story of a Composer And a Dog who must Overcome a Womanizer in An Abandoned Amusement Park                         |         2006 |           1 |                 NULL |               6 |        4.99 |    102 |            25.99 | G      | Deleted Scenes                                         | 2006-02-15 05:03:42 |\n",
      "|     653 | PANIC CLUB                | A Fanciful Display of a Teacher And a Crocodile who must Succumb a Girl in A Baloon                                                |         2006 |           1 |                 NULL |               3 |        4.99 |    102 |            15.99 | G      | Commentaries,Deleted Scenes                            | 2006-02-15 05:03:42 |\n",
      "|     737 | ROCK INSTINCT             | A Astounding Character Study of a Robot And a Moose who must Overcome a Astronaut in Ancient India                                 |         2006 |           1 |                 NULL |               4 |        0.99 |    102 |            28.99 | G      | Trailers,Commentaries,Deleted Scenes,Behind the Scenes | 2006-02-15 05:03:42 |\n",
      "|     318 | FIREHOUSE VIETNAM         | A Awe-Inspiring Character Study of a Boat And a Boy who must Kill a Pastry Chef in The Sahara Desert                               |         2006 |           1 |                 NULL |               7 |        0.99 |    103 |            14.99 | G      | Commentaries,Deleted Scenes                            | 2006-02-15 05:03:42 |\n",
      "|     360 | GLASS DYING               | A Astounding Drama of a Frisbee And a Astronaut who must Fight a Dog in Ancient Japan                                              |         2006 |           1 |                 NULL |               4 |        0.99 |    103 |            24.99 | G      | Trailers                                               | 2006-02-15 05:03:42 |\n",
      "|     440 | HUNGER ROOF               | A Unbelieveable Yarn of a Student And a Database Administrator who must Outgun a Husband in An Abandoned Mine Shaft                |         2006 |           1 |                 NULL |               6 |        0.99 |    105 |            21.99 | G      | Deleted Scenes,Behind the Scenes                       | 2006-02-15 05:03:42 |\n",
      "|     585 | MOB DUFFEL                | A Unbelieveable Documentary of a Frisbee And a Boat who must Meet a Boy in The Canadian Rockies                                    |         2006 |           1 |                 NULL |               4 |        0.99 |    105 |            25.99 | G      | Trailers                                               | 2006-02-15 05:03:42 |\n",
      "|     757 | SAGEBRUSH CLUELESS        | A Insightful Story of a Lumberjack And a Hunter who must Kill a Boy in Ancient Japan                                               |         2006 |           1 |                 NULL |               4 |        2.99 |    106 |            28.99 | G      | Trailers                                               | 2006-02-15 05:03:42 |\n",
      "|     146 | CHITTY LOCK               | A Boring Epistle of a Boat And a Database Administrator who must Kill a Sumo Wrestler in The First Manned Space Station            |         2006 |           1 |                 NULL |               6 |        2.99 |    107 |            24.99 | G      | Commentaries                                           | 2006-02-15 05:03:42 |\n",
      "|     230 | DIARY PANIC               | A Thoughtful Character Study of a Frisbee And a Mad Cow who must Outgun a Man in Ancient India                                     |         2006 |           1 |                 NULL |               7 |        2.99 |    107 |            20.99 | G      | Commentaries,Behind the Scenes                         | 2006-02-15 05:03:42 |\n",
      "|      46 | AUTUMN CROW               | A Beautiful Tale of a Dentist And a Mad Cow who must Battle a Moose in The Sahara Desert                                           |         2006 |           1 |                 NULL |               3 |        4.99 |    108 |            13.99 | G      | Trailers,Commentaries,Deleted Scenes,Behind the Scenes | 2006-02-15 05:03:42 |\n",
      "|     873 | SWEETHEARTS SUSPECTS      | A Brilliant Character Study of a Frisbee And a Sumo Wrestler who must Confront a Woman in The Gulf of Mexico                       |         2006 |           1 |                 NULL |               3 |        0.99 |    108 |            13.99 | G      | Trailers,Commentaries,Deleted Scenes,Behind the Scenes | 2006-02-15 05:03:42 |\n",
      "|     778 | SECRETS PARADISE          | A Fateful Saga of a Cat And a Frisbee who must Kill a Girl in A Manhattan Penthouse                                                |         2006 |           1 |                 NULL |               3 |        4.99 |    109 |            24.99 | G      | Trailers,Commentaries                                  | 2006-02-15 05:03:42 |\n",
      "|     257 | DRUMLINE CYCLONE          | A Insightful Panorama of a Monkey And a Sumo Wrestler who must Outrace a Mad Scientist in The Canadian Rockies                     |         2006 |           1 |                 NULL |               3 |        0.99 |    110 |            14.99 | G      | Commentaries,Deleted Scenes,Behind the Scenes          | 2006-02-15 05:03:42 |\n",
      "|     760 | SAMURAI LION              | A Fast-Paced Story of a Pioneer And a Astronaut who must Reach a Boat in A Baloon                                                  |         2006 |           1 |                 NULL |               5 |        2.99 |    110 |            21.99 | G      | Commentaries                                           | 2006-02-15 05:03:42 |\n",
      "|     908 | TRAP GUYS                 | A Unbelieveable Story of a Boy And a Mad Cow who must Challenge a Database Administrator in The Sahara Desert                      |         2006 |           1 |                 NULL |               3 |        4.99 |    110 |            11.99 | G      | Commentaries,Behind the Scenes                         | 2006-02-15 05:03:42 |\n",
      "|     127 | CAT CONEHEADS             | A Fast-Paced Panorama of a Girl And a A Shark who must Confront a Boy in Ancient India                                             |         2006 |           1 |                 NULL |               5 |        4.99 |    112 |            14.99 | G      | Commentaries,Deleted Scenes                            | 2006-02-15 05:03:42 |\n",
      "|     478 | JAWS HARRY                | A Thrilling Display of a Database Administrator And a Monkey who must Overcome a Dog in An Abandoned Fun House                     |         2006 |           1 |                 NULL |               4 |        2.99 |    112 |            10.99 | G      | Deleted Scenes                                         | 2006-02-15 05:03:42 |\n",
      "|     965 | WATERSHIP FRONTIER        | A Emotional Yarn of a Boat And a Crocodile who must Meet a Moose in Soviet Georgia                                                 |         2006 |           1 |                 NULL |               6 |        0.99 |    112 |            28.99 | G      | Commentaries                                           | 2006-02-15 05:03:42 |\n",
      "|     216 | DAY UNFAITHFUL            | A Stunning Documentary of a Composer And a Mad Scientist who must Find a Technical Writer in A U-Boat                              |         2006 |           1 |                 NULL |               3 |        4.99 |    113 |            16.99 | G      | Trailers,Commentaries,Deleted Scenes,Behind the Scenes | 2006-02-15 05:03:42 |\n",
      "|     357 | GILBERT PELICAN           | A Fateful Tale of a Man And a Feminist who must Conquer a Crocodile in A Manhattan Penthouse                                       |         2006 |           1 |                 NULL |               7 |        0.99 |    114 |            13.99 | G      | Trailers,Commentaries                                  | 2006-02-15 05:03:42 |\n",
      "|     559 | MARRIED GO                | A Fanciful Story of a Womanizer And a Dog who must Face a Forensic Psychologist in The Sahara Desert                               |         2006 |           1 |                 NULL |               7 |        2.99 |    114 |            22.99 | G      | Behind the Scenes                                      | 2006-02-15 05:03:42 |\n",
      "|     178 | CONNECTION MICROCOSMOS    | A Fateful Documentary of a Crocodile And a Husband who must Face a Husband in The First Manned Space Station                       |         2006 |           1 |                 NULL |               6 |        0.99 |    115 |            25.99 | G      | Deleted Scenes,Behind the Scenes                       | 2006-02-15 05:03:42 |\n",
      "|       4 | AFFAIR PREJUDICE          | A Fanciful Documentary of a Frisbee And a Lumberjack who must Chase a Monkey in A Shark Tank                                       |         2006 |           1 |                 NULL |               5 |        2.99 |    117 |            26.99 | G      | Commentaries,Behind the Scenes                         | 2006-02-15 05:03:42 |\n",
      "|     313 | FIDELITY DEVIL            | A Awe-Inspiring Drama of a Technical Writer And a Composer who must Reach a Pastry Chef in A U-Boat                                |         2006 |           1 |                 NULL |               5 |        4.99 |    118 |            11.99 | G      | Trailers,Deleted Scenes,Behind the Scenes              | 2006-02-15 05:03:42 |\n",
      "|     104 | BUGSY SONG                | A Awe-Inspiring Character Study of a Secret Agent And a Boat who must Find a Squirrel in The First Manned Space Station            |         2006 |           1 |                 NULL |               4 |        2.99 |    119 |            17.99 | G      | Commentaries                                           | 2006-02-15 05:03:42 |\n",
      "|     217 | DAZED PUNK                | A Action-Packed Story of a Pioneer And a Technical Writer who must Discover a Forensic Psychologist in An Abandoned Amusement Park |         2006 |           1 |                 NULL |               6 |        4.99 |    120 |            20.99 | G      | Commentaries,Deleted Scenes                            | 2006-02-15 05:03:42 |\n",
      "|     490 | JUMANJI BLADE             | A Intrepid Yarn of a Husband And a Womanizer who must Pursue a Mad Scientist in New Orleans                                        |         2006 |           1 |                 NULL |               4 |        2.99 |    121 |            13.99 | G      | Commentaries,Behind the Scenes                         | 2006-02-15 05:03:42 |\n",
      "|      58 | BEACH HEARTBREAKERS       | A Fateful Display of a Womanizer And a Mad Scientist who must Outgun a A Shark in Soviet Georgia                                   |         2006 |           1 |                 NULL |               6 |        2.99 |    122 |            16.99 | G      | Deleted Scenes,Behind the Scenes                       | 2006-02-15 05:03:42 |\n",
      "|     239 | DOGMA FAMILY              | A Brilliant Character Study of a Database Administrator And a Monkey who must Succumb a Astronaut in New Orleans                   |         2006 |           1 |                 NULL |               5 |        4.99 |    122 |            16.99 | G      | Commentaries                                           | 2006-02-15 05:03:42 |\n",
      "|     297 | EXTRAORDINARY CONQUERER   | A Stunning Story of a Dog And a Feminist who must Face a Forensic Psychologist in Berlin                                           |         2006 |           1 |                 NULL |               6 |        2.99 |    122 |            29.99 | G      | Trailers,Commentaries,Deleted Scenes                   | 2006-02-15 05:03:42 |\n",
      "|      95 | BREAKFAST GOLDFINGER      | A Beautiful Reflection of a Student And a Student who must Fight a Moose in Berlin                                                 |         2006 |           1 |                 NULL |               5 |        4.99 |    123 |            18.99 | G      | Trailers,Commentaries,Deleted Scenes                   | 2006-02-15 05:03:42 |\n",
      "|     145 | CHISUM BEHAVIOR           | A Epic Documentary of a Sumo Wrestler And a Butler who must Kill a Car in Ancient India                                            |         2006 |           1 |                 NULL |               5 |        4.99 |    124 |            25.99 | G      | Trailers,Commentaries,Behind the Scenes                | 2006-02-15 05:03:42 |\n",
      "|     758 | SAINTS BRIDE              | A Fateful Tale of a Technical Writer And a Composer who must Pursue a Explorer in The Gulf of Mexico                               |         2006 |           1 |                 NULL |               5 |        2.99 |    125 |            11.99 | G      | Deleted Scenes                                         | 2006-02-15 05:03:42 |\n",
      "|     787 | SHINING ROSES             | A Awe-Inspiring Character Study of a Astronaut And a Forensic Psychologist who must Challenge a Madman in Ancient India            |         2006 |           1 |                 NULL |               4 |        0.99 |    125 |            12.99 | G      | Trailers,Commentaries,Deleted Scenes,Behind the Scenes | 2006-02-15 05:03:42 |\n",
      "|      11 | ALAMO VIDEOTAPE           | A Boring Epistle of a Butler And a Cat who must Fight a Pastry Chef in A MySQL Convention                                          |         2006 |           1 |                 NULL |               6 |        0.99 |    126 |            16.99 | G      | Commentaries,Behind the Scenes                         | 2006-02-15 05:03:42 |\n",
      "|     960 | WARS PLUTO                | A Taut Reflection of a Teacher And a Database Administrator who must Chase a Madman in The Sahara Desert                           |         2006 |           1 |                 NULL |               5 |        2.99 |    128 |            15.99 | G      | Commentaries,Behind the Scenes                         | 2006-02-15 05:03:42 |\n",
      "|      56 | BAREFOOT MANCHURIAN       | A Intrepid Story of a Cat And a Student who must Vanquish a Girl in An Abandoned Amusement Park                                    |         2006 |           1 |                 NULL |               6 |        2.99 |    129 |            15.99 | G      | Trailers,Commentaries                                  | 2006-02-15 05:03:42 |\n",
      "|     371 | GOSFORD DONNIE            | A Epic Panorama of a Mad Scientist And a Monkey who must Redeem a Secret Agent in Berlin                                           |         2006 |           1 |                 NULL |               5 |        4.99 |    129 |            17.99 | G      | Commentaries                                           | 2006-02-15 05:03:42 |\n",
      "|       5 | AFRICAN EGG               | A Fast-Paced Documentary of a Pastry Chef And a Dentist who must Pursue a Forensic Psychologist in The Gulf of Mexico              |         2006 |           1 |                 NULL |               6 |        2.99 |    130 |            22.99 | G      | Deleted Scenes                                         | 2006-02-15 05:03:42 |\n",
      "|     304 | FARGO GANDHI              | A Thrilling Reflection of a Pastry Chef And a Crocodile who must Reach a Teacher in The Outback                                    |         2006 |           1 |                 NULL |               3 |        2.99 |    130 |            28.99 | G      | Deleted Scenes                                         | 2006-02-15 05:03:42 |\n",
      "|     302 | FANTASIA PARK             | A Thoughtful Documentary of a Mad Scientist And a A Shark who must Outrace a Feminist in Australia                                 |         2006 |           1 |                 NULL |               5 |        2.99 |    131 |            29.99 | G      | Commentaries                                           | 2006-02-15 05:03:42 |\n",
      "|     260 | DUDE BLINDNESS            | A Stunning Reflection of a Husband And a Lumberjack who must Face a Frisbee in An Abandoned Fun House                              |         2006 |           1 |                 NULL |               3 |        4.99 |    132 |             9.99 | G      | Trailers,Deleted Scenes                                | 2006-02-15 05:03:42 |\n",
      "|     377 | GREASE YOUTH              | A Emotional Panorama of a Secret Agent And a Waitress who must Escape a Composer in Soviet Georgia                                 |         2006 |           1 |                 NULL |               7 |        0.99 |    135 |            20.99 | G      | Trailers,Deleted Scenes                                | 2006-02-15 05:03:42 |\n",
      "|     475 | JAPANESE RUN              | A Awe-Inspiring Epistle of a Feminist And a Girl who must Sink a Girl in The Outback                                               |         2006 |           1 |                 NULL |               6 |        0.99 |    135 |            29.99 | G      | Deleted Scenes                                         | 2006-02-15 05:03:42 |\n",
      "|     519 | LIBERTY MAGNIFICENT       | A Boring Drama of a Student And a Cat who must Sink a Technical Writer in A Baloon                                                 |         2006 |           1 |                 NULL |               3 |        2.99 |    138 |            27.99 | G      | Commentaries,Deleted Scenes,Behind the Scenes          | 2006-02-15 05:03:42 |\n",
      "|     853 | STRANGER STRANGERS        | A Awe-Inspiring Yarn of a Womanizer And a Explorer who must Fight a Woman in The First Manned Space Station                        |         2006 |           1 |                 NULL |               3 |        4.99 |    139 |            12.99 | G      | Commentaries,Deleted Scenes                            | 2006-02-15 05:03:42 |\n",
      "|     903 | TRAFFIC HOBBIT            | A Amazing Epistle of a Squirrel And a Lumberjack who must Succumb a Database Administrator in A U-Boat                             |         2006 |           1 |                 NULL |               5 |        4.99 |    139 |            13.99 | G      | Trailers,Commentaries                                  | 2006-02-15 05:03:42 |\n",
      "|     419 | HOCUS FRIDA               | A Awe-Inspiring Tale of a Girl And a Madman who must Outgun a Student in A Shark Tank                                              |         2006 |           1 |                 NULL |               4 |        2.99 |    141 |            19.99 | G      | Trailers,Deleted Scenes,Behind the Scenes              | 2006-02-15 05:03:42 |\n",
      "|     901 | TRACY CIDER               | A Touching Reflection of a Database Administrator And a Madman who must Build a Lumberjack in Nigeria                              |         2006 |           1 |                 NULL |               3 |        0.99 |    142 |            29.99 | G      | Trailers,Commentaries,Behind the Scenes                | 2006-02-15 05:03:42 |\n",
      "|     281 | ENCINO ELF                | A Astounding Drama of a Feminist And a Teacher who must Confront a Husband in A Baloon                                             |         2006 |           1 |                 NULL |               6 |        0.99 |    143 |             9.99 | G      | Trailers,Behind the Scenes                             | 2006-02-15 05:03:42 |\n",
      "|     206 | DANCING FEVER             | A Stunning Story of a Explorer And a Forensic Psychologist who must Face a Crocodile in A Shark Tank                               |         2006 |           1 |                 NULL |               6 |        0.99 |    144 |            25.99 | G      | Commentaries,Behind the Scenes                         | 2006-02-15 05:03:42 |\n",
      "|     650 | PACIFIC AMISTAD           | A Thrilling Yarn of a Dog And a Moose who must Kill a Pastry Chef in A Manhattan Penthouse                                         |         2006 |           1 |                 NULL |               3 |        0.99 |    144 |            27.99 | G      | Trailers,Commentaries,Deleted Scenes,Behind the Scenes | 2006-02-15 05:03:42 |\n",
      "|     569 | MENAGERIE RUSHMORE        | A Unbelieveable Panorama of a Composer And a Butler who must Overcome a Database Administrator in The First Manned Space Station   |         2006 |           1 |                 NULL |               7 |        2.99 |    147 |            18.99 | G      | Trailers,Commentaries,Deleted Scenes                   | 2006-02-15 05:03:42 |\n",
      "|     770 | SCISSORHANDS SLUMS        | A Awe-Inspiring Drama of a Girl And a Technical Writer who must Meet a Feminist in The Canadian Rockies                            |         2006 |           1 |                 NULL |               5 |        2.99 |    147 |            13.99 | G      | Commentaries,Deleted Scenes,Behind the Scenes          | 2006-02-15 05:03:42 |\n",
      "|      80 | BLANKET BEVERLY           | A Emotional Documentary of a Student And a Girl who must Build a Boat in Nigeria                                                   |         2006 |           1 |                 NULL |               7 |        2.99 |    148 |            21.99 | G      | Trailers                                               | 2006-02-15 05:03:42 |\n",
      "|     271 | EASY GLADIATOR            | A Fateful Story of a Monkey And a Girl who must Overcome a Pastry Chef in Ancient India                                            |         2006 |           1 |                 NULL |               5 |        4.99 |    148 |            12.99 | G      | Trailers,Commentaries,Behind the Scenes                | 2006-02-15 05:03:42 |\n",
      "|     166 | COLOR PHILADELPHIA        | A Thoughtful Panorama of a Car And a Crocodile who must Sink a Monkey in The Sahara Desert                                         |         2006 |           1 |                 NULL |               6 |        2.99 |    149 |            19.99 | G      | Commentaries,Behind the Scenes                         | 2006-02-15 05:03:42 |\n",
      "|     764 | SATURDAY LAMBS            | A Thoughtful Reflection of a Mad Scientist And a Moose who must Kill a Husband in A Baloon                                         |         2006 |           1 |                 NULL |               3 |        4.99 |    150 |            28.99 | G      | Commentaries,Deleted Scenes                            | 2006-02-15 05:03:42 |\n",
      "|     834 | SPOILERS HELLFIGHTERS     | A Fanciful Story of a Technical Writer And a Squirrel who must Defeat a Dog in The Gulf of Mexico                                  |         2006 |           1 |                 NULL |               4 |        0.99 |    151 |            26.99 | G      | Trailers,Commentaries,Deleted Scenes,Behind the Scenes | 2006-02-15 05:03:42 |\n",
      "|     193 | CROSSROADS CASUALTIES     | A Intrepid Documentary of a Sumo Wrestler And a Astronaut who must Battle a Composer in The Outback                                |         2006 |           1 |                 NULL |               5 |        2.99 |    153 |            20.99 | G      | Trailers,Commentaries,Behind the Scenes                | 2006-02-15 05:03:42 |\n",
      "|     762 | SASSY PACKER              | A Fast-Paced Documentary of a Dog And a Teacher who must Find a Moose in A Manhattan Penthouse                                     |         2006 |           1 |                 NULL |               6 |        0.99 |    154 |            29.99 | G      | Deleted Scenes,Behind the Scenes                       | 2006-02-15 05:03:42 |\n",
      "|     376 | GRAPES FURY               | A Boring Yarn of a Mad Cow And a Sumo Wrestler who must Meet a Robot in Australia                                                  |         2006 |           1 |                 NULL |               4 |        0.99 |    155 |            20.99 | G      | Commentaries,Behind the Scenes                         | 2006-02-15 05:03:42 |\n",
      "|     373 | GRADUATE LORD             | A Lacklusture Epistle of a Girl And a A Shark who must Meet a Mad Scientist in Ancient China                                       |         2006 |           1 |                 NULL |               7 |        2.99 |    156 |            14.99 | G      | Trailers,Behind the Scenes                             | 2006-02-15 05:03:42 |\n",
      "|     638 | OPERATION OPERATION       | A Intrepid Character Study of a Man And a Frisbee who must Overcome a Madman in Ancient China                                      |         2006 |           1 |                 NULL |               7 |        2.99 |    156 |            23.99 | G      | Trailers,Commentaries,Deleted Scenes,Behind the Scenes | 2006-02-15 05:03:42 |\n",
      "|     593 | MONTEREY LABYRINTH        | A Awe-Inspiring Drama of a Monkey And a Composer who must Escape a Feminist in A U-Boat                                            |         2006 |           1 |                 NULL |               6 |        0.99 |    158 |            13.99 | G      | Trailers,Commentaries                                  | 2006-02-15 05:03:42 |\n",
      "|     554 | MALKOVICH PET             | A Intrepid Reflection of a Waitress And a A Shark who must Kill a Squirrel in The Outback                                          |         2006 |           1 |                 NULL |               6 |        2.99 |    159 |            22.99 | G      | Behind the Scenes                                      | 2006-02-15 05:03:42 |\n",
      "|     622 | NEWSIES STORY             | A Action-Packed Character Study of a Dog And a Lumberjack who must Outrace a Moose in The Gulf of Mexico                           |         2006 |           1 |                 NULL |               4 |        0.99 |    159 |            25.99 | G      | Trailers,Deleted Scenes                                | 2006-02-15 05:03:42 |\n",
      "|     969 | WEST LION                 | A Intrepid Drama of a Butler And a Lumberjack who must Challenge a Database Administrator in A Manhattan Penthouse                 |         2006 |           1 |                 NULL |               4 |        4.99 |    159 |            29.99 | G      | Trailers                                               | 2006-02-15 05:03:42 |\n",
      "|     604 | MULAN MOON                | A Emotional Saga of a Womanizer And a Pioneer who must Overcome a Dentist in A Baloon                                              |         2006 |           1 |                 NULL |               4 |        0.99 |    160 |            10.99 | G      | Behind the Scenes                                      | 2006-02-15 05:03:42 |\n",
      "|     202 | DADDY PITTSBURGH          | A Epic Story of a A Shark And a Student who must Confront a Explorer in The Gulf of Mexico                                         |         2006 |           1 |                 NULL |               5 |        4.99 |    161 |            26.99 | G      | Deleted Scenes,Behind the Scenes                       | 2006-02-15 05:03:42 |\n",
      "|      75 | BIRD INDEPENDENCE         | A Thrilling Documentary of a Car And a Student who must Sink a Hunter in The Canadian Rockies                                      |         2006 |           1 |                 NULL |               6 |        4.99 |    163 |            14.99 | G      | Commentaries,Behind the Scenes                         | 2006-02-15 05:03:42 |\n",
      "|     156 | CLERKS ANGELS             | A Thrilling Display of a Sumo Wrestler And a Girl who must Confront a Man in A Baloon                                              |         2006 |           1 |                 NULL |               3 |        4.99 |    164 |            15.99 | G      | Commentaries                                           | 2006-02-15 05:03:42 |\n",
      "|     153 | CITIZEN SHREK             | A Fanciful Character Study of a Technical Writer And a Husband who must Redeem a Robot in The Outback                              |         2006 |           1 |                 NULL |               7 |        0.99 |    165 |            18.99 | G      | Commentaries,Deleted Scenes                            | 2006-02-15 05:03:42 |\n",
      "|     293 | EXORCIST STING            | A Touching Drama of a Dog And a Sumo Wrestler who must Conquer a Mad Scientist in Berlin                                           |         2006 |           1 |                 NULL |               6 |        2.99 |    167 |            17.99 | G      | Commentaries,Deleted Scenes,Behind the Scenes          | 2006-02-15 05:03:42 |\n",
      "|      43 | ATLANTIS CAUSE            | A Thrilling Yarn of a Feminist And a Hunter who must Fight a Technical Writer in A Shark Tank                                      |         2006 |           1 |                 NULL |               6 |        2.99 |    170 |            15.99 | G      | Behind the Scenes                                      | 2006-02-15 05:03:42 |\n",
      "|     261 | DUFFEL APOCALYPSE         | A Emotional Display of a Boat And a Explorer who must Challenge a Madman in A MySQL Convention                                     |         2006 |           1 |                 NULL |               5 |        0.99 |    171 |            13.99 | G      | Commentaries                                           | 2006-02-15 05:03:42 |\n",
      "|      52 | BALLROOM MOCKINGBIRD      | A Thrilling Documentary of a Composer And a Monkey who must Find a Feminist in California                                          |         2006 |           1 |                 NULL |               6 |        0.99 |    173 |            29.99 | G      | Commentaries,Deleted Scenes                            | 2006-02-15 05:03:42 |\n",
      "|     179 | CONQUERER NUTS            | A Taut Drama of a Mad Scientist And a Man who must Escape a Pioneer in An Abandoned Mine Shaft                                     |         2006 |           1 |                 NULL |               4 |        4.99 |    173 |            14.99 | G      | Commentaries,Deleted Scenes,Behind the Scenes          | 2006-02-15 05:03:42 |\n",
      "|     472 | ITALIAN AFRICAN           | A Astounding Character Study of a Monkey And a Moose who must Outgun a Cat in A U-Boat                                             |         2006 |           1 |                 NULL |               3 |        4.99 |    174 |            24.99 | G      | Trailers,Commentaries,Deleted Scenes                   | 2006-02-15 05:03:42 |\n",
      "|      61 | BEAUTY GREASE             | A Fast-Paced Display of a Composer And a Moose who must Sink a Robot in An Abandoned Mine Shaft                                    |         2006 |           1 |                 NULL |               5 |        4.99 |    175 |            28.99 | G      | Trailers,Commentaries                                  | 2006-02-15 05:03:42 |\n",
      "|     119 | CAPER MOTIONS             | A Fateful Saga of a Moose And a Car who must Pursue a Woman in A MySQL Convention                                                  |         2006 |           1 |                 NULL |               6 |        0.99 |    176 |            22.99 | G      | Trailers,Commentaries,Deleted Scenes                   | 2006-02-15 05:03:42 |\n",
      "|     249 | DRACULA CRYSTAL           | A Thrilling Reflection of a Feminist And a Cat who must Find a Frisbee in An Abandoned Fun House                                   |         2006 |           1 |                 NULL |               7 |        0.99 |    176 |            26.99 | G      | Commentaries                                           | 2006-02-15 05:03:42 |\n",
      "|     431 | HOOSIERS BIRDCAGE         | A Astounding Display of a Explorer And a Boat who must Vanquish a Car in The First Manned Space Station                            |         2006 |           1 |                 NULL |               3 |        2.99 |    176 |            12.99 | G      | Trailers,Commentaries,Deleted Scenes                   | 2006-02-15 05:03:42 |\n",
      "|     280 | EMPIRE MALKOVICH          | A Amazing Story of a Feminist And a Cat who must Face a Car in An Abandoned Fun House                                              |         2006 |           1 |                 NULL |               7 |        0.99 |    177 |            26.99 | G      | Deleted Scenes                                         | 2006-02-15 05:03:42 |\n",
      "|     958 | WARDROBE PHANTOM          | A Action-Packed Display of a Mad Cow And a Astronaut who must Kill a Car in Ancient India                                          |         2006 |           1 |                 NULL |               6 |        2.99 |    178 |            19.99 | G      | Trailers,Commentaries                                  | 2006-02-15 05:03:42 |\n",
      "|     126 | CASUALTIES ENCINO         | A Insightful Yarn of a A Shark And a Pastry Chef who must Face a Boy in A Monastery                                                |         2006 |           1 |                 NULL |               3 |        4.99 |    179 |            16.99 | G      | Trailers                                               | 2006-02-15 05:03:42 |\n",
      "|     692 | POTLUCK MIXED             | A Beautiful Story of a Dog And a Technical Writer who must Outgun a Student in A Baloon                                            |         2006 |           1 |                 NULL |               3 |        2.99 |    179 |            10.99 | G      | Behind the Scenes                                      | 2006-02-15 05:03:42 |\n",
      "|     897 | TORQUE BOUND              | A Emotional Display of a Crocodile And a Husband who must Reach a Man in Ancient Japan                                             |         2006 |           1 |                 NULL |               3 |        4.99 |    179 |            27.99 | G      | Trailers,Commentaries                                  | 2006-02-15 05:03:42 |\n",
      "|     612 | MUSSOLINI SPOILERS        | A Thrilling Display of a Boat And a Monkey who must Meet a Composer in Ancient China                                               |         2006 |           1 |                 NULL |               6 |        2.99 |    180 |            10.99 | G      | Deleted Scenes,Behind the Scenes                       | 2006-02-15 05:03:42 |\n",
      "|     467 | INTRIGUE WORST            | A Fanciful Character Study of a Explorer And a Mad Scientist who must Vanquish a Squirrel in A Jet Boat                            |         2006 |           1 |                 NULL |               6 |        0.99 |    181 |            10.99 | G      | Deleted Scenes                                         | 2006-02-15 05:03:42 |\n",
      "|     510 | LAWLESS VISION            | A Insightful Yarn of a Boy And a Sumo Wrestler who must Outgun a Car in The Outback                                                |         2006 |           1 |                 NULL |               6 |        4.99 |    181 |            29.99 | G      | Deleted Scenes,Behind the Scenes                       | 2006-02-15 05:03:42 |\n",
      "|      50 | BAKED CLEOPATRA           | A Stunning Drama of a Forensic Psychologist And a Husband who must Overcome a Waitress in A Monastery                              |         2006 |           1 |                 NULL |               3 |        2.99 |    182 |            20.99 | G      | Commentaries,Behind the Scenes                         | 2006-02-15 05:03:42 |\n",
      "|     128 | CATCH AMISTAD             | A Boring Reflection of a Lumberjack And a Feminist who must Discover a Woman in Nigeria                                            |         2006 |           1 |                 NULL |               7 |        0.99 |    183 |            10.99 | G      | Trailers,Behind the Scenes                             | 2006-02-15 05:03:42 |\n",
      "|     996 | YOUNG LANGUAGE            | A Unbelieveable Yarn of a Boat And a Database Administrator who must Meet a Boy in The First Manned Space Station                  |         2006 |           1 |                 NULL |               6 |        0.99 |    183 |             9.99 | G      | Trailers,Behind the Scenes                             | 2006-02-15 05:03:42 |\n",
      "|     597 | MOONWALKER FOOL           | A Epic Drama of a Feminist And a Pioneer who must Sink a Composer in New Orleans                                                   |         2006 |           1 |                 NULL |               5 |        4.99 |    184 |            12.99 | G      | Trailers,Deleted Scenes                                | 2006-02-15 05:03:42 |\n",
      "|     182 | CONTROL ANTHEM            | A Fateful Documentary of a Robot And a Student who must Battle a Cat in A Monastery                                                |         2006 |           1 |                 NULL |               7 |        4.99 |    185 |             9.99 | G      | Commentaries                                           | 2006-02-15 05:03:42 |\n",
      "|     212 | DARN FORRESTER            | A Fateful Story of a A Shark And a Explorer who must Succumb a Technical Writer in A Jet Boat                                      |         2006 |           1 |                 NULL |               7 |        4.99 |    185 |            14.99 | G      | Deleted Scenes                                         | 2006-02-15 05:03:42 |\n",
      "|     609 | MUSCLE BRIGHT             | A Stunning Panorama of a Sumo Wrestler And a Husband who must Redeem a Madman in Ancient India                                     |         2006 |           1 |                 NULL |               7 |        2.99 |    185 |            23.99 | G      | Deleted Scenes                                         | 2006-02-15 05:03:42 |\n",
      "+---------+---------------------------+------------------------------------------------------------------------------------------------------------------------------------+--------------+-------------+----------------------+-----------------+-------------+--------+------------------+--------+--------------------------------------------------------+---------------------+\n"
     ]
    }
   ],
   "source": [
    "!mysql sakila -e \"select * from film where rating = 'G' order by length\""
   ]
  },
  {
   "cell_type": "markdown",
   "id": "335b1ad1-4d6c-4e3e-97bc-7af9a130b96b",
   "metadata": {},
   "source": [
    "#### Insert a record for the actor Kenny Tian into the actor table"
   ]
  },
  {
   "cell_type": "code",
   "execution_count": 15,
   "id": "85a6a5f9-6ff3-4042-85e2-f354050f911d",
   "metadata": {},
   "outputs": [],
   "source": [
    "!mysql sakila -e \"insert into actor (actor_id, first_name, last_name, last_update) values (201, 'KENNY', 'TIAN', CURRENT_TIMESTAMP)\""
   ]
  },
  {
   "cell_type": "markdown",
   "id": "3218dc1f-f17b-481b-85af-49ae04d70394",
   "metadata": {},
   "source": [
    "#### Update the last name of the actor Jennifer Davis in the actor table"
   ]
  },
  {
   "cell_type": "code",
   "execution_count": 16,
   "id": "b8395d2f-7978-4181-affe-023b267088d0",
   "metadata": {},
   "outputs": [],
   "source": [
    "!mysql sakila -e \"update actor set last_name = 'HOLMES', last_update = CURRENT_TIMESTAMP where actor_id = 4\""
   ]
  },
  {
   "cell_type": "markdown",
   "id": "f3dfbc17-5881-4de4-b259-94b70b3c6cbf",
   "metadata": {},
   "source": [
    "#### Delete the film_actor connections for actor id 5"
   ]
  },
  {
   "cell_type": "code",
   "execution_count": 17,
   "id": "efe1d22a-66d7-4cdf-9ef3-44772bb939e1",
   "metadata": {},
   "outputs": [],
   "source": [
    "!mysql sakila -e \"delete from film_actor where actor_id = 5\""
   ]
  }
 ],
 "metadata": {
  "environment": {
   "kernel": "conda-root-py",
   "name": "workbench-notebooks.m110",
   "type": "gcloud",
   "uri": "gcr.io/deeplearning-platform-release/workbench-notebooks:m110"
  },
  "kernelspec": {
   "display_name": "Python 3",
   "language": "python",
   "name": "conda-root-py"
  },
  "language_info": {
   "codemirror_mode": {
    "name": "ipython",
    "version": 3
   },
   "file_extension": ".py",
   "mimetype": "text/x-python",
   "name": "python",
   "nbconvert_exporter": "python",
   "pygments_lexer": "ipython3",
   "version": "3.10.12"
  }
 },
 "nbformat": 4,
 "nbformat_minor": 5
}
