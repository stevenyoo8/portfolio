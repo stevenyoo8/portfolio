{
 "cells": [
  {
   "cell_type": "code",
   "execution_count": 7,
   "id": "f46f6c34-e0c8-41d5-9fc4-63e464f71838",
   "metadata": {},
   "outputs": [
    {
     "name": "stdout",
     "output_type": "stream",
     "text": [
      "env: BASE_DIR=/home/jupyter/project5\n"
     ]
    }
   ],
   "source": [
    "%env BASE_DIR=/home/jupyter/project5"
   ]
  },
  {
   "cell_type": "code",
   "execution_count": 8,
   "id": "0689b5a0-e7d4-496d-8831-123a713da40b",
   "metadata": {},
   "outputs": [
    {
     "name": "stdout",
     "output_type": "stream",
     "text": [
      "Copying gs://cs327e-open-access/fs_shopify.zip...\n",
      "/ [1 files][  3.2 MiB/  3.2 MiB]                                                \n",
      "Operation completed over 1 objects/3.2 MiB.                                      \n"
     ]
    }
   ],
   "source": [
    "!gsutil cp gs://cs327e-open-access/fs_shopify.zip $BASE_DIR"
   ]
  },
  {
   "cell_type": "code",
   "execution_count": 9,
   "id": "4351258f-d131-4dbe-a28f-dab45fe984f6",
   "metadata": {},
   "outputs": [
    {
     "name": "stdout",
     "output_type": "stream",
     "text": [
      "Copying gs://cs327e-open-access/fs_samples.zip...\n",
      "/ [1 files][  4.5 KiB/  4.5 KiB]                                                \n",
      "Operation completed over 1 objects/4.5 KiB.                                      \n"
     ]
    }
   ],
   "source": [
    "!gsutil cp gs://cs327e-open-access/fs_samples.zip $BASE_DIR"
   ]
  },
  {
   "cell_type": "code",
   "execution_count": 10,
   "id": "6a00157b-046e-4d62-a923-10689a43981e",
   "metadata": {},
   "outputs": [
    {
     "name": "stdout",
     "output_type": "stream",
     "text": [
      "Archive:  /home/jupyter/project5/fs_shopify.zip\n",
      "   creating: fs_shopify/\n",
      "  inflating: fs_shopify/apps.csv     \n",
      "  inflating: fs_shopify/reviews.csv  \n",
      "  inflating: fs_shopify/apps_categories.csv  \n",
      "  inflating: fs_shopify/key_benefits.csv  \n",
      "  inflating: fs_shopify/categories.csv  \n",
      "  inflating: fs_shopify/pricing_plans.csv  \n",
      "  inflating: fs_shopify/pricing_plan_features.csv  \n"
     ]
    }
   ],
   "source": [
    "!unzip $BASE_DIR/fs_shopify.zip"
   ]
  },
  {
   "cell_type": "code",
   "execution_count": 11,
   "id": "ebb00826-96fa-4b3a-8f43-e1b762bf1d6e",
   "metadata": {},
   "outputs": [
    {
     "name": "stdout",
     "output_type": "stream",
     "text": [
      "Archive:  /home/jupyter/project5/fs_samples.zip\n",
      "   creating: fs_samples/\n",
      "  inflating: fs_samples/delete_single.py  \n",
      "  inflating: fs_samples/write_batch.py  \n",
      "  inflating: fs_samples/read_nested.py  \n",
      "  inflating: fs_samples/read_count.py  \n",
      "  inflating: fs_samples/write_single.py  \n",
      "  inflating: fs_samples/read_where.py  \n",
      "  inflating: fs_samples/write_nested.py  \n",
      "  inflating: fs_samples/delete_field.py  \n",
      "  inflating: fs_samples/read_single.py  \n",
      "  inflating: fs_samples/update_single.py  \n",
      "  inflating: fs_samples/read_doc_with_filter2.py  \n"
     ]
    }
   ],
   "source": [
    "!unzip $BASE_DIR/fs_samples.zip"
   ]
  },
  {
   "cell_type": "code",
   "execution_count": null,
   "id": "7f32b0d5-2604-4e41-861f-f66c9d3e46b8",
   "metadata": {},
   "outputs": [],
   "source": [
    "import pandas as pd\n",
    "from google.cloud import firestore\n",
    "\n",
    "db = firestore.Client()\n",
    "\n",
    "# read csv files\n",
    "df = pd.read_csv('fs_shopify/apps.csv', sep=',', header=0, lineterminator='\\n')\n",
    "apps_rows = df.values.tolist()\n",
    "\n",
    "df = pd.read_csv('fs_shopify/reviews.csv', sep=',', header=0, lineterminator='\\n')\n",
    "reviews_rows = df.values.tolist()\n",
    "\n",
    "df = pd.read_csv('fs_shopify/key_benefits.csv', sep=',', header=0, lineterminator='\\n')\n",
    "key_benefits_rows = df.values.tolist()\n",
    "\n",
    "df = pd.read_csv('fs_shopify/pricing_plans.csv', sep=',', header=0, lineterminator='\\n')\n",
    "pricing_plans_rows = df.values.tolist()\n",
    "\n",
    "df = pd.read_csv('fs_shopify/pricing_plan_features.csv', sep=',', header=0, lineterminator='\\n')\n",
    "pricing_plan_features_rows = df.values.tolist()\n",
    "\n",
    "def batch_commit(apps_rows):\n",
    "    batch = db.batch()\n",
    "    for apps_row in apps_rows: \n",
    "        apps_record = {}\n",
    "        apps_record['id'] = apps_row[0]\n",
    "        apps_record['url'] = apps_row[1]\n",
    "        apps_record['title'] = apps_row[2]\n",
    "        apps_record['developer'] = apps_row[3]\n",
    "        apps_record['developer_link'] = apps_row[4]\n",
    "        apps_record['icon'] = apps_row[5]\n",
    "        apps_record['rating'] = apps_row[6]\n",
    "        apps_record['reviews_count'] = apps_row[7]\n",
    "\n",
    "        apps_ref = db.collection('apps').document(apps_row[0])\n",
    "        batch.set(apps_ref, apps_record)\n",
    "\n",
    "        for reviews_row in reviews_rows:\n",
    "            if apps_row[0] == reviews_row[0]:\n",
    "                reviews_record = {}\n",
    "                reviews_record['author'] = reviews_row[1]\n",
    "                reviews_record['rating'] = reviews_row[2]\n",
    "                reviews_record['posted_at'] = reviews_row[3]\n",
    "                if reviews_row[1] == \".\":\n",
    "                    reviews_row[1] = \"dot\"\n",
    "                reviews_ref = apps_ref.collection('reviews').document(str(reviews_row[1]).replace('/', ' '))\n",
    "\n",
    "                batch.set(reviews_ref, reviews_record)\n",
    "\n",
    "        for key_benefits_row in key_benefits_rows:\n",
    "            if apps_row[0] == key_benefits_row[0]:\n",
    "                key_benefits_record = {}\n",
    "                key_benefits_record['title'] = key_benefits_row[1]\n",
    "                key_benefits_record['description'] = key_benefits_row[2]\n",
    "\n",
    "                key_benefits_ref = apps_ref.collection('key_benefits').document(key_benefits_row[1].replace('/', ' '))\n",
    "\n",
    "                batch.set(key_benefits_ref, key_benefits_record)\n",
    "\n",
    "        for pricing_plans_row in pricing_plans_rows:\n",
    "            if apps_row[0] == pricing_plans_row[1]:\n",
    "                pricing_plans_record = {}\n",
    "                pricing_plans_record['id'] = pricing_plans_row[0]\n",
    "                pricing_plans_record['title'] = pricing_plans_row[2]\n",
    "                pricing_plans_record['price'] = pricing_plans_row[3]\n",
    "                pricing_plans_record['feature'] = []\n",
    "                for pricing_plan_features_row in pricing_plan_features_rows:\n",
    "                    if apps_row[0] == pricing_plan_features_row[0] and pricing_plans_row[0] == pricing_plan_features_row[1]:\n",
    "                        pricing_plans_record['feature'].append(pricing_plan_features_row[2])\n",
    "\n",
    "\n",
    "                pricing_plans_ref = apps_ref.collection('pricing_plans').document(pricing_plans_row[0])\n",
    "\n",
    "                batch.set(pricing_plans_ref, pricing_plans_record)\n",
    "           \n",
    "    batch.commit()\n",
    "    \n",
    "# Split rows into mini-batches of size 500\n",
    "chunk_size = 50\n",
    "for i in range(0, len(apps_rows), chunk_size):\n",
    "    print(i)\n",
    "    chunk = apps_rows[i:i+chunk_size]\n",
    "    batch_commit(chunk)"
   ]
  },
  {
   "cell_type": "code",
   "execution_count": null,
   "id": "e49a2e10-4554-4431-943c-a17706fce4c5",
   "metadata": {},
   "outputs": [],
   "source": [
    "import pandas as pd\n",
    "from google.cloud import firestore\n",
    "\n",
    "db = firestore.Client()\n",
    "\n",
    "# read csv files\n",
    "df = pd.read_csv('fs_shopify/apps.csv', sep=',', header=0, lineterminator='\\n')\n",
    "apps_rows = df.values.tolist()\n",
    "\n",
    "df = pd.read_csv('fs_shopify/categories.csv', sep=',', header=0, lineterminator='\\n')\n",
    "categories_rows = df.values.tolist()\n",
    "\n",
    "df = pd.read_csv('fs_shopify/apps_categories.csv', sep=',', header=0, lineterminator='\\n')\n",
    "apps_categories_rows = df.values.tolist()\n",
    "\n",
    "batch = db.batch()\n",
    "for categories_row in categories_rows: \n",
    "    categories_record = {}\n",
    "    categories_record['id'] = categories_row[0]\n",
    "    categories_record['title'] = categories_row[1]\n",
    "\n",
    "    categories_ref = db.collection('categories').document(categories_row[0])\n",
    "    batch.set(categories_ref, categories_record)\n",
    "\n",
    "    for apps_categories_row in apps_categories_rows:\n",
    "        if apps_categories_row[1] == categories_row[0]:\n",
    "            for apps_row in apps_rows: \n",
    "                if apps_categories_row[0] == apps_row[0]:\n",
    "                    apps_record = {}\n",
    "                    apps_record['id'] = apps_row[0]\n",
    "                    apps_record['url'] = apps_row[1]\n",
    "                    apps_record['title'] = apps_row[2]\n",
    "                    apps_record['developer'] = apps_row[3]\n",
    "                    apps_record['developer_link'] = apps_row[4]\n",
    "                    apps_record['icon'] = apps_row[5]\n",
    "                    apps_record['rating'] = apps_row[6]\n",
    "                    apps_record['reviews_count'] = apps_row[7]\n",
    "\n",
    "                    apps_ref = categories_ref.collection('apps').document(apps_row[0])\n",
    "                    batch.set(apps_ref, apps_record)   \n",
    "batch.commit()"
   ]
  },
  {
   "cell_type": "markdown",
   "id": "1e73b7f0-c56d-43ab-990d-5c34b95b1a09",
   "metadata": {},
   "source": [
    "### Retrieve the number of documents in each collection and subcollection"
   ]
  },
  {
   "cell_type": "markdown",
   "id": "f09ed7c5-ddc2-46c9-b19d-147bc5b28898",
   "metadata": {},
   "source": [
    "#### Apps Collection"
   ]
  },
  {
   "cell_type": "code",
   "execution_count": null,
   "id": "3e280520-b05e-4d54-b11b-8cf6888513f4",
   "metadata": {},
   "outputs": [],
   "source": [
    "from google.cloud import firestore\n",
    "from google.cloud.firestore_v1.base_query import FieldFilter\n",
    "from google.cloud.firestore_v1 import aggregation\n",
    "\n",
    "apps_ref = db.collection('apps')\n",
    "apps_count = apps_ref.count().get()\n",
    "print('Count of apps collection:', apps_count[0][0].value)\n",
    "\n",
    "results = apps_ref.stream()\n",
    "\n",
    "for result in results:\n",
    "    print('App ' + result.id + ':')\n",
    "    reviews_ref = apps_ref.document(result.id).collection('reviews')\n",
    "    reviews_result = reviews_ref.count().get()\n",
    "    print('    Count of reviews subcollection:', reviews_result[0][0].value )\n",
    "    \n",
    "    key_benefits_ref = apps_ref.document(result.id).collection('key_benefits')\n",
    "    key_benefits_result = key_benefits_ref.count().get()\n",
    "    print('    Count of key_benefits subcollection', key_benefits_result[0][0].value)\n",
    "\n",
    "    pricing_plans_ref = apps_ref.document(result.id).collection('pricing_plans')\n",
    "    pricing_plans_result = pricing_plans_ref.count().get()\n",
    "    print('    Count of pricing_plans subcollection:', pricing_plans_result[0][0].value)"
   ]
  },
  {
   "cell_type": "markdown",
   "id": "8385f3df-80de-43a0-8e0c-66634d1d36c6",
   "metadata": {},
   "source": [
    "#### Categories Collection"
   ]
  },
  {
   "cell_type": "code",
   "execution_count": 27,
   "id": "0639cf5e-6b92-4cbb-8883-adba72baece9",
   "metadata": {},
   "outputs": [
    {
     "name": "stdout",
     "output_type": "stream",
     "text": [
      "Count in categories collection: 12\n",
      "Category 26a72de0d02e0e4e5f615332d61a878e:\n",
      "    Count in apps subcollection: 133\n",
      "Category 30a930262efca129caafcd586bc7e6fe:\n",
      "    Count in apps subcollection: 83\n",
      "Category 30ea2315e910c5e5335de42d5e87dca5:\n",
      "    Count in apps subcollection: 602\n",
      "Category 5eb4e29e50e3f178acc614236ed107f4:\n",
      "    Count in apps subcollection: 957\n",
      "Category 64430ad2835be8ad60c59e7d44e4b0b1:\n",
      "    Count in apps subcollection: 310\n",
      "Category 737ad50051083aa051d127a53b3ac0da:\n",
      "    Count in apps subcollection: 190\n",
      "Category 9fe78acd078fc030de72c896adc93a2d:\n",
      "    Count in apps subcollection: 251\n",
      "Category bd125b49ce6b0425d29e33cb8b49a496:\n",
      "    Count in apps subcollection: 176\n",
      "Category c3f9db73c29bc33607778f9935c3c4dc:\n",
      "    Count in apps subcollection: 1537\n",
      "Category c576a841fd4f333a6f074d68e76a1d37:\n",
      "    Count in apps subcollection: 249\n",
      "Category c769c2bd15500dd906102d9be97fdceb:\n",
      "    Count in apps subcollection: 794\n",
      "Category e44cd5379a3166568741a07cc81ef6e5:\n",
      "    Count in apps subcollection: 101\n"
     ]
    }
   ],
   "source": [
    "from google.cloud import firestore\n",
    "from google.cloud.firestore_v1.base_query import FieldFilter\n",
    "from google.cloud.firestore_v1 import aggregation\n",
    "\n",
    "categories_ref = db.collection('categories')\n",
    "categories_count = categories_ref.count().get()\n",
    "print('Count in categories collection:', categories_count[0][0].value)\n",
    "\n",
    "results = categories_ref.stream()\n",
    "\n",
    "for result in results:\n",
    "    print('Category ' + result.id + ':')\n",
    "    apps_ref = categories_ref.document(result.id).collection('apps')\n",
    "    apps_result = apps_ref.count().get()\n",
    "    print('    Count in apps subcollection:', apps_result[0][0].value)"
   ]
  },
  {
   "cell_type": "markdown",
   "id": "b78945e4-9378-4c7a-b055-2c6ba9ba9106",
   "metadata": {},
   "source": [
    "#### List the top 10 \"Productivity\" apps (whose categories.title = \"Productivity\") sorted by their rating in descending order. Return the id, title, developer, rating and reviews_count for those apps. Limit the results to the first 10 records."
   ]
  },
  {
   "cell_type": "code",
   "execution_count": 26,
   "id": "6e6c69dc-4361-4c7a-a345-05b3fc993aed",
   "metadata": {},
   "outputs": [
    {
     "name": "stdout",
     "output_type": "stream",
     "text": [
      "id                                    title                           developer              rating  reviews_count\n",
      "fe5ae45c-379c-42bf-be7d-b5f6e15fc13c  Customer Tags                   Union Works Apps       5.0     21 \n",
      "f99bb1e3-f326-4f10-8901-491652e9809b  Order Tagger                    Union Works Apps       5.0     68 \n",
      "f864e3bd-da0e-41dc-be65-984325331475  SilkRoad ‑ Facebook Auto Ads    SilkRoad               5.0     2  \n",
      "f5344e64-9cda-4d97-b198-2aaeb5170518  Xporter Data Export Tool        Modd Apps Inc.         5.0     223\n",
      "ed77a32d-0fa3-458b-b639-e01ea7b78ec0  FraudBlock Fraud Prevention     ShopFox                5.0     6  \n",
      "e0e231d6-4988-4a8c-ad84-cf18d0f38738  Automation Fox                  Automation Fox         5.0     1  \n",
      "d75fa395-3a4d-41c3-88d1-2f802c1e2411  AirPower                        BaseGenius             5.0     1  \n",
      "d0be03ff-f74d-4fb5-8d2c-79541a1aea1b  Excelify                        Excelify.io            5.0     178\n",
      "c9a86f8c-817e-4bb5-bbdd-e0e669bd7816  UPC Code Manager                Ventures & Adventures  5.0     1  \n",
      "c7578030-19fd-42e1-a5a5-03c7861220aa  EzySlips ‑ Shipping Automation  Onjection Labs         5.0     219\n"
     ]
    }
   ],
   "source": [
    "from google.cloud import firestore\n",
    "from google.cloud.firestore_v1.base_query import FieldFilter\n",
    "\n",
    "db = firestore.Client()\n",
    "categories_ref = db.collection('categories')\n",
    "query = categories_ref.where(filter=FieldFilter('title', '==', 'Productivity'))\n",
    "results = query.stream()\n",
    "categories_ref = db.collection('categories').document(next(results).to_dict()['id']).collection('apps')\n",
    "query = categories_ref.order_by('rating', direction=firestore.Query.DESCENDING).limit(10)\n",
    "results = query.stream()\n",
    "\n",
    "print('{:<36}  {:<30}  {:<21}  {:<6}  {:<3}'.format('id', 'title', 'developer', 'rating', 'reviews_count'))\n",
    "for doc in results:\n",
    "    doc = doc.to_dict()\n",
    "    print('{:<36}  {:<30}  {:<21}  {:<6}  {:<3}'.format(doc['id'], doc['title'], doc['developer'], doc['rating'], doc['reviews_count']))"
   ]
  },
  {
   "cell_type": "markdown",
   "id": "b380945f-96f6-4544-8150-f49a6bb27d4c",
   "metadata": {},
   "source": [
    "#### List the 10 apps with the highest number of reviews (based on apps.review_count). Return the id, title, developer, rating and reviews_count for those apps. Order the results by reviews_count in descending order."
   ]
  },
  {
   "cell_type": "code",
   "execution_count": 8,
   "id": "206c83a6-4fc1-45ca-82e9-9704626b82a0",
   "metadata": {},
   "outputs": [
    {
     "name": "stdout",
     "output_type": "stream",
     "text": [
      "id                                    title                           developer              rating  reviews_count\n",
      "d9f142ee-b141-4dc4-9353-173db61d2eb0  Privy ‑ Exit Pop Ups & Email    Privy                  4.7     23078\n",
      "78ea0810-c008-4a4e-a82f-de0c790e3286  Free Shipping Bar               Hextom                 4.9     8737\n",
      "b88488b0-9912-44d3-b736-224c36f09d95  Sales Pop ‑ Popup Notification  CartKit                4.8     6905\n",
      "e528a60e-94f8-4e92-80e2-5bc6013b8283  BEST Currency Converter         Grizzly Apps           4.8     5986\n",
      "be2640c4-01b5-4d52-9f68-cae8c0734d0d  Recart FB Messenger Marketing   Recart                 4.8     5596\n",
      "70bff9e0-4316-4cc6-84ce-92fcd1bc6925  EU Cookie Bar ‑ Cookie GDPR     Booster Apps           4.7     5259\n",
      "171816e2-27d4-4552-a65e-ab44a312fe04  Sales Pop Master ‑ Countdown    Autoketing             4.8     4931\n",
      "9025eff0-d714-4df1-930f-43f5582979ad  Ultimate Sales Boost            Hextom                 4.8     4847\n",
      "404183ac-6d52-4960-85d2-8350f37c2f0b  Ads by Varinode                 Varinode, Inc.         4.9     4245\n",
      "0380c5ed-7b91-4d4b-9a4e-f6a1c50269dd  Quick Announcement Bar          Hextom                 4.9     4237\n"
     ]
    }
   ],
   "source": [
    "from google.cloud import firestore\n",
    "from google.cloud.firestore_v1.base_query import FieldFilter\n",
    "\n",
    "db = firestore.Client()\n",
    "apps_ref = db.collection('apps')\n",
    "query = apps_ref.order_by('reviews_count', direction=firestore.Query.DESCENDING).limit(10)\n",
    "results = query.stream()\n",
    "\n",
    "print('{:<36}  {:<30}  {:<21}  {:<6}  {:<3}'.format('id', 'title', 'developer', 'rating', 'reviews_count'))\n",
    "for doc in results:\n",
    "    doc = doc.to_dict()\n",
    "    print('{:<36}  {:<30}  {:<21}  {:<6}  {:<3}'.format(doc['id'], doc['title'], doc['developer'], doc['rating'], doc['reviews_count']))"
   ]
  },
  {
   "cell_type": "code",
   "execution_count": null,
   "id": "2c0ca812-a8e4-40ff-9fe7-27e98af047bf",
   "metadata": {},
   "outputs": [],
   "source": []
  }
 ],
 "metadata": {
  "environment": {
   "kernel": "conda-root-py",
   "name": "workbench-notebooks.m110",
   "type": "gcloud",
   "uri": "gcr.io/deeplearning-platform-release/workbench-notebooks:m110"
  },
  "kernelspec": {
   "display_name": "Python 3",
   "language": "python",
   "name": "conda-root-py"
  },
  "language_info": {
   "codemirror_mode": {
    "name": "ipython",
    "version": 3
   },
   "file_extension": ".py",
   "mimetype": "text/x-python",
   "name": "python",
   "nbconvert_exporter": "python",
   "pygments_lexer": "ipython3",
   "version": "3.10.12"
  }
 },
 "nbformat": 4,
 "nbformat_minor": 5
}
