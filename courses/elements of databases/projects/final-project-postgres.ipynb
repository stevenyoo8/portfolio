{
 "cells": [
  {
   "cell_type": "markdown",
   "id": "8fdd503f-b340-430a-8e93-15625fa02bc2",
   "metadata": {},
   "source": [
    "# Part 2: Postgres"
   ]
  },
  {
   "cell_type": "code",
   "execution_count": 1,
   "id": "d05f8d55-42ce-44db-aef5-7971c2eb2c84",
   "metadata": {},
   "outputs": [],
   "source": [
    "HOST = \"10.77.240.11\"\n",
    "USER = \"postgres\"\n",
    "PW=\n",
    "DB=\"postgres\""
   ]
  },
  {
   "cell_type": "code",
   "execution_count": 2,
   "id": "0107a747-4285-40a1-b0f6-b993d0981877",
   "metadata": {},
   "outputs": [],
   "source": [
    "import psycopg\n",
    "\n",
    "def connect():\n",
    "    \n",
    "    url = \"dbname='{}' user='{}' host={} port=5432 password={}\".format(DB, USER, HOST, PW)\n",
    "    connection = psycopg.connect(url)\n",
    "\n",
    "    return connection"
   ]
  },
  {
   "cell_type": "markdown",
   "id": "30ac1a55-f77e-4b6f-8fce-9513a39dbb3b",
   "metadata": {},
   "source": [
    "### 1. Test Connection"
   ]
  },
  {
   "cell_type": "code",
   "execution_count": 3,
   "id": "980f97ad-f852-43fd-b48c-c39af786a34d",
   "metadata": {},
   "outputs": [
    {
     "name": "stdout",
     "output_type": "stream",
     "text": [
      "<psycopg.Connection [IDLE] (host=10.77.240.11 database=postgres) at 0x7f1f0557fac0>\n"
     ]
    }
   ],
   "source": [
    "import psycopg\n",
    "\n",
    "connection = connect()\n",
    "\n",
    "print(connection)"
   ]
  },
  {
   "cell_type": "markdown",
   "id": "eb985cb1-df33-4029-8ebb-5dd3e7f5d685",
   "metadata": {},
   "source": [
    "### 2. Create the table (and drop it if it already exists)"
   ]
  },
  {
   "cell_type": "code",
   "execution_count": 4,
   "id": "73e04ea1-1b3e-4ad6-8acd-263f4a7bf569",
   "metadata": {},
   "outputs": [
    {
     "name": "stdout",
     "output_type": "stream",
     "text": [
      "<psycopg.Connection [IDLE] (host=10.77.240.11 database=postgres) at 0x7f1f0557f0a0>\n",
      "DROP TABLE reservations\n",
      "CREATE TABLE reservations (\n",
      "    res_id smallint NOT NULL,\n",
      "    cust_id smallint NOT NULL,\n",
      "    prp_nm varchar(50) NOT NULL,\n",
      "    prp_ch varchar(50) NOT NULL,\n",
      "    adr_line_1 varchar(50) NOT NULL,\n",
      "    adr_line_2 varchar(16) NOT NULL,\n",
      "    city varchar(50) NOT NULL,\n",
      "    state char(2) NOT NULL,\n",
      "    postal_cd char(5) NOT NULL,\n",
      "    lat float NOT NULL,\n",
      "    long float NOT NULL,\n",
      "    cnt_code char(2) NOT NULL,\n",
      "    arr_date date NOT NULL,\n",
      "    dep_date date NOT NULL,\n",
      "    pmt_amt numeric(5,2) NOT NULL,\n",
      "    PRIMARY KEY (res_id)\n",
      ") \n",
      "Dropped person table\n",
      "Created person table\n"
     ]
    }
   ],
   "source": [
    "import psycopg\n",
    "\n",
    "connection = connect()\n",
    "print(connection)\n",
    "\n",
    "drop = 'DROP TABLE reservations'\n",
    "\n",
    "create = '''CREATE TABLE reservations (\n",
    "    res_id smallint NOT NULL,\n",
    "    cust_id smallint NOT NULL,\n",
    "    prp_nm varchar(50) NOT NULL,\n",
    "    prp_ch varchar(50) NOT NULL,\n",
    "    adr_line_1 varchar(50) NOT NULL,\n",
    "    adr_line_2 varchar(16) NOT NULL,\n",
    "    city varchar(50) NOT NULL,\n",
    "    state char(2) NOT NULL,\n",
    "    postal_cd char(5) NOT NULL,\n",
    "    lat float NOT NULL,\n",
    "    long float NOT NULL,\n",
    "    cnt_code char(2) NOT NULL,\n",
    "    arr_date date NOT NULL,\n",
    "    dep_date date NOT NULL,\n",
    "    pmt_amt numeric(5,2) NOT NULL,\n",
    "    PRIMARY KEY (res_id)\n",
    ") '''\n",
    "\n",
    "print(drop)\n",
    "print(create)\n",
    "\n",
    "try:\n",
    "    cursor = connection.cursor()\n",
    "    cursor.execute(drop)\n",
    "    print('Dropped person table')\n",
    "    \n",
    "    cursor = connection.cursor()\n",
    "    cursor.execute(create)\n",
    "    print('Created person table')\n",
    "    \n",
    "    connection.commit() # commit the changes \n",
    "except Exception as e:\n",
    "    print(\"Error occurred while creating person table:\", e)"
   ]
  },
  {
   "cell_type": "markdown",
   "id": "3028651c-fb03-4d16-b941-3fb356fc20de",
   "metadata": {},
   "source": [
    "### 3. Insert records into table"
   ]
  },
  {
   "cell_type": "code",
   "execution_count": 5,
   "id": "d185c7e7-60d3-4f49-b8d7-6d2549174af5",
   "metadata": {},
   "outputs": [
    {
     "name": "stdout",
     "output_type": "stream",
     "text": [
      "100 records written into reservations table\n"
     ]
    }
   ],
   "source": [
    "import psycopg\n",
    "import random\n",
    "from datetime import datetime\n",
    "from faker import Faker\n",
    "\n",
    "connection = connect()\n",
    "\n",
    "psql = \"INSERT INTO reservations VALUES (%s, %s, %s, %s, %s, %s, %s, %s, %s, %s, %s, %s, %s, %s, %s)\"\n",
    "\n",
    "cnt_codes = ['TZ', 'BR', 'MC', 'ER', 'MV', 'GY', 'VU', 'BE', 'LU', 'ME', 'MR', 'VA', 'MY', 'CL', 'GA', \n",
    "             'JO', 'SA', 'LK', 'CV', 'MY', 'CR', 'ME', 'CG', 'HN', 'AG', 'LY', 'BE', 'CD', 'CG', 'PT']\n",
    "\n",
    "records = []\n",
    "for i in range(100):\n",
    "    fake = Faker()\n",
    "    \n",
    "    # Generate random address\n",
    "    adr_line_1, address = fake.address().split(sep=\"\\n\")\n",
    "    adr_line_2 = \"\"\n",
    "    if adr_line_1.split()[-2] in [\"Apt.\", \"Suite\"]:      \n",
    "        adr_line_2 = adr_line_1.split()[-2] + \" \" + adr_line_1.split()[-1]\n",
    "        adr_line_1 = adr_line_1.split(sep=adr_line_1.split()[-2])[0][:-1]\n",
    "\n",
    "    city_state_zip = address.split(sep=\",\")\n",
    "    while len(city_state_zip) == 1:\n",
    "        city_state_zip = fake.address().split(sep=\"\\n\")[1].split(sep=\",\")\n",
    "    state, postal_cd = city_state_zip[1].split()\n",
    "    arr_date = fake.date_object()\n",
    "    \n",
    "    record = [\n",
    "        i,\n",
    "        random.randint(0, 49),\n",
    "        fake.company(),\n",
    "        fake.company(),\n",
    "        adr_line_1,\n",
    "        adr_line_2,\n",
    "        city_state_zip[0],\n",
    "        state,\n",
    "        postal_cd,\n",
    "        fake.coordinate(),\n",
    "        fake.coordinate(),\n",
    "        random.choice(cnt_codes),\n",
    "        arr_date,\n",
    "        fake.date_between(start_date = arr_date),\n",
    "        round(random.random() * 999, 2)\n",
    "    ]\n",
    "    records.append(record)\n",
    "\n",
    "try:\n",
    "    cursor = connection.cursor()\n",
    "    \n",
    "    for rec in records:\n",
    "        cursor.execute(psql, rec)\n",
    "    \n",
    "    connection.commit()\n",
    "    print(\"100 records written into reservations table\")\n",
    "        \n",
    "except Exception as e:\n",
    "    print(\"Failed to insert record into reservations table:\", e)"
   ]
  },
  {
   "cell_type": "code",
   "execution_count": null,
   "id": "909f2e5d-f69e-448c-acad-f4578c668dd0",
   "metadata": {},
   "outputs": [],
   "source": []
  }
 ],
 "metadata": {
  "environment": {
   "kernel": "conda-root-py",
   "name": "workbench-notebooks.m110",
   "type": "gcloud",
   "uri": "gcr.io/deeplearning-platform-release/workbench-notebooks:m110"
  },
  "kernelspec": {
   "display_name": "Python 3",
   "language": "python",
   "name": "conda-root-py"
  },
  "language_info": {
   "codemirror_mode": {
    "name": "ipython",
    "version": 3
   },
   "file_extension": ".py",
   "mimetype": "text/x-python",
   "name": "python",
   "nbconvert_exporter": "python",
   "pygments_lexer": "ipython3",
   "version": "3.10.12"
  }
 },
 "nbformat": 4,
 "nbformat_minor": 5
}
