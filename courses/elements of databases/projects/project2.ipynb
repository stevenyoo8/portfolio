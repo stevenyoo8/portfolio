{
 "cells": [
  {
   "cell_type": "code",
   "execution_count": 3,
   "id": "9c86b45d-37df-4a19-963d-a7306cde7535",
   "metadata": {
    "tags": []
   },
   "outputs": [
    {
     "name": "stdout",
     "output_type": "stream",
     "text": [
      "env: PGINSTANCE=postgres\n"
     ]
    }
   ],
   "source": [
    "%env PGINSTANCE=postgres"
   ]
  },
  {
   "cell_type": "code",
   "execution_count": 4,
   "id": "d495f498-5ef1-478e-88c8-3ce92a3f65c8",
   "metadata": {
    "tags": []
   },
   "outputs": [
    {
     "name": "stdout",
     "output_type": "stream",
     "text": [
      "env: BASE_DIR=/home/jupyter/pagila\n"
     ]
    }
   ],
   "source": [
    "%env BASE_DIR=/home/jupyter/pagila"
   ]
  },
  {
   "cell_type": "code",
   "execution_count": null,
   "id": "fd00f26c-baf8-4296-a9ae-a8edc3efd773",
   "metadata": {
    "tags": []
   },
   "outputs": [],
   "source": [
    "!psql -c \"\\i $BASE_DIR/pagila-schema.sql\""
   ]
  },
  {
   "cell_type": "code",
   "execution_count": null,
   "id": "7d99059f-9da7-40ef-bd3e-a0295606c020",
   "metadata": {
    "tags": []
   },
   "outputs": [],
   "source": [
    "!psql -c \"\\i $BASE_DIR/pagila-insert-data.sql\""
   ]
  },
  {
   "cell_type": "code",
   "execution_count": 8,
   "id": "22ee8c5a-a6ec-49c2-937b-68b6348f4296",
   "metadata": {
    "tags": []
   },
   "outputs": [
    {
     "name": "stdout",
     "output_type": "stream",
     "text": [
      "                                              Table \"pagila.actor\"\n",
      "   Column    |           Type           | Collation | Nullable |                    Default                     \n",
      "-------------+--------------------------+-----------+----------+------------------------------------------------\n",
      " actor_id    | integer                  |           | not null | nextval('pagila.actor_actor_id_seq'::regclass)\n",
      " first_name  | text                     |           | not null | \n",
      " last_name   | text                     |           | not null | \n",
      " last_update | timestamp with time zone |           | not null | now()\n",
      "Indexes:\n",
      "    \"actor_pkey\" PRIMARY KEY, btree (actor_id)\n",
      "    \"idx_actor_last_name\" btree (last_name)\n",
      "Referenced by:\n",
      "    TABLE \"pagila.film_actor\" CONSTRAINT \"film_actor_actor_id_fkey\" FOREIGN KEY (actor_id) REFERENCES pagila.actor(actor_id) ON UPDATE CASCADE ON DELETE RESTRICT\n",
      "Triggers:\n",
      "    last_updated BEFORE UPDATE ON pagila.actor FOR EACH ROW EXECUTE FUNCTION pagila.last_updated()\n",
      "\n"
     ]
    }
   ],
   "source": [
    "!psql -c \"\\d pagila.actor\""
   ]
  },
  {
   "cell_type": "code",
   "execution_count": 9,
   "id": "8f9e6b69-ba2b-4f01-8374-d79917070c94",
   "metadata": {
    "tags": []
   },
   "outputs": [
    {
     "name": "stdout",
     "output_type": "stream",
     "text": [
      "                                               Table \"pagila.country\"\n",
      "   Column    |           Type           | Collation | Nullable |                      Default                       \n",
      "-------------+--------------------------+-----------+----------+----------------------------------------------------\n",
      " country_id  | integer                  |           | not null | nextval('pagila.country_country_id_seq'::regclass)\n",
      " country     | text                     |           | not null | \n",
      " last_update | timestamp with time zone |           | not null | now()\n",
      "Indexes:\n",
      "    \"country_pkey\" PRIMARY KEY, btree (country_id)\n",
      "Referenced by:\n",
      "    TABLE \"pagila.city\" CONSTRAINT \"city_country_id_fkey\" FOREIGN KEY (country_id) REFERENCES pagila.country(country_id) ON UPDATE CASCADE ON DELETE RESTRICT\n",
      "Triggers:\n",
      "    last_updated BEFORE UPDATE ON pagila.country FOR EACH ROW EXECUTE FUNCTION pagila.last_updated()\n",
      "\n"
     ]
    }
   ],
   "source": [
    "!psql -c \"\\d pagila.country\""
   ]
  },
  {
   "cell_type": "code",
   "execution_count": 10,
   "id": "3e50abf2-7644-4f17-9878-db3585ca83e2",
   "metadata": {
    "tags": []
   },
   "outputs": [
    {
     "name": "stdout",
     "output_type": "stream",
     "text": [
      "                                             Table \"pagila.city\"\n",
      "   Column    |           Type           | Collation | Nullable |                   Default                    \n",
      "-------------+--------------------------+-----------+----------+----------------------------------------------\n",
      " city_id     | integer                  |           | not null | nextval('pagila.city_city_id_seq'::regclass)\n",
      " city        | text                     |           | not null | \n",
      " country_id  | smallint                 |           | not null | \n",
      " last_update | timestamp with time zone |           | not null | now()\n",
      "Indexes:\n",
      "    \"city_pkey\" PRIMARY KEY, btree (city_id)\n",
      "    \"idx_fk_country_id\" btree (country_id)\n",
      "Foreign-key constraints:\n",
      "    \"city_country_id_fkey\" FOREIGN KEY (country_id) REFERENCES pagila.country(country_id) ON UPDATE CASCADE ON DELETE RESTRICT\n",
      "Referenced by:\n",
      "    TABLE \"pagila.address\" CONSTRAINT \"address_city_id_fkey\" FOREIGN KEY (city_id) REFERENCES pagila.city(city_id) ON UPDATE CASCADE ON DELETE RESTRICT\n",
      "Triggers:\n",
      "    last_updated BEFORE UPDATE ON pagila.city FOR EACH ROW EXECUTE FUNCTION pagila.last_updated()\n",
      "\n"
     ]
    }
   ],
   "source": [
    "!psql -c \"\\d pagila.city\""
   ]
  },
  {
   "cell_type": "code",
   "execution_count": 11,
   "id": "1ac9428b-daad-426c-a627-e55d6cbdda55",
   "metadata": {
    "tags": []
   },
   "outputs": [
    {
     "name": "stdout",
     "output_type": "stream",
     "text": [
      "                                               Table \"pagila.address\"\n",
      "   Column    |           Type           | Collation | Nullable |                      Default                       \n",
      "-------------+--------------------------+-----------+----------+----------------------------------------------------\n",
      " address_id  | integer                  |           | not null | nextval('pagila.address_address_id_seq'::regclass)\n",
      " address     | text                     |           | not null | \n",
      " address2    | text                     |           |          | \n",
      " district    | text                     |           | not null | \n",
      " city_id     | smallint                 |           | not null | \n",
      " postal_code | text                     |           |          | \n",
      " phone       | text                     |           | not null | \n",
      " last_update | timestamp with time zone |           | not null | now()\n",
      "Indexes:\n",
      "    \"address_pkey\" PRIMARY KEY, btree (address_id)\n",
      "    \"idx_fk_city_id\" btree (city_id)\n",
      "Foreign-key constraints:\n",
      "    \"address_city_id_fkey\" FOREIGN KEY (city_id) REFERENCES pagila.city(city_id) ON UPDATE CASCADE ON DELETE RESTRICT\n",
      "Referenced by:\n",
      "    TABLE \"pagila.customer\" CONSTRAINT \"customer_address_id_fkey\" FOREIGN KEY (address_id) REFERENCES pagila.address(address_id) ON UPDATE CASCADE ON DELETE RESTRICT\n",
      "    TABLE \"pagila.staff\" CONSTRAINT \"staff_address_id_fkey\" FOREIGN KEY (address_id) REFERENCES pagila.address(address_id) ON UPDATE CASCADE ON DELETE RESTRICT\n",
      "    TABLE \"pagila.store\" CONSTRAINT \"store_address_id_fkey\" FOREIGN KEY (address_id) REFERENCES pagila.address(address_id) ON UPDATE CASCADE ON DELETE RESTRICT\n",
      "Triggers:\n",
      "    last_updated BEFORE UPDATE ON pagila.address FOR EACH ROW EXECUTE FUNCTION pagila.last_updated()\n",
      "\n"
     ]
    }
   ],
   "source": [
    "!psql -c \"\\d pagila.address\""
   ]
  },
  {
   "cell_type": "code",
   "execution_count": 20,
   "id": "75aa81c9-7741-4e17-a46c-7bc1912d0c33",
   "metadata": {},
   "outputs": [
    {
     "name": "stdout",
     "output_type": "stream",
     "text": [
      "                                               Table \"pagila.category\"\n",
      "   Column    |           Type           | Collation | Nullable |                       Default                        \n",
      "-------------+--------------------------+-----------+----------+------------------------------------------------------\n",
      " category_id | integer                  |           | not null | nextval('pagila.category_category_id_seq'::regclass)\n",
      " name        | text                     |           | not null | \n",
      " last_update | timestamp with time zone |           | not null | now()\n",
      "Indexes:\n",
      "    \"category_pkey\" PRIMARY KEY, btree (category_id)\n",
      "Referenced by:\n",
      "    TABLE \"pagila.film_category\" CONSTRAINT \"film_category_category_id_fkey\" FOREIGN KEY (category_id) REFERENCES pagila.category(category_id) ON UPDATE CASCADE ON DELETE RESTRICT\n",
      "Triggers:\n",
      "    last_updated BEFORE UPDATE ON pagila.category FOR EACH ROW EXECUTE FUNCTION pagila.last_updated()\n",
      "\n"
     ]
    }
   ],
   "source": [
    "!psql -c \"\\d pagila.category\""
   ]
  },
  {
   "cell_type": "code",
   "execution_count": 21,
   "id": "18585591-ac67-497e-99dc-fa74ce07809f",
   "metadata": {},
   "outputs": [
    {
     "name": "stdout",
     "output_type": "stream",
     "text": [
      "                                                Table \"pagila.store\"\n",
      "      Column      |           Type           | Collation | Nullable |                    Default                     \n",
      "------------------+--------------------------+-----------+----------+------------------------------------------------\n",
      " store_id         | integer                  |           | not null | nextval('pagila.store_store_id_seq'::regclass)\n",
      " manager_staff_id | smallint                 |           | not null | \n",
      " address_id       | smallint                 |           | not null | \n",
      " last_update      | timestamp with time zone |           | not null | now()\n",
      "Indexes:\n",
      "    \"store_pkey\" PRIMARY KEY, btree (store_id)\n",
      "    \"idx_unq_manager_staff_id\" UNIQUE, btree (manager_staff_id)\n",
      "Foreign-key constraints:\n",
      "    \"store_address_id_fkey\" FOREIGN KEY (address_id) REFERENCES pagila.address(address_id) ON UPDATE CASCADE ON DELETE RESTRICT\n",
      "Referenced by:\n",
      "    TABLE \"pagila.customer\" CONSTRAINT \"customer_store_id_fkey\" FOREIGN KEY (store_id) REFERENCES pagila.store(store_id) ON UPDATE CASCADE ON DELETE RESTRICT\n",
      "    TABLE \"pagila.inventory\" CONSTRAINT \"inventory_store_id_fkey\" FOREIGN KEY (store_id) REFERENCES pagila.store(store_id) ON UPDATE CASCADE ON DELETE RESTRICT\n",
      "    TABLE \"pagila.staff\" CONSTRAINT \"staff_store_id_fkey\" FOREIGN KEY (store_id) REFERENCES pagila.store(store_id)\n",
      "Triggers:\n",
      "    last_updated BEFORE UPDATE ON pagila.store FOR EACH ROW EXECUTE FUNCTION pagila.last_updated()\n",
      "\n"
     ]
    }
   ],
   "source": [
    "!psql -c \"\\d pagila.store\""
   ]
  },
  {
   "cell_type": "code",
   "execution_count": 12,
   "id": "941eb5ff-6fea-46db-bb78-cd8f119ad8c6",
   "metadata": {
    "tags": []
   },
   "outputs": [
    {
     "name": "stdout",
     "output_type": "stream",
     "text": [
      "                                                Table \"pagila.customer\"\n",
      "   Column    |           Type           | Collation | Nullable |                        Default                        \n",
      "-------------+--------------------------+-----------+----------+-------------------------------------------------------\n",
      " customer_id | integer                  |           | not null | nextval('pagila.customer_customer_id_seq1'::regclass)\n",
      " store_id    | smallint                 |           | not null | \n",
      " first_name  | text                     |           | not null | \n",
      " last_name   | text                     |           | not null | \n",
      " email       | text                     |           |          | \n",
      " address_id  | smallint                 |           | not null | \n",
      " activebool  | boolean                  |           | not null | true\n",
      " create_date | date                     |           | not null | 'now'::text::date\n",
      " last_update | timestamp with time zone |           |          | now()\n",
      " active      | integer                  |           |          | \n",
      "Indexes:\n",
      "    \"customer_pkey\" PRIMARY KEY, btree (customer_id)\n",
      "    \"idx_fk_address_id\" btree (address_id)\n",
      "    \"idx_fk_store_id\" btree (store_id)\n",
      "    \"idx_last_name\" btree (last_name)\n",
      "Foreign-key constraints:\n",
      "    \"customer_address_id_fkey\" FOREIGN KEY (address_id) REFERENCES pagila.address(address_id) ON UPDATE CASCADE ON DELETE RESTRICT\n",
      "    \"customer_store_id_fkey\" FOREIGN KEY (store_id) REFERENCES pagila.store(store_id) ON UPDATE CASCADE ON DELETE RESTRICT\n",
      "Referenced by:\n",
      "    TABLE \"pagila.payment\" CONSTRAINT \"customer_id_fkey\" FOREIGN KEY (customer_id) REFERENCES pagila.customer(customer_id) ON UPDATE CASCADE ON DELETE RESTRICT\n",
      "    TABLE \"pagila.rental\" CONSTRAINT \"rental_customer_id_fkey\" FOREIGN KEY (customer_id) REFERENCES pagila.customer(customer_id) ON UPDATE CASCADE ON DELETE RESTRICT\n",
      "Triggers:\n",
      "    last_updated BEFORE UPDATE ON pagila.customer FOR EACH ROW EXECUTE FUNCTION pagila.last_updated()\n",
      "\n"
     ]
    }
   ],
   "source": [
    "!psql -c \"\\d pagila.customer\""
   ]
  },
  {
   "cell_type": "code",
   "execution_count": 13,
   "id": "ec95b667-9ab3-40a0-9fcc-ef27ff81ab35",
   "metadata": {
    "tags": []
   },
   "outputs": [
    {
     "name": "stdout",
     "output_type": "stream",
     "text": [
      "                                               Table \"pagila.language\"\n",
      "   Column    |           Type           | Collation | Nullable |                       Default                        \n",
      "-------------+--------------------------+-----------+----------+------------------------------------------------------\n",
      " language_id | integer                  |           | not null | nextval('pagila.language_language_id_seq'::regclass)\n",
      " name        | character(20)            |           | not null | \n",
      " last_update | timestamp with time zone |           | not null | now()\n",
      "Indexes:\n",
      "    \"language_pkey\" PRIMARY KEY, btree (language_id)\n",
      "Referenced by:\n",
      "    TABLE \"pagila.film\" CONSTRAINT \"film_language_id_fkey\" FOREIGN KEY (language_id) REFERENCES pagila.language(language_id) ON UPDATE CASCADE ON DELETE RESTRICT\n",
      "    TABLE \"pagila.film\" CONSTRAINT \"film_original_language_id_fkey\" FOREIGN KEY (original_language_id) REFERENCES pagila.language(language_id) ON UPDATE CASCADE ON DELETE RESTRICT\n",
      "Triggers:\n",
      "    last_updated BEFORE UPDATE ON pagila.language FOR EACH ROW EXECUTE FUNCTION pagila.last_updated()\n",
      "\n"
     ]
    }
   ],
   "source": [
    "!psql -c \"\\d pagila.language\""
   ]
  },
  {
   "cell_type": "code",
   "execution_count": 14,
   "id": "2f717301-8312-4ec9-ada2-08784f510495",
   "metadata": {
    "tags": []
   },
   "outputs": [
    {
     "name": "stdout",
     "output_type": "stream",
     "text": [
      "                                                  Table \"pagila.film\"\n",
      "        Column        |           Type           | Collation | Nullable |                   Default                    \n",
      "----------------------+--------------------------+-----------+----------+----------------------------------------------\n",
      " film_id              | integer                  |           | not null | nextval('pagila.film_film_id_seq'::regclass)\n",
      " title                | text                     |           | not null | \n",
      " description          | text                     |           |          | \n",
      " release_year         | pagila.year              |           |          | \n",
      " language_id          | smallint                 |           | not null | \n",
      " original_language_id | smallint                 |           |          | \n",
      " rental_duration      | smallint                 |           | not null | 3\n",
      " rental_rate          | numeric(4,2)             |           | not null | 4.99\n",
      " length               | smallint                 |           |          | \n",
      " replacement_cost     | numeric(5,2)             |           | not null | 19.99\n",
      " rating               | pagila.mpaa_rating       |           |          | 'G'::pagila.mpaa_rating\n",
      " last_update          | timestamp with time zone |           | not null | now()\n",
      " special_features     | text[]                   |           |          | \n",
      " fulltext             | tsvector                 |           | not null | \n",
      "Indexes:\n",
      "    \"film_pkey\" PRIMARY KEY, btree (film_id)\n",
      "    \"film_fulltext_idx\" gist (fulltext)\n",
      "    \"idx_fk_language_id\" btree (language_id)\n",
      "    \"idx_fk_original_language_id\" btree (original_language_id)\n",
      "    \"idx_title\" btree (title)\n",
      "Foreign-key constraints:\n",
      "    \"film_language_id_fkey\" FOREIGN KEY (language_id) REFERENCES pagila.language(language_id) ON UPDATE CASCADE ON DELETE RESTRICT\n",
      "    \"film_original_language_id_fkey\" FOREIGN KEY (original_language_id) REFERENCES pagila.language(language_id) ON UPDATE CASCADE ON DELETE RESTRICT\n",
      "Referenced by:\n",
      "    TABLE \"pagila.film_actor\" CONSTRAINT \"film_actor_film_id_fkey\" FOREIGN KEY (film_id) REFERENCES pagila.film(film_id) ON UPDATE CASCADE ON DELETE RESTRICT\n",
      "    TABLE \"pagila.film_category\" CONSTRAINT \"film_category_film_id_fkey\" FOREIGN KEY (film_id) REFERENCES pagila.film(film_id) ON UPDATE CASCADE ON DELETE RESTRICT\n",
      "    TABLE \"pagila.inventory\" CONSTRAINT \"inventory_film_id_fkey\" FOREIGN KEY (film_id) REFERENCES pagila.film(film_id) ON UPDATE CASCADE ON DELETE RESTRICT\n",
      "Triggers:\n",
      "    film_fulltext_trigger BEFORE INSERT OR UPDATE ON pagila.film FOR EACH ROW EXECUTE FUNCTION tsvector_update_trigger('fulltext', 'pg_catalog.english', 'title', 'description')\n",
      "    last_updated BEFORE UPDATE ON pagila.film FOR EACH ROW EXECUTE FUNCTION pagila.last_updated()\n",
      "\n"
     ]
    }
   ],
   "source": [
    "!psql -c \"\\d pagila.film\""
   ]
  },
  {
   "cell_type": "code",
   "execution_count": 15,
   "id": "c2e920ce-fde4-404f-ab4b-dd4f1639f215",
   "metadata": {
    "tags": []
   },
   "outputs": [
    {
     "name": "stdout",
     "output_type": "stream",
     "text": [
      "                        Table \"pagila.film_actor\"\n",
      "   Column    |           Type           | Collation | Nullable | Default \n",
      "-------------+--------------------------+-----------+----------+---------\n",
      " actor_id    | smallint                 |           | not null | \n",
      " film_id     | smallint                 |           | not null | \n",
      " last_update | timestamp with time zone |           | not null | now()\n",
      "Indexes:\n",
      "    \"film_actor_pkey\" PRIMARY KEY, btree (actor_id, film_id)\n",
      "    \"idx_fk_film_id\" btree (film_id)\n",
      "Foreign-key constraints:\n",
      "    \"film_actor_actor_id_fkey\" FOREIGN KEY (actor_id) REFERENCES pagila.actor(actor_id) ON UPDATE CASCADE ON DELETE RESTRICT\n",
      "    \"film_actor_film_id_fkey\" FOREIGN KEY (film_id) REFERENCES pagila.film(film_id) ON UPDATE CASCADE ON DELETE RESTRICT\n",
      "Triggers:\n",
      "    last_updated BEFORE UPDATE ON pagila.film_actor FOR EACH ROW EXECUTE FUNCTION pagila.last_updated()\n",
      "\n"
     ]
    }
   ],
   "source": [
    "!psql -c \"\\d pagila.film_actor\""
   ]
  },
  {
   "cell_type": "code",
   "execution_count": 16,
   "id": "3a455a4b-0d60-40ce-be6c-d6c714ff323c",
   "metadata": {
    "tags": []
   },
   "outputs": [
    {
     "name": "stdout",
     "output_type": "stream",
     "text": [
      "                      Table \"pagila.film_category\"\n",
      "   Column    |           Type           | Collation | Nullable | Default \n",
      "-------------+--------------------------+-----------+----------+---------\n",
      " film_id     | smallint                 |           | not null | \n",
      " category_id | smallint                 |           | not null | \n",
      " last_update | timestamp with time zone |           | not null | now()\n",
      "Indexes:\n",
      "    \"film_category_pkey\" PRIMARY KEY, btree (film_id, category_id)\n",
      "Foreign-key constraints:\n",
      "    \"film_category_category_id_fkey\" FOREIGN KEY (category_id) REFERENCES pagila.category(category_id) ON UPDATE CASCADE ON DELETE RESTRICT\n",
      "    \"film_category_film_id_fkey\" FOREIGN KEY (film_id) REFERENCES pagila.film(film_id) ON UPDATE CASCADE ON DELETE RESTRICT\n",
      "Triggers:\n",
      "    last_updated BEFORE UPDATE ON pagila.film_category FOR EACH ROW EXECUTE FUNCTION pagila.last_updated()\n",
      "\n"
     ]
    }
   ],
   "source": [
    "!psql -c \"\\d pagila.film_category\""
   ]
  },
  {
   "cell_type": "code",
   "execution_count": 17,
   "id": "50de2601-e76f-45b2-bf6e-ec213784e66c",
   "metadata": {
    "tags": []
   },
   "outputs": [
    {
     "name": "stdout",
     "output_type": "stream",
     "text": [
      "                                                Table \"pagila.inventory\"\n",
      "    Column    |           Type           | Collation | Nullable |                        Default                         \n",
      "--------------+--------------------------+-----------+----------+--------------------------------------------------------\n",
      " inventory_id | integer                  |           | not null | nextval('pagila.inventory_inventory_id_seq'::regclass)\n",
      " film_id      | smallint                 |           | not null | \n",
      " store_id     | smallint                 |           | not null | \n",
      " last_update  | timestamp with time zone |           | not null | now()\n",
      "Indexes:\n",
      "    \"inventory_pkey\" PRIMARY KEY, btree (inventory_id)\n",
      "    \"idx_store_id_film_id\" btree (store_id, film_id)\n",
      "Foreign-key constraints:\n",
      "    \"inventory_film_id_fkey\" FOREIGN KEY (film_id) REFERENCES pagila.film(film_id) ON UPDATE CASCADE ON DELETE RESTRICT\n",
      "    \"inventory_store_id_fkey\" FOREIGN KEY (store_id) REFERENCES pagila.store(store_id) ON UPDATE CASCADE ON DELETE RESTRICT\n",
      "Referenced by:\n",
      "    TABLE \"pagila.rental\" CONSTRAINT \"rental_inventory_id_fkey\" FOREIGN KEY (inventory_id) REFERENCES pagila.inventory(inventory_id) ON UPDATE CASCADE ON DELETE RESTRICT\n",
      "Triggers:\n",
      "    last_updated BEFORE UPDATE ON pagila.inventory FOR EACH ROW EXECUTE FUNCTION pagila.last_updated()\n",
      "\n"
     ]
    }
   ],
   "source": [
    "!psql -c \"\\d pagila.inventory\""
   ]
  },
  {
   "cell_type": "code",
   "execution_count": 22,
   "id": "7f76fa99-9c1c-4cc1-a056-de80966f0755",
   "metadata": {},
   "outputs": [
    {
     "name": "stdout",
     "output_type": "stream",
     "text": [
      "                                              Table \"pagila.staff\"\n",
      "   Column    |           Type           | Collation | Nullable |                    Default                     \n",
      "-------------+--------------------------+-----------+----------+------------------------------------------------\n",
      " staff_id    | integer                  |           | not null | nextval('pagila.staff_staff_id_seq'::regclass)\n",
      " first_name  | text                     |           | not null | \n",
      " last_name   | text                     |           | not null | \n",
      " address_id  | smallint                 |           | not null | \n",
      " email       | text                     |           |          | \n",
      " store_id    | smallint                 |           | not null | \n",
      " active      | boolean                  |           | not null | true\n",
      " username    | text                     |           | not null | \n",
      " password    | text                     |           |          | \n",
      " last_update | timestamp with time zone |           | not null | now()\n",
      " picture     | bytea                    |           |          | \n",
      "Indexes:\n",
      "    \"staff_pkey\" PRIMARY KEY, btree (staff_id)\n",
      "Foreign-key constraints:\n",
      "    \"staff_address_id_fkey\" FOREIGN KEY (address_id) REFERENCES pagila.address(address_id) ON UPDATE CASCADE ON DELETE RESTRICT\n",
      "    \"staff_store_id_fkey\" FOREIGN KEY (store_id) REFERENCES pagila.store(store_id)\n",
      "Referenced by:\n",
      "    TABLE \"pagila.rental\" CONSTRAINT \"rental_staff_id_fkey\" FOREIGN KEY (staff_id) REFERENCES pagila.staff(staff_id) ON UPDATE CASCADE ON DELETE RESTRICT\n",
      "    TABLE \"pagila.payment\" CONSTRAINT \"staff_id_fkey\" FOREIGN KEY (staff_id) REFERENCES pagila.staff(staff_id) ON UPDATE CASCADE ON DELETE RESTRICT\n",
      "Triggers:\n",
      "    last_updated BEFORE UPDATE ON pagila.staff FOR EACH ROW EXECUTE FUNCTION pagila.last_updated()\n",
      "\n"
     ]
    }
   ],
   "source": [
    "!psql -c \"\\d pagila.staff\""
   ]
  },
  {
   "cell_type": "code",
   "execution_count": 18,
   "id": "08f93699-05be-470e-a75d-86431df100fd",
   "metadata": {
    "tags": []
   },
   "outputs": [
    {
     "name": "stdout",
     "output_type": "stream",
     "text": [
      "                                               Table \"pagila.rental\"\n",
      "    Column    |           Type           | Collation | Nullable |                     Default                      \n",
      "--------------+--------------------------+-----------+----------+--------------------------------------------------\n",
      " rental_id    | integer                  |           | not null | nextval('pagila.rental_rental_id_seq'::regclass)\n",
      " rental_date  | timestamp with time zone |           | not null | \n",
      " inventory_id | integer                  |           | not null | \n",
      " customer_id  | smallint                 |           | not null | \n",
      " return_date  | timestamp with time zone |           |          | \n",
      " staff_id     | smallint                 |           | not null | \n",
      " last_update  | timestamp with time zone |           | not null | now()\n",
      "Indexes:\n",
      "    \"rental_pkey\" PRIMARY KEY, btree (rental_id)\n",
      "    \"idx_fk_inventory_id\" btree (inventory_id)\n",
      "    \"idx_unq_rental_rental_date_inventory_id_customer_id\" UNIQUE, btree (rental_date, inventory_id, customer_id)\n",
      "Foreign-key constraints:\n",
      "    \"rental_customer_id_fkey\" FOREIGN KEY (customer_id) REFERENCES pagila.customer(customer_id) ON UPDATE CASCADE ON DELETE RESTRICT\n",
      "    \"rental_inventory_id_fkey\" FOREIGN KEY (inventory_id) REFERENCES pagila.inventory(inventory_id) ON UPDATE CASCADE ON DELETE RESTRICT\n",
      "    \"rental_staff_id_fkey\" FOREIGN KEY (staff_id) REFERENCES pagila.staff(staff_id) ON UPDATE CASCADE ON DELETE RESTRICT\n",
      "Referenced by:\n",
      "    TABLE \"pagila.payment\" CONSTRAINT \"rental_id_fkey\" FOREIGN KEY (rental_id) REFERENCES pagila.rental(rental_id) ON UPDATE CASCADE ON DELETE RESTRICT\n",
      "Triggers:\n",
      "    last_updated BEFORE UPDATE ON pagila.rental FOR EACH ROW EXECUTE FUNCTION pagila.last_updated()\n",
      "\n"
     ]
    }
   ],
   "source": [
    "!psql -c \"\\d pagila.rental\""
   ]
  },
  {
   "cell_type": "code",
   "execution_count": 19,
   "id": "86de2b13-f4bd-4c45-a1c4-b8c22cb07b00",
   "metadata": {
    "tags": []
   },
   "outputs": [
    {
     "name": "stdout",
     "output_type": "stream",
     "text": [
      "                                               Table \"pagila.payment\"\n",
      "    Column    |           Type           | Collation | Nullable |                      Default                       \n",
      "--------------+--------------------------+-----------+----------+----------------------------------------------------\n",
      " payment_id   | integer                  |           | not null | nextval('pagila.payment_payment_id_seq'::regclass)\n",
      " customer_id  | smallint                 |           | not null | \n",
      " staff_id     | smallint                 |           | not null | \n",
      " rental_id    | integer                  |           | not null | \n",
      " amount       | numeric(5,2)             |           | not null | \n",
      " payment_date | timestamp with time zone |           | not null | \n",
      "Indexes:\n",
      "    \"payment_pkey\" PRIMARY KEY, btree (payment_id)\n",
      "    \"idx_fk_customer_id\" btree (customer_id)\n",
      "    \"idx_fk_staff_id\" btree (staff_id)\n",
      "Foreign-key constraints:\n",
      "    \"customer_id_fkey\" FOREIGN KEY (customer_id) REFERENCES pagila.customer(customer_id) ON UPDATE CASCADE ON DELETE RESTRICT\n",
      "    \"rental_id_fkey\" FOREIGN KEY (rental_id) REFERENCES pagila.rental(rental_id) ON UPDATE CASCADE ON DELETE RESTRICT\n",
      "    \"staff_id_fkey\" FOREIGN KEY (staff_id) REFERENCES pagila.staff(staff_id) ON UPDATE CASCADE ON DELETE RESTRICT\n",
      "\n"
     ]
    }
   ],
   "source": [
    "!psql -c \"\\d pagila.payment\""
   ]
  },
  {
   "cell_type": "code",
   "execution_count": 1,
   "id": "6f6cf1f1-55a2-4284-a8f3-fe7d2e371119",
   "metadata": {
    "tags": []
   },
   "outputs": [
    {
     "name": "stdout",
     "output_type": "stream",
     "text": [
      "               View \"pagila.actor_info\"\n",
      "   Column   |  Type   | Collation | Nullable | Default \n",
      "------------+---------+-----------+----------+---------\n",
      " actor_id   | integer |           |          | \n",
      " first_name | text    |           |          | \n",
      " last_name  | text    |           |          | \n",
      " film_info  | text    |           |          | \n",
      "\n"
     ]
    }
   ],
   "source": [
    "!psql -c \"\\d pagila.actor_info\""
   ]
  },
  {
   "cell_type": "code",
   "execution_count": 2,
   "id": "36dcf5bd-64a2-4995-a15f-b4adf43d8437",
   "metadata": {
    "tags": []
   },
   "outputs": [
    {
     "name": "stdout",
     "output_type": "stream",
     "text": [
      "                      View \"pagila.film_list\"\n",
      "   Column    |        Type        | Collation | Nullable | Default \n",
      "-------------+--------------------+-----------+----------+---------\n",
      " fid         | integer            |           |          | \n",
      " title       | text               |           |          | \n",
      " description | text               |           |          | \n",
      " category    | text               |           |          | \n",
      " price       | numeric(4,2)       |           |          | \n",
      " length      | smallint           |           |          | \n",
      " rating      | pagila.mpaa_rating |           |          | \n",
      " actors      | text               |           |          | \n",
      "\n"
     ]
    }
   ],
   "source": [
    "!psql -c \"\\d pagila.film_list\""
   ]
  },
  {
   "cell_type": "code",
   "execution_count": 3,
   "id": "157a4dd4-49a8-492b-a13f-8371de8150ff",
   "metadata": {
    "tags": []
   },
   "outputs": [
    {
     "name": "stdout",
     "output_type": "stream",
     "text": [
      "             View \"pagila.nicer_but_slower_film_list\"\n",
      "   Column    |        Type        | Collation | Nullable | Default \n",
      "-------------+--------------------+-----------+----------+---------\n",
      " fid         | integer            |           |          | \n",
      " title       | text               |           |          | \n",
      " description | text               |           |          | \n",
      " category    | text               |           |          | \n",
      " price       | numeric(4,2)       |           |          | \n",
      " length      | smallint           |           |          | \n",
      " rating      | pagila.mpaa_rating |           |          | \n",
      " actors      | text               |           |          | \n",
      "\n"
     ]
    }
   ],
   "source": [
    "!psql -c \"\\d pagila.nicer_but_slower_film_list\""
   ]
  },
  {
   "cell_type": "code",
   "execution_count": 4,
   "id": "8de4153b-ce9d-4a88-a04f-6f8adb0be0a1",
   "metadata": {
    "tags": []
   },
   "outputs": [
    {
     "name": "stdout",
     "output_type": "stream",
     "text": [
      "          View \"pagila.sales_by_film_category\"\n",
      "   Column    |  Type   | Collation | Nullable | Default \n",
      "-------------+---------+-----------+----------+---------\n",
      " category    | text    |           |          | \n",
      " total_sales | numeric |           |          | \n",
      "\n"
     ]
    }
   ],
   "source": [
    "!psql -c \"\\d pagila.sales_by_film_category\""
   ]
  },
  {
   "cell_type": "code",
   "execution_count": 5,
   "id": "c100cc6c-b11d-4a60-83f7-cd66ea6899fc",
   "metadata": {
    "tags": []
   },
   "outputs": [
    {
     "name": "stdout",
     "output_type": "stream",
     "text": [
      "              View \"pagila.sales_by_store\"\n",
      "   Column    |  Type   | Collation | Nullable | Default \n",
      "-------------+---------+-----------+----------+---------\n",
      " store       | text    |           |          | \n",
      " manager     | text    |           |          | \n",
      " total_sales | numeric |           |          | \n",
      "\n"
     ]
    }
   ],
   "source": [
    "!psql -c \"\\d pagila.sales_by_store\""
   ]
  },
  {
   "cell_type": "code",
   "execution_count": 6,
   "id": "34a9f0ea-8358-4972-a431-497e97b66ddc",
   "metadata": {
    "tags": []
   },
   "outputs": [
    {
     "name": "stdout",
     "output_type": "stream",
     "text": [
      "               View \"pagila.staff_list\"\n",
      "  Column  |   Type   | Collation | Nullable | Default \n",
      "----------+----------+-----------+----------+---------\n",
      " id       | integer  |           |          | \n",
      " name     | text     |           |          | \n",
      " address  | text     |           |          | \n",
      " zip code | text     |           |          | \n",
      " phone    | text     |           |          | \n",
      " city     | text     |           |          | \n",
      " country  | text     |           |          | \n",
      " sid      | smallint |           |          | \n",
      "\n"
     ]
    }
   ],
   "source": [
    "!psql -c \"\\d pagila.staff_list\""
   ]
  },
  {
   "cell_type": "markdown",
   "id": "e0c09900-faf9-4bda-a97e-f45234ee5ca6",
   "metadata": {
    "tags": []
   },
   "source": [
    "#### On lucidchart entity relationship, right one"
   ]
  },
  {
   "cell_type": "markdown",
   "id": "39e5847e-6510-4567-ad5f-4956fd480695",
   "metadata": {},
   "source": [
    "#### Inner join of 'film_actor' onto 'actor' using actor_id as the key"
   ]
  },
  {
   "cell_type": "code",
   "execution_count": 23,
   "id": "68d8ca06-c0af-4929-8ee1-5c54894db51c",
   "metadata": {
    "tags": []
   },
   "outputs": [
    {
     "name": "stdout",
     "output_type": "stream",
     "text": [
      " actor_id | first_name | last_name | film_id \n",
      "----------+------------+-----------+---------\n",
      "        1 | PENELOPE   | GUINESS   |       1\n",
      "        2 | NICK       | WAHLBERG  |       3\n",
      "        3 | ED         | CHASE     |      17\n",
      "        1 | PENELOPE   | GUINESS   |      23\n",
      "        4 | JENNIFER   | DAVIS     |      23\n",
      "        4 | JENNIFER   | DAVIS     |      25\n",
      "        1 | PENELOPE   | GUINESS   |      25\n",
      "        2 | NICK       | WAHLBERG  |      31\n",
      "        3 | ED         | CHASE     |      40\n",
      "        3 | ED         | CHASE     |      42\n",
      "(10 rows)\n",
      "\n"
     ]
    }
   ],
   "source": [
    "!psql -c \"SELECT a.actor_id, first_name, last_name, film_id FROM pagila.actor a JOIN pagila.film_actor f ON a.actor_id = f.actor_id WHERE a.actor_id < 5 ORDER BY film_id limit 10\""
   ]
  },
  {
   "cell_type": "markdown",
   "id": "fff476fb-71c3-47cb-9d2e-d3790bb3c7f6",
   "metadata": {},
   "source": [
    "#### Inner join of 'address' onto 'city' using city_id as the key"
   ]
  },
  {
   "cell_type": "code",
   "execution_count": 26,
   "id": "7c73ba90-90aa-436d-8c3a-4c5fe8f1e1e7",
   "metadata": {
    "tags": []
   },
   "outputs": [
    {
     "name": "stdout",
     "output_type": "stream",
     "text": [
      " city_id |      city      | address_id |        address         |  district  \n",
      "---------+----------------+------------+------------------------+------------\n",
      "     449 | San Bernardino |          6 | 1121 Loja Avenue       | California\n",
      "     120 | Citrus Heights |         18 | 770 Bydgoszcz Avenue   | California\n",
      "     171 | Fontana        |         55 | 1135 Izumisano Parkway | California\n",
      "     292 | Lancaster      |        116 | 793 Cam Ranh Avenue    | California\n",
      "     126 | Compton        |        186 | 533 al-Ayn Boulevard   | California\n",
      "     508 | Sunnyvale      |        218 | 226 Brest Manor        | California\n",
      "     446 | Salinas        |        274 | 920 Kumbakonam Loop    | California\n",
      "     155 | El Monte       |        425 | 1866 al-Qatif Avenue   | California\n",
      "     177 | Garden Grove   |        599 | 1895 Zhezqazghan Drive | California\n",
      "(9 rows)\n",
      "\n"
     ]
    }
   ],
   "source": [
    "!psql -c \"SELECT c.city_id, city, address_id, address, district FROM pagila.city c JOIN pagila.address a ON c.city_id = a.city_id WHERE district = 'California' ORDER BY address_id\" "
   ]
  },
  {
   "cell_type": "markdown",
   "id": "95c18baf-a6bb-4967-b701-b6e2f4f81bb6",
   "metadata": {},
   "source": [
    "#### Inner join of 'sales_by_film_category' onto 'film_list' using category as the key"
   ]
  },
  {
   "cell_type": "code",
   "execution_count": 1,
   "id": "b6c7e8a9-c0a0-4f74-83b7-9e494184d533",
   "metadata": {
    "tags": []
   },
   "outputs": [
    {
     "name": "stdout",
     "output_type": "stream",
     "text": [
      " category |       title       | price | length | rating | total_sales \n",
      "----------+-------------------+-------+--------+--------+-------------\n",
      " Sports   | DRIVER ANNIE      |  2.99 |    159 | PG-13  |     5314.21\n",
      " Sports   | STAR OPERATION    |  2.99 |    181 | PG     |     5314.21\n",
      " Sports   | KRAMER CHOCOLATE  |  2.99 |    171 | R      |     5314.21\n",
      " Sports   | PHILADELPHIA WIFE |  4.99 |    137 | PG-13  |     5314.21\n",
      " Sports   | GROOVE FICTION    |  0.99 |    111 | NC-17  |     5314.21\n",
      " Sports   | HOLES BRANNIGAN   |  4.99 |    128 | PG     |     5314.21\n",
      " Sports   | SQUAD FISH        |  2.99 |    136 | PG     |     5314.21\n",
      " Sports   | SIERRA DIVIDE     |  0.99 |    135 | NC-17  |     5314.21\n",
      " Sports   | ANONYMOUS HUMAN   |  0.99 |    179 | NC-17  |     5314.21\n",
      " Sports   | MUMMY CREATURES   |  0.99 |    160 | NC-17  |     5314.21\n",
      "(10 rows)\n",
      "\n"
     ]
    }
   ],
   "source": [
    "!psql -c \"SELECT f.category, title, price, length, rating, total_sales FROM pagila.film_list f JOIN pagila.sales_by_film_category s ON f.category = s.category WHERE length > 100 ORDER BY total_sales DESC LIMIT 10\""
   ]
  },
  {
   "cell_type": "markdown",
   "id": "541021ed-d61c-43ae-ab83-23ce789cc05d",
   "metadata": {},
   "source": [
    "#### Left join of 'film_list' onto 'film' using film_id/fid as the key"
   ]
  },
  {
   "cell_type": "code",
   "execution_count": 2,
   "id": "e92c3b65-16c4-417c-83b3-d4a19a30aacc",
   "metadata": {
    "tags": []
   },
   "outputs": [
    {
     "name": "stdout",
     "output_type": "stream",
     "text": [
      " film_id |      title       | category | price | length | special_features \n",
      "---------+------------------+----------+-------+--------+------------------\n",
      "     841 | STAR OPERATION   | Sports   |  2.99 |    181 | {Commentaries}\n",
      "     691 | POSEIDON FOREVER | Sports   |  4.99 |    159 | {Commentaries}\n",
      "     733 | RIVER OUTLAW     | Sports   |  0.99 |    149 | {Commentaries}\n",
      "     197 | CRUSADE HONEY    | Sports   |  2.99 |    112 | {Commentaries}\n",
      "     187 | CRANES RESERVOIR | Sports   |  2.99 |     57 | {Commentaries}\n",
      "(5 rows)\n",
      "\n"
     ]
    }
   ],
   "source": [
    "!psql -c \"SELECT f.film_id, f.title, category, price, l.length, special_features FROM pagila.film f LEFT JOIN pagila.film_list l ON f.film_id = l.fid WHERE special_features = '{Commentaries}' AND category = 'Sports' ORDER BY length DESC\""
   ]
  },
  {
   "cell_type": "markdown",
   "id": "bda9429e-6d4a-4818-963f-79c15186f50f",
   "metadata": {},
   "source": [
    "#### Right join of 'payment' onto 'customer_list' using id/customer_id as the key"
   ]
  },
  {
   "cell_type": "code",
   "execution_count": 3,
   "id": "852eb713-0f54-484a-8bc2-43afb134b866",
   "metadata": {
    "tags": []
   },
   "outputs": [
    {
     "name": "stdout",
     "output_type": "stream",
     "text": [
      " id  |    name    | payment_id | amount \n",
      "-----+------------+------------+--------\n",
      " 354 | JUSTIN NGO |      26162 |   8.99\n",
      " 354 | JUSTIN NGO |      31941 |   7.98\n",
      " 354 | JUSTIN NGO |      17558 |   6.99\n",
      " 354 | JUSTIN NGO |      20325 |   6.99\n",
      " 354 | JUSTIN NGO |      20324 |   6.99\n",
      " 354 | JUSTIN NGO |      26149 |   5.99\n",
      " 354 | JUSTIN NGO |      20330 |   5.99\n",
      " 354 | JUSTIN NGO |      26157 |   5.99\n",
      " 354 | JUSTIN NGO |      26151 |   4.99\n",
      " 354 | JUSTIN NGO |      17557 |   4.99\n",
      "(10 rows)\n",
      "\n"
     ]
    }
   ],
   "source": [
    "!psql -c \"SELECT id, name, payment_id, amount FROM pagila.customer_list l RIGHT JOIN pagila.payment p ON l.id = p.customer_id WHERE id = 354 ORDER BY amount DESC LIMIT 10\""
   ]
  },
  {
   "cell_type": "markdown",
   "id": "6ebac65a-2bbc-47d3-9b37-a15fb8d97cf6",
   "metadata": {},
   "source": [
    "#### Full join of 'country' onto 'city' using country_id as the key"
   ]
  },
  {
   "cell_type": "code",
   "execution_count": 11,
   "id": "78b35001-8a24-462b-84da-096931b3e374",
   "metadata": {
    "tags": []
   },
   "outputs": [
    {
     "name": "stdout",
     "output_type": "stream",
     "text": [
      " city_id |          city           | country_id |    country    \n",
      "---------+-------------------------+------------+---------------\n",
      "      11 | Akron                   |        103 | United States\n",
      "      33 | Arlington               |        103 | United States\n",
      "      41 | Augusta-Richmond County |        103 | United States\n",
      "      42 | Aurora                  |        103 | United States\n",
      "      65 | Bellevue                |        103 | United States\n",
      "      94 | Brockton                |        103 | United States\n",
      "     101 | Cape Coral              |        103 | United States\n",
      "     120 | Citrus Heights          |        103 | United States\n",
      "     123 | Clarksville             |        103 | United States\n",
      "     126 | Compton                 |        103 | United States\n",
      "(10 rows)\n",
      "\n"
     ]
    }
   ],
   "source": [
    "!psql -c \"SELECT city_id, city, ci.country_id, country FROM pagila.city ci FULL JOIN pagila.country co ON ci.country_id = co.country_id WHERE country = 'United States' ORDER BY city_id LIMIT 10\""
   ]
  },
  {
   "cell_type": "markdown",
   "id": "1bc1b070-e1f9-44ea-89a9-e8834c67e5fe",
   "metadata": {},
   "source": [
    "#### Self join of 'film_list' category as the key"
   ]
  },
  {
   "cell_type": "code",
   "execution_count": 22,
   "id": "1b0827ce-d913-4ffe-9e52-294b7d43aaf6",
   "metadata": {},
   "outputs": [
    {
     "name": "stdout",
     "output_type": "stream",
     "text": [
      "       title       |         title          | price |  category   \n",
      "-------------------+------------------------+-------+-------------\n",
      " VILLAIN DESPERATE | INTOLERABLE INTENTIONS |  4.99 | Documentary\n",
      " VILLAIN DESPERATE | RAINBOW SHOCK          |  4.99 | Documentary\n",
      " VILLAIN DESPERATE | FRENCH HOLIDAY         |  4.99 | Documentary\n",
      " VILLAIN DESPERATE | MIDSUMMER GROUNDHOG    |  4.99 | Documentary\n",
      " VILLAIN DESPERATE | MOD SECRETARY          |  4.99 | Documentary\n",
      " VILLAIN DESPERATE | CLERKS ANGELS          |  4.99 | Documentary\n",
      " VILLAIN DESPERATE | PELICAN COMFORTS       |  4.99 | Documentary\n",
      " VILLAIN DESPERATE | SECRET GROUNDHOG       |  4.99 | Documentary\n",
      " VILLAIN DESPERATE | SHOW LORD              |  4.99 | Documentary\n",
      " VILLAIN DESPERATE | WIFE TURN              |  4.99 | Documentary\n",
      "(10 rows)\n",
      "\n"
     ]
    }
   ],
   "source": [
    "!psql -c \"SELECT f1.title, f2.title, f2.price, f2.category FROM pagila.film_list f1 JOIN pagila.film_list f2 ON f1.title != f2.title AND f1.category = f2.category WHERE f2.category = 'Documentary' ORDER BY f2.price DESC LIMIT 10\""
   ]
  }
 ],
 "metadata": {
  "environment": {
   "kernel": "conda-root-py",
   "name": "workbench-notebooks.m110",
   "type": "gcloud",
   "uri": "gcr.io/deeplearning-platform-release/workbench-notebooks:m110"
  },
  "kernelspec": {
   "display_name": "Python 3",
   "language": "python",
   "name": "conda-root-py"
  },
  "language_info": {
   "codemirror_mode": {
    "name": "ipython",
    "version": 3
   },
   "file_extension": ".py",
   "mimetype": "text/x-python",
   "name": "python",
   "nbconvert_exporter": "python",
   "pygments_lexer": "ipython3",
   "version": "3.10.12"
  }
 },
 "nbformat": 4,
 "nbformat_minor": 5
}
