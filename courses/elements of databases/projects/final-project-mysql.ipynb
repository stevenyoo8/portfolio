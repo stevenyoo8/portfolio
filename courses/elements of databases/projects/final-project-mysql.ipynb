{
 "cells": [
  {
   "cell_type": "markdown",
   "id": "aaa7b46a-4d8d-439b-86d6-2021ee53f5a8",
   "metadata": {},
   "source": [
    "# Part 1: MySQL"
   ]
  },
  {
   "cell_type": "code",
   "execution_count": 1,
   "id": "25f36a63-4bdf-47fa-a27b-13c2f5cfb91b",
   "metadata": {},
   "outputs": [],
   "source": [
    "HOST=\"10.77.240.3\"\n",
    "USER=\"root\"\n",
    "PW=\n",
    "DB=\"final_project\""
   ]
  },
  {
   "cell_type": "code",
   "execution_count": 2,
   "id": "6a114db4-5b68-470f-8c66-eaa1f4013ac7",
   "metadata": {},
   "outputs": [],
   "source": [
    "import mysql.connector\n",
    "\n",
    "def connect():\n",
    "    connection = mysql.connector.connect(\n",
    "    host=HOST,\n",
    "    user=USER,\n",
    "    password=PW,\n",
    "    database=DB,\n",
    "    autocommit=False)\n",
    "    \n",
    "    return connection"
   ]
  },
  {
   "cell_type": "markdown",
   "id": "6e73605c-27b6-42a7-9da0-52900d04235b",
   "metadata": {},
   "source": [
    "### 1. Test Connection"
   ]
  },
  {
   "cell_type": "code",
   "execution_count": 3,
   "id": "4859e80e-a48d-49e4-abe4-1647c861b4fa",
   "metadata": {},
   "outputs": [
    {
     "name": "stdout",
     "output_type": "stream",
     "text": [
      "<mysql.connector.connection_cext.CMySQLConnection object at 0x7f44d6a27af0>\n"
     ]
    }
   ],
   "source": [
    "import mysql.connector\n",
    "\n",
    "connection = connect()\n",
    "\n",
    "print(connection)"
   ]
  },
  {
   "cell_type": "markdown",
   "id": "89444ab7-a481-42d8-9e82-f8f2ca3c50ac",
   "metadata": {},
   "source": [
    "### 2. Create the table (and drop it if it already exists)"
   ]
  },
  {
   "cell_type": "code",
   "execution_count": 4,
   "id": "e4f59835-d22a-490e-b7d1-f530e87f65fa",
   "metadata": {},
   "outputs": [
    {
     "name": "stdout",
     "output_type": "stream",
     "text": [
      "<mysql.connector.connection_cext.CMySQLConnection object at 0x7f44e632e650>\n",
      "DROP TABLE IF EXISTS shopper\n",
      "CREATE TABLE shopper (\n",
      "    cust_id INT NOT NULL PRIMARY KEY,\n",
      "    first_name VARCHAR(20) NOT NULL,\n",
      "    last_name VARCHAR(23) NOT NULL,\n",
      "    company VARCHAR(40) NOT NULL,\n",
      "    street_1 VARCHAR(40) NOT NULL,\n",
      "    street_2 VARCHAR(40) NOT NULL,\n",
      "    city VARCHAR(30) NOT NULL,\n",
      "    county VARCHAR(30) NOT NULL, \n",
      "    state VARCHAR(30) NOT NULL, \n",
      "    zip CHAR(5) NOT NULL,\n",
      "    phone_1 VARCHAR(30) NOT NULL,\n",
      "    phone_2 VARCHAR(30) NOT NULL,\n",
      "    email VARCHAR(44) NOT NULL\n",
      ") \n",
      "Dropped shopper table\n",
      "Created shopper table\n"
     ]
    }
   ],
   "source": [
    "import mysql.connector\n",
    "\n",
    "connection = connect()\n",
    "print(connection)\n",
    "\n",
    "drop = 'DROP TABLE IF EXISTS shopper'\n",
    "\n",
    "create = '''CREATE TABLE shopper (\n",
    "    cust_id INT NOT NULL PRIMARY KEY,\n",
    "    first_name VARCHAR(20) NOT NULL,\n",
    "    last_name VARCHAR(23) NOT NULL,\n",
    "    company VARCHAR(40) NOT NULL,\n",
    "    street_1 VARCHAR(40) NOT NULL,\n",
    "    street_2 VARCHAR(40) NOT NULL,\n",
    "    city VARCHAR(30) NOT NULL,\n",
    "    county VARCHAR(30) NOT NULL, \n",
    "    state VARCHAR(30) NOT NULL, \n",
    "    zip CHAR(5) NOT NULL,\n",
    "    phone_1 VARCHAR(30) NOT NULL,\n",
    "    phone_2 VARCHAR(30) NOT NULL,\n",
    "    email VARCHAR(44) NOT NULL\n",
    ") '''\n",
    "\n",
    "print(drop)\n",
    "print(create)\n",
    "\n",
    "try:\n",
    "    cursor = connection.cursor()\n",
    "    cursor.execute(drop)\n",
    "    print('Dropped shopper table')\n",
    "    \n",
    "    cursor = connection.cursor()\n",
    "    cursor.execute(create)\n",
    "    print('Created shopper table')\n",
    "except Exception as e:\n",
    "    print(\"Error occurred while creating shopper table:\", e)"
   ]
  },
  {
   "cell_type": "markdown",
   "id": "1af8a2f7-8dc3-487a-9287-ffd9133471c5",
   "metadata": {},
   "source": [
    "### 3. Insert records into table"
   ]
  },
  {
   "cell_type": "code",
   "execution_count": 5,
   "id": "40483233-0f91-4ae9-a3cd-c5cbb21a86af",
   "metadata": {},
   "outputs": [
    {
     "name": "stdout",
     "output_type": "stream",
     "text": [
      "50 records written into shopper table\n"
     ]
    }
   ],
   "source": [
    "import mysql.connector\n",
    "import random as random\n",
    "\n",
    "connection = connect()\n",
    "\n",
    "from faker import Faker\n",
    "fake = Faker()\n",
    "\n",
    "insert_data = \"INSERT INTO shopper (cust_id, first_name, last_name, company, street_1, street_2, city, county, state, zip, phone_1, phone_2, email)\\\n",
    "    VALUES (%s, %s, %s, %s, %s, %s, %s, %s, %s, %s, %s, %s, %s)\"\n",
    "\n",
    "records = []\n",
    "for i in range(50): \n",
    "    data = (\n",
    "        i,\n",
    "        fake.first_name(),\n",
    "        fake.last_name(),\n",
    "        fake.company(),\n",
    "        fake.street_address(),\n",
    "        fake.secondary_address(),\n",
    "        fake.city(),\n",
    "        fake.city(),\n",
    "        fake.state(),\n",
    "        fake.zipcode(),\n",
    "        fake.phone_number(),\n",
    "        fake.phone_number(),\n",
    "        fake.email(),\n",
    "    )\n",
    "    records.append(data)\n",
    "\n",
    "try:\n",
    "    cursor = connection.cursor()\n",
    "    cursor.executemany(insert_data, records)\n",
    "    connection.commit()\n",
    "    print('50 records written into shopper table')\n",
    "    cursor.close()\n",
    "except Exception as e:\n",
    "    print(\"Error occurred while writing records:\", e)"
   ]
  },
  {
   "cell_type": "code",
   "execution_count": null,
   "id": "6d29267a-9229-40c7-ade8-8babef16b59d",
   "metadata": {},
   "outputs": [],
   "source": []
  }
 ],
 "metadata": {
  "environment": {
   "kernel": "conda-root-py",
   "name": "workbench-notebooks.m110",
   "type": "gcloud",
   "uri": "gcr.io/deeplearning-platform-release/workbench-notebooks:m110"
  },
  "kernelspec": {
   "display_name": "Python 3",
   "language": "python",
   "name": "conda-root-py"
  },
  "language_info": {
   "codemirror_mode": {
    "name": "ipython",
    "version": 3
   },
   "file_extension": ".py",
   "mimetype": "text/x-python",
   "name": "python",
   "nbconvert_exporter": "python",
   "pygments_lexer": "ipython3",
   "version": "3.10.12"
  }
 },
 "nbformat": 4,
 "nbformat_minor": 5
}
