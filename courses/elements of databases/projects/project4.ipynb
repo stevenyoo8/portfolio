{
 "cells": [
  {
   "cell_type": "markdown",
   "metadata": {},
   "source": [
    "### Starter code for Project 4. \n",
    "#### Run these cells before starting the assignment. "
   ]
  },
  {
   "cell_type": "markdown",
   "metadata": {},
   "source": [
    "#### 1. create BQ dataset:"
   ]
  },
  {
   "cell_type": "code",
   "execution_count": 1,
   "metadata": {},
   "outputs": [
    {
     "name": "stdout",
     "output_type": "stream",
     "text": [
      "env: dataset_id=school_enrollments\n"
     ]
    }
   ],
   "source": [
    "%env dataset_id=school_enrollments"
   ]
  },
  {
   "cell_type": "code",
   "execution_count": 2,
   "metadata": {},
   "outputs": [
    {
     "name": "stdout",
     "output_type": "stream",
     "text": [
      "BigQuery error in mk operation: Dataset 'apt-subset-397505:school_enrollments'\n",
      "already exists.\n"
     ]
    }
   ],
   "source": [
    "!bq --location=US mk --dataset $dataset_id"
   ]
  },
  {
   "cell_type": "markdown",
   "metadata": {},
   "source": [
    "#### 2. create and populate BQ tables:"
   ]
  },
  {
   "cell_type": "code",
   "execution_count": 3,
   "metadata": {},
   "outputs": [],
   "source": [
    "import os"
   ]
  },
  {
   "cell_type": "code",
   "execution_count": 4,
   "metadata": {},
   "outputs": [
    {
     "name": "stdout",
     "output_type": "stream",
     "text": [
      "bq --location=US load --autodetect --skip_leading_rows=1 --source_format=CSV school_enrollments.ak gs://cs327e-open-access/stanford-school-enrollment/zf406jp4427_ak.csv\n",
      "\n"
     ]
    },
    {
     "name": "stderr",
     "output_type": "stream",
     "text": [
      "Waiting on bqjob_r1846820272e56b68_0000018adc625955_1 ... (2s) Current status: DONE   \n"
     ]
    },
    {
     "name": "stdout",
     "output_type": "stream",
     "text": [
      "bq --location=US load --autodetect --skip_leading_rows=1 --source_format=CSV school_enrollments.ar gs://cs327e-open-access/stanford-school-enrollment/zf406jp4427_ar.csv\n",
      "\n"
     ]
    },
    {
     "name": "stderr",
     "output_type": "stream",
     "text": [
      "Waiting on bqjob_r715c08f2b6070772_0000018adc626dd4_1 ... (3s) Current status: DONE   \n"
     ]
    },
    {
     "name": "stdout",
     "output_type": "stream",
     "text": [
      "bq --location=US load --autodetect --skip_leading_rows=1 --source_format=CSV school_enrollments.az gs://cs327e-open-access/stanford-school-enrollment/zf406jp4427_az.csv\n",
      "\n"
     ]
    },
    {
     "name": "stderr",
     "output_type": "stream",
     "text": [
      "Waiting on bqjob_r14395ca73203efed_0000018adc628691_1 ... (4s) Current status: DONE   \n"
     ]
    },
    {
     "name": "stdout",
     "output_type": "stream",
     "text": [
      "bq --location=US load --autodetect --skip_leading_rows=1 --source_format=CSV school_enrollments.ca gs://cs327e-open-access/stanford-school-enrollment/zf406jp4427_ca.csv\n",
      "\n"
     ]
    },
    {
     "name": "stderr",
     "output_type": "stream",
     "text": [
      "Waiting on bqjob_r69ee64aa5b3acc45_0000018adc62a355_1 ... (10s) Current status: DONE   \n"
     ]
    },
    {
     "name": "stdout",
     "output_type": "stream",
     "text": [
      "skipping co\n",
      "bq --location=US load --autodetect --skip_leading_rows=1 --source_format=CSV school_enrollments.ct gs://cs327e-open-access/stanford-school-enrollment/zf406jp4427_ct.csv\n",
      "\n"
     ]
    },
    {
     "name": "stderr",
     "output_type": "stream",
     "text": [
      "Waiting on bqjob_r579fb00254a4d99a_0000018adc62d57e_1 ... (3s) Current status: DONE   \n"
     ]
    },
    {
     "name": "stdout",
     "output_type": "stream",
     "text": [
      "skipping district\n",
      "skipping fl\n",
      "skipping ga\n",
      "bq --location=US load --autodetect --skip_leading_rows=1 --source_format=CSV school_enrollments.hi gs://cs327e-open-access/stanford-school-enrollment/zf406jp4427_hi.csv\n",
      "\n"
     ]
    },
    {
     "name": "stderr",
     "output_type": "stream",
     "text": [
      "Waiting on bqjob_r4db092ff2271952f_0000018adc62edbd_1 ... (2s) Current status: DONE   \n"
     ]
    },
    {
     "name": "stdout",
     "output_type": "stream",
     "text": [
      "skipping id\n",
      "bq --location=US load --autodetect --skip_leading_rows=1 --source_format=CSV school_enrollments.in gs://cs327e-open-access/stanford-school-enrollment/zf406jp4427_in.csv\n",
      "\n"
     ]
    },
    {
     "name": "stderr",
     "output_type": "stream",
     "text": [
      "Waiting on bqjob_r2f47c0e42065744b_0000018adc630227_1 ... (3s) Current status: DONE   \n"
     ]
    },
    {
     "name": "stdout",
     "output_type": "stream",
     "text": [
      "bq --location=US load --autodetect --skip_leading_rows=1 --source_format=CSV school_enrollments.la gs://cs327e-open-access/stanford-school-enrollment/zf406jp4427_la.csv\n",
      "\n"
     ]
    },
    {
     "name": "stderr",
     "output_type": "stream",
     "text": [
      "Waiting on bqjob_r4638bcca998e29d9_0000018adc631b52_1 ... (5s) Current status: DONE   \n"
     ]
    },
    {
     "name": "stdout",
     "output_type": "stream",
     "text": [
      "skipping ma\n",
      "bq --location=US load --autodetect --skip_leading_rows=1 --source_format=CSV school_enrollments.md gs://cs327e-open-access/stanford-school-enrollment/zf406jp4427_md.csv\n",
      "\n"
     ]
    },
    {
     "name": "stderr",
     "output_type": "stream",
     "text": [
      "Waiting on bqjob_r443e9de8d55e55a7_0000018adc633c7b_1 ... (2s) Current status: DONE   \n"
     ]
    },
    {
     "name": "stdout",
     "output_type": "stream",
     "text": [
      "bq --location=US load --autodetect --skip_leading_rows=1 --source_format=CSV school_enrollments.mn gs://cs327e-open-access/stanford-school-enrollment/zf406jp4427_mn.csv\n",
      "\n"
     ]
    },
    {
     "name": "stderr",
     "output_type": "stream",
     "text": [
      "Waiting on bqjob_r4d9c5bea68fdcef_0000018adc63506d_1 ... (4s) Current status: DONE   \n"
     ]
    },
    {
     "name": "stdout",
     "output_type": "stream",
     "text": [
      "skipping mo\n",
      "bq --location=US load --autodetect --skip_leading_rows=1 --source_format=CSV school_enrollments.ms gs://cs327e-open-access/stanford-school-enrollment/zf406jp4427_ms.csv\n",
      "\n"
     ]
    },
    {
     "name": "stderr",
     "output_type": "stream",
     "text": [
      "Waiting on bqjob_r17136f44a1748330_0000018adc636d32_1 ... (2s) Current status: DONE   \n"
     ]
    },
    {
     "name": "stdout",
     "output_type": "stream",
     "text": [
      "skipping ne\n",
      "bq --location=US load --autodetect --skip_leading_rows=1 --source_format=CSV school_enrollments.nh gs://cs327e-open-access/stanford-school-enrollment/zf406jp4427_nh.csv\n",
      "\n"
     ]
    },
    {
     "name": "stderr",
     "output_type": "stream",
     "text": [
      "Waiting on bqjob_r2d3314473bb4577e_0000018adc638113_1 ... (1s) Current status: DONE   \n"
     ]
    },
    {
     "name": "stdout",
     "output_type": "stream",
     "text": [
      "bq --location=US load --autodetect --skip_leading_rows=1 --source_format=CSV school_enrollments.nj gs://cs327e-open-access/stanford-school-enrollment/zf406jp4427_nj.csv\n",
      "\n"
     ]
    },
    {
     "name": "stderr",
     "output_type": "stream",
     "text": [
      "Waiting on bqjob_r6d711a3e1eb8058d_0000018adc6390fe_1 ... (1s) Current status: DONE   \n"
     ]
    },
    {
     "name": "stdout",
     "output_type": "stream",
     "text": [
      "BigQuery error in load operation: Error processing job 'apt-\n",
      "subset-397505:bqjob_r6d711a3e1eb8058d_0000018adc6390fe_1': Error while reading\n",
      "data, error message: Could not parse 'N' as INT64 for field\n",
      "ccd_district_high_grade (position 12) starting at location 2800632  with message\n",
      "'Unable to parse' File: gs://cs327e-open-access/stanford-school-\n",
      "enrollment/zf406jp4427_nj.csv\n",
      "Failure details:\n",
      "- Error while reading data, error message: CSV processing encountered\n",
      "too many errors, giving up. Rows: 12208; errors: 1; max bad: 0;\n",
      "error percent: 0\n",
      "bq --location=US load --autodetect --skip_leading_rows=1 --source_format=CSV school_enrollments.nm gs://cs327e-open-access/stanford-school-enrollment/zf406jp4427_nm.csv\n",
      "\n"
     ]
    },
    {
     "name": "stderr",
     "output_type": "stream",
     "text": [
      "Waiting on bqjob_r7d14f8b51652d6e8_0000018adc63a13b_1 ... (2s) Current status: DONE   \n"
     ]
    },
    {
     "name": "stdout",
     "output_type": "stream",
     "text": [
      "bq --location=US load --autodetect --skip_leading_rows=1 --source_format=CSV school_enrollments.nv gs://cs327e-open-access/stanford-school-enrollment/zf406jp4427_nv.csv\n",
      "\n"
     ]
    },
    {
     "name": "stderr",
     "output_type": "stream",
     "text": [
      "Waiting on bqjob_r6539cec7799fcbde_0000018adc63b516_1 ... (2s) Current status: DONE   \n"
     ]
    },
    {
     "name": "stdout",
     "output_type": "stream",
     "text": [
      "skipping ny\n",
      "bq --location=US load --autodetect --skip_leading_rows=1 --source_format=CSV school_enrollments.ok gs://cs327e-open-access/stanford-school-enrollment/zf406jp4427_ok.csv\n",
      "\n"
     ]
    },
    {
     "name": "stderr",
     "output_type": "stream",
     "text": [
      "Waiting on bqjob_r8fd1710185101a4_0000018adc63c8b8_1 ... (3s) Current status: DONE   \n"
     ]
    },
    {
     "name": "stdout",
     "output_type": "stream",
     "text": [
      "skipping or\n",
      "bq --location=US load --autodetect --skip_leading_rows=1 --source_format=CSV school_enrollments.pa gs://cs327e-open-access/stanford-school-enrollment/zf406jp4427_pa.csv\n",
      "\n"
     ]
    },
    {
     "name": "stderr",
     "output_type": "stream",
     "text": [
      "Waiting on bqjob_r7023aacabc113dbb_0000018adc63e129_1 ... (4s) Current status: DONE   \n"
     ]
    },
    {
     "name": "stdout",
     "output_type": "stream",
     "text": [
      "bq --location=US load --autodetect --skip_leading_rows=1 --source_format=CSV school_enrollments.sc gs://cs327e-open-access/stanford-school-enrollment/zf406jp4427_sc.csv\n",
      "\n"
     ]
    },
    {
     "name": "stderr",
     "output_type": "stream",
     "text": [
      "Waiting on bqjob_r5cef8ad4d3245861_0000018adc63fd97_1 ... (2s) Current status: DONE   \n"
     ]
    },
    {
     "name": "stdout",
     "output_type": "stream",
     "text": [
      "skipping school\n",
      "skipping sd\n",
      "bq --location=US load --autodetect --skip_leading_rows=1 --source_format=CSV school_enrollments.tx gs://cs327e-open-access/stanford-school-enrollment/zf406jp4427_tx.csv\n",
      "\n"
     ]
    },
    {
     "name": "stderr",
     "output_type": "stream",
     "text": [
      "Waiting on bqjob_r793f3ce8b94e0a06_0000018adc6412d9_1 ... (3s) Current status: DONE   \n"
     ]
    },
    {
     "name": "stdout",
     "output_type": "stream",
     "text": [
      "bq --location=US load --autodetect --skip_leading_rows=1 --source_format=CSV school_enrollments.ut gs://cs327e-open-access/stanford-school-enrollment/zf406jp4427_ut.csv\n",
      "\n"
     ]
    },
    {
     "name": "stderr",
     "output_type": "stream",
     "text": [
      "Waiting on bqjob_r68d1aff4f82fde66_0000018adc642b6c_1 ... (2s) Current status: DONE   \n"
     ]
    },
    {
     "name": "stdout",
     "output_type": "stream",
     "text": [
      "bq --location=US load --autodetect --skip_leading_rows=1 --source_format=CSV school_enrollments.wa gs://cs327e-open-access/stanford-school-enrollment/zf406jp4427_wa.csv\n",
      "\n"
     ]
    },
    {
     "name": "stderr",
     "output_type": "stream",
     "text": [
      "Waiting on bqjob_r371bc1e80ae4f12a_0000018adc643f0e_1 ... (4s) Current status: DONE   \n"
     ]
    },
    {
     "name": "stdout",
     "output_type": "stream",
     "text": [
      "skipping wi\n",
      "bq --location=US load --autodetect --skip_leading_rows=1 --source_format=CSV school_enrollments.wy gs://cs327e-open-access/stanford-school-enrollment/zf406jp4427_wy.csv\n",
      "\n"
     ]
    },
    {
     "name": "stderr",
     "output_type": "stream",
     "text": [
      "Waiting on bqjob_r5c76ec94a41847e_0000018adc645c12_1 ... (1s) Current status: DONE   \n"
     ]
    }
   ],
   "source": [
    "gsutil_cmd = \"gsutil ls gs://cs327e-open-access/stanford-school-enrollment/*\"\n",
    "file_listings = os.popen(gsutil_cmd)\n",
    "dataset=\"school_enrollments\"\n",
    "\n",
    "for file in file_listings:\n",
    "\n",
    "    start_index = file.rindex(\"_\") + 1\n",
    "    end_index = file.rindex(\".\")\n",
    "    table = file[start_index:end_index]\n",
    "    \n",
    "    if table in (\"co\", \"district\", \"fl\", \"ga\", \"id\", \"ma\", \"mo\", \"ne\", \"ny\", \"or\", \"school\", \"sd\", \"wi\"):\n",
    "        print(\"skipping \" + table)\n",
    "        continue\n",
    "\n",
    "    bq_cmd = \"bq --location=US load --autodetect --skip_leading_rows=1 \"\\\n",
    "             \"--source_format=CSV \" + dataset + \".\" + table + ' ' + file\n",
    "    print(bq_cmd)\n",
    "    \n",
    "    os.system(bq_cmd)"
   ]
  },
  {
   "cell_type": "markdown",
   "metadata": {},
   "source": [
    "#### 3. Find school enrollments by school name, grade level, and year for Texas "
   ]
  },
  {
   "cell_type": "code",
   "execution_count": 5,
   "metadata": {},
   "outputs": [
    {
     "name": "stdout",
     "output_type": "stream",
     "text": [
      "[{\"name\":\"state\",\"type\":\"STRING\",\"mode\":\"NULLABLE\"},{\"name\":\"county\",\"type\":\"STRING\",\"mode\":\"NULLABLE\"},{\"name\":\"county_state_id\",\"type\":\"STRING\",\"mode\":\"NULLABLE\"},{\"name\":\"admin_level\",\"type\":\"STRING\",\"mode\":\"NULLABLE\"},{\"name\":\"district_nces_id\",\"type\":\"INTEGER\",\"mode\":\"NULLABLE\"},{\"name\":\"district_state_id\",\"type\":\"INTEGER\",\"mode\":\"NULLABLE\"},{\"name\":\"district_state_type\",\"type\":\"STRING\",\"mode\":\"NULLABLE\"},{\"name\":\"district\",\"type\":\"STRING\",\"mode\":\"NULLABLE\"},{\"name\":\"ccd_district_type\",\"type\":\"STRING\",\"mode\":\"NULLABLE\"},{\"name\":\"ccd_charter\",\"type\":\"STRING\",\"mode\":\"NULLABLE\"},{\"name\":\"ccd_district_lvl\",\"type\":\"STRING\",\"mode\":\"NULLABLE\"},{\"name\":\"ccd_district_low_grade\",\"type\":\"STRING\",\"mode\":\"NULLABLE\"},{\"name\":\"ccd_district_high_grade\",\"type\":\"STRING\",\"mode\":\"NULLABLE\"},{\"name\":\"school_nces_id\",\"type\":\"INTEGER\",\"mode\":\"NULLABLE\"},{\"name\":\"school_state_id\",\"type\":\"FLOAT\",\"mode\":\"NULLABLE\"},{\"name\":\"school\",\"type\":\"STRING\",\"mode\":\"NULLABLE\"},{\"name\":\"school_state_type\",\"type\":\"STRING\",\"mode\":\"NULLABLE\"},{\"name\":\"ccd_school_type\",\"type\":\"STRING\",\"mode\":\"NULLABLE\"},{\"name\":\"ccd_charter_school\",\"type\":\"BOOLEAN\",\"mode\":\"NULLABLE\"},{\"name\":\"ccd_school_lvl\",\"type\":\"STRING\",\"mode\":\"NULLABLE\"},{\"name\":\"ccd_school_low_grade\",\"type\":\"STRING\",\"mode\":\"NULLABLE\"},{\"name\":\"ccd_school_high_grade\",\"type\":\"STRING\",\"mode\":\"NULLABLE\"},{\"name\":\"year\",\"type\":\"INTEGER\",\"mode\":\"NULLABLE\"},{\"name\":\"term\",\"type\":\"STRING\",\"mode\":\"NULLABLE\"},{\"name\":\"grade\",\"type\":\"STRING\",\"mode\":\"NULLABLE\"},{\"name\":\"white\",\"type\":\"STRING\",\"mode\":\"NULLABLE\"},{\"name\":\"black\",\"type\":\"STRING\",\"mode\":\"NULLABLE\"},{\"name\":\"hispanic\",\"type\":\"STRING\",\"mode\":\"NULLABLE\"},{\"name\":\"native_american\",\"type\":\"STRING\",\"mode\":\"NULLABLE\"},{\"name\":\"native_american_alaskan_native\",\"type\":\"STRING\",\"mode\":\"NULLABLE\"},{\"name\":\"asian\",\"type\":\"STRING\",\"mode\":\"NULLABLE\"},{\"name\":\"native_hawaiian\",\"type\":\"STRING\",\"mode\":\"NULLABLE\"},{\"name\":\"asian_pacific_islander\",\"type\":\"STRING\",\"mode\":\"NULLABLE\"},{\"name\":\"native_hawaiian_pacific_islander\",\"type\":\"STRING\",\"mode\":\"NULLABLE\"},{\"name\":\"pacific_islander\",\"type\":\"STRING\",\"mode\":\"NULLABLE\"},{\"name\":\"multiracial\",\"type\":\"STRING\",\"mode\":\"NULLABLE\"},{\"name\":\"unknown_race\",\"type\":\"STRING\",\"mode\":\"NULLABLE\"},{\"name\":\"male\",\"type\":\"STRING\",\"mode\":\"NULLABLE\"},{\"name\":\"female\",\"type\":\"STRING\",\"mode\":\"NULLABLE\"},{\"name\":\"non_binary\",\"type\":\"STRING\",\"mode\":\"NULLABLE\"},{\"name\":\"unknown_gender\",\"type\":\"STRING\",\"mode\":\"NULLABLE\"},{\"name\":\"ell\",\"type\":\"STRING\",\"mode\":\"NULLABLE\"},{\"name\":\"ell_percent\",\"type\":\"STRING\",\"mode\":\"NULLABLE\"},{\"name\":\"homeless\",\"type\":\"STRING\",\"mode\":\"NULLABLE\"},{\"name\":\"homeless_percent\",\"type\":\"STRING\",\"mode\":\"NULLABLE\"},{\"name\":\"low_income\",\"type\":\"STRING\",\"mode\":\"NULLABLE\"},{\"name\":\"free_and_reduced\",\"type\":\"STRING\",\"mode\":\"NULLABLE\"},{\"name\":\"free_and_reduced_percent\",\"type\":\"STRING\",\"mode\":\"NULLABLE\"},{\"name\":\"disability\",\"type\":\"STRING\",\"mode\":\"NULLABLE\"},{\"name\":\"section_504\",\"type\":\"STRING\",\"mode\":\"NULLABLE\"},{\"name\":\"total\",\"type\":\"STRING\",\"mode\":\"NULLABLE\"}]\n"
     ]
    }
   ],
   "source": [
    "!bq show --schema=true $dataset_id.tx"
   ]
  },
  {
   "cell_type": "markdown",
   "metadata": {},
   "source": [
    "#### Note: STRING type for \"total\" column"
   ]
  },
  {
   "cell_type": "code",
   "execution_count": 6,
   "metadata": {},
   "outputs": [
    {
     "data": {
      "application/vnd.jupyter.widget-view+json": {
       "model_id": "9eb64c180ad4468db794b0c4746a3923",
       "version_major": 2,
       "version_minor": 0
      },
      "text/plain": [
       "Query is running:   0%|          |"
      ]
     },
     "metadata": {},
     "output_type": "display_data"
    },
    {
     "data": {
      "application/vnd.jupyter.widget-view+json": {
       "model_id": "b0d672c976fa4b03ab49a2832afcda07",
       "version_major": 2,
       "version_minor": 0
      },
      "text/plain": [
       "Downloading:   0%|          |"
      ]
     },
     "metadata": {},
     "output_type": "display_data"
    },
    {
     "data": {
      "text/html": [
       "<div>\n",
       "<style scoped>\n",
       "    .dataframe tbody tr th:only-of-type {\n",
       "        vertical-align: middle;\n",
       "    }\n",
       "\n",
       "    .dataframe tbody tr th {\n",
       "        vertical-align: top;\n",
       "    }\n",
       "\n",
       "    .dataframe thead th {\n",
       "        text-align: right;\n",
       "    }\n",
       "</style>\n",
       "<table border=\"1\" class=\"dataframe\">\n",
       "  <thead>\n",
       "    <tr style=\"text-align: right;\">\n",
       "      <th></th>\n",
       "      <th>school</th>\n",
       "      <th>grade</th>\n",
       "      <th>year</th>\n",
       "      <th>total</th>\n",
       "    </tr>\n",
       "  </thead>\n",
       "  <tbody>\n",
       "    <tr>\n",
       "      <th>0</th>\n",
       "      <td>AKINS H S</td>\n",
       "      <td>grade_10</td>\n",
       "      <td>2020</td>\n",
       "      <td>720</td>\n",
       "    </tr>\n",
       "    <tr>\n",
       "      <th>1</th>\n",
       "      <td>AKINS H S</td>\n",
       "      <td>grade_10</td>\n",
       "      <td>2021</td>\n",
       "      <td>747</td>\n",
       "    </tr>\n",
       "    <tr>\n",
       "      <th>2</th>\n",
       "      <td>AKINS H S</td>\n",
       "      <td>grade_11</td>\n",
       "      <td>2020</td>\n",
       "      <td>664</td>\n",
       "    </tr>\n",
       "    <tr>\n",
       "      <th>3</th>\n",
       "      <td>AKINS H S</td>\n",
       "      <td>grade_11</td>\n",
       "      <td>2021</td>\n",
       "      <td>663</td>\n",
       "    </tr>\n",
       "    <tr>\n",
       "      <th>4</th>\n",
       "      <td>AKINS H S</td>\n",
       "      <td>grade_12</td>\n",
       "      <td>2020</td>\n",
       "      <td>609</td>\n",
       "    </tr>\n",
       "    <tr>\n",
       "      <th>...</th>\n",
       "      <td>...</td>\n",
       "      <td>...</td>\n",
       "      <td>...</td>\n",
       "      <td>...</td>\n",
       "    </tr>\n",
       "    <tr>\n",
       "      <th>1734</th>\n",
       "      <td>ZILKER EL</td>\n",
       "      <td>grade_5</td>\n",
       "      <td>2021</td>\n",
       "      <td>69</td>\n",
       "    </tr>\n",
       "    <tr>\n",
       "      <th>1735</th>\n",
       "      <td>ZILKER EL</td>\n",
       "      <td>kindergarten</td>\n",
       "      <td>2020</td>\n",
       "      <td>77</td>\n",
       "    </tr>\n",
       "    <tr>\n",
       "      <th>1736</th>\n",
       "      <td>ZILKER EL</td>\n",
       "      <td>kindergarten</td>\n",
       "      <td>2021</td>\n",
       "      <td>63</td>\n",
       "    </tr>\n",
       "    <tr>\n",
       "      <th>1737</th>\n",
       "      <td>ZILKER EL</td>\n",
       "      <td>pre_kindergarten</td>\n",
       "      <td>2020</td>\n",
       "      <td>30</td>\n",
       "    </tr>\n",
       "    <tr>\n",
       "      <th>1738</th>\n",
       "      <td>ZILKER EL</td>\n",
       "      <td>pre_kindergarten</td>\n",
       "      <td>2021</td>\n",
       "      <td>13</td>\n",
       "    </tr>\n",
       "  </tbody>\n",
       "</table>\n",
       "<p>1739 rows × 4 columns</p>\n",
       "</div>"
      ],
      "text/plain": [
       "         school             grade  year  total\n",
       "0     AKINS H S          grade_10  2020    720\n",
       "1     AKINS H S          grade_10  2021    747\n",
       "2     AKINS H S          grade_11  2020    664\n",
       "3     AKINS H S          grade_11  2021    663\n",
       "4     AKINS H S          grade_12  2020    609\n",
       "...         ...               ...   ...    ...\n",
       "1734  ZILKER EL           grade_5  2021     69\n",
       "1735  ZILKER EL      kindergarten  2020     77\n",
       "1736  ZILKER EL      kindergarten  2021     63\n",
       "1737  ZILKER EL  pre_kindergarten  2020     30\n",
       "1738  ZILKER EL  pre_kindergarten  2021     13\n",
       "\n",
       "[1739 rows x 4 columns]"
      ]
     },
     "execution_count": 6,
     "metadata": {},
     "output_type": "execute_result"
    }
   ],
   "source": [
    "%%bigquery\n",
    "select school, grade, year, sum(cast(replace(replace(total, \",\", \"\"), \"<\", \"\") as int64)) as total\n",
    "from school_enrollments.tx\n",
    "where total != \"\" and school != \"\" and district like '%AUSTIN%'\n",
    "group by school, grade, year\n",
    "order by school, grade, year"
   ]
  },
  {
   "cell_type": "markdown",
   "metadata": {},
   "source": [
    "##### Documentation on BQ's string functions: https://cloud.google.com/bigquery/docs/reference/standard-sql/string_functions"
   ]
  },
  {
   "cell_type": "code",
   "execution_count": 7,
   "metadata": {},
   "outputs": [
    {
     "name": "stdout",
     "output_type": "stream",
     "text": [
      "Dataset 'apt-subset-397505:views' successfully created.\n"
     ]
    }
   ],
   "source": [
    "!bq --location=US mk --dataset \"views\""
   ]
  },
  {
   "cell_type": "code",
   "execution_count": 8,
   "metadata": {},
   "outputs": [
    {
     "data": {
      "application/vnd.jupyter.widget-view+json": {
       "model_id": "b33e931913a146c2b00969754aac58b7",
       "version_major": 2,
       "version_minor": 0
      },
      "text/plain": [
       "Query is running:   0%|          |"
      ]
     },
     "metadata": {},
     "output_type": "display_data"
    },
    {
     "data": {
      "text/html": [
       "<div>\n",
       "<style scoped>\n",
       "    .dataframe tbody tr th:only-of-type {\n",
       "        vertical-align: middle;\n",
       "    }\n",
       "\n",
       "    .dataframe tbody tr th {\n",
       "        vertical-align: top;\n",
       "    }\n",
       "\n",
       "    .dataframe thead th {\n",
       "        text-align: right;\n",
       "    }\n",
       "</style>\n",
       "<table border=\"1\" class=\"dataframe\">\n",
       "  <thead>\n",
       "    <tr style=\"text-align: right;\">\n",
       "      <th></th>\n",
       "    </tr>\n",
       "  </thead>\n",
       "  <tbody>\n",
       "  </tbody>\n",
       "</table>\n",
       "</div>"
      ],
      "text/plain": [
       "Empty DataFrame\n",
       "Columns: []\n",
       "Index: []"
      ]
     },
     "execution_count": 8,
     "metadata": {},
     "output_type": "execute_result"
    }
   ],
   "source": [
    "%%bigquery\n",
    "create view views.austin_enrollments_by_school_grade_year as\n",
    "select school, grade, year, sum(cast(replace(replace(total, \",\", \"\"), \"<\", \"\") as int64)) as total\n",
    "from school_enrollments.tx\n",
    "where total != \"\" and school != \"\" and district like '%AUSTIN%'\n",
    "group by school, grade, year\n",
    "order by school, grade, year"
   ]
  },
  {
   "cell_type": "code",
   "execution_count": 9,
   "metadata": {},
   "outputs": [
    {
     "data": {
      "application/vnd.jupyter.widget-view+json": {
       "model_id": "fa20a846c02f45ad87d862632c580226",
       "version_major": 2,
       "version_minor": 0
      },
      "text/plain": [
       "Query is running:   0%|          |"
      ]
     },
     "metadata": {},
     "output_type": "display_data"
    },
    {
     "data": {
      "application/vnd.jupyter.widget-view+json": {
       "model_id": "1e476ad38bc74abeaede26412761e0ed",
       "version_major": 2,
       "version_minor": 0
      },
      "text/plain": [
       "Downloading:   0%|          |"
      ]
     },
     "metadata": {},
     "output_type": "display_data"
    },
    {
     "data": {
      "text/html": [
       "<div>\n",
       "<style scoped>\n",
       "    .dataframe tbody tr th:only-of-type {\n",
       "        vertical-align: middle;\n",
       "    }\n",
       "\n",
       "    .dataframe tbody tr th {\n",
       "        vertical-align: top;\n",
       "    }\n",
       "\n",
       "    .dataframe thead th {\n",
       "        text-align: right;\n",
       "    }\n",
       "</style>\n",
       "<table border=\"1\" class=\"dataframe\">\n",
       "  <thead>\n",
       "    <tr style=\"text-align: right;\">\n",
       "      <th></th>\n",
       "      <th>school</th>\n",
       "      <th>grade</th>\n",
       "      <th>year</th>\n",
       "      <th>total</th>\n",
       "    </tr>\n",
       "  </thead>\n",
       "  <tbody>\n",
       "    <tr>\n",
       "      <th>0</th>\n",
       "      <td>AKINS H S</td>\n",
       "      <td>grade_10</td>\n",
       "      <td>2020</td>\n",
       "      <td>720</td>\n",
       "    </tr>\n",
       "    <tr>\n",
       "      <th>1</th>\n",
       "      <td>AKINS H S</td>\n",
       "      <td>grade_10</td>\n",
       "      <td>2021</td>\n",
       "      <td>747</td>\n",
       "    </tr>\n",
       "    <tr>\n",
       "      <th>2</th>\n",
       "      <td>AKINS H S</td>\n",
       "      <td>grade_11</td>\n",
       "      <td>2020</td>\n",
       "      <td>664</td>\n",
       "    </tr>\n",
       "    <tr>\n",
       "      <th>3</th>\n",
       "      <td>AKINS H S</td>\n",
       "      <td>grade_11</td>\n",
       "      <td>2021</td>\n",
       "      <td>663</td>\n",
       "    </tr>\n",
       "    <tr>\n",
       "      <th>4</th>\n",
       "      <td>AKINS H S</td>\n",
       "      <td>grade_12</td>\n",
       "      <td>2020</td>\n",
       "      <td>609</td>\n",
       "    </tr>\n",
       "    <tr>\n",
       "      <th>...</th>\n",
       "      <td>...</td>\n",
       "      <td>...</td>\n",
       "      <td>...</td>\n",
       "      <td>...</td>\n",
       "    </tr>\n",
       "    <tr>\n",
       "      <th>1734</th>\n",
       "      <td>ZILKER EL</td>\n",
       "      <td>grade_5</td>\n",
       "      <td>2021</td>\n",
       "      <td>69</td>\n",
       "    </tr>\n",
       "    <tr>\n",
       "      <th>1735</th>\n",
       "      <td>ZILKER EL</td>\n",
       "      <td>kindergarten</td>\n",
       "      <td>2020</td>\n",
       "      <td>77</td>\n",
       "    </tr>\n",
       "    <tr>\n",
       "      <th>1736</th>\n",
       "      <td>ZILKER EL</td>\n",
       "      <td>kindergarten</td>\n",
       "      <td>2021</td>\n",
       "      <td>63</td>\n",
       "    </tr>\n",
       "    <tr>\n",
       "      <th>1737</th>\n",
       "      <td>ZILKER EL</td>\n",
       "      <td>pre_kindergarten</td>\n",
       "      <td>2020</td>\n",
       "      <td>30</td>\n",
       "    </tr>\n",
       "    <tr>\n",
       "      <th>1738</th>\n",
       "      <td>ZILKER EL</td>\n",
       "      <td>pre_kindergarten</td>\n",
       "      <td>2021</td>\n",
       "      <td>13</td>\n",
       "    </tr>\n",
       "  </tbody>\n",
       "</table>\n",
       "<p>1739 rows × 4 columns</p>\n",
       "</div>"
      ],
      "text/plain": [
       "         school             grade  year  total\n",
       "0     AKINS H S          grade_10  2020    720\n",
       "1     AKINS H S          grade_10  2021    747\n",
       "2     AKINS H S          grade_11  2020    664\n",
       "3     AKINS H S          grade_11  2021    663\n",
       "4     AKINS H S          grade_12  2020    609\n",
       "...         ...               ...   ...    ...\n",
       "1734  ZILKER EL           grade_5  2021     69\n",
       "1735  ZILKER EL      kindergarten  2020     77\n",
       "1736  ZILKER EL      kindergarten  2021     63\n",
       "1737  ZILKER EL  pre_kindergarten  2020     30\n",
       "1738  ZILKER EL  pre_kindergarten  2021     13\n",
       "\n",
       "[1739 rows x 4 columns]"
      ]
     },
     "execution_count": 9,
     "metadata": {},
     "output_type": "execute_result"
    }
   ],
   "source": [
    "%%bigquery\n",
    "select * from views.austin_enrollments_by_school_grade_year"
   ]
  },
  {
   "cell_type": "markdown",
   "metadata": {},
   "source": [
    "#### 4. Open Looker Studio and create a chart from this view:\n",
    "##### https://lookerstudio.google.com/"
   ]
  },
  {
   "cell_type": "markdown",
   "metadata": {},
   "source": [
    "#### Project 4 homework marker. Start homework from here. "
   ]
  },
  {
   "cell_type": "markdown",
   "metadata": {},
   "source": [
    "#### 1. Find average number of students in each grade (exclude before first grade) in Austin"
   ]
  },
  {
   "cell_type": "code",
   "execution_count": 52,
   "metadata": {},
   "outputs": [
    {
     "data": {
      "application/vnd.jupyter.widget-view+json": {
       "model_id": "bc7ed3748d894f08870630d4c3d7d009",
       "version_major": 2,
       "version_minor": 0
      },
      "text/plain": [
       "Query is running:   0%|          |"
      ]
     },
     "metadata": {},
     "output_type": "display_data"
    },
    {
     "data": {
      "application/vnd.jupyter.widget-view+json": {
       "model_id": "f42d37950d05437dabd1236534ca1878",
       "version_major": 2,
       "version_minor": 0
      },
      "text/plain": [
       "Downloading:   0%|          |"
      ]
     },
     "metadata": {},
     "output_type": "display_data"
    },
    {
     "data": {
      "text/html": [
       "<div>\n",
       "<style scoped>\n",
       "    .dataframe tbody tr th:only-of-type {\n",
       "        vertical-align: middle;\n",
       "    }\n",
       "\n",
       "    .dataframe tbody tr th {\n",
       "        vertical-align: top;\n",
       "    }\n",
       "\n",
       "    .dataframe thead th {\n",
       "        text-align: right;\n",
       "    }\n",
       "</style>\n",
       "<table border=\"1\" class=\"dataframe\">\n",
       "  <thead>\n",
       "    <tr style=\"text-align: right;\">\n",
       "      <th></th>\n",
       "      <th>grade</th>\n",
       "      <th>average</th>\n",
       "    </tr>\n",
       "  </thead>\n",
       "  <tbody>\n",
       "    <tr>\n",
       "      <th>0</th>\n",
       "      <td>grade_9</td>\n",
       "      <td>226.175439</td>\n",
       "    </tr>\n",
       "    <tr>\n",
       "      <th>1</th>\n",
       "      <td>grade_7</td>\n",
       "      <td>214.035088</td>\n",
       "    </tr>\n",
       "    <tr>\n",
       "      <th>2</th>\n",
       "      <td>grade_10</td>\n",
       "      <td>210.631579</td>\n",
       "    </tr>\n",
       "    <tr>\n",
       "      <th>3</th>\n",
       "      <td>grade_12</td>\n",
       "      <td>208.411765</td>\n",
       "    </tr>\n",
       "    <tr>\n",
       "      <th>4</th>\n",
       "      <td>grade_11</td>\n",
       "      <td>200.037037</td>\n",
       "    </tr>\n",
       "    <tr>\n",
       "      <th>5</th>\n",
       "      <td>grade_8</td>\n",
       "      <td>196.387097</td>\n",
       "    </tr>\n",
       "    <tr>\n",
       "      <th>6</th>\n",
       "      <td>grade_6</td>\n",
       "      <td>192.000000</td>\n",
       "    </tr>\n",
       "    <tr>\n",
       "      <th>7</th>\n",
       "      <td>grade_1</td>\n",
       "      <td>74.365169</td>\n",
       "    </tr>\n",
       "    <tr>\n",
       "      <th>8</th>\n",
       "      <td>grade_2</td>\n",
       "      <td>73.230337</td>\n",
       "    </tr>\n",
       "    <tr>\n",
       "      <th>9</th>\n",
       "      <td>grade_3</td>\n",
       "      <td>72.466292</td>\n",
       "    </tr>\n",
       "    <tr>\n",
       "      <th>10</th>\n",
       "      <td>grade_4</td>\n",
       "      <td>72.293785</td>\n",
       "    </tr>\n",
       "    <tr>\n",
       "      <th>11</th>\n",
       "      <td>grade_5</td>\n",
       "      <td>72.290503</td>\n",
       "    </tr>\n",
       "  </tbody>\n",
       "</table>\n",
       "</div>"
      ],
      "text/plain": [
       "       grade     average\n",
       "0    grade_9  226.175439\n",
       "1    grade_7  214.035088\n",
       "2   grade_10  210.631579\n",
       "3   grade_12  208.411765\n",
       "4   grade_11  200.037037\n",
       "5    grade_8  196.387097\n",
       "6    grade_6  192.000000\n",
       "7    grade_1   74.365169\n",
       "8    grade_2   73.230337\n",
       "9    grade_3   72.466292\n",
       "10   grade_4   72.293785\n",
       "11   grade_5   72.290503"
      ]
     },
     "execution_count": 52,
     "metadata": {},
     "output_type": "execute_result"
    }
   ],
   "source": [
    "%%bigquery\n",
    "SELECT grade, avg(cast(replace(replace(total, \",\", \"\"), \"<\", \"\") as int64)) as average\n",
    "FROM school_enrollments.tx\n",
    "WHERE total != \"\" and school != \"\" and district like '%AUSTIN%'\n",
    "GROUP BY grade\n",
    "HAVING grade like '%grade%'\n",
    "ORDER BY average DESC"
   ]
  },
  {
   "cell_type": "markdown",
   "metadata": {},
   "source": [
    "#### 2. Find the 10 largest independent school districts in Texas by the total number students"
   ]
  },
  {
   "cell_type": "code",
   "execution_count": 5,
   "metadata": {},
   "outputs": [
    {
     "data": {
      "application/vnd.jupyter.widget-view+json": {
       "model_id": "35a0d39eaf204fe2baca95bbe808afde",
       "version_major": 2,
       "version_minor": 0
      },
      "text/plain": [
       "Query is running:   0%|          |"
      ]
     },
     "metadata": {},
     "output_type": "display_data"
    },
    {
     "data": {
      "application/vnd.jupyter.widget-view+json": {
       "model_id": "70b14de688814230804090cef7d561e2",
       "version_major": 2,
       "version_minor": 0
      },
      "text/plain": [
       "Downloading:   0%|          |"
      ]
     },
     "metadata": {},
     "output_type": "display_data"
    },
    {
     "data": {
      "text/html": [
       "<div>\n",
       "<style scoped>\n",
       "    .dataframe tbody tr th:only-of-type {\n",
       "        vertical-align: middle;\n",
       "    }\n",
       "\n",
       "    .dataframe tbody tr th {\n",
       "        vertical-align: top;\n",
       "    }\n",
       "\n",
       "    .dataframe thead th {\n",
       "        text-align: right;\n",
       "    }\n",
       "</style>\n",
       "<table border=\"1\" class=\"dataframe\">\n",
       "  <thead>\n",
       "    <tr style=\"text-align: right;\">\n",
       "      <th></th>\n",
       "      <th>district</th>\n",
       "      <th>total_students</th>\n",
       "    </tr>\n",
       "  </thead>\n",
       "  <tbody>\n",
       "    <tr>\n",
       "      <th>0</th>\n",
       "      <td>HOUSTON ISD</td>\n",
       "      <td>409877</td>\n",
       "    </tr>\n",
       "    <tr>\n",
       "      <th>1</th>\n",
       "      <td>DALLAS ISD</td>\n",
       "      <td>300262</td>\n",
       "    </tr>\n",
       "    <tr>\n",
       "      <th>2</th>\n",
       "      <td>CYPRESS-FAIRBANKS ISD</td>\n",
       "      <td>232880</td>\n",
       "    </tr>\n",
       "    <tr>\n",
       "      <th>3</th>\n",
       "      <td>NORTHSIDE ISD</td>\n",
       "      <td>212379</td>\n",
       "    </tr>\n",
       "    <tr>\n",
       "      <th>4</th>\n",
       "      <td>KATY ISD</td>\n",
       "      <td>167925</td>\n",
       "    </tr>\n",
       "    <tr>\n",
       "      <th>5</th>\n",
       "      <td>FORT WORTH ISD</td>\n",
       "      <td>162013</td>\n",
       "    </tr>\n",
       "    <tr>\n",
       "      <th>6</th>\n",
       "      <td>AUSTIN ISD</td>\n",
       "      <td>157608</td>\n",
       "    </tr>\n",
       "    <tr>\n",
       "      <th>7</th>\n",
       "      <td>FORT BEND ISD</td>\n",
       "      <td>155246</td>\n",
       "    </tr>\n",
       "    <tr>\n",
       "      <th>8</th>\n",
       "      <td>ALDINE ISD</td>\n",
       "      <td>130709</td>\n",
       "    </tr>\n",
       "    <tr>\n",
       "      <th>9</th>\n",
       "      <td>CONROE ISD</td>\n",
       "      <td>130047</td>\n",
       "    </tr>\n",
       "  </tbody>\n",
       "</table>\n",
       "</div>"
      ],
      "text/plain": [
       "                district  total_students\n",
       "0            HOUSTON ISD          409877\n",
       "1             DALLAS ISD          300262\n",
       "2  CYPRESS-FAIRBANKS ISD          232880\n",
       "3          NORTHSIDE ISD          212379\n",
       "4               KATY ISD          167925\n",
       "5         FORT WORTH ISD          162013\n",
       "6             AUSTIN ISD          157608\n",
       "7          FORT BEND ISD          155246\n",
       "8             ALDINE ISD          130709\n",
       "9             CONROE ISD          130047"
      ]
     },
     "execution_count": 5,
     "metadata": {},
     "output_type": "execute_result"
    }
   ],
   "source": [
    "%%bigquery\n",
    "SELECT district, sum(cast(replace(replace(total, \",\", \"\"), \"<\", \"\") as int64)) as total_students \n",
    "FROM school_enrollments.tx\n",
    "WHERE total != \"\" and school != \"\"\n",
    "GROUP BY district\n",
    "HAVING district like '%ISD%'\n",
    "ORDER BY total_students DESC\n",
    "LIMIT 10"
   ]
  },
  {
   "cell_type": "markdown",
   "metadata": {},
   "source": [
    "#### 3. Find the districts in Texas who had more student in 2021 than in 2020"
   ]
  },
  {
   "cell_type": "code",
   "execution_count": 76,
   "metadata": {},
   "outputs": [
    {
     "data": {
      "application/vnd.jupyter.widget-view+json": {
       "model_id": "2acf968893f14788a34d097fcc8566e7",
       "version_major": 2,
       "version_minor": 0
      },
      "text/plain": [
       "Query is running:   0%|          |"
      ]
     },
     "metadata": {},
     "output_type": "display_data"
    },
    {
     "data": {
      "application/vnd.jupyter.widget-view+json": {
       "model_id": "f3056d2686d646a1a5133d13bf7216d6",
       "version_major": 2,
       "version_minor": 0
      },
      "text/plain": [
       "Downloading:   0%|          |"
      ]
     },
     "metadata": {},
     "output_type": "display_data"
    },
    {
     "data": {
      "text/html": [
       "<div>\n",
       "<style scoped>\n",
       "    .dataframe tbody tr th:only-of-type {\n",
       "        vertical-align: middle;\n",
       "    }\n",
       "\n",
       "    .dataframe tbody tr th {\n",
       "        vertical-align: top;\n",
       "    }\n",
       "\n",
       "    .dataframe thead th {\n",
       "        text-align: right;\n",
       "    }\n",
       "</style>\n",
       "<table border=\"1\" class=\"dataframe\">\n",
       "  <thead>\n",
       "    <tr style=\"text-align: right;\">\n",
       "      <th></th>\n",
       "      <th>district</th>\n",
       "      <th>students_gained</th>\n",
       "    </tr>\n",
       "  </thead>\n",
       "  <tbody>\n",
       "    <tr>\n",
       "      <th>0</th>\n",
       "      <td>IDEA PUBLIC SCHOOLS</td>\n",
       "      <td>25356</td>\n",
       "    </tr>\n",
       "    <tr>\n",
       "      <th>1</th>\n",
       "      <td>HALLSVILLE ISD</td>\n",
       "      <td>7610</td>\n",
       "    </tr>\n",
       "    <tr>\n",
       "      <th>2</th>\n",
       "      <td>TEXAS COLLEGE PREPARATORY ACADEMIE</td>\n",
       "      <td>5288</td>\n",
       "    </tr>\n",
       "    <tr>\n",
       "      <th>3</th>\n",
       "      <td>KIPP TEXAS PUBLIC SCHOOLS</td>\n",
       "      <td>5056</td>\n",
       "    </tr>\n",
       "    <tr>\n",
       "      <th>4</th>\n",
       "      <td>PROSPER ISD</td>\n",
       "      <td>4559</td>\n",
       "    </tr>\n",
       "    <tr>\n",
       "      <th>5</th>\n",
       "      <td>GREAT HEARTS TEXAS</td>\n",
       "      <td>3584</td>\n",
       "    </tr>\n",
       "    <tr>\n",
       "      <th>6</th>\n",
       "      <td>HUNTSVILLE ISD</td>\n",
       "      <td>3378</td>\n",
       "    </tr>\n",
       "    <tr>\n",
       "      <th>7</th>\n",
       "      <td>INTERNATIONAL LEADERSHIP OF TEXAS</td>\n",
       "      <td>2988</td>\n",
       "    </tr>\n",
       "    <tr>\n",
       "      <th>8</th>\n",
       "      <td>SCHOOL OF SCIENCE AND TECHNOLOGY D</td>\n",
       "      <td>2924</td>\n",
       "    </tr>\n",
       "    <tr>\n",
       "      <th>9</th>\n",
       "      <td>UPLIFT EDUCATION</td>\n",
       "      <td>2906</td>\n",
       "    </tr>\n",
       "  </tbody>\n",
       "</table>\n",
       "</div>"
      ],
      "text/plain": [
       "                             district  students_gained\n",
       "0                 IDEA PUBLIC SCHOOLS            25356\n",
       "1                      HALLSVILLE ISD             7610\n",
       "2  TEXAS COLLEGE PREPARATORY ACADEMIE             5288\n",
       "3           KIPP TEXAS PUBLIC SCHOOLS             5056\n",
       "4                         PROSPER ISD             4559\n",
       "5                  GREAT HEARTS TEXAS             3584\n",
       "6                      HUNTSVILLE ISD             3378\n",
       "7   INTERNATIONAL LEADERSHIP OF TEXAS             2988\n",
       "8  SCHOOL OF SCIENCE AND TECHNOLOGY D             2924\n",
       "9                    UPLIFT EDUCATION             2906"
      ]
     },
     "execution_count": 76,
     "metadata": {},
     "output_type": "execute_result"
    }
   ],
   "source": [
    "%%bigquery\n",
    "SELECT t1.district, (t2.total_students - t1.total_students) as students_gained\n",
    "FROM (SELECT district, year, sum(cast(replace(replace(total, \",\", \"\"), \"<\", \"\") as int64)) as total_students \n",
    "      FROM school_enrollments.tx \n",
    "      WHERE total != \"\" \n",
    "      GROUP BY district, year) t1\n",
    "JOIN (SELECT district, year, sum(cast(replace(replace(total, \",\", \"\"), \"<\", \"\") as int64)) as total_students \n",
    "      FROM school_enrollments.tx \n",
    "      WHERE total != \"\" \n",
    "      GROUP BY district, year) t2\n",
    "ON t1.district = t2.district\n",
    "WHERE t1.year = 2020 and t2.year = 2021 and t1.total_students < t2.total_students\n",
    "ORDER BY students_gained desc\n",
    "LIMIT 10"
   ]
  },
  {
   "cell_type": "markdown",
   "metadata": {},
   "source": [
    "#### 4. Find classes in Texas within the same district that had the same number of students in 2020"
   ]
  },
  {
   "cell_type": "code",
   "execution_count": 77,
   "metadata": {},
   "outputs": [
    {
     "data": {
      "application/vnd.jupyter.widget-view+json": {
       "model_id": "6bfce9a540b14d928d8eaa399817533a",
       "version_major": 2,
       "version_minor": 0
      },
      "text/plain": [
       "Query is running:   0%|          |"
      ]
     },
     "metadata": {},
     "output_type": "display_data"
    },
    {
     "data": {
      "application/vnd.jupyter.widget-view+json": {
       "model_id": "05a58d1bbc454815be607accabce4978",
       "version_major": 2,
       "version_minor": 0
      },
      "text/plain": [
       "Downloading:   0%|          |"
      ]
     },
     "metadata": {},
     "output_type": "display_data"
    },
    {
     "data": {
      "text/html": [
       "<div>\n",
       "<style scoped>\n",
       "    .dataframe tbody tr th:only-of-type {\n",
       "        vertical-align: middle;\n",
       "    }\n",
       "\n",
       "    .dataframe tbody tr th {\n",
       "        vertical-align: top;\n",
       "    }\n",
       "\n",
       "    .dataframe thead th {\n",
       "        text-align: right;\n",
       "    }\n",
       "</style>\n",
       "<table border=\"1\" class=\"dataframe\">\n",
       "  <thead>\n",
       "    <tr style=\"text-align: right;\">\n",
       "      <th></th>\n",
       "      <th>district</th>\n",
       "      <th>grade</th>\n",
       "      <th>grade_1</th>\n",
       "      <th>total_students</th>\n",
       "    </tr>\n",
       "  </thead>\n",
       "  <tbody>\n",
       "    <tr>\n",
       "      <th>0</th>\n",
       "      <td>SPRING BRANCH ISD</td>\n",
       "      <td>grade_5</td>\n",
       "      <td>grade_8</td>\n",
       "      <td>5186</td>\n",
       "    </tr>\n",
       "    <tr>\n",
       "      <th>1</th>\n",
       "      <td>ALLEN ISD</td>\n",
       "      <td>grade_10</td>\n",
       "      <td>grade_11</td>\n",
       "      <td>3498</td>\n",
       "    </tr>\n",
       "    <tr>\n",
       "      <th>2</th>\n",
       "      <td>LAREDO ISD</td>\n",
       "      <td>grade_2</td>\n",
       "      <td>grade_3</td>\n",
       "      <td>3408</td>\n",
       "    </tr>\n",
       "    <tr>\n",
       "      <th>3</th>\n",
       "      <td>LAREDO ISD</td>\n",
       "      <td>grade_12</td>\n",
       "      <td>grade_6</td>\n",
       "      <td>3077</td>\n",
       "    </tr>\n",
       "    <tr>\n",
       "      <th>4</th>\n",
       "      <td>PROSPER ISD</td>\n",
       "      <td>grade_3</td>\n",
       "      <td>grade_6</td>\n",
       "      <td>2882</td>\n",
       "    </tr>\n",
       "    <tr>\n",
       "      <th>5</th>\n",
       "      <td>TYLER ISD</td>\n",
       "      <td>grade_2</td>\n",
       "      <td>grade_3</td>\n",
       "      <td>2710</td>\n",
       "    </tr>\n",
       "    <tr>\n",
       "      <th>6</th>\n",
       "      <td>HARLINGEN CISD</td>\n",
       "      <td>grade_3</td>\n",
       "      <td>grade_7</td>\n",
       "      <td>2630</td>\n",
       "    </tr>\n",
       "    <tr>\n",
       "      <th>7</th>\n",
       "      <td>ROCKWALL ISD</td>\n",
       "      <td>grade_2</td>\n",
       "      <td>kindergarten</td>\n",
       "      <td>2274</td>\n",
       "    </tr>\n",
       "    <tr>\n",
       "      <th>8</th>\n",
       "      <td>WACO ISD</td>\n",
       "      <td>grade_2</td>\n",
       "      <td>grade_3</td>\n",
       "      <td>2240</td>\n",
       "    </tr>\n",
       "    <tr>\n",
       "      <th>9</th>\n",
       "      <td>WACO ISD</td>\n",
       "      <td>grade_5</td>\n",
       "      <td>grade_6</td>\n",
       "      <td>2170</td>\n",
       "    </tr>\n",
       "  </tbody>\n",
       "</table>\n",
       "</div>"
      ],
      "text/plain": [
       "            district     grade       grade_1  total_students\n",
       "0  SPRING BRANCH ISD   grade_5       grade_8            5186\n",
       "1          ALLEN ISD  grade_10      grade_11            3498\n",
       "2         LAREDO ISD   grade_2       grade_3            3408\n",
       "3         LAREDO ISD  grade_12       grade_6            3077\n",
       "4        PROSPER ISD   grade_3       grade_6            2882\n",
       "5          TYLER ISD   grade_2       grade_3            2710\n",
       "6     HARLINGEN CISD   grade_3       grade_7            2630\n",
       "7       ROCKWALL ISD   grade_2  kindergarten            2274\n",
       "8           WACO ISD   grade_2       grade_3            2240\n",
       "9           WACO ISD   grade_5       grade_6            2170"
      ]
     },
     "execution_count": 77,
     "metadata": {},
     "output_type": "execute_result"
    }
   ],
   "source": [
    "%%bigquery\n",
    "SELECT t1.district, t1.grade, t2.grade, t1.total_students\n",
    "FROM (SELECT district, grade, sum(cast(replace(replace(total, \",\", \"\"), \"<\", \"\") as int64)) as total_students \n",
    "      FROM school_enrollments.tx \n",
    "      WHERE total != \"\" and year = 2020\n",
    "      GROUP BY district, grade) t1\n",
    "JOIN (SELECT district, grade, sum(cast(replace(replace(total, \",\", \"\"), \"<\", \"\") as int64)) as total_students \n",
    "      FROM school_enrollments.tx \n",
    "      WHERE total != \"\" and year = 2020\n",
    "      GROUP BY district, grade) t2\n",
    "ON t1.district = t2.district\n",
    "WHERE t1.grade < t2.grade and t1.total_students = t2.total_students\n",
    "ORDER BY t1.total_students desc\n",
    "LIMIT 10"
   ]
  },
  {
   "cell_type": "markdown",
   "metadata": {},
   "source": [
    "#### 5. Find the school districts in California with the highest male to female ratio "
   ]
  },
  {
   "cell_type": "code",
   "execution_count": 57,
   "metadata": {},
   "outputs": [
    {
     "data": {
      "application/vnd.jupyter.widget-view+json": {
       "model_id": "95db29f5af7e432191af65e4b413facc",
       "version_major": 2,
       "version_minor": 0
      },
      "text/plain": [
       "Query is running:   0%|          |"
      ]
     },
     "metadata": {},
     "output_type": "display_data"
    },
    {
     "data": {
      "application/vnd.jupyter.widget-view+json": {
       "model_id": "d18c722a5ac34f8ab08321c62b7db4e8",
       "version_major": 2,
       "version_minor": 0
      },
      "text/plain": [
       "Downloading:   0%|          |"
      ]
     },
     "metadata": {},
     "output_type": "display_data"
    },
    {
     "data": {
      "text/html": [
       "<div>\n",
       "<style scoped>\n",
       "    .dataframe tbody tr th:only-of-type {\n",
       "        vertical-align: middle;\n",
       "    }\n",
       "\n",
       "    .dataframe tbody tr th {\n",
       "        vertical-align: top;\n",
       "    }\n",
       "\n",
       "    .dataframe thead th {\n",
       "        text-align: right;\n",
       "    }\n",
       "</style>\n",
       "<table border=\"1\" class=\"dataframe\">\n",
       "  <thead>\n",
       "    <tr style=\"text-align: right;\">\n",
       "      <th></th>\n",
       "      <th>district</th>\n",
       "      <th>male_female_ratio</th>\n",
       "    </tr>\n",
       "  </thead>\n",
       "  <tbody>\n",
       "    <tr>\n",
       "      <th>0</th>\n",
       "      <td>California Education Authority (CEA) Headquarters</td>\n",
       "      <td>23.416667</td>\n",
       "    </tr>\n",
       "    <tr>\n",
       "      <th>1</th>\n",
       "      <td>Colusa County Office of Education</td>\n",
       "      <td>4.222222</td>\n",
       "    </tr>\n",
       "    <tr>\n",
       "      <th>2</th>\n",
       "      <td>Plumas County Office of Education</td>\n",
       "      <td>3.818182</td>\n",
       "    </tr>\n",
       "    <tr>\n",
       "      <th>3</th>\n",
       "      <td>Modoc County Office of Education</td>\n",
       "      <td>3.083333</td>\n",
       "    </tr>\n",
       "    <tr>\n",
       "      <th>4</th>\n",
       "      <td>Mendocino County Office of Education</td>\n",
       "      <td>2.910256</td>\n",
       "    </tr>\n",
       "    <tr>\n",
       "      <th>5</th>\n",
       "      <td>San Benito County Office of Education</td>\n",
       "      <td>2.892857</td>\n",
       "    </tr>\n",
       "    <tr>\n",
       "      <th>6</th>\n",
       "      <td>Sutter County Office of Education</td>\n",
       "      <td>2.857143</td>\n",
       "    </tr>\n",
       "    <tr>\n",
       "      <th>7</th>\n",
       "      <td>Seiad Elementary</td>\n",
       "      <td>2.800000</td>\n",
       "    </tr>\n",
       "    <tr>\n",
       "      <th>8</th>\n",
       "      <td>Napa County Office of Education</td>\n",
       "      <td>2.730435</td>\n",
       "    </tr>\n",
       "    <tr>\n",
       "      <th>9</th>\n",
       "      <td>Indian Diggings Elementary</td>\n",
       "      <td>2.600000</td>\n",
       "    </tr>\n",
       "  </tbody>\n",
       "</table>\n",
       "</div>"
      ],
      "text/plain": [
       "                                            district  male_female_ratio\n",
       "0  California Education Authority (CEA) Headquarters          23.416667\n",
       "1                  Colusa County Office of Education           4.222222\n",
       "2                  Plumas County Office of Education           3.818182\n",
       "3                   Modoc County Office of Education           3.083333\n",
       "4               Mendocino County Office of Education           2.910256\n",
       "5              San Benito County Office of Education           2.892857\n",
       "6                  Sutter County Office of Education           2.857143\n",
       "7                                   Seiad Elementary           2.800000\n",
       "8                    Napa County Office of Education           2.730435\n",
       "9                         Indian Diggings Elementary           2.600000"
      ]
     },
     "execution_count": 57,
     "metadata": {},
     "output_type": "execute_result"
    }
   ],
   "source": [
    "%%bigquery\n",
    "SELECT district, (sum(male) / sum(female)) as male_female_ratio\n",
    "FROM school_enrollments.ca\n",
    "GROUP BY district\n",
    "HAVING male_female_ratio > 0\n",
    "ORDER BY male_female_ratio DESC\n",
    "LIMIT 10"
   ]
  },
  {
   "cell_type": "markdown",
   "metadata": {},
   "source": [
    "#### 6. Find the schools in South Carolina that had the highest total student enrollment in 2020 and 2021"
   ]
  },
  {
   "cell_type": "code",
   "execution_count": 73,
   "metadata": {},
   "outputs": [
    {
     "data": {
      "application/vnd.jupyter.widget-view+json": {
       "model_id": "6e03779d5a0f44169a6b73ca7de1c948",
       "version_major": 2,
       "version_minor": 0
      },
      "text/plain": [
       "Query is running:   0%|          |"
      ]
     },
     "metadata": {},
     "output_type": "display_data"
    },
    {
     "data": {
      "application/vnd.jupyter.widget-view+json": {
       "model_id": "08b541c3a3944646b12f17d5789f0b3b",
       "version_major": 2,
       "version_minor": 0
      },
      "text/plain": [
       "Downloading:   0%|          |"
      ]
     },
     "metadata": {},
     "output_type": "display_data"
    },
    {
     "data": {
      "text/html": [
       "<div>\n",
       "<style scoped>\n",
       "    .dataframe tbody tr th:only-of-type {\n",
       "        vertical-align: middle;\n",
       "    }\n",
       "\n",
       "    .dataframe tbody tr th {\n",
       "        vertical-align: top;\n",
       "    }\n",
       "\n",
       "    .dataframe thead th {\n",
       "        text-align: right;\n",
       "    }\n",
       "</style>\n",
       "<table border=\"1\" class=\"dataframe\">\n",
       "  <thead>\n",
       "    <tr style=\"text-align: right;\">\n",
       "      <th></th>\n",
       "      <th>school</th>\n",
       "      <th>year</th>\n",
       "      <th>total_students</th>\n",
       "    </tr>\n",
       "  </thead>\n",
       "  <tbody>\n",
       "    <tr>\n",
       "      <th>0</th>\n",
       "      <td>SC Connections Academy</td>\n",
       "      <td>2021</td>\n",
       "      <td>12596.0</td>\n",
       "    </tr>\n",
       "    <tr>\n",
       "      <th>1</th>\n",
       "      <td>SC Connections Academy</td>\n",
       "      <td>2020</td>\n",
       "      <td>10482.0</td>\n",
       "    </tr>\n",
       "    <tr>\n",
       "      <th>2</th>\n",
       "      <td>South Carolina Virtual Charter</td>\n",
       "      <td>2021</td>\n",
       "      <td>9848.0</td>\n",
       "    </tr>\n",
       "    <tr>\n",
       "      <th>3</th>\n",
       "      <td>Wando High</td>\n",
       "      <td>2020</td>\n",
       "      <td>7796.0</td>\n",
       "    </tr>\n",
       "    <tr>\n",
       "      <th>4</th>\n",
       "      <td>Dorman High</td>\n",
       "      <td>2021</td>\n",
       "      <td>7178.0</td>\n",
       "    </tr>\n",
       "    <tr>\n",
       "      <th>...</th>\n",
       "      <td>...</td>\n",
       "      <td>...</td>\n",
       "      <td>...</td>\n",
       "    </tr>\n",
       "    <tr>\n",
       "      <th>2465</th>\n",
       "      <td>Sara Babb High</td>\n",
       "      <td>2021</td>\n",
       "      <td>16.0</td>\n",
       "    </tr>\n",
       "    <tr>\n",
       "      <th>2466</th>\n",
       "      <td>Broad River</td>\n",
       "      <td>2021</td>\n",
       "      <td>14.0</td>\n",
       "    </tr>\n",
       "    <tr>\n",
       "      <th>2467</th>\n",
       "      <td>Mullins ECC ANNEX</td>\n",
       "      <td>2020</td>\n",
       "      <td>8.0</td>\n",
       "    </tr>\n",
       "    <tr>\n",
       "      <th>2468</th>\n",
       "      <td>Tyger River High</td>\n",
       "      <td>2021</td>\n",
       "      <td>8.0</td>\n",
       "    </tr>\n",
       "    <tr>\n",
       "      <th>2469</th>\n",
       "      <td>Mullins ECC ANNEX</td>\n",
       "      <td>2021</td>\n",
       "      <td>4.0</td>\n",
       "    </tr>\n",
       "  </tbody>\n",
       "</table>\n",
       "<p>2470 rows × 3 columns</p>\n",
       "</div>"
      ],
      "text/plain": [
       "                              school  year  total_students\n",
       "0             SC Connections Academy  2021         12596.0\n",
       "1             SC Connections Academy  2020         10482.0\n",
       "2     South Carolina Virtual Charter  2021          9848.0\n",
       "3                         Wando High  2020          7796.0\n",
       "4                        Dorman High  2021          7178.0\n",
       "...                              ...   ...             ...\n",
       "2465                  Sara Babb High  2021            16.0\n",
       "2466                     Broad River  2021            14.0\n",
       "2467               Mullins ECC ANNEX  2020             8.0\n",
       "2468                Tyger River High  2021             8.0\n",
       "2469               Mullins ECC ANNEX  2021             4.0\n",
       "\n",
       "[2470 rows x 3 columns]"
      ]
     },
     "execution_count": 73,
     "metadata": {},
     "output_type": "execute_result"
    }
   ],
   "source": [
    "%%bigquery\n",
    "SELECT school, year, sum(total) as total_students \n",
    "FROM school_enrollments.sc\n",
    "WHERE school != \"\"\n",
    "GROUP BY year, school\n",
    "HAVING year = 2020 or year = 2021\n",
    "ORDER BY total_students DESC"
   ]
  },
  {
   "cell_type": "markdown",
   "metadata": {},
   "source": [
    "#### 7. Find districts in Wyoming that have a majority of non-white students"
   ]
  },
  {
   "cell_type": "code",
   "execution_count": 82,
   "metadata": {},
   "outputs": [
    {
     "data": {
      "application/vnd.jupyter.widget-view+json": {
       "model_id": "41cac39fbb1548aba128447792453492",
       "version_major": 2,
       "version_minor": 0
      },
      "text/plain": [
       "Query is running:   0%|          |"
      ]
     },
     "metadata": {},
     "output_type": "display_data"
    },
    {
     "data": {
      "application/vnd.jupyter.widget-view+json": {
       "model_id": "9a7a3cac62004139a44eae296d5f2857",
       "version_major": 2,
       "version_minor": 0
      },
      "text/plain": [
       "Downloading:   0%|          |"
      ]
     },
     "metadata": {},
     "output_type": "display_data"
    },
    {
     "data": {
      "text/html": [
       "<div>\n",
       "<style scoped>\n",
       "    .dataframe tbody tr th:only-of-type {\n",
       "        vertical-align: middle;\n",
       "    }\n",
       "\n",
       "    .dataframe tbody tr th {\n",
       "        vertical-align: top;\n",
       "    }\n",
       "\n",
       "    .dataframe thead th {\n",
       "        text-align: right;\n",
       "    }\n",
       "</style>\n",
       "<table border=\"1\" class=\"dataframe\">\n",
       "  <thead>\n",
       "    <tr style=\"text-align: right;\">\n",
       "      <th></th>\n",
       "      <th>district</th>\n",
       "      <th>total_students</th>\n",
       "      <th>white_students</th>\n",
       "      <th>white_ratio</th>\n",
       "    </tr>\n",
       "  </thead>\n",
       "  <tbody>\n",
       "    <tr>\n",
       "      <th>0</th>\n",
       "      <td>Laramie #1</td>\n",
       "      <td>84303.0</td>\n",
       "      <td>39084.0</td>\n",
       "      <td>0.463613</td>\n",
       "    </tr>\n",
       "    <tr>\n",
       "      <th>1</th>\n",
       "      <td>Natrona #1</td>\n",
       "      <td>78252.0</td>\n",
       "      <td>41732.0</td>\n",
       "      <td>0.533303</td>\n",
       "    </tr>\n",
       "    <tr>\n",
       "      <th>2</th>\n",
       "      <td>Campbell #1</td>\n",
       "      <td>52191.0</td>\n",
       "      <td>29040.0</td>\n",
       "      <td>0.556418</td>\n",
       "    </tr>\n",
       "    <tr>\n",
       "      <th>3</th>\n",
       "      <td>Sweetwater #1</td>\n",
       "      <td>31860.0</td>\n",
       "      <td>10642.0</td>\n",
       "      <td>0.334024</td>\n",
       "    </tr>\n",
       "    <tr>\n",
       "      <th>4</th>\n",
       "      <td>Albany #1</td>\n",
       "      <td>23697.0</td>\n",
       "      <td>11578.0</td>\n",
       "      <td>0.488585</td>\n",
       "    </tr>\n",
       "    <tr>\n",
       "      <th>5</th>\n",
       "      <td>Sheridan #2</td>\n",
       "      <td>21294.0</td>\n",
       "      <td>12464.0</td>\n",
       "      <td>0.585329</td>\n",
       "    </tr>\n",
       "    <tr>\n",
       "      <th>6</th>\n",
       "      <td>Lincoln #2</td>\n",
       "      <td>17724.0</td>\n",
       "      <td>10992.0</td>\n",
       "      <td>0.620176</td>\n",
       "    </tr>\n",
       "    <tr>\n",
       "      <th>7</th>\n",
       "      <td>Teton #1</td>\n",
       "      <td>16854.0</td>\n",
       "      <td>5348.0</td>\n",
       "      <td>0.317313</td>\n",
       "    </tr>\n",
       "    <tr>\n",
       "      <th>8</th>\n",
       "      <td>Uinta #1</td>\n",
       "      <td>16227.0</td>\n",
       "      <td>8510.0</td>\n",
       "      <td>0.524435</td>\n",
       "    </tr>\n",
       "    <tr>\n",
       "      <th>9</th>\n",
       "      <td>Sweetwater #2</td>\n",
       "      <td>14709.0</td>\n",
       "      <td>5909.0</td>\n",
       "      <td>0.401727</td>\n",
       "    </tr>\n",
       "  </tbody>\n",
       "</table>\n",
       "</div>"
      ],
      "text/plain": [
       "        district  total_students  white_students  white_ratio\n",
       "0     Laramie #1         84303.0         39084.0     0.463613\n",
       "1     Natrona #1         78252.0         41732.0     0.533303\n",
       "2    Campbell #1         52191.0         29040.0     0.556418\n",
       "3  Sweetwater #1         31860.0         10642.0     0.334024\n",
       "4      Albany #1         23697.0         11578.0     0.488585\n",
       "5    Sheridan #2         21294.0         12464.0     0.585329\n",
       "6     Lincoln #2         17724.0         10992.0     0.620176\n",
       "7       Teton #1         16854.0          5348.0     0.317313\n",
       "8       Uinta #1         16227.0          8510.0     0.524435\n",
       "9  Sweetwater #2         14709.0          5909.0     0.401727"
      ]
     },
     "execution_count": 82,
     "metadata": {},
     "output_type": "execute_result"
    }
   ],
   "source": [
    "%%bigquery\n",
    "SELECT district, sum(total) as total_students , sum(white) as white_students, (sum(white)/sum(total)) as white_ratio\n",
    "FROM school_enrollments.wy\n",
    "GROUP BY district\n",
    "ORDER BY total_students DESC\n",
    "LIMIT 10"
   ]
  },
  {
   "cell_type": "markdown",
   "metadata": {},
   "source": [
    "#### 8. Find the public schools in Texas that have had the largest individual class"
   ]
  },
  {
   "cell_type": "code",
   "execution_count": 81,
   "metadata": {},
   "outputs": [
    {
     "data": {
      "application/vnd.jupyter.widget-view+json": {
       "model_id": "e105c999c61c41f6b1e727f70b9b1a79",
       "version_major": 2,
       "version_minor": 0
      },
      "text/plain": [
       "Query is running:   0%|          |"
      ]
     },
     "metadata": {},
     "output_type": "display_data"
    },
    {
     "data": {
      "application/vnd.jupyter.widget-view+json": {
       "model_id": "746558d0906b40078db6ea09e6003ef8",
       "version_major": 2,
       "version_minor": 0
      },
      "text/plain": [
       "Downloading:   0%|          |"
      ]
     },
     "metadata": {},
     "output_type": "display_data"
    },
    {
     "data": {
      "text/html": [
       "<div>\n",
       "<style scoped>\n",
       "    .dataframe tbody tr th:only-of-type {\n",
       "        vertical-align: middle;\n",
       "    }\n",
       "\n",
       "    .dataframe tbody tr th {\n",
       "        vertical-align: top;\n",
       "    }\n",
       "\n",
       "    .dataframe thead th {\n",
       "        text-align: right;\n",
       "    }\n",
       "</style>\n",
       "<table border=\"1\" class=\"dataframe\">\n",
       "  <thead>\n",
       "    <tr style=\"text-align: right;\">\n",
       "      <th></th>\n",
       "      <th>district</th>\n",
       "      <th>max_students</th>\n",
       "    </tr>\n",
       "  </thead>\n",
       "  <tbody>\n",
       "    <tr>\n",
       "      <th>0</th>\n",
       "      <td>KIPP TEXAS PUBLIC SCHOOLS</td>\n",
       "      <td>293</td>\n",
       "    </tr>\n",
       "    <tr>\n",
       "      <th>1</th>\n",
       "      <td>AUSTIN ACHIEVE PUBLIC SCHOOLS</td>\n",
       "      <td>214</td>\n",
       "    </tr>\n",
       "    <tr>\n",
       "      <th>2</th>\n",
       "      <td>IDEA PUBLIC SCHOOLS</td>\n",
       "      <td>208</td>\n",
       "    </tr>\n",
       "    <tr>\n",
       "      <th>3</th>\n",
       "      <td>YES PREP PUBLIC SCHOOLS INC</td>\n",
       "      <td>183</td>\n",
       "    </tr>\n",
       "    <tr>\n",
       "      <th>4</th>\n",
       "      <td>PROMESA PUBLIC SCHOOLS</td>\n",
       "      <td>128</td>\n",
       "    </tr>\n",
       "    <tr>\n",
       "      <th>5</th>\n",
       "      <td>TEXAS LEADERSHIP PUBLIC SCHOOLS</td>\n",
       "      <td>116</td>\n",
       "    </tr>\n",
       "    <tr>\n",
       "      <th>6</th>\n",
       "      <td>VALOR PUBLIC SCHOOLS</td>\n",
       "      <td>110</td>\n",
       "    </tr>\n",
       "    <tr>\n",
       "      <th>7</th>\n",
       "      <td>HORIZON MONTESSORI PUBLIC SCHOOLS</td>\n",
       "      <td>103</td>\n",
       "    </tr>\n",
       "    <tr>\n",
       "      <th>8</th>\n",
       "      <td>THE VARNETT PUBLIC SCHOOL</td>\n",
       "      <td>80</td>\n",
       "    </tr>\n",
       "    <tr>\n",
       "      <th>9</th>\n",
       "      <td>TRIUMPH PUBLIC HIGH SCHOOLS-LAREDO</td>\n",
       "      <td>73</td>\n",
       "    </tr>\n",
       "  </tbody>\n",
       "</table>\n",
       "</div>"
      ],
      "text/plain": [
       "                             district  max_students\n",
       "0           KIPP TEXAS PUBLIC SCHOOLS           293\n",
       "1       AUSTIN ACHIEVE PUBLIC SCHOOLS           214\n",
       "2                 IDEA PUBLIC SCHOOLS           208\n",
       "3         YES PREP PUBLIC SCHOOLS INC           183\n",
       "4              PROMESA PUBLIC SCHOOLS           128\n",
       "5     TEXAS LEADERSHIP PUBLIC SCHOOLS           116\n",
       "6                VALOR PUBLIC SCHOOLS           110\n",
       "7   HORIZON MONTESSORI PUBLIC SCHOOLS           103\n",
       "8           THE VARNETT PUBLIC SCHOOL            80\n",
       "9  TRIUMPH PUBLIC HIGH SCHOOLS-LAREDO            73"
      ]
     },
     "execution_count": 81,
     "metadata": {},
     "output_type": "execute_result"
    }
   ],
   "source": [
    "%%bigquery\n",
    "SELECT district, max(cast(replace(replace(total, \",\", \"\"), \"<\", \"\") as int64)) as max_students \n",
    "FROM school_enrollments.tx\n",
    "WHERE total != \"\" and school != \"\"\n",
    "GROUP BY district\n",
    "HAVING district like \"%PUBLIC%\"\n",
    "ORDER BY max_students DESC\n",
    "LIMIT 10"
   ]
  },
  {
   "cell_type": "code",
   "execution_count": null,
   "metadata": {},
   "outputs": [],
   "source": []
  }
 ],
 "metadata": {
  "environment": {
   "kernel": "conda-root-py",
   "name": "workbench-notebooks.m110",
   "type": "gcloud",
   "uri": "gcr.io/deeplearning-platform-release/workbench-notebooks:m110"
  },
  "kernelspec": {
   "display_name": "Python 3",
   "language": "python",
   "name": "conda-root-py"
  },
  "language_info": {
   "codemirror_mode": {
    "name": "ipython",
    "version": 3
   },
   "file_extension": ".py",
   "mimetype": "text/x-python",
   "name": "python",
   "nbconvert_exporter": "python",
   "pygments_lexer": "ipython3",
   "version": "3.10.12"
  }
 },
 "nbformat": 4,
 "nbformat_minor": 4
}
