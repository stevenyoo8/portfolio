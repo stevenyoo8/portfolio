{
 "cells": [
  {
   "cell_type": "markdown",
   "id": "305f82fe-f85c-444e-82dd-0fd892a3327e",
   "metadata": {},
   "source": [
    "# Milestone 2"
   ]
  },
  {
   "cell_type": "code",
   "execution_count": 1,
   "id": "d66cf549-8930-438f-a653-dfd04f54bfd7",
   "metadata": {},
   "outputs": [],
   "source": [
    "URL=\"http://10.128.0.4:8080\""
   ]
  },
  {
   "cell_type": "code",
   "execution_count": 2,
   "id": "642e1999-1649-4e95-88e1-5fca6bc52cde",
   "metadata": {},
   "outputs": [
    {
     "name": "stdout",
     "output_type": "stream",
     "text": [
      "\"bigquery\"\n",
      "\"mongo\"\n",
      "\"mysql\"\n",
      "\"postgres\"\n",
      "\"system\"\n",
      "\"tpch\"\n"
     ]
    }
   ],
   "source": [
    "!trino $URL --execute \"show catalogs\""
   ]
  },
  {
   "cell_type": "markdown",
   "id": "333f0a5c-446b-495a-8aca-ee67dffbf44d",
   "metadata": {},
   "source": [
    "### Q1"
   ]
  },
  {
   "cell_type": "code",
   "execution_count": 3,
   "id": "39c4afef-a12b-4bed-a589-e115513e776d",
   "metadata": {},
   "outputs": [
    {
     "name": "stdout",
     "output_type": "stream",
     "text": [
      "\"27\",\"andersonsean@example.net\",\"2\"\n"
     ]
    }
   ],
   "source": [
    "!trino $URL --execute \"\\\n",
    "SELECT s.cust_id, s.email, r_s.count \\\n",
    "FROM mysql.final_project.shopper s \\\n",
    "JOIN postgres.final_project.reservations r \\\n",
    "    ON s.cust_id = r.cust_id \\\n",
    "JOIN bigquery.final_project.currency c \\\n",
    "    ON r.cnt_code = c.cntry_code \\\n",
    "JOIN (\\\n",
    "    SELECT s.cust_id, count(*) as count \\\n",
    "    FROM mysql.final_project.shopper s \\\n",
    "    JOIN postgres.final_project.reservations r \\\n",
    "    ON s.cust_id = r.cust_id \\\n",
    "    GROUP BY s.cust_id, s.email, s.cust_id \\\n",
    ") r_s \\\n",
    "    ON r_s.cust_id = s.cust_id \\\n",
    "WHERE c.curr_code = 'USD' AND r.city != s.city\\\n",
    "ORDER BY s.cust_id \\\n",
    "LIMIT 5\""
   ]
  },
  {
   "cell_type": "markdown",
   "id": "161a4a32-2e2b-426d-8b5f-7cd7fbee3166",
   "metadata": {},
   "source": [
    "### Q2"
   ]
  },
  {
   "cell_type": "code",
   "execution_count": 4,
   "id": "19809589-1be9-42f0-9094-487194254b58",
   "metadata": {},
   "outputs": [
    {
     "name": "stdout",
     "output_type": "stream",
     "text": [
      "\"10\",\"wgarcia@example.com\",\"Wenzhou airport\",\"2023-06-13 00:00:00.000\"\n",
      "\"36\",\"vazquezsarah@example.net\",\"Chou Shui Tzu airport\",\"2023-12-01 00:00:00.000\"\n",
      "\"24\",\"weavermichael@example.com\",\"Trelew Almirante Zar airport\",\"2023-12-05 00:00:00.000\"\n"
     ]
    }
   ],
   "source": [
    "!trino $URL --execute \"\\\n",
    "SELECT\\\n",
    "    s.cust_id,\\\n",
    "    s.email,\\\n",
    "    t.dep_airport,\\\n",
    "    t.dep_date\\\n",
    "FROM\\\n",
    "    mysql.final_project.shopper s\\\n",
    "JOIN\\\n",
    "    mongo.final_project.ticketing t ON s.cust_id = t.cust_id\\\n",
    "WHERE\\\n",
    "    t.airline = 'American Airlines'\\\n",
    "    AND t.stops = 0\\\n",
    "    AND t.dep_date BETWEEN DATE '2020-01-01' AND DATE '2024-12-31'\\\n",
    "ORDER BY\\\n",
    "    t.dep_date\\\n",
    "LIMIT 5\""
   ]
  },
  {
   "cell_type": "markdown",
   "id": "495726d8-8347-4e97-9810-32bb72a5b57d",
   "metadata": {},
   "source": [
    "### Q3"
   ]
  },
  {
   "cell_type": "code",
   "execution_count": 5,
   "id": "435b50fb-4232-454a-95c1-3c8e9dc0e16e",
   "metadata": {},
   "outputs": [
    {
     "name": "stdout",
     "output_type": "stream",
     "text": [
      "\"38\",\"john03@example.com\",\"410.17\",\"4957.39\",\"5367.56\"\n",
      "\"41\",\"jalvarado@example.org\",\"909.66\",\"3897.61\",\"4807.27\"\n",
      "\"1\",\"diane45@example.org\",\"191.72\",\"716.76\",\"908.48\"\n"
     ]
    }
   ],
   "source": [
    "!trino $URL --execute \"\\\n",
    "SELECT\\\n",
    "    s.cust_id,\\\n",
    "    s.email,\\\n",
    "    SUM(r.pmt_amt) AS pmt_amt,\\\n",
    "    SUM(t.tik_amt) AS tik_amt,\\\n",
    "    SUM(r.pmt_amt + t.tik_amt) AS trip_amount\\\n",
    "FROM\\\n",
    "    mysql.final_project.shopper s\\\n",
    "JOIN\\\n",
    "    postgres.final_project.reservations r ON s.cust_id = r.cust_id\\\n",
    "JOIN\\\n",
    "    mongo.final_project.ticketing t ON s.cust_id = t.cust_id \\\n",
    "WHERE\\\n",
    "    r.arr_date = DATE(t.dep_date) \\\n",
    "    OR r.dep_date = DATE(t.arr_date) \\\n",
    "GROUP BY\\\n",
    "    s.cust_id, s.email\\\n",
    "ORDER BY\\\n",
    "    trip_amount DESC\\\n",
    "LIMIT 5\""
   ]
  },
  {
   "cell_type": "markdown",
   "id": "1955c420-65d6-407b-9246-9d086051b64e",
   "metadata": {},
   "source": [
    "## Part 3"
   ]
  },
  {
   "cell_type": "code",
   "execution_count": 6,
   "id": "1d6a0224-2ca2-4045-a1e1-afb036e41f8b",
   "metadata": {},
   "outputs": [],
   "source": [
    "# Unlike postgres, trino does not have the types float or numeric. Instead, trino uses double for float deciaml for numeric. In addition, primary keys do not exist in trino"
   ]
  },
  {
   "cell_type": "code",
   "execution_count": 7,
   "id": "762af977-2266-4820-a0b6-1487095d2bf0",
   "metadata": {},
   "outputs": [
    {
     "name": "stdout",
     "output_type": "stream",
     "text": [
      "DROP TABLE\n",
      "Query 20231207_002401_00005_mzkic failed: line 1:127: Unknown type 'FLOAT' for column 'long'\n",
      "\u001b[36mCREATE TABLE postgres.final_project.test (     id INT NOT NULL,     str1 VARCHAR(50) NOT NULL,     str2 CHAR(5) NOT NULL,     \u001b[31mlong FLOAT NOT NULL,     day DATE NOT NULL,     cost NUMERIC(5,2) NOT NULL,     PRIMARY KEY (id))\n",
      "\u001b[0m\n",
      "CREATE TABLE\n",
      "Query 20231207_002405_00007_mzkic failed: line 1:1: Table 'mongo.final_project.test' already exists\n",
      "\u001b[31mCREATE TABLE mongo.final_project.test (     id INT,     str1 VARCHAR(50),     str2 CHAR(5),     long DOUBLE,     day DATE,     cost DECIMAL(5,2))\n",
      "\u001b[0m\n"
     ]
    }
   ],
   "source": [
    "!trino $URL --execute \"DROP TABLE IF EXISTS postgres.final_project.test\"\n",
    "!trino $URL --execute \"\\\n",
    "    CREATE TABLE postgres.final_project.test (\\\n",
    "    id INT NOT NULL,\\\n",
    "    str1 VARCHAR(50) NOT NULL,\\\n",
    "    str2 CHAR(5) NOT NULL,\\\n",
    "    long FLOAT NOT NULL,\\\n",
    "    day DATE NOT NULL,\\\n",
    "    cost NUMERIC(5,2) NOT NULL,\\\n",
    "    PRIMARY KEY (id))\"\n",
    "\n",
    "!trino $URL --execute \"\\\n",
    "    CREATE TABLE postgres.final_project.test (\\\n",
    "    id INT NOT NULL,\\\n",
    "    str1 VARCHAR(50) NOT NULL,\\\n",
    "    str2 CHAR(5) NOT NULL,\\\n",
    "    long DOUBLE NOT NULL,\\\n",
    "    day DATE NOT NULL,\\\n",
    "    cost DECIMAL(5,2) NOT NULL)\"\n",
    "\n",
    "!trino $URL --execute \"\\\n",
    "    CREATE TABLE mongo.final_project.test (\\\n",
    "    id INT,\\\n",
    "    str1 VARCHAR(50),\\\n",
    "    str2 CHAR(5),\\\n",
    "    long DOUBLE,\\\n",
    "    day DATE,\\\n",
    "    cost DECIMAL(5,2))\""
   ]
  },
  {
   "cell_type": "code",
   "execution_count": 8,
   "id": "1ad6b5f6-336a-471c-8f91-cec3b026c86b",
   "metadata": {},
   "outputs": [],
   "source": [
    "# Correct counts aquired for each database"
   ]
  },
  {
   "cell_type": "code",
   "execution_count": 9,
   "id": "18cec0a2-2bf4-4a87-9a4c-5d49970071a9",
   "metadata": {},
   "outputs": [
    {
     "name": "stdout",
     "output_type": "stream",
     "text": [
      "\"50\"\n",
      "\"100\"\n",
      "\"100\"\n",
      "\"30\"\n"
     ]
    }
   ],
   "source": [
    "!trino $URL --execute \"select count(*) from mysql.final_project.shopper\"\n",
    "!trino $URL --execute \"select count(*) from postgres.final_project.reservations\"\n",
    "!trino $URL --execute \"select count(*) from mongo.final_project.ticketing\"\n",
    "!trino $URL --execute \"select count(*) from bigquery.final_project.currency\""
   ]
  },
  {
   "cell_type": "code",
   "execution_count": 10,
   "id": "92b56ade-6fec-44b4-9ba5-280e91a5bef9",
   "metadata": {},
   "outputs": [],
   "source": [
    "# Inserts were supported in all databases, Updates where only supported in postgres, and deletes worked for postgres and mongo."
   ]
  },
  {
   "cell_type": "code",
   "execution_count": 11,
   "id": "97a20de2-d439-47dd-a801-e90c733177d3",
   "metadata": {},
   "outputs": [
    {
     "name": "stdout",
     "output_type": "stream",
     "text": [
      "Query 20231207_002416_00012_mzkic failed: Duplicate entry 'abc1234' for key 'Instructor.PRIMARY'\n",
      "\n",
      "INSERT: 1 row\n",
      "INSERT: 1 row\n",
      "INSERT: 1 row\n",
      "Query 20231207_002429_00016_mzkic failed: This connector does not support modifying table rows\n",
      "\n",
      "UPDATE: 1 row\n",
      "Query 20231207_002433_00018_mzkic failed: This connector does not support modifying table rows\n",
      "\n",
      "Query 20231207_002434_00019_mzkic failed: This connector does not support modifying table rows\n",
      "\n",
      "Query 20231207_002437_00020_mzkic failed: This connector does not support modifying table rows\n",
      "\n",
      "DELETE: 1 row\n",
      "DELETE: 1 row\n",
      "Query 20231207_002443_00023_mzkic failed: This connector does not support modifying table rows\n",
      "\n"
     ]
    }
   ],
   "source": [
    "# Inserts\n",
    "!trino $URL --execute \"insert into mysql.college.instructor values ('abc1234', 'John Smith', 'Mathematics')\"\n",
    "!trino $URL --execute \"insert into postgres.college.instructor values ('abc1234', 'John Smith', 'Mathematics')\"\n",
    "!trino $URL --execute \"insert into mongo.college.takes values ('abc1234', 'CS1234')\"\n",
    "!trino $URL --execute \"insert into bigquery.college.instructor values ('abc1234', 'John Smith', 'Mathematics')\"\n",
    "\n",
    "# Updates\n",
    "!trino $URL --execute \"update mysql.college.instructor set name = 'Mary Jane' where tid = 'abc1234'\"\n",
    "!trino $URL --execute \"update postgres.college.instructor set name = 'Mary Jane' where tid = 'abc1234'\"\n",
    "!trino $URL --execute \"update mongo.college.takes set cno = 'CS9876' where sid = 'abc1234'\"\n",
    "!trino $URL --execute \"update bigquery.college.instructor set name = 'Mary Jane' where tid = 'abc1234'\"\n",
    "\n",
    "# Deletes\n",
    "!trino $URL --execute \"delete from mysql.college.instructor where tid = 'abc1234'\"\n",
    "!trino $URL --execute \"delete from postgres.college.instructor where tid = 'abc1234'\"\n",
    "!trino $URL --execute \"delete from mongo.college.takes where sid = 'abc1234'\"\n",
    "!trino $URL --execute \"delete from bigquery.college.instructor where tid = 'abc1234'\""
   ]
  },
  {
   "cell_type": "code",
   "execution_count": 12,
   "id": "fab387a2-b26c-4077-9e64-8f6283abb24d",
   "metadata": {},
   "outputs": [],
   "source": [
    "# In trino, transactions are not supported for writes "
   ]
  },
  {
   "cell_type": "code",
   "execution_count": 13,
   "id": "ba62bd61-3059-4da5-ad4f-03143150c4d7",
   "metadata": {},
   "outputs": [
    {
     "name": "stdout",
     "output_type": "stream",
     "text": [
      "START TRANSACTION\n",
      "Query 20231207_002445_00025_mzkic failed: Catalog only supports writes using autocommit: mysql\n",
      "\n",
      "START TRANSACTION\n",
      "Query 20231207_002447_00027_mzkic failed: Catalog only supports writes using autocommit: postgres\n",
      "\n",
      "START TRANSACTION\n",
      "Query 20231207_002449_00029_mzkic failed: Catalog only supports writes using autocommit: mongo\n",
      "\n",
      "START TRANSACTION\n",
      "Query 20231207_002451_00031_mzkic failed: Catalog only supports writes using autocommit: bigquery\n",
      "\n"
     ]
    }
   ],
   "source": [
    "!trino $URL --execute \"start transaction;\\\n",
    "insert into mysql.college.class values ('abd1234     ', 'CS1234', 'Computer Class', 1, '  ');\\\n",
    "commit;\"\n",
    "\n",
    "!trino $URL --execute \"start transaction;\\\n",
    "delete from postgres.college.teaches where cno = 'CS329E';\\\n",
    "commit;\"\n",
    "\n",
    "!trino $URL --execute \"start transaction;\\\n",
    "delete from mongo.college.takes where cno = 'CS329E';\\\n",
    "commit;\"\n",
    "\n",
    "!trino $URL --execute \"start transaction;\\\n",
    "insert into bigquery.college.instructor values ('abc1234', 'John Smith', 'Mathematics');\\\n",
    "commit;\"\n"
   ]
  },
  {
   "cell_type": "code",
   "execution_count": 14,
   "id": "6b79b278-7961-4317-858f-2f8bc237e3fd",
   "metadata": {},
   "outputs": [
    {
     "name": "stdout",
     "output_type": "stream",
     "text": [
      "START TRANSACTION\n",
      "\"50\"\n",
      "COMMIT\n"
     ]
    }
   ],
   "source": [
    "!trino $URL --execute \"start transaction;select count(*) from mysql.final_project.shopper;commit\""
   ]
  },
  {
   "cell_type": "markdown",
   "id": "864df61a-ecdd-445f-8e59-2cde9a81a339",
   "metadata": {},
   "source": [
    "## Trino Evaluation Summary"
   ]
  },
  {
   "cell_type": "markdown",
   "id": "5e898db6-eac8-451d-9bbb-9c088a0c465a",
   "metadata": {},
   "source": [
    "        In order to test DDL, we tried dropping and creating tables. We found that trino does not support primary keys. The CREATE TABLE statement with 'PRIMARY KEY (id)' against Postgres CREATE TABLE postgres.final_project.test resulted in an error. Trino also does not support float or numeric types. Instead, in our create table statement, we had to specify float or numeric types as 'DECIMAL' or 'DOUBLE'. Trino does support drops: running DROP TABLE IF EXISTS postgres.final_project.test successfully resulted in the table being dropped.\n",
    "        In order to test DML, we tried inserts, updates, and deletes. We ran INSERT INTO database.table.column VALUES for each database, and found that trino allows for inserts across all 4 databases. We ran UPDATE database.table.column SET for each database, and found that trino only allows updates for postgres. The other 3 databases resulted in an error: \"This connector does not support modifying table rows\". Lastly, we ran DELETE FROM database.table.column for each database, and found that trino only allows deletes for postgres and mongo. Similar to updates, mysql and bigquery resulted in an error: \"This connector does not support modifying table rows\".\n",
    "        In addition, we also tried running transcations to further test DML. We found that trino does not support for transcations for writes across all 4 databases. We ran START TRANSACTION and COMMIT for inserts/deletes (depending on what trino allows for the database explained above), but always resulted in an error: \"Catalog only supports writes using autocommit\". However, trino does support transactions for SELECT statements. We ran START TRANSACTION; SELECT COUNT(*) FROM mysql.final_project.shopper;COMMIT, and it correctly resulted in a count of 50.\n",
    "        Lastly, we tested SELECT statements by collecting the counts of the final_project table in each database. We found that trino supports SELECT statements across all 4 databases. For example, when we ran SELECT COUNT(*) FROM mysql.final_project.shopper, the query correctly resulted in a count of 50. Similarly, it obtained the counts correctly for the other 3 databases."
   ]
  }
 ],
 "metadata": {
  "environment": {
   "kernel": "conda-root-py",
   "name": "workbench-notebooks.m110",
   "type": "gcloud",
   "uri": "gcr.io/deeplearning-platform-release/workbench-notebooks:m110"
  },
  "kernelspec": {
   "display_name": "Python 3",
   "language": "python",
   "name": "conda-root-py"
  },
  "language_info": {
   "codemirror_mode": {
    "name": "ipython",
    "version": 3
   },
   "file_extension": ".py",
   "mimetype": "text/x-python",
   "name": "python",
   "nbconvert_exporter": "python",
   "pygments_lexer": "ipython3",
   "version": "3.10.12"
  }
 },
 "nbformat": 4,
 "nbformat_minor": 5
}
