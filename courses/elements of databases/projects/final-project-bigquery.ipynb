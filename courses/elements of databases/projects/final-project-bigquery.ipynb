{
 "cells": [
  {
   "cell_type": "markdown",
   "id": "5ca814ad-e975-4453-8d17-3a910253a83c",
   "metadata": {},
   "source": [
    "# Part 4: BigQuery"
   ]
  },
  {
   "cell_type": "code",
   "execution_count": 1,
   "id": "f8c0b574-94ef-4e81-ba3f-d839079aa1e9",
   "metadata": {},
   "outputs": [],
   "source": [
    "PROJECT = \"apt-subset-397505\"\n",
    "DATASET = \"final_project\"\n",
    "REGION = \"us-central1\""
   ]
  },
  {
   "cell_type": "markdown",
   "id": "303c5547-8495-4c1b-b53d-2160f33afb0a",
   "metadata": {},
   "source": [
    "### 1. Create the table"
   ]
  },
  {
   "cell_type": "code",
   "execution_count": 2,
   "id": "5437517d-1f61-4228-ae93-a0b77bcc0554",
   "metadata": {},
   "outputs": [
    {
     "name": "stdout",
     "output_type": "stream",
     "text": [
      "CREATE OR REPLACE TABLE final_project.currency(\n",
      "    curr_code STRING NOT NULL,\n",
      "    curr_name STRING NOT NULL,\n",
      "    cntry_code STRING NOT NULL,\n",
      "    cntry_name STRING NOT NULL,\n",
      ")\n",
      "\n"
     ]
    }
   ],
   "source": [
    "from google.cloud import bigquery\n",
    "\n",
    "client = bigquery.Client(project=PROJECT, location=REGION)\n",
    "\n",
    "ddl = '''CREATE OR REPLACE TABLE final_project.currency(\n",
    "    curr_code STRING NOT NULL,\n",
    "    curr_name STRING NOT NULL,\n",
    "    cntry_code STRING NOT NULL,\n",
    "    cntry_name STRING NOT NULL,\n",
    ")\n",
    "'''\n",
    "\n",
    "print(ddl)\n",
    "\n",
    "try:\n",
    "    query_job = client.query(ddl)\n",
    "    query_job.result()\n",
    "except Exception as e:\n",
    "    print(\"Error occurred while creating table:\", e)"
   ]
  },
  {
   "cell_type": "markdown",
   "id": "0378202e-afa5-4cdb-b0bf-a93619b9efb7",
   "metadata": {},
   "source": [
    "### 2. Insert records into the table"
   ]
  },
  {
   "cell_type": "code",
   "execution_count": 3,
   "id": "979f414e-147f-44af-93d7-f61899cca2c7",
   "metadata": {},
   "outputs": [
    {
     "name": "stdout",
     "output_type": "stream",
     "text": [
      "30 records written into currency table\n"
     ]
    }
   ],
   "source": [
    "from google.cloud import bigquery\n",
    "from faker import Faker\n",
    "\n",
    "client = bigquery.Client(project=PROJECT, location=REGION)\n",
    "fake = Faker()\n",
    "\n",
    "records = []\n",
    "curr_codes = set()\n",
    "country_codes = []\n",
    "for i in range(30):\n",
    "    curr_code, curr_name = fake.unique.currency()\n",
    "    curr_codes.add(curr_code)\n",
    "    cntry_code = fake.country_code()\n",
    "    country_codes.append(cntry_code)\n",
    "    cntry_name = fake.country()\n",
    "     \n",
    "    data = (\n",
    "        curr_code,\n",
    "        curr_name,\n",
    "        cntry_code,\n",
    "        cntry_name\n",
    "    )\n",
    "    records.append(data)\n",
    "\n",
    "    \n",
    "sql = '''INSERT INTO final_project.currency (curr_code, curr_name, cntry_code, cntry_name) VALUES '''\n",
    "\n",
    "for i in range(30):\n",
    "    insert_string = (records[i][0], records[i][1], records[i][2], records[i][3])\n",
    "    if i == 29:\n",
    "        sql += str(insert_string)\n",
    "    else:\n",
    "        sql += str(insert_string) + \", \"\n",
    "\n",
    "try:\n",
    "    query_job = client.query(sql)\n",
    "    query_job.result()\n",
    "    print('30 records written into currency table')\n",
    "except Exception as e:\n",
    "    print(\"Error occurred while writing to table:\", e)"
   ]
  },
  {
   "cell_type": "code",
   "execution_count": 5,
   "id": "59260668-ba72-4be0-b91c-7d63a391d2e6",
   "metadata": {},
   "outputs": [
    {
     "name": "stdout",
     "output_type": "stream",
     "text": [
      "{'ARS', 'AWG', 'SAR', 'IDR', 'RSD', 'HUF', 'EUR', 'GMD', 'NGN', 'YER', 'MGA', 'GNF', 'TOP', 'MRO', 'SOS', 'GEL', 'SYP', 'STD', 'JMD', 'SHP', 'TJS', 'CLP', 'MDL', 'SZL', 'UZS', 'DOP', 'COP', 'IQD', 'TMT', 'KHR'} 30\n"
     ]
    }
   ],
   "source": [
    "print(curr_codes, len(curr_codes))"
   ]
  },
  {
   "cell_type": "code",
   "execution_count": 6,
   "id": "883e2e8b-8037-4251-b494-01a4880a4543",
   "metadata": {},
   "outputs": [
    {
     "name": "stdout",
     "output_type": "stream",
     "text": [
      "['TZ', 'BR', 'MC', 'ER', 'MV', 'GY', 'VU', 'BE', 'LU', 'ME', 'MR', 'VA', 'MY', 'CL', 'GA', 'JO', 'SA', 'LK', 'CV', 'MY', 'CR', 'ME', 'CG', 'HN', 'AG', 'LY', 'BE', 'CD', 'CG', 'PT'] 30\n"
     ]
    }
   ],
   "source": [
    "print(country_codes, len(country_codes))"
   ]
  },
  {
   "cell_type": "code",
   "execution_count": null,
   "id": "107b80e9-a934-4381-a723-efce466eb94f",
   "metadata": {},
   "outputs": [],
   "source": []
  }
 ],
 "metadata": {
  "environment": {
   "kernel": "conda-root-py",
   "name": "workbench-notebooks.m110",
   "type": "gcloud",
   "uri": "gcr.io/deeplearning-platform-release/workbench-notebooks:m110"
  },
  "kernelspec": {
   "display_name": "Python 3",
   "language": "python",
   "name": "conda-root-py"
  },
  "language_info": {
   "codemirror_mode": {
    "name": "ipython",
    "version": 3
   },
   "file_extension": ".py",
   "mimetype": "text/x-python",
   "name": "python",
   "nbconvert_exporter": "python",
   "pygments_lexer": "ipython3",
   "version": "3.10.12"
  }
 },
 "nbformat": 4,
 "nbformat_minor": 5
}
