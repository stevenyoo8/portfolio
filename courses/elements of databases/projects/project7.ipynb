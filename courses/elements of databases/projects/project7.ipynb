{
 "cells": [
  {
   "cell_type": "code",
   "execution_count": 72,
   "id": "64784ac5-c011-4fcb-b44c-0192275522bf",
   "metadata": {},
   "outputs": [
    {
     "name": "stdout",
     "output_type": "stream",
     "text": [
      "env: CYPHER=/usr/bin/cypher-shell\n",
      "env: HOST={uri}\n",
      "env: USER=neo4j\n",
      "env: PW={password}\n"
     ]
    }
   ],
   "source": [
    "%env CYPHER=/usr/bin/cypher-shell\n",
    "%env HOST={uri}\n",
    "%env USER=neo4j\n",
    "%env PW={password}"
   ]
  },
  {
   "cell_type": "code",
   "execution_count": 4,
   "id": "8ab3bf8b-0c5a-4010-a70c-f1696d30fe3e",
   "metadata": {},
   "outputs": [],
   "source": [
    "CONNECT=\"$CYPHER -a $HOST -u $USER -p $PW\""
   ]
  },
  {
   "cell_type": "code",
   "execution_count": 7,
   "id": "74b68813-c020-4c33-8a93-bfb1c776a733",
   "metadata": {},
   "outputs": [],
   "source": [
    "from IPython.core.magic import register_cell_magic\n",
    "import shlex\n",
    "\n",
    "@register_cell_magic('neo')\n",
    "def neo(line, cell):\n",
    "    !{CONNECT} {shlex.quote(cell)}"
   ]
  },
  {
   "cell_type": "markdown",
   "id": "c907ff25-3b3b-4a22-a628-0019e78f10a1",
   "metadata": {},
   "source": [
    "## begin project 7 work"
   ]
  },
  {
   "cell_type": "markdown",
   "id": "7000fc01-fce5-43ed-b106-66cdb0747aef",
   "metadata": {},
   "source": [
    "#### 1) Unique node labels and the number of nodes for each"
   ]
  },
  {
   "cell_type": "code",
   "execution_count": 8,
   "id": "cf7f5fa9-e67f-4b12-8435-34f7da2f9063",
   "metadata": {},
   "outputs": [
    {
     "name": "stdout",
     "output_type": "stream",
     "text": [
      "+---------------------------+\n",
      "| labels(n)      | count(n) |\n",
      "+---------------------------+\n",
      "| [\"Recipe\"]     | 11634    |\n",
      "| [\"Author\"]     | 303      |\n",
      "| [\"Ingredient\"] | 3077     |\n",
      "| [\"DietType\"]   | 12       |\n",
      "| [\"Collection\"] | 1049     |\n",
      "+---------------------------+\n",
      "\n",
      "5 rows\n",
      "ready to start consuming query after 3 ms, results consumed after another 10 ms\n"
     ]
    }
   ],
   "source": [
    "%%neo\n",
    "MATCH (n) RETURN distinct labels(n), count(n)"
   ]
  },
  {
   "cell_type": "markdown",
   "id": "d346447d-83a6-45ac-8742-d014bfdfb42e",
   "metadata": {},
   "source": [
    "#### 2) Unique relationship types and the number of relationships for each"
   ]
  },
  {
   "cell_type": "code",
   "execution_count": 9,
   "id": "3eba9ad7-53d4-47fa-84f1-e09ea9d7a7fa",
   "metadata": {},
   "outputs": [
    {
     "name": "stdout",
     "output_type": "stream",
     "text": [
      "+----------------------------------+\n",
      "| type(r)               | count(r) |\n",
      "+----------------------------------+\n",
      "| \"WROTE\"               | 11634    |\n",
      "| \"COLLECTION\"          | 32240    |\n",
      "| \"CONTAINS_INGREDIENT\" | 106148   |\n",
      "| \"DIET_TYPE\"           | 14858    |\n",
      "+----------------------------------+\n",
      "\n",
      "4 rows\n",
      "ready to start consuming query after 39 ms, results consumed after another 63 ms\n"
     ]
    }
   ],
   "source": [
    "%%neo\n",
    "MATCH () -[r]-> () RETURN distinct type(r), count(r)"
   ]
  },
  {
   "cell_type": "markdown",
   "id": "5c4b2e94-67ee-49c0-8aee-d9fbcab7a959",
   "metadata": {},
   "source": [
    "#### 3) Recipes that contain both chocolate and vanilla"
   ]
  },
  {
   "cell_type": "code",
   "execution_count": 19,
   "id": "41ff7322-95dd-4b9a-8414-08504f38e284",
   "metadata": {},
   "outputs": [
    {
     "name": "stdout",
     "output_type": "stream",
     "text": [
      "+----------------------------------------------------------------------------------------------------------------------------------------------------------+\n",
      "| recipe                            | description                                                                                                          |\n",
      "+----------------------------------------------------------------------------------------------------------------------------------------------------------+\n",
      "| \"Microwave chocolate cake\"        | \"Edwina Hanslo's delicious and super quick chocolate cake with a creamy ganache is the perfect choice for busy mums\" |\n",
      "| \"White chocolate crÃ¨me brÃ»lÃ©e\" | \"Serve this super-creamy chocolate dessert on its own, or as part of an 'assiete' of mini chocolate puddings\"        |\n",
      "| \"Pears with chocolate sauce\"      | \"A good recipe for chocolate sauce is invaluable. Put everything out on the table and let everyone help themselves\"  |\n",
      "| \"Pears with speedy choc sauce\"    | \"This super-quick pud is a crowd-pleaser - and is easily dressed up for grown-ups with a splash of Disaronno\"        |\n",
      "| \"Baileys banana trifles\"          | \"A quick and impressive make-ahead dessert with Baileys for grown-ups, or use extra toffee sauce for kids\"           |\n",
      "| \"Birthday bug cake\"               | \"Children will love the butterfly and ladybird decorations on this colourful cake – and you'll love its simplicity\"  |\n",
      "+----------------------------------------------------------------------------------------------------------------------------------------------------------+\n",
      "\n",
      "6 rows\n",
      "ready to start consuming query after 88 ms, results consumed after another 38 ms\n"
     ]
    }
   ],
   "source": [
    "%%neo\n",
    "Match (r:Recipe) -[]-> (i:Ingredient), \n",
    "(r) -[]-> (i2:Ingredient) \n",
    "where i.name = 'chocolate' and \n",
    "i2.name = 'vanilla' \n",
    "RETURN r.name as recipe, r.description as description"
   ]
  },
  {
   "cell_type": "markdown",
   "id": "7cafd729-6d3d-4df1-bf7e-6597e733e671",
   "metadata": {},
   "source": [
    "#### 4) Good Food recipes sorted by cooking time in descending order"
   ]
  },
  {
   "cell_type": "code",
   "execution_count": 11,
   "id": "dc77acda-4140-4d6a-8308-9217f0497ad5",
   "metadata": {},
   "outputs": [
    {
     "name": "stdout",
     "output_type": "stream",
     "text": [
      "+------------------------------------------------------------------------------------------------------------+\n",
      "| author      | recipe                                                                         | cookingTime |\n",
      "+------------------------------------------------------------------------------------------------------------+\n",
      "| \"Good Food\" | \"Pork & peach kebabs with Little Gem salad\"                                    | 36720       |\n",
      "| \"Good Food\" | \"Texas barbecue brisket\"                                                       | 21600       |\n",
      "| \"Good Food\" | \"Spiced duck & date tagine\"                                                    | 19200       |\n",
      "| \"Good Food\" | \"Lamb kleftiko\"                                                                | 19200       |\n",
      "| \"Good Food\" | \"Beef strips with crunchy Thai salad\"                                          | 18360       |\n",
      "| \"Good Food\" | \"Roast turkey with sage & onion butter and Marsala gravy\"                      | 17100       |\n",
      "| \"Good Food\" | \"Four & thirty braised lamb\"                                                   | 16200       |\n",
      "| \"Good Food\" | \"Honey & mustard ham hock pie with flaky cheese pastry\"                        | 15000       |\n",
      "| \"Good Food\" | \"Crispy duck & baked apples\"                                                   | 14400       |\n",
      "| \"Good Food\" | \"Orange & tarragon roast turkey\"                                               | 14400       |\n",
      "| \"Good Food\" | \"Roast turkey with pecan, sausage & chestnut stuffing & roast shallots\"        | 14100       |\n",
      "| \"Good Food\" | \"Scandinavian roast turkey with prune & juniper stuffing & caramelised apples\" | 14100       |\n",
      "| \"Good Food\" | \"Pot-roast pork goulash with potatoes & greens\"                                | 13500       |\n",
      "| \"Good Food\" | \"Sticky date & raisin pudding\"                                                 | 13500       |\n",
      "| \"Good Food\" | \"Two-part pheasant\"                                                            | 13500       |\n",
      "| \"Good Food\" | \"Mum's Christmas pudding\"                                                      | 12600       |\n",
      "| \"Good Food\" | \"Ham hock & mustard terrine\"                                                   | 12600       |\n",
      "| \"Good Food\" | \"Apricot & ginger ham\"                                                         | 12600       |\n",
      "| \"Good Food\" | \"Bourbon-glazed pork belly chunks\"                                             | 12600       |\n",
      "| \"Good Food\" | \"Beef with red wine & carrots\"                                                 | 12600       |\n",
      "+------------------------------------------------------------------------------------------------------------+\n",
      "\n",
      "20 rows\n",
      "ready to start consuming query after 81 ms, results consumed after another 24 ms\n"
     ]
    }
   ],
   "source": [
    "%%neo\n",
    "MATCH (a:Author) -[]-> (r:Recipe) \n",
    "WHERE a.name = 'Good Food' \n",
    "RETURN a.name as author, r.name as recipe, r.cookingTime as cookingTime \n",
    "ORDER BY r.cookingTime DESC \n",
    "LIMIT 20"
   ]
  },
  {
   "cell_type": "markdown",
   "id": "3c5e936d-baa9-4137-956d-2e9decaf8ea8",
   "metadata": {},
   "source": [
    "#### 5) Challenging dishes that have no preparation time"
   ]
  },
  {
   "cell_type": "code",
   "execution_count": 12,
   "id": "fe0abb30-bcd9-4df2-ad9b-9d2f319e144a",
   "metadata": {},
   "outputs": [
    {
     "name": "stdout",
     "output_type": "stream",
     "text": [
      "+--------------------------------------------------------------------------------------------------------------------------------------------------------------------------------------------------------------------------------------------------------------------------------------------+\n",
      "| recipe                                       | description                                                                                                                                                                                                                                 |\n",
      "+--------------------------------------------------------------------------------------------------------------------------------------------------------------------------------------------------------------------------------------------------------------------------------------------+\n",
      "| \"Damson jelly\"                               | \"A delicious way to deal with a glut of damsons - perfect on toast or fresh bread and a great accompaniment to roast meats\"                                                                                                                 |\n",
      "| \"Souffle pancakes Arnold Bennett\"            | \"Gordon Ramsay celebrates Pancake Day in his own inimitable style â€“ with some very posh pancakes\"                                                                                                                                         |\n",
      "| \"Croquembouche\"                              | \"For an alternative wedding cake, try croquembouche\"                                                                                                                                                                                        |\n",
      "| \"Berry almond tartlets with white chocolate\" | \"A luscious combination of flavours make heavenly tartlets\"                                                                                                                                                                                 |\n",
      "| \"Christmas wreath cake\"                      | \"Turn one fruitcake into two with these festive ideas - this one is a decorative holly ring with fondant icing (find the second recipe in 'goes well with')\"                                                                                |\n",
      "| \"Modern-day chicken Kiev\"                    | \"Reduce the calorie count - and guilt factor - of the classic Kiev with this shallow-fried version\"                                                                                                                                         |\n",
      "| \"Shallot tatins with goat's cheese\"          | \"Gordon Ramsay's sophisticated starter is fabulously buttery and crisp - serve before his Stir fry of duck\"                                                                                                                                 |\n",
      "| \"Gooey chocolate cake\"                       | \"Gordon Ramsay serves up a rich and sumptuous, but not heavy, chocolate cake. See how to make it step by step.\"                                                                                                                             |\n",
      "| \"Beef Wellington \"                           | \"Update a celebration dinner centrepiece using prosciutto instead of pancakes to encase beef and porcini mushroom stuffing\"                                                                                                                 |\n",
      "| \"Raspberry, lemon & frangipane tart\"         | \"The most stunning summer dessert ever; raspberry, lemon and frangipane tart\"                                                                                                                                                               |\n",
      "| \"Oeufs en meurette\"                          | \"Poached eggs in a red wine sauce - you can make most of this dish ahead, then assemble before serving\"                                                                                                                                     |\n",
      "| \"Fudgy chocolate & orange gateau\"            | \"This sensational striped sponge requires careful assembly and lots of preparation to perfect the decoration, so set aside a good chunk of time in the kitchen. We've got a Guide to help you every step of the way, see the Tip box below\" |\n",
      "| \"Pane di tre sorelle\"                        | \"Make a loaf of real Italian country bread - it's made with three grains, hence the title\"                                                                                                                                                  |\n",
      "| \"Coconut tuiles\"                             | \"An elegant finishing touch for your dinner party dessert, from Gordon Ramsay\"                                                                                                                                                              |\n",
      "| \"Passion fruit & raspberry eclairs\"          | \"Eclairs get an exotic makeover - irresistibly moreish\"                                                                                                                                                                                     |\n",
      "| \"Basic hollandaise\"                          | \"This sauce, from Gordon Ramsay, takes some time to prepare, but think of it as a workout with a whisk\"                                                                                                                                     |\n",
      "+--------------------------------------------------------------------------------------------------------------------------------------------------------------------------------------------------------------------------------------------------------------------------------------------+\n",
      "\n",
      "16 rows\n",
      "ready to start consuming query after 60 ms, results consumed after another 14 ms\n"
     ]
    }
   ],
   "source": [
    "%%neo\n",
    "MATCH () -[]-> (r:Recipe)\n",
    "WHERE r.preparationTime = 0 and\n",
    "r.skillLevel = 'A challenge'\n",
    "RETURN r.name as recipe, r.description as description\n",
    "LIMIT 100"
   ]
  },
  {
   "cell_type": "markdown",
   "id": "978359d9-4206-4c37-86f6-898979810169",
   "metadata": {},
   "source": [
    "#### 6) Easy vegetarian or vegan recipes that take longer to prepare than cook sorted alphabetically"
   ]
  },
  {
   "cell_type": "code",
   "execution_count": 14,
   "id": "edac245f-85d3-42d0-9e01-77a90d01977c",
   "metadata": {},
   "outputs": [
    {
     "name": "stdout",
     "output_type": "stream",
     "text": [
      "+-------------------------------------------------------------------------------------------+\n",
      "| recipe                                     | preparationTime | cookingTime | diet         |\n",
      "+-------------------------------------------------------------------------------------------+\n",
      "| \" Camomile tea with honey \"                | 300             | 0           | \"Vegetarian\" |\n",
      "| \" Pastry snakes\"                           | 1620            | 840         | \"Vegetarian\" |\n",
      "| \" Quick banana ice cream sandwiches\"       | 900             | 720         | \"Vegetarian\" |\n",
      "| \" Red onion with peanut butter & chilli\"   | 300             | 0           | \"Vegan\"      |\n",
      "| \"10-minute couscous salad\"                 | 600             | 0           | \"Vegetarian\" |\n",
      "| \"10-minute mincemeat\"                      | 600             | 0           | \"Vegetarian\" |\n",
      "| \"5-a-day burger\"                           | 3600            | 900         | \"Vegetarian\" |\n",
      "| \"5-minute mocha pots\"                      | 300             | 120         | \"Vegetarian\" |\n",
      "| \"Alfajores\"                                | 2700            | 1200        | \"Vegetarian\" |\n",
      "| \"Almond crÃªpes with avocado & nectarines\" | 600             | 300         | \"Vegetarian\" |\n",
      "| \"Almond nut butter\"                        | 600             | 0           | \"Vegetarian\" |\n",
      "| \"Almond, cashew & honey butter\"            | 900             | 600         | \"Vegetarian\" |\n",
      "| \"Almond, raisin & popcorn trail mix\"       | 300             | 180         | \"Vegan\"      |\n",
      "| \"Almond, raisin & popcorn trail mix\"       | 300             | 180         | \"Vegetarian\" |\n",
      "| \"Amaretti affogato\"                        | 300             | 0           | \"Vegetarian\" |\n",
      "| \"Americano\"                                | 300             | 0           | \"Vegan\"      |\n",
      "| \"Anytime sweetcorn & tomato nachos\"        | 600             | 300         | \"Vegetarian\" |\n",
      "| \"Aperol spritz\"                            | 300             | 0           | \"Vegetarian\" |\n",
      "| \"Apple & clementine Bircher\"               | 600             | 0           | \"Vegetarian\" |\n",
      "| \"Apple & radish remoulade\"                 | 1800            | 0           | \"Vegetarian\" |\n",
      "+-------------------------------------------------------------------------------------------+\n",
      "\n",
      "20 rows\n",
      "ready to start consuming query after 100 ms, results consumed after another 17 ms\n"
     ]
    }
   ],
   "source": [
    "%%neo\n",
    "MATCH (r:Recipe) -[]-> (d:DietType)\n",
    "WHERE d.name in ['Vegetarian', 'Vegan'] and\n",
    "r.preparationTime > r.cookingTime and r.skillLevel = 'Easy'\n",
    "RETURN r.name as recipe, r.preparationTime as preparationTime, r.cookingTime as cookingTime,d.name as diet\n",
    "ORDER BY r.name\n",
    "LIMIT 20"
   ]
  },
  {
   "cell_type": "markdown",
   "id": "2ffae8ba-07e2-47a3-b0a6-31dfc27a960b",
   "metadata": {},
   "source": [
    "#### 7) Gordon Ramsay's vegetarian recipes that do not contain olive oil"
   ]
  },
  {
   "cell_type": "code",
   "execution_count": 15,
   "id": "7e1a408c-6416-400e-95e4-7efa184bf5cf",
   "metadata": {},
   "outputs": [
    {
     "name": "stdout",
     "output_type": "stream",
     "text": [
      "+-----------------------------------------------------------------------------------+\n",
      "| author          | recipe                                           | diet         |\n",
      "+-----------------------------------------------------------------------------------+\n",
      "| \"Gordon Ramsay\" | \"Cherry tomatoes\"                                | \"Vegetarian\" |\n",
      "| \"Gordon Ramsay\" | \"Beets, leeks & onions\"                          | \"Vegetarian\" |\n",
      "| \"Gordon Ramsay\" | \"Pear & saffron compote\"                         | \"Vegetarian\" |\n",
      "| \"Gordon Ramsay\" | \"Aubergine timbales with goat's cheese\"          | \"Vegetarian\" |\n",
      "| \"Gordon Ramsay\" | \"Risotto of spring vegetables\"                   | \"Vegetarian\" |\n",
      "| \"Gordon Ramsay\" | \"Hot chocolate soufflÃ© \"                        | \"Vegetarian\" |\n",
      "| \"Gordon Ramsay\" | \"Balsamic beetroot with Roquefort\"               | \"Vegetarian\" |\n",
      "| \"Gordon Ramsay\" | \"Stuffed courgette rolls\"                        | \"Vegetarian\" |\n",
      "| \"Gordon Ramsay\" | \"Lemon tart with summer berries\"                 | \"Vegetarian\" |\n",
      "| \"Gordon Ramsay\" | \"Individual summer puddings\"                     | \"Vegetarian\" |\n",
      "| \"Gordon Ramsay\" | \"Slow-cooked tomatoes\"                           | \"Vegetarian\" |\n",
      "| \"Gordon Ramsay\" | \"Cos, asparagus & red onion salad\"               | \"Vegetarian\" |\n",
      "| \"Gordon Ramsay\" | \"Spicy roots\"                                    | \"Vegetarian\" |\n",
      "| \"Gordon Ramsay\" | \"Cappuccino of white beans\"                      | \"Vegetarian\" |\n",
      "| \"Gordon Ramsay\" | \"Crushed new potatoes\"                           | \"Vegetarian\" |\n",
      "| \"Gordon Ramsay\" | \"Simple green beans \"                            | \"Vegetarian\" |\n",
      "| \"Gordon Ramsay\" | \"Warm artichoke & asparagus summer salad\"        | \"Vegetarian\" |\n",
      "| \"Gordon Ramsay\" | \"Cucumber pappardelle\"                           | \"Vegetarian\" |\n",
      "| \"Gordon Ramsay\" | \"Quick braised lettuce & peas\"                   | \"Vegetarian\" |\n",
      "| \"Gordon Ramsay\" | \"Honeyed carrot salad\"                           | \"Vegetarian\" |\n",
      "| \"Gordon Ramsay\" | \"Roasted lettuce\"                                | \"Vegetarian\" |\n",
      "| \"Gordon Ramsay\" | \"Mango basil mousse with passion fruit \"         | \"Vegetarian\" |\n",
      "| \"Gordon Ramsay\" | \"Courgettes & chicory with black olive dressing\" | \"Vegetarian\" |\n",
      "| \"Gordon Ramsay\" | \"Crunchy root & apple 'slaw\"                     | \"Vegetarian\" |\n",
      "| \"Gordon Ramsay\" | \"Strawberry & rosewater mousse\"                  | \"Vegetarian\" |\n",
      "| \"Gordon Ramsay\" | \"Chunky oven chips\"                              | \"Vegetarian\" |\n",
      "| \"Gordon Ramsay\" | \"Chocolate & pistachio mousses\"                  | \"Vegetarian\" |\n",
      "| \"Gordon Ramsay\" | \"Matchstick chips\"                               | \"Vegetarian\" |\n",
      "| \"Gordon Ramsay\" | \"Chinese-style wintery rolls\"                    | \"Vegetarian\" |\n",
      "| \"Gordon Ramsay\" | \"Parmesan wafers\"                                | \"Vegetarian\" |\n",
      "| \"Gordon Ramsay\" | \"Chocolate marquise\"                             | \"Vegetarian\" |\n",
      "| \"Gordon Ramsay\" | \"Calvados-glazed apples\"                         | \"Vegetarian\" |\n",
      "+-----------------------------------------------------------------------------------+\n",
      "\n",
      "32 rows\n",
      "ready to start consuming query after 133 ms, results consumed after another 21 ms\n"
     ]
    }
   ],
   "source": [
    "%%neo\n",
    "MATCH (a:Author) -[]-> (r:Recipe),\n",
    "(r) -[]-> (i:Ingredient),\n",
    "(r) -[]-> (d:DietType)\n",
    "WHERE a.name = 'Gordon Ramsay' and\n",
    "i.name <> 'olive oil' and\n",
    "d.name = 'Vegetarian'\n",
    "RETURN distinct a.name as author, r.name as recipe, d.name as diet"
   ]
  },
  {
   "cell_type": "markdown",
   "id": "d85040ff-449b-480f-adfb-1b391bd0274c",
   "metadata": {},
   "source": [
    "#### 8) List of Aphrodisiac recipes"
   ]
  },
  {
   "cell_type": "code",
   "execution_count": 16,
   "id": "ada99d46-20bd-4284-9745-1775bc431e4f",
   "metadata": {},
   "outputs": [
    {
     "name": "stdout",
     "output_type": "stream",
     "text": [
      "+--------------------------------------------------------------------------------------------------------------------------------------------------------------------------------------------------------------------------------------------------------+\n",
      "| recipe                                                 | description                                                                                                                                                         | id(r_c) | collection    |\n",
      "+--------------------------------------------------------------------------------------------------------------------------------------------------------------------------------------------------------------------------------------------------------+\n",
      "| \"Rib-eye steak with basil hollandaise\"                 | \"Gordon takes steak and chips to a new level with a sharing slab of prime rib-eye that's just right for sharing. The perfect Valentine's treat for any steak lover\" | 13610   | \"Aphrodisiac\" |\n",
      "| \"Merlot-poached pears with vanilla & cinnamon\"         | \"Whole poached pears make an elegant dinner party dessert, with a red wine sauce and fragrant cinnamon and vanilla\"                                                 | 29161   | \"Aphrodisiac\" |\n",
      "| \"Steak & sticky red wine shallots\"                     | \"People will think you've been cooking for hours with this rich and meaty dish, ready in under 30 minutes\"                                                          | 16728   | \"Aphrodisiac\" |\n",
      "| \"Zesty strawberries with Cointreau\"                    | \"Make the most of the fresh taste of British strawberries with this simple recipe. In season from the end of May\"                                                   | 12593   | \"Aphrodisiac\" |\n",
      "| \"Chicken with saffron, raisins & pine nuts\"            | \"This full-flavoured Spanish dish is great for the family or entertaining friends midweek\"                                                                          | 38220   | \"Aphrodisiac\" |\n",
      "| \"One-pan salmon with roast asparagus\"                  | \"For an easy side dish to complement a spring roast, just cook this recipe without the salmon\"                                                                      | 38770   | \"Aphrodisiac\" |\n",
      "| \"Chilli chicken one-pot\"                               | \"A prepare-ahead one pot that will please all ages and is easily made for a crowd, just reheat and add some garlic bread and a salad\"                               | 35443   | \"Aphrodisiac\" |\n",
      "| \"RosÃ© syllabub & sugared strawberries\"                | \"A stunning but simple dish, the classic syllabub is made special here with rosÃ© wine and zesty lime\"                                                              | 19404   | \"Aphrodisiac\" |\n",
      "| \"Chocolate fondant\"                                    | \"A gooey prepare-ahead dessert that's perfect for entertaining - it's all a matter of timing...\"                                                                    | 36602   | \"Aphrodisiac\" |\n",
      "| \"Warm lobster & potato salad with truffled mayonnaise\" | \"Treat your guests to a decadent restaurant-style main course for a third of the price\"                                                                             | 15592   | \"Aphrodisiac\" |\n",
      "| \"Lobster with Thermidor butter\"                        | \"A luxury that has been prized by chefs for years, so make the most of it with this cheat's classic\"                                                                | 28035   | \"Aphrodisiac\" |\n",
      "| \"Mocha fondant puddings\"                               | \"With their molten, oozing centres, these puddings are guaranteed to impress.\"                                                                                      | 24235   | \"Aphrodisiac\" |\n",
      "| \"Bacon-wrapped monkfish\"                               | \"Choose dry-cured, thinly sliced bacon for this dish - the crisp texture works well with the firm, meaty monkfish\"                                                  | 23771   | \"Aphrodisiac\" |\n",
      "| \"Chocolate sorbet\"                                     | \"Choose really dark chocolate and cocoa for this unusual low-fat sorbet\"                                                                                            | 23468   | \"Aphrodisiac\" |\n",
      "| \"Steak in red wine sauce\"                              | \"A versatile sauce great on lots of meat dishes, and perfect for steak - a comforting main for a dinner party. \"                                                    | 17395   | \"Aphrodisiac\" |\n",
      "| \"Rich nutmeg ice cream\"                                | \"This rich ice cream is the perfect way to complement your Christmas pudding\"                                                                                       | 21570   | \"Aphrodisiac\" |\n",
      "| \"One-pan tikka salmon with jewelled rice\"              | \"Marinate salmon with yogurt and curry paste, then cook with brown rice in one pan to steam the fish until tender and flaky\"                                        | 22654   | \"Aphrodisiac\" |\n",
      "+--------------------------------------------------------------------------------------------------------------------------------------------------------------------------------------------------------------------------------------------------------+\n",
      "\n",
      "17 rows\n",
      "ready to start consuming query after 61 ms, results consumed after another 2 ms\n"
     ]
    }
   ],
   "source": [
    "%%neo\n",
    "MATCH (r:Recipe)-[r_c:COLLECTION]->(c:Collection)\n",
    "WHERE c.name = 'Aphrodisiac'\n",
    "RETURN r.name as recipe, r.description as description, id(r_c), c.name as collection"
   ]
  },
  {
   "cell_type": "markdown",
   "id": "3be3027c-05be-410e-b731-d8e3f66e95b0",
   "metadata": {},
   "source": [
    "#### 9) Recipes not written by Good Food or BBC Good Food Team"
   ]
  },
  {
   "cell_type": "code",
   "execution_count": 27,
   "id": "3f2668ba-8156-4ca9-9f8c-145af6bee7d3",
   "metadata": {},
   "outputs": [
    {
     "name": "stdout",
     "output_type": "stream",
     "text": [
      "+------------------------------------------------------------------------+\n",
      "| author        | recipe                                                 |\n",
      "+------------------------------------------------------------------------+\n",
      "| \"Tony Tobin\"  | \"Pork & parsnip cobbler\"                               |\n",
      "| \"Tony Tobin\"  | \"Ratatouille with goat's cheese & herby crumble\"       |\n",
      "| \"Tony Tobin\"  | \"Beetroot, bean & feta salad\"                          |\n",
      "| \"Tony Tobin\"  | \"Warm chicken salad with garlic mushrooms\"             |\n",
      "| \"Tony Tobin\"  | \"Cranberry sauce with port & star anise\"               |\n",
      "| \"Tony Tobin\"  | \"Red pepper, mozzarella & spinach melts\"               |\n",
      "| \"Tony Tobin\"  | \"Salad of smoked haddock with chorizo and poached egg\" |\n",
      "| \"Tony Tobin\"  | \"Daube of beef with spiced beetroot\"                   |\n",
      "| \"Tony Tobin\"  | \"Cheese & fruit sticks\"                                |\n",
      "| \"Tony Tobin\"  | \"French bread sauce\"                                   |\n",
      "| \"Tony Tobin\"  | \"ProvenÃ§al tart\"                                      |\n",
      "| \"Tony Tobin\"  | \"Fruit pots\"                                           |\n",
      "| \"Tony Tobin\"  | \"Ten-minute pasta\"                                     |\n",
      "| \"Tony Tobin\"  | \"Tomato & mozzarella couscous salad\"                   |\n",
      "| \"Jane Hornby\" | \"Pasta with mozzarella, mint & fresh tomato sauce\"     |\n",
      "| \"Jane Hornby\" | \"Honey-mustard chicken pasta\"                          |\n",
      "| \"Jane Hornby\" | \"Dark & squidgy chocolate torte\"                       |\n",
      "| \"Jane Hornby\" | \"Hazelnut latte cake\"                                  |\n",
      "| \"Jane Hornby\" | \"Lime & chilli pitta crisps\"                           |\n",
      "| \"Jane Hornby\" | \"Sticky chilli roast chicken with rice salad\"          |\n",
      "| \"Jane Hornby\" | \"Buttery shallot bread sauce\"                          |\n",
      "| \"Jane Hornby\" | \"Butternut Dauphinoise\"                                |\n",
      "| \"Jane Hornby\" | \"Shaved pear, cheese & bresaola salad\"                 |\n",
      "| \"Jane Hornby\" | \"Spiced black bean & chicken soup with kale\"           |\n",
      "| \"Jane Hornby\" | \"Cottage chilli hotpot\"                                |\n",
      "+------------------------------------------------------------------------+\n",
      "\n",
      "25 rows\n",
      "ready to start consuming query after 48 ms, results consumed after another 1 ms\n"
     ]
    }
   ],
   "source": [
    "%%neo\n",
    "MATCH (a:Author)-[:WROTE]->(r:Recipe)\n",
    "WHERE NOT a.name in ['Good Food', 'BBC Good Food Team']\n",
    "RETURN distinct a.name as author, r.name as recipe\n",
    "LIMIT 25"
   ]
  },
  {
   "cell_type": "markdown",
   "id": "854a37dd-14e4-495f-a054-90ac3872f567",
   "metadata": {},
   "source": [
    "#### 10) Healthy recipes in the healthy fish collection written by Good Food"
   ]
  },
  {
   "cell_type": "code",
   "execution_count": 39,
   "id": "0a37e4f3-c408-4878-b93e-de6d28d843ff",
   "metadata": {},
   "outputs": [
    {
     "name": "stdout",
     "output_type": "stream",
     "text": [
      "+---------------------------------------------------------------------------------------------------------------------------------------------------------------------------------------------------+\n",
      "| recipe_name                             | description                                                                                                                                             |\n",
      "+---------------------------------------------------------------------------------------------------------------------------------------------------------------------------------------------------+\n",
      "| \"Fish parcels with romesco sauce & veg\" | \"Romesco sauce is made from peppers, almonds, chilli and garlic. Team with white fish and a cauliflower and spring onion mix\"                           |\n",
      "| \"Classic chunky fish cakes\"             | \"Fish cakes are a great freezer staple as they are ready portioned so you can defrost as many as you need\"                                              |\n",
      "| \"Baked salmon with fennel & tomatoes\"   | \"Aniseedy fennel and juicy cherry tomatoes cut through the richness of salmon fillets\"                                                                  |\n",
      "| \"Whole stuffed roast fish with fennel\"  | \"This roast fish dish was inspired by Sicily, where the aromatic spices and dried fruit of Arabian cuisine meet with the fresh fish and veg of the Med\" |\n",
      "| \"Crispy fish & chips with mushy peas\"   | \"Make this take-away classic in your kitchen, healthier than your local chippy and just as tasty \"                                                      |\n",
      "+---------------------------------------------------------------------------------------------------------------------------------------------------------------------------------------------------+\n",
      "\n",
      "5 rows\n",
      "ready to start consuming query after 94 ms, results consumed after another 11 ms\n"
     ]
    }
   ],
   "source": [
    "%%neo\n",
    "MATCH (r:Recipe)-[:DIET_TYPE]->(d:DietType),\n",
    "(r)-[:COLLECTION]->(c:Collection),\n",
    "(a:Author)-[:WROTE]->(r)\n",
    "WHERE d.name = 'Healthy' and\n",
    "c.name = 'Healthy fish' and\n",
    "a.name = 'Good Food'\n",
    "RETURN r.name as recipe_name, r.description as description"
   ]
  },
  {
   "cell_type": "markdown",
   "id": "008c482c-9ea9-4a4a-9a42-07b8c86a9681",
   "metadata": {},
   "source": [
    "## begin extra credit work"
   ]
  },
  {
   "cell_type": "markdown",
   "id": "e3b0c21e-cb57-4a97-8ec2-00f9e1a29a75",
   "metadata": {},
   "source": [
    "#### 1) Create a new node for each existing node label with at least one property"
   ]
  },
  {
   "cell_type": "code",
   "execution_count": 40,
   "id": "cc766682-1ed6-43b2-8c6f-d2b0dc66df5a",
   "metadata": {},
   "outputs": [
    {
     "name": "stdout",
     "output_type": "stream",
     "text": [
      "0 rows\n",
      "ready to start consuming query after 68 ms, results consumed after another 0 ms\n",
      "Added 5 nodes, Set 10 properties, Added 5 labels\n"
     ]
    }
   ],
   "source": [
    "%%neo\n",
    "CREATE (:Author {name: \"Steven Yoo\"}), \n",
    "(:Collection {name: \"Pasta\"}),\n",
    "(:DietType {name: \"Carb\"}),\n",
    "(:Ingredient {name: \"Tomato\"}),\n",
    "(:Recipe {preparationTime: 300, name: \"Spicy Rigatoni Pasta\", description: \"A spicy, creamy, rigatoni pasta made with tomato sauce\", id: \"123456\", skillLevel: \"Easy\", cookingTime: 900})"
   ]
  },
  {
   "cell_type": "markdown",
   "id": "a56a7706-d8d7-43bb-94f9-60afed43e4cd",
   "metadata": {},
   "source": [
    "#### 2) Create a relationship for each existing relationship type with at least one property"
   ]
  },
  {
   "cell_type": "code",
   "execution_count": 42,
   "id": "a4316852-b034-44cb-a2f7-3243b881984a",
   "metadata": {},
   "outputs": [
    {
     "name": "stdout",
     "output_type": "stream",
     "text": [
      "0 rows\n",
      "ready to start consuming query after 90 ms, results consumed after another 0 ms\n",
      "Created 2 relationships\n"
     ]
    }
   ],
   "source": [
    "%%neo\n",
    "MATCH (r:Recipe {name: \"Spicy Rigatoni Pasta\"})\n",
    "MATCH (c:Collection {name: \"Pasta\"})\n",
    "CREATE (r)-[:COLLECTION]->(c)"
   ]
  },
  {
   "cell_type": "code",
   "execution_count": 43,
   "id": "67bf72a0-c893-4e0b-bd23-4e2a6cb39297",
   "metadata": {},
   "outputs": [
    {
     "name": "stdout",
     "output_type": "stream",
     "text": [
      "0 rows\n",
      "ready to start consuming query after 60 ms, results consumed after another 0 ms\n",
      "Created 1 relationships\n"
     ]
    }
   ],
   "source": [
    "%%neo\n",
    "MATCH (r:Recipe {name: \"Spicy Rigatoni Pasta\"})\n",
    "MATCH (i:Ingredient {name: \"Tomato\"})\n",
    "CREATE (r)-[:CONTAINS_INGREDIENT]->(i)"
   ]
  },
  {
   "cell_type": "code",
   "execution_count": 44,
   "id": "7f5825c5-0d07-4ed2-910f-e1c484f661f1",
   "metadata": {},
   "outputs": [
    {
     "name": "stdout",
     "output_type": "stream",
     "text": [
      "0 rows\n",
      "ready to start consuming query after 57 ms, results consumed after another 0 ms\n",
      "Created 1 relationships\n"
     ]
    }
   ],
   "source": [
    "%%neo\n",
    "MATCH (r:Recipe {name: \"Spicy Rigatoni Pasta\"})\n",
    "MATCH (d:DietType {name: \"Carb\"})\n",
    "CREATE (r)-[:DIET_TYPE]->(d)"
   ]
  },
  {
   "cell_type": "code",
   "execution_count": 45,
   "id": "350c0b2a-7bd8-45b1-9d28-e6ca96e1d04a",
   "metadata": {},
   "outputs": [
    {
     "name": "stdout",
     "output_type": "stream",
     "text": [
      "0 rows\n",
      "ready to start consuming query after 59 ms, results consumed after another 0 ms\n",
      "Created 1 relationships\n"
     ]
    }
   ],
   "source": [
    "%%neo\n",
    "MATCH (a:Author {name: \"Steven Yoo\"})\n",
    "MATCH (r:Recipe {name: \"Spicy Rigatoni Pasta\"})\n",
    "CREATE (a)-[:WROTE]->(r)"
   ]
  },
  {
   "cell_type": "markdown",
   "id": "c184119c-a586-41b7-ae53-dcf431787099",
   "metadata": {},
   "source": [
    "#### 3) Update the properties of one or more nodes"
   ]
  },
  {
   "cell_type": "code",
   "execution_count": 46,
   "id": "ea5b4963-e4f5-4b34-8c05-ea95262ba1cc",
   "metadata": {},
   "outputs": [
    {
     "name": "stdout",
     "output_type": "stream",
     "text": [
      "0 rows\n",
      "ready to start consuming query after 37 ms, results consumed after another 0 ms\n",
      "Set 1 properties\n"
     ]
    }
   ],
   "source": [
    "%%neo\n",
    "MATCH (d:DietType {name: \"Carb\"})\n",
    "SET d.name = \"Carbs\""
   ]
  },
  {
   "cell_type": "markdown",
   "id": "1a8aa89f-de35-43a7-afa0-27944598dc2e",
   "metadata": {},
   "source": [
    "#### 4) Update the properties of one or more relationships"
   ]
  },
  {
   "cell_type": "code",
   "execution_count": 47,
   "id": "f65f1df6-c76b-42bb-ad03-707eda8b43f4",
   "metadata": {},
   "outputs": [
    {
     "name": "stdout",
     "output_type": "stream",
     "text": [
      "0 rows\n",
      "ready to start consuming query after 182 ms, results consumed after another 0 ms\n",
      "Set 1 properties\n"
     ]
    }
   ],
   "source": [
    "%%neo\n",
    "MATCH (a:Author {name: \"Steven Yoo\"})\n",
    "MATCH (r:Recipe {name: \"Spicy Rigatoni Pasta\"})\n",
    "MERGE (a)-[w:WROTE]->(r)\n",
    "on MATCH SET w.date = \"11/02/2023\""
   ]
  },
  {
   "cell_type": "markdown",
   "id": "956eac38-32cf-46b0-b006-89fba852f7ee",
   "metadata": {},
   "source": [
    "#### 5) Add a new node label to an existing node"
   ]
  },
  {
   "cell_type": "code",
   "execution_count": 56,
   "id": "a714cf5d-c7b5-4b6a-bbcd-9a835142f32d",
   "metadata": {},
   "outputs": [
    {
     "name": "stdout",
     "output_type": "stream",
     "text": [
      "0 rows\n",
      "ready to start consuming query after 45 ms, results consumed after another 0 ms\n",
      "Added 1 labels\n"
     ]
    }
   ],
   "source": [
    "%%neo\n",
    "MATCH (d:DietType {name: \"Carbs\"})\n",
    "SET d:Macro"
   ]
  },
  {
   "cell_type": "markdown",
   "id": "80f3cf20-3350-4e52-8980-a1341cc29035",
   "metadata": {},
   "source": [
    "#### 6) Update the relationship type of at least one relationship"
   ]
  },
  {
   "cell_type": "code",
   "execution_count": 53,
   "id": "78586c5a-ca5d-4044-88bf-1ab35640a5f5",
   "metadata": {},
   "outputs": [
    {
     "name": "stdout",
     "output_type": "stream",
     "text": [
      "0 rows\n",
      "ready to start consuming query after 92 ms, results consumed after another 0 ms\n",
      "Created 1 relationships, Deleted 1 relationships\n"
     ]
    }
   ],
   "source": [
    "%%neo\n",
    "MATCH (n:Author {name: \"Steven Yoo\"})-[rel:WROTE]->(p:Recipe {name: \"Spicy Rigatoni Pasta\"})\n",
    "MERGE (n)-[:CREATED]->(p)\n",
    "DELETE rel"
   ]
  },
  {
   "cell_type": "markdown",
   "id": "cf5b8431-7103-4bb5-af73-87908688df41",
   "metadata": {},
   "source": [
    "#### 7) Delete at least one relationship based on some criteria (Remove recipes that contain muscovado sugar from the Healthy DietType)"
   ]
  },
  {
   "cell_type": "code",
   "execution_count": 63,
   "id": "5ef74fa7-8c9b-4ad9-bf42-98588c522311",
   "metadata": {},
   "outputs": [
    {
     "name": "stdout",
     "output_type": "stream",
     "text": [
      "0 rows\n",
      "ready to start consuming query after 108 ms, results consumed after another 0 ms\n",
      "Deleted 8 relationships\n"
     ]
    }
   ],
   "source": [
    "%%neo\n",
    "MATCH (r:Recipe)-[]->(i:Ingredient), \n",
    "(r)-[r_d]->(d:DietType) \n",
    "WHERE i.name = 'muscovado sugar' and d.name = 'Healthy' \n",
    "DELETE r_d"
   ]
  },
  {
   "cell_type": "markdown",
   "id": "58e60ef5-4b0f-4687-a05a-0cbbc67ff479",
   "metadata": {},
   "source": [
    "#### 8) Delete at least one node based on some criteria (Delete Steven Yoo and his recipes)"
   ]
  },
  {
   "cell_type": "code",
   "execution_count": 64,
   "id": "a7ad25f5-57ce-4f8c-9769-3bbb398c8bc1",
   "metadata": {},
   "outputs": [
    {
     "name": "stdout",
     "output_type": "stream",
     "text": [
      "0 rows\n",
      "ready to start consuming query after 90 ms, results consumed after another 0 ms\n",
      "Deleted 2 nodes, Deleted 5 relationships\n"
     ]
    }
   ],
   "source": [
    "%%neo\n",
    "MATCH (a:Author)-[a_r:CREATED]->(r:Recipe), \n",
    "(r)-[r_n]->() \n",
    "WHERE a.name = 'Steven Yoo' \n",
    "DELETE r_n, a_r, r, a"
   ]
  },
  {
   "cell_type": "markdown",
   "id": "a5fcd640-31d5-45b9-921e-8f30aaa57d0a",
   "metadata": {},
   "source": [
    "#### 9) Create a unique constraint on a node property"
   ]
  },
  {
   "cell_type": "code",
   "execution_count": 71,
   "id": "e823361d-015b-4753-8384-e7f760205366",
   "metadata": {},
   "outputs": [
    {
     "name": "stdout",
     "output_type": "stream",
     "text": [
      "0 rows\n",
      "ready to start consuming query after 49 ms, results consumed after another 0 ms\n",
      "Added 1 constraints\n"
     ]
    }
   ],
   "source": [
    "%%neo\n",
    "CREATE CONSTRAINT unique_constraint_node_prop\n",
    "FOR (r:Recipe) \n",
    "REQUIRE r.date IS UNIQUE"
   ]
  },
  {
   "cell_type": "markdown",
   "id": "4c4eec56-a0bb-4875-8e2f-5331f0f2194c",
   "metadata": {},
   "source": [
    "#### 10) Create a unique constraint on a relationship property"
   ]
  },
  {
   "cell_type": "code",
   "execution_count": 70,
   "id": "e144fcc9-e2e4-4080-8e05-ed614c5dbb99",
   "metadata": {},
   "outputs": [
    {
     "name": "stdout",
     "output_type": "stream",
     "text": [
      "0 rows\n",
      "ready to start consuming query after 52 ms, results consumed after another 0 ms\n",
      "Added 1 constraints\n"
     ]
    }
   ],
   "source": [
    "%%neo \n",
    "CREATE CONSTRAINT unique_constraint_relationship_prop \n",
    "FOR () -[w:CREATED]- () \n",
    "REQUIRE w.id IS UNIQUE"
   ]
  }
 ],
 "metadata": {
  "environment": {
   "kernel": "conda-root-py",
   "name": "workbench-notebooks.m110",
   "type": "gcloud",
   "uri": "gcr.io/deeplearning-platform-release/workbench-notebooks:m110"
  },
  "kernelspec": {
   "display_name": "Python 3",
   "language": "python",
   "name": "conda-root-py"
  },
  "language_info": {
   "codemirror_mode": {
    "name": "ipython",
    "version": 3
   },
   "file_extension": ".py",
   "mimetype": "text/x-python",
   "name": "python",
   "nbconvert_exporter": "python",
   "pygments_lexer": "ipython3",
   "version": "3.10.12"
  }
 },
 "nbformat": 4,
 "nbformat_minor": 5
}
