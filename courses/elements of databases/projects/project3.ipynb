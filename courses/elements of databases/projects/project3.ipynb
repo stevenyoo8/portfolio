{
 "cells": [
  {
   "cell_type": "markdown",
   "metadata": {},
   "source": [
    "### 1) Set environment variables:"
   ]
  },
  {
   "cell_type": "code",
   "execution_count": 65,
   "metadata": {},
   "outputs": [
    {
     "name": "stdout",
     "output_type": "stream",
     "text": [
      "env: PGINSTANCE=postgres\n"
     ]
    }
   ],
   "source": [
    "%env PGINSTANCE=postgres"
   ]
  },
  {
   "cell_type": "code",
   "execution_count": 66,
   "metadata": {},
   "outputs": [
    {
     "name": "stdout",
     "output_type": "stream",
     "text": [
      "env: PGDATABASE=postgres\n"
     ]
    }
   ],
   "source": [
    "%env PGDATABASE=postgres"
   ]
  },
  {
   "cell_type": "code",
   "execution_count": 69,
   "metadata": {},
   "outputs": [
    {
     "name": "stdout",
     "output_type": "stream",
     "text": [
      "env: PGHOST=10.77.240.11\n"
     ]
    }
   ],
   "source": [
    "%env PGHOST=10.77.240.11"
   ]
  },
  {
   "cell_type": "code",
   "execution_count": 70,
   "metadata": {},
   "outputs": [
    {
     "name": "stdout",
     "output_type": "stream",
     "text": [
      "env: PGPORT=5432\n"
     ]
    }
   ],
   "source": [
    "%env PGPORT=5432"
   ]
  },
  {
   "cell_type": "code",
   "execution_count": 71,
   "metadata": {},
   "outputs": [
    {
     "name": "stdout",
     "output_type": "stream",
     "text": [
      "env: PGUSER=postgres\n"
     ]
    }
   ],
   "source": [
    "%env PGUSER=postgres"
   ]
  },
  {
   "cell_type": "code",
   "execution_count": 4,
   "metadata": {},
   "outputs": [
    {
     "name": "stdout",
     "output_type": "stream",
     "text": [
      "env: BASE_DIR=/home/jupyter/snippets\n"
     ]
    }
   ],
   "source": [
    "%env BASE_DIR=/home/jupyter/snippets"
   ]
  },
  {
   "cell_type": "markdown",
   "metadata": {},
   "source": [
    "### 2) Download Shopify data and code:"
   ]
  },
  {
   "cell_type": "code",
   "execution_count": 3,
   "metadata": {},
   "outputs": [
    {
     "name": "stdout",
     "output_type": "stream",
     "text": [
      "Copying gs://cs327e-open-access/postgres_shopify.zip...\n",
      "/ [1 files][  3.2 MiB/  3.2 MiB]                                                \n",
      "Operation completed over 1 objects/3.2 MiB.                                      \n"
     ]
    }
   ],
   "source": [
    "!gsutil cp gs://cs327e-open-access/postgres_shopify.zip $BASE_DIR"
   ]
  },
  {
   "cell_type": "code",
   "execution_count": 4,
   "metadata": {},
   "outputs": [
    {
     "name": "stdout",
     "output_type": "stream",
     "text": [
      "Archive:  /home/jupyter/snippets/postgres_shopify.zip\n",
      "  inflating: postgres_shopify/apps.csv  \n",
      "  inflating: postgres_shopify/apps_categories.csv  \n",
      "  inflating: postgres_shopify/categories.csv  \n",
      "  inflating: postgres_shopify/create_postgres_tables.sql  \n",
      "  inflating: postgres_shopify/delete_tx.sql  \n",
      "  inflating: postgres_shopify/insert_tx.sql  \n",
      "  inflating: postgres_shopify/key_benefits.csv  \n",
      "  inflating: postgres_shopify/pricing_plan_features.csv  \n",
      "  inflating: postgres_shopify/pricing_plans.csv  \n",
      "  inflating: postgres_shopify/reviews.csv  \n",
      "  inflating: postgres_shopify/update_tx.sql  \n"
     ]
    }
   ],
   "source": [
    "!unzip $BASE_DIR/postgres_shopify.zip"
   ]
  },
  {
   "cell_type": "markdown",
   "metadata": {},
   "source": [
    "### 3) Create the shopify tables"
   ]
  },
  {
   "cell_type": "code",
   "execution_count": 107,
   "metadata": {},
   "outputs": [
    {
     "name": "stdout",
     "output_type": "stream",
     "text": [
      "psql:/home/jupyter/snippets/postgres_shopify/create_postgres_tables.sql:1: NOTICE:  drop cascades to 7 other objects\n",
      "DETAIL:  drop cascades to table shopify.apps\n",
      "drop cascades to table shopify.apps_categories\n",
      "drop cascades to table shopify.categories\n",
      "drop cascades to table shopify.key_benefits\n",
      "drop cascades to table shopify.pricing_plans\n",
      "drop cascades to table shopify.pricing_plan_features\n",
      "drop cascades to table shopify.reviews\n",
      "DROP SCHEMA\n",
      "CREATE SCHEMA\n",
      "SET\n",
      "CREATE TABLE\n",
      "CREATE TABLE\n",
      "CREATE TABLE\n",
      "CREATE TABLE\n",
      "CREATE TABLE\n",
      "CREATE TABLE\n",
      "CREATE TABLE\n"
     ]
    }
   ],
   "source": [
    "!psql -c \"\\i $BASE_DIR/postgres_shopify/create_postgres_tables.sql\""
   ]
  },
  {
   "cell_type": "markdown",
   "metadata": {},
   "source": [
    "### 4) Describe the tables"
   ]
  },
  {
   "cell_type": "code",
   "execution_count": 108,
   "metadata": {},
   "outputs": [
    {
     "name": "stdout",
     "output_type": "stream",
     "text": [
      "                           Table \"shopify.apps\"\n",
      "     Column     |          Type           | Collation | Nullable | Default \n",
      "----------------+-------------------------+-----------+----------+---------\n",
      " id             | character(36)           |           | not null | \n",
      " url            | character varying(1000) |           |          | \n",
      " title          | character varying(2000) |           |          | \n",
      " developer      | character varying(100)  |           |          | \n",
      " developer_link | character varying(1000) |           |          | \n",
      " icon           | character varying(1000) |           |          | \n",
      " rating         | double precision        |           |          | \n",
      " reviews_count  | integer                 |           |          | \n",
      "Indexes:\n",
      "    \"apps_pkey\" PRIMARY KEY, btree (id)\n",
      "\n"
     ]
    }
   ],
   "source": [
    "!psql -c \"\\d shopify.apps\""
   ]
  },
  {
   "cell_type": "code",
   "execution_count": 109,
   "metadata": {},
   "outputs": [
    {
     "name": "stdout",
     "output_type": "stream",
     "text": [
      "               Table \"shopify.apps_categories\"\n",
      "   Column    |     Type      | Collation | Nullable | Default \n",
      "-------------+---------------+-----------+----------+---------\n",
      " app_id      | character(36) |           | not null | \n",
      " category_id | character(36) |           | not null | \n",
      "Indexes:\n",
      "    \"apps_categories_pkey\" PRIMARY KEY, btree (app_id, category_id)\n",
      "\n"
     ]
    }
   ],
   "source": [
    "!psql -c \"\\d shopify.apps_categories\""
   ]
  },
  {
   "cell_type": "code",
   "execution_count": 110,
   "metadata": {},
   "outputs": [
    {
     "name": "stdout",
     "output_type": "stream",
     "text": [
      "                    Table \"shopify.categories\"\n",
      " Column |          Type           | Collation | Nullable | Default \n",
      "--------+-------------------------+-----------+----------+---------\n",
      " id     | character(36)           |           | not null | \n",
      " title  | character varying(2000) |           |          | \n",
      "Indexes:\n",
      "    \"categories_pkey\" PRIMARY KEY, btree (id)\n",
      "\n"
     ]
    }
   ],
   "source": [
    "!psql -c \"\\d shopify.categories\""
   ]
  },
  {
   "cell_type": "code",
   "execution_count": 111,
   "metadata": {},
   "outputs": [
    {
     "name": "stdout",
     "output_type": "stream",
     "text": [
      "                      Table \"shopify.key_benefits\"\n",
      "   Column    |          Type           | Collation | Nullable | Default \n",
      "-------------+-------------------------+-----------+----------+---------\n",
      " app_id      | character(36)           |           | not null | \n",
      " title       | character varying(2000) |           | not null | \n",
      " description | character varying(2000) |           |          | \n",
      "Indexes:\n",
      "    \"key_benefits_pkey\" PRIMARY KEY, btree (app_id, title)\n",
      "\n"
     ]
    }
   ],
   "source": [
    "!psql -c \"\\d shopify.key_benefits\""
   ]
  },
  {
   "cell_type": "code",
   "execution_count": 112,
   "metadata": {},
   "outputs": [
    {
     "name": "stdout",
     "output_type": "stream",
     "text": [
      "                   Table \"shopify.pricing_plan_features\"\n",
      "     Column      |          Type           | Collation | Nullable | Default \n",
      "-----------------+-------------------------+-----------+----------+---------\n",
      " pricing_plan_id | character(36)           |           | not null | \n",
      " app_id          | character(36)           |           | not null | \n",
      " feature         | character varying(2000) |           | not null | \n",
      "Indexes:\n",
      "    \"pricing_plan_features_pkey\" PRIMARY KEY, btree (pricing_plan_id, app_id, feature)\n",
      "\n"
     ]
    }
   ],
   "source": [
    "!psql -c \"\\d shopify.pricing_plan_features\""
   ]
  },
  {
   "cell_type": "code",
   "execution_count": 113,
   "metadata": {},
   "outputs": [
    {
     "name": "stdout",
     "output_type": "stream",
     "text": [
      "                  Table \"shopify.pricing_plans\"\n",
      " Column |          Type          | Collation | Nullable | Default \n",
      "--------+------------------------+-----------+----------+---------\n",
      " id     | character(36)          |           | not null | \n",
      " app_id | character(36)          |           |          | \n",
      " title  | character varying(200) |           |          | \n",
      " price  | double precision       |           |          | \n",
      "Indexes:\n",
      "    \"pricing_plans_pkey\" PRIMARY KEY, btree (id)\n",
      "\n"
     ]
    }
   ],
   "source": [
    "!psql -c \"\\d shopify.pricing_plans\""
   ]
  },
  {
   "cell_type": "code",
   "execution_count": 114,
   "metadata": {},
   "outputs": [
    {
     "name": "stdout",
     "output_type": "stream",
     "text": [
      "                       Table \"shopify.reviews\"\n",
      "  Column   |          Type          | Collation | Nullable | Default \n",
      "-----------+------------------------+-----------+----------+---------\n",
      " app_id    | character(36)          |           | not null | \n",
      " author    | character varying(250) |           | not null | \n",
      " rating    | integer                |           |          | \n",
      " posted_at | date                   |           |          | \n",
      "Indexes:\n",
      "    \"reviews_pkey\" PRIMARY KEY, btree (app_id, author)\n",
      "\n"
     ]
    }
   ],
   "source": [
    "!psql -c \"\\d shopify.reviews\""
   ]
  },
  {
   "cell_type": "markdown",
   "metadata": {},
   "source": [
    "### 5. Populate the tables"
   ]
  },
  {
   "cell_type": "code",
   "execution_count": 115,
   "metadata": {},
   "outputs": [
    {
     "name": "stdout",
     "output_type": "stream",
     "text": [
      "Importing data into Cloud SQL instance...done.                                 \n",
      "Imported data from [gs://cs327e-open-access/postgres_shopify/apps.csv] into [https://sqladmin.googleapis.com/sql/v1beta4/projects/apt-subset-397505/instances/postgres].\n"
     ]
    }
   ],
   "source": [
    "!gcloud sql import csv $PGINSTANCE gs://cs327e-open-access/postgres_shopify/apps.csv --database=postgres --table=shopify.apps --quiet\n"
   ]
  },
  {
   "cell_type": "code",
   "execution_count": 116,
   "metadata": {},
   "outputs": [
    {
     "name": "stdout",
     "output_type": "stream",
     "text": [
      "Importing data into Cloud SQL instance...done.                                 \n",
      "Imported data from [gs://cs327e-open-access/postgres_shopify/apps_categories.csv] into [https://sqladmin.googleapis.com/sql/v1beta4/projects/apt-subset-397505/instances/postgres].\n"
     ]
    }
   ],
   "source": [
    "!gcloud sql import csv $PGINSTANCE gs://cs327e-open-access/postgres_shopify/apps_categories.csv --database=postgres --table=shopify.apps_categories --quiet\n"
   ]
  },
  {
   "cell_type": "code",
   "execution_count": 117,
   "metadata": {},
   "outputs": [
    {
     "name": "stdout",
     "output_type": "stream",
     "text": [
      "Importing data into Cloud SQL instance...done.                                 \n",
      "Imported data from [gs://cs327e-open-access/postgres_shopify/categories.csv] into [https://sqladmin.googleapis.com/sql/v1beta4/projects/apt-subset-397505/instances/postgres].\n"
     ]
    }
   ],
   "source": [
    "!gcloud sql import csv $PGINSTANCE gs://cs327e-open-access/postgres_shopify/categories.csv --database=postgres --table=shopify.categories --quiet\n"
   ]
  },
  {
   "cell_type": "code",
   "execution_count": 118,
   "metadata": {},
   "outputs": [
    {
     "name": "stdout",
     "output_type": "stream",
     "text": [
      "Importing data into Cloud SQL instance...done.                                 \n",
      "Imported data from [gs://cs327e-open-access/postgres_shopify/key_benefits.csv] into [https://sqladmin.googleapis.com/sql/v1beta4/projects/apt-subset-397505/instances/postgres].\n"
     ]
    }
   ],
   "source": [
    "!gcloud sql import csv $PGINSTANCE gs://cs327e-open-access/postgres_shopify/key_benefits.csv --database=postgres --table=shopify.key_benefits --quiet\n"
   ]
  },
  {
   "cell_type": "code",
   "execution_count": 119,
   "metadata": {},
   "outputs": [
    {
     "name": "stdout",
     "output_type": "stream",
     "text": [
      "Importing data into Cloud SQL instance...done.                                 \n",
      "Imported data from [gs://cs327e-open-access/postgres_shopify/pricing_plans.csv] into [https://sqladmin.googleapis.com/sql/v1beta4/projects/apt-subset-397505/instances/postgres].\n"
     ]
    }
   ],
   "source": [
    "!gcloud sql import csv $PGINSTANCE gs://cs327e-open-access/postgres_shopify/pricing_plans.csv --database=postgres --table=shopify.pricing_plans --quiet\n"
   ]
  },
  {
   "cell_type": "code",
   "execution_count": 120,
   "metadata": {},
   "outputs": [
    {
     "name": "stdout",
     "output_type": "stream",
     "text": [
      "Importing data into Cloud SQL instance...done.                                 \n",
      "Imported data from [gs://cs327e-open-access/postgres_shopify/pricing_plan_features.csv] into [https://sqladmin.googleapis.com/sql/v1beta4/projects/apt-subset-397505/instances/postgres].\n"
     ]
    }
   ],
   "source": [
    "!gcloud sql import csv $PGINSTANCE gs://cs327e-open-access/postgres_shopify/pricing_plan_features.csv --database=postgres --table=shopify.pricing_plan_features --quiet\n"
   ]
  },
  {
   "cell_type": "code",
   "execution_count": 121,
   "metadata": {},
   "outputs": [
    {
     "name": "stdout",
     "output_type": "stream",
     "text": [
      "Importing data into Cloud SQL instance...done.                                 \n",
      "Imported data from [gs://cs327e-open-access/postgres_shopify/reviews.csv] into [https://sqladmin.googleapis.com/sql/v1beta4/projects/apt-subset-397505/instances/postgres].\n"
     ]
    }
   ],
   "source": [
    "!gcloud sql import csv $PGINSTANCE gs://cs327e-open-access/postgres_shopify/reviews.csv --database=postgres --table=shopify.reviews --quiet\n"
   ]
  },
  {
   "cell_type": "markdown",
   "metadata": {},
   "source": [
    "### 5. Get a record count for each table"
   ]
  },
  {
   "cell_type": "code",
   "execution_count": 122,
   "metadata": {},
   "outputs": [
    {
     "name": "stdout",
     "output_type": "stream",
     "text": [
      " count \n",
      "-------\n",
      "  3547\n",
      "(1 row)\n",
      "\n"
     ]
    }
   ],
   "source": [
    "!psql -c \"select count(*) from shopify.apps\""
   ]
  },
  {
   "cell_type": "code",
   "execution_count": 123,
   "metadata": {},
   "outputs": [
    {
     "name": "stdout",
     "output_type": "stream",
     "text": [
      " count \n",
      "-------\n",
      "  5383\n",
      "(1 row)\n",
      "\n"
     ]
    }
   ],
   "source": [
    "!psql -c \"select count(*) from shopify.apps_categories\""
   ]
  },
  {
   "cell_type": "code",
   "execution_count": 124,
   "metadata": {},
   "outputs": [
    {
     "name": "stdout",
     "output_type": "stream",
     "text": [
      " count \n",
      "-------\n",
      "    12\n",
      "(1 row)\n",
      "\n"
     ]
    }
   ],
   "source": [
    "!psql -c \"select count(*) from shopify.categories\""
   ]
  },
  {
   "cell_type": "code",
   "execution_count": 125,
   "metadata": {},
   "outputs": [
    {
     "name": "stdout",
     "output_type": "stream",
     "text": [
      " count \n",
      "-------\n",
      "  9541\n",
      "(1 row)\n",
      "\n"
     ]
    }
   ],
   "source": [
    "!psql -c \"select count(*) from shopify.key_benefits\""
   ]
  },
  {
   "cell_type": "code",
   "execution_count": 126,
   "metadata": {},
   "outputs": [
    {
     "name": "stdout",
     "output_type": "stream",
     "text": [
      " count \n",
      "-------\n",
      " 16270\n",
      "(1 row)\n",
      "\n"
     ]
    }
   ],
   "source": [
    "!psql -c \"select count(*) from shopify.pricing_plan_features\""
   ]
  },
  {
   "cell_type": "code",
   "execution_count": 127,
   "metadata": {},
   "outputs": [
    {
     "name": "stdout",
     "output_type": "stream",
     "text": [
      " count \n",
      "-------\n",
      "  6275\n",
      "(1 row)\n",
      "\n"
     ]
    }
   ],
   "source": [
    "!psql -c \"select count(*) from shopify.pricing_plans\""
   ]
  },
  {
   "cell_type": "code",
   "execution_count": 128,
   "metadata": {},
   "outputs": [
    {
     "name": "stdout",
     "output_type": "stream",
     "text": [
      " count  \n",
      "--------\n",
      " 124601\n",
      "(1 row)\n",
      "\n"
     ]
    }
   ],
   "source": [
    "!psql -c \"select count(*) from shopify.reviews\""
   ]
  },
  {
   "cell_type": "markdown",
   "metadata": {},
   "source": [
    "### 6. Sample the tables"
   ]
  },
  {
   "cell_type": "code",
   "execution_count": 129,
   "metadata": {},
   "outputs": [
    {
     "name": "stdout",
     "output_type": "stream",
     "text": [
      "                  id                  |                         url                         |             title             |         developer          |                        developer_link                        |                                                                   icon                                                                   | rating | reviews_count \n",
      "--------------------------------------+-----------------------------------------------------+-------------------------------+----------------------------+--------------------------------------------------------------+------------------------------------------------------------------------------------------------------------------------------------------+--------+---------------\n",
      " 683d06af-14c7-4733-9bde-ec5b699af886 | https://apps.shopify.com/facebook-store             | Facebook Shop channel         | Shopify                    | https://apps.shopify.com/partners/shopify                    | https://apps.shopifycdn.com/listing_images/d89827eee683b30743dab8a8c3a4c56f/icon/dd3e663d67c894a34a325ea819404950.png?height=84&width=84 |    2.5 |           542\n",
      " 562a0052-f1de-4919-896f-546e453f33cd | https://apps.shopify.com/mailerlite-email-marketing | MailerLite Email Marketing    | MailerLite                 | https://apps.shopify.com/partners/ml-newsletters             | https://apps.shopifycdn.com/listing_images/d2555aedca494035e9b9d9858d099a54/icon/683e7a27f031a872269521e7b111c1f1.png?height=84&width=84 |      3 |            49\n",
      " c35c71f4-eeb3-4ff8-856a-f7e2b89aca32 | https://apps.shopify.com/syncommerce                | SynCommerce                   | Mavericks Technologies Ltd | https://apps.shopify.com/partners/mavericks-technologies-ltd | https://apps.shopifycdn.com/listing_images/3cd18d1611d08c8929f8075714568dae/icon/cd4f6576761844c4ddd5b5c1d030aa36.png?height=84&width=84 |      3 |            81\n",
      " 7a282c82-620e-4b4b-955a-e91a2fbb0d9e | https://apps.shopify.com/wanelo                     | Wanelo                        | Wanelo                     | https://apps.shopify.com/partners/wanelo                     | https://apps.shopifycdn.com/listing_images/dfa55da6d6d34532879d7ac598377529/icon/f4ead108b5fd2b4b469105f4b27c6dae.png?height=84&width=84 |      3 |           190\n",
      " befdf234-4b61-474b-b0b8-bf6dc59db2be | https://apps.shopify.com/adroll-retargeting         | AdRoll Ads & Retargeting      | AdRoll                     | https://apps.shopify.com/partners/adroll                     | https://apps.shopifycdn.com/listing_images/6ebaf39a3592a11d95d4436f522e6bc0/icon/007f106ab4a5209c3560c749e94c6990.png?height=84&width=84 |    3.5 |           132\n",
      " fc4456a8-ed08-4b9a-8fcb-2cb4563fbac2 | https://apps.shopify.com/slider-app-by-hulkapps     | Image Slider & Hero Banner    | HulkApps.com               | https://apps.shopify.com/partners/hulk-code                  | https://apps.shopifycdn.com/listing_images/b615ad79a257362bf563dc990736a75d/icon/f6713fdb379be502586ad25defa52a20.png?height=84&width=84 |    3.5 |            44\n",
      " bb04a615-7645-4ddc-a1fd-ed6fef501a0d | https://apps.shopify.com/affiliate                  | AAA ‑ Affiliate Marketing PRO | AAAeCommerce Inc           | https://apps.shopify.com/partners/aaawebstore                | https://apps.shopifycdn.com/listing_images/b40df7fe45d61bc27de4de04cf83cbae/icon/a9254e3723c0c60e3bc7093d077aa587.png?height=84&width=84 |    3.5 |            34\n",
      "(7 rows)\n",
      "\n"
     ]
    }
   ],
   "source": [
    "!psql -c \"select * from shopify.apps limit 7\""
   ]
  },
  {
   "cell_type": "code",
   "execution_count": 130,
   "metadata": {},
   "outputs": [
    {
     "name": "stdout",
     "output_type": "stream",
     "text": [
      "                app_id                |             category_id              \n",
      "--------------------------------------+--------------------------------------\n",
      " 94e751e2-eb8f-42c1-810d-bddb71ed6cbd | 26a72de0d02e0e4e5f615332d61a878e    \n",
      " 43850ba2-302f-40cc-8140-5835f2fe7a1b | 26a72de0d02e0e4e5f615332d61a878e    \n",
      " 4c0d0351-6764-4332-b1e4-caa746b3eca9 | 26a72de0d02e0e4e5f615332d61a878e    \n",
      " 9b4045ac-dff1-4933-9cb6-6a9cb6a0bf65 | 26a72de0d02e0e4e5f615332d61a878e    \n",
      " dcd5271f-0ccf-4822-84f6-4b38208bf6ef | 26a72de0d02e0e4e5f615332d61a878e    \n",
      " c7a86427-c015-4b1f-92e2-6b0aa2151070 | 26a72de0d02e0e4e5f615332d61a878e    \n",
      " da63498e-5d98-44a6-9f28-f43e53457be7 | 26a72de0d02e0e4e5f615332d61a878e    \n",
      "(7 rows)\n",
      "\n"
     ]
    }
   ],
   "source": [
    "!psql -c \"select * from shopify.apps_categories limit 7\""
   ]
  },
  {
   "cell_type": "code",
   "execution_count": 131,
   "metadata": {},
   "outputs": [
    {
     "name": "stdout",
     "output_type": "stream",
     "text": [
      "                  id                  |               title               \n",
      "--------------------------------------+-----------------------------------\n",
      " 64430ad2835be8ad60c59e7d44e4b0b1     | Customer support\n",
      " 737ad50051083aa051d127a53b3ac0da     | Productivity\n",
      " 30a930262efca129caafcd586bc7e6fe     | Places to sell\n",
      " 30ea2315e910c5e5335de42d5e87dca5     | Orders and shipping\n",
      " c769c2bd15500dd906102d9be97fdceb     | Marketing\n",
      " 26a72de0d02e0e4e5f615332d61a878e     | Finances\n",
      " 5eb4e29e50e3f178acc614236ed107f4     | Sales and conversion optimization\n",
      "(7 rows)\n",
      "\n"
     ]
    }
   ],
   "source": [
    "!psql -c \"select * from shopify.categories limit 7\""
   ]
  },
  {
   "cell_type": "code",
   "execution_count": 132,
   "metadata": {},
   "outputs": [
    {
     "name": "stdout",
     "output_type": "stream",
     "text": [
      "                app_id                |             title              |                                                                 description                                                                  \n",
      "--------------------------------------+--------------------------------+----------------------------------------------------------------------------------------------------------------------------------------------\n",
      " 00289a9f-9f12-45b1-963b-67e78403f7c7 | Improve order size             | Increase your Sales and Order Size\n",
      " 00289a9f-9f12-45b1-963b-67e78403f7c7 | Multiple Upsells and Triggers  | After Add to Cart, Checkout Popup, or Exit Intent\n",
      " 00289a9f-9f12-45b1-963b-67e78403f7c7 | Add more products to cart      | Upsell and Cross-Sell Popups\n",
      " 00312cea-3595-4d65-a60d-6e8e5b7d6897 | Best-in-class website security | Protect your Shopify store with best-in-class security. New Shop Protector Plus available to invisibly block bots in background (read more).\n",
      " 00312cea-3595-4d65-a60d-6e8e5b7d6897 | Guards against account fraud   | Your Shopify store traffic is analyzed in real time to protect against fake account creation and potentially fraudulent activity.\n",
      " 00312cea-3595-4d65-a60d-6e8e5b7d6897 | Eliminates annoying form spam  | Shop Protector prevents bots from filling out forms. Stop those annoying contact form and newsletter sign-up spam submissions.\n",
      " 003b3dbd-1295-48cb-a3e8-8f3a0e8fc6df | Reduce shopping time           | Reduce shopping time, and improve customer experience. Increase your sales.\n",
      "(7 rows)\n",
      "\n"
     ]
    }
   ],
   "source": [
    "!psql -c \"select * from shopify.key_benefits limit 7\""
   ]
  },
  {
   "cell_type": "code",
   "execution_count": 157,
   "metadata": {},
   "outputs": [
    {
     "name": "stdout",
     "output_type": "stream",
     "text": [
      "                  id                  |                app_id                |    title     | price \n",
      "--------------------------------------+--------------------------------------+--------------+-------\n",
      " e2d05fe1-12c2-4438-b7c8-516d458ffbbd | ae6220e4-55d4-404c-922c-bafb3bd2d078 | Enterprise+  |  2500\n",
      " ba3964a9-b77b-4fd1-b947-1f794fe07539 | 590d0eb3-3de1-4478-b4c2-305c9a6e0e5f |              |  2000\n",
      " af06dc90-dedf-4342-be65-b48525fc5996 | 1eee9d0b-f542-4422-96cf-48316fc7f080 | Enterprise   |  1950\n",
      " a786c4d2-6608-4e1a-9480-6c54774e60e6 | 93c595ca-5cd6-40b0-893e-450d5d816e79 | ENTERPRISE   |  1600\n",
      " f90dbe24-e6b4-481b-b872-e1eaa5ab4d79 | b26b4cc9-271b-4646-9a61-09ab632bf05a | Enterprise   |  1499\n",
      " 7de2a3a3-bffa-4023-a233-10fcdeb0a0e0 | 9243fb31-9ef0-4829-b01b-2e4ed68d3d27 | Professional |  1499\n",
      " b7759913-fefb-48a1-829e-428c755e19e0 | bede3965-7dd4-448c-8329-c1bf84c5913d | Unlimited    |  1200\n",
      "(7 rows)\n",
      "\n"
     ]
    }
   ],
   "source": [
    "!psql -c \"select * from shopify.pricing_plans limit 7\""
   ]
  },
  {
   "cell_type": "code",
   "execution_count": 134,
   "metadata": {},
   "outputs": [
    {
     "name": "stdout",
     "output_type": "stream",
     "text": [
      "           pricing_plan_id            |                app_id                |                feature                 \n",
      "--------------------------------------+--------------------------------------+----------------------------------------\n",
      " 746bc28d-5bc5-42cb-9d59-1b19c9a8301d | 00312cea-3595-4d65-a60d-6e8e5b7d6897 | Reduce Bot-Based Fraud\n",
      " 746bc28d-5bc5-42cb-9d59-1b19c9a8301d | 00312cea-3595-4d65-a60d-6e8e5b7d6897 | Bulk Cancel Orders\n",
      " 746bc28d-5bc5-42cb-9d59-1b19c9a8301d | 00312cea-3595-4d65-a60d-6e8e5b7d6897 | Configurable Rules for Auto-mitigation\n",
      " 746bc28d-5bc5-42cb-9d59-1b19c9a8301d | 00312cea-3595-4d65-a60d-6e8e5b7d6897 | Checkout Protection\n",
      " 746bc28d-5bc5-42cb-9d59-1b19c9a8301d | 00312cea-3595-4d65-a60d-6e8e5b7d6897 | (Includes all SP Basic Features...)\n",
      " 8215de67-2fbe-4504-885e-ab1aff7fa31a | 00312cea-3595-4d65-a60d-6e8e5b7d6897 | Fake Account Prevention\n",
      " 8215de67-2fbe-4504-885e-ab1aff7fa31a | 00312cea-3595-4d65-a60d-6e8e5b7d6897 | Form Spam Protection\n",
      "(7 rows)\n",
      "\n"
     ]
    }
   ],
   "source": [
    "!psql -c \"select * from shopify.pricing_plan_features limit 7\""
   ]
  },
  {
   "cell_type": "code",
   "execution_count": 135,
   "metadata": {},
   "outputs": [
    {
     "name": "stdout",
     "output_type": "stream",
     "text": [
      "                app_id                |         author         | rating | posted_at  \n",
      "--------------------------------------+------------------------+--------+------------\n",
      " 00289a9f-9f12-45b1-963b-67e78403f7c7 | Hellobeanies           |      5 | 2017-09-01\n",
      " 00289a9f-9f12-45b1-963b-67e78403f7c7 | Pdmovie                |      1 | 2016-10-09\n",
      " 00289a9f-9f12-45b1-963b-67e78403f7c7 | Mommymakeup            |      1 | 2016-11-17\n",
      " 00289a9f-9f12-45b1-963b-67e78403f7c7 | The King Herb Enhancer |      5 | 2016-12-01\n",
      " 00289a9f-9f12-45b1-963b-67e78403f7c7 | Training Top           |      4 | 2018-05-02\n",
      " 005d6c7a-9eb9-4b35-bdd4-040d383e86cf | Natural Vegan          |      5 | 2019-11-15\n",
      " 005d6c7a-9eb9-4b35-bdd4-040d383e86cf | Munchiecat             |      5 | 2019-08-20\n",
      "(7 rows)\n",
      "\n"
     ]
    }
   ],
   "source": [
    "!psql -c \"select * from shopify.reviews limit 7\""
   ]
  },
  {
   "cell_type": "markdown",
   "metadata": {},
   "source": [
    "### Prompt 1: Create the Foreign Keys\n",
    "#### Hint: `alter table shopify.apps_categories add foreign key (app_id) REFERENCES shopify.apps (id);`"
   ]
  },
  {
   "cell_type": "code",
   "execution_count": 136,
   "metadata": {},
   "outputs": [
    {
     "name": "stdout",
     "output_type": "stream",
     "text": [
      "ALTER TABLE\n"
     ]
    }
   ],
   "source": [
    "!psql -c \"alter table shopify.apps_categories add foreign key (app_id) REFERENCES shopify.apps (id)\""
   ]
  },
  {
   "cell_type": "code",
   "execution_count": 137,
   "metadata": {},
   "outputs": [
    {
     "name": "stdout",
     "output_type": "stream",
     "text": [
      "ALTER TABLE\n"
     ]
    }
   ],
   "source": [
    "!psql -c \"alter table shopify.apps_categories add foreign key (category_id) REFERENCES shopify.categories (id)\""
   ]
  },
  {
   "cell_type": "code",
   "execution_count": 138,
   "metadata": {},
   "outputs": [
    {
     "name": "stdout",
     "output_type": "stream",
     "text": [
      "ALTER TABLE\n"
     ]
    }
   ],
   "source": [
    "!psql -c \"alter table shopify.key_benefits add foreign key (app_id) REFERENCES shopify.apps (id)\""
   ]
  },
  {
   "cell_type": "code",
   "execution_count": 139,
   "metadata": {},
   "outputs": [
    {
     "name": "stdout",
     "output_type": "stream",
     "text": [
      "ALTER TABLE\n"
     ]
    }
   ],
   "source": [
    "!psql -c \"alter table shopify.pricing_plans add foreign key (app_id) REFERENCES shopify.apps (id)\""
   ]
  },
  {
   "cell_type": "code",
   "execution_count": 140,
   "metadata": {},
   "outputs": [
    {
     "name": "stdout",
     "output_type": "stream",
     "text": [
      "ALTER TABLE\n"
     ]
    }
   ],
   "source": [
    "!psql -c \"alter table shopify.pricing_plan_features add foreign key (app_id) REFERENCES shopify.apps (id)\""
   ]
  },
  {
   "cell_type": "code",
   "execution_count": 141,
   "metadata": {},
   "outputs": [
    {
     "name": "stdout",
     "output_type": "stream",
     "text": [
      "ALTER TABLE\n"
     ]
    }
   ],
   "source": [
    "!psql -c \"alter table shopify.pricing_plan_features add foreign key (pricing_plan_id) REFERENCES shopify.pricing_plans (id)\""
   ]
  },
  {
   "cell_type": "code",
   "execution_count": 142,
   "metadata": {},
   "outputs": [
    {
     "name": "stdout",
     "output_type": "stream",
     "text": [
      "ALTER TABLE\n"
     ]
    }
   ],
   "source": [
    "!psql -c \"alter table shopify.reviews add foreign key (app_id) REFERENCES shopify.apps (id)\""
   ]
  },
  {
   "cell_type": "markdown",
   "metadata": {},
   "source": [
    "### 7. Run in a transaction:\n",
    "#### Insert a new Shopify app"
   ]
  },
  {
   "cell_type": "code",
   "execution_count": 7,
   "metadata": {},
   "outputs": [
    {
     "name": "stdout",
     "output_type": "stream",
     "text": [
      "SET\n",
      "BEGIN\n",
      "INSERT 0 1\n",
      "INSERT 0 1\n",
      "INSERT 0 1\n",
      "INSERT 0 1\n",
      "INSERT 0 1\n",
      "INSERT 0 1\n",
      "COMMIT\n"
     ]
    }
   ],
   "source": [
    "!psql -c \"\\i $BASE_DIR/postgres_shopify/insert_tx.sql\""
   ]
  },
  {
   "cell_type": "markdown",
   "metadata": {},
   "source": [
    "### Prompt 2: Run in a transaction\n",
    "#### 1) Get a record count of the pricing plans whose price > 0. \n",
    "#### 2) In a transaction, perform the following logic:\n",
    "#####    -update pricing plans to half of their price value if their price > 0. \n",
    "#####    -update the title of the pricing plans whose price > 0 by adding the suffix ' Half Price' to the current title. Use the `concat(str1, str2)` function to update the title. "
   ]
  },
  {
   "cell_type": "code",
   "execution_count": 144,
   "metadata": {},
   "outputs": [
    {
     "name": "stdout",
     "output_type": "stream",
     "text": [
      "SET\n",
      "BEGIN\n",
      "UPDATE 4780\n",
      "UPDATE 4780\n",
      "COMMIT\n"
     ]
    }
   ],
   "source": [
    "!psql -c \"\\i $BASE_DIR/postgres_shopify/update_tx.sql\""
   ]
  },
  {
   "cell_type": "markdown",
   "metadata": {
    "tags": []
   },
   "source": [
    "### Prompt 3: Run in a transaction\n",
    "#### Delete the Shopify apps record for id = '683d06af-14c7-4733-9bde-ec5b699af996' and all of its related records. Hint: you should be deleting records from 5 tables. "
   ]
  },
  {
   "cell_type": "code",
   "execution_count": 145,
   "metadata": {},
   "outputs": [
    {
     "name": "stdout",
     "output_type": "stream",
     "text": [
      "SET\n",
      "BEGIN\n",
      "DELETE 1\n",
      "DELETE 1\n",
      "DELETE 1\n",
      "DELETE 1\n",
      "DELETE 1\n",
      "COMMIT\n"
     ]
    }
   ],
   "source": [
    "!psql -c \"\\i $BASE_DIR/postgres_shopify/update_tx2.sql\""
   ]
  },
  {
   "cell_type": "markdown",
   "metadata": {
    "tags": []
   },
   "source": [
    "## Begin Project 3 Work"
   ]
  },
  {
   "cell_type": "markdown",
   "metadata": {},
   "source": [
    "#### Insert Transaction - insert a new pricing plan for Shopify's Oberlo dropshipping app"
   ]
  },
  {
   "cell_type": "code",
   "execution_count": 146,
   "metadata": {},
   "outputs": [
    {
     "name": "stdout",
     "output_type": "stream",
     "text": [
      "SET\n",
      "BEGIN\n",
      "INSERT 0 1\n",
      "INSERT 0 1\n",
      "COMMIT\n"
     ]
    }
   ],
   "source": [
    "!psql -c \"\\i $BASE_DIR/project3_tx/insert_tx.sql\""
   ]
  },
  {
   "cell_type": "markdown",
   "metadata": {},
   "source": [
    "#### Update Transaction - updates pricing plans to remove the half price deal"
   ]
  },
  {
   "cell_type": "code",
   "execution_count": 149,
   "metadata": {},
   "outputs": [
    {
     "name": "stdout",
     "output_type": "stream",
     "text": [
      "SET\n",
      "BEGIN\n",
      "UPDATE 4779\n",
      "UPDATE 4779\n",
      "COMMIT\n"
     ]
    }
   ],
   "source": [
    "!psql -c \"\\i $BASE_DIR/project3_tx/update_tx.sql\""
   ]
  },
  {
   "cell_type": "markdown",
   "metadata": {},
   "source": [
    "#### Delete Transaction - delete apps with a non-zero rating below 2"
   ]
  },
  {
   "cell_type": "code",
   "execution_count": 6,
   "metadata": {},
   "outputs": [
    {
     "name": "stdout",
     "output_type": "stream",
     "text": [
      "SET\n",
      "BEGIN\n",
      "DELETE 145\n",
      "DELETE 224\n",
      "DELETE 180\n",
      "DELETE 132\n",
      "DELETE 127\n",
      "DELETE 99\n",
      "COMMIT\n"
     ]
    }
   ],
   "source": [
    "!psql -c \"\\i $BASE_DIR/project3_tx/delete_tx.sql\""
   ]
  },
  {
   "cell_type": "code",
   "execution_count": 151,
   "metadata": {},
   "outputs": [
    {
     "name": "stdout",
     "output_type": "stream",
     "text": [
      "                  id                  |        developer         | rating | reviews_count \n",
      "--------------------------------------+--------------------------+--------+---------------\n",
      " f5344e64-9cda-4d97-b198-2aaeb5170518 | Modd Apps Inc.           |      5 |           223\n",
      " c7578030-19fd-42e1-a5a5-03c7861220aa | Onjection Labs           |      5 |           219\n",
      " d0be03ff-f74d-4fb5-8d2c-79541a1aea1b | Excelify.io              |      5 |           178\n",
      " bb0ec62d-8a5d-45a5-bd46-48fbcb888077 | Kapusta Technologies Ltd |      5 |           170\n",
      " 4d6b0f1b-12b1-43d6-af33-c3c006a31da7 | Power Tools              |      5 |           150\n",
      " f99bb1e3-f326-4f10-8901-491652e9809b | Union Works Apps         |      5 |            68\n",
      " 6bbcc4a2-eeb5-4d58-9ce5-f4cf2d4dd0d4 | Ablestar                 |    4.9 |           103\n",
      " d3a6d93c-4463-4533-a712-29addc0b5a8b | Boltics                  |    4.9 |            95\n",
      " e8a37cbe-79da-4062-b4af-f84e749ce125 | Syncio                   |    4.9 |            68\n",
      " 80a8218e-0cf9-4836-a77b-bff73900e935 | Hextom                   |    4.8 |          1064\n",
      " 3aaf2fed-7c5e-4330-9287-db50e5268515 | Firepush                 |    4.8 |           667\n",
      " bfb764b5-e564-4a45-aae6-e2b6ef2b1a4f | Gorgias                  |    4.8 |           253\n",
      " 3541d4d3-2963-49b8-b650-a64825b9c202 | Buymaxx                  |    4.8 |           250\n",
      " 64f79147-e18d-4209-9374-b0dae65ee873 | How Many Steps Inc.      |    4.8 |           141\n",
      " cf733da2-6b5e-44af-94df-2d5c3b8e2502 | Hextom                   |    4.8 |           131\n",
      " 80a731d2-e2a2-4922-92a6-c07ea2b964e1 | Power Tools              |    4.8 |            88\n",
      " 5f3279fc-5759-43a5-9abf-60ef82372bee | AfterShip + Automizely   |    4.7 |           981\n",
      " 797060ad-17d6-4e46-a728-8ecafddb6c64 | Stock Sync               |    4.7 |           490\n",
      " c6a38c5a-5d32-4aea-9f93-4139d69fe007 | Vela                     |    4.7 |           171\n",
      " 2365cbd0-e7a8-4678-9948-f4fb1bb7342f | SpurIT                   |    4.7 |            98\n",
      " 35e449e0-7f4a-4831-bb36-ce8951794f5a | Webify Technology        |    4.6 |           132\n",
      " 032eeb26-b9af-4565-8cce-d72e5abcbc03 | Autoketing               |    4.6 |           103\n",
      " 3cee061e-48ed-4270-9925-3a12c5af3824 | Stock Sync               |    4.6 |            61\n",
      " 9598b415-bd16-477e-a425-85d1e06d94d9 | SpurIT                   |    4.5 |            81\n",
      " 9c05a5b1-2d1b-4282-9006-8c8f6c6b378b | Sellbrite                |    4.4 |            98\n",
      " e29ca127-1b96-48ec-8baf-7609b656c98b | Kit CRM                  |    4.3 |          1306\n",
      " b4a76da2-f312-491a-8e65-e3c69abd2544 | Orderimp                 |    4.1 |            60\n",
      "(27 rows)\n",
      "\n"
     ]
    }
   ],
   "source": [
    "!psql -c \"select a.id, developer, rating, reviews_count from shopify.apps a join shopify.apps_categories cp on a.id = cp.app_id join shopify.categories c on c.id = cp.category_id where c.title = 'Productivity' and rating >= 4.0 and reviews_count >= 50 order by rating desc, reviews_count desc\""
   ]
  },
  {
   "cell_type": "code",
   "execution_count": 9,
   "metadata": {},
   "outputs": [
    {
     "name": "stdout",
     "output_type": "stream",
     "text": [
      " count \n",
      "-------\n",
      "     1\n",
      "(1 row)\n",
      "\n"
     ]
    }
   ],
   "source": [
    "!psql -c \"select count(*) from shopify.apps a full join shopify.pricing_plans p on a.id = p.app_id where a.id is null or p.id is null\""
   ]
  },
  {
   "cell_type": "code",
   "execution_count": 153,
   "metadata": {},
   "outputs": [
    {
     "name": "stdout",
     "output_type": "stream",
     "text": [
      "                  id                  |             developer             |             title              | rating \n",
      "--------------------------------------+-----------------------------------+--------------------------------+--------\n",
      " 1c68fab5-7df6-4fb8-90ee-c8ad03d48747 | App Developer Group               | Ordering Rules ‑ Fraud Blocker |      5\n",
      " 607e2d30-1385-4826-a3a6-1fba0ffca7a8 | beeclever                         | Embargo Shield                 |      5\n",
      " 65b22742-6a8b-4c4f-b8f2-33025f1a1e6c | Coupo                             | Coupo Trust Badge              |      5\n",
      " 8785d00f-6652-495d-a5e8-18e488e42839 | LitExtension                      | LitExtension Store Migration   |      5\n",
      " 3ea45eed-1606-4be5-a93c-21ecbc9f413f | Dimension Software                | Passwordless Social Login      |      5\n",
      " 6d830a4d-bda6-4a91-b1a0-80a124cc7290 | CedCommerce                       | Omni Migrator                  |      5\n",
      " 6ca391f3-cd0f-4059-a436-50b4ab238212 | iSenseLabs                        | Free GDPR + Cookie Management  |      5\n",
      " 95368b79-2ca2-4eeb-a02d-a2484275d46a | Varinode, Inc.                    | TRUST                          |    4.9\n",
      " 30b2e816-061c-46f5-afa5-9f2c94c344e5 | Accentuate Digital                | Accentuate Custom Fields       |    4.9\n",
      " c578d9da-7776-4d7d-86b6-9efe431d9c9c | 256 Development                   | Metafields Guru                |    4.9\n",
      " 30402fc6-2cce-4217-b594-8bb7a84e5208 | Booster Apps                      | Trust Hero ‑ FREE Trust Badges |    4.8\n",
      " 7dec7abb-d616-4d11-889b-a286445ef257 | Wholesale Helper                  | Wholesale Lock Manager         |    4.8\n",
      " 70bff9e0-4316-4cc6-84ce-92fcd1bc6925 | Booster Apps                      | EU Cookie Bar ‑ Cookie GDPR    |    4.7\n",
      " 50aaa827-1a4f-4ffd-8bd6-8e6aade34853 | TrustedSite                       | TrustedSite                    |    4.6\n",
      " 00312cea-3595-4d65-a60d-6e8e5b7d6897 | Human Presence Technology         | Shop Protector                 |    4.3\n",
      " 50c93b6e-3b16-4eeb-afd8-b3d883f49c79 | webserviceXXL                     | Terms Confirmation Checkbox    |    4.3\n",
      " 967aa13b-bd5a-4397-8bee-ceaf52772288 | Vilango GmbH + Trusted Shops GmbH | Trustbadge: Reviews Toolkit    |    4.1\n",
      " f6961d6d-ae13-45a9-bbf9-f2a670840ec2 | Shopify                           | Fraud Filter                   |    3.3\n",
      " 9906834d-1323-4033-a3e6-976448273c27 | Shoptigrator                      | Zero Spam Contact Form         |      3\n",
      " 3ebc2404-f110-4b83-b4cf-e22a8d7f4401 | Booster Apps                      | Store Scanner Hero             |    2.3\n",
      " 822217d1-a882-4293-b681-ce29b37c8e7f | Zestard Technologies Pvt Ltd      | Anywhere Custom Forms          |      0\n",
      " e0399fb4-5678-48ef-b8b8-21ea2cad1317 | Coalition, Inc.                   | Cyber Insurance                |      0\n",
      " e0399fb4-5678-48ef-b8b8-21ea2cad1317 | Coalition, Inc.                   | Cyber Insurance                |      0\n",
      " c09427b5-eb85-4944-a8de-ab664ceb9d3c | Alchemative (SMC-PVT) LTD         | Call Courier                   |      0\n",
      "(24 rows)\n",
      "\n"
     ]
    }
   ],
   "source": [
    "!psql -c \"select a.id, developer, a.title, rating from shopify.apps a join shopify.key_benefits k on a.id = k.app_id where k.title like '%security%' or k.description like '%security%' or k.title like '%Security%' or k.description like '%Security%' order by rating desc\""
   ]
  }
 ],
 "metadata": {
  "environment": {
   "kernel": "conda-root-py",
   "name": "workbench-notebooks.m110",
   "type": "gcloud",
   "uri": "gcr.io/deeplearning-platform-release/workbench-notebooks:m110"
  },
  "kernelspec": {
   "display_name": "Python 3",
   "language": "python",
   "name": "conda-root-py"
  },
  "language_info": {
   "codemirror_mode": {
    "name": "ipython",
    "version": 3
   },
   "file_extension": ".py",
   "mimetype": "text/x-python",
   "name": "python",
   "nbconvert_exporter": "python",
   "pygments_lexer": "ipython3",
   "version": "3.10.12"
  }
 },
 "nbformat": 4,
 "nbformat_minor": 4
}
